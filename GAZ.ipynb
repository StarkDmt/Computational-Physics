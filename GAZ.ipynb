{
 "cells": [
  {
   "cell_type": "markdown",
   "metadata": {},
   "source": [
    "# ГАЗ"
   ]
  },
  {
   "cell_type": "markdown",
   "metadata": {},
   "source": [
    "Это считает разницу площадей двух кривулек"
   ]
  },
  {
   "cell_type": "code",
   "execution_count": 39,
   "metadata": {},
   "outputs": [],
   "source": [
    "import numpy as np\n",
    "\n",
    "import matplotlib.pyplot as plt\n",
    "from collections import namedtuple\n",
    "from scipy import optimize\n",
    "from scipy import integrate\n",
    "\n",
    "tau = 0.85\n",
    "\n",
    "def matrix (a0, a1, a2):\n",
    "    matr = [[0, 0, -a0], [1, 0, -a1], [0,1, -a2]]\n",
    "    matr = np.asarray(matr)\n",
    "    return matr\n",
    "\n",
    "def roots (matrix):\n",
    "    e, v = np.linalg.eig(matrix)\n",
    "    return np.real(e)\n",
    "\n",
    "def integral_diff(f, a, b, p):\n",
    "    return (integrate.quad(f, a, b)[0] - p * (b - a))"
   ]
  },
  {
   "cell_type": "markdown",
   "metadata": {},
   "source": [
    "Это бинпоиском выбирает правильный срез"
   ]
  },
  {
   "cell_type": "code",
   "execution_count": 43,
   "metadata": {},
   "outputs": [
    {
     "data": {
      "image/png": "[encoded data removed]",
      "text/plain": [
       "<Figure size 432x288 with 1 Axes>"
      ]
     },
     "metadata": {},
     "output_type": "display_data"
    },
    {
     "name": "stdout",
     "output_type": "stream",
     "text": [
      "Pressure =  0.5044916497874875\n"
     ]
    }
   ],
   "source": [
    "def dichotomy(left = 0.1, right = 0.6, rtol = 1e-5):\n",
    "    p_right = right\n",
    "    p_left = left\n",
    "    p_0 = (right + left) / 2\n",
    "    a_0 = -1/p_0\n",
    "    a_1 = 3/p_0\n",
    "    a_2 = -(p_0 + 8 * tau)/(3 * p_0)\n",
    "    root = roots(matrix(a_0, a_1, a_2))\n",
    "   \n",
    "    a = np.min(root)\n",
    "    b = np.max(root)\n",
    "    last = integral_diff(pii, a, b, p_0)\n",
    "    new = 100000\n",
    "    \n",
    "    \n",
    "    while ((np.abs ((new - last) / new)) > rtol):\n",
    "        if (new > 0):\n",
    "            p_left = p_0\n",
    "            p_0 = (p_right + p_0) / 2\n",
    "            \n",
    "        else:\n",
    "            p_right = p_0\n",
    "            p_0 = (p_0 + p_left) / 2\n",
    "            \n",
    "        last = new\n",
    "        a_0 = -1/p_0\n",
    "        a_1 = 3/p_0\n",
    "        a_2 = -(p_0 + 8 * tau)/(3 * p_0)\n",
    "        root = roots(matrix(a_0, a_1, a_2))\n",
    "        \n",
    "        a = np.min(root)\n",
    "        b = np.max(root)\n",
    "       \n",
    "        new = integral_diff(pii, a, b, p_0)\n",
    "        \n",
    "    return p_0\n",
    "        \n",
    "    \n",
    "def pii(fi):\n",
    "    \"\"\"vdW pressure given volume& temperture. Reduced units.\"\"\"\n",
    "    return (8*tau*fi**2/3. - 3*fi + 1) / (fi**3 - (fi**2)/3. )\n",
    "\n",
    "\n",
    "x = np.linspace(0.5, 5, 2000)\n",
    "y = pii(x)\n",
    "y1 = np.zeros(2000)\n",
    "res = dichotomy(0.1, 0.65, 1e-5)\n",
    "y1 += res\n",
    "\n",
    "\n",
    "plt.plot(x,y)\n",
    "plt.plot(x, y1)\n",
    "\n",
    "plt.show()\n",
    "print(\"Pressure = \", res)\n",
    "    "
   ]
  },
  {
   "cell_type": "code",
   "execution_count": null,
   "metadata": {},
   "outputs": [],
   "source": []
  },
  {
   "cell_type": "code",
   "execution_count": null,
   "metadata": {},
   "outputs": [],
   "source": []
  }
 ],
 "metadata": {
  "kernelspec": {
   "display_name": "Python 3",
   "language": "python",
   "name": "python3"
  },
  "language_info": {
   "codemirror_mode": {
    "name": "ipython",
    "version": 3
   },
   "file_extension": ".py",
   "mimetype": "text/x-python",
   "name": "python",
   "nbconvert_exporter": "python",
   "pygments_lexer": "ipython3",
   "version": "3.6.5"
  }
 },
 "nbformat": 4,
 "nbformat_minor": 2
}
