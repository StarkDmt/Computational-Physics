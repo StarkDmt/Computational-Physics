{
 "cells": [
  {
   "cell_type": "markdown",
   "metadata": {},
   "source": [
    "# Горбатый потенциал"
   ]
  },
  {
   "cell_type": "markdown",
   "metadata": {},
   "source": [
    "Мы будем искать решения стационарного уравнения Шрёдингера следующего вида:\n",
    "$$(-\\frac {d^2} {dx^2}  + \\frac {c} {cosh(x)} - \\frac {c} {cosh(a)} ) \\psi = k \\cdot \\psi $$\n",
    "С нулевыми граничными условиями при $|x|=a=1$"
   ]
  },
  {
   "cell_type": "code",
   "execution_count": 12,
   "metadata": {},
   "outputs": [
    {
     "data": {
      "application/javascript": [
       "/* Put everything inside the global mpl namespace */\n",
       "window.mpl = {};\n",
       "\n",
       "\n",
       "mpl.get_websocket_type = function() {\n",
       "    if (typeof(WebSocket) !== 'undefined') {\n",
       "        return WebSocket;\n",
       "    } else if (typeof(MozWebSocket) !== 'undefined') {\n",
       "        return MozWebSocket;\n",
       "    } else {\n",
       "        alert('Your browser does not have WebSocket support.' +\n",
       "              'Please try Chrome, Safari or Firefox ≥ 6. ' +\n",
       "              'Firefox 4 and 5 are also supported but you ' +\n",
       "              'have to enable WebSockets in about:config.');\n",
       "    };\n",
       "}\n",
       "\n",
       "mpl.figure = function(figure_id, websocket, ondownload, parent_element) {\n",
       "    this.id = figure_id;\n",
       "\n",
       "    this.ws = websocket;\n",
       "\n",
       "    this.supports_binary = (this.ws.binaryType != undefined);\n",
       "\n",
       "    if (!this.supports_binary) {\n",
       "        var warnings = document.getElementById(\"mpl-warnings\");\n",
       "        if (warnings) {\n",
       "            warnings.style.display = 'block';\n",
       "            warnings.textContent = (\n",
       "                \"This browser does not support binary websocket messages. \" +\n",
       "                    \"Performance may be slow.\");\n",
       "        }\n",
       "    }\n",
       "\n",
       "    this.imageObj = new Image();\n",
       "\n",
       "    this.context = undefined;\n",
       "    this.message = undefined;\n",
       "    this.canvas = undefined;\n",
       "    this.rubberband_canvas = undefined;\n",
       "    this.rubberband_context = undefined;\n",
       "    this.format_dropdown = undefined;\n",
       "\n",
       "    this.image_mode = 'full';\n",
       "\n",
       "    this.root = $('<div/>');\n",
       "    this._root_extra_style(this.root)\n",
       "    this.root.attr('style', 'display: inline-block');\n",
       "\n",
       "    $(parent_element).append(this.root);\n",
       "\n",
       "    this._init_header(this);\n",
       "    this._init_canvas(this);\n",
       "    this._init_toolbar(this);\n",
       "\n",
       "    var fig = this;\n",
       "\n",
       "    this.waiting = false;\n",
       "\n",
       "    this.ws.onopen =  function () {\n",
       "            fig.send_message(\"supports_binary\", {value: fig.supports_binary});\n",
       "            fig.send_message(\"send_image_mode\", {});\n",
       "            if (mpl.ratio != 1) {\n",
       "                fig.send_message(\"set_dpi_ratio\", {'dpi_ratio': mpl.ratio});\n",
       "            }\n",
       "            fig.send_message(\"refresh\", {});\n",
       "        }\n",
       "\n",
       "    this.imageObj.onload = function() {\n",
       "            if (fig.image_mode == 'full') {\n",
       "                // Full images could contain transparency (where diff images\n",
       "                // almost always do), so we need to clear the canvas so that\n",
       "                // there is no ghosting.\n",
       "                fig.context.clearRect(0, 0, fig.canvas.width, fig.canvas.height);\n",
       "            }\n",
       "            fig.context.drawImage(fig.imageObj, 0, 0);\n",
       "        };\n",
       "\n",
       "    this.imageObj.onunload = function() {\n",
       "        fig.ws.close();\n",
       "    }\n",
       "\n",
       "    this.ws.onmessage = this._make_on_message_function(this);\n",
       "\n",
       "    this.ondownload = ondownload;\n",
       "}\n",
       "\n",
       "mpl.figure.prototype._init_header = function() {\n",
       "    var titlebar = $(\n",
       "        '<div class=\"ui-dialog-titlebar ui-widget-header ui-corner-all ' +\n",
       "        'ui-helper-clearfix\"/>');\n",
       "    var titletext = $(\n",
       "        '<div class=\"ui-dialog-title\" style=\"width: 100%; ' +\n",
       "        'text-align: center; padding: 3px;\"/>');\n",
       "    titlebar.append(titletext)\n",
       "    this.root.append(titlebar);\n",
       "    this.header = titletext[0];\n",
       "}\n",
       "\n",
       "\n",
       "\n",
       "mpl.figure.prototype._canvas_extra_style = function(canvas_div) {\n",
       "\n",
       "}\n",
       "\n",
       "\n",
       "mpl.figure.prototype._root_extra_style = function(canvas_div) {\n",
       "\n",
       "}\n",
       "\n",
       "mpl.figure.prototype._init_canvas = function() {\n",
       "    var fig = this;\n",
       "\n",
       "    var canvas_div = $('<div/>');\n",
       "\n",
       "    canvas_div.attr('style', 'position: relative; clear: both; outline: 0');\n",
       "\n",
       "    function canvas_keyboard_event(event) {\n",
       "        return fig.key_event(event, event['data']);\n",
       "    }\n",
       "\n",
       "    canvas_div.keydown('key_press', canvas_keyboard_event);\n",
       "    canvas_div.keyup('key_release', canvas_keyboard_event);\n",
       "    this.canvas_div = canvas_div\n",
       "    this._canvas_extra_style(canvas_div)\n",
       "    this.root.append(canvas_div);\n",
       "\n",
       "    var canvas = $('<canvas/>');\n",
       "    canvas.addClass('mpl-canvas');\n",
       "    canvas.attr('style', \"left: 0; top: 0; z-index: 0; outline: 0\")\n",
       "\n",
       "    this.canvas = canvas[0];\n",
       "    this.context = canvas[0].getContext(\"2d\");\n",
       "\n",
       "    var backingStore = this.context.backingStorePixelRatio ||\n",
       "\tthis.context.webkitBackingStorePixelRatio ||\n",
       "\tthis.context.mozBackingStorePixelRatio ||\n",
       "\tthis.context.msBackingStorePixelRatio ||\n",
       "\tthis.context.oBackingStorePixelRatio ||\n",
       "\tthis.context.backingStorePixelRatio || 1;\n",
       "\n",
       "    mpl.ratio = (window.devicePixelRatio || 1) / backingStore;\n",
       "\n",
       "    var rubberband = $('<canvas/>');\n",
       "    rubberband.attr('style', \"position: absolute; left: 0; top: 0; z-index: 1;\")\n",
       "\n",
       "    var pass_mouse_events = true;\n",
       "\n",
       "    canvas_div.resizable({\n",
       "        start: function(event, ui) {\n",
       "            pass_mouse_events = false;\n",
       "        },\n",
       "        resize: function(event, ui) {\n",
       "            fig.request_resize(ui.size.width, ui.size.height);\n",
       "        },\n",
       "        stop: function(event, ui) {\n",
       "            pass_mouse_events = true;\n",
       "            fig.request_resize(ui.size.width, ui.size.height);\n",
       "        },\n",
       "    });\n",
       "\n",
       "    function mouse_event_fn(event) {\n",
       "        if (pass_mouse_events)\n",
       "            return fig.mouse_event(event, event['data']);\n",
       "    }\n",
       "\n",
       "    rubberband.mousedown('button_press', mouse_event_fn);\n",
       "    rubberband.mouseup('button_release', mouse_event_fn);\n",
       "    // Throttle sequential mouse events to 1 every 20ms.\n",
       "    rubberband.mousemove('motion_notify', mouse_event_fn);\n",
       "\n",
       "    rubberband.mouseenter('figure_enter', mouse_event_fn);\n",
       "    rubberband.mouseleave('figure_leave', mouse_event_fn);\n",
       "\n",
       "    canvas_div.on(\"wheel\", function (event) {\n",
       "        event = event.originalEvent;\n",
       "        event['data'] = 'scroll'\n",
       "        if (event.deltaY < 0) {\n",
       "            event.step = 1;\n",
       "        } else {\n",
       "            event.step = -1;\n",
       "        }\n",
       "        mouse_event_fn(event);\n",
       "    });\n",
       "\n",
       "    canvas_div.append(canvas);\n",
       "    canvas_div.append(rubberband);\n",
       "\n",
       "    this.rubberband = rubberband;\n",
       "    this.rubberband_canvas = rubberband[0];\n",
       "    this.rubberband_context = rubberband[0].getContext(\"2d\");\n",
       "    this.rubberband_context.strokeStyle = \"#000000\";\n",
       "\n",
       "    this._resize_canvas = function(width, height) {\n",
       "        // Keep the size of the canvas, canvas container, and rubber band\n",
       "        // canvas in synch.\n",
       "        canvas_div.css('width', width)\n",
       "        canvas_div.css('height', height)\n",
       "\n",
       "        canvas.attr('width', width * mpl.ratio);\n",
       "        canvas.attr('height', height * mpl.ratio);\n",
       "        canvas.attr('style', 'width: ' + width + 'px; height: ' + height + 'px;');\n",
       "\n",
       "        rubberband.attr('width', width);\n",
       "        rubberband.attr('height', height);\n",
       "    }\n",
       "\n",
       "    // Set the figure to an initial 600x600px, this will subsequently be updated\n",
       "    // upon first draw.\n",
       "    this._resize_canvas(600, 600);\n",
       "\n",
       "    // Disable right mouse context menu.\n",
       "    $(this.rubberband_canvas).bind(\"contextmenu\",function(e){\n",
       "        return false;\n",
       "    });\n",
       "\n",
       "    function set_focus () {\n",
       "        canvas.focus();\n",
       "        canvas_div.focus();\n",
       "    }\n",
       "\n",
       "    window.setTimeout(set_focus, 100);\n",
       "}\n",
       "\n",
       "mpl.figure.prototype._init_toolbar = function() {\n",
       "    var fig = this;\n",
       "\n",
       "    var nav_element = $('<div/>')\n",
       "    nav_element.attr('style', 'width: 100%');\n",
       "    this.root.append(nav_element);\n",
       "\n",
       "    // Define a callback function for later on.\n",
       "    function toolbar_event(event) {\n",
       "        return fig.toolbar_button_onclick(event['data']);\n",
       "    }\n",
       "    function toolbar_mouse_event(event) {\n",
       "        return fig.toolbar_button_onmouseover(event['data']);\n",
       "    }\n",
       "\n",
       "    for(var toolbar_ind in mpl.toolbar_items) {\n",
       "        var name = mpl.toolbar_items[toolbar_ind][0];\n",
       "        var tooltip = mpl.toolbar_items[toolbar_ind][1];\n",
       "        var image = mpl.toolbar_items[toolbar_ind][2];\n",
       "        var method_name = mpl.toolbar_items[toolbar_ind][3];\n",
       "\n",
       "        if (!name) {\n",
       "            // put a spacer in here.\n",
       "            continue;\n",
       "        }\n",
       "        var button = $('<button/>');\n",
       "        button.addClass('ui-button ui-widget ui-state-default ui-corner-all ' +\n",
       "                        'ui-button-icon-only');\n",
       "        button.attr('role', 'button');\n",
       "        button.attr('aria-disabled', 'false');\n",
       "        button.click(method_name, toolbar_event);\n",
       "        button.mouseover(tooltip, toolbar_mouse_event);\n",
       "\n",
       "        var icon_img = $('<span/>');\n",
       "        icon_img.addClass('ui-button-icon-primary ui-icon');\n",
       "        icon_img.addClass(image);\n",
       "        icon_img.addClass('ui-corner-all');\n",
       "\n",
       "        var tooltip_span = $('<span/>');\n",
       "        tooltip_span.addClass('ui-button-text');\n",
       "        tooltip_span.html(tooltip);\n",
       "\n",
       "        button.append(icon_img);\n",
       "        button.append(tooltip_span);\n",
       "\n",
       "        nav_element.append(button);\n",
       "    }\n",
       "\n",
       "    var fmt_picker_span = $('<span/>');\n",
       "\n",
       "    var fmt_picker = $('<select/>');\n",
       "    fmt_picker.addClass('mpl-toolbar-option ui-widget ui-widget-content');\n",
       "    fmt_picker_span.append(fmt_picker);\n",
       "    nav_element.append(fmt_picker_span);\n",
       "    this.format_dropdown = fmt_picker[0];\n",
       "\n",
       "    for (var ind in mpl.extensions) {\n",
       "        var fmt = mpl.extensions[ind];\n",
       "        var option = $(\n",
       "            '<option/>', {selected: fmt === mpl.default_extension}).html(fmt);\n",
       "        fmt_picker.append(option)\n",
       "    }\n",
       "\n",
       "    // Add hover states to the ui-buttons\n",
       "    $( \".ui-button\" ).hover(\n",
       "        function() { $(this).addClass(\"ui-state-hover\");},\n",
       "        function() { $(this).removeClass(\"ui-state-hover\");}\n",
       "    );\n",
       "\n",
       "    var status_bar = $('<span class=\"mpl-message\"/>');\n",
       "    nav_element.append(status_bar);\n",
       "    this.message = status_bar[0];\n",
       "}\n",
       "\n",
       "mpl.figure.prototype.request_resize = function(x_pixels, y_pixels) {\n",
       "    // Request matplotlib to resize the figure. Matplotlib will then trigger a resize in the client,\n",
       "    // which will in turn request a refresh of the image.\n",
       "    this.send_message('resize', {'width': x_pixels, 'height': y_pixels});\n",
       "}\n",
       "\n",
       "mpl.figure.prototype.send_message = function(type, properties) {\n",
       "    properties['type'] = type;\n",
       "    properties['figure_id'] = this.id;\n",
       "    this.ws.send(JSON.stringify(properties));\n",
       "}\n",
       "\n",
       "mpl.figure.prototype.send_draw_message = function() {\n",
       "    if (!this.waiting) {\n",
       "        this.waiting = true;\n",
       "        this.ws.send(JSON.stringify({type: \"draw\", figure_id: this.id}));\n",
       "    }\n",
       "}\n",
       "\n",
       "\n",
       "mpl.figure.prototype.handle_save = function(fig, msg) {\n",
       "    var format_dropdown = fig.format_dropdown;\n",
       "    var format = format_dropdown.options[format_dropdown.selectedIndex].value;\n",
       "    fig.ondownload(fig, format);\n",
       "}\n",
       "\n",
       "\n",
       "mpl.figure.prototype.handle_resize = function(fig, msg) {\n",
       "    var size = msg['size'];\n",
       "    if (size[0] != fig.canvas.width || size[1] != fig.canvas.height) {\n",
       "        fig._resize_canvas(size[0], size[1]);\n",
       "        fig.send_message(\"refresh\", {});\n",
       "    };\n",
       "}\n",
       "\n",
       "mpl.figure.prototype.handle_rubberband = function(fig, msg) {\n",
       "    var x0 = msg['x0'] / mpl.ratio;\n",
       "    var y0 = (fig.canvas.height - msg['y0']) / mpl.ratio;\n",
       "    var x1 = msg['x1'] / mpl.ratio;\n",
       "    var y1 = (fig.canvas.height - msg['y1']) / mpl.ratio;\n",
       "    x0 = Math.floor(x0) + 0.5;\n",
       "    y0 = Math.floor(y0) + 0.5;\n",
       "    x1 = Math.floor(x1) + 0.5;\n",
       "    y1 = Math.floor(y1) + 0.5;\n",
       "    var min_x = Math.min(x0, x1);\n",
       "    var min_y = Math.min(y0, y1);\n",
       "    var width = Math.abs(x1 - x0);\n",
       "    var height = Math.abs(y1 - y0);\n",
       "\n",
       "    fig.rubberband_context.clearRect(\n",
       "        0, 0, fig.canvas.width, fig.canvas.height);\n",
       "\n",
       "    fig.rubberband_context.strokeRect(min_x, min_y, width, height);\n",
       "}\n",
       "\n",
       "mpl.figure.prototype.handle_figure_label = function(fig, msg) {\n",
       "    // Updates the figure title.\n",
       "    fig.header.textContent = msg['label'];\n",
       "}\n",
       "\n",
       "mpl.figure.prototype.handle_cursor = function(fig, msg) {\n",
       "    var cursor = msg['cursor'];\n",
       "    switch(cursor)\n",
       "    {\n",
       "    case 0:\n",
       "        cursor = 'pointer';\n",
       "        break;\n",
       "    case 1:\n",
       "        cursor = 'default';\n",
       "        break;\n",
       "    case 2:\n",
       "        cursor = 'crosshair';\n",
       "        break;\n",
       "    case 3:\n",
       "        cursor = 'move';\n",
       "        break;\n",
       "    }\n",
       "    fig.rubberband_canvas.style.cursor = cursor;\n",
       "}\n",
       "\n",
       "mpl.figure.prototype.handle_message = function(fig, msg) {\n",
       "    fig.message.textContent = msg['message'];\n",
       "}\n",
       "\n",
       "mpl.figure.prototype.handle_draw = function(fig, msg) {\n",
       "    // Request the server to send over a new figure.\n",
       "    fig.send_draw_message();\n",
       "}\n",
       "\n",
       "mpl.figure.prototype.handle_image_mode = function(fig, msg) {\n",
       "    fig.image_mode = msg['mode'];\n",
       "}\n",
       "\n",
       "mpl.figure.prototype.updated_canvas_event = function() {\n",
       "    // Called whenever the canvas gets updated.\n",
       "    this.send_message(\"ack\", {});\n",
       "}\n",
       "\n",
       "// A function to construct a web socket function for onmessage handling.\n",
       "// Called in the figure constructor.\n",
       "mpl.figure.prototype._make_on_message_function = function(fig) {\n",
       "    return function socket_on_message(evt) {\n",
       "        if (evt.data instanceof Blob) {\n",
       "            /* FIXME: We get \"Resource interpreted as Image but\n",
       "             * transferred with MIME type text/plain:\" errors on\n",
       "             * Chrome.  But how to set the MIME type?  It doesn't seem\n",
       "             * to be part of the websocket stream */\n",
       "            evt.data.type = \"image/png\";\n",
       "\n",
       "            /* Free the memory for the previous frames */\n",
       "            if (fig.imageObj.src) {\n",
       "                (window.URL || window.webkitURL).revokeObjectURL(\n",
       "                    fig.imageObj.src);\n",
       "            }\n",
       "\n",
       "            fig.imageObj.src = (window.URL || window.webkitURL).createObjectURL(\n",
       "                evt.data);\n",
       "            fig.updated_canvas_event();\n",
       "            fig.waiting = false;\n",
       "            return;\n",
       "        }\n",
       "        else if (typeof evt.data === 'string' && evt.data.slice(0, 21) == \"data:image/png;base64\") {\n",
       "            fig.imageObj.src = evt.data;\n",
       "            fig.updated_canvas_event();\n",
       "            fig.waiting = false;\n",
       "            return;\n",
       "        }\n",
       "\n",
       "        var msg = JSON.parse(evt.data);\n",
       "        var msg_type = msg['type'];\n",
       "\n",
       "        // Call the  \"handle_{type}\" callback, which takes\n",
       "        // the figure and JSON message as its only arguments.\n",
       "        try {\n",
       "            var callback = fig[\"handle_\" + msg_type];\n",
       "        } catch (e) {\n",
       "            console.log(\"No handler for the '\" + msg_type + \"' message type: \", msg);\n",
       "            return;\n",
       "        }\n",
       "\n",
       "        if (callback) {\n",
       "            try {\n",
       "                // console.log(\"Handling '\" + msg_type + \"' message: \", msg);\n",
       "                callback(fig, msg);\n",
       "            } catch (e) {\n",
       "                console.log(\"Exception inside the 'handler_\" + msg_type + \"' callback:\", e, e.stack, msg);\n",
       "            }\n",
       "        }\n",
       "    };\n",
       "}\n",
       "\n",
       "// from http://stackoverflow.com/questions/1114465/getting-mouse-location-in-canvas\n",
       "mpl.findpos = function(e) {\n",
       "    //this section is from http://www.quirksmode.org/js/events_properties.html\n",
       "    var targ;\n",
       "    if (!e)\n",
       "        e = window.event;\n",
       "    if (e.target)\n",
       "        targ = e.target;\n",
       "    else if (e.srcElement)\n",
       "        targ = e.srcElement;\n",
       "    if (targ.nodeType == 3) // defeat Safari bug\n",
       "        targ = targ.parentNode;\n",
       "\n",
       "    // jQuery normalizes the pageX and pageY\n",
       "    // pageX,Y are the mouse positions relative to the document\n",
       "    // offset() returns the position of the element relative to the document\n",
       "    var x = e.pageX - $(targ).offset().left;\n",
       "    var y = e.pageY - $(targ).offset().top;\n",
       "\n",
       "    return {\"x\": x, \"y\": y};\n",
       "};\n",
       "\n",
       "/*\n",
       " * return a copy of an object with only non-object keys\n",
       " * we need this to avoid circular references\n",
       " * http://stackoverflow.com/a/24161582/3208463\n",
       " */\n",
       "function simpleKeys (original) {\n",
       "  return Object.keys(original).reduce(function (obj, key) {\n",
       "    if (typeof original[key] !== 'object')\n",
       "        obj[key] = original[key]\n",
       "    return obj;\n",
       "  }, {});\n",
       "}\n",
       "\n",
       "mpl.figure.prototype.mouse_event = function(event, name) {\n",
       "    var canvas_pos = mpl.findpos(event)\n",
       "\n",
       "    if (name === 'button_press')\n",
       "    {\n",
       "        this.canvas.focus();\n",
       "        this.canvas_div.focus();\n",
       "    }\n",
       "\n",
       "    var x = canvas_pos.x * mpl.ratio;\n",
       "    var y = canvas_pos.y * mpl.ratio;\n",
       "\n",
       "    this.send_message(name, {x: x, y: y, button: event.button,\n",
       "                             step: event.step,\n",
       "                             guiEvent: simpleKeys(event)});\n",
       "\n",
       "    /* This prevents the web browser from automatically changing to\n",
       "     * the text insertion cursor when the button is pressed.  We want\n",
       "     * to control all of the cursor setting manually through the\n",
       "     * 'cursor' event from matplotlib */\n",
       "    event.preventDefault();\n",
       "    return false;\n",
       "}\n",
       "\n",
       "mpl.figure.prototype._key_event_extra = function(event, name) {\n",
       "    // Handle any extra behaviour associated with a key event\n",
       "}\n",
       "\n",
       "mpl.figure.prototype.key_event = function(event, name) {\n",
       "\n",
       "    // Prevent repeat events\n",
       "    if (name == 'key_press')\n",
       "    {\n",
       "        if (event.which === this._key)\n",
       "            return;\n",
       "        else\n",
       "            this._key = event.which;\n",
       "    }\n",
       "    if (name == 'key_release')\n",
       "        this._key = null;\n",
       "\n",
       "    var value = '';\n",
       "    if (event.ctrlKey && event.which != 17)\n",
       "        value += \"ctrl+\";\n",
       "    if (event.altKey && event.which != 18)\n",
       "        value += \"alt+\";\n",
       "    if (event.shiftKey && event.which != 16)\n",
       "        value += \"shift+\";\n",
       "\n",
       "    value += 'k';\n",
       "    value += event.which.toString();\n",
       "\n",
       "    this._key_event_extra(event, name);\n",
       "\n",
       "    this.send_message(name, {key: value,\n",
       "                             guiEvent: simpleKeys(event)});\n",
       "    return false;\n",
       "}\n",
       "\n",
       "mpl.figure.prototype.toolbar_button_onclick = function(name) {\n",
       "    if (name == 'download') {\n",
       "        this.handle_save(this, null);\n",
       "    } else {\n",
       "        this.send_message(\"toolbar_button\", {name: name});\n",
       "    }\n",
       "};\n",
       "\n",
       "mpl.figure.prototype.toolbar_button_onmouseover = function(tooltip) {\n",
       "    this.message.textContent = tooltip;\n",
       "};\n",
       "mpl.toolbar_items = [[\"Home\", \"Reset original view\", \"fa fa-home icon-home\", \"home\"], [\"Back\", \"Back to  previous view\", \"fa fa-arrow-left icon-arrow-left\", \"back\"], [\"Forward\", \"Forward to next view\", \"fa fa-arrow-right icon-arrow-right\", \"forward\"], [\"\", \"\", \"\", \"\"], [\"Pan\", \"Pan axes with left mouse, zoom with right\", \"fa fa-arrows icon-move\", \"pan\"], [\"Zoom\", \"Zoom to rectangle\", \"fa fa-square-o icon-check-empty\", \"zoom\"], [\"\", \"\", \"\", \"\"], [\"Download\", \"Download plot\", \"fa fa-floppy-o icon-save\", \"download\"]];\n",
       "\n",
       "mpl.extensions = [\"eps\", \"jpeg\", \"pdf\", \"png\", \"ps\", \"raw\", \"svg\", \"tif\"];\n",
       "\n",
       "mpl.default_extension = \"png\";var comm_websocket_adapter = function(comm) {\n",
       "    // Create a \"websocket\"-like object which calls the given IPython comm\n",
       "    // object with the appropriate methods. Currently this is a non binary\n",
       "    // socket, so there is still some room for performance tuning.\n",
       "    var ws = {};\n",
       "\n",
       "    ws.close = function() {\n",
       "        comm.close()\n",
       "    };\n",
       "    ws.send = function(m) {\n",
       "        //console.log('sending', m);\n",
       "        comm.send(m);\n",
       "    };\n",
       "    // Register the callback with on_msg.\n",
       "    comm.on_msg(function(msg) {\n",
       "        //console.log('receiving', msg['content']['data'], msg);\n",
       "        // Pass the mpl event to the overridden (by mpl) onmessage function.\n",
       "        ws.onmessage(msg['content']['data'])\n",
       "    });\n",
       "    return ws;\n",
       "}\n",
       "\n",
       "mpl.mpl_figure_comm = function(comm, msg) {\n",
       "    // This is the function which gets called when the mpl process\n",
       "    // starts-up an IPython Comm through the \"matplotlib\" channel.\n",
       "\n",
       "    var id = msg.content.data.id;\n",
       "    // Get hold of the div created by the display call when the Comm\n",
       "    // socket was opened in Python.\n",
       "    var element = $(\"#\" + id);\n",
       "    var ws_proxy = comm_websocket_adapter(comm)\n",
       "\n",
       "    function ondownload(figure, format) {\n",
       "        window.open(figure.imageObj.src);\n",
       "    }\n",
       "\n",
       "    var fig = new mpl.figure(id, ws_proxy,\n",
       "                           ondownload,\n",
       "                           element.get(0));\n",
       "\n",
       "    // Call onopen now - mpl needs it, as it is assuming we've passed it a real\n",
       "    // web socket which is closed, not our websocket->open comm proxy.\n",
       "    ws_proxy.onopen();\n",
       "\n",
       "    fig.parent_element = element.get(0);\n",
       "    fig.cell_info = mpl.find_output_cell(\"<div id='\" + id + \"'></div>\");\n",
       "    if (!fig.cell_info) {\n",
       "        console.error(\"Failed to find cell for figure\", id, fig);\n",
       "        return;\n",
       "    }\n",
       "\n",
       "    var output_index = fig.cell_info[2]\n",
       "    var cell = fig.cell_info[0];\n",
       "\n",
       "};\n",
       "\n",
       "mpl.figure.prototype.handle_close = function(fig, msg) {\n",
       "    var width = fig.canvas.width/mpl.ratio\n",
       "    fig.root.unbind('remove')\n",
       "\n",
       "    // Update the output cell to use the data from the current canvas.\n",
       "    fig.push_to_output();\n",
       "    var dataURL = fig.canvas.toDataURL();\n",
       "    // Re-enable the keyboard manager in IPython - without this line, in FF,\n",
       "    // the notebook keyboard shortcuts fail.\n",
       "    IPython.keyboard_manager.enable()\n",
       "    $(fig.parent_element).html('<img src=\"' + dataURL + '\" width=\"' + width + '\">');\n",
       "    fig.close_ws(fig, msg);\n",
       "}\n",
       "\n",
       "mpl.figure.prototype.close_ws = function(fig, msg){\n",
       "    fig.send_message('closing', msg);\n",
       "    // fig.ws.close()\n",
       "}\n",
       "\n",
       "mpl.figure.prototype.push_to_output = function(remove_interactive) {\n",
       "    // Turn the data on the canvas into data in the output cell.\n",
       "    var width = this.canvas.width/mpl.ratio\n",
       "    var dataURL = this.canvas.toDataURL();\n",
       "    this.cell_info[1]['text/html'] = '<img src=\"' + dataURL + '\" width=\"' + width + '\">';\n",
       "}\n",
       "\n",
       "mpl.figure.prototype.updated_canvas_event = function() {\n",
       "    // Tell IPython that the notebook contents must change.\n",
       "    IPython.notebook.set_dirty(true);\n",
       "    this.send_message(\"ack\", {});\n",
       "    var fig = this;\n",
       "    // Wait a second, then push the new image to the DOM so\n",
       "    // that it is saved nicely (might be nice to debounce this).\n",
       "    setTimeout(function () { fig.push_to_output() }, 1000);\n",
       "}\n",
       "\n",
       "mpl.figure.prototype._init_toolbar = function() {\n",
       "    var fig = this;\n",
       "\n",
       "    var nav_element = $('<div/>')\n",
       "    nav_element.attr('style', 'width: 100%');\n",
       "    this.root.append(nav_element);\n",
       "\n",
       "    // Define a callback function for later on.\n",
       "    function toolbar_event(event) {\n",
       "        return fig.toolbar_button_onclick(event['data']);\n",
       "    }\n",
       "    function toolbar_mouse_event(event) {\n",
       "        return fig.toolbar_button_onmouseover(event['data']);\n",
       "    }\n",
       "\n",
       "    for(var toolbar_ind in mpl.toolbar_items){\n",
       "        var name = mpl.toolbar_items[toolbar_ind][0];\n",
       "        var tooltip = mpl.toolbar_items[toolbar_ind][1];\n",
       "        var image = mpl.toolbar_items[toolbar_ind][2];\n",
       "        var method_name = mpl.toolbar_items[toolbar_ind][3];\n",
       "\n",
       "        if (!name) { continue; };\n",
       "\n",
       "        var button = $('<button class=\"btn btn-default\" href=\"#\" title=\"' + name + '\"><i class=\"fa ' + image + ' fa-lg\"></i></button>');\n",
       "        button.click(method_name, toolbar_event);\n",
       "        button.mouseover(tooltip, toolbar_mouse_event);\n",
       "        nav_element.append(button);\n",
       "    }\n",
       "\n",
       "    // Add the status bar.\n",
       "    var status_bar = $('<span class=\"mpl-message\" style=\"text-align:right; float: right;\"/>');\n",
       "    nav_element.append(status_bar);\n",
       "    this.message = status_bar[0];\n",
       "\n",
       "    // Add the close button to the window.\n",
       "    var buttongrp = $('<div class=\"btn-group inline pull-right\"></div>');\n",
       "    var button = $('<button class=\"btn btn-mini btn-primary\" href=\"#\" title=\"Stop Interaction\"><i class=\"fa fa-power-off icon-remove icon-large\"></i></button>');\n",
       "    button.click(function (evt) { fig.handle_close(fig, {}); } );\n",
       "    button.mouseover('Stop Interaction', toolbar_mouse_event);\n",
       "    buttongrp.append(button);\n",
       "    var titlebar = this.root.find($('.ui-dialog-titlebar'));\n",
       "    titlebar.prepend(buttongrp);\n",
       "}\n",
       "\n",
       "mpl.figure.prototype._root_extra_style = function(el){\n",
       "    var fig = this\n",
       "    el.on(\"remove\", function(){\n",
       "\tfig.close_ws(fig, {});\n",
       "    });\n",
       "}\n",
       "\n",
       "mpl.figure.prototype._canvas_extra_style = function(el){\n",
       "    // this is important to make the div 'focusable\n",
       "    el.attr('tabindex', 0)\n",
       "    // reach out to IPython and tell the keyboard manager to turn it's self\n",
       "    // off when our div gets focus\n",
       "\n",
       "    // location in version 3\n",
       "    if (IPython.notebook.keyboard_manager) {\n",
       "        IPython.notebook.keyboard_manager.register_events(el);\n",
       "    }\n",
       "    else {\n",
       "        // location in version 2\n",
       "        IPython.keyboard_manager.register_events(el);\n",
       "    }\n",
       "\n",
       "}\n",
       "\n",
       "mpl.figure.prototype._key_event_extra = function(event, name) {\n",
       "    var manager = IPython.notebook.keyboard_manager;\n",
       "    if (!manager)\n",
       "        manager = IPython.keyboard_manager;\n",
       "\n",
       "    // Check for shift+enter\n",
       "    if (event.shiftKey && event.which == 13) {\n",
       "        this.canvas_div.blur();\n",
       "        event.shiftKey = false;\n",
       "        // Send a \"J\" for go to next cell\n",
       "        event.which = 74;\n",
       "        event.keyCode = 74;\n",
       "        manager.command_mode();\n",
       "        manager.handle_keydown(event);\n",
       "    }\n",
       "}\n",
       "\n",
       "mpl.figure.prototype.handle_save = function(fig, msg) {\n",
       "    fig.ondownload(fig, null);\n",
       "}\n",
       "\n",
       "\n",
       "mpl.find_output_cell = function(html_output) {\n",
       "    // Return the cell and output element which can be found *uniquely* in the notebook.\n",
       "    // Note - this is a bit hacky, but it is done because the \"notebook_saving.Notebook\"\n",
       "    // IPython event is triggered only after the cells have been serialised, which for\n",
       "    // our purposes (turning an active figure into a static one), is too late.\n",
       "    var cells = IPython.notebook.get_cells();\n",
       "    var ncells = cells.length;\n",
       "    for (var i=0; i<ncells; i++) {\n",
       "        var cell = cells[i];\n",
       "        if (cell.cell_type === 'code'){\n",
       "            for (var j=0; j<cell.output_area.outputs.length; j++) {\n",
       "                var data = cell.output_area.outputs[j];\n",
       "                if (data.data) {\n",
       "                    // IPython >= 3 moved mimebundle to data attribute of output\n",
       "                    data = data.data;\n",
       "                }\n",
       "                if (data['text/html'] == html_output) {\n",
       "                    return [cell, data, j];\n",
       "                }\n",
       "            }\n",
       "        }\n",
       "    }\n",
       "}\n",
       "\n",
       "// Register the function which deals with the matplotlib target/channel.\n",
       "// The kernel may be null if the page has been refreshed.\n",
       "if (IPython.notebook.kernel != null) {\n",
       "    IPython.notebook.kernel.comm_manager.register_target('matplotlib', mpl.mpl_figure_comm);\n",
       "}\n"
      ],
      "text/plain": [
       "<IPython.core.display.Javascript object>"
      ]
     },
     "metadata": {},
     "output_type": "display_data"
    },
    {
     "data": {
      "text/html": [
       "<img src=\"data:image/png;base64,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\" width=\"640\">"
      ],
      "text/plain": [
       "<IPython.core.display.HTML object>"
      ]
     },
     "metadata": {},
     "output_type": "display_data"
    }
   ],
   "source": [
    "import numpy as np\n",
    "\n",
    "\n",
    "density = 100\n",
    "\n",
    "def build(n = 100, c = 1):\n",
    "    h = 2 / n\n",
    "    matrix = np.zeros((n,n))\n",
    "    for i in range (1, n-1):\n",
    "      \n",
    "        matrix[i,i-1] = -1/ (h ** 2)\n",
    "        matrix[i,i] = 2/(h ** 2)\n",
    "        matrix[i,i+1] = -1/(h ** 2)\n",
    "        matrix[i,i] += c/np.cosh(-1+h*i) - c/np.cosh(1)\n",
    "    return matrix\n",
    "\n",
    "eigenValues, eigenVectors = np.linalg.eig(build(density, 1))\n",
    "\n",
    "idx = eigenValues.argsort()   \n",
    "val = eigenValues[idx]\n",
    "vec = eigenVectors[:,idx]\n",
    "\n",
    "import matplotlib.pyplot as plt\n",
    "\n",
    "%matplotlib notebook\n",
    "from ipywidgets import *\n",
    "\n",
    "x = np.linspace(-1, 1, density)\n",
    "fig = plt.figure()\n",
    "ax = fig.add_subplot(1, 1, 1)\n",
    "line, = ax.plot(x, vec[:,2] )\n",
    "\n",
    "def update(c = 1.0):\n",
    "    eigenValues, eigenVectors = np.linalg.eig(build(density, c))\n",
    "\n",
    "    idx = eigenValues.argsort()   \n",
    "    val = eigenValues[idx]\n",
    "    vec = eigenVectors[:,idx]\n",
    "    \n",
    "    \n",
    "    line.set_ydata(vec[:,2]**2)\n",
    "    fig.canvas.draw()\n",
    "\n",
    "\n",
    "\n"
   ]
  },
  {
   "cell_type": "code",
   "execution_count": 13,
   "metadata": {},
   "outputs": [
    {
     "data": {
      "application/vnd.jupyter.widget-view+json": {
       "model_id": "39fb27fe228644828342d6933dde2186",
       "version_major": 2,
       "version_minor": 0
      },
      "text/plain": [
       "interactive(children=(IntSlider(value=1, description='c', max=500, min=-500), Output()), _dom_classes=('widget…"
      ]
     },
     "metadata": {},
     "output_type": "display_data"
    }
   ],
   "source": [
    "interact(update, c = widgets.IntSlider(min=-500,max=500,step=1,value=1));"
   ]
  },
  {
   "cell_type": "markdown",
   "metadata": {},
   "source": [
    "На графике сверху изображен квадрат волновой функции основного состояния. Слайдер регулирует величину горба. Из необъяснимых феноменов - в небольшом по величине отрицательном потенциале, по какой-то причине, находятся решения, не удовлетворяющие граничным условиям, а также то, что отсутствует вырождение (хотя понятно, например, что при больших c запертой между левой стенкой и горбом волновой функции также должна соответствовать ей симметричная).\n",
    "\n",
    "Вот сама волновая функция второго состояния"
   ]
  },
  {
   "cell_type": "code",
   "execution_count": 14,
   "metadata": {},
   "outputs": [
    {
     "data": {
      "application/javascript": [
       "/* Put everything inside the global mpl namespace */\n",
       "window.mpl = {};\n",
       "\n",
       "\n",
       "mpl.get_websocket_type = function() {\n",
       "    if (typeof(WebSocket) !== 'undefined') {\n",
       "        return WebSocket;\n",
       "    } else if (typeof(MozWebSocket) !== 'undefined') {\n",
       "        return MozWebSocket;\n",
       "    } else {\n",
       "        alert('Your browser does not have WebSocket support.' +\n",
       "              'Please try Chrome, Safari or Firefox ≥ 6. ' +\n",
       "              'Firefox 4 and 5 are also supported but you ' +\n",
       "              'have to enable WebSockets in about:config.');\n",
       "    };\n",
       "}\n",
       "\n",
       "mpl.figure = function(figure_id, websocket, ondownload, parent_element) {\n",
       "    this.id = figure_id;\n",
       "\n",
       "    this.ws = websocket;\n",
       "\n",
       "    this.supports_binary = (this.ws.binaryType != undefined);\n",
       "\n",
       "    if (!this.supports_binary) {\n",
       "        var warnings = document.getElementById(\"mpl-warnings\");\n",
       "        if (warnings) {\n",
       "            warnings.style.display = 'block';\n",
       "            warnings.textContent = (\n",
       "                \"This browser does not support binary websocket messages. \" +\n",
       "                    \"Performance may be slow.\");\n",
       "        }\n",
       "    }\n",
       "\n",
       "    this.imageObj = new Image();\n",
       "\n",
       "    this.context = undefined;\n",
       "    this.message = undefined;\n",
       "    this.canvas = undefined;\n",
       "    this.rubberband_canvas = undefined;\n",
       "    this.rubberband_context = undefined;\n",
       "    this.format_dropdown = undefined;\n",
       "\n",
       "    this.image_mode = 'full';\n",
       "\n",
       "    this.root = $('<div/>');\n",
       "    this._root_extra_style(this.root)\n",
       "    this.root.attr('style', 'display: inline-block');\n",
       "\n",
       "    $(parent_element).append(this.root);\n",
       "\n",
       "    this._init_header(this);\n",
       "    this._init_canvas(this);\n",
       "    this._init_toolbar(this);\n",
       "\n",
       "    var fig = this;\n",
       "\n",
       "    this.waiting = false;\n",
       "\n",
       "    this.ws.onopen =  function () {\n",
       "            fig.send_message(\"supports_binary\", {value: fig.supports_binary});\n",
       "            fig.send_message(\"send_image_mode\", {});\n",
       "            if (mpl.ratio != 1) {\n",
       "                fig.send_message(\"set_dpi_ratio\", {'dpi_ratio': mpl.ratio});\n",
       "            }\n",
       "            fig.send_message(\"refresh\", {});\n",
       "        }\n",
       "\n",
       "    this.imageObj.onload = function() {\n",
       "            if (fig.image_mode == 'full') {\n",
       "                // Full images could contain transparency (where diff images\n",
       "                // almost always do), so we need to clear the canvas so that\n",
       "                // there is no ghosting.\n",
       "                fig.context.clearRect(0, 0, fig.canvas.width, fig.canvas.height);\n",
       "            }\n",
       "            fig.context.drawImage(fig.imageObj, 0, 0);\n",
       "        };\n",
       "\n",
       "    this.imageObj.onunload = function() {\n",
       "        fig.ws.close();\n",
       "    }\n",
       "\n",
       "    this.ws.onmessage = this._make_on_message_function(this);\n",
       "\n",
       "    this.ondownload = ondownload;\n",
       "}\n",
       "\n",
       "mpl.figure.prototype._init_header = function() {\n",
       "    var titlebar = $(\n",
       "        '<div class=\"ui-dialog-titlebar ui-widget-header ui-corner-all ' +\n",
       "        'ui-helper-clearfix\"/>');\n",
       "    var titletext = $(\n",
       "        '<div class=\"ui-dialog-title\" style=\"width: 100%; ' +\n",
       "        'text-align: center; padding: 3px;\"/>');\n",
       "    titlebar.append(titletext)\n",
       "    this.root.append(titlebar);\n",
       "    this.header = titletext[0];\n",
       "}\n",
       "\n",
       "\n",
       "\n",
       "mpl.figure.prototype._canvas_extra_style = function(canvas_div) {\n",
       "\n",
       "}\n",
       "\n",
       "\n",
       "mpl.figure.prototype._root_extra_style = function(canvas_div) {\n",
       "\n",
       "}\n",
       "\n",
       "mpl.figure.prototype._init_canvas = function() {\n",
       "    var fig = this;\n",
       "\n",
       "    var canvas_div = $('<div/>');\n",
       "\n",
       "    canvas_div.attr('style', 'position: relative; clear: both; outline: 0');\n",
       "\n",
       "    function canvas_keyboard_event(event) {\n",
       "        return fig.key_event(event, event['data']);\n",
       "    }\n",
       "\n",
       "    canvas_div.keydown('key_press', canvas_keyboard_event);\n",
       "    canvas_div.keyup('key_release', canvas_keyboard_event);\n",
       "    this.canvas_div = canvas_div\n",
       "    this._canvas_extra_style(canvas_div)\n",
       "    this.root.append(canvas_div);\n",
       "\n",
       "    var canvas = $('<canvas/>');\n",
       "    canvas.addClass('mpl-canvas');\n",
       "    canvas.attr('style', \"left: 0; top: 0; z-index: 0; outline: 0\")\n",
       "\n",
       "    this.canvas = canvas[0];\n",
       "    this.context = canvas[0].getContext(\"2d\");\n",
       "\n",
       "    var backingStore = this.context.backingStorePixelRatio ||\n",
       "\tthis.context.webkitBackingStorePixelRatio ||\n",
       "\tthis.context.mozBackingStorePixelRatio ||\n",
       "\tthis.context.msBackingStorePixelRatio ||\n",
       "\tthis.context.oBackingStorePixelRatio ||\n",
       "\tthis.context.backingStorePixelRatio || 1;\n",
       "\n",
       "    mpl.ratio = (window.devicePixelRatio || 1) / backingStore;\n",
       "\n",
       "    var rubberband = $('<canvas/>');\n",
       "    rubberband.attr('style', \"position: absolute; left: 0; top: 0; z-index: 1;\")\n",
       "\n",
       "    var pass_mouse_events = true;\n",
       "\n",
       "    canvas_div.resizable({\n",
       "        start: function(event, ui) {\n",
       "            pass_mouse_events = false;\n",
       "        },\n",
       "        resize: function(event, ui) {\n",
       "            fig.request_resize(ui.size.width, ui.size.height);\n",
       "        },\n",
       "        stop: function(event, ui) {\n",
       "            pass_mouse_events = true;\n",
       "            fig.request_resize(ui.size.width, ui.size.height);\n",
       "        },\n",
       "    });\n",
       "\n",
       "    function mouse_event_fn(event) {\n",
       "        if (pass_mouse_events)\n",
       "            return fig.mouse_event(event, event['data']);\n",
       "    }\n",
       "\n",
       "    rubberband.mousedown('button_press', mouse_event_fn);\n",
       "    rubberband.mouseup('button_release', mouse_event_fn);\n",
       "    // Throttle sequential mouse events to 1 every 20ms.\n",
       "    rubberband.mousemove('motion_notify', mouse_event_fn);\n",
       "\n",
       "    rubberband.mouseenter('figure_enter', mouse_event_fn);\n",
       "    rubberband.mouseleave('figure_leave', mouse_event_fn);\n",
       "\n",
       "    canvas_div.on(\"wheel\", function (event) {\n",
       "        event = event.originalEvent;\n",
       "        event['data'] = 'scroll'\n",
       "        if (event.deltaY < 0) {\n",
       "            event.step = 1;\n",
       "        } else {\n",
       "            event.step = -1;\n",
       "        }\n",
       "        mouse_event_fn(event);\n",
       "    });\n",
       "\n",
       "    canvas_div.append(canvas);\n",
       "    canvas_div.append(rubberband);\n",
       "\n",
       "    this.rubberband = rubberband;\n",
       "    this.rubberband_canvas = rubberband[0];\n",
       "    this.rubberband_context = rubberband[0].getContext(\"2d\");\n",
       "    this.rubberband_context.strokeStyle = \"#000000\";\n",
       "\n",
       "    this._resize_canvas = function(width, height) {\n",
       "        // Keep the size of the canvas, canvas container, and rubber band\n",
       "        // canvas in synch.\n",
       "        canvas_div.css('width', width)\n",
       "        canvas_div.css('height', height)\n",
       "\n",
       "        canvas.attr('width', width * mpl.ratio);\n",
       "        canvas.attr('height', height * mpl.ratio);\n",
       "        canvas.attr('style', 'width: ' + width + 'px; height: ' + height + 'px;');\n",
       "\n",
       "        rubberband.attr('width', width);\n",
       "        rubberband.attr('height', height);\n",
       "    }\n",
       "\n",
       "    // Set the figure to an initial 600x600px, this will subsequently be updated\n",
       "    // upon first draw.\n",
       "    this._resize_canvas(600, 600);\n",
       "\n",
       "    // Disable right mouse context menu.\n",
       "    $(this.rubberband_canvas).bind(\"contextmenu\",function(e){\n",
       "        return false;\n",
       "    });\n",
       "\n",
       "    function set_focus () {\n",
       "        canvas.focus();\n",
       "        canvas_div.focus();\n",
       "    }\n",
       "\n",
       "    window.setTimeout(set_focus, 100);\n",
       "}\n",
       "\n",
       "mpl.figure.prototype._init_toolbar = function() {\n",
       "    var fig = this;\n",
       "\n",
       "    var nav_element = $('<div/>')\n",
       "    nav_element.attr('style', 'width: 100%');\n",
       "    this.root.append(nav_element);\n",
       "\n",
       "    // Define a callback function for later on.\n",
       "    function toolbar_event(event) {\n",
       "        return fig.toolbar_button_onclick(event['data']);\n",
       "    }\n",
       "    function toolbar_mouse_event(event) {\n",
       "        return fig.toolbar_button_onmouseover(event['data']);\n",
       "    }\n",
       "\n",
       "    for(var toolbar_ind in mpl.toolbar_items) {\n",
       "        var name = mpl.toolbar_items[toolbar_ind][0];\n",
       "        var tooltip = mpl.toolbar_items[toolbar_ind][1];\n",
       "        var image = mpl.toolbar_items[toolbar_ind][2];\n",
       "        var method_name = mpl.toolbar_items[toolbar_ind][3];\n",
       "\n",
       "        if (!name) {\n",
       "            // put a spacer in here.\n",
       "            continue;\n",
       "        }\n",
       "        var button = $('<button/>');\n",
       "        button.addClass('ui-button ui-widget ui-state-default ui-corner-all ' +\n",
       "                        'ui-button-icon-only');\n",
       "        button.attr('role', 'button');\n",
       "        button.attr('aria-disabled', 'false');\n",
       "        button.click(method_name, toolbar_event);\n",
       "        button.mouseover(tooltip, toolbar_mouse_event);\n",
       "\n",
       "        var icon_img = $('<span/>');\n",
       "        icon_img.addClass('ui-button-icon-primary ui-icon');\n",
       "        icon_img.addClass(image);\n",
       "        icon_img.addClass('ui-corner-all');\n",
       "\n",
       "        var tooltip_span = $('<span/>');\n",
       "        tooltip_span.addClass('ui-button-text');\n",
       "        tooltip_span.html(tooltip);\n",
       "\n",
       "        button.append(icon_img);\n",
       "        button.append(tooltip_span);\n",
       "\n",
       "        nav_element.append(button);\n",
       "    }\n",
       "\n",
       "    var fmt_picker_span = $('<span/>');\n",
       "\n",
       "    var fmt_picker = $('<select/>');\n",
       "    fmt_picker.addClass('mpl-toolbar-option ui-widget ui-widget-content');\n",
       "    fmt_picker_span.append(fmt_picker);\n",
       "    nav_element.append(fmt_picker_span);\n",
       "    this.format_dropdown = fmt_picker[0];\n",
       "\n",
       "    for (var ind in mpl.extensions) {\n",
       "        var fmt = mpl.extensions[ind];\n",
       "        var option = $(\n",
       "            '<option/>', {selected: fmt === mpl.default_extension}).html(fmt);\n",
       "        fmt_picker.append(option)\n",
       "    }\n",
       "\n",
       "    // Add hover states to the ui-buttons\n",
       "    $( \".ui-button\" ).hover(\n",
       "        function() { $(this).addClass(\"ui-state-hover\");},\n",
       "        function() { $(this).removeClass(\"ui-state-hover\");}\n",
       "    );\n",
       "\n",
       "    var status_bar = $('<span class=\"mpl-message\"/>');\n",
       "    nav_element.append(status_bar);\n",
       "    this.message = status_bar[0];\n",
       "}\n",
       "\n",
       "mpl.figure.prototype.request_resize = function(x_pixels, y_pixels) {\n",
       "    // Request matplotlib to resize the figure. Matplotlib will then trigger a resize in the client,\n",
       "    // which will in turn request a refresh of the image.\n",
       "    this.send_message('resize', {'width': x_pixels, 'height': y_pixels});\n",
       "}\n",
       "\n",
       "mpl.figure.prototype.send_message = function(type, properties) {\n",
       "    properties['type'] = type;\n",
       "    properties['figure_id'] = this.id;\n",
       "    this.ws.send(JSON.stringify(properties));\n",
       "}\n",
       "\n",
       "mpl.figure.prototype.send_draw_message = function() {\n",
       "    if (!this.waiting) {\n",
       "        this.waiting = true;\n",
       "        this.ws.send(JSON.stringify({type: \"draw\", figure_id: this.id}));\n",
       "    }\n",
       "}\n",
       "\n",
       "\n",
       "mpl.figure.prototype.handle_save = function(fig, msg) {\n",
       "    var format_dropdown = fig.format_dropdown;\n",
       "    var format = format_dropdown.options[format_dropdown.selectedIndex].value;\n",
       "    fig.ondownload(fig, format);\n",
       "}\n",
       "\n",
       "\n",
       "mpl.figure.prototype.handle_resize = function(fig, msg) {\n",
       "    var size = msg['size'];\n",
       "    if (size[0] != fig.canvas.width || size[1] != fig.canvas.height) {\n",
       "        fig._resize_canvas(size[0], size[1]);\n",
       "        fig.send_message(\"refresh\", {});\n",
       "    };\n",
       "}\n",
       "\n",
       "mpl.figure.prototype.handle_rubberband = function(fig, msg) {\n",
       "    var x0 = msg['x0'] / mpl.ratio;\n",
       "    var y0 = (fig.canvas.height - msg['y0']) / mpl.ratio;\n",
       "    var x1 = msg['x1'] / mpl.ratio;\n",
       "    var y1 = (fig.canvas.height - msg['y1']) / mpl.ratio;\n",
       "    x0 = Math.floor(x0) + 0.5;\n",
       "    y0 = Math.floor(y0) + 0.5;\n",
       "    x1 = Math.floor(x1) + 0.5;\n",
       "    y1 = Math.floor(y1) + 0.5;\n",
       "    var min_x = Math.min(x0, x1);\n",
       "    var min_y = Math.min(y0, y1);\n",
       "    var width = Math.abs(x1 - x0);\n",
       "    var height = Math.abs(y1 - y0);\n",
       "\n",
       "    fig.rubberband_context.clearRect(\n",
       "        0, 0, fig.canvas.width, fig.canvas.height);\n",
       "\n",
       "    fig.rubberband_context.strokeRect(min_x, min_y, width, height);\n",
       "}\n",
       "\n",
       "mpl.figure.prototype.handle_figure_label = function(fig, msg) {\n",
       "    // Updates the figure title.\n",
       "    fig.header.textContent = msg['label'];\n",
       "}\n",
       "\n",
       "mpl.figure.prototype.handle_cursor = function(fig, msg) {\n",
       "    var cursor = msg['cursor'];\n",
       "    switch(cursor)\n",
       "    {\n",
       "    case 0:\n",
       "        cursor = 'pointer';\n",
       "        break;\n",
       "    case 1:\n",
       "        cursor = 'default';\n",
       "        break;\n",
       "    case 2:\n",
       "        cursor = 'crosshair';\n",
       "        break;\n",
       "    case 3:\n",
       "        cursor = 'move';\n",
       "        break;\n",
       "    }\n",
       "    fig.rubberband_canvas.style.cursor = cursor;\n",
       "}\n",
       "\n",
       "mpl.figure.prototype.handle_message = function(fig, msg) {\n",
       "    fig.message.textContent = msg['message'];\n",
       "}\n",
       "\n",
       "mpl.figure.prototype.handle_draw = function(fig, msg) {\n",
       "    // Request the server to send over a new figure.\n",
       "    fig.send_draw_message();\n",
       "}\n",
       "\n",
       "mpl.figure.prototype.handle_image_mode = function(fig, msg) {\n",
       "    fig.image_mode = msg['mode'];\n",
       "}\n",
       "\n",
       "mpl.figure.prototype.updated_canvas_event = function() {\n",
       "    // Called whenever the canvas gets updated.\n",
       "    this.send_message(\"ack\", {});\n",
       "}\n",
       "\n",
       "// A function to construct a web socket function for onmessage handling.\n",
       "// Called in the figure constructor.\n",
       "mpl.figure.prototype._make_on_message_function = function(fig) {\n",
       "    return function socket_on_message(evt) {\n",
       "        if (evt.data instanceof Blob) {\n",
       "            /* FIXME: We get \"Resource interpreted as Image but\n",
       "             * transferred with MIME type text/plain:\" errors on\n",
       "             * Chrome.  But how to set the MIME type?  It doesn't seem\n",
       "             * to be part of the websocket stream */\n",
       "            evt.data.type = \"image/png\";\n",
       "\n",
       "            /* Free the memory for the previous frames */\n",
       "            if (fig.imageObj.src) {\n",
       "                (window.URL || window.webkitURL).revokeObjectURL(\n",
       "                    fig.imageObj.src);\n",
       "            }\n",
       "\n",
       "            fig.imageObj.src = (window.URL || window.webkitURL).createObjectURL(\n",
       "                evt.data);\n",
       "            fig.updated_canvas_event();\n",
       "            fig.waiting = false;\n",
       "            return;\n",
       "        }\n",
       "        else if (typeof evt.data === 'string' && evt.data.slice(0, 21) == \"data:image/png;base64\") {\n",
       "            fig.imageObj.src = evt.data;\n",
       "            fig.updated_canvas_event();\n",
       "            fig.waiting = false;\n",
       "            return;\n",
       "        }\n",
       "\n",
       "        var msg = JSON.parse(evt.data);\n",
       "        var msg_type = msg['type'];\n",
       "\n",
       "        // Call the  \"handle_{type}\" callback, which takes\n",
       "        // the figure and JSON message as its only arguments.\n",
       "        try {\n",
       "            var callback = fig[\"handle_\" + msg_type];\n",
       "        } catch (e) {\n",
       "            console.log(\"No handler for the '\" + msg_type + \"' message type: \", msg);\n",
       "            return;\n",
       "        }\n",
       "\n",
       "        if (callback) {\n",
       "            try {\n",
       "                // console.log(\"Handling '\" + msg_type + \"' message: \", msg);\n",
       "                callback(fig, msg);\n",
       "            } catch (e) {\n",
       "                console.log(\"Exception inside the 'handler_\" + msg_type + \"' callback:\", e, e.stack, msg);\n",
       "            }\n",
       "        }\n",
       "    };\n",
       "}\n",
       "\n",
       "// from http://stackoverflow.com/questions/1114465/getting-mouse-location-in-canvas\n",
       "mpl.findpos = function(e) {\n",
       "    //this section is from http://www.quirksmode.org/js/events_properties.html\n",
       "    var targ;\n",
       "    if (!e)\n",
       "        e = window.event;\n",
       "    if (e.target)\n",
       "        targ = e.target;\n",
       "    else if (e.srcElement)\n",
       "        targ = e.srcElement;\n",
       "    if (targ.nodeType == 3) // defeat Safari bug\n",
       "        targ = targ.parentNode;\n",
       "\n",
       "    // jQuery normalizes the pageX and pageY\n",
       "    // pageX,Y are the mouse positions relative to the document\n",
       "    // offset() returns the position of the element relative to the document\n",
       "    var x = e.pageX - $(targ).offset().left;\n",
       "    var y = e.pageY - $(targ).offset().top;\n",
       "\n",
       "    return {\"x\": x, \"y\": y};\n",
       "};\n",
       "\n",
       "/*\n",
       " * return a copy of an object with only non-object keys\n",
       " * we need this to avoid circular references\n",
       " * http://stackoverflow.com/a/24161582/3208463\n",
       " */\n",
       "function simpleKeys (original) {\n",
       "  return Object.keys(original).reduce(function (obj, key) {\n",
       "    if (typeof original[key] !== 'object')\n",
       "        obj[key] = original[key]\n",
       "    return obj;\n",
       "  }, {});\n",
       "}\n",
       "\n",
       "mpl.figure.prototype.mouse_event = function(event, name) {\n",
       "    var canvas_pos = mpl.findpos(event)\n",
       "\n",
       "    if (name === 'button_press')\n",
       "    {\n",
       "        this.canvas.focus();\n",
       "        this.canvas_div.focus();\n",
       "    }\n",
       "\n",
       "    var x = canvas_pos.x * mpl.ratio;\n",
       "    var y = canvas_pos.y * mpl.ratio;\n",
       "\n",
       "    this.send_message(name, {x: x, y: y, button: event.button,\n",
       "                             step: event.step,\n",
       "                             guiEvent: simpleKeys(event)});\n",
       "\n",
       "    /* This prevents the web browser from automatically changing to\n",
       "     * the text insertion cursor when the button is pressed.  We want\n",
       "     * to control all of the cursor setting manually through the\n",
       "     * 'cursor' event from matplotlib */\n",
       "    event.preventDefault();\n",
       "    return false;\n",
       "}\n",
       "\n",
       "mpl.figure.prototype._key_event_extra = function(event, name) {\n",
       "    // Handle any extra behaviour associated with a key event\n",
       "}\n",
       "\n",
       "mpl.figure.prototype.key_event = function(event, name) {\n",
       "\n",
       "    // Prevent repeat events\n",
       "    if (name == 'key_press')\n",
       "    {\n",
       "        if (event.which === this._key)\n",
       "            return;\n",
       "        else\n",
       "            this._key = event.which;\n",
       "    }\n",
       "    if (name == 'key_release')\n",
       "        this._key = null;\n",
       "\n",
       "    var value = '';\n",
       "    if (event.ctrlKey && event.which != 17)\n",
       "        value += \"ctrl+\";\n",
       "    if (event.altKey && event.which != 18)\n",
       "        value += \"alt+\";\n",
       "    if (event.shiftKey && event.which != 16)\n",
       "        value += \"shift+\";\n",
       "\n",
       "    value += 'k';\n",
       "    value += event.which.toString();\n",
       "\n",
       "    this._key_event_extra(event, name);\n",
       "\n",
       "    this.send_message(name, {key: value,\n",
       "                             guiEvent: simpleKeys(event)});\n",
       "    return false;\n",
       "}\n",
       "\n",
       "mpl.figure.prototype.toolbar_button_onclick = function(name) {\n",
       "    if (name == 'download') {\n",
       "        this.handle_save(this, null);\n",
       "    } else {\n",
       "        this.send_message(\"toolbar_button\", {name: name});\n",
       "    }\n",
       "};\n",
       "\n",
       "mpl.figure.prototype.toolbar_button_onmouseover = function(tooltip) {\n",
       "    this.message.textContent = tooltip;\n",
       "};\n",
       "mpl.toolbar_items = [[\"Home\", \"Reset original view\", \"fa fa-home icon-home\", \"home\"], [\"Back\", \"Back to  previous view\", \"fa fa-arrow-left icon-arrow-left\", \"back\"], [\"Forward\", \"Forward to next view\", \"fa fa-arrow-right icon-arrow-right\", \"forward\"], [\"\", \"\", \"\", \"\"], [\"Pan\", \"Pan axes with left mouse, zoom with right\", \"fa fa-arrows icon-move\", \"pan\"], [\"Zoom\", \"Zoom to rectangle\", \"fa fa-square-o icon-check-empty\", \"zoom\"], [\"\", \"\", \"\", \"\"], [\"Download\", \"Download plot\", \"fa fa-floppy-o icon-save\", \"download\"]];\n",
       "\n",
       "mpl.extensions = [\"eps\", \"jpeg\", \"pdf\", \"png\", \"ps\", \"raw\", \"svg\", \"tif\"];\n",
       "\n",
       "mpl.default_extension = \"png\";var comm_websocket_adapter = function(comm) {\n",
       "    // Create a \"websocket\"-like object which calls the given IPython comm\n",
       "    // object with the appropriate methods. Currently this is a non binary\n",
       "    // socket, so there is still some room for performance tuning.\n",
       "    var ws = {};\n",
       "\n",
       "    ws.close = function() {\n",
       "        comm.close()\n",
       "    };\n",
       "    ws.send = function(m) {\n",
       "        //console.log('sending', m);\n",
       "        comm.send(m);\n",
       "    };\n",
       "    // Register the callback with on_msg.\n",
       "    comm.on_msg(function(msg) {\n",
       "        //console.log('receiving', msg['content']['data'], msg);\n",
       "        // Pass the mpl event to the overridden (by mpl) onmessage function.\n",
       "        ws.onmessage(msg['content']['data'])\n",
       "    });\n",
       "    return ws;\n",
       "}\n",
       "\n",
       "mpl.mpl_figure_comm = function(comm, msg) {\n",
       "    // This is the function which gets called when the mpl process\n",
       "    // starts-up an IPython Comm through the \"matplotlib\" channel.\n",
       "\n",
       "    var id = msg.content.data.id;\n",
       "    // Get hold of the div created by the display call when the Comm\n",
       "    // socket was opened in Python.\n",
       "    var element = $(\"#\" + id);\n",
       "    var ws_proxy = comm_websocket_adapter(comm)\n",
       "\n",
       "    function ondownload(figure, format) {\n",
       "        window.open(figure.imageObj.src);\n",
       "    }\n",
       "\n",
       "    var fig = new mpl.figure(id, ws_proxy,\n",
       "                           ondownload,\n",
       "                           element.get(0));\n",
       "\n",
       "    // Call onopen now - mpl needs it, as it is assuming we've passed it a real\n",
       "    // web socket which is closed, not our websocket->open comm proxy.\n",
       "    ws_proxy.onopen();\n",
       "\n",
       "    fig.parent_element = element.get(0);\n",
       "    fig.cell_info = mpl.find_output_cell(\"<div id='\" + id + \"'></div>\");\n",
       "    if (!fig.cell_info) {\n",
       "        console.error(\"Failed to find cell for figure\", id, fig);\n",
       "        return;\n",
       "    }\n",
       "\n",
       "    var output_index = fig.cell_info[2]\n",
       "    var cell = fig.cell_info[0];\n",
       "\n",
       "};\n",
       "\n",
       "mpl.figure.prototype.handle_close = function(fig, msg) {\n",
       "    var width = fig.canvas.width/mpl.ratio\n",
       "    fig.root.unbind('remove')\n",
       "\n",
       "    // Update the output cell to use the data from the current canvas.\n",
       "    fig.push_to_output();\n",
       "    var dataURL = fig.canvas.toDataURL();\n",
       "    // Re-enable the keyboard manager in IPython - without this line, in FF,\n",
       "    // the notebook keyboard shortcuts fail.\n",
       "    IPython.keyboard_manager.enable()\n",
       "    $(fig.parent_element).html('<img src=\"' + dataURL + '\" width=\"' + width + '\">');\n",
       "    fig.close_ws(fig, msg);\n",
       "}\n",
       "\n",
       "mpl.figure.prototype.close_ws = function(fig, msg){\n",
       "    fig.send_message('closing', msg);\n",
       "    // fig.ws.close()\n",
       "}\n",
       "\n",
       "mpl.figure.prototype.push_to_output = function(remove_interactive) {\n",
       "    // Turn the data on the canvas into data in the output cell.\n",
       "    var width = this.canvas.width/mpl.ratio\n",
       "    var dataURL = this.canvas.toDataURL();\n",
       "    this.cell_info[1]['text/html'] = '<img src=\"' + dataURL + '\" width=\"' + width + '\">';\n",
       "}\n",
       "\n",
       "mpl.figure.prototype.updated_canvas_event = function() {\n",
       "    // Tell IPython that the notebook contents must change.\n",
       "    IPython.notebook.set_dirty(true);\n",
       "    this.send_message(\"ack\", {});\n",
       "    var fig = this;\n",
       "    // Wait a second, then push the new image to the DOM so\n",
       "    // that it is saved nicely (might be nice to debounce this).\n",
       "    setTimeout(function () { fig.push_to_output() }, 1000);\n",
       "}\n",
       "\n",
       "mpl.figure.prototype._init_toolbar = function() {\n",
       "    var fig = this;\n",
       "\n",
       "    var nav_element = $('<div/>')\n",
       "    nav_element.attr('style', 'width: 100%');\n",
       "    this.root.append(nav_element);\n",
       "\n",
       "    // Define a callback function for later on.\n",
       "    function toolbar_event(event) {\n",
       "        return fig.toolbar_button_onclick(event['data']);\n",
       "    }\n",
       "    function toolbar_mouse_event(event) {\n",
       "        return fig.toolbar_button_onmouseover(event['data']);\n",
       "    }\n",
       "\n",
       "    for(var toolbar_ind in mpl.toolbar_items){\n",
       "        var name = mpl.toolbar_items[toolbar_ind][0];\n",
       "        var tooltip = mpl.toolbar_items[toolbar_ind][1];\n",
       "        var image = mpl.toolbar_items[toolbar_ind][2];\n",
       "        var method_name = mpl.toolbar_items[toolbar_ind][3];\n",
       "\n",
       "        if (!name) { continue; };\n",
       "\n",
       "        var button = $('<button class=\"btn btn-default\" href=\"#\" title=\"' + name + '\"><i class=\"fa ' + image + ' fa-lg\"></i></button>');\n",
       "        button.click(method_name, toolbar_event);\n",
       "        button.mouseover(tooltip, toolbar_mouse_event);\n",
       "        nav_element.append(button);\n",
       "    }\n",
       "\n",
       "    // Add the status bar.\n",
       "    var status_bar = $('<span class=\"mpl-message\" style=\"text-align:right; float: right;\"/>');\n",
       "    nav_element.append(status_bar);\n",
       "    this.message = status_bar[0];\n",
       "\n",
       "    // Add the close button to the window.\n",
       "    var buttongrp = $('<div class=\"btn-group inline pull-right\"></div>');\n",
       "    var button = $('<button class=\"btn btn-mini btn-primary\" href=\"#\" title=\"Stop Interaction\"><i class=\"fa fa-power-off icon-remove icon-large\"></i></button>');\n",
       "    button.click(function (evt) { fig.handle_close(fig, {}); } );\n",
       "    button.mouseover('Stop Interaction', toolbar_mouse_event);\n",
       "    buttongrp.append(button);\n",
       "    var titlebar = this.root.find($('.ui-dialog-titlebar'));\n",
       "    titlebar.prepend(buttongrp);\n",
       "}\n",
       "\n",
       "mpl.figure.prototype._root_extra_style = function(el){\n",
       "    var fig = this\n",
       "    el.on(\"remove\", function(){\n",
       "\tfig.close_ws(fig, {});\n",
       "    });\n",
       "}\n",
       "\n",
       "mpl.figure.prototype._canvas_extra_style = function(el){\n",
       "    // this is important to make the div 'focusable\n",
       "    el.attr('tabindex', 0)\n",
       "    // reach out to IPython and tell the keyboard manager to turn it's self\n",
       "    // off when our div gets focus\n",
       "\n",
       "    // location in version 3\n",
       "    if (IPython.notebook.keyboard_manager) {\n",
       "        IPython.notebook.keyboard_manager.register_events(el);\n",
       "    }\n",
       "    else {\n",
       "        // location in version 2\n",
       "        IPython.keyboard_manager.register_events(el);\n",
       "    }\n",
       "\n",
       "}\n",
       "\n",
       "mpl.figure.prototype._key_event_extra = function(event, name) {\n",
       "    var manager = IPython.notebook.keyboard_manager;\n",
       "    if (!manager)\n",
       "        manager = IPython.keyboard_manager;\n",
       "\n",
       "    // Check for shift+enter\n",
       "    if (event.shiftKey && event.which == 13) {\n",
       "        this.canvas_div.blur();\n",
       "        event.shiftKey = false;\n",
       "        // Send a \"J\" for go to next cell\n",
       "        event.which = 74;\n",
       "        event.keyCode = 74;\n",
       "        manager.command_mode();\n",
       "        manager.handle_keydown(event);\n",
       "    }\n",
       "}\n",
       "\n",
       "mpl.figure.prototype.handle_save = function(fig, msg) {\n",
       "    fig.ondownload(fig, null);\n",
       "}\n",
       "\n",
       "\n",
       "mpl.find_output_cell = function(html_output) {\n",
       "    // Return the cell and output element which can be found *uniquely* in the notebook.\n",
       "    // Note - this is a bit hacky, but it is done because the \"notebook_saving.Notebook\"\n",
       "    // IPython event is triggered only after the cells have been serialised, which for\n",
       "    // our purposes (turning an active figure into a static one), is too late.\n",
       "    var cells = IPython.notebook.get_cells();\n",
       "    var ncells = cells.length;\n",
       "    for (var i=0; i<ncells; i++) {\n",
       "        var cell = cells[i];\n",
       "        if (cell.cell_type === 'code'){\n",
       "            for (var j=0; j<cell.output_area.outputs.length; j++) {\n",
       "                var data = cell.output_area.outputs[j];\n",
       "                if (data.data) {\n",
       "                    // IPython >= 3 moved mimebundle to data attribute of output\n",
       "                    data = data.data;\n",
       "                }\n",
       "                if (data['text/html'] == html_output) {\n",
       "                    return [cell, data, j];\n",
       "                }\n",
       "            }\n",
       "        }\n",
       "    }\n",
       "}\n",
       "\n",
       "// Register the function which deals with the matplotlib target/channel.\n",
       "// The kernel may be null if the page has been refreshed.\n",
       "if (IPython.notebook.kernel != null) {\n",
       "    IPython.notebook.kernel.comm_manager.register_target('matplotlib', mpl.mpl_figure_comm);\n",
       "}\n"
      ],
      "text/plain": [
       "<IPython.core.display.Javascript object>"
      ]
     },
     "metadata": {},
     "output_type": "display_data"
    },
    {
     "data": {
      "text/html": [
       "<img src=\"data:image/png;base64,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\" width=\"640\">"
      ],
      "text/plain": [
       "<IPython.core.display.HTML object>"
      ]
     },
     "metadata": {},
     "output_type": "display_data"
    }
   ],
   "source": [
    "x1 = np.linspace(-1, 1, density)\n",
    "fig1 = plt.figure()\n",
    "ax1 = fig1.add_subplot(1, 1, 1)\n",
    "line1, = ax1.plot(x1, vec[:,4] )\n",
    "\n",
    "def update1(d = 1.0):\n",
    "    eigenValues, eigenVectors = np.linalg.eig(build(density, d))\n",
    "\n",
    "    idx = eigenValues.argsort()   \n",
    "    val = eigenValues[idx]\n",
    "    vec = eigenVectors[:,idx]\n",
    "    if (vec[2,4] < 0):\n",
    "        vec[:,4] *= -1\n",
    "    \n",
    "    \n",
    "    line1.set_ydata(vec[:,4])\n",
    "    fig1.canvas.draw()\n"
   ]
  },
  {
   "cell_type": "code",
   "execution_count": 15,
   "metadata": {},
   "outputs": [
    {
     "data": {
      "application/vnd.jupyter.widget-view+json": {
       "model_id": "03ac5541358a4886b8cde242fa7d4655",
       "version_major": 2,
       "version_minor": 0
      },
      "text/plain": [
       "interactive(children=(IntSlider(value=1, description='d', max=500, min=-500), Output()), _dom_classes=('widget…"
      ]
     },
     "metadata": {},
     "output_type": "display_data"
    }
   ],
   "source": [
    "interact(update1, d = widgets.IntSlider(min=-500,max=500,step=1,value=1));\n"
   ]
  },
  {
   "cell_type": "markdown",
   "metadata": {},
   "source": [
    "Зависимость логарифма корня из модуля энергии от логарифма номера уровня:"
   ]
  },
  {
   "cell_type": "code",
   "execution_count": 16,
   "metadata": {},
   "outputs": [
    {
     "data": {
      "application/javascript": [
       "/* Put everything inside the global mpl namespace */\n",
       "window.mpl = {};\n",
       "\n",
       "\n",
       "mpl.get_websocket_type = function() {\n",
       "    if (typeof(WebSocket) !== 'undefined') {\n",
       "        return WebSocket;\n",
       "    } else if (typeof(MozWebSocket) !== 'undefined') {\n",
       "        return MozWebSocket;\n",
       "    } else {\n",
       "        alert('Your browser does not have WebSocket support.' +\n",
       "              'Please try Chrome, Safari or Firefox ≥ 6. ' +\n",
       "              'Firefox 4 and 5 are also supported but you ' +\n",
       "              'have to enable WebSockets in about:config.');\n",
       "    };\n",
       "}\n",
       "\n",
       "mpl.figure = function(figure_id, websocket, ondownload, parent_element) {\n",
       "    this.id = figure_id;\n",
       "\n",
       "    this.ws = websocket;\n",
       "\n",
       "    this.supports_binary = (this.ws.binaryType != undefined);\n",
       "\n",
       "    if (!this.supports_binary) {\n",
       "        var warnings = document.getElementById(\"mpl-warnings\");\n",
       "        if (warnings) {\n",
       "            warnings.style.display = 'block';\n",
       "            warnings.textContent = (\n",
       "                \"This browser does not support binary websocket messages. \" +\n",
       "                    \"Performance may be slow.\");\n",
       "        }\n",
       "    }\n",
       "\n",
       "    this.imageObj = new Image();\n",
       "\n",
       "    this.context = undefined;\n",
       "    this.message = undefined;\n",
       "    this.canvas = undefined;\n",
       "    this.rubberband_canvas = undefined;\n",
       "    this.rubberband_context = undefined;\n",
       "    this.format_dropdown = undefined;\n",
       "\n",
       "    this.image_mode = 'full';\n",
       "\n",
       "    this.root = $('<div/>');\n",
       "    this._root_extra_style(this.root)\n",
       "    this.root.attr('style', 'display: inline-block');\n",
       "\n",
       "    $(parent_element).append(this.root);\n",
       "\n",
       "    this._init_header(this);\n",
       "    this._init_canvas(this);\n",
       "    this._init_toolbar(this);\n",
       "\n",
       "    var fig = this;\n",
       "\n",
       "    this.waiting = false;\n",
       "\n",
       "    this.ws.onopen =  function () {\n",
       "            fig.send_message(\"supports_binary\", {value: fig.supports_binary});\n",
       "            fig.send_message(\"send_image_mode\", {});\n",
       "            if (mpl.ratio != 1) {\n",
       "                fig.send_message(\"set_dpi_ratio\", {'dpi_ratio': mpl.ratio});\n",
       "            }\n",
       "            fig.send_message(\"refresh\", {});\n",
       "        }\n",
       "\n",
       "    this.imageObj.onload = function() {\n",
       "            if (fig.image_mode == 'full') {\n",
       "                // Full images could contain transparency (where diff images\n",
       "                // almost always do), so we need to clear the canvas so that\n",
       "                // there is no ghosting.\n",
       "                fig.context.clearRect(0, 0, fig.canvas.width, fig.canvas.height);\n",
       "            }\n",
       "            fig.context.drawImage(fig.imageObj, 0, 0);\n",
       "        };\n",
       "\n",
       "    this.imageObj.onunload = function() {\n",
       "        fig.ws.close();\n",
       "    }\n",
       "\n",
       "    this.ws.onmessage = this._make_on_message_function(this);\n",
       "\n",
       "    this.ondownload = ondownload;\n",
       "}\n",
       "\n",
       "mpl.figure.prototype._init_header = function() {\n",
       "    var titlebar = $(\n",
       "        '<div class=\"ui-dialog-titlebar ui-widget-header ui-corner-all ' +\n",
       "        'ui-helper-clearfix\"/>');\n",
       "    var titletext = $(\n",
       "        '<div class=\"ui-dialog-title\" style=\"width: 100%; ' +\n",
       "        'text-align: center; padding: 3px;\"/>');\n",
       "    titlebar.append(titletext)\n",
       "    this.root.append(titlebar);\n",
       "    this.header = titletext[0];\n",
       "}\n",
       "\n",
       "\n",
       "\n",
       "mpl.figure.prototype._canvas_extra_style = function(canvas_div) {\n",
       "\n",
       "}\n",
       "\n",
       "\n",
       "mpl.figure.prototype._root_extra_style = function(canvas_div) {\n",
       "\n",
       "}\n",
       "\n",
       "mpl.figure.prototype._init_canvas = function() {\n",
       "    var fig = this;\n",
       "\n",
       "    var canvas_div = $('<div/>');\n",
       "\n",
       "    canvas_div.attr('style', 'position: relative; clear: both; outline: 0');\n",
       "\n",
       "    function canvas_keyboard_event(event) {\n",
       "        return fig.key_event(event, event['data']);\n",
       "    }\n",
       "\n",
       "    canvas_div.keydown('key_press', canvas_keyboard_event);\n",
       "    canvas_div.keyup('key_release', canvas_keyboard_event);\n",
       "    this.canvas_div = canvas_div\n",
       "    this._canvas_extra_style(canvas_div)\n",
       "    this.root.append(canvas_div);\n",
       "\n",
       "    var canvas = $('<canvas/>');\n",
       "    canvas.addClass('mpl-canvas');\n",
       "    canvas.attr('style', \"left: 0; top: 0; z-index: 0; outline: 0\")\n",
       "\n",
       "    this.canvas = canvas[0];\n",
       "    this.context = canvas[0].getContext(\"2d\");\n",
       "\n",
       "    var backingStore = this.context.backingStorePixelRatio ||\n",
       "\tthis.context.webkitBackingStorePixelRatio ||\n",
       "\tthis.context.mozBackingStorePixelRatio ||\n",
       "\tthis.context.msBackingStorePixelRatio ||\n",
       "\tthis.context.oBackingStorePixelRatio ||\n",
       "\tthis.context.backingStorePixelRatio || 1;\n",
       "\n",
       "    mpl.ratio = (window.devicePixelRatio || 1) / backingStore;\n",
       "\n",
       "    var rubberband = $('<canvas/>');\n",
       "    rubberband.attr('style', \"position: absolute; left: 0; top: 0; z-index: 1;\")\n",
       "\n",
       "    var pass_mouse_events = true;\n",
       "\n",
       "    canvas_div.resizable({\n",
       "        start: function(event, ui) {\n",
       "            pass_mouse_events = false;\n",
       "        },\n",
       "        resize: function(event, ui) {\n",
       "            fig.request_resize(ui.size.width, ui.size.height);\n",
       "        },\n",
       "        stop: function(event, ui) {\n",
       "            pass_mouse_events = true;\n",
       "            fig.request_resize(ui.size.width, ui.size.height);\n",
       "        },\n",
       "    });\n",
       "\n",
       "    function mouse_event_fn(event) {\n",
       "        if (pass_mouse_events)\n",
       "            return fig.mouse_event(event, event['data']);\n",
       "    }\n",
       "\n",
       "    rubberband.mousedown('button_press', mouse_event_fn);\n",
       "    rubberband.mouseup('button_release', mouse_event_fn);\n",
       "    // Throttle sequential mouse events to 1 every 20ms.\n",
       "    rubberband.mousemove('motion_notify', mouse_event_fn);\n",
       "\n",
       "    rubberband.mouseenter('figure_enter', mouse_event_fn);\n",
       "    rubberband.mouseleave('figure_leave', mouse_event_fn);\n",
       "\n",
       "    canvas_div.on(\"wheel\", function (event) {\n",
       "        event = event.originalEvent;\n",
       "        event['data'] = 'scroll'\n",
       "        if (event.deltaY < 0) {\n",
       "            event.step = 1;\n",
       "        } else {\n",
       "            event.step = -1;\n",
       "        }\n",
       "        mouse_event_fn(event);\n",
       "    });\n",
       "\n",
       "    canvas_div.append(canvas);\n",
       "    canvas_div.append(rubberband);\n",
       "\n",
       "    this.rubberband = rubberband;\n",
       "    this.rubberband_canvas = rubberband[0];\n",
       "    this.rubberband_context = rubberband[0].getContext(\"2d\");\n",
       "    this.rubberband_context.strokeStyle = \"#000000\";\n",
       "\n",
       "    this._resize_canvas = function(width, height) {\n",
       "        // Keep the size of the canvas, canvas container, and rubber band\n",
       "        // canvas in synch.\n",
       "        canvas_div.css('width', width)\n",
       "        canvas_div.css('height', height)\n",
       "\n",
       "        canvas.attr('width', width * mpl.ratio);\n",
       "        canvas.attr('height', height * mpl.ratio);\n",
       "        canvas.attr('style', 'width: ' + width + 'px; height: ' + height + 'px;');\n",
       "\n",
       "        rubberband.attr('width', width);\n",
       "        rubberband.attr('height', height);\n",
       "    }\n",
       "\n",
       "    // Set the figure to an initial 600x600px, this will subsequently be updated\n",
       "    // upon first draw.\n",
       "    this._resize_canvas(600, 600);\n",
       "\n",
       "    // Disable right mouse context menu.\n",
       "    $(this.rubberband_canvas).bind(\"contextmenu\",function(e){\n",
       "        return false;\n",
       "    });\n",
       "\n",
       "    function set_focus () {\n",
       "        canvas.focus();\n",
       "        canvas_div.focus();\n",
       "    }\n",
       "\n",
       "    window.setTimeout(set_focus, 100);\n",
       "}\n",
       "\n",
       "mpl.figure.prototype._init_toolbar = function() {\n",
       "    var fig = this;\n",
       "\n",
       "    var nav_element = $('<div/>')\n",
       "    nav_element.attr('style', 'width: 100%');\n",
       "    this.root.append(nav_element);\n",
       "\n",
       "    // Define a callback function for later on.\n",
       "    function toolbar_event(event) {\n",
       "        return fig.toolbar_button_onclick(event['data']);\n",
       "    }\n",
       "    function toolbar_mouse_event(event) {\n",
       "        return fig.toolbar_button_onmouseover(event['data']);\n",
       "    }\n",
       "\n",
       "    for(var toolbar_ind in mpl.toolbar_items) {\n",
       "        var name = mpl.toolbar_items[toolbar_ind][0];\n",
       "        var tooltip = mpl.toolbar_items[toolbar_ind][1];\n",
       "        var image = mpl.toolbar_items[toolbar_ind][2];\n",
       "        var method_name = mpl.toolbar_items[toolbar_ind][3];\n",
       "\n",
       "        if (!name) {\n",
       "            // put a spacer in here.\n",
       "            continue;\n",
       "        }\n",
       "        var button = $('<button/>');\n",
       "        button.addClass('ui-button ui-widget ui-state-default ui-corner-all ' +\n",
       "                        'ui-button-icon-only');\n",
       "        button.attr('role', 'button');\n",
       "        button.attr('aria-disabled', 'false');\n",
       "        button.click(method_name, toolbar_event);\n",
       "        button.mouseover(tooltip, toolbar_mouse_event);\n",
       "\n",
       "        var icon_img = $('<span/>');\n",
       "        icon_img.addClass('ui-button-icon-primary ui-icon');\n",
       "        icon_img.addClass(image);\n",
       "        icon_img.addClass('ui-corner-all');\n",
       "\n",
       "        var tooltip_span = $('<span/>');\n",
       "        tooltip_span.addClass('ui-button-text');\n",
       "        tooltip_span.html(tooltip);\n",
       "\n",
       "        button.append(icon_img);\n",
       "        button.append(tooltip_span);\n",
       "\n",
       "        nav_element.append(button);\n",
       "    }\n",
       "\n",
       "    var fmt_picker_span = $('<span/>');\n",
       "\n",
       "    var fmt_picker = $('<select/>');\n",
       "    fmt_picker.addClass('mpl-toolbar-option ui-widget ui-widget-content');\n",
       "    fmt_picker_span.append(fmt_picker);\n",
       "    nav_element.append(fmt_picker_span);\n",
       "    this.format_dropdown = fmt_picker[0];\n",
       "\n",
       "    for (var ind in mpl.extensions) {\n",
       "        var fmt = mpl.extensions[ind];\n",
       "        var option = $(\n",
       "            '<option/>', {selected: fmt === mpl.default_extension}).html(fmt);\n",
       "        fmt_picker.append(option)\n",
       "    }\n",
       "\n",
       "    // Add hover states to the ui-buttons\n",
       "    $( \".ui-button\" ).hover(\n",
       "        function() { $(this).addClass(\"ui-state-hover\");},\n",
       "        function() { $(this).removeClass(\"ui-state-hover\");}\n",
       "    );\n",
       "\n",
       "    var status_bar = $('<span class=\"mpl-message\"/>');\n",
       "    nav_element.append(status_bar);\n",
       "    this.message = status_bar[0];\n",
       "}\n",
       "\n",
       "mpl.figure.prototype.request_resize = function(x_pixels, y_pixels) {\n",
       "    // Request matplotlib to resize the figure. Matplotlib will then trigger a resize in the client,\n",
       "    // which will in turn request a refresh of the image.\n",
       "    this.send_message('resize', {'width': x_pixels, 'height': y_pixels});\n",
       "}\n",
       "\n",
       "mpl.figure.prototype.send_message = function(type, properties) {\n",
       "    properties['type'] = type;\n",
       "    properties['figure_id'] = this.id;\n",
       "    this.ws.send(JSON.stringify(properties));\n",
       "}\n",
       "\n",
       "mpl.figure.prototype.send_draw_message = function() {\n",
       "    if (!this.waiting) {\n",
       "        this.waiting = true;\n",
       "        this.ws.send(JSON.stringify({type: \"draw\", figure_id: this.id}));\n",
       "    }\n",
       "}\n",
       "\n",
       "\n",
       "mpl.figure.prototype.handle_save = function(fig, msg) {\n",
       "    var format_dropdown = fig.format_dropdown;\n",
       "    var format = format_dropdown.options[format_dropdown.selectedIndex].value;\n",
       "    fig.ondownload(fig, format);\n",
       "}\n",
       "\n",
       "\n",
       "mpl.figure.prototype.handle_resize = function(fig, msg) {\n",
       "    var size = msg['size'];\n",
       "    if (size[0] != fig.canvas.width || size[1] != fig.canvas.height) {\n",
       "        fig._resize_canvas(size[0], size[1]);\n",
       "        fig.send_message(\"refresh\", {});\n",
       "    };\n",
       "}\n",
       "\n",
       "mpl.figure.prototype.handle_rubberband = function(fig, msg) {\n",
       "    var x0 = msg['x0'] / mpl.ratio;\n",
       "    var y0 = (fig.canvas.height - msg['y0']) / mpl.ratio;\n",
       "    var x1 = msg['x1'] / mpl.ratio;\n",
       "    var y1 = (fig.canvas.height - msg['y1']) / mpl.ratio;\n",
       "    x0 = Math.floor(x0) + 0.5;\n",
       "    y0 = Math.floor(y0) + 0.5;\n",
       "    x1 = Math.floor(x1) + 0.5;\n",
       "    y1 = Math.floor(y1) + 0.5;\n",
       "    var min_x = Math.min(x0, x1);\n",
       "    var min_y = Math.min(y0, y1);\n",
       "    var width = Math.abs(x1 - x0);\n",
       "    var height = Math.abs(y1 - y0);\n",
       "\n",
       "    fig.rubberband_context.clearRect(\n",
       "        0, 0, fig.canvas.width, fig.canvas.height);\n",
       "\n",
       "    fig.rubberband_context.strokeRect(min_x, min_y, width, height);\n",
       "}\n",
       "\n",
       "mpl.figure.prototype.handle_figure_label = function(fig, msg) {\n",
       "    // Updates the figure title.\n",
       "    fig.header.textContent = msg['label'];\n",
       "}\n",
       "\n",
       "mpl.figure.prototype.handle_cursor = function(fig, msg) {\n",
       "    var cursor = msg['cursor'];\n",
       "    switch(cursor)\n",
       "    {\n",
       "    case 0:\n",
       "        cursor = 'pointer';\n",
       "        break;\n",
       "    case 1:\n",
       "        cursor = 'default';\n",
       "        break;\n",
       "    case 2:\n",
       "        cursor = 'crosshair';\n",
       "        break;\n",
       "    case 3:\n",
       "        cursor = 'move';\n",
       "        break;\n",
       "    }\n",
       "    fig.rubberband_canvas.style.cursor = cursor;\n",
       "}\n",
       "\n",
       "mpl.figure.prototype.handle_message = function(fig, msg) {\n",
       "    fig.message.textContent = msg['message'];\n",
       "}\n",
       "\n",
       "mpl.figure.prototype.handle_draw = function(fig, msg) {\n",
       "    // Request the server to send over a new figure.\n",
       "    fig.send_draw_message();\n",
       "}\n",
       "\n",
       "mpl.figure.prototype.handle_image_mode = function(fig, msg) {\n",
       "    fig.image_mode = msg['mode'];\n",
       "}\n",
       "\n",
       "mpl.figure.prototype.updated_canvas_event = function() {\n",
       "    // Called whenever the canvas gets updated.\n",
       "    this.send_message(\"ack\", {});\n",
       "}\n",
       "\n",
       "// A function to construct a web socket function for onmessage handling.\n",
       "// Called in the figure constructor.\n",
       "mpl.figure.prototype._make_on_message_function = function(fig) {\n",
       "    return function socket_on_message(evt) {\n",
       "        if (evt.data instanceof Blob) {\n",
       "            /* FIXME: We get \"Resource interpreted as Image but\n",
       "             * transferred with MIME type text/plain:\" errors on\n",
       "             * Chrome.  But how to set the MIME type?  It doesn't seem\n",
       "             * to be part of the websocket stream */\n",
       "            evt.data.type = \"image/png\";\n",
       "\n",
       "            /* Free the memory for the previous frames */\n",
       "            if (fig.imageObj.src) {\n",
       "                (window.URL || window.webkitURL).revokeObjectURL(\n",
       "                    fig.imageObj.src);\n",
       "            }\n",
       "\n",
       "            fig.imageObj.src = (window.URL || window.webkitURL).createObjectURL(\n",
       "                evt.data);\n",
       "            fig.updated_canvas_event();\n",
       "            fig.waiting = false;\n",
       "            return;\n",
       "        }\n",
       "        else if (typeof evt.data === 'string' && evt.data.slice(0, 21) == \"data:image/png;base64\") {\n",
       "            fig.imageObj.src = evt.data;\n",
       "            fig.updated_canvas_event();\n",
       "            fig.waiting = false;\n",
       "            return;\n",
       "        }\n",
       "\n",
       "        var msg = JSON.parse(evt.data);\n",
       "        var msg_type = msg['type'];\n",
       "\n",
       "        // Call the  \"handle_{type}\" callback, which takes\n",
       "        // the figure and JSON message as its only arguments.\n",
       "        try {\n",
       "            var callback = fig[\"handle_\" + msg_type];\n",
       "        } catch (e) {\n",
       "            console.log(\"No handler for the '\" + msg_type + \"' message type: \", msg);\n",
       "            return;\n",
       "        }\n",
       "\n",
       "        if (callback) {\n",
       "            try {\n",
       "                // console.log(\"Handling '\" + msg_type + \"' message: \", msg);\n",
       "                callback(fig, msg);\n",
       "            } catch (e) {\n",
       "                console.log(\"Exception inside the 'handler_\" + msg_type + \"' callback:\", e, e.stack, msg);\n",
       "            }\n",
       "        }\n",
       "    };\n",
       "}\n",
       "\n",
       "// from http://stackoverflow.com/questions/1114465/getting-mouse-location-in-canvas\n",
       "mpl.findpos = function(e) {\n",
       "    //this section is from http://www.quirksmode.org/js/events_properties.html\n",
       "    var targ;\n",
       "    if (!e)\n",
       "        e = window.event;\n",
       "    if (e.target)\n",
       "        targ = e.target;\n",
       "    else if (e.srcElement)\n",
       "        targ = e.srcElement;\n",
       "    if (targ.nodeType == 3) // defeat Safari bug\n",
       "        targ = targ.parentNode;\n",
       "\n",
       "    // jQuery normalizes the pageX and pageY\n",
       "    // pageX,Y are the mouse positions relative to the document\n",
       "    // offset() returns the position of the element relative to the document\n",
       "    var x = e.pageX - $(targ).offset().left;\n",
       "    var y = e.pageY - $(targ).offset().top;\n",
       "\n",
       "    return {\"x\": x, \"y\": y};\n",
       "};\n",
       "\n",
       "/*\n",
       " * return a copy of an object with only non-object keys\n",
       " * we need this to avoid circular references\n",
       " * http://stackoverflow.com/a/24161582/3208463\n",
       " */\n",
       "function simpleKeys (original) {\n",
       "  return Object.keys(original).reduce(function (obj, key) {\n",
       "    if (typeof original[key] !== 'object')\n",
       "        obj[key] = original[key]\n",
       "    return obj;\n",
       "  }, {});\n",
       "}\n",
       "\n",
       "mpl.figure.prototype.mouse_event = function(event, name) {\n",
       "    var canvas_pos = mpl.findpos(event)\n",
       "\n",
       "    if (name === 'button_press')\n",
       "    {\n",
       "        this.canvas.focus();\n",
       "        this.canvas_div.focus();\n",
       "    }\n",
       "\n",
       "    var x = canvas_pos.x * mpl.ratio;\n",
       "    var y = canvas_pos.y * mpl.ratio;\n",
       "\n",
       "    this.send_message(name, {x: x, y: y, button: event.button,\n",
       "                             step: event.step,\n",
       "                             guiEvent: simpleKeys(event)});\n",
       "\n",
       "    /* This prevents the web browser from automatically changing to\n",
       "     * the text insertion cursor when the button is pressed.  We want\n",
       "     * to control all of the cursor setting manually through the\n",
       "     * 'cursor' event from matplotlib */\n",
       "    event.preventDefault();\n",
       "    return false;\n",
       "}\n",
       "\n",
       "mpl.figure.prototype._key_event_extra = function(event, name) {\n",
       "    // Handle any extra behaviour associated with a key event\n",
       "}\n",
       "\n",
       "mpl.figure.prototype.key_event = function(event, name) {\n",
       "\n",
       "    // Prevent repeat events\n",
       "    if (name == 'key_press')\n",
       "    {\n",
       "        if (event.which === this._key)\n",
       "            return;\n",
       "        else\n",
       "            this._key = event.which;\n",
       "    }\n",
       "    if (name == 'key_release')\n",
       "        this._key = null;\n",
       "\n",
       "    var value = '';\n",
       "    if (event.ctrlKey && event.which != 17)\n",
       "        value += \"ctrl+\";\n",
       "    if (event.altKey && event.which != 18)\n",
       "        value += \"alt+\";\n",
       "    if (event.shiftKey && event.which != 16)\n",
       "        value += \"shift+\";\n",
       "\n",
       "    value += 'k';\n",
       "    value += event.which.toString();\n",
       "\n",
       "    this._key_event_extra(event, name);\n",
       "\n",
       "    this.send_message(name, {key: value,\n",
       "                             guiEvent: simpleKeys(event)});\n",
       "    return false;\n",
       "}\n",
       "\n",
       "mpl.figure.prototype.toolbar_button_onclick = function(name) {\n",
       "    if (name == 'download') {\n",
       "        this.handle_save(this, null);\n",
       "    } else {\n",
       "        this.send_message(\"toolbar_button\", {name: name});\n",
       "    }\n",
       "};\n",
       "\n",
       "mpl.figure.prototype.toolbar_button_onmouseover = function(tooltip) {\n",
       "    this.message.textContent = tooltip;\n",
       "};\n",
       "mpl.toolbar_items = [[\"Home\", \"Reset original view\", \"fa fa-home icon-home\", \"home\"], [\"Back\", \"Back to  previous view\", \"fa fa-arrow-left icon-arrow-left\", \"back\"], [\"Forward\", \"Forward to next view\", \"fa fa-arrow-right icon-arrow-right\", \"forward\"], [\"\", \"\", \"\", \"\"], [\"Pan\", \"Pan axes with left mouse, zoom with right\", \"fa fa-arrows icon-move\", \"pan\"], [\"Zoom\", \"Zoom to rectangle\", \"fa fa-square-o icon-check-empty\", \"zoom\"], [\"\", \"\", \"\", \"\"], [\"Download\", \"Download plot\", \"fa fa-floppy-o icon-save\", \"download\"]];\n",
       "\n",
       "mpl.extensions = [\"eps\", \"jpeg\", \"pdf\", \"png\", \"ps\", \"raw\", \"svg\", \"tif\"];\n",
       "\n",
       "mpl.default_extension = \"png\";var comm_websocket_adapter = function(comm) {\n",
       "    // Create a \"websocket\"-like object which calls the given IPython comm\n",
       "    // object with the appropriate methods. Currently this is a non binary\n",
       "    // socket, so there is still some room for performance tuning.\n",
       "    var ws = {};\n",
       "\n",
       "    ws.close = function() {\n",
       "        comm.close()\n",
       "    };\n",
       "    ws.send = function(m) {\n",
       "        //console.log('sending', m);\n",
       "        comm.send(m);\n",
       "    };\n",
       "    // Register the callback with on_msg.\n",
       "    comm.on_msg(function(msg) {\n",
       "        //console.log('receiving', msg['content']['data'], msg);\n",
       "        // Pass the mpl event to the overridden (by mpl) onmessage function.\n",
       "        ws.onmessage(msg['content']['data'])\n",
       "    });\n",
       "    return ws;\n",
       "}\n",
       "\n",
       "mpl.mpl_figure_comm = function(comm, msg) {\n",
       "    // This is the function which gets called when the mpl process\n",
       "    // starts-up an IPython Comm through the \"matplotlib\" channel.\n",
       "\n",
       "    var id = msg.content.data.id;\n",
       "    // Get hold of the div created by the display call when the Comm\n",
       "    // socket was opened in Python.\n",
       "    var element = $(\"#\" + id);\n",
       "    var ws_proxy = comm_websocket_adapter(comm)\n",
       "\n",
       "    function ondownload(figure, format) {\n",
       "        window.open(figure.imageObj.src);\n",
       "    }\n",
       "\n",
       "    var fig = new mpl.figure(id, ws_proxy,\n",
       "                           ondownload,\n",
       "                           element.get(0));\n",
       "\n",
       "    // Call onopen now - mpl needs it, as it is assuming we've passed it a real\n",
       "    // web socket which is closed, not our websocket->open comm proxy.\n",
       "    ws_proxy.onopen();\n",
       "\n",
       "    fig.parent_element = element.get(0);\n",
       "    fig.cell_info = mpl.find_output_cell(\"<div id='\" + id + \"'></div>\");\n",
       "    if (!fig.cell_info) {\n",
       "        console.error(\"Failed to find cell for figure\", id, fig);\n",
       "        return;\n",
       "    }\n",
       "\n",
       "    var output_index = fig.cell_info[2]\n",
       "    var cell = fig.cell_info[0];\n",
       "\n",
       "};\n",
       "\n",
       "mpl.figure.prototype.handle_close = function(fig, msg) {\n",
       "    var width = fig.canvas.width/mpl.ratio\n",
       "    fig.root.unbind('remove')\n",
       "\n",
       "    // Update the output cell to use the data from the current canvas.\n",
       "    fig.push_to_output();\n",
       "    var dataURL = fig.canvas.toDataURL();\n",
       "    // Re-enable the keyboard manager in IPython - without this line, in FF,\n",
       "    // the notebook keyboard shortcuts fail.\n",
       "    IPython.keyboard_manager.enable()\n",
       "    $(fig.parent_element).html('<img src=\"' + dataURL + '\" width=\"' + width + '\">');\n",
       "    fig.close_ws(fig, msg);\n",
       "}\n",
       "\n",
       "mpl.figure.prototype.close_ws = function(fig, msg){\n",
       "    fig.send_message('closing', msg);\n",
       "    // fig.ws.close()\n",
       "}\n",
       "\n",
       "mpl.figure.prototype.push_to_output = function(remove_interactive) {\n",
       "    // Turn the data on the canvas into data in the output cell.\n",
       "    var width = this.canvas.width/mpl.ratio\n",
       "    var dataURL = this.canvas.toDataURL();\n",
       "    this.cell_info[1]['text/html'] = '<img src=\"' + dataURL + '\" width=\"' + width + '\">';\n",
       "}\n",
       "\n",
       "mpl.figure.prototype.updated_canvas_event = function() {\n",
       "    // Tell IPython that the notebook contents must change.\n",
       "    IPython.notebook.set_dirty(true);\n",
       "    this.send_message(\"ack\", {});\n",
       "    var fig = this;\n",
       "    // Wait a second, then push the new image to the DOM so\n",
       "    // that it is saved nicely (might be nice to debounce this).\n",
       "    setTimeout(function () { fig.push_to_output() }, 1000);\n",
       "}\n",
       "\n",
       "mpl.figure.prototype._init_toolbar = function() {\n",
       "    var fig = this;\n",
       "\n",
       "    var nav_element = $('<div/>')\n",
       "    nav_element.attr('style', 'width: 100%');\n",
       "    this.root.append(nav_element);\n",
       "\n",
       "    // Define a callback function for later on.\n",
       "    function toolbar_event(event) {\n",
       "        return fig.toolbar_button_onclick(event['data']);\n",
       "    }\n",
       "    function toolbar_mouse_event(event) {\n",
       "        return fig.toolbar_button_onmouseover(event['data']);\n",
       "    }\n",
       "\n",
       "    for(var toolbar_ind in mpl.toolbar_items){\n",
       "        var name = mpl.toolbar_items[toolbar_ind][0];\n",
       "        var tooltip = mpl.toolbar_items[toolbar_ind][1];\n",
       "        var image = mpl.toolbar_items[toolbar_ind][2];\n",
       "        var method_name = mpl.toolbar_items[toolbar_ind][3];\n",
       "\n",
       "        if (!name) { continue; };\n",
       "\n",
       "        var button = $('<button class=\"btn btn-default\" href=\"#\" title=\"' + name + '\"><i class=\"fa ' + image + ' fa-lg\"></i></button>');\n",
       "        button.click(method_name, toolbar_event);\n",
       "        button.mouseover(tooltip, toolbar_mouse_event);\n",
       "        nav_element.append(button);\n",
       "    }\n",
       "\n",
       "    // Add the status bar.\n",
       "    var status_bar = $('<span class=\"mpl-message\" style=\"text-align:right; float: right;\"/>');\n",
       "    nav_element.append(status_bar);\n",
       "    this.message = status_bar[0];\n",
       "\n",
       "    // Add the close button to the window.\n",
       "    var buttongrp = $('<div class=\"btn-group inline pull-right\"></div>');\n",
       "    var button = $('<button class=\"btn btn-mini btn-primary\" href=\"#\" title=\"Stop Interaction\"><i class=\"fa fa-power-off icon-remove icon-large\"></i></button>');\n",
       "    button.click(function (evt) { fig.handle_close(fig, {}); } );\n",
       "    button.mouseover('Stop Interaction', toolbar_mouse_event);\n",
       "    buttongrp.append(button);\n",
       "    var titlebar = this.root.find($('.ui-dialog-titlebar'));\n",
       "    titlebar.prepend(buttongrp);\n",
       "}\n",
       "\n",
       "mpl.figure.prototype._root_extra_style = function(el){\n",
       "    var fig = this\n",
       "    el.on(\"remove\", function(){\n",
       "\tfig.close_ws(fig, {});\n",
       "    });\n",
       "}\n",
       "\n",
       "mpl.figure.prototype._canvas_extra_style = function(el){\n",
       "    // this is important to make the div 'focusable\n",
       "    el.attr('tabindex', 0)\n",
       "    // reach out to IPython and tell the keyboard manager to turn it's self\n",
       "    // off when our div gets focus\n",
       "\n",
       "    // location in version 3\n",
       "    if (IPython.notebook.keyboard_manager) {\n",
       "        IPython.notebook.keyboard_manager.register_events(el);\n",
       "    }\n",
       "    else {\n",
       "        // location in version 2\n",
       "        IPython.keyboard_manager.register_events(el);\n",
       "    }\n",
       "\n",
       "}\n",
       "\n",
       "mpl.figure.prototype._key_event_extra = function(event, name) {\n",
       "    var manager = IPython.notebook.keyboard_manager;\n",
       "    if (!manager)\n",
       "        manager = IPython.keyboard_manager;\n",
       "\n",
       "    // Check for shift+enter\n",
       "    if (event.shiftKey && event.which == 13) {\n",
       "        this.canvas_div.blur();\n",
       "        event.shiftKey = false;\n",
       "        // Send a \"J\" for go to next cell\n",
       "        event.which = 74;\n",
       "        event.keyCode = 74;\n",
       "        manager.command_mode();\n",
       "        manager.handle_keydown(event);\n",
       "    }\n",
       "}\n",
       "\n",
       "mpl.figure.prototype.handle_save = function(fig, msg) {\n",
       "    fig.ondownload(fig, null);\n",
       "}\n",
       "\n",
       "\n",
       "mpl.find_output_cell = function(html_output) {\n",
       "    // Return the cell and output element which can be found *uniquely* in the notebook.\n",
       "    // Note - this is a bit hacky, but it is done because the \"notebook_saving.Notebook\"\n",
       "    // IPython event is triggered only after the cells have been serialised, which for\n",
       "    // our purposes (turning an active figure into a static one), is too late.\n",
       "    var cells = IPython.notebook.get_cells();\n",
       "    var ncells = cells.length;\n",
       "    for (var i=0; i<ncells; i++) {\n",
       "        var cell = cells[i];\n",
       "        if (cell.cell_type === 'code'){\n",
       "            for (var j=0; j<cell.output_area.outputs.length; j++) {\n",
       "                var data = cell.output_area.outputs[j];\n",
       "                if (data.data) {\n",
       "                    // IPython >= 3 moved mimebundle to data attribute of output\n",
       "                    data = data.data;\n",
       "                }\n",
       "                if (data['text/html'] == html_output) {\n",
       "                    return [cell, data, j];\n",
       "                }\n",
       "            }\n",
       "        }\n",
       "    }\n",
       "}\n",
       "\n",
       "// Register the function which deals with the matplotlib target/channel.\n",
       "// The kernel may be null if the page has been refreshed.\n",
       "if (IPython.notebook.kernel != null) {\n",
       "    IPython.notebook.kernel.comm_manager.register_target('matplotlib', mpl.mpl_figure_comm);\n",
       "}\n"
      ],
      "text/plain": [
       "<IPython.core.display.Javascript object>"
      ]
     },
     "metadata": {},
     "output_type": "display_data"
    },
    {
     "data": {
      "text/html": [
       "<img src=\"data:image/png;base64,iVBORw0KGgoAAAANSUhEUgAAAyAAAAJYCAYAAACadoJwAAAgAElEQVR4XuzdB3RVVfbH8V86pFBD7723ALbBEZWig4oCo4gozoxdsYtdwfk7KBYUFJUZRxhBQMCGvYCoiAKB0FvoPYSekJD6X/eioUhCXs7J45XvW4s1/4F79z3nc/Za/73nlhOSn5+fL34IIIAAAggggAACCCCAgBcEQmhAvKDMJRBAAAEEEEAAAQQQQMAVoAEhERBAAAEEEEAAAQQQQMBrAjQgXqPmQggggAACCCCAAAIIIEADQg4ggAACCCCAAAIIIICA1wRoQLxGzYUQQAABBBBAAAEEEECABoQcQAABBBBAAAEEEEAAAa8J0IB4jZoLIYAAAggggAACCCCAAA0IOYAAAggggAACCCCAAAJeE6AB8Ro1F0IAAQQQQAABBBBAAAEaEHIAAQQQQAABBBBAAAEEvCZAA+I1ai6EAAIIIIAAAggggAACNCDkAAIIIIAAAggggAACCHhNgAbEa9RcCAEEEEAAAQQQQAABBGhAyAEEEEAAAQQQQAABBBDwmgANiNeouRACCCCAAAIIIIAAAgjQgJADCCCAAAIIIIAAAggg4DUBGhCvUXMhBBBAAAEEEEAAAQQQoAEhBxBAAAEEEEAAAQQQQMBrAjQgXqPmQggggAACCCCAAAIIIEADQg4ggAACCCCAAAIIIICA1wRoQLxGzYUQQAABBBBAAAEEEECABoQcQAABBBBAAAEEEEAAAa8J0IB4jZoLIYAAAggggAACCCCAAA0IOYAAAggggAACCCCAAAJeE6AB8Ro1F0IAAQQQQAABBBBAAAEaEHIAAQQQQAABBBBAAAEEvCZAA+I1ai6EAAIIIIAAAggggAACNCDkAAIIIIAAAggggAACCHhNgAbEa9RcCAEEEEAAAQQQQAABBGhAyAEEEEAAAQQQQAABBBDwmgANiNeouRACCCCAAAIIIIAAAgjQgJADCCCAAAIIIIAAAggg4DUBGhCvUXMhBBBAAAEEEEAAAQQQoAEhBxBAAAEEEEAAAQQQQMBrAjQgXqPmQggggAACCCCAAAIIIEADQg4ggAACCCCAAAIIIICA1wRoQLxGzYUQQAABBBBAAAEEEECABoQcQAABBBBAAAEEEEAAAa8J0IB4jZoLIYAAAggggAACCCCAAA0IOYAAAggggAACCCCAAAJeE6AB8Ro1F0IAAQQQQAABBBBAAAEaEHIAAQQQQAABBBBAAAEEvCZAA+I1ai6EAAIIIIAAAggggAACNCDkAAIIIIAAAggggAACCHhNgAbEa9RcCAEEEEAAAQQQQAABBGhAyAEEEEAAAQQQQAABBBDwmgANiNeouRACCCCAAAIIIIAAAgjQgJADCCCAAAIIIIAAAggg4DUBGhCvUXMhBBBAAAEEEEAAAQQQoAEhBxBAAAEEEEAAAQQQQMBrAjQgXqPmQggggAACCCCAAAIIIEADQg4ggAACCCCAAAIIIICA1wRoQLxGzYUQQAABBBBAAAEEEECABoQcQAABBBBAAAEEEEAAAa8J0IB4jZoLIYAAAggggAACCCCAAA0IOYAAAggggAACCCCAAAJeE6AB8Ro1F0IAAQQQQAABBBBAAAEaEHIAAQQQQAABBBBAAAEEvCZAA+I1ai6EAAIIIIAAAggggAACNCDkAAIIIIAAAggggAACCHhNgAbEa9RcCAEEEEAAAQQQQAABBGhAyAEEEEAAAQQQQAABBBDwmgANiNeouRACCCCAAAIIIIAAAgjQgJADCCCAAAIIIIAAAggg4DUBGhCvUXMhBBBAAAEEEEAAAQQQoAEhBxBAAAEEEEAAAQQQQMBrAjQgXqPmQggggAACCCCAAAIIIEADQg4ggAACCCCAAAIIIICA1wRoQLxGzYUQQAABBBBAAAEEEECABoQcQAABBBBAAAEEEEAAAa8J0IB4jfr0F0pNTdVXX32l+vXrq2zZsqc/gSMQQAABBBBAAAEEvCqQkZGhjRs3qmfPnoqPj/fqtQPlYjQgPrSSEydO1MCBA31oRAwFAQQQQAABBBBA4FQCEyZM0HXXXQdOCQRoQEqAVlqnzJkzR126dJGT0C1atCityxAXAQQQQAABBBBAoIQCK1eudP8H459++kl/+tOfShgluE+jAfGh9V+4cKE6duyoxMREJSQk+NDIGAoCCCCAAAIIIICAI0C9Zp4HNCDmhtYikNDWKAmEAAIIIIAAAgiUigD1mjkrDYi5obUIJLQ1SgIhgAACCCCAAAKlIkC9Zs5KA2JuaC0CCW2NkkAIIIAAAggggECpCFCvmbPSgJgbWotAQlujJBACCCCAAAIIIFAqAtRr5qw0IOaG1iKQ0NYoCYQAAggggAACCJSKAPWaOSsNiLmhtQgktDVKAiGAAAIIIIAAAqUiQL1mzkoDYm5oLQIJbY2SQAgggAACCCCAQKkIUK+Zs9KAmBtai0BCW6MkEAIIIIAAAgggUCoC1GvmrDQg5obWIpDQ1igJhAACCCCAAAIIlIoA9Zo5Kw2IuaG1CCS0NUoCIYAAAggggAACpSJAvWbOSgNibmgtAgltjZJACCCAAAIIIIBAqQhQr5mz0oCYG1qLQEJboyQQAggggAACCCBQKgLUa+asNCDmhtYikNDWKAmEAAIIIIAAAgiUigD1mjkrDYi5obUIJLQ1SgIhgAACCCCAAAKlIkC9Zs5KA2JuaC0CCW2NkkAIIIAAAggggECpCFCvmbPSgJgbWotAQlujJBACCCCAAAIIIFAqAtRr5qw0IOaG1iKQ0NYoCYQAAggggAACASaQn5+v9Kxc7UvP0qHMHKVn5SgjK1dZOXnKys3TRc2rqkxEWKnPmnrNnJgGxNzQWgQS2holgRBAAAEEEEDAzwScBmPnwUyt352ujXvStXnvYW3dl6GdBzLdP7vTjrjNRmG/uY9epBrly5b6rKnXzIlpQMwNrUUgoa1REggBBBBAAAEEfFggMztXK3cc1LLtB7Vi+0Gt2nlQa3elKe1ITolHPfuhrqpXOabE5xf3ROq14koVfhwNiLmhtQgktDVKAiGAAAIIIICADwls35+h+Rv3auGmfVq4eb/bfOTk5Z92hFHhoapZoayqlYtSlbgyio+NVMXoSMWVCVdsVLjKRoYpKjxMkeGh6ly/oqIjw08b0/QA6jVTQYkGxNzQWgQS2holgRBAAAEEEEDgDAqkHMrUz8l79PO6VM1dv0db9mYUOZraFcuqefU4Na4ap0ZVYtQgPkZ1K0erSmyUQkJCzuBM/nhp6jXz5aABMTe0FoGEtkZJIAQQQAABBBDwokB2bp4SN+3TrNUpmr16t1btPFTo1WtVKKsOdSuofZ0Kal2rvFrWLKdyZSK8OFqzS1Gvmfk5Z9OAmBtai0BCW6MkEAIIIIAAAgiUssDBzGzNWpWib1em6PvVKe6XqU71c+5snNOwsjrXr6RO9SuqWrkypTyy0g1PvWbuSwPym+HMmTN18cUXu/9t7dq1aty4cZG6Xbt21ezZs/9wTFhYmHJySvYCFQltntBEQAABBBBAAIHSE3A+gfv1ip36YtlOzUlOVXbuH9/jqF6ujP7cNF7nN6mi8xpVVuXYqNIb0BmITL1mjk4DIikrK0vt2rXTli1blJ6eXuwGZMmSJRo1atQJqxAaGqoBAwaUaGVI6BKxcRICCCCAAAIIlKLAocxsfbV8l2Ys3u42HSe/PO68otGxbkVd3KKauxdH02qxPvfehk0e6jVzTRoQScOHD9crr7ziNg7Ofxb3DkhycrK2bt1qvgq/RSChrVESCAEEEEAAAQQMBJx3Opx3OT5ctE3frNz1h/03IsJC1KVxvC5pXd1tPOID7C5HUXTUawaJ9dupQd+AbNq0SS1bttRrr70m5/8eNmyYRw2Ic45z1yQuLs642yehzROaCAgggAACCCBQcgFnT46piVv0SdJ27UnPOiGQ03T8uUkV9WpbQ91aVvOrF8dLLvLHM6nXzDWDvgHp3bu3UlJS9PPPP7vNhycNyJw5cxQREaGMjAyVK1dOffr00fPPP6+qVauWaGVI6BKxcRICCCCAAAIIGAgcyMjWJ0nbNGXBFi3bdvAPkc5pWEm929fSpa2rq0J0pMGVAuNU6jXzdQzqBuTTTz+V04DMmzdPHTt21NChQ4vdgPztb39T7dq11aZNG+Xn5+u7777T22+/rYYNG2r+/PmqUKFCkauzY8cOOX+O/61cuVIDBw5UYmKiEhISzFeXCAgggAACCCCAwCkEnNpl0Zb9eu/Xzfp0yXZlZuedcFTD+Bj17VhbV3aoJeezufyOCdCAmGdD0DYgzl2LVq1aqXv37nrrrbdcSU8akFPR//vf/9Ytt9yip59+2o1V1O/3a53qGBoQ88QmAgIIIIAAAgj8UeBwVo4+Ttqud+du0oodJ97tiI4M0+Vta+rqzrWVULei8aPlgepPA2K+skHbgDzxxBMaM2aM1qxZo/j4eCsNiPO/JlSpUkVNmzZ1H+kq6scdEPPkJQICCCCAAAIIFE9g0550t+l4f8EWHTxpv452tcvr2rPq6rJ2NRUbFV68gEF8FA2I+eIHZQOyfft291Gpe++9VzfddFOBovNJ3dGjR7uPU9WvX989xtOf8+hUWlqa29h4+iOhPRXjeAQQQAABBBAoTMD5H0bnrtuj/87ZoO9WpSj/uC07ykaE6coONXXd2fXc3cj5FV+Aeq34VoUdGZQNSFJSkjp06FCkXkxMjNtIePLLzc1176a0bt1aP/74oyenuseS0B6TcQICCCCAAAIInCRwJCfX/YrV2z9t0Kqdh0741wbxMbrh3Hru+x3lykRgVwIB6rUSoJ10SlA2IAcOHNA333zzB733339fU6dOde+COC+YX3nllTp8+LA2b97sNha/P6rlnB8bGytn1/Pjf84XsB555BF3XxHnPz39kdCeinE8AggggAACCPwucOBwtib8uknjf96olENHToDp2qyKbjyvvvsZ3dDQENAMBKjXDPB+OzUoG5DC2E71Evr333+vCy+88IQXyz/66CM9+OCDuuKKK9zHtJw7HzNnztQnn3zifr3qhx9+kHMHxdMfCe2pGMcjgAACCCCAwPb9Ge7djknzNutwVm4BSJmIUPVNqK2//amBGleNBcqSAPWaOSQNyHGGxW1AnM/lPvnkk+7ncnft2uV+htdpRPr166chQ4aUqPlwhkFCmyc0ERBAAAEEEAgWgeSUNL05e50+WrRNOXnHXvBwdiW/8bx67vsdFWPYt8N2PlCvmYvSgJgbWotAQlujJBACCCCAAAIBK7Bs2wG9PitZXy7fecKL5c7eHTf/uaGu6lBLZSJOfEw8YDHOwMSo18zRaUDMDa1FIKGtURIIAQQQQACBgBNYuHmfXpuZrJmrUk6Ym/MZ3du7NlL3ltUVxvsdpb7u1GvmxDQg5obWIpDQ1igJhAACCCCAQMAIzN+4V6O+W6sf16aeMKfzGlXWnRc2lvOfISG8WO6tBadeM5emATE3tBaBhLZGSSAEEEAAAQT8XsBpPF75do3mJO85YS4XNa/qNh4d61X0+zn64wSo18xXjQbE3NBaBBLaGiWBEEAAAQQQ8FuBxE37NPKbNfop+cQ7Ht1bVtPdFzVRm9psHHgmF5d6zVyfBsTc0FoEEtoaJYEQQAABBBDwO4GlWw/opW9W6/vVu08Ye89W1XT3xU3UqiaNhy8sKvWa+SrQgJgbWotAQlujJBACCCCAAAJ+I7Bm1yG9/PUa96tWx/+cOx73dqPx8LWFpF4zXxEaEHNDaxFIaGuUBEIAAQQQQMDnBbbsPew+avVh0rYTPqd7YbMqur97Mx618tEVpF4zXxgaEHNDaxFIaGuUBEIAAQQQQMBnBXYfOqLXZq7Ve/M2Kzv32AaC5zasrAd7NlXHepV8duwMjI2jbeQADYgNRUsxaEAsQRIGAQQQQAABHxQ4lJmtf/+wXv/5aYMOZ+UWjLBdnQp6qEczdWkS74OjZkgnC1CvmecEDYi5obUIJLQ1SgIhgAACCCDgMwJZOXl679dNGj0zWXvSswrG1bhqrB7s0UzOS+bs4+Ezy3XagVCvnZbotAfQgJyWyHsHkNDes+ZKCCCAAAIIlLZAfn6+Plu6QyO+XK3New8XXK5G+TK6r3tT9U2ozc7lpb0IpRCfes0clQbE3NBaBBLaGiWBEEAAAQQQOKMCziaC//fZSi3esr9gHOXLRujOCxvphnPrq0xE2BkdHxcvuQD1Wsntfj+TBsTc0FoEEtoaJYEQQAABBBA4IwIbUtP13Bcr9dXyXQXXjwwP1Y3n1dedXRurfHTEGRkXF7UnQL1mbkkDYm5oLQIJbY2SQAgggAACCHhVYP/hLI36Lln/m7tROXnHvmx1ZfuaerBnM9WuGO3V8XCx0hOgXjO3pQExN7QWgYS2RkkgBBBAAAEEvCLgvGA+4ZdNevW7tTqQkV1wzbMbVNITvVqyl4dXVsG7F6FeM/emATE3tBaBhLZGSSAEEEAAAQRKVcB5wXzmqhQ9+9lKrU9NL7hWw/gYPfqXFurWoipftirVFThzwanXzO1pQMwNrUUgoa1REggBBBBAAIFSE1i985D+77MV+nFtasE1nBfM7+3WRAPPqaeIsNBSuzaBz7wA9Zr5GtCAmBtai0BCW6MkEAIIIIAAAtYF9qVn6ZVv12jCr5uV+9t7HuGhIbr+3Hq65+ImqhAdaf2aBPQ9Aeo18zWhATE3tBaBhLZGSSAEEEAAAQSsCeTk5mnSvM168es1J7zncVHzqnq8Vws1qhJr7VoE8n0B6jXzNaIBMTe0FoGEtkZJIAQQQAABBKwIzF23R8NmLNeqnYcK4jWqEqMnL2uprs2qWrkGQfxLgHrNfL1oQMwNrUUgoa1REggBBBBAAAEjge37M/Ts5yv12ZIdBXHiyoTr3m5NdcO5vOdhhOvnJ1OvmS8gDYi5obUIJLQ1SgIhgAACCCBQIoEjObn6z48b9NrMZGVk57oxQkKk/p3r6MEezVQ5NqpEcTkpcASo18zXkgbE3NBaBBLaGiWBEEAAAQQQ8Fhg1uoUDftkuTbuOVxwbkLdChp2RWv28/BYM3BPoF4zX1saEHNDaxFIaGuUBEIAAQQQQKDYAlv2HtawGSv07cpdBefEx0bp0Uub66oOtRQaGlLsWBwY+ALUa+ZrTANibmgtAgltjZJACCCAAAIInFYgMztXY39Yr9dnJetITp57fFhoiP52Xn3d062J4spEnDYGBwSfAPWa+ZrTgJgbWotAQlujJBACCCCAAAJFCny/OkVDT3rc6pyGlfRM79ZqWi0OPQQKFaBeM08OGhBzQ2sRSGhrlARCAAEEEEDglALO163++ekKfbFsZ8G/V42LcvfzuKJdTYU4b5zzQ6AIAeo18/SgATE3tBaBhLZGSSAEEEAAAQROEMjOzdM7czbolW/X6nDW0a9bOY9bDTq3vu7rzuNWpEvxBajXim9V2JE0IOaG1iKQ0NYoCYQAAggggECBwIKNe/X4h8u0etexzQQ71auof17ZWi1qlEMKAY8EqNc84jrlwTQg5obWIpDQ1igJhAACCCCAgPalZ+m5L1ZpyoItBRoVoyP06F9aqF9Cbb5uRY6USIB6rURsJ5xEA2JuaC0CCW2NkkAIIIAAAkEskJ+fr+kLt+lfn6/U3vSsAglnM8GHL2muijGRQazD1E0FqNdMBSUaEHNDaxFIaGuUBEIAAQQQCFKB5JQ0PfHRUv2yfm+BQPPqcfq/K1urU/1KQarCtG0KUK+Za9KAmBtai0BCW6MkEAIIIIBAkAk4e3q88f06909W7tE9PcpGhOnebk309y4NFBEWGmQiTLe0BKjXzGVpQMwNrUUgoa1REggBBBBAIIgEfl6Xqic+XKb1qekFs764eVUN691KtStGB5EEU/WGAPWauTINiLmhtQgktDVKAiGAAAIIBIGA85K5857H1MStBbOtVi5Kw65opZ6tqrOnRxDkwJmYIvWauToNiLmhtQgktDVKAiGAAAIIBLCA85L5x0nb9cynKwpeMnf2D7z+nHp6sGczlSsTEcCzZ2pnWoB6zXwFaEDMDa1FIKGtURIIAQQQQCBABbbsPazHP1qmH9bsLpih85L58D5t1KFuxQCdNdPyJQHqNfPVoAH5zXDmzJm6+OKL3f+2du1aNW7c+LS6P/74ox5//HElJiYqKipKPXr00IgRI1S3bt3TnnuqA0joErFxEgIIIIBAEAjk5OZp3M8b9dLXa5SRfXQn86jwUN3braluOp+XzIMgBXxmitRr5ktBAyIpKytL7dq105YtW5Senl6sBmTOnDm68MIL1bJlS9188806cOCARo4cqejoaLchiY+P93h1SGiPyTgBAQQQQCAIBJZvP6BHpi/V0m0HCmbbpXG8nr2qtepVjgkCAaboSwLUa+arQQMiafjw4XrllVc0YMAA9z+LcwekU6dO2rVrl1asWKG4uDh3JZzGo3PnznrggQf0wgsveLw6JLTHZJyAAAIIIBDAAs6ndV/9bq3G/rBeuXn57kwrREfoyV4t1SehFi+ZB/Da+/LUqNfMVyfoG5BNmza5dzFee+01Of/3sGHDTtuAOA1K06ZN9dRTT7nHH/+74IILlJycrG3btnm8OiS0x2ScgAACCCAQoAK/rN+jRz9Yqg3HfVq3d/uaeuqylqocGxWgs2Za/iBAvWa+SkHfgPTu3VspKSn6+eef3WaiOA3IpEmT3LslX3zxhS655JITVuHhhx923wPZsWOHqlev7tEKkdAecXEwAggggEAAChzMzNbwz1dp0rzNBbOrWb6Mnr2qjS5sXjUAZ8yU/E2Aes18xYK6Afn000/lNCDz5s1Tx44dNXTo0GI1IC+99JIefPBBLVmyRG3atDlhFUaNGqV77rlHCxYscGMW9nMaFOfP8b+VK1dq4MCB7qNcCQkJ5qtLBAQQQAABBPxI4JsVu/TER0u16+ARd9TOp3UHnVvf/bRubFS4H82EoQayAA2I+eoGbQOSkZGhVq1aqXv37nrrrbdcyeI2IP/85z/dx69Wr17tPop1/G/s2LG69dZb5Xwhq0uXLoWu0O/XOtUBNCDmiU0EBBBAAAH/EdiTdkRDZ6zQjMXbCwbdqEqMRvRrq471KvnPRBhpUAjQgJgvc9A2IE888YTGjBmjNWvWFHyxqrgNCHdAzBOPCAgggAACCDgbCn6yeLuGzTi2oWB4aIju6NpId17UWFHhYSAh4HMCNCDmSxKUDcj27dvVsGFD3XvvvbrpppsKFJ3Hp0aPHq3vvvtO9evXd4851Y93QMwTjwgIIIAAAsEtsPNApvu41bcrUwog2tQq7971aFGjXHDjMHufFqABMV+eoGxAkpKS1KFDhyL1YmJilJaWdspjnLsmzZo14ytY5vlHBAQQQACBIBNw7npMXbBV//xshQ5l5rizjwwP1f3dm+qmLg0UHhYaZCJM198EaEDMVywoGxBn08BvvvnmD3rvv/++pk6d6t4FqV27tq688kodPnxYmzdvdh/TOn5zQecFc+frWafaB+S+++6T85iWpz8S2lMxjkcAAQQQ8CeBrfsOu5/W/XFtasGwO9evqOf7tlXDKrH+NBXGGsQC1Gvmix+UDUhhbKd6B+T77793dzx/+umn3ZfUf//98MMP6tatm7uHyC233KKDBw/q5ZdfVlRUlJzErFKliserQ0J7TMYJCCCAAAJ+IJCXl6+J8zbruc9XKj0r1x1xdGSYHrm0uQaeXU+hoSF+MAuGiMBRAeo180ygATnO0JMGxDlt9uzZcl5md75a5TQezhe1nB3Q69WrV6KVIaFLxMZJCCCAAAI+LLB5z2ENmb5Yv6zfWzDKLo3jNbxPG9WpFO3DI2doCJxagHrNPDNoQMwNrUUgoa1REggBBBBA4AwLOHc9/jd3o57/crUyso/e9YiLCtfjvVroms51FOJs8sEPAT8UoF4zXzQaEHNDaxFIaGuUBEIAAQQQOIMCG1PTNWTaEs3beOyuR9dmVfSvq9qoZoWyZ3BkXBoBcwHqNXNDGhBzQ2sRSGhrlARCAAEEEDgDAs5dj/HuXY9VyszOO3rXo0y4nrqspfp1rM1djzOwJlzSvgD1mrkpDYi5obUIJLQ1SgIhgAACCHhZYNOedD3k3PXYcOyux0XNq7p3PaqXL+Pl0XA5BEpPgHrN3JYGxNzQWgQS2holgRBAAAEEvCTg3PV495dNeu6LVcfe9SgTrqcvb6W+CbW46+GldeAy3hOgXjO3pgExN7QWgYS2RkkgBBBAAAEvCGzZe1gPTTvxC1fc9fACPJc4owLUa+b8NCDmhtYikNDWKAmEAAIIIFCKAs5u5hN+3azhn6/U4d/29eBdj1IEJ7RPCVCvmS8HDYi5obUIJLQ1SgIhgAACCJSSwLb9GRoybbHmJO8puMIFTavoub5tVKM8X7gqJXbC+pAA9Zr5YtCAmBtai0BCW6MkEAIIIICAZQHnrsfUBVv1zKcrlHYkx40eG3X0C1d/7cQXrixzE86HBajXzBeHBsTc0FoEEtoaJYEQQAABBCwK7DqYqUemL9Gs1bsLojq7mT/fr61qsa+HRWlC+YMA9Zr5KtGAmBtai0BCW6MkEAIIIICABQHnrscni7frqY+X60BGthsxOjJMj/6lhQaeXZcvXFkwJoT/CVCvma8ZDYi5obUIJLQ1SgIhgAACCBgK7Ek7oic+WqYvlu0siHRWg0p6sV871a0cbRid0xHwXwHqNfO1owExN7QWgYS2RkkgBBBAAAEDga+W79RjHyzVnvQsN0pUeKge6tlMf/9TA4WGhhhE5lQE/F+Aes18DWlAzA2tRSChrVESCAEEEECgBALOY1bDPlmuDxZtKzi7XZ0Keumv7dS4amwJInIKAoEnQL1mvqY0IOaG1iKQ0NYoCYQAAggg4KHAT2tT3U0FdxzIdM+MCAvRPRc30W0XNFJ4WKiH0TgcgcAVoF4zX1saEHNDaxFIaGuUBEIAAeKP/7QAACAASURBVAQQKKZARlaunvtipcbP3VRwRvPqcXrp6nZqVbN8MaNwGALBI0C9Zr7WNCDmhtYikNDWKAmEAAIIIFAMgUWb9+mB9xdrfWq6e7TzesetFzTSvd2aKCo8rBgROASB4BOgXjNfcxoQc0NrEUhoa5QEQgABBBAoQiArJ0+jZ67V67OSlZd/9MB6laP18tXt1LFeJewQQKAIAeo18/SgATE3tBaBhLZGSSAEEEAAgUIE1uw6pPvfT9KybQcLjrju7Lp67C8tFBMVjhsCCJxGgHrNPEVoQMwNrUUgoa1REggBBBBA4CSBvLx8/XfOBo34arWcOyDOr1q5KI3o104XNK2CFwIIFFOAeq2YUEUcRgNibmgtAgltjZJACCCAAALHCWzdd1gPTl2sX9bvLfjby9vV1D97t1KF6EisEEDAAwHqNQ+wCjmUBsTc0FoEEtoaJYEQQAABBCTl5+frg4XbNPST5Tp0JMc1KV82Qv+8srWuaFcTIwQQKIEA9VoJ0E46hQbE3NBaBBLaGiWBEEAAgaAX2Jue5e5m/uXynQUW5zeJ1wv92ql6+TJB7wMAAiUVoF4rqdyx82hAzA2tRSChrVESCAEEEAhqgVmrUvTQtCVKTTviOpSJCNXjf2mhgefUU0hISFDbMHkETAWo10wFJRoQc0NrEUhoa5QEQgABBIJS4HBWjp79bKUm/rq5YP7tapfXy9e0V6MqsUFpwqQRsC1AvWYuSgNibmgtAgltjZJACCCAQNAJJG3Zr/umJGnDb5sKhoWGaPBFjXXnhY0VERYadB5MGIHSEqBeM5elATE3tBaBhLZGSSAEEEAgaARycvP02qxkjZ6ZrNzfdhVsEB+jkde0V/s6FYLGgYki4C0B6jVzaRoQc0NrEUhoa5QEQgABBIJCYGNquu6dkiTn7sfvv4HnHN1UMDqSTQWDIgmYpNcFqNfMyWlAzA2tRSChrVESCAEEEAhoAefzupPnb9EzM1YoIzvXnWt8bJRe6NdWFzavGtBzZ3IInGkB6jXzFaABMTe0FoGEtkZJIAQQQCBgBZwvWz0yfam+XbmrYI49WlbT8D5tVDk2KmDnzcQQ8BUB6jXzlaABMTe0FoGEtkZJIAQQQCAgBWau2qUh7ud1s9z5RUeGaejlrfTXTrX5vG5ArjiT8kUB6jXzVaEBMTe0FoGEtkZJIAQQQCCgBDKycvXs5ys04Zdjn9ftULeCXrmmvepVjgmouTIZBHxdgHrNfIVoQMwNrUUgoa1REggBBBAIGIGlWw/onimLtH53ujsn5/O691zcRHd0baRwPq8bMOvMRPxHgHrNfK1oQMwNrUUgoa1REggBBBDwewHnk7pv/bBOL3+9Rjm/fV63fuVovdK/A5/X9fvVZQL+LEC9Zr56NCDmhtYikNDWKAmEAAII+LXAtv0Z7qaC8zbsLZjHtWfV0RO9Wiomis/r+vXiMni/F6BeM19CGhBzQ2sRSGhrlARCAAEE/Fbg46RteuKjZTqUmePOoWJ0hJ7r21Y9W1X32zkxcAQCSYB6zXw1aUDMDa1FIKGtURIIAQQQ8DuBg5nZevrj5fpw0baCsf+5aRW92K+tqpYr43fzYcAIBKoA9Zr5ytKAmBtai0BCW6MkEAIIIOBXAvM37tW9k5PkPHrl/CLDQ/Xopc016Nz6Cg0N8au5MFgEAl2Aes18hWlAzA2tRSChrVESCAEEEPALgezcPI3+bq1em5Ws394zV/PqcXq1fwc1qx7nF3NgkAgEmwD1mvmKB20DsnLlSg0bNkyJiYnasWOHQkND1bBhQ9144426/fbbFRVV9G6yznHjx48/5Qps2bJFtWvX9nh1SGiPyTgBAQQQ8FuBjanpundKkpK27C+Ywz+6NNBDPZupTESY386LgSMQ6ALUa+YrHLQNyNdff60XX3xRZ599ttss5Obmas6cOZo0aZJ69eqlGTNmFKn7ewPiNCFO83L8r0+fPoqOjvZ4dUhoj8k4AQEEEPA7gfz8fE1L3KqhnyxXelauO/4qcVF66a/t5LzzwQ8BBHxbgHrNfH2CtgEpjO6uu+7S66+/rlWrVqlZs2aFCv/egGRnZys83M4nEUlo84QmAgIIIODLAgcOZ+uxj5bqsyU7CobZvWU1Pd+3rSrFRPry0BkbAgj8JkC9Zp4KNCAnGTp3RR566CH98ssv7t2Rwn6/NyBZWVnKyMhQbGzsH+6EeLo8JLSnYhyPAAII+I/Ar+v3uHt7bD+Q6Q66TESonrqslZz9PUJCeNHcf1aSkQa7APWaeQYEfQNy+PBhOX/S09M1b9483XnnnYqIiFBycrLKli172gYkLi5Ohw4dco+99NJLNWLECDVq1KhEK0NCl4iNkxBAAAGfFnBeNH/127Ua8/2xF81b1SznvmjeuGqsT4+dwSGAwB8FqNfMsyLoG5ChQ4e6L6P//nPueowdO1Zt27YtUveRRx6R8/hVx44d3RfWnTsmo0ePltOQLFiwQPXq1SvyfOfFd+fP8T/nxfiBAwe6L8YnJCSYry4REEAAAQTOqMCmPem6Z/KJL5rf8ueGeqBHU0WF86L5GV0cLo5ACQVoQEoId9xpQd+ArF+/Xs6fPXv2aObMmVqyZImGDx+url27eqz7zTffqEePHho0aJDGjRtX5PknNz7HH0wD4jE9JyCAAAI+JeC8aO5sKPjkR8sKXjSvVs550by9ujSJ96mxMhgEEPBMgAbEM69THR30DcjJKCNHjtTDDz+sxYsXq0WLFh4LO3dEnDsb27dvL/Jc7oB4TMsJCCCAgF8IODuaO43Hx0nH/v9Aj99eNK/Ii+Z+sYYMEoGiBGhAzPODBuQkw127dql69ep67LHH9Oyzz3os7HyC99NPP5XzcrqnPxLaUzGORwABBHxLIHHTPt0zeZG27ju6o7nzovmTl7XUgLPq8qK5by0Vo0GgxALUayWmKziRBuQkw40bN6pBgwbuZoRjxozxWNh5d2Tfvn1yNiP09EdCeyrG8QgggIBvCOTm5ev1Wcl69bu1cv5v5+fsaD762g5qUo0dzX1jlRgFAnYEqNfMHYO2AUlJSVHVqlX/IDhkyBC98MIL7jsczrsczovm69atU/ny5VWjRg33eOeLWc7eHyfvlj5lyhT1799ft956q958802PV4eE9piMExBAAIEzLrBtf4bum5ykeRv3Fozl739qoCGXsKP5GV8cBoBAKQhQr5mjBm0DctVVV7kvnjsvm9epU0f79+/XV199pe+++05dunTRrFmz3Cbj9zsix79YnpSU5O6WfuWVV6pJkyaKjIzU3Llz9d5777mxfv31V1WrVs3j1SGhPSbjBAQQQOCMCny+dIcemb5EBzNz3HFUjonUi39tpwub//F/4DqjA+XiCCBgTYB6zZwyaBsQ526Fc5fD+erV7t273bsZzZs31zXXXKPBgwcX3N04VQOyc+dOPfDAA5o/f777srlzl8RpPC6//HI9/vjjio8v2RdOSGjzhCYCAggg4A2Bw1k5embGCk2ef+xx2z83raIX/9pWVePKeGMIXAMBBM6QAPWaOXzQNiDmdPYjkND2TYmIAAII2BZYvv2A7p60SOt2p7uhI8JC9PAlzeU8dhUayo7mtr2Jh4CvCVCvma8IDYi5obUIJLQ1SgIhgAAC1gWcvT3+O2ejnv9ilbJy89z4DavEaFT/Dmpdq7z16xEQAQR8U4B6zXxdaEDMDa1FIKGtURIIAQQQsCqQmnZED01drFmrdxfEvaZTHT19RUtFR4ZbvRbBEEDAtwWo18zXhwbE3NBaBBLaGiWBEEAAAWsCP61N1X3vJ2n3oSNuzLgy4Rrep40ua1vT2jUIhAAC/iNAvWa+VjQg5obWIpDQ1igJhAACCBgLZOfm6aWv1+itH9Yp/+jWHupUr6Je6d9etStGG8cnAAII+KcA9Zr5utGAmBtai0BCW6MkEAIIIGAksHnPYQ2evEiLt+x34zjvlt91URPdfVFjhYeFGsXmZAQQ8G8B6jXz9aMBMTe0FoGEtkZJIAQQQKDEAh8nbdPjHy5T2pGje3tUL1fGvetxTsPKJY7JiQggEDgC1Gvma0kDYm5oLQIJbY2SQAgggIDHAulHcvT0J8s1LXFrwbndW1bTiL5tVTEm0uN4nIAAAoEpQL1mvq40IOaG1iKQ0NYoCYQAAgh4JLBs29G9PdanHt3bIzI8VE/2aqGB59RTSAh7e3iEycEIBLgA9Zr5AtOAmBtai0BCW6MkEAIIIFAsAWdvj3fmbNRzx+3t0aRqrEYP6KDm1csVKwYHIYBAcAlQr5mvNw2IuaG1CCS0NUoCIYAAAqcV2JuepSHTFuvblSkFx157Vh09dVkrlY0MO+35HIAAAsEpQL1mvu40IOaG1iKQ0NYoCYQAAggUKTB33R7dO2WRdh08trfHc33aqlfbGsghgAACRQpQr5knCA2IuaG1CCS0NUoCIYAAAqcUyMnN06jv1mr0rOSCvT3a16mg0dd2UJ1K7O1B2iCAwOkFqNdOb3S6I2hATifkxX8nob2IzaUQQCDoBLbvz9A9kxdp/sZ97tydd8tvu6CR7u/eVBHs7RF0+cCEESipAPVaSeWOnUcDYm5oLQIJbY2SQAgggMAJAl8t36kh05boQEa2+/fxsVEaeU07nd+kClIIIICARwLUax5xnfJgGhBzQ2sRSGhrlARCAAEEXIEjObka/vkqjft5Y4HI+U3i9fLV7VUlLgolBBBAwGMB6jWPyf5wAg2IuaG1CCS0NUoCIYAAAlq/O02DJy3S8u0HXY3w0BA91LOZbj6/oUJD2duDFEEAgZIJUK+VzO34s2hAzA2tRSChrVESCAEEglzgw0Vb9fiHy3Q4K9eVqF2xrEZd20EJdSsGuQzTRwABUwHqNVNBiQbE3NBaBBLaGiWBEEAgSAXSj+ToqY+Xa/rCrQUCf2lTXcP7tFX5shFBqsK0EUDApgD1mrkmDYi5obUIJLQ1SgIhgEAQCqzYflB3TVqo9bvT3dlHhYfqqctbasBZdRXifPKKHwIIIGBBgHrNHJEGxNzQWgQS2holgRBAIIgE8vPzNeHXzfrnpyuUlZPnzrxx1Vi9NqCDmlcvF0QSTBUBBLwhQL1mrkwDYm5oLQIJbY2SQAggECQCzmd1H5m+RF8s21kw46s71dbQK1opOjI8SBSYJgIIeFOAes1cmwbE3NBaBBLaGiWBEEAgCASStuzXXe8t1NZ9Ge5sYyLD9K8+bdS7fa0gmD1TRACBMyVAvWYuTwNibmgtAgltjZJACCAQwAJ5efl6+6cNev7LVcrJy3dn2qpmOb02IEEN4mMCeOZMDQEEfEGAes18FWhAzA2tRSChrVESCAEEAlRgb3qWHpy6WDNXpRTM8Mbz6uvRvzRXVHhYgM6aaSGAgC8JUK+ZrwYNiLmhtQgktDVKAiGAQAAK/Lp+j+6ZnKSdBzPd2ZUrE64R/drpktbVA3C2TAkBBHxVgHrNfGVoQMwNrUUgoa1REggBBAJIIDcvX2NmJWvkt2v02xNX6lC3gkb176A6laIDaKZMBQEE/EGAes18lWhAzA2tRSChrVESCAEEAkRg96EjunfKIs1J3lMwo1svaKgHezRTRFhogMySaSCAgD8JUK+ZrxYNiLmhtQgktDVKAiGAQAAI/JycqrsnJyk17Yg7m0oxkXrp6na6sFnVAJgdU0AAAX8VoF4zXzkaEHNDaxFIaGuUBEIAAT8WcB65evW7tRo9c63yj37kSmc1qOQ+clW9fBk/nhlDRwCBQBCgXjNfRRoQc0NrEUhoa5QEQgABPxXYdTBT90xepF/W73VnEBIi3XVhY91zcROF88iVn64qw0YgsASo18zXkwbE3NBaBBLaGiWBEEDADwV+WLNb901J0p70LHf08bGRGnlNe53fpIofzoYhI4BAoApQr5mvLA2IuaG1CCS0NUoCIYCAHwnk5Oa5X7ga8/26gkeuzm1YWa/2b6+q5Xjkyo+WkqEiEBQC1Gvmy0wDYm5oLQIJbY2SQAgg4CcCOw9k6u5JizRv47FHrpzHrQZf1ERhoSF+MguGiQACwSRAvWa+2jQg5obWIpDQ1igJhAACfiDw/eoU3f/+Yjm7mzu/KnFR7l2P8xrF+8HoGSICCASrAPWa+crTgJgbWotAQlujJBACCPiwwO+PXL0+a13BKM9vEq+Xr27vNiH8EEAAAV8WoF4zXx0aEHNDaxFIaGuUBEIAAR8VOPmRK+cpq/u7N9UdXRsrlEeufHTVGBYCCBwvQL1mng80IOaG1iKQ0NYoCYQAAj4oMPu3r1wd/8iVs7fHuY0q++BoGRICCCBwagHqNfPMCNoGZOXKlRo2bJgSExO1Y8cOhYaGqmHDhrrxxht1++23Kyrq9I8BLFu2TEOGDNFPP/3krkSXLl00YsQItW7dukQrQ0KXiI2TEEDAxwVO9chVl8bx7id2eeTKxxeP4SGAwB8EqNfMkyJoG5Cvv/5aL774os4++2zVrl1bubm5mjNnjiZNmqRevXppxowZRequXbtWnTt3VqVKlTR48GD32FGjRmn//v2aN2+emjRp4vHqkNAek3ECAgj4uICzseBg5ytXG45+5cp5yuq+bk11x4WN+cqVj68dw0MAAe6AlFYOBG0DUhjoXXfdpddff12rVq1Ss2bNCnXv16+fvvzySzl3UurUqeMet2XLFrVo0UKXXnqppk6d6vGa0YB4TMYJCCDgwwInbyzo3O3gkSsfXjCGhgACxRKgXisWU5EH0YCcxOPcFXnooYf0yy+/uHdHTvVLS0tT5cqV1b9/f40fP/6EQwYNGqQpU6YoNTVVsbGxHq0QCe0RFwcjgICPCuTm5euVb9fotVnJBRsL8siVjy4Ww0IAAY8FqNc8JvvDCUHfgBw+fFjOn/T0dPfRqTvvvFMRERFKTk5W2bJlTyk8d+5cnXfeeXrjjTd02223nXCM83d33HGHnGPOOeccj1aIhPaIi4MRQMAHBVIOZeqeSUmau36POzrnkat7Lm6quy7ikSsfXC6GhAACJRCgXisB2kmnBH0DMnToUPdl9N9/zl2PsWPHqm3btoXqTp8+Xc4jWJ988okuv/zyE45z/q53796aNm2a+vbtW2gM58V358/xP+dxroEDB7ovxickJJivLhEQQAABLwr8vC5Vd09KUmraEfeq8bHOI1ftdV5jNhb04jJwKQQQKGUBGhBz4KBvQNavXy/nz549ezRz5kwtWbJEw4cPV9euXQvVfffdd3XDDTfoq6++Uo8ePU44znm5vWfPnnKOcZqJwn4nNz7HH0cDYp7YREAAAe8J5OXlu49bOY9d5eUfve45DStp1LUdVDWujPcGwpUQQAABLwjQgJgjB30DcjLhyJEj9fDDD2vx4sXuC+Wn+nEHxDzxiIAAAoEhsCftiO6dkqQf16a6EwoJke66sLHu7daUr1wFxhIzCwQQOEmABsQ8JWhATjLctWuXqlevrscee0zPPvvsKYV5B8Q88YiAAAL+LzB/414Nfm+Rdh7MdCdTKSbS3dvjgqZV/H9yzAABBBAoRIAGxDw1aEBOMty4caMaNGjgbkY4ZsyYUwqf7itYkydPdh/p4itY5glKBAQQ8D0B55GrsT+u1wtfrZbzxSvn16leRY0e0EE1yp/64x2+NwtGhAACCJRMgAakZG7HnxW0DUhKSoqqVq36B0FnZ/MXXnhB48aNk/NJ3ezsbK1bt07ly5dXjRo1Co53XjB33gFx9gtxNjJ0fr/vA+K8A+I8puXpj4T2VIzjEUDA2wL7D2fpgfcX67tVKQWXvvWChnqwRzNFhIV6ezhcDwEEEPC6APWaOXnQNiBXXXWVe5fCednc2UjQ2cHcaSi+++47denSRbNmzVJ4eLh+vyPiNCNOU/L7b/Xq1TrrrLPc/UDuvvtu96+dndCdmM7nfIvaxLCwZSOhzROaCAggUHoCSVv2686JC7Vtf4Z7kfJlI/Ty1e10cYtqpXdRIiOAAAI+JkC9Zr4gQduAOJsFOg2F89Wr3bt3KyoqSs2bN9c111yjwYMHu//d+RXWgDj/5pzr3DGZM2eOe6zTuDz//PNFfsK3qCUjoc0TmggIIGBfID8/X/+bu0n/99kKZecefeSqXZ0Ken1AB9WuGG3/gkREAAEEfFiAes18cYK2ATGnsx+BhLZvSkQEEDATSDuSo4enL9FnS47tW3TjefX12F9aKDKcR67MdDkbAQT8UYB6zXzVaEDMDa1FIKGtURIIAQQsCKzaeVB3TFio9anpbrTYqHA937eterU99j6chcsQAgEEEPArAeo18+WiATE3tBaBhLZGSSAEEDAUmJa4VU98tFSZ2XlupObV4zTmugQ1rBJrGJnTEUAAAf8WoF4zXz8aEHNDaxFIaGuUBEIAgRIKZGbn6umPl2vKgi0FEf7asbae6d1aZSPDShiV0xBAAIHAEaBeM19LGhBzQ2sRSGhrlARCAIESCGxITdcdExdq5Y6D7tlR4aH6Z+/WurpznRJE4xQEEEAgMAWo18zXlQbE3NBaBBLaGiWBEEDAQ4Evlu7QQ9OWyHnp3PnVrxytMdd1VMua5TyMxOEIIIBAYAtQr5mvLw2IuaG1CCS0NUoCIYBAMQWycvL03Ber9N85GwrOuLR1dT3fr63KlYkoZhQOQwABBIJHgHrNfK1pQMwNrUUgoa1REggBBIohsONAhrux4MLN+92jw0ND3M/r/u1P9RUSElKMCByCAAIIBJ8A9Zr5mtOAmBtai0BCW6MkEAIInEbgp7WpunvyIu1Nz3KPrFG+jF4bkKCO9SpihwACCCBQhAD1mnl60ICYG1qLQEJboyQQAggUIpCXl6/XZyXr5W/XKP/opuY6v0m8Xu3fQZViInFDAAEEEDiNAPWaeYrQgJgbWotAQlujJBACCJxCYP/hLN03JUmzVu92/9V5yurui5ro7oubKCyUR65IGgQQQKA4AtRrxVEq+hgaEHNDaxFIaGuUBEIAgZMElmzdr9snLNS2/Rnuv1SIjtAr17RX12ZVsUIAAQQQ8ECAes0DrEIOpQExN7QWgYS2RkkgBBD4TSA/P18Tf92sZ2asUFbu0V3N29Wp4O5qXqtCWZwQQAABBDwUoF7zEOwUh9OAmBtai0BCW6MkEAIISDqclaPHP1ymDxdtK/C44dx6erxXC0WFs6s5SYIAAgiURIB6rSRqJ55DA2JuaC0CCW2NkkAIBL3Aut1pun1CotbsSnMtoiPDNLxPG/VuXyvobQBAAAEETASo10z0jp5LA2JuaC0CCW2NkkAIBLXA50t3aMhxu5o3rhqrN65LUJNqcUHtwuQRQAABGwLUa+aKNCDmhtYikNDWKAmEQFAKZOce3dX87Z+O7Wp+ebuaeq5PG8VEhQelCZNGAAEEbAtQr5mL0oCYG1qLQEJboyQQAkEnkHIwU3e+t1DzN+5z5x4RFqInerWU884Hu5oHXTowYQQQKEUB6jVzXBoQc0NrEUhoa5QEQiCoBH5dv0d3vrdIqWlH3Hk7u5q/fl2CEuqyq3lQJQKTRQABrwhQr5kz04CYG1qLQEJboyQQAkEh4Hxi9z8/btBzX65Sbt7Rbc27NHZ2NW+vyrFRQWHAJBFAAAFvC1CvmYvTgJgbWotAQlujJBACAS+QdiRHQ6Yt1udLdxbM9c4LG+n+7s3Y1TzgV58JIoDAmRSgXjPXpwExN7QWgYS2RkkgBAJaYO2uQ7p1QqLW70535xlXJlwvX91e3VtWC+h5MzkEEEDAFwSo18xXgQbE3NBaBBLaGiWBEAhYgRmLt+vh6Ut0OCvXnWPz6nF6c2BH1Y+PCdg5MzEEEEDAlwSo18xXgwbE3NBaBBLaGiWBEAg4AecTu//6fKXembOxYG59Emrp2SvbqGwku5oH3IIzIQQQ8FkB6jXzpaEBMTe0FoGEtkZJIAQCSmCX84ndiQu1YNPRT+xGhoXqqctb6rqz6/KJ3YBaaSaDAAL+IEC9Zr5KNCDmhtYikNDWKAmEQMAI/LJ+j+467hO7NcuX0ZiBHdW+ToWAmSMTQQABBPxJgHrNfLVoQMwNrUUgoa1REggBvxdwPrH77x/X6/kvVxd8Yvf8Js4ndjuoUkyk38+PCSCAAAL+KkC9Zr5yNCDmhtYikNDWKAmEgF8LnOoTu4Mvaqx7uzXlE7t+vbIMHgEEAkGAes18FWlAzA2tRSChrVESCAG/FUhOSdNtExLl/Kfzcz6xO/Lq9urGJ3b9dk0ZOAIIBJYA9Zr5etKAmBtai0BCW6MkEAJ+KfDlsp16cOpiOXdAnJ/zid23ru+oepX5xK5fLiiDRgCBgBSgXjNfVhoQc0NrEUhoa5QEQsCvBHLz8vXi16v1xvfrCsZ9ZfuaGt6nLZ/Y9auVZLAIIBAMAtRr5qtMA2JuaC0CCW2NkkAI+I3A3vQs3T1pkX5KTnXHHB4aoid6tdCg8+rziV2/WUUGigACwSRAvWa+2jQg5obWIpDQ1igJhIBfCCzdesB932Pb/gx3vFXiojTmugR1rl/JL8bPIBFAAIFgFKBeM191GhBzQ2sRSGhrlARCwOcF3p+/RU98vExZOXnuWDvVq+g2H1XLlfH5sTNABBBAIJgFqNfMV58GxNzQWgQS2holgRDwWYEjObka+skKTZq3uWCMg86tp8d7tVRkeKjPjpuBIYAAAggcFaBeM88EGhBzQ2sRSGhrlARCwCcFdhzI0G0TFmrxlv3u+KLCQzW8Txv1Sajtk+NlUAgggAACfxSgXjPPChoQc0NrEUhoa5QEQsDnBH5el6rB7y3SnvQsd2x1KpXVmwM7qlXN8j43VgaEAAIIIFC4APWaeXbQgJgbWotAQlujJBACPiOQn5+vf/+4Xs9/uVrO53ad3wVNq+jV/u1VITrSZ8bJQBBAAAEEiidAvVY8p6KOCtoGZMGCBZowYYJmzpypDRs2KCYmRq1atdKjjz6qbt26nVb2xhtv1Pjx4UymrwAAIABJREFU40953JYtW1S7tuePVJDQp2XnAAT8SiD9SI6GTFuiz5buKBj33Rc11j3dmiosNMSv5sJgEUAAAQSOClCvmWdC0DYg/fr10+zZs9W3b18lJCQoLS1N77zzjpYtW6YxY8bo9ttvL1L39wbEaUJCQ098cbRPnz6Kjo72eHVIaI/JOAEBnxXYkJquW99doDW70twxxpUJ18ir26tby2o+O2YGhgACCCBwegHqtdMbne6IoG1A5syZo06dOikqKqrAKCMjQ+3bt9fu3buVkpKi8PDwQv1+b0Cys7OLPO50C3D8v5PQnmhxLAK+KzBrVYrunrxIhzJz3EE2qxanN6/vqAbxMb47aEaGAAIIIFAsAeq1YjEVeVDQNiCFqTzwwAN6+eWXtXnzZtWpU+e0DUhWVpacxiU2NvYPd0I8XR4S2lMxjkfAtwTy8vI15vtkvfTNGuUffd1DvdrW0Ii+bRUTVfj/oOFbs2A0CCCAAAJFCVCvmecHDchJhtdee62mTZum/fv3u++FFPb7/Q5IXFycDh06pLJly+rSSy/ViBEj1KhRoxKtDAldIjZOQsAnBNKO5OiB95P01fJd7nicVzyGXNJct/65oUJCeN/DJxaJQSCAAAIWBKjXzBFpQI4zXLlypfsI1mWXXabp06cXqfvII4/IefyqY8eO7mNcv/zyi0aPHi2nIXFecK9Xr16R5+/YsUPOn+N/zvUHDhyoxMRE970Ufggg4B8C63an6dZ3E5WccvR9jwrRERp9bQed36SKf0yAUSKAAAIIFFuABqTYVIUeSAPyG82BAwd07rnnuk3B4sWLVbduXY91v/nmG/Xo0UODBg3SuHHjijx/6NChGjZs2CmPoQHxmJ4TEDhjAt+u2KX7piTp0JGj73u0qFFOY6/vqDqVPP8QxRmbBBdGAAEEECi2AA1IsaloQIqict7h6Nmzp+bPn68vv/xSF1xwQYllnTsiThOzffv2ImNwB6TExJyIgE8IOO97jJq5Vq98u7ZgPFe0q6nn+7ZV2cgwnxgjg0AAAQQQsC9AA2JuGvR3QJyXyK+44gp3P5APPvjAffzK5Od8gvfTTz+VE9fTHwntqRjHI3BmBA5mZuv+KUn6dmWKOwDnfY/H/tJC/+jSgPc9zsyScFUEEEDAawLUa+bUQd2A5OTkyNkPZMaMGZo4caL69+9vLNq2bVvt27dPzmaEnv5IaE/FOB4B7wskpxzSLf9L1PrUdPfiFaMj9PqABJ3XON77g+GKCCCAAAJeF6BeMycP2gYkLy9PAwYM0JQpUzR27FjdfPPNp9R0XjRft26dypcvrxo1arjHpKenu3t/HL+HiPP3Tiynibn11lv15ptverw6JLTHZJyAgFcFvlq+073zkZ6V6163Vc1yeuv6jqpdkfc9vLoQXAwBBBA4gwLUa+b4QduA3H///Ro5cqT7vsdNN930B8nu3burWrVq2rhxoxo0aHDCi+VJSUnq1auXrrzySjVp0kSRkZGaO3eu3nvvPXfvkF9//dU919MfCe2pGMcj4B0B532Pkd+u0eiZyQUXvKpDLQ3v00ZlInjfwzurwFUQQAAB3xCgXjNfh6BtQLp27arZs2cXKjhr1iw5x5yqAdm5c6ecDQudl9adl82duyRO43H55Zfr8ccfV3x8yR7FIKHNE5oICNgWOJCRrXsnL9Ks1bvd0GGhIXqiVwvdeF593vewjU08BBBAwA8EqNfMFyloGxBzOvsRSGj7pkREwERgzS7nfY8F2rjnsBumckykXhuQoHMbVTYJy7kIIIAAAn4sQL1mvng0IOaG1iKQ0NYoCYSAscCXy3bo/vcX6/Bv73u0qVVeb17fUbUqlDWOTQAEEEAAAf8VoF4zXzsaEHNDaxFIaGuUBEKgxALO+x6vfLtGo45736NvQm09e1Vr3vcosSonIoAAAoEjQL1mvpY0IOaG1iKQ0NYoCYRAiQQOZWbrvimL9e3KXe754aEhevKylrrh3Hq871EiUU5CAAEEAk+Aes18TWlAzA2tRSChrVESCAGPBTampuvm/y3Q2pQ099xKMZHu/h687+ExJScggAACAS1AvWa+vDQg5obWIpDQ1igJhIBHArPX7Nbg9xbqYGaOe16LGuU09vqOqlOJ/T08guRgBBBAIAgEqNfMF5kGxNzQWgQS2holgRAolkB+fr7+8+MGDf9ipfLyj57Sq20NvdCvraIjw4sVg4MQQAABBIJLgHrNfL1pQMwNrUUgoa1REgiB0wpkZufq0Q+W6sNF29xjQ0KkB3s00x1dG/G+x2n1OAABBBAIXgHqNfO1pwExN7QWgYS2RkkgBIoU2HEgQ7f8L1FLtx1wj4uNCter/dvr4hbVkEMAAQQQQKBIAeo18wShATE3tBaBhLZGSSAEChVYsHGvbpuwUKlpR9xjGsbHaOwNndS4aixqCCCAAAIInFaAeu20RKc9gAbktETeO4CE9p41VwpOgUnzNuupj5cpO/foCx9dm1XRq/07qHzZiOAEYdYIIIAAAh4LUK95TPaHE2hAzA2tRSChrVESCIETBLJz8/TMjBV695dNBX9/2wWN9FDPZgoLDUELAQQQQACBYgtQrxWbqtADaUDMDa1FIKGtURIIgQIB51GrOyYu1LwNe92/KxMRquf7tlXv9rVQQgABBBBAwGMB6jWPyf5wAg2IuaG1CCS0NUoCIeAKLNt2QLe+m6ht+zPc/16zfBn3fY/WtcojhAACCCCAQIkEqNdKxHbCSTQg5obWIpDQ1igJhIBmLN6uh6YtVmZ2nqtxVv1KGjMwQfGxUegggAACCCBQYgHqtRLTFZxIA2JuaC0CCW2NkkBBLJCbl68Xv16tN75fV6Aw8Jy6euqyVooMDw1iGaaOAAIIIGBDgHrNXJEGxNzQWgQS2holgYJU4GBmtu6ZtEizVu92BSLCQjTsitYacHbdIBVh2ggggAACtgWo18xFaUDMDa1FIKGtURIoCAU2pKbrH+Pna/3udHf28bGRemNgR3WuXykINZgyAggggEBpCVCvmcvSgJgbWotAQlujJFCQCfy0NlV3TEzUwcwcd+ata5XT2Os7qWaFskEmwXQRQAABBEpbgHrNXJgGxNzQWgQS2holgYJEID8/393bY9iMFXLe/XB+l7erqRf6tVWZiLAgUWCaCCCAAALeFKBeM9emATE3tBaBhLZGSaAgEHA2Fxz6yXJN/HVzwWwf7NFUd17YWCEhbC4YBCnAFBFAAIEzIkC9Zs5OA2JuaC0CCW2NkkABLrAvPcvdXHDu+j3uTMtGhGnkNe11SevqAT5zpocAAgggcKYFqNfMV4AGxNzQWgQS2holgQJYIDnlkP4xfoE27TnsztLZXPDfgzqpVU02FwzgZWdqCCCAgM8IUK+ZLwUNiLmhtQgktDVKAgWowKzVKbr7vUU6dOToy+YJdSvores7qUocmwsG6JIzLQQQQMDnBKjXzJeEBsTc0FoEEtoaJYECTMB52fztnzboX5+v1G/vmqtPQi0N79NGUeG8bB5gy810EEAAAZ8WoF4zXx4aEHNDaxFIaGuUBAoggSM5uXriw2WamrjVnZXzfvmjlzbXzec35GXzAFpnpoIAAgj4iwD1mvlK0YCYG1qLQEJboyRQgAikph3R7RMSNX/jPndGMZFhGnVtB13colqAzJBpIIAAAgj4mwD1mvmK0YCYG1qLQEJboyRQAAis3HFQN41foG37M9zZ1KlUVv+5obOaVY8LgNkxBQQQQAABfxWgXjNfORoQc0NrEUhoa5QE8nOBr5fv1L1TknQ4K9edyVkNKunNgR1VKSbSz2fG8BFAAAEE/F2Aes18BWlAzA2tRSChrVESyE8FnJfNx3y/Ti9+vVr5Rzc2V//OdfRM79aKDA/101kxbAQQQACBQBKgXjNfTRoQc0NrEUhoa5QE8kOBzOxcPTJ9iT5K2u6OPjREevKylrrxvPq8bO6H68mQEUAAgUAVoF4zX1kaEHNDaxFIaGuUBPIzgZSDmbrl3UQlbdnvjjyuTLheG5CgC5pW8bOZMFwEEEAAgUAXoF4zX2EaEHNDaxFIaGuUBPIjgWXbDujm/y3QjgOZ7qjrV47WfwZ1VuOqsX40C4aKAAIIIBAsAtRr5itNA2JuaC0CCW2NkkB+IvDZkh16YGqSMrPz3BH/qXFlvT4gQRWiedncT5aQYSKAAAJBJ0C9Zr7kNCDmhtYikNDWKAnk4wLOy+avfrdWr3y7tmCkN5xbz33nIyKMl819fPkYHgIIIBDUAtRr5stPA2JuaC0CCW2NkkA+LJCRlasHpy2Wc/fD+YWFhmjoFa10/Tn1fHjUDA0BBBBAAIGjAtRr5plAA2JuaC0CCW2NkkA+KpByKFM3j1+gxVsPuCMsXzZCb1yXoPMax/voiBkWAggggAACJwpQr5lnBA2IuaG1CCS0NUoC+aDA6p2H9Pdx8wt2Nm9UJUZvD+qs+vExPjhahoQAAggggMCpBajXzDODBsTc0FoEEtoaJYF8TGD2mt26c+JCpR3JcUfmvGw+5rqO7h0QfggggAACCPiTAPWa+WoFbQOyYMECTZgwQTNnztSGDRsUExOjVq1a6dFHH1W3bt2KJbts2TINGTJEP/30k3t8ly5dNGLECLVu3bpY5598EAldIjZO8nGBd3/ZpKGfLFdu3tGtza/pVEf/d1VrXjb38XVjeAgggAACpxagXjPPjKBtQPr166fZs2erb9++SkhIUFpamt555x05TcWYMWN0++23F6m7du1ade7cWZUqVdLgwYPdY0eNGqX9+/dr3rx5atKkicerQ0J7TMYJPizgNBz/+nyl3v5pQ8EoH720uW75c0N2NvfhdWNoCCCAAAJFC1CvmWdI0DYgc+bMUadOnRQVFVWgmJGRofbt22v37t1KSUlReHh4ocJOA/Pll19q5cqVqlOnjnvcli1b1KJFC1166aWaOnWqx6tDQntMxgk+KpB+JEf3TE7Styt3uSMsExGqV65pr0ta1/DRETMsBBBAAAEEiidAvVY8p6KOCtoGpDCUBx54QC+//LI2b95c0FicfKxzt6Ry5crq37+/xo8ff8I/Dxo0SFOmTFFqaqpiYz3byZmENk9oIpx5gZ0HMvWP8fO1fPtBdzBV4qL0nxs6qV2dCmd+cIwAAQQQQAABQwHqNUNASTQgJxlee+21mjZtmvsolfNeyKl+c+fO1Xnnnac33nhDt9122wmHOH93xx13yDnmnHPO8WiFSGiPuDjYBwWWbTvgNh+7Dh5xR9esWpz++7fOqlWhrA+OliEhgAACCCDguQD1mudmJ59BA3KciPM4lfMI1mWXXabp06cXquv8m/MI1ieffKLLL7/8hOOcv+vdu7fbxDjvlxT227Fjh5w/x/+c6w8cOFCJiYnueyn8EPAngW9X7NLdkxfpcFauO+wLmlbRawM6KK4MX7ryp3VkrAgggAACRQvQgJhnCA3Ib4YHDhzQueee6zYFixcvVt26dQvVfffdd3XDDTfoq6++Uo8ePU447uuvv1bPnj3lHOM0E4X9hg4dqmHDhp3yn2lAzBObCN4TyM/P1ztzNuqfn61Q/tEPXWngOXU19PJWCg8L9d5AuBICCCCAAAJeEKABMUemAZHkvHzuNA3z5893Xyy/4IILipTlDoh54hEhMARycvP0zKcr9L+5m9wJhYRIT/Rqqb//qT5fugqMJWYWCCCAAAInCdCAmKdE0DcgWVlZuuKKK9z9QD744AP38avT/XgH5HRC/HswCBzKzNbgSYv0/erd7nSjI8M0qn8HdWtZLRimzxwRQAABBIJUgAbEfOGDugHJyclx3+WYMWOGJk6c6H7Vqji/030Fa/LkydqzZw9fwSoOJsf4pcC2/Rn6x7j5WrXzkDv+auWi9Pagzmpdq7xfzodBI4AAAgggUFwBGpDiShV+XNA2IHl5eRowYID7ydyxY8fq5ptvPqVSdna21q1bp/Lly6tGjWN7GDgvmDvvgKxatUq1a9d2z/19HxDnca6iXmIvbDlIaPOEJkLpCyzesl//GL9AqWlHv3TVqmY5t/moXr5M6V+cKyCAAAIIIHCGBajXzBcgaBuQ+++/XyNHjnTf97jpppv+INm9e3dVq1ZNGzduVIMGDeTs7zFu3LiC41avXq2zzjrL3Q/k7rvvdv/e2QndufPh7ITerFkzj1eHhPaYjBO8LPDlsh26d0qSMrPz3Ct3a1FVr/bvoJiowjft9PIQuRwCCCCAAAKlKkC9Zs4btA1I165dNXv27EIFZ82aJeeYwhoQ58QlS5ZoyJAhcnZVd35dunTR888/r7Zt25ZoZUjoErFxkhcEnC9dvfXDej33xaqCq/2jSwM99pcWCgsN8cIIuAQCCCCAAAK+IUC9Zr4OQduAmNPZj0BC2zclorlAdm6envxomSbP3+IGcxqOoVe00vXn1DMPTgQEEEAAAQT8TIB6zXzBaEDMDa1FIKGtURLIksCBjGzdMTFRc5L3uBFjo8LdzQW7Nqtq6QqEQQABBBBAwL8EqNfM14sGxNzQWgQS2holgSwIbNl7WH8bN1/JKWlutFoVyurtGzupefVyFqITAgEEEEAAAf8UoF4zXzcaEHNDaxFIaGuUBDIUSNy0T7f8b4H2pGe5kdrVLq9/D+qkqnF86cqQltMRQAABBPxcgHrNfAFpQMwNrUUgoa1REshAYMbi7Xpg6mJl5Rz90tWlravr5avbq2xkmEFUTkUAAQQQQCAwBKjXzNeRBsTc0FoEEtoaJYFKIOB86eq1mcl66Zs1BWff3rWRHurRTKF86aoEopyCAAIIIBCIAtRr5qtKA2JuaC0CCW2NkkAeCjhfunrsg6WamrjVPTM8NETPXtVa13Su62EkDkcAAQQQQCCwBajXzNeXBsTc0FoEEtoaJYE8EEg/kqPbJy7UD2t2u2fFlQnXmwM76k+N4z2IwqEIIIAAAggEhwD1mvk604CYG1qLQEJboyRQMQVSDmXq7+Pma9m2g+4Zzpeuxv2ts5pUiytmBA5DAAEEEEAguASo18zXmwbE3NBaBBLaGiWBiiGwfneaBr0zT1v2ZrhHt6hRzm0+qpXjS1fF4OMQBBBAAIEgFaBeM194GhBzQ2sRSGhrlAQ6jcDCzfv0j3Hzte9wtnvknxpXdh+7iisTgR0CCCCAAAIIFCFAvWaeHjQg5obWIpDQ1igJVITANyt2afCkhcrMPvqZ3Svb19SIfu0UGR6KGwIIIIAAAgic7n/EW7hQHTt2VGJiohISEvAqgQANSAnQSusUGpDSkiXu7wITf92kJz9aprz8o39z2wWNNKQnn9klQxBAAAEEECiuAPVacaUKP44GxNzQWgQS2holgU4ScPb4ePmbNRo9M9n9l5AQaejlrTTovPpYIYAAAggggIAHAtRrHmAVcigNiLmhtQgktDVKAh0n4Ozx8egHSzXttz0+nEetRvVvr0ta18AJAQQQQAABBDwUoF7zEOwUh9OAmBtai0BCW6Mk0G8CJ+/xUb5shP4zqJM616+EEQIIIIAAAgiUQIB6rQRoJ51CA2JuaC0CCW2NkkCSTrXHx/i/d1bjquzxQYIggAACCCBQUgHqtZLKHTuPBsTc0FoEEtoaZdAHWufs8fHfedq67+geHy1/2+OjKnt8BH1uAIAAAgggYCZAvWbm55xNA2JuaC0CCW2NMqgDJW7ap5vGH9vjo0vjeL0xMIE9PoI6K5g8AggggIAtAeo1c0kaEHNDaxFIaGuUQRvo6+U7NXjSIh3JObrHx1Udaun5vm3Z4yNoM4KJI4AAAgjYFqBeMxelATE3tBaBhLZGGZSBJvyySU99fGyPj9u7Ht3jI8T55i4/BBBAAAEEELAiQL1mzkgDYm5oLQIJbY0yqAI5e3y89PUavTbr2B4fw65opRvOZY+PoEoEJosAAggg4BUB6jVzZhoQc0NrEUhoa5RBE8jZ4+OR6Us1feFWd85R4aF6tX8HXdK6etAYMFEEEEAAAQS8KUC9Zq5NA2JuaC0CCW2NMigCpR3J0R0TF+qHNbvd+Tp7fLw9qJM6scdHUKw/k0QAAQQQODMC1Gvm7jQg5obWIpDQ1igDPhB7fAT8EjNBBBBAAAEfFaBeM18YGhBzQ2sRSGhrlAEdiD0+Anp5mRwCCCCAgI8LUK+ZLxANiLmhtQgktDXKgA108h4f5zeJ15jr2OMjYBeciSGAAAII+JwA9Zr5ktCAmBtai0BCW6MMyEAn7/HRp0MtPcceHwG51kwKAQQQQMB3BajXzNeGBsTc0FoEEtoaZcAFeveXTXr6uD0+7ujaSA+xx0fArTMTQgABBBDwfQHqNfM1ogExN7QWgYS2RhkwgZw9Pl78erVen7XOnZOzp+AzV7TS9ezxETBrzEQQQAABBPxLgHrNfL1oQMwNrUUgoa1RBkQgZ4+Ph6cv0QcLt7nzYY+PgFhWJoEAAggg4OcC1GvmC0gDYm5oLQIJbY3S7wM5e3zcPiFRP65NdedSIfroHh8d61Xy+7kxAQQQQAABBPxZgHrNfPVoQMwNrUUgoa1R+nUgZ4+Pv70zX8u3H3TnUatCWY3/+1lqXDXWr+fF4BFAAAEEEAgEAeo181WkATE3tBaBhLZG6beB2OPDb5eOgSOAAAIIBIkA9Zr5QtOAmBtai0BCW6P0y0DOHh//GD9f+w9nu+Nnjw+/XEYGjQACCCAQ4ALUa+YLTANibmgtAgltjdLvAs1es1u3vrtAmdl57tj7JNTSc33aKjI81O/mwoARQAABBBAIZAHqNfPVpQExN7QWgYS2RulXgb5YukN3T16k7Nx8d9zs8eFXy8dgEUAAAQSCTIB6zXzBaUDMDa1FIKGtUfpNoGmJWzVk2mLlHe099ESvFrrp/IZ+M34GigACCCCAQLAJUK+Zr3jQNiBpaWl68cUXlZiYqAULFmjnzp0aNGiQxo0bVyzVG2+8UePHjz/lsVu2bFHt2rWLFef4g0hoj8n8+oRxczZo6IwV7hycDQb/dVUbXXtWXb+eE4NHAAEEEEAg0AWo18xXOGgbkI0bN6pBgwaqUaOGOnbsqE8//bREDYjThISGnvicfp8+fRQdHe3x6pDQHpP55QnO7uavzUzWS9+scccfHhqil69pryva1fTL+TBoBBBAAAEEgkmAes18tYO2ATly5IhSU1NVq1Yt5eTkKCIiokQNSHZ2tsLDw81XQhIJbYXRp4M4zcfwL1Zp7A/r3XE6u5u/MTBBFzWv5tPjZnAIIIAAAgggcFSAes08E4K2ATmezqQBycrKUkbG/7d3J9BVVffix38ZSCQEghAENBEwIoIyTxZpta1CeQpS9G+pRAgaC9qCrSi1jvD61IraVsUqlSEpkzj0WctaRV3WoSIkgIJiEQUMIFOQmTBl+q/ftvEFyHDv3fue3HvP96zl6nvhnN85+7N/9979O2efc45KamrqaVdCgu0eEjpYsehav7yiUu57da0sLNxiDrxJUoLMHNNXvpPVMroawtEigAACCCDgYwHGa/adTwEiYnUFpGnTpnLo0CFp3LixDBkyRKZNmyZZWVkh9QwJHRJbVGxUWl4hd7y4Rv6+Zrs53uYpjSRvbD/pkdk8Ko6fg0QAAQQQQAABroC4ygEKkBALkLvvvlt0+pXeP5KcnCzLly+Xp59+WrQg0Zva27VrV2cf7dixQ/S/6su6deskOzvb3Bjfq1cvV31MnAYWOFZaLrfN/1D++VmxOZJWTZNl3s39pVObpg18ZOweAQQQQAABBIIV4IRxsGKnr08BEmIBUhP9m2++KYMGDQroXpIpU6bI1KlTa+xBChD7xI6UCIePl0lu/gpZvmmvOaSMMxvL/Nz+0q5lk0g5RI4DAQQQQAABBIIQoAAJAquWVSlAHBYgaqxXRPTKxvbt30y1qW3hCoh98kZ6hH0lJyRnTqGs+eqAOdSsVk1kXm5/aZvWONIPneNDAAEEEEAAgVoEKEDsU4MCxHEBoo/g1Uf66s3pwS4kdLBikbt+8cFjcuOsQlm/65A5yIvObiZ/uamftExNjtyD5sgQQAABBBBAoF4Bxmv1EtW7AgWI4wKkW7dusm/fPtGXEQa7kNDBikXm+lv3HpHsWQWyec8Rc4B9258ps3L6SrMzGkXmAXNUCCCAAAIIIBCwAOO1gKlqXZECpJ4CRG8037hxo6SlpZmXFupSUlJi3v2hN59XXxYtWiQjR46UcePGyXPPPRd075DQQZNF3AYbig9L9swC2XnwmDm2713QSmZk95bGSQkRd6wcEAIIIIAAAggEL8B4LXizU7fwdQEyffp02b9/v1RUVMiDDz4oPXv2FJ1CpcuwYcNEr2ZUvTF9zJgxkpeXZ/5t9erVctVVV8nw4cOlY8eOkpSUJMuWLZMFCxZIZmamFBQUSOvWwb9YjoS2T+iGjLB22wEZPbtQ9pZ8M/1uyMVt5I8je0hyIsVHQ/YL+0YAAQQQQMClAOM1e01fFyDt27eXzZs316g4Z84cycnJqbEA2blzp0yaNElWrFhhbjbXqyRaeAwdOlTuvfdeSU9PD6lnSOiQ2CJio5VFe2XsnBVy6HiZOZ7remfI70Z0lcSE+Ig4Pg4CAQQQQAABBNwIMF6zd/R1AWLP5zYCCe3W06to732+W8bNXSVHS8vNLnMGtJcHru4i8fFxXh0C+0EAAQQQQAABjwQYr9lDU4DYGzqLQEI7o/Qs0JK1O2TiwtVyorzC7HPiD86XX115gcTFUXx41gnsCAEEEEAAAQ8FGK/ZY1OA2Bs6i0BCO6P0JNDLq76SyS+vkYrKb3Z3z39dKD/7XpYn+2YnCCCAAAIIINAwAozX7N0pQOwNnUUgoZ1Rhj1Q/gdF8uBrn5r96MWOh4Z3lRv6nxv2/bIDBBBAAAEEEGhYAcZr9v4UIPaGziKQ0M4owxaosrJSnnl7gzz+xudmH4nxcfLE9d3lmh7nhG2fBEYAAQQQQACByBFgvGal36Z2AAAgAElEQVTfFxQg9obOIpDQzijDEkiLj9/94zOZ8d4mEz8pMV6eHdVLftg5+Ecuh+UACYoAAggggAACYRdgvGZPTAFib+gsAgntjNJ5oPKKSrn/b2tlQcEWE7tJUoI8P6aPDMgK7ZHLzg+QgAgggAACCCDgiQDjNXtmChB7Q2cRSGhnlE4DlZZXyKQX18hra7abuGmNG0n+Tf2kR2Zzp/shGAIIIIAAAghEvgDjNfs+ogCxN3QWgYR2Ruks0LHScvn5/A/lrc+KTcxWTZNl3s39pVObps72QSAEEEAAAQQQiB4Bxmv2fUUBYm/oLAIJ7YzSSaDDx8vklvyVsmzTHhPvnOaNZX5uf2mf3sRJfIIggAACCCCAQPQJMF6z7zMKEHtDZxFIaGeU1oH2HzkhY+askDVb95tYWa2ayLzc/tI2rbF1bAIggAACCCCAQPQKMF6z7zsKEHtDZxFIaGeUVoGKDx6TG2cVyvpdh0yci85uJn+5qZ+0TE22isvGCCCAAAIIIBD9AozX7PuQAsTe0FkEEtoZZciBtu49ItmzCmTzniMmRp92Z8qsnL7mxnMWBBBAAAEEEECA8Zp9DlCA2Bs6i0BCO6MMKdCG4sNy46wC2XHgmNn+ux3TZcaNvSUlKTGkeGyEAAIIIIAAArEnwHjNvk8pQOwNnUUgoZ1RBh1o7bYDMmZ2oewpOWG2/dFFbeTJn/aQ5MSEoGOxAQIIIIAAAgjErgDjNfu+pQCxN3QWgYR2RhlUoJVFe2Vs3go5dKzMbHdtrwx59NqukpgQH1QcVkYAAQQQQACB2BdgvGbfxxQg9obOIpDQzigDDvTe57tl3NxVcrS03GyTM6C9PHB1F4mPjws4BisigAACCCCAgH8EGK/Z9zUFiL2hswgktDPKgAItWbtDJi5cLSfKK8z6E35wvtxx5QUSF0fxERAgKyGAAAIIIOBDAcZr9p1OAWJv6CwCCe2Mst5Ar6z6Su56eY1UVH6z6m+GXCjjLsuqdztWQAABBBBAAAF/CzBes+9/ChB7Q2cRSGhnlHUG+suyInngb5+adfRix/8Mv1hG9W/nzc7ZCwIIIIAAAghEtQDjNfvuowCxN3QWgYR2RlljoMrKSvnTOxvlsdfXm39PiI+T31/fXa7pcU54d0x0BBBAAAEEEIgZAcZr9l1JAWJv6CwCCe2M8rRAWnz8bslnMuPdTebfkhLj5U839JIrurQO306JjAACCCCAAAIxJ8B4zb5LKUDsDZ1FIKGdUZ4UqLyiUu7/21pZULDF/L1JUoI8P6aPDMhKD88OiYoAAggggAACMSvAeM2+aylA7A2dRSChnVF+G6isvELufGmNvLp6u/lbWuNGkje2r/Q890z3OyMiAggggAACCMS8AOM1+y6mALE3dBaBhHZGaQIdLyuXiQs/ktc/3WX+//TUZJmX208ubNPM7Y6IhgACCCCAAAK+EWC8Zt/VFCD2hs4ikNDOKOVYabl5weC7n+82Qc9OO0Pm33KJdEhv4m4nREIAAQQQQAAB3wkwXrPvcgoQe0NnEUhoN5SHj5dJbv4KWb5prwnYrmWKzM/tLxlnprjZAVEQQAABBBBAwLcCjNfsu54CxN7QWQQS2p7ywNFSyZlTKB9t2W+CnX9Wqik+Wjc7wz44ERBAAAEEEEDA9wKM1+xTgALE3tBZBBLajnJvyQm5cVaBfLr9oAnUpW0zmXtzP2mZmmwXmK0RQAABBBBAAIH/CDBes08FChB7Q2cRSOjQKYsPHpNRMwvki+LDJkiPzOaSP7afpKU0Cj0oWyKAAAIIIIAAAqcIMF6zTwkKEHtDZxFI6NAot+0/KqOeXy5Fe46YAP07tJBZOX0lNTkxtIBshQACCCCAAAII1CLAeM0+NShA7A2dRSChg6cs+rrEXPnQIkSX713QSmZk95bGSQnBB2MLBBBAAAEEEECgHgHGa/YpQgFib+gsAgkdHOUXuw6Z4qP40HGz4aAureXpG3pKciLFR3CSrI0AAggggAACgQowXgtUqvb1KEDsDZ1FIKEDp1y77YCMnl0oeuO5LsO6ny1PXN9dGiXEBx6ENRFAAAEEEEAAgSAFGK8FCVbD6hQg9obOIpDQgVGu2rzPPGr30LEys8FP+mTKwyO6SkJ8XGABWAsBBBBAAAEEEAhRgPFaiHDVNqMAsTd0FoGErp9y2cY9cnP+CjlyotysnDOgvTxwdReJp/ioH481EEAAAQQQQMBagPGaNaFQgNgbOotAQtdN+c76Yhk3d5UcL6swK956eZZMHtxJ4uK48uEsCQmEAAIIIIAAAnUKMF6zTxAKEHtDZxFI6Nopl6zdKRMWfiil5ZVmpTsHXSC/+EFHZ/YEQgABBBBAAAEEAhFgvBaIUt3r+LYAOXz4sDz++OOyatUqWblypezcuVPGjBkjeXl5AauuXbtWJk+eLO+//77ZZuDAgTJt2jS5+OKLA45RfUUSuma2v63eJne8uEbKK74pPu6/uovcPLBDSMZshAACCCCAAAII2AgwXrPR+2Zb3xYgRUVF0qFDB2nbtq307t1bFi9eHFQB8sUXX0jfvn2lRYsWMmHCBIP51FNPyf79+6WwsFA6dgz+7DwJfXpCv1C4RX7zv59IZaWIzrR6aHhXuaH/ufaZTwQEEEAAAQQQQCAEAcZrIaCdsolvC5Djx4/L119/Leecc46UlZVJo0aNgipArrvuOlmyZImsW7dOMjMzDevWrVulc+fOMmTIEHnppZeC7h0S+mSy2e9/Kf+9+N/mj3qPuT5m98c9M4J2ZQMEEEAAAQQQQMCVAOM1e0nfFiDV6YItQHT6VsuWLWXkyJGSn59/Ui/oNK5FixaZ4iY1NTWoHiKh/4/rmbc3yGOvrzd/aJQQJ0+N7ClDurYNypOVEUAAAQQQQAAB1wKM1+xFKUBEgr4CsmzZMhkwYIA8++yzMn78+JN6Qf922223ia5zySWXBNVDJLRIZWWlPP7Gennm7Y3GLikxXmZk95bvX3hWUJasjAACCCCAAAIIhEOA8Zq9KgVICAXIK6+8IjoF67XXXpOhQ4ee1Av6t2uuuUZefvllufbaa2vtoR07doj+V33R6VzZ2dnmxvhevXrZ926URdDiQ6dczVlaZI48JSlBZo7uIwPOT4+ylnC4CCCAAAIIIBCrAhQg9j1LARJCATJ37lwZPXq0vP766zJo0KCTeuGNN96QwYMHi66jxURty5QpU2Tq1Kk1/rMfCxB9wtV9r34iCwu3GpOmyYmSd1Nf6d2uhX2WEwEBBBBAAAEEEHAkQAFiD0kBEkIBwhUQ+8SrHqGsvELufGmNvLp6u/lz85RGMvem/tI1I83tjoiGAAIIIIAAAghYClCAWAL6+TG8Jw2Ag3wKFveA2CdeVYQTZRUyceFHsuTTneZP6anJMj+3v3Rq09TdToiEAAIIIIAAAgg4EqAAsYfkCkgIV0DqewrWCy+8IHv27OEpWPXk57HSchk/b5W8s363WfPstDNk/i2XSIf0JvaZTQQEEEAAAQQQQCAMAhQg9qgUIPUUIKWlpbJx40ZJS0szLy2sWvQGc70H5LPPPpOMjG/eTVH1HhC9B0SnaQW7+CmhS46XSW7+Slm2aY9hOrdFiiy4pb9knJkSLBvrI4AAAggggAACngn4abwWLlRfFyDTp083by6vqKiQBx98UHr27CkjRoww1sOGDZNu3bpJ1RvT9f0eeXl53/bD+vXrpV+/fuZ9IBMnTjR/1zeh65UPfRN6p06dgu4zvyT0gaOlMnZOoXy4Zb8xOv+sVDPtqnWzM4I2YwMEEEAAAQQQQMBLAb+M18Jp6usCpH379rJ58+YafefMmSM5OTm1FiC60ccffyyTJ0+WpUuXmhgDBw6URx991BQuoSx+SOi9JSfkxlkF8un2g4aoc9tmMu/mftIyNTkUMrZBAAEEEEAAAQQ8FfDDeC3coL4uQMKNG2z8WE/o4oPHJHtWgXy+67Ch6ZHZXPLH9pO0lEbBUrE+AggggAACCCDQIAKxPl7zApUCxAvlAPcRywm9bf9RGfX8cinac8Ro9OvQQmbn9JXU5MQAdVgNAQQQQAABBBBoeIFYHq95pUsB4pV0APuJ1YQu+rpERs0sEC1CdPlux3T58419pHFSQgAqrIIAAggggAACCESOQKyO17wUpgDxUruefcViQn+x65ApPooPHTetv7JLa5l+Q09JTqT4iKDU41AQQAABBBBAIECBWByvBdh0Z6tRgDijtA8Uawm9dtsBGT27UPTGc12GdT9bnri+uzRKiLfHIgICCCCAAAIIINAAArE2XmsAQqEAaQj1WvYZSwn94ZZ9kjO7UA4eKzOt/UmfTHl4RFdJiI+LIHEOBQEEEEAAAQQQCE4glsZrwbXc3doUIO4srSPFSkIv27hHcvNXSMmJcmOSM6C9PHB1F4mn+LDOEQIggAACCCCAQMMKxMp4rSEVKUAaUv+UfcdCQr+zvljGzV0lx8sqTOtuvTxLJg/uJHFxXPmIoFTjUBBAAAEEEEAgRIFYGK+F2HRnm1GAOKO0DxTtCb1k7U6ZsPBDKS2vNBiTrrxAfvGD8yk+7FODCAgggAACCCAQIQLRPl6LBEYKkEjohf8cQzQn9N9Wb5M7Xlwj5RXfFB/3XdVZcr97XgTpcigIIIAAAggggIC9QDSP1+xb7yYCBYgbRydRojWhF63YInf/9ROprBTRmVb/M/xiGdW/nRMTgiCAAAIIIIAAApEkEK3jtUgypACJoN6IxoSes/RLmfr3fxtFvcf88f/XXUb0yoggVQ4FAQQQQAABBBBwJxCN4zV3rXcTiQLEjaOTKNGW0M+8vUEee329aXtifJw89dOe8l9d2zqxIAgCCCCAAAIIIBCJAtE2XotEQwqQCOqVaEnoyspKeeKNz2X62xuMXlJivDyX3Ut+cGHrCNLkUBBAAAEEEEAAAfcC0TJec99ydxEpQNxZWkeKhoTW4uO3i9fJ7KVfmvamJCXIzNF9ZMD56dbtJwACCCCAAAIIIBDpAtEwXot0QwqQCOqhSE/oiopKuffVtbKwcItRa5qcKHk39ZXe7VpEkCKHggACCCCAAAIIhE8g0sdr4Wu5u8gUIO4srSNFckKXlVfIXS9/LP/70TbTzuYpjWTuTf2la0aadbsJgAACCCCAAAIIRItAJI/XosWQAiSCeipSE/pEWYXc/sJH8o+1O41WemqyzM/tL53aNI0gPQ4FAQQQQAABBBAIv0CkjtfC33J3e6AAcWdpHSkSE/pYabncOm+VvL1+t2lf27QzTPFxXqtU6/YSAAEEEEAAAQQQiDaBSByvRZshBUgE9VikJXTJ8TLJzV8pyzbtMUrntkgxxUdmi5QIUuNQEEAAAQQQQAAB7wQibbzmXcvd7YkCxJ2ldaRISugDR0tl7JxC+XDLftOurFZNZH7uJdIm7QzrdhIAAQQQQAABBBCIVoFIGq9FqyEFSAT1XKQk9N6SEzJ6doGs3XbQ6HRu20zm3tzP3PvBggACCCCAAAII+FkgUsZr0dwHFCAR1HuRkNDFB49J9qwC+XzXYSPTI7O55I/tJ2kpjSJIikNBAAEEEEAAAQQaRiASxmsN03J3e6UAcWdpHamhE3rb/qMy6vnlUrTniGlLvw4tZHZOX0lNTrRuGwEQQAABBBBAAIFYEGjo8VosGFKARFAvNmRCF31dIqNmFogWIbp8t2O6/PnGPtI4KSGChDgUBBBAAAEEEECgYQUacrzWsC13t3cKEHeW1pEaKqG/2HXIFB/Fh46bNlzZpbVMv6GnJCdSfFh3KgEQQAABBBBAIKYEGmq8FkuIFCAR1JsNkdCfbj8gN84qFL3xXJeh3c+W31/fXRolxEeQDIeCAAIIIIAAAghEhkBDjNcio+XujoICxJ2ldSSvE/qjLftkzOxCOXiszBz79X0y5JER3SQhPs66LQRAAAEEEEAAAQRiUcDr8VosGlKARFCvepnQBZv2yE15K6TkRLkRyBnQXh64uovEU3xEUEZwKAgggAACCCAQaQJejtcire2ujocCxJWkgzheJvQnXx2QG55fLoeOl8n4y7Lk1z/qJHFxXPlw0I2EQAABBBBAAIEYFvByvBarjBQgEdSzXif0qs17peDLvXLrZVkUHxGUBxwKAggggAACCESugNfjtciVCP3IKEBCt3O+JQntnJSACCCAAAIIIICAUwHGa/acFCD2hs4ikNDOKAmEAAIIIIAAAgiERYDxmj0rBYi9obMIJLQzSgIhgAACCCCAAAJhEWC8Zs9KAWJv6CwCCe2MkkAIIIAAAggggEBYBBiv2bNSgNgbOotAQjujJBACCCCAAAIIIBAWAcZr9qwUIPaGziKQ0M4oCYQAAggggAACCIRFgPGaPSsFiL2hswgktDNKAiGAAAIIIIAAAmERYLxmz0oBYm/oLAIJ7YySQAgggAACCCCAQFgEGK/Zs/q2ACkvL5fHHntMZs6cKVu3bpXMzEzJzc2Vu+66SxISEuqUzcnJkfz8/BrX0VgZGRkh9QwJHRIbGyGAAAIIIIAAAp4JMF6zp/ZtAXLbbbfJs88+K2PHjpUBAwbIBx98IHPmzBH9+zPPPBNQAaJFSHx8/EnrjhgxQlJSUkLqGRI6JDY2QgABBBBAAAEEPBNgvGZP7csC5JNPPpHu3bvLhAkT5Mknn/xW8fbbb5enn35a1qxZI127dq1Vt+oKSGlpqSQmJtr3wn8ikNDOKAmEAAIIIIAAAgiERYDxmj2rLwuQe++9Vx5++GHZtGmTdOjQ4VvFL7/8Us477zy555575KGHHqq3ADlx4oQcPXpUUlNTT7sSEkrXkNChqLENAggggAACCCDgnQDjNXtrXxYggwcPNlc5du7ceZpg69atpWfPnrJkyZJ6C5CmTZvKoUOHpHHjxjJkyBCZNm2aZGVlhdwrJHTIdGyIAAIIIIAAAgh4IsB4zZ7ZlwWITq9KSkqSVatWnSbYq1cv0alVOk2rtuXuu+826/Tu3VuSk5Nl+fLlZuqWFiQrV66Udu3a1dszO3bsEP2v+rJu3TrJzs42x6XHwYIAAggggAACCCAQWQIUIPb94csCRK9S6JUOvfH81EVvSC8uLpYNGzYEpfvmm2/KoEGDZMyYMZKXl1fvtlOmTJGpU6fWuB4FSL18rIAAAggggAACCDSIAAWIPbsvCxDbKyC1sesVEb2qsX379np7hisg9RKxAgIIIIAAAgggEHECFCD2XeLLAsT2HpDa2PURvIsXLxa9OT2UhYQORY1tEEAAAQQQQAAB7wQYr9lb+7IA0adcPfLIIyE/Bas29m7dusm+ffvMiw1DWUjoUNTYBgEEEEAAAQQQ8E6A8Zq9tS8LEH0Clj7pqrb3gKxevVq0mNAbzTdu3ChpaWnStm1bo11SUmLe/aE3n1dfFi1aJCNHjpRx48bJc889F1LPkNAhsbERAggggAACCCDgmQDjNXtqXxYgyjZ+/HiZMWOGeRP6pZdeKkuXLjVvQq9eQBQVFZn3hFS/sVyLk6uuukqGDx8uHTt2NE/TWrZsmSxYsEAyMzOloKDA3OAeykJCh6LGNggggAACCCCAgHcCjNfsrX1bgJSVlZn3dsycOVO++uorycjIkNzcXJk8efK3bzevqQDRd4dMmjRJVqxYYW4216skWngMHTpU9AWH6enpIfcKCR0yHRsigAACCCCAAAKeCDBes2f2bQFiT+c+Agnt3pSICCCAAAIIIICASwHGa/aaFCD2hs4ikNDOKAmEAAIIIIAAAgiERYDxmj0rBYi9obMIJLQzSgIhgAACCCCAAAJhEWC8Zs9KAWJv6CwCCe2MkkAIIIAAAggggEBYBBiv2bNSgNgbOotAQjujJBACCCCAAAIIIBAWAcZr9qwUIPaGziKQ0M4oCYQAAggggAACCIRFgPGaPSsFiL2hswgktDNKAiGAAAIIIIAAAmERYLxmz0oBYm/oLAIJ7YySQAgggAACCCCAQFgEGK/Zs1KA2Bs6i0BCO6MkEAIIIIAAAgggEBYBxmv2rBQg9obOIpDQzigJhAACCCCAAAIIhEWA8Zo9KwWIvaGzCCS0M0oCIYAAAggggAACYRFgvGbPSgFib+gswtKlS2XgwIEyb9486dy5s7O4BEIAAQQQQAABBBBwI7Bu3TrJzs6W999/Xy699FI3QX0WhQIkgjp8+vTpMmHChAg6Ig4FAQQQQAABBBBAoCYBPWE8atQocEIQoAAJAS1cm7z11ltyxRVXyKxZs6RHjx7h2k1Ux60668BVopq7EZ+60xsffGy+AMmf+vUw4jNWf5bUvka05M/Ro0elqKhIBg8eLOnp6TZN9u22FCAR1PXMKay/MzCq2wgffOr/FNW+BvlD/tjkj25LDpFDNjlE/tjoRde2FCAR1F988OrvDIz4cas/Sxhgh2rE54vPV6i5U7UdOUQO2eQQ+WOjF13bUoBEUH/xwau/MzDix63+LKEACdWIzxefr1BzhwIkMDk+Y3zGAsuU2F+LAiSC+pgvpvo7AyO+vOvPEgqQUI34fPH5CjV3KEACk+MzxmcssEyJ/bUoQCKoj3fs2CEzZsyQcePGSdu2bSPoyCLnUDCquy/wwcfm00r+kD82+aPbkkPkkE0OkT82etG1LQVIdPUXR4sAAggggAACCCCAQFQLUIBEdfdx8AgggAACCCCAAAIIRJcABUh09RdHiwACCCCAAAIIIIBAVAtQgER193HwCCCAAAIIIIAAAghElwAFSHT1F0eLAAIIIIAAAggggEBUC1CARHX3cfAIIIAAAggggAACCESXAAWIB/1VXl4ujz32mMycOVO2bt0qmZmZkpubK3fddZckJCTUeQQ5OTmSn59f4zoaKyMjw4MWhHcXhw8flscff1xWrVolK1eulJ07d8qYMWMkLy8v4B2vXbtWJk+eLO+//77ZZuDAgTJt2jS5+OKLA44RqSva+sRyDmm+zJs3T/75z3/Kl19+KU2aNJGLLrpIfvOb38gVV1wRUJfGcu4ogK1RLOeP+qxbt06mTp1qvn/0EaDx8fFy3nnnibb71ltvleTk5HrzKJZzyNYn1vOnpuTQ76Mf/vCH5p+++OILOf/88+vNoX/9619y7733mjzUnBs0aJD5DTv33HPr3TbaVgjW5/LLL5d33333tGbq+KmsrCzams/x/keAAsSDVLjtttvk2WeflbFjx8qAAQPkgw8+kDlz5oj+/ZlnngmoANEiRH8Yqy8jRoyQlJQUD1oQ3l0UFRVJhw4dzLtPevfuLYsXLw6qANEv+L59+0qLFi1kwoQJ5mCfeuop2b9/vxQWFkrHjh3D24AwR7f1qRoAxGIOXXfddeaH6dprr5VevXqJFmv62dIB4Z/+9CczgKxrifXc0bbbGsVy/qjPG2+8YU6A9O/f35zQ0RNGS5culYULF8pVV10lf//7332dQ7Y+sZ4/pybHiRMnpHv37uZkY0lJSUAFiObb97//fenSpYvccsstcuDAAfnDH/5gft+1IElPTw/zr4x34UPx0QLk448/Nr/r1RcdE91www3eHTx7cipAAeKU8/Rgn3zyifky0oHxk08++e0Kt99+uzz99NOyZs0a6dq1a61HUfXlXVpaKomJiWE+2oYJf/z4cfn666/lnHPOMWczGjVqFFQBogOsJUuWmDOZenVJF/3y79y5swwZMkReeumlhmmYo73a+sRyDukPd58+fU46S3306FHp0aOH7N69W4qLi+v83MR67mgK2hrFcv7U9RH9xS9+YU4QffbZZ9KpU6daV/VDDtXU+EB9/JY/jzzyiPzxj380A2P930CugOh32K5du+Tf//63NG3a1HBr4aEn1iZNmmRmUMTKEoqPFiAbNmyQr776KlYYaIeIUICEOQ30kurDDz8smzZtMmf5qxadLqKX+e+55x556KGH6i1A9KyBDqxSU1NPuxIS5iZ4Gj7YAkTPeLds2VJGjhx52lQ1nca1aNEiU9yoWywswfpom6sGAH7JIW2z/mj//ve/ly1btnxblJ7a/37LnVPbH4iRX/NH261XRXSa7PLly83VkZoWP+dQID5+y5/NmzebqxjTp08X/b91al99BYj++wUXXCAPPPCAWb/6ctlll5mB97Zt22Lh58uYBOujDa8qQHR7vaqkRVpcXFxMmPi5ERQgYe79wYMHm6scel/DqUvr1q2lZ8+e5ux9bUvV4FE/cIcOHZLGjRubs/o6NzQrKyvMR+99+GAH2MuWLTPT2nSK2/jx4086YP2bTnPTdS655BLvGxOGPQbrU30A4Jcc0jb/9Kc/lZdfftlMw9P7Qmpa/JY7pxoEYuSn/Dly5IjofzrA0ambP//5z83VWB0A6veu33MoFB8/5Y+29ZprrjFXXXWatRYTgRQgOtVPr5b84x//kB/96Ecnpdmvf/1r81uv9ya1adMmDL8o3oYMxaeqANErufp51BOxzZo1E52C/uijj8pZZ53lbSPYmzMBChBnlDUH0ulVSUlJ5nLqqYvOWdepVTpNq7bl7rvvNuvovRF6Y5qejdOpWzqY1JtL27VrF+YWeBs+2AH2K6+8Yua4v/baazJ06NCTDlb/pl94OhDVewRiYQnWR9vstxzSqXg6Bevqq68WzY/aFr/lTnWHQI38lD9Tpkw56Qy0XvX485//LN26dSOHRCQUHz/lj967qL83Wrzq73WVV31XQJ544gm58847zT0Op07H1nsedLq2/tZrzGheQvXRNuv9s3p/lvpUVlbKW2+9JbNmzTKzSFasWCHNmzePZhrfHjsFSJi7Xq9S6JUOPSNy6qJn7vVsiZ5hC2Z58803zRMygn1SVDD7aKh1gx1gz507V0aPHi2vv/66Mam+6M2TegVK18nOzm6oJjndb7A+te08VnNIb978zne+Y84Y6pXHup4g47fcqcqFYIz8lD86TVb/27Nnj3mqmg4Idb66Tv+obfFTDoXi45f80bPy+vS9Ky5a0XkAAAfBSURBVK+8UmbMmGGaHWgB8tvf/tZMv1q/fr2ZilV90QJ43Lhxok/I0ic7Ruti41Nbm59//nn52c9+Jg8++KCxZok+AQqQMPeZ7RWQ2g5Pz4boIGv79u1hboG34YMdYPvtLHawPnX1XqzlkP7IacGpZ8R0WqPOn65r8VvuqEWwRn7Kn1Pbqk8h0ikwWsjqAy1qWvyYQ1UOgfj4JX/uu+8+89S9zz///NsnVgVagPjhCoiNT205pFdCWrVqZYq2mk7wejtyYW+hCFCAhKIWxDa294DUtiud/6iXNPXG4lhagh1g+20ef7A+deVGLOWQfg6GDRtmzlz/9a9/NdOv6lv8ljuhGPklf2pqpz6VSOfd1/WgEL/lUHWnQHz8kD96ElCnAv3yl7807/eqWnT6lE6X1ulC7du3N+vUtMT6PSC2PnXlUNWj17XwY4k+AQqQMPeZ/njpZfxQn4JV2+HpvOR9+/aZx83G0hLsALu+p9C88MILZkqFn5+CFes5pDmj9wHp+xrmz59vnogWyOKn3AnVqC7HWP0Oqmpz1ft39F0yena7psVPOXRq+wPx8UP+rF692jxMpq5FH4ShuVLTooNnfcxzrD4Fy9anNld9X4++H0VfNqxT1FiiT4ACJMx9ppfv9cuptveA6IdTf8j1RvONGzdKWlqaeSGfLvo0Fn33x6lv4tVHy+ogS+eGPvfcc2Fugbfh6ypAajLSo9MbzPUeEH1ef9Wb4aveA6JXoOq6Ednb1tnvLVifWM+hiooK8wQZ/UzofGl9iVdNi59zx8Yo1vNHc0Xvw6vpSTqTJ08271/Iy8sz99v5NYdsfPyQP3pPld5Td+ry4osvmndQ6VUQ/V0aPny4ecqaPhpcB87VXy6o02HVuab3gPzqV78SnaYVrYutj26vJxD1refVF30Clj5gRU/w6v+yRJ8ABYgHfaaPh9Ub0/RJDpdeeql5MZi+rbl6AVF1Nqn6jeVanOibePWLS9/mrU/T0kv+CxYsMO82KCgoMDe4x8Kiz03XR6bqYElvKtOiTacI6aJTa7RIq8lI/11v3uvXr595H8jEiRPNNnr5W6986BNJ6nqJWLTYheoT6zl0xx13mDcG6/0e1ac/VPWr3hSqnxE/546NUaznj+bJj3/8Y/NdoTeb6/eqfg/pCQ2dOqM3/r799tvmRJBfc8jGxw/5U9tvSE33gLzzzjvmjeen3jj93nvvyRVXXGHekaE3Vh88eNC8x0hPPn744YfmXodYWwL1efXVV81TwnQcoNPY9MqHTrXVp1zqFCy1q+1R67FmFmvtoQDxoEf1rLU+y3vmzJnmTZ56NkQHS3qGrert5jX9uOm7Q/RlYXpTrc6j1DNw+gOpj5vVFxxWP4PiQTPCugudI6svGapp0WJN34dS2wBAt9En1qinFne66MBBz5DU9QjNsDbIcfBQfWI9h3TQ+O6779aqrYNHXcfPuWNjFOv5o4mjV8/0Kod+h+zevdsM+i688EL5yU9+Yq5cV12B9msO2fj4IX9cFCAaQ7/H9GZtfWS/5pyePNErcLH2qP0qr0ALEH1k+P33329c9L4jvflcCxGddqu/+RQfjgcbHoajAPEQm10hgAACCCCAAAIIIOB3AQoQv2cA7UcAAQQQQAABBBBAwEMBChAPsdkVAggggAACCCCAAAJ+F6AA8XsG0H4EEEAAAQQQQAABBDwUoADxEJtdIYAAAggggAACCCDgdwEKEL9nAO1HAAEEEEAAAQQQQMBDAQoQD7HZFQIIIIAAAggggAACfhegAPF7BtB+BBBAAAEEEEAAAQQ8FKAA8RCbXSGAAAIIIIAAAggg4HcBChC/ZwDtRwABBBBAAAEEEEDAQwEKEA+x2RUCCCCAAAIIIIAAAn4XoADxewbQfgQQQAABBBBAAAEEPBSgAPEQm10hgAACCCCAAAIIIOB3AQoQv2cA7UcAAQQQQAABBBBAwEMBChAPsdkVAggggAACCCCAAAJ+F6AA8XsG0H4EEEAAAQQQQAABBDwUoADxEJtdIYAAAggggAACCCDgdwEKEL9nAO1HAAEEEEAAAQQQQMBDAQoQD7HZFQIIIIAAAggggAACfhegAPF7BtB+BBBAAAEEEEAAAQQ8FKAA8RCbXSGAAAIIIIAAAggg4HcBChC/ZwDtRwABBBBAAAEEEEDAQwEKEA+x2RUCCCCAAAIIIIAAAn4XoADxewbQfgQQQAABBBBAAAEEPBSgAPEQm10hgAACCCCAAAIIIOB3AQoQv2cA7UcAAQQQQAABBBBAwEMBChAPsdkVAggggAACCCCAAAJ+F6AA8XsG0H4EEEAAAQQQQAABBDwUoADxEJtdIYAAAggggAACCCDgdwEKEL9nAO1HAAEEEEAAAQQQQMBDAQoQD7HZFQIIIIAAAggggAACfhegAPF7BtB+BBBAAAEEEEAAAQQ8FKAA8RCbXSGAAAIIIIAAAggg4HcBChC/ZwDtRwABBBBAAAEEEEDAQwEKEA+x2RUCCCCAAAIIIIAAAn4XoADxewbQfgQQQAABBBBAAAEEPBSgAPEQm10hgAACCCCAAAIIIOB3AQoQv2cA7UcAAQQQQAABBBBAwEMBChAPsdkVAggggAACCCCAAAJ+F6AA8XsG0H4EEEAAAQQQQAABBDwU+P85pO/X8VPKkAAAAABJRU5ErkJggg==\" width=\"640\">"
      ],
      "text/plain": [
       "<IPython.core.display.HTML object>"
      ]
     },
     "metadata": {},
     "output_type": "display_data"
    }
   ],
   "source": [
    "\n",
    "x2 = np.linspace(0, density-1, density)\n",
    "fig2 = plt.figure()\n",
    "ax2 = fig2.add_subplot(1, 1, 1)\n",
    "line2, = ax2.plot(np.log(x2[2::]), np.log(np.abs(val[2::])**(1/2)))\n",
    "\n",
    "def update2(e = 1.0):\n",
    "    eigenValues, eigenVectors = np.linalg.eig(build(density, e))\n",
    "\n",
    "    idx = eigenValues.argsort()   \n",
    "    val = eigenValues[idx]\n",
    "    \n",
    "    line2.set_ydata(np.log(np.abs(val[2::])**(1/2)))\n",
    "    fig2.canvas.draw()\n",
    "\n"
   ]
  },
  {
   "cell_type": "code",
   "execution_count": 17,
   "metadata": {},
   "outputs": [
    {
     "data": {
      "application/vnd.jupyter.widget-view+json": {
       "model_id": "a9fc2b23ef654607906bb92e91398e60",
       "version_major": 2,
       "version_minor": 0
      },
      "text/plain": [
       "interactive(children=(IntSlider(value=1, description='e', max=500, min=-500), Output()), _dom_classes=('widget…"
      ]
     },
     "metadata": {},
     "output_type": "display_data"
    }
   ],
   "source": [
    "\n",
    "interact(update2, e = widgets.IntSlider(min=-500,max=500,step=1,value=1));"
   ]
  },
  {
   "cell_type": "markdown",
   "metadata": {},
   "source": [
    "Верхняя часть зависимости не меняется и имеет такой вид из-за того, что характерное поведение высокоэнергетической частицы проявляется на расстояниях порядка размера сетки (и, как следствие, смысл такое моделирование теряет). Поведение на низких энергиях я объяснить пока что не в состоянии (за исключением, разумеется, того, что при малых размерах горба наклон прямой порядка единицы)."
   ]
  },
  {
   "cell_type": "code",
   "execution_count": null,
   "metadata": {},
   "outputs": [],
   "source": []
  }
 ],
 "metadata": {
  "kernelspec": {
   "display_name": "Python 3",
   "language": "python",
   "name": "python3"
  },
  "language_info": {
   "codemirror_mode": {
    "name": "ipython",
    "version": 3
   },
   "file_extension": ".py",
   "mimetype": "text/x-python",
   "name": "python",
   "nbconvert_exporter": "python",
   "pygments_lexer": "ipython3",
   "version": "3.6.5"
  },
  "widgets": {
   "application/vnd.jupyter.widget-state+json": {
    "state": {
     "003732ebdcea48e2a8582bb4387cbe8e": {
      "model_module": "@jupyter-widgets/base",
      "model_module_version": "1.0.0",
      "model_name": "LayoutModel",
      "state": {}
     },
     "0098e12eb637462a85bb6852ab14a0dc": {
      "model_module": "@jupyter-widgets/controls",
      "model_module_version": "1.2.0",
      "model_name": "SliderStyleModel",
      "state": {
       "description_width": ""
      }
     },
     "00a2d158116c46868dca2f89916b70ac": {
      "model_module": "@jupyter-widgets/controls",
      "model_module_version": "1.2.0",
      "model_name": "VBoxModel",
      "state": {
       "_dom_classes": [
        "widget-interact"
       ],
       "children": [
        "IPY_MODEL_796f9a8030684459a7b9fb8150fd9843",
        "IPY_MODEL_ef01843c5a474e2595817e815d83783d"
       ],
       "layout": "IPY_MODEL_50869359710e4756af900551eeff53c3"
      }
     },
     "01d63309066449b3b6dd0523160a60bc": {
      "model_module": "@jupyter-widgets/controls",
      "model_module_version": "1.2.0",
      "model_name": "VBoxModel",
      "state": {
       "_dom_classes": [
        "widget-interact"
       ],
       "children": [
        "IPY_MODEL_a672093ad167436780fb482d1d4dcb80",
        "IPY_MODEL_1ca1c59ff42341d4aa62940e7ede919e"
       ],
       "layout": "IPY_MODEL_fbcbe4f68fa44a349087610982df5998"
      }
     },
     "025c5f6794e54ec7b518b598cfeee7d0": {
      "model_module": "@jupyter-widgets/base",
      "model_module_version": "1.0.0",
      "model_name": "LayoutModel",
      "state": {}
     },
     "02e4ba74ddfc445882cff812f6cc3cf2": {
      "model_module": "@jupyter-widgets/controls",
      "model_module_version": "1.2.0",
      "model_name": "VBoxModel",
      "state": {
       "_dom_classes": [
        "widget-interact"
       ],
       "children": [
        "IPY_MODEL_4da328cd24f4475c9234e0eae6ee31f8",
        "IPY_MODEL_d0c3ec339357480fbdad22bb44fc9b69"
       ],
       "layout": "IPY_MODEL_528dd8753494494d95465bf21c499785"
      }
     },
     "0356744f827c46f78f10cf306fcbabee": {
      "model_module": "@jupyter-widgets/base",
      "model_module_version": "1.0.0",
      "model_name": "LayoutModel",
      "state": {}
     },
     "0372ef361a9f4dda8550228fb23cdbda": {
      "model_module": "@jupyter-widgets/controls",
      "model_module_version": "1.2.0",
      "model_name": "IntSliderModel",
      "state": {
       "description": "d",
       "layout": "IPY_MODEL_972d65b7b22c4a50bcb77c7b73337af2",
       "max": 500,
       "min": -500,
       "style": "IPY_MODEL_b35ef9bb9da94061941615c2af094f83",
       "value": 31
      }
     },
     "03ac5541358a4886b8cde242fa7d4655": {
      "model_module": "@jupyter-widgets/controls",
      "model_module_version": "1.2.0",
      "model_name": "VBoxModel",
      "state": {
       "_dom_classes": [
        "widget-interact"
       ],
       "children": [
        "IPY_MODEL_d42327bc8e5641eebf09828984b60560",
        "IPY_MODEL_780106313e5746308c8771bfb2407a79"
       ],
       "layout": "IPY_MODEL_48dff9818fb94c6c9a4a773b5ec43c60"
      }
     },
     "0517fa20096442bb84029af294fceb73": {
      "model_module": "@jupyter-widgets/controls",
      "model_module_version": "1.2.0",
      "model_name": "IntSliderModel",
      "state": {
       "description": "c",
       "layout": "IPY_MODEL_cc29e58fa65b4f8aab2ae2ead09fcf01",
       "max": 500,
       "min": -500,
       "style": "IPY_MODEL_19bb421020a549eabefd5c3811ffdff3",
       "value": 1
      }
     },
     "0593e7c0c7c74ea6a5e49db02595e1f9": {
      "model_module": "@jupyter-widgets/base",
      "model_module_version": "1.0.0",
      "model_name": "LayoutModel",
      "state": {}
     },
     "0640d3fdf750425f95dc1f0dd2221ef1": {
      "model_module": "@jupyter-widgets/controls",
      "model_module_version": "1.2.0",
      "model_name": "SliderStyleModel",
      "state": {
       "description_width": ""
      }
     },
     "06a392dc066d4ca6ae8018ad1e7db149": {
      "model_module": "@jupyter-widgets/base",
      "model_module_version": "1.0.0",
      "model_name": "LayoutModel",
      "state": {}
     },
     "06ab84dd0a9e49808bb220fa0fc2bd60": {
      "model_module": "@jupyter-widgets/base",
      "model_module_version": "1.0.0",
      "model_name": "LayoutModel",
      "state": {}
     },
     "06e5dc2d71694837b13dfe9f2a563e3f": {
      "model_module": "@jupyter-widgets/controls",
      "model_module_version": "1.2.0",
      "model_name": "SliderStyleModel",
      "state": {
       "description_width": ""
      }
     },
     "06f264ddcc07441fa6cc97b4594bf123": {
      "model_module": "@jupyter-widgets/output",
      "model_module_version": "1.0.0",
      "model_name": "OutputModel",
      "state": {
       "layout": "IPY_MODEL_98730944a314437094ed5bf220e9a01c"
      }
     },
     "07667f55c30245a783dd2e240b1e6444": {
      "model_module": "@jupyter-widgets/base",
      "model_module_version": "1.0.0",
      "model_name": "LayoutModel",
      "state": {}
     },
     "07a0059294c545e197508a0313a8bc14": {
      "model_module": "@jupyter-widgets/base",
      "model_module_version": "1.0.0",
      "model_name": "LayoutModel",
      "state": {}
     },
     "080314fbf2ed460ea30842ce20016a5f": {
      "model_module": "@jupyter-widgets/controls",
      "model_module_version": "1.2.0",
      "model_name": "FloatSliderModel",
      "state": {
       "description": "c",
       "layout": "IPY_MODEL_42aed5e6d62442a080b91262dd7d7d50",
       "max": 3,
       "min": -1,
       "step": 0.1,
       "style": "IPY_MODEL_4d9cabf19f7e446885410200fb730a00",
       "value": 0.1
      }
     },
     "089bd0b739f34bcbb7927ccd6c000434": {
      "model_module": "@jupyter-widgets/controls",
      "model_module_version": "1.2.0",
      "model_name": "VBoxModel",
      "state": {
       "_dom_classes": [
        "widget-interact"
       ],
       "children": [
        "IPY_MODEL_a4edad37d96c46b7b3b8541bee9a6924",
        "IPY_MODEL_cf601371394540be83796de0e5776944"
       ],
       "layout": "IPY_MODEL_0c88e36998f14f97a97d2d5d6083a2a7"
      }
     },
     "09ea0ae2dc634f22bf0aeda1cd66580e": {
      "model_module": "@jupyter-widgets/base",
      "model_module_version": "1.0.0",
      "model_name": "LayoutModel",
      "state": {}
     },
     "0a3d2c166b99431a9b51e88e8594392a": {
      "model_module": "@jupyter-widgets/base",
      "model_module_version": "1.0.0",
      "model_name": "LayoutModel",
      "state": {}
     },
     "0ad6744370c94dd988e7eb8743edcb9b": {
      "model_module": "@jupyter-widgets/output",
      "model_module_version": "1.0.0",
      "model_name": "OutputModel",
      "state": {
       "layout": "IPY_MODEL_06a392dc066d4ca6ae8018ad1e7db149",
       "outputs": [
        {
         "name": "stderr",
         "output_type": "stream",
         "text": "D:\\AnacondaPython\\lib\\site-packages\\ipykernel_launcher.py:13: RuntimeWarning: divide by zero encountered in log\n  del sys.path[0]\n"
        }
       ]
      }
     },
     "0b283f5ae53d49bdb604fca86a600668": {
      "model_module": "@jupyter-widgets/base",
      "model_module_version": "1.0.0",
      "model_name": "LayoutModel",
      "state": {}
     },
     "0b35d9d2ec7c4b94be43ed0d2401d949": {
      "model_module": "@jupyter-widgets/output",
      "model_module_version": "1.0.0",
      "model_name": "OutputModel",
      "state": {
       "layout": "IPY_MODEL_60b966c2107646779d68261b640819cc"
      }
     },
     "0c88e36998f14f97a97d2d5d6083a2a7": {
      "model_module": "@jupyter-widgets/base",
      "model_module_version": "1.0.0",
      "model_name": "LayoutModel",
      "state": {}
     },
     "0d41042246704668a6f8284b1d25e111": {
      "model_module": "@jupyter-widgets/controls",
      "model_module_version": "1.2.0",
      "model_name": "IntSliderModel",
      "state": {
       "description": "e",
       "layout": "IPY_MODEL_c7bf63b9a9c043dfa70439832cfa935f",
       "max": 500,
       "min": -500,
       "style": "IPY_MODEL_414763ac91454bc08c6a4343912d2849",
       "value": 4
      }
     },
     "0da9b0c7235f4eb681948425f42c3961": {
      "model_module": "@jupyter-widgets/controls",
      "model_module_version": "1.2.0",
      "model_name": "IntSliderModel",
      "state": {
       "description": "e",
       "layout": "IPY_MODEL_54fed8d5050f47a6b426d965c7685375",
       "max": 500,
       "min": -500,
       "style": "IPY_MODEL_95c10d2d517d4ae586aa641c6b909164",
       "value": 133
      }
     },
     "0e8f2db269ad4c4baa98b2348ee33c1e": {
      "model_module": "@jupyter-widgets/controls",
      "model_module_version": "1.2.0",
      "model_name": "VBoxModel",
      "state": {
       "_dom_classes": [
        "widget-interact"
       ],
       "children": [
        "IPY_MODEL_bc809b09c61c4114bf8c82d31999cb23",
        "IPY_MODEL_e3a638115d8e41978b484ce73669649d"
       ],
       "layout": "IPY_MODEL_456e80fcbdc243bdb70fb1ef4437777a"
      }
     },
     "0f31d0d5badf44a8bbe8ff57fcb29208": {
      "model_module": "@jupyter-widgets/base",
      "model_module_version": "1.0.0",
      "model_name": "LayoutModel",
      "state": {}
     },
     "0fb8c9ea80a24c93ae47e82a17f2c659": {
      "model_module": "@jupyter-widgets/controls",
      "model_module_version": "1.2.0",
      "model_name": "VBoxModel",
      "state": {
       "_dom_classes": [
        "widget-interact"
       ],
       "children": [
        "IPY_MODEL_0da9b0c7235f4eb681948425f42c3961",
        "IPY_MODEL_0ad6744370c94dd988e7eb8743edcb9b"
       ],
       "layout": "IPY_MODEL_42daffd5e7e7415eba6eec0c79620789"
      }
     },
     "11894b8b703b4f27bd7ec1a2d2beaa94": {
      "model_module": "@jupyter-widgets/controls",
      "model_module_version": "1.2.0",
      "model_name": "IntSliderModel",
      "state": {
       "description": "d",
       "layout": "IPY_MODEL_3774ff4567d84eb39701d3462652a30c",
       "max": 500,
       "min": -500,
       "style": "IPY_MODEL_4ae4acf511c14229b90b64dccd08b41a",
       "value": -131
      }
     },
     "118bb77ed3694d1eae94d9af98774404": {
      "model_module": "@jupyter-widgets/controls",
      "model_module_version": "1.2.0",
      "model_name": "VBoxModel",
      "state": {
       "_dom_classes": [
        "widget-interact"
       ],
       "children": [
        "IPY_MODEL_6989d13679524307b421310148122831",
        "IPY_MODEL_cfb2e791b9b54e2388af7b45f43640bf"
       ],
       "layout": "IPY_MODEL_be602248efac4beb8bb0ab3dfd9afe3e"
      }
     },
     "1308616c49fe40329c3e3e4136e689a9": {
      "model_module": "@jupyter-widgets/base",
      "model_module_version": "1.0.0",
      "model_name": "LayoutModel",
      "state": {}
     },
     "14263885479a446f967a45ad5fb58e1e": {
      "model_module": "@jupyter-widgets/controls",
      "model_module_version": "1.2.0",
      "model_name": "SliderStyleModel",
      "state": {
       "description_width": ""
      }
     },
     "1560e34fe03d442d8a8c4b7263630870": {
      "model_module": "@jupyter-widgets/base",
      "model_module_version": "1.0.0",
      "model_name": "LayoutModel",
      "state": {}
     },
     "15bb8c53fec443a4b28b7edf7c85db87": {
      "model_module": "@jupyter-widgets/output",
      "model_module_version": "1.0.0",
      "model_name": "OutputModel",
      "state": {
       "layout": "IPY_MODEL_cfafcc3f35c049fea7230644188c5240",
       "outputs": [
        {
         "name": "stderr",
         "output_type": "stream",
         "text": "D:\\AnacondaPython\\lib\\site-packages\\ipykernel_launcher.py:13: RuntimeWarning: divide by zero encountered in log\n  del sys.path[0]\n"
        }
       ]
      }
     },
     "15e64a420be649a39658a2b31c504a03": {
      "model_module": "@jupyter-widgets/base",
      "model_module_version": "1.0.0",
      "model_name": "LayoutModel",
      "state": {}
     },
     "17d425560df14d4e98ae8971559cdfb2": {
      "model_module": "@jupyter-widgets/base",
      "model_module_version": "1.0.0",
      "model_name": "LayoutModel",
      "state": {}
     },
     "181c9f1a98fa4e3fa8b00b9b4b7a1954": {
      "model_module": "@jupyter-widgets/base",
      "model_module_version": "1.0.0",
      "model_name": "LayoutModel",
      "state": {}
     },
     "18cdf37c5f3842b98f97d47623bf2901": {
      "model_module": "@jupyter-widgets/output",
      "model_module_version": "1.0.0",
      "model_name": "OutputModel",
      "state": {
       "layout": "IPY_MODEL_e434531fc2294fd7b70d7a77b96d15fe"
      }
     },
     "19bb421020a549eabefd5c3811ffdff3": {
      "model_module": "@jupyter-widgets/controls",
      "model_module_version": "1.2.0",
      "model_name": "SliderStyleModel",
      "state": {
       "description_width": ""
      }
     },
     "1a96bff0702d4fd18f68a8ff0ebdf851": {
      "model_module": "@jupyter-widgets/base",
      "model_module_version": "1.0.0",
      "model_name": "LayoutModel",
      "state": {}
     },
     "1b1db904c7e04d8784dcab9a60ed6d7b": {
      "model_module": "@jupyter-widgets/controls",
      "model_module_version": "1.2.0",
      "model_name": "VBoxModel",
      "state": {
       "_dom_classes": [
        "widget-interact"
       ],
       "children": [
        "IPY_MODEL_d90a1ca5f03042e28adbb4388da5f6cb",
        "IPY_MODEL_25c63d5c152f4d0d882ac52e809eb21e"
       ],
       "layout": "IPY_MODEL_4f1dadcfd41c4aaba52e2b8d68daa087"
      }
     },
     "1c3ffcce83e34db19f0f7d3b52cced11": {
      "model_module": "@jupyter-widgets/base",
      "model_module_version": "1.0.0",
      "model_name": "LayoutModel",
      "state": {}
     },
     "1c4b38c157b34c99aa5ccdf75a10903b": {
      "model_module": "@jupyter-widgets/controls",
      "model_module_version": "1.2.0",
      "model_name": "SliderStyleModel",
      "state": {
       "description_width": ""
      }
     },
     "1c8fdca653334d2ea31d35f707682f18": {
      "model_module": "@jupyter-widgets/base",
      "model_module_version": "1.0.0",
      "model_name": "LayoutModel",
      "state": {}
     },
     "1c8ffb6ad4c049acb941b75175274abc": {
      "model_module": "@jupyter-widgets/base",
      "model_module_version": "1.0.0",
      "model_name": "LayoutModel",
      "state": {}
     },
     "1ca1c59ff42341d4aa62940e7ede919e": {
      "model_module": "@jupyter-widgets/output",
      "model_module_version": "1.0.0",
      "model_name": "OutputModel",
      "state": {
       "layout": "IPY_MODEL_0a3d2c166b99431a9b51e88e8594392a"
      }
     },
     "1d2aeab30b704e92b82c5a553c4778c3": {
      "model_module": "@jupyter-widgets/base",
      "model_module_version": "1.0.0",
      "model_name": "LayoutModel",
      "state": {}
     },
     "1d3e1f985a8c4f32a54f317f0a404cae": {
      "model_module": "@jupyter-widgets/output",
      "model_module_version": "1.0.0",
      "model_name": "OutputModel",
      "state": {
       "layout": "IPY_MODEL_6edb7f546fcb41949299c8b0fa2a2093"
      }
     },
     "1d746313f2864b5aa8caabec7c9360b5": {
      "model_module": "@jupyter-widgets/controls",
      "model_module_version": "1.2.0",
      "model_name": "VBoxModel",
      "state": {
       "_dom_classes": [
        "widget-interact"
       ],
       "children": [
        "IPY_MODEL_4e981390e14f4741a37cbb64a03cd504",
        "IPY_MODEL_b2b2c0f1b026450ca6a24b4ab6346791"
       ],
       "layout": "IPY_MODEL_749ab65100b041ebb6474e9c6e10fbaa"
      }
     },
     "1da5df6ddf4f4fbfa38964bcd1a082d9": {
      "model_module": "@jupyter-widgets/controls",
      "model_module_version": "1.2.0",
      "model_name": "IntSliderModel",
      "state": {
       "description": "d",
       "layout": "IPY_MODEL_87590ee155f749e8a2b4dd7c67afa160",
       "max": 500,
       "min": -500,
       "style": "IPY_MODEL_2aec9479a6724300afbffd783d3f4e15",
       "value": -496
      }
     },
     "207017d90ef04cd78b2004eafb413394": {
      "model_module": "@jupyter-widgets/output",
      "model_module_version": "1.0.0",
      "model_name": "OutputModel",
      "state": {
       "layout": "IPY_MODEL_43a918f2c346436ba65aa187537f416e"
      }
     },
     "208441f55de2454893e2f9812c5beacf": {
      "model_module": "@jupyter-widgets/controls",
      "model_module_version": "1.2.0",
      "model_name": "SliderStyleModel",
      "state": {
       "description_width": ""
      }
     },
     "20b8b5234ed84e9fb046a34c309d4d5a": {
      "model_module": "@jupyter-widgets/controls",
      "model_module_version": "1.2.0",
      "model_name": "VBoxModel",
      "state": {
       "_dom_classes": [
        "widget-interact"
       ],
       "children": [
        "IPY_MODEL_080314fbf2ed460ea30842ce20016a5f",
        "IPY_MODEL_abab2f8f828c44ceb2124928c6b5c33d"
       ],
       "layout": "IPY_MODEL_69d59ca6a91f43d3a3166d334f1eea73"
      }
     },
     "20f602995bc740a89fef3184b5e17a59": {
      "model_module": "@jupyter-widgets/base",
      "model_module_version": "1.0.0",
      "model_name": "LayoutModel",
      "state": {}
     },
     "210352abbc6d4600b8d199cbc89c264a": {
      "model_module": "@jupyter-widgets/base",
      "model_module_version": "1.0.0",
      "model_name": "LayoutModel",
      "state": {}
     },
     "21630efb3b7a4d86bafdb244ee33ff70": {
      "model_module": "@jupyter-widgets/base",
      "model_module_version": "1.0.0",
      "model_name": "LayoutModel",
      "state": {}
     },
     "21700c3e0f1b4b9a8c153d5d5e07d3c2": {
      "model_module": "@jupyter-widgets/base",
      "model_module_version": "1.0.0",
      "model_name": "LayoutModel",
      "state": {}
     },
     "2235e731805f439886d177deae3a5b27": {
      "model_module": "@jupyter-widgets/base",
      "model_module_version": "1.0.0",
      "model_name": "LayoutModel",
      "state": {}
     },
     "2246d96d4eac4f018d1327b4a050af4c": {
      "model_module": "@jupyter-widgets/base",
      "model_module_version": "1.0.0",
      "model_name": "LayoutModel",
      "state": {}
     },
     "2261d223050d423695abda58078450a8": {
      "model_module": "@jupyter-widgets/output",
      "model_module_version": "1.0.0",
      "model_name": "OutputModel",
      "state": {
       "layout": "IPY_MODEL_d6a02f5ab44b4f908ff5cf441d6f6558"
      }
     },
     "227353788a3640618e1f882ad5b06d70": {
      "model_module": "@jupyter-widgets/controls",
      "model_module_version": "1.2.0",
      "model_name": "VBoxModel",
      "state": {
       "_dom_classes": [
        "widget-interact"
       ],
       "children": [
        "IPY_MODEL_b669be6576db40069988f1cd1e1cbdcc",
        "IPY_MODEL_a748cc12b5a547ac951e96da4f80a328"
       ],
       "layout": "IPY_MODEL_ded5695c960a4210b36d94f5e1382982"
      }
     },
     "22c9bf0a92564f3ba398bfc9c77c5d74": {
      "model_module": "@jupyter-widgets/controls",
      "model_module_version": "1.2.0",
      "model_name": "IntSliderModel",
      "state": {
       "description": "d",
       "layout": "IPY_MODEL_aec6a953c2fd45ca9e07bb0fed2a7e7d",
       "max": 500,
       "min": -500,
       "style": "IPY_MODEL_a2a90b9faae944e3aebbe1429b6895eb",
       "value": -8
      }
     },
     "23938e526a924b068b7d402a66304d43": {
      "model_module": "@jupyter-widgets/base",
      "model_module_version": "1.0.0",
      "model_name": "LayoutModel",
      "state": {}
     },
     "23ec591b17094ece804cc717570f9d6d": {
      "model_module": "@jupyter-widgets/controls",
      "model_module_version": "1.2.0",
      "model_name": "VBoxModel",
      "state": {
       "_dom_classes": [
        "widget-interact"
       ],
       "children": [
        "IPY_MODEL_2517ed24fdfa4e06b92a87d99233e51b",
        "IPY_MODEL_5fb426993b0848a488480b7c20b2a515"
       ],
       "layout": "IPY_MODEL_c134acd6bc9a4fcc9c2545caeeb02465"
      }
     },
     "2411e865a60f4d24b59f77974bf3a42c": {
      "model_module": "@jupyter-widgets/controls",
      "model_module_version": "1.2.0",
      "model_name": "VBoxModel",
      "state": {
       "_dom_classes": [
        "widget-interact"
       ],
       "children": [
        "IPY_MODEL_fa66ea035e5d431f8aa81aa4ceda4d18",
        "IPY_MODEL_f70a2bafa9f94759a0cf56e09370bd14"
       ],
       "layout": "IPY_MODEL_37915d9dc8a14d9ab07205f875b6919e"
      }
     },
     "2517ed24fdfa4e06b92a87d99233e51b": {
      "model_module": "@jupyter-widgets/controls",
      "model_module_version": "1.2.0",
      "model_name": "IntSliderModel",
      "state": {
       "description": "e",
       "layout": "IPY_MODEL_1d2aeab30b704e92b82c5a553c4778c3",
       "max": 500,
       "min": -500,
       "style": "IPY_MODEL_cefcbb34e99d4319aabdff752a3731ea",
       "value": 1
      }
     },
     "25c63d5c152f4d0d882ac52e809eb21e": {
      "model_module": "@jupyter-widgets/output",
      "model_module_version": "1.0.0",
      "model_name": "OutputModel",
      "state": {
       "layout": "IPY_MODEL_b6351b989f54419382c53c9081450854"
      }
     },
     "26027da369484e73b7dc4d06dbc4eace": {
      "model_module": "@jupyter-widgets/controls",
      "model_module_version": "1.2.0",
      "model_name": "IntSliderModel",
      "state": {
       "description": "c",
       "layout": "IPY_MODEL_4020ce81fa554d19bace9ae211f8f62a",
       "max": 500,
       "min": -500,
       "style": "IPY_MODEL_8c4611a000bc4869912cbfdfb6ecb314",
       "value": -98
      }
     },
     "26ab4aa3123e48b895b3c76cc732d336": {
      "model_module": "@jupyter-widgets/controls",
      "model_module_version": "1.2.0",
      "model_name": "IntSliderModel",
      "state": {
       "description": "e",
       "layout": "IPY_MODEL_b6c22eb1f68248f0b069ee06fedfcbe1",
       "max": 500,
       "min": -500,
       "style": "IPY_MODEL_fff48b312de94731af9854f0548baf69",
       "value": 125
      }
     },
     "2709c0adf0264f7c94254f53975a5448": {
      "model_module": "@jupyter-widgets/controls",
      "model_module_version": "1.2.0",
      "model_name": "IntSliderModel",
      "state": {
       "description": "c",
       "layout": "IPY_MODEL_4c2080af641448baaa8ab800cf8a272c",
       "max": 500,
       "min": -500,
       "style": "IPY_MODEL_7bf6c0e18bb64585ba60ac36ed1e6f01",
       "value": 1
      }
     },
     "279a9847ba6443be805964109a1fea9e": {
      "model_module": "@jupyter-widgets/output",
      "model_module_version": "1.0.0",
      "model_name": "OutputModel",
      "state": {
       "layout": "IPY_MODEL_0593e7c0c7c74ea6a5e49db02595e1f9"
      }
     },
     "29cf27dc7afd408097785192b16b51ec": {
      "model_module": "@jupyter-widgets/base",
      "model_module_version": "1.0.0",
      "model_name": "LayoutModel",
      "state": {}
     },
     "2aec9479a6724300afbffd783d3f4e15": {
      "model_module": "@jupyter-widgets/controls",
      "model_module_version": "1.2.0",
      "model_name": "SliderStyleModel",
      "state": {
       "description_width": ""
      }
     },
     "2b4862c9e4d5412380e635a08bea174b": {
      "model_module": "@jupyter-widgets/controls",
      "model_module_version": "1.2.0",
      "model_name": "IntSliderModel",
      "state": {
       "description": "c",
       "layout": "IPY_MODEL_06ab84dd0a9e49808bb220fa0fc2bd60",
       "max": 500,
       "min": -500,
       "style": "IPY_MODEL_3f431b41b9ee4834b4466924c839977e",
       "value": 59
      }
     },
     "2bbe26970a6b48b4b5bbc5ee42795e6a": {
      "model_module": "@jupyter-widgets/controls",
      "model_module_version": "1.2.0",
      "model_name": "SliderStyleModel",
      "state": {
       "description_width": ""
      }
     },
     "2c0745e9f675468eb3edecac20f903ae": {
      "model_module": "@jupyter-widgets/output",
      "model_module_version": "1.0.0",
      "model_name": "OutputModel",
      "state": {
       "layout": "IPY_MODEL_f142d837659c4859a7b4b75528091977"
      }
     },
     "2ce176aa95eb450f9df6aa69c724ec75": {
      "model_module": "@jupyter-widgets/controls",
      "model_module_version": "1.2.0",
      "model_name": "IntSliderModel",
      "state": {
       "description": "c",
       "layout": "IPY_MODEL_21630efb3b7a4d86bafdb244ee33ff70",
       "max": 500,
       "min": -500,
       "style": "IPY_MODEL_f02fb212ddb54715a79222496ca66491",
       "value": 246
      }
     },
     "2d1fe132a17a4bc49d5a4c00063c8471": {
      "model_module": "@jupyter-widgets/controls",
      "model_module_version": "1.2.0",
      "model_name": "IntSliderModel",
      "state": {
       "description": "c",
       "layout": "IPY_MODEL_d9d355e6457c4c2ca1531d773b334c3e",
       "max": 500,
       "min": -500,
       "style": "IPY_MODEL_576e8447cab94eac9a380624f597ffae",
       "value": -28
      }
     },
     "2d2add0ed6d24e47a004ef774bc1f8ac": {
      "model_module": "@jupyter-widgets/base",
      "model_module_version": "1.0.0",
      "model_name": "LayoutModel",
      "state": {}
     },
     "2d7e9b9e4bf340178fb7e4595ab76c71": {
      "model_module": "@jupyter-widgets/controls",
      "model_module_version": "1.2.0",
      "model_name": "IntSliderModel",
      "state": {
       "description": "c",
       "layout": "IPY_MODEL_6d88b5fedffc420a8c28e3c96e2d4801",
       "max": 500,
       "min": -500,
       "style": "IPY_MODEL_c7eaf40be31147a79ba673036e90a928",
       "value": -31
      }
     },
     "2f697dbc91ca4553979a5b0904712e98": {
      "model_module": "@jupyter-widgets/controls",
      "model_module_version": "1.2.0",
      "model_name": "IntSliderModel",
      "state": {
       "description": "c",
       "layout": "IPY_MODEL_60f361b15a0942bc86f56bf4f01de8c3",
       "max": 1000,
       "min": -1000,
       "style": "IPY_MODEL_b871bb2f6bd7400e82abdb089d77b036",
       "value": 152
      }
     },
     "2fd5e52d2ceb496fb68504ec1548e409": {
      "model_module": "@jupyter-widgets/base",
      "model_module_version": "1.0.0",
      "model_name": "LayoutModel",
      "state": {}
     },
     "307afce83d48463d93a79b90a88167f1": {
      "model_module": "@jupyter-widgets/base",
      "model_module_version": "1.0.0",
      "model_name": "LayoutModel",
      "state": {}
     },
     "30b4d4d02ffd49bcb0b40649b88bf3bd": {
      "model_module": "@jupyter-widgets/controls",
      "model_module_version": "1.2.0",
      "model_name": "SliderStyleModel",
      "state": {
       "description_width": ""
      }
     },
     "31c43c75b7c847faa6691221881af7ec": {
      "model_module": "@jupyter-widgets/controls",
      "model_module_version": "1.2.0",
      "model_name": "SliderStyleModel",
      "state": {
       "description_width": ""
      }
     },
     "32042f2d50c14167a3103fb941f01f29": {
      "model_module": "@jupyter-widgets/base",
      "model_module_version": "1.0.0",
      "model_name": "LayoutModel",
      "state": {}
     },
     "330ed5300a484339bb188f7b1b694910": {
      "model_module": "@jupyter-widgets/base",
      "model_module_version": "1.0.0",
      "model_name": "LayoutModel",
      "state": {}
     },
     "33746ff6f0d64ead96a5d417e62fae9b": {
      "model_module": "@jupyter-widgets/base",
      "model_module_version": "1.0.0",
      "model_name": "LayoutModel",
      "state": {}
     },
     "343a294e2530456e8157a5b62837be79": {
      "model_module": "@jupyter-widgets/controls",
      "model_module_version": "1.2.0",
      "model_name": "VBoxModel",
      "state": {
       "_dom_classes": [
        "widget-interact"
       ],
       "children": [
        "IPY_MODEL_7522906df1094dc9b5d7db1ca1ebdf43",
        "IPY_MODEL_8cf0ad4c74e746ecb2c90ec3bd21ed06"
       ],
       "layout": "IPY_MODEL_9d1ff46cf60a4aaea704544de7d54e25"
      }
     },
     "3455c788795647e2ae1dbd33cdf50eb9": {
      "model_module": "@jupyter-widgets/base",
      "model_module_version": "1.0.0",
      "model_name": "LayoutModel",
      "state": {}
     },
     "348bc321a7964db3a2e0b21658fe2649": {
      "model_module": "@jupyter-widgets/output",
      "model_module_version": "1.0.0",
      "model_name": "OutputModel",
      "state": {
       "layout": "IPY_MODEL_4044c68587374ea3871a2b5911ef5b9b"
      }
     },
     "34c558a3b4b14268875820bcba29701b": {
      "model_module": "@jupyter-widgets/controls",
      "model_module_version": "1.2.0",
      "model_name": "IntSliderModel",
      "state": {
       "description": "e",
       "layout": "IPY_MODEL_e1398a192239456fb8835ee40d02ad03",
       "max": 500,
       "min": -500,
       "style": "IPY_MODEL_e7615e25c973400f98728fcaf6ccb114",
       "value": 7
      }
     },
     "35e3a6106add4ed3b1837cf9596ed61e": {
      "model_module": "@jupyter-widgets/controls",
      "model_module_version": "1.2.0",
      "model_name": "VBoxModel",
      "state": {
       "_dom_classes": [
        "widget-interact"
       ],
       "children": [
        "IPY_MODEL_fa5fc02a6c674fd1a7fb7f0da369ea42",
        "IPY_MODEL_2261d223050d423695abda58078450a8"
       ],
       "layout": "IPY_MODEL_75b33ea911f14cb5b3114597a9cebb36"
      }
     },
     "36859fb6b5514eecaf899e47704b2d36": {
      "model_module": "@jupyter-widgets/controls",
      "model_module_version": "1.2.0",
      "model_name": "VBoxModel",
      "state": {
       "_dom_classes": [
        "widget-interact"
       ],
       "children": [
        "IPY_MODEL_602a955608934de58808b09ed515f912",
        "IPY_MODEL_fa00e478e62748b48dba7d6e38e9b1ad"
       ],
       "layout": "IPY_MODEL_dcc63b9b26f8417bb03126178e33f1d4"
      }
     },
     "370ac4f61a724ec1896b1ac0d8cd50da": {
      "model_module": "@jupyter-widgets/controls",
      "model_module_version": "1.2.0",
      "model_name": "VBoxModel",
      "state": {
       "_dom_classes": [
        "widget-interact"
       ],
       "children": [
        "IPY_MODEL_2d7e9b9e4bf340178fb7e4595ab76c71",
        "IPY_MODEL_65a27fbb70e043c2bf9902a07ea9e976"
       ],
       "layout": "IPY_MODEL_d7038ba2126d4c318f220e9ad74c6a96"
      }
     },
     "3774ff4567d84eb39701d3462652a30c": {
      "model_module": "@jupyter-widgets/base",
      "model_module_version": "1.0.0",
      "model_name": "LayoutModel",
      "state": {}
     },
     "37915d9dc8a14d9ab07205f875b6919e": {
      "model_module": "@jupyter-widgets/base",
      "model_module_version": "1.0.0",
      "model_name": "LayoutModel",
      "state": {}
     },
     "388aff1d96a64ee29aa004d0cb9d5c78": {
      "model_module": "@jupyter-widgets/controls",
      "model_module_version": "1.2.0",
      "model_name": "VBoxModel",
      "state": {
       "_dom_classes": [
        "widget-interact"
       ],
       "children": [
        "IPY_MODEL_26ab4aa3123e48b895b3c76cc732d336",
        "IPY_MODEL_5f98abf01ae3400f9985bdcda120dfe9"
       ],
       "layout": "IPY_MODEL_9984a28ed41e499ea74a80c77f35cf69"
      }
     },
     "38fe27955a3a4afa8dd896f957170bbe": {
      "model_module": "@jupyter-widgets/controls",
      "model_module_version": "1.2.0",
      "model_name": "VBoxModel",
      "state": {
       "_dom_classes": [
        "widget-interact"
       ],
       "children": [
        "IPY_MODEL_c8dd2dbc74194e5486cbde9d5572011c",
        "IPY_MODEL_78804718ee244332b01e9bbd390a5f80"
       ],
       "layout": "IPY_MODEL_79ea4f6de9624d8e948d06d99189aa50"
      }
     },
     "397ffca1974941209e276f70f34e55f0": {
      "model_module": "@jupyter-widgets/controls",
      "model_module_version": "1.2.0",
      "model_name": "VBoxModel",
      "state": {
       "_dom_classes": [
        "widget-interact"
       ],
       "children": [
        "IPY_MODEL_0372ef361a9f4dda8550228fb23cdbda",
        "IPY_MODEL_f5c0bd17c5f241aabde79497e867afeb"
       ],
       "layout": "IPY_MODEL_3455c788795647e2ae1dbd33cdf50eb9"
      }
     },
     "39fb27fe228644828342d6933dde2186": {
      "model_module": "@jupyter-widgets/controls",
      "model_module_version": "1.2.0",
      "model_name": "VBoxModel",
      "state": {
       "_dom_classes": [
        "widget-interact"
       ],
       "children": [
        "IPY_MODEL_596cdf7e2c214084935d1c0ba7c6f5e2",
        "IPY_MODEL_875860236af6451f9eb54d771646b212"
       ],
       "layout": "IPY_MODEL_2235e731805f439886d177deae3a5b27"
      }
     },
     "3b93f87f21d846edb3582b8e0766fff1": {
      "model_module": "@jupyter-widgets/base",
      "model_module_version": "1.0.0",
      "model_name": "LayoutModel",
      "state": {}
     },
     "3dbbc25e28154aeca44f4941b1cb331e": {
      "model_module": "@jupyter-widgets/controls",
      "model_module_version": "1.2.0",
      "model_name": "VBoxModel",
      "state": {
       "_dom_classes": [
        "widget-interact"
       ],
       "children": [
        "IPY_MODEL_81a90cbc4ad2425d84cfa4ff7442a6a4",
        "IPY_MODEL_a82425e75d5f4a118276cda1d84f54eb"
       ],
       "layout": "IPY_MODEL_8e8b6b7d4c3d46769c3e13aa94737736"
      }
     },
     "3e7f0f34718748479b6a33eedeb57598": {
      "model_module": "@jupyter-widgets/controls",
      "model_module_version": "1.2.0",
      "model_name": "VBoxModel",
      "state": {
       "_dom_classes": [
        "widget-interact"
       ],
       "children": [
        "IPY_MODEL_441151e6c8b54e8ea69f7895d8199bc0",
        "IPY_MODEL_c1ab3f247c8742ed92325c26787c1508"
       ],
       "layout": "IPY_MODEL_9bd2a8552b5f413d81d6139bf2317712"
      }
     },
     "3f399e53de2c452fb826ba9203a7a427": {
      "model_module": "@jupyter-widgets/controls",
      "model_module_version": "1.2.0",
      "model_name": "VBoxModel",
      "state": {
       "_dom_classes": [
        "widget-interact"
       ],
       "children": [
        "IPY_MODEL_be219db00d324390927e3f1a66409a3e",
        "IPY_MODEL_348bc321a7964db3a2e0b21658fe2649"
       ],
       "layout": "IPY_MODEL_a7c76d6ea120493db2c9866538516592"
      }
     },
     "3f431b41b9ee4834b4466924c839977e": {
      "model_module": "@jupyter-widgets/controls",
      "model_module_version": "1.2.0",
      "model_name": "SliderStyleModel",
      "state": {
       "description_width": ""
      }
     },
     "3f57938dcdc24f8b91d40df26cfd35da": {
      "model_module": "@jupyter-widgets/controls",
      "model_module_version": "1.2.0",
      "model_name": "IntSliderModel",
      "state": {
       "description": "c",
       "layout": "IPY_MODEL_c70626282add47ffa998f1805f5a27e3",
       "max": 500,
       "min": -500,
       "style": "IPY_MODEL_9e806479f00249efa45cf03246b6df86",
       "value": -1
      }
     },
     "40115d844ebc4124b17a116e78134a73": {
      "model_module": "@jupyter-widgets/output",
      "model_module_version": "1.0.0",
      "model_name": "OutputModel",
      "state": {
       "layout": "IPY_MODEL_6c9a44e9757043b9adfe9e6fa03dd006"
      }
     },
     "4020ce81fa554d19bace9ae211f8f62a": {
      "model_module": "@jupyter-widgets/base",
      "model_module_version": "1.0.0",
      "model_name": "LayoutModel",
      "state": {}
     },
     "4044c68587374ea3871a2b5911ef5b9b": {
      "model_module": "@jupyter-widgets/base",
      "model_module_version": "1.0.0",
      "model_name": "LayoutModel",
      "state": {}
     },
     "409b57268ef24ae1ac5b6ee33b7e16c2": {
      "model_module": "@jupyter-widgets/controls",
      "model_module_version": "1.2.0",
      "model_name": "FloatSliderModel",
      "state": {
       "description": "c",
       "layout": "IPY_MODEL_1c3ffcce83e34db19f0f7d3b52cced11",
       "max": 3,
       "min": -1,
       "step": 0.1,
       "style": "IPY_MODEL_0098e12eb637462a85bb6852ab14a0dc",
       "value": 3
      }
     },
     "40a2323c50bb422c9fb8a4a714d4951d": {
      "model_module": "@jupyter-widgets/controls",
      "model_module_version": "1.2.0",
      "model_name": "VBoxModel",
      "state": {
       "_dom_classes": [
        "widget-interact"
       ],
       "children": [
        "IPY_MODEL_c3af1ae261b64c5b888be633002c94a0",
        "IPY_MODEL_68f5d59772c1470ab7d739da3a2448ea"
       ],
       "layout": "IPY_MODEL_d562d239994945a9a13572a4352e5966"
      }
     },
     "414763ac91454bc08c6a4343912d2849": {
      "model_module": "@jupyter-widgets/controls",
      "model_module_version": "1.2.0",
      "model_name": "SliderStyleModel",
      "state": {
       "description_width": ""
      }
     },
     "41a5b55ede0a41a799863625df4b948e": {
      "model_module": "@jupyter-widgets/controls",
      "model_module_version": "1.2.0",
      "model_name": "SliderStyleModel",
      "state": {
       "description_width": ""
      }
     },
     "427d9d96fbb543a68ebe215d401cda06": {
      "model_module": "@jupyter-widgets/base",
      "model_module_version": "1.0.0",
      "model_name": "LayoutModel",
      "state": {}
     },
     "42aed5e6d62442a080b91262dd7d7d50": {
      "model_module": "@jupyter-widgets/base",
      "model_module_version": "1.0.0",
      "model_name": "LayoutModel",
      "state": {}
     },
     "42daffd5e7e7415eba6eec0c79620789": {
      "model_module": "@jupyter-widgets/base",
      "model_module_version": "1.0.0",
      "model_name": "LayoutModel",
      "state": {}
     },
     "43a918f2c346436ba65aa187537f416e": {
      "model_module": "@jupyter-widgets/base",
      "model_module_version": "1.0.0",
      "model_name": "LayoutModel",
      "state": {}
     },
     "441151e6c8b54e8ea69f7895d8199bc0": {
      "model_module": "@jupyter-widgets/controls",
      "model_module_version": "1.2.0",
      "model_name": "IntSliderModel",
      "state": {
       "description": "d",
       "layout": "IPY_MODEL_8230f3d7024241c2a11df58b4e7bda25",
       "max": 500,
       "min": -500,
       "style": "IPY_MODEL_1c4b38c157b34c99aa5ccdf75a10903b",
       "value": -141
      }
     },
     "4422aa4d122842ae810e4507353668ae": {
      "model_module": "@jupyter-widgets/controls",
      "model_module_version": "1.2.0",
      "model_name": "SliderStyleModel",
      "state": {
       "description_width": ""
      }
     },
     "44a3c905b0ad4a4d8a60b409e8bb03fb": {
      "model_module": "@jupyter-widgets/controls",
      "model_module_version": "1.2.0",
      "model_name": "IntSliderModel",
      "state": {
       "description": "c",
       "layout": "IPY_MODEL_17d425560df14d4e98ae8971559cdfb2",
       "max": 500,
       "min": -500,
       "style": "IPY_MODEL_61860e89ce2c4a598f7b283a5d376401",
       "value": 20
      }
     },
     "456e80fcbdc243bdb70fb1ef4437777a": {
      "model_module": "@jupyter-widgets/base",
      "model_module_version": "1.0.0",
      "model_name": "LayoutModel",
      "state": {}
     },
     "45a5022d7c0c4afd953e68fa3ddda56f": {
      "model_module": "@jupyter-widgets/controls",
      "model_module_version": "1.2.0",
      "model_name": "VBoxModel",
      "state": {
       "_dom_classes": [
        "widget-interact"
       ],
       "children": [
        "IPY_MODEL_57e4b8c42f80472b968af656b629b836",
        "IPY_MODEL_5e9267f7d7f54c72ba6f2311802ae469"
       ],
       "layout": "IPY_MODEL_dc2cfc26ab974f148a7e54ae5a9fe71e"
      }
     },
     "4766ff92db1e4d0aa2e8aefccbe58681": {
      "model_module": "@jupyter-widgets/controls",
      "model_module_version": "1.2.0",
      "model_name": "SliderStyleModel",
      "state": {
       "description_width": ""
      }
     },
     "48a49670882244c9abd00bd564915b7d": {
      "model_module": "@jupyter-widgets/controls",
      "model_module_version": "1.2.0",
      "model_name": "IntSliderModel",
      "state": {
       "description": "e",
       "layout": "IPY_MODEL_0b283f5ae53d49bdb604fca86a600668",
       "max": 500,
       "min": -500,
       "style": "IPY_MODEL_41a5b55ede0a41a799863625df4b948e"
      }
     },
     "48dff9818fb94c6c9a4a773b5ec43c60": {
      "model_module": "@jupyter-widgets/base",
      "model_module_version": "1.0.0",
      "model_name": "LayoutModel",
      "state": {}
     },
     "4971f7cdf1d34ffea92a9d4a94996cf3": {
      "model_module": "@jupyter-widgets/base",
      "model_module_version": "1.0.0",
      "model_name": "LayoutModel",
      "state": {}
     },
     "497f0e52554247d88232194b1f676b06": {
      "model_module": "@jupyter-widgets/controls",
      "model_module_version": "1.2.0",
      "model_name": "IntSliderModel",
      "state": {
       "description": "e",
       "layout": "IPY_MODEL_c1b62067ed034f9282307ec42436425e",
       "max": 500,
       "min": -500,
       "style": "IPY_MODEL_7ca34ccb338143799458a8209bf67bc8",
       "value": 354
      }
     },
     "4a73d32c7afc44f4a68039a34ce0b4f2": {
      "model_module": "@jupyter-widgets/controls",
      "model_module_version": "1.2.0",
      "model_name": "IntSliderModel",
      "state": {
       "description": "d",
       "layout": "IPY_MODEL_307afce83d48463d93a79b90a88167f1",
       "max": 500,
       "min": -500,
       "style": "IPY_MODEL_ca12aa4db7854a13898ebbd56659aaa6",
       "value": 1
      }
     },
     "4ae4acf511c14229b90b64dccd08b41a": {
      "model_module": "@jupyter-widgets/controls",
      "model_module_version": "1.2.0",
      "model_name": "SliderStyleModel",
      "state": {
       "description_width": ""
      }
     },
     "4c2080af641448baaa8ab800cf8a272c": {
      "model_module": "@jupyter-widgets/base",
      "model_module_version": "1.0.0",
      "model_name": "LayoutModel",
      "state": {}
     },
     "4d9cabf19f7e446885410200fb730a00": {
      "model_module": "@jupyter-widgets/controls",
      "model_module_version": "1.2.0",
      "model_name": "SliderStyleModel",
      "state": {
       "description_width": ""
      }
     },
     "4da328cd24f4475c9234e0eae6ee31f8": {
      "model_module": "@jupyter-widgets/controls",
      "model_module_version": "1.2.0",
      "model_name": "FloatSliderModel",
      "state": {
       "description": "c",
       "layout": "IPY_MODEL_6545356b84f94ec8896b7c4136ba22d8",
       "max": 3,
       "min": -1,
       "step": 0.1,
       "style": "IPY_MODEL_2bbe26970a6b48b4b5bbc5ee42795e6a",
       "value": 1.2
      }
     },
     "4e4851cb89c54faa893a94f1e8f3ca30": {
      "model_module": "@jupyter-widgets/base",
      "model_module_version": "1.0.0",
      "model_name": "LayoutModel",
      "state": {}
     },
     "4e981390e14f4741a37cbb64a03cd504": {
      "model_module": "@jupyter-widgets/controls",
      "model_module_version": "1.2.0",
      "model_name": "IntSliderModel",
      "state": {
       "description": "d",
       "layout": "IPY_MODEL_8153a3cfeddd44f4b0c568a179ef7862",
       "max": 500,
       "min": -500,
       "style": "IPY_MODEL_ac80076a3d9c4552a0b312d6242df898",
       "value": 1
      }
     },
     "4ecf3f941f6e4d61a4915b79c853f248": {
      "model_module": "@jupyter-widgets/base",
      "model_module_version": "1.0.0",
      "model_name": "LayoutModel",
      "state": {}
     },
     "4f048431abf947468dac8adfc5d0babc": {
      "model_module": "@jupyter-widgets/controls",
      "model_module_version": "1.2.0",
      "model_name": "SliderStyleModel",
      "state": {
       "description_width": ""
      }
     },
     "4f0d556196ad47ad8f59b9e2af378da2": {
      "model_module": "@jupyter-widgets/controls",
      "model_module_version": "1.2.0",
      "model_name": "SliderStyleModel",
      "state": {
       "description_width": ""
      }
     },
     "4f1dadcfd41c4aaba52e2b8d68daa087": {
      "model_module": "@jupyter-widgets/base",
      "model_module_version": "1.0.0",
      "model_name": "LayoutModel",
      "state": {}
     },
     "50869359710e4756af900551eeff53c3": {
      "model_module": "@jupyter-widgets/base",
      "model_module_version": "1.0.0",
      "model_name": "LayoutModel",
      "state": {}
     },
     "51c56bc668fc4c9b83dcbbcf818d436b": {
      "model_module": "@jupyter-widgets/output",
      "model_module_version": "1.0.0",
      "model_name": "OutputModel",
      "state": {
       "layout": "IPY_MODEL_6c8d50fe588e4ce898f0a46b527d5306"
      }
     },
     "5273c99a04f941b4886aa8e7e1ea626f": {
      "model_module": "@jupyter-widgets/controls",
      "model_module_version": "1.2.0",
      "model_name": "VBoxModel",
      "state": {
       "_dom_classes": [
        "widget-interact"
       ],
       "children": [
        "IPY_MODEL_22c9bf0a92564f3ba398bfc9c77c5d74",
        "IPY_MODEL_18cdf37c5f3842b98f97d47623bf2901"
       ],
       "layout": "IPY_MODEL_cf40915270404d73ad5002309481121a"
      }
     },
     "528dd8753494494d95465bf21c499785": {
      "model_module": "@jupyter-widgets/base",
      "model_module_version": "1.0.0",
      "model_name": "LayoutModel",
      "state": {}
     },
     "531d00e99f444cbb8c8e16b261303927": {
      "model_module": "@jupyter-widgets/base",
      "model_module_version": "1.0.0",
      "model_name": "LayoutModel",
      "state": {}
     },
     "54fed8d5050f47a6b426d965c7685375": {
      "model_module": "@jupyter-widgets/base",
      "model_module_version": "1.0.0",
      "model_name": "LayoutModel",
      "state": {}
     },
     "564a69b934c449ec8a8c5ccd19454e5e": {
      "model_module": "@jupyter-widgets/base",
      "model_module_version": "1.0.0",
      "model_name": "LayoutModel",
      "state": {}
     },
     "56b83bee50c146b19505534d59eab093": {
      "model_module": "@jupyter-widgets/base",
      "model_module_version": "1.0.0",
      "model_name": "LayoutModel",
      "state": {}
     },
     "576e8447cab94eac9a380624f597ffae": {
      "model_module": "@jupyter-widgets/controls",
      "model_module_version": "1.2.0",
      "model_name": "SliderStyleModel",
      "state": {
       "description_width": ""
      }
     },
     "579217ed3f1246999b36adb3477f3f96": {
      "model_module": "@jupyter-widgets/base",
      "model_module_version": "1.0.0",
      "model_name": "LayoutModel",
      "state": {}
     },
     "57e4b8c42f80472b968af656b629b836": {
      "model_module": "@jupyter-widgets/controls",
      "model_module_version": "1.2.0",
      "model_name": "IntSliderModel",
      "state": {
       "description": "d",
       "layout": "IPY_MODEL_93a896c098144deaaff3843449e9e09d",
       "max": 500,
       "min": -500,
       "style": "IPY_MODEL_90c9b768ef59453eb647e557ee069413",
       "value": -85
      }
     },
     "5832095086ea4614b81496c512e4aee5": {
      "model_module": "@jupyter-widgets/base",
      "model_module_version": "1.0.0",
      "model_name": "LayoutModel",
      "state": {}
     },
     "58af37fa8e0e4f97aadf5f092e67f03d": {
      "model_module": "@jupyter-widgets/base",
      "model_module_version": "1.0.0",
      "model_name": "LayoutModel",
      "state": {}
     },
     "596cdf7e2c214084935d1c0ba7c6f5e2": {
      "model_module": "@jupyter-widgets/controls",
      "model_module_version": "1.2.0",
      "model_name": "IntSliderModel",
      "state": {
       "description": "c",
       "layout": "IPY_MODEL_93d32f36e31049848955302e3576e509",
       "max": 500,
       "min": -500,
       "style": "IPY_MODEL_0640d3fdf750425f95dc1f0dd2221ef1",
       "value": 1
      }
     },
     "5ab94d83c1374ff1ac95eaacc155bd32": {
      "model_module": "@jupyter-widgets/controls",
      "model_module_version": "1.2.0",
      "model_name": "IntSliderModel",
      "state": {
       "description": "c",
       "layout": "IPY_MODEL_1c8ffb6ad4c049acb941b75175274abc",
       "max": 500,
       "min": -500,
       "style": "IPY_MODEL_601996d16da14619b7d1cd17d35cff45",
       "value": 230
      }
     },
     "5bca0ef694084893a57c3974c84348a4": {
      "model_module": "@jupyter-widgets/base",
      "model_module_version": "1.0.0",
      "model_name": "LayoutModel",
      "state": {}
     },
     "5e9267f7d7f54c72ba6f2311802ae469": {
      "model_module": "@jupyter-widgets/output",
      "model_module_version": "1.0.0",
      "model_name": "OutputModel",
      "state": {
       "layout": "IPY_MODEL_e3e23f38bfff4ddcad323b4aad1d98e9"
      }
     },
     "5eeaf07f3f684d78b080224ca6a63df3": {
      "model_module": "@jupyter-widgets/base",
      "model_module_version": "1.0.0",
      "model_name": "LayoutModel",
      "state": {}
     },
     "5f98abf01ae3400f9985bdcda120dfe9": {
      "model_module": "@jupyter-widgets/output",
      "model_module_version": "1.0.0",
      "model_name": "OutputModel",
      "state": {
       "layout": "IPY_MODEL_e301b00f9e454be5b5055f798219bdbc"
      }
     },
     "5fb426993b0848a488480b7c20b2a515": {
      "model_module": "@jupyter-widgets/output",
      "model_module_version": "1.0.0",
      "model_name": "OutputModel",
      "state": {
       "layout": "IPY_MODEL_e2206a15da0c46be8eb7fc776f618ed4"
      }
     },
     "600326f7b94f445399720aebbd48dc04": {
      "model_module": "@jupyter-widgets/controls",
      "model_module_version": "1.2.0",
      "model_name": "SliderStyleModel",
      "state": {
       "description_width": ""
      }
     },
     "601996d16da14619b7d1cd17d35cff45": {
      "model_module": "@jupyter-widgets/controls",
      "model_module_version": "1.2.0",
      "model_name": "SliderStyleModel",
      "state": {
       "description_width": ""
      }
     },
     "602a955608934de58808b09ed515f912": {
      "model_module": "@jupyter-widgets/controls",
      "model_module_version": "1.2.0",
      "model_name": "IntSliderModel",
      "state": {
       "description": "e",
       "layout": "IPY_MODEL_95ff8c886c7c43168d92227f22cabba8",
       "max": 500,
       "min": -500,
       "style": "IPY_MODEL_f5623ef4d1f74648abfe2e178078bd7b",
       "value": -500
      }
     },
     "60b966c2107646779d68261b640819cc": {
      "model_module": "@jupyter-widgets/base",
      "model_module_version": "1.0.0",
      "model_name": "LayoutModel",
      "state": {}
     },
     "60f361b15a0942bc86f56bf4f01de8c3": {
      "model_module": "@jupyter-widgets/base",
      "model_module_version": "1.0.0",
      "model_name": "LayoutModel",
      "state": {}
     },
     "61860e89ce2c4a598f7b283a5d376401": {
      "model_module": "@jupyter-widgets/controls",
      "model_module_version": "1.2.0",
      "model_name": "SliderStyleModel",
      "state": {
       "description_width": ""
      }
     },
     "6199dc8bd9ec4720884f2c5d487f035c": {
      "model_module": "@jupyter-widgets/controls",
      "model_module_version": "1.2.0",
      "model_name": "VBoxModel",
      "state": {
       "_dom_classes": [
        "widget-interact"
       ],
       "children": [
        "IPY_MODEL_1da5df6ddf4f4fbfa38964bcd1a082d9",
        "IPY_MODEL_bfc1749f683f4729b1a91cac3ede9a0d"
       ],
       "layout": "IPY_MODEL_56b83bee50c146b19505534d59eab093"
      }
     },
     "6430c0cf5c8b46d3984740cd488077bd": {
      "model_module": "@jupyter-widgets/controls",
      "model_module_version": "1.2.0",
      "model_name": "IntSliderModel",
      "state": {
       "description": "e",
       "layout": "IPY_MODEL_e5c107a064c64bb689c6ca7558abc58e",
       "max": 500,
       "min": -500,
       "style": "IPY_MODEL_bb452ae360874d84902f631c3d803f0d",
       "value": -13
      }
     },
     "6545356b84f94ec8896b7c4136ba22d8": {
      "model_module": "@jupyter-widgets/base",
      "model_module_version": "1.0.0",
      "model_name": "LayoutModel",
      "state": {}
     },
     "65a27fbb70e043c2bf9902a07ea9e976": {
      "model_module": "@jupyter-widgets/output",
      "model_module_version": "1.0.0",
      "model_name": "OutputModel",
      "state": {
       "layout": "IPY_MODEL_c421bb2342fd482fa6294c21ae907635"
      }
     },
     "65e8a9293d164aa3a9e3b4b94421f660": {
      "model_module": "@jupyter-widgets/base",
      "model_module_version": "1.0.0",
      "model_name": "LayoutModel",
      "state": {}
     },
     "664f00facbdb47b9ad2464f744effdfa": {
      "model_module": "@jupyter-widgets/base",
      "model_module_version": "1.0.0",
      "model_name": "LayoutModel",
      "state": {}
     },
     "674ba7adda9a4eeeb52f4fe55621bcde": {
      "model_module": "@jupyter-widgets/base",
      "model_module_version": "1.0.0",
      "model_name": "LayoutModel",
      "state": {}
     },
     "68ae0968dc7e4b5db559aed3b4b66c4c": {
      "model_module": "@jupyter-widgets/base",
      "model_module_version": "1.0.0",
      "model_name": "LayoutModel",
      "state": {}
     },
     "68f5d59772c1470ab7d739da3a2448ea": {
      "model_module": "@jupyter-widgets/output",
      "model_module_version": "1.0.0",
      "model_name": "OutputModel",
      "state": {
       "layout": "IPY_MODEL_fe0a116a51864131893ce459acd9b1c9"
      }
     },
     "6989d13679524307b421310148122831": {
      "model_module": "@jupyter-widgets/controls",
      "model_module_version": "1.2.0",
      "model_name": "FloatSliderModel",
      "state": {
       "description": "c",
       "layout": "IPY_MODEL_d9be713504674a74a209cce9eb0c603f",
       "max": 3,
       "min": -1,
       "step": 0.1,
       "style": "IPY_MODEL_f14aa17a1eb04e9d98d25791c316fbe7",
       "value": 2.7
      }
     },
     "69d39abdfdc94f7baad23e1b8e149c48": {
      "model_module": "@jupyter-widgets/base",
      "model_module_version": "1.0.0",
      "model_name": "LayoutModel",
      "state": {}
     },
     "69d59ca6a91f43d3a3166d334f1eea73": {
      "model_module": "@jupyter-widgets/base",
      "model_module_version": "1.0.0",
      "model_name": "LayoutModel",
      "state": {}
     },
     "6c77977d47894ff491d55294c0f94380": {
      "model_module": "@jupyter-widgets/controls",
      "model_module_version": "1.2.0",
      "model_name": "VBoxModel",
      "state": {
       "_dom_classes": [
        "widget-interact"
       ],
       "children": [
        "IPY_MODEL_497f0e52554247d88232194b1f676b06",
        "IPY_MODEL_ef645a12cae948f19d3a8e5f9f250a01"
       ],
       "layout": "IPY_MODEL_3b93f87f21d846edb3582b8e0766fff1"
      }
     },
     "6c8d50fe588e4ce898f0a46b527d5306": {
      "model_module": "@jupyter-widgets/base",
      "model_module_version": "1.0.0",
      "model_name": "LayoutModel",
      "state": {}
     },
     "6c9a44e9757043b9adfe9e6fa03dd006": {
      "model_module": "@jupyter-widgets/base",
      "model_module_version": "1.0.0",
      "model_name": "LayoutModel",
      "state": {}
     },
     "6cba3c04c8a346478a805bb4b7fd72e1": {
      "model_module": "@jupyter-widgets/base",
      "model_module_version": "1.0.0",
      "model_name": "LayoutModel",
      "state": {}
     },
     "6d4ef795e0a543dd9b0d5ced7a60c56e": {
      "model_module": "@jupyter-widgets/base",
      "model_module_version": "1.0.0",
      "model_name": "LayoutModel",
      "state": {}
     },
     "6d88b5fedffc420a8c28e3c96e2d4801": {
      "model_module": "@jupyter-widgets/base",
      "model_module_version": "1.0.0",
      "model_name": "LayoutModel",
      "state": {}
     },
     "6e8e4294a3c64f188220f0e31f4cf57b": {
      "model_module": "@jupyter-widgets/controls",
      "model_module_version": "1.2.0",
      "model_name": "VBoxModel",
      "state": {
       "_dom_classes": [
        "widget-interact"
       ],
       "children": [
        "IPY_MODEL_885ffa44d4084666abc04e5af696bfa7",
        "IPY_MODEL_207017d90ef04cd78b2004eafb413394"
       ],
       "layout": "IPY_MODEL_2246d96d4eac4f018d1327b4a050af4c"
      }
     },
     "6edb7f546fcb41949299c8b0fa2a2093": {
      "model_module": "@jupyter-widgets/base",
      "model_module_version": "1.0.0",
      "model_name": "LayoutModel",
      "state": {}
     },
     "724cc2147fcc4e419444eb0dc6da6df1": {
      "model_module": "@jupyter-widgets/base",
      "model_module_version": "1.0.0",
      "model_name": "LayoutModel",
      "state": {}
     },
     "725f7aff192843d0b645ff6958b01c25": {
      "model_module": "@jupyter-widgets/base",
      "model_module_version": "1.0.0",
      "model_name": "LayoutModel",
      "state": {}
     },
     "72b87a22a88341feaaed4cbbc08db56c": {
      "model_module": "@jupyter-widgets/base",
      "model_module_version": "1.0.0",
      "model_name": "LayoutModel",
      "state": {}
     },
     "72d69f6c233e4f5696bc27f274f18ad8": {
      "model_module": "@jupyter-widgets/base",
      "model_module_version": "1.0.0",
      "model_name": "LayoutModel",
      "state": {}
     },
     "73930bd40eaf4bc98e38ac92dc1f215d": {
      "model_module": "@jupyter-widgets/base",
      "model_module_version": "1.0.0",
      "model_name": "LayoutModel",
      "state": {}
     },
     "7473fd2563db4f1c81d531393623ea9a": {
      "model_module": "@jupyter-widgets/controls",
      "model_module_version": "1.2.0",
      "model_name": "IntSliderModel",
      "state": {
       "description": "c",
       "layout": "IPY_MODEL_72b87a22a88341feaaed4cbbc08db56c",
       "max": 500,
       "min": -500,
       "style": "IPY_MODEL_600326f7b94f445399720aebbd48dc04",
       "value": 1
      }
     },
     "749ab65100b041ebb6474e9c6e10fbaa": {
      "model_module": "@jupyter-widgets/base",
      "model_module_version": "1.0.0",
      "model_name": "LayoutModel",
      "state": {}
     },
     "74dc8a58696b47d899c37fdb4b0b4491": {
      "model_module": "@jupyter-widgets/base",
      "model_module_version": "1.0.0",
      "model_name": "LayoutModel",
      "state": {}
     },
     "7522906df1094dc9b5d7db1ca1ebdf43": {
      "model_module": "@jupyter-widgets/controls",
      "model_module_version": "1.2.0",
      "model_name": "IntSliderModel",
      "state": {
       "description": "c",
       "layout": "IPY_MODEL_d30026cbfea24eaabfde74e283a2f580",
       "max": 500,
       "min": -500,
       "style": "IPY_MODEL_b23cbcc779da44e789eef95eb3e83de2",
       "value": 1
      }
     },
     "7555151cb7584de48aad4660176a3064": {
      "model_module": "@jupyter-widgets/controls",
      "model_module_version": "1.2.0",
      "model_name": "VBoxModel",
      "state": {
       "_dom_classes": [
        "widget-interact"
       ],
       "children": [
        "IPY_MODEL_a096ac13ef6c489ba44c83538dac549c",
        "IPY_MODEL_984e214b08bd41f8a063ff5b39c7bdba"
       ],
       "layout": "IPY_MODEL_07a0059294c545e197508a0313a8bc14"
      }
     },
     "75b33ea911f14cb5b3114597a9cebb36": {
      "model_module": "@jupyter-widgets/base",
      "model_module_version": "1.0.0",
      "model_name": "LayoutModel",
      "state": {}
     },
     "764e0b686c6b43b2be9c98774ffef334": {
      "model_module": "@jupyter-widgets/controls",
      "model_module_version": "1.2.0",
      "model_name": "VBoxModel",
      "state": {
       "_dom_classes": [
        "widget-interact"
       ],
       "children": [
        "IPY_MODEL_baecd55b65fb4f78b77beef9aa79d73a",
        "IPY_MODEL_a4d7cda061ef4f22a463fe636ccf2d76"
       ],
       "layout": "IPY_MODEL_eb5b3b2e04ad47ed80b3c35419df3ed5"
      }
     },
     "778c5233219d4b8b86a0e34c156730e1": {
      "model_module": "@jupyter-widgets/base",
      "model_module_version": "1.0.0",
      "model_name": "LayoutModel",
      "state": {}
     },
     "780106313e5746308c8771bfb2407a79": {
      "model_module": "@jupyter-widgets/output",
      "model_module_version": "1.0.0",
      "model_name": "OutputModel",
      "state": {
       "layout": "IPY_MODEL_6d4ef795e0a543dd9b0d5ced7a60c56e"
      }
     },
     "78804718ee244332b01e9bbd390a5f80": {
      "model_module": "@jupyter-widgets/output",
      "model_module_version": "1.0.0",
      "model_name": "OutputModel",
      "state": {
       "layout": "IPY_MODEL_e3b8e6b1a19f4e2da1123e7cd74a7673"
      }
     },
     "78acf43eac044f3591d00be4247c2abf": {
      "model_module": "@jupyter-widgets/output",
      "model_module_version": "1.0.0",
      "model_name": "OutputModel",
      "state": {
       "layout": "IPY_MODEL_4ecf3f941f6e4d61a4915b79c853f248"
      }
     },
     "791aebe60f1443998d07f1de876078e7": {
      "model_module": "@jupyter-widgets/base",
      "model_module_version": "1.0.0",
      "model_name": "LayoutModel",
      "state": {}
     },
     "796f9a8030684459a7b9fb8150fd9843": {
      "model_module": "@jupyter-widgets/controls",
      "model_module_version": "1.2.0",
      "model_name": "IntSliderModel",
      "state": {
       "description": "c",
       "layout": "IPY_MODEL_4e4851cb89c54faa893a94f1e8f3ca30",
       "max": 500,
       "min": -500,
       "style": "IPY_MODEL_d07eb06754a041ea813805f6f4c008da",
       "value": 1
      }
     },
     "79ea4f6de9624d8e948d06d99189aa50": {
      "model_module": "@jupyter-widgets/base",
      "model_module_version": "1.0.0",
      "model_name": "LayoutModel",
      "state": {}
     },
     "79f71013e90146b1be2ab5b318ba985e": {
      "model_module": "@jupyter-widgets/base",
      "model_module_version": "1.0.0",
      "model_name": "LayoutModel",
      "state": {}
     },
     "7af106f9920540da80029a56326271d7": {
      "model_module": "@jupyter-widgets/controls",
      "model_module_version": "1.2.0",
      "model_name": "VBoxModel",
      "state": {
       "_dom_classes": [
        "widget-interact"
       ],
       "children": [
        "IPY_MODEL_c58896fe9408405db3f355825b3aa4a2",
        "IPY_MODEL_d98605fef8894162a0d0fbda2f3e5aee"
       ],
       "layout": "IPY_MODEL_9d0bf2ad661a4070b80c4989ab7ced57"
      }
     },
     "7b082c78d5bd4e90a6ffa275831356a7": {
      "model_module": "@jupyter-widgets/controls",
      "model_module_version": "1.2.0",
      "model_name": "VBoxModel",
      "state": {
       "_dom_classes": [
        "widget-interact"
       ],
       "children": [
        "IPY_MODEL_f122a34f7ead4c9d9beaf2a97e2a0415",
        "IPY_MODEL_d4024f83a90e4dabb275a0d92018ebe7"
       ],
       "layout": "IPY_MODEL_1a96bff0702d4fd18f68a8ff0ebdf851"
      }
     },
     "7b11c2f48f4b49d692566a7b86f9dba3": {
      "model_module": "@jupyter-widgets/base",
      "model_module_version": "1.0.0",
      "model_name": "LayoutModel",
      "state": {}
     },
     "7b828a886db04f968da990264d059bda": {
      "model_module": "@jupyter-widgets/base",
      "model_module_version": "1.0.0",
      "model_name": "LayoutModel",
      "state": {}
     },
     "7bf6c0e18bb64585ba60ac36ed1e6f01": {
      "model_module": "@jupyter-widgets/controls",
      "model_module_version": "1.2.0",
      "model_name": "SliderStyleModel",
      "state": {
       "description_width": ""
      }
     },
     "7c33e3fa9edd444ea05f9e0fbcee0a0a": {
      "model_module": "@jupyter-widgets/controls",
      "model_module_version": "1.2.0",
      "model_name": "SliderStyleModel",
      "state": {
       "description_width": ""
      }
     },
     "7ca34ccb338143799458a8209bf67bc8": {
      "model_module": "@jupyter-widgets/controls",
      "model_module_version": "1.2.0",
      "model_name": "SliderStyleModel",
      "state": {
       "description_width": ""
      }
     },
     "7cb8a060da6042328f02bdee92648725": {
      "model_module": "@jupyter-widgets/controls",
      "model_module_version": "1.2.0",
      "model_name": "IntSliderModel",
      "state": {
       "description": "c",
       "layout": "IPY_MODEL_8979bed66d7e419a901c41e5025731cd",
       "max": 500,
       "min": -500,
       "style": "IPY_MODEL_f1c9fb2be35e418aa29e0d9b0cf55d84",
       "value": 198
      }
     },
     "7e11595d9252458e8022fa4c37a07a5e": {
      "model_module": "@jupyter-widgets/base",
      "model_module_version": "1.0.0",
      "model_name": "LayoutModel",
      "state": {}
     },
     "7eeb826ca77643aa8c58080a1c96c301": {
      "model_module": "@jupyter-widgets/controls",
      "model_module_version": "1.2.0",
      "model_name": "VBoxModel",
      "state": {
       "_dom_classes": [
        "widget-interact"
       ],
       "children": [
        "IPY_MODEL_e90f456724084aea81b860d1ad36b2b6",
        "IPY_MODEL_0b35d9d2ec7c4b94be43ed0d2401d949"
       ],
       "layout": "IPY_MODEL_b932cd183b53400786f645b3d6658124"
      }
     },
     "7f5fa4d2f75c4384ad21377c182c0025": {
      "model_module": "@jupyter-widgets/base",
      "model_module_version": "1.0.0",
      "model_name": "LayoutModel",
      "state": {}
     },
     "7fd0ee451ebb4096a296835e8a40385a": {
      "model_module": "@jupyter-widgets/output",
      "model_module_version": "1.0.0",
      "model_name": "OutputModel",
      "state": {
       "layout": "IPY_MODEL_91a6848f7ce54cfdae177ebc38a203a2"
      }
     },
     "807dfbef858b486f91ca25b04ab365c4": {
      "model_module": "@jupyter-widgets/output",
      "model_module_version": "1.0.0",
      "model_name": "OutputModel",
      "state": {
       "layout": "IPY_MODEL_d9ef9b4f18e64fea8e7cee9a124d3dd5"
      }
     },
     "810218ba82ec468a90c38b890a551950": {
      "model_module": "@jupyter-widgets/controls",
      "model_module_version": "1.2.0",
      "model_name": "VBoxModel",
      "state": {
       "_dom_classes": [
        "widget-interact"
       ],
       "children": [
        "IPY_MODEL_2ce176aa95eb450f9df6aa69c724ec75",
        "IPY_MODEL_807dfbef858b486f91ca25b04ab365c4"
       ],
       "layout": "IPY_MODEL_72d69f6c233e4f5696bc27f274f18ad8"
      }
     },
     "813f73bb1a294e4e92aebc3091060f2c": {
      "model_module": "@jupyter-widgets/controls",
      "model_module_version": "1.2.0",
      "model_name": "SliderStyleModel",
      "state": {
       "description_width": ""
      }
     },
     "8153a3cfeddd44f4b0c568a179ef7862": {
      "model_module": "@jupyter-widgets/base",
      "model_module_version": "1.0.0",
      "model_name": "LayoutModel",
      "state": {}
     },
     "81a90cbc4ad2425d84cfa4ff7442a6a4": {
      "model_module": "@jupyter-widgets/controls",
      "model_module_version": "1.2.0",
      "model_name": "IntSliderModel",
      "state": {
       "description": "c",
       "layout": "IPY_MODEL_7e11595d9252458e8022fa4c37a07a5e",
       "max": 500,
       "min": -500,
       "style": "IPY_MODEL_208441f55de2454893e2f9812c5beacf",
       "value": 1
      }
     },
     "8230f3d7024241c2a11df58b4e7bda25": {
      "model_module": "@jupyter-widgets/base",
      "model_module_version": "1.0.0",
      "model_name": "LayoutModel",
      "state": {}
     },
     "8325da1357fc4a6bab8e75884f7e21cb": {
      "model_module": "@jupyter-widgets/controls",
      "model_module_version": "1.2.0",
      "model_name": "SliderStyleModel",
      "state": {
       "description_width": ""
      }
     },
     "838d8dc5b7ef4eb08dbe7c3684ecd230": {
      "model_module": "@jupyter-widgets/base",
      "model_module_version": "1.0.0",
      "model_name": "LayoutModel",
      "state": {}
     },
     "83b038520d7546f0bf9a622220ae5db2": {
      "model_module": "@jupyter-widgets/controls",
      "model_module_version": "1.2.0",
      "model_name": "SliderStyleModel",
      "state": {
       "description_width": ""
      }
     },
     "83badcbdaeb8446c8351d7e541fb38fa": {
      "model_module": "@jupyter-widgets/controls",
      "model_module_version": "1.2.0",
      "model_name": "SliderStyleModel",
      "state": {
       "description_width": ""
      }
     },
     "84171aeadc2040d1b1db1a2ddde90767": {
      "model_module": "@jupyter-widgets/output",
      "model_module_version": "1.0.0",
      "model_name": "OutputModel",
      "state": {
       "layout": "IPY_MODEL_e9b7f2bc072944b4bf4f7a17a31cc19f"
      }
     },
     "8545e4ea4a254cfbb6f74e271c745135": {
      "model_module": "@jupyter-widgets/controls",
      "model_module_version": "1.2.0",
      "model_name": "SliderStyleModel",
      "state": {
       "description_width": ""
      }
     },
     "875860236af6451f9eb54d771646b212": {
      "model_module": "@jupyter-widgets/output",
      "model_module_version": "1.0.0",
      "model_name": "OutputModel",
      "state": {
       "layout": "IPY_MODEL_29cf27dc7afd408097785192b16b51ec"
      }
     },
     "87590ee155f749e8a2b4dd7c67afa160": {
      "model_module": "@jupyter-widgets/base",
      "model_module_version": "1.0.0",
      "model_name": "LayoutModel",
      "state": {}
     },
     "87a490a79c454f2ab94bf2dd4f4f6fc7": {
      "model_module": "@jupyter-widgets/controls",
      "model_module_version": "1.2.0",
      "model_name": "VBoxModel",
      "state": {
       "_dom_classes": [
        "widget-interact"
       ],
       "children": [
        "IPY_MODEL_0517fa20096442bb84029af294fceb73",
        "IPY_MODEL_e1412420c95143fe97eacf70a6af0500"
       ],
       "layout": "IPY_MODEL_69d39abdfdc94f7baad23e1b8e149c48"
      }
     },
     "885ffa44d4084666abc04e5af696bfa7": {
      "model_module": "@jupyter-widgets/controls",
      "model_module_version": "1.2.0",
      "model_name": "IntSliderModel",
      "state": {
       "description": "e",
       "layout": "IPY_MODEL_724cc2147fcc4e419444eb0dc6da6df1",
       "max": 500,
       "min": -500,
       "style": "IPY_MODEL_8325da1357fc4a6bab8e75884f7e21cb",
       "value": 1
      }
     },
     "886585aa495d495691c61fd911f0f82a": {
      "model_module": "@jupyter-widgets/controls",
      "model_module_version": "1.2.0",
      "model_name": "VBoxModel",
      "state": {
       "_dom_classes": [
        "widget-interact"
       ],
       "children": [
        "IPY_MODEL_d0240cf73dac40329a1194d905892af0",
        "IPY_MODEL_c3da3b6778984a0a9fde63afa564f361"
       ],
       "layout": "IPY_MODEL_ad6dfb42de884a348ee17ffed9d4b4db"
      }
     },
     "8979bed66d7e419a901c41e5025731cd": {
      "model_module": "@jupyter-widgets/base",
      "model_module_version": "1.0.0",
      "model_name": "LayoutModel",
      "state": {}
     },
     "89dd97b42bcc4b0fb00cf48eac659200": {
      "model_module": "@jupyter-widgets/base",
      "model_module_version": "1.0.0",
      "model_name": "LayoutModel",
      "state": {}
     },
     "8a8c5e0c573d4e399b25bb8b6f59fba2": {
      "model_module": "@jupyter-widgets/base",
      "model_module_version": "1.0.0",
      "model_name": "LayoutModel",
      "state": {}
     },
     "8b2beb98f9184dfc9f315f3bafcf38cb": {
      "model_module": "@jupyter-widgets/output",
      "model_module_version": "1.0.0",
      "model_name": "OutputModel",
      "state": {
       "layout": "IPY_MODEL_dbd95123ffe94d82a60e7daaad8ae02c"
      }
     },
     "8c4611a000bc4869912cbfdfb6ecb314": {
      "model_module": "@jupyter-widgets/controls",
      "model_module_version": "1.2.0",
      "model_name": "SliderStyleModel",
      "state": {
       "description_width": ""
      }
     },
     "8cf0ad4c74e746ecb2c90ec3bd21ed06": {
      "model_module": "@jupyter-widgets/output",
      "model_module_version": "1.0.0",
      "model_name": "OutputModel",
      "state": {
       "layout": "IPY_MODEL_fcdf1c11f44044c2ab9509bc9e85689f"
      }
     },
     "8e8b6b7d4c3d46769c3e13aa94737736": {
      "model_module": "@jupyter-widgets/base",
      "model_module_version": "1.0.0",
      "model_name": "LayoutModel",
      "state": {}
     },
     "90a22af646a1425cad75fc863265e782": {
      "model_module": "@jupyter-widgets/controls",
      "model_module_version": "1.2.0",
      "model_name": "VBoxModel",
      "state": {
       "_dom_classes": [
        "widget-interact"
       ],
       "children": [
        "IPY_MODEL_6430c0cf5c8b46d3984740cd488077bd",
        "IPY_MODEL_15bb8c53fec443a4b28b7edf7c85db87"
       ],
       "layout": "IPY_MODEL_dfa8202b7bbe463094de6f8c58e72cb7"
      }
     },
     "90a8fe3c694d4f5b872ba1d848a5d3bc": {
      "model_module": "@jupyter-widgets/base",
      "model_module_version": "1.0.0",
      "model_name": "LayoutModel",
      "state": {}
     },
     "90c9b768ef59453eb647e557ee069413": {
      "model_module": "@jupyter-widgets/controls",
      "model_module_version": "1.2.0",
      "model_name": "SliderStyleModel",
      "state": {
       "description_width": ""
      }
     },
     "9176bbbc5aac435b83873f93ecb1087c": {
      "model_module": "@jupyter-widgets/controls",
      "model_module_version": "1.2.0",
      "model_name": "SliderStyleModel",
      "state": {
       "description_width": ""
      }
     },
     "91a6848f7ce54cfdae177ebc38a203a2": {
      "model_module": "@jupyter-widgets/base",
      "model_module_version": "1.0.0",
      "model_name": "LayoutModel",
      "state": {}
     },
     "91fe6a992ff04a1db076e56c213d7a6b": {
      "model_module": "@jupyter-widgets/base",
      "model_module_version": "1.0.0",
      "model_name": "LayoutModel",
      "state": {}
     },
     "9297a102b2aa411687c88ad97eff40c3": {
      "model_module": "@jupyter-widgets/base",
      "model_module_version": "1.0.0",
      "model_name": "LayoutModel",
      "state": {}
     },
     "92dd4e7c571343f28bbaf1f6428a4d17": {
      "model_module": "@jupyter-widgets/base",
      "model_module_version": "1.0.0",
      "model_name": "LayoutModel",
      "state": {}
     },
     "93a896c098144deaaff3843449e9e09d": {
      "model_module": "@jupyter-widgets/base",
      "model_module_version": "1.0.0",
      "model_name": "LayoutModel",
      "state": {}
     },
     "93d32f36e31049848955302e3576e509": {
      "model_module": "@jupyter-widgets/base",
      "model_module_version": "1.0.0",
      "model_name": "LayoutModel",
      "state": {}
     },
     "95c10d2d517d4ae586aa641c6b909164": {
      "model_module": "@jupyter-widgets/controls",
      "model_module_version": "1.2.0",
      "model_name": "SliderStyleModel",
      "state": {
       "description_width": ""
      }
     },
     "95ff8c886c7c43168d92227f22cabba8": {
      "model_module": "@jupyter-widgets/base",
      "model_module_version": "1.0.0",
      "model_name": "LayoutModel",
      "state": {}
     },
     "972d65b7b22c4a50bcb77c7b73337af2": {
      "model_module": "@jupyter-widgets/base",
      "model_module_version": "1.0.0",
      "model_name": "LayoutModel",
      "state": {}
     },
     "980ca3e6669a4394b37c73c62bf744ba": {
      "model_module": "@jupyter-widgets/controls",
      "model_module_version": "1.2.0",
      "model_name": "IntSliderModel",
      "state": {
       "layout": "IPY_MODEL_7f5fa4d2f75c4384ad21377c182c0025",
       "max": 30,
       "min": -10,
       "style": "IPY_MODEL_f6358337c7f8456f9c8235599f1ec047",
       "value": 10
      }
     },
     "984e214b08bd41f8a063ff5b39c7bdba": {
      "model_module": "@jupyter-widgets/output",
      "model_module_version": "1.0.0",
      "model_name": "OutputModel",
      "state": {
       "layout": "IPY_MODEL_1560e34fe03d442d8a8c4b7263630870"
      }
     },
     "98730944a314437094ed5bf220e9a01c": {
      "model_module": "@jupyter-widgets/base",
      "model_module_version": "1.0.0",
      "model_name": "LayoutModel",
      "state": {}
     },
     "99588c06842648009406e8095dca931e": {
      "model_module": "@jupyter-widgets/output",
      "model_module_version": "1.0.0",
      "model_name": "OutputModel",
      "state": {
       "layout": "IPY_MODEL_330ed5300a484339bb188f7b1b694910"
      }
     },
     "9984a28ed41e499ea74a80c77f35cf69": {
      "model_module": "@jupyter-widgets/base",
      "model_module_version": "1.0.0",
      "model_name": "LayoutModel",
      "state": {}
     },
     "9ad6fda1616d4637a0be0fa0b7ddbb0c": {
      "model_module": "@jupyter-widgets/controls",
      "model_module_version": "1.2.0",
      "model_name": "SliderStyleModel",
      "state": {
       "description_width": ""
      }
     },
     "9b294704ef01439f83839120ba2b9236": {
      "model_module": "@jupyter-widgets/controls",
      "model_module_version": "1.2.0",
      "model_name": "SliderStyleModel",
      "state": {
       "description_width": ""
      }
     },
     "9bd2a8552b5f413d81d6139bf2317712": {
      "model_module": "@jupyter-widgets/base",
      "model_module_version": "1.0.0",
      "model_name": "LayoutModel",
      "state": {}
     },
     "9d0833f08c29486aa298af335f623318": {
      "model_module": "@jupyter-widgets/output",
      "model_module_version": "1.0.0",
      "model_name": "OutputModel",
      "state": {
       "layout": "IPY_MODEL_674ba7adda9a4eeeb52f4fe55621bcde"
      }
     },
     "9d0bf2ad661a4070b80c4989ab7ced57": {
      "model_module": "@jupyter-widgets/base",
      "model_module_version": "1.0.0",
      "model_name": "LayoutModel",
      "state": {}
     },
     "9d1ff46cf60a4aaea704544de7d54e25": {
      "model_module": "@jupyter-widgets/base",
      "model_module_version": "1.0.0",
      "model_name": "LayoutModel",
      "state": {}
     },
     "9e4656c57aa240bebb956bfaaad739ab": {
      "model_module": "@jupyter-widgets/controls",
      "model_module_version": "1.2.0",
      "model_name": "VBoxModel",
      "state": {
       "_dom_classes": [
        "widget-interact"
       ],
       "children": [
        "IPY_MODEL_4a73d32c7afc44f4a68039a34ce0b4f2",
        "IPY_MODEL_7fd0ee451ebb4096a296835e8a40385a"
       ],
       "layout": "IPY_MODEL_b05306584a844766ab4e8468d4e424f4"
      }
     },
     "9e806479f00249efa45cf03246b6df86": {
      "model_module": "@jupyter-widgets/controls",
      "model_module_version": "1.2.0",
      "model_name": "SliderStyleModel",
      "state": {
       "description_width": ""
      }
     },
     "9ec6132cdae74f56a763361a07df6413": {
      "model_module": "@jupyter-widgets/base",
      "model_module_version": "1.0.0",
      "model_name": "LayoutModel",
      "state": {}
     },
     "a096ac13ef6c489ba44c83538dac549c": {
      "model_module": "@jupyter-widgets/controls",
      "model_module_version": "1.2.0",
      "model_name": "IntSliderModel",
      "state": {
       "description": "c",
       "layout": "IPY_MODEL_68ae0968dc7e4b5db559aed3b4b66c4c",
       "max": 500,
       "min": -500,
       "style": "IPY_MODEL_06e5dc2d71694837b13dfe9f2a563e3f",
       "value": 1
      }
     },
     "a2a90b9faae944e3aebbe1429b6895eb": {
      "model_module": "@jupyter-widgets/controls",
      "model_module_version": "1.2.0",
      "model_name": "SliderStyleModel",
      "state": {
       "description_width": ""
      }
     },
     "a2cff6b6c1724cc0919a9b415084c971": {
      "model_module": "@jupyter-widgets/controls",
      "model_module_version": "1.2.0",
      "model_name": "VBoxModel",
      "state": {
       "_dom_classes": [
        "widget-interact"
       ],
       "children": [
        "IPY_MODEL_26027da369484e73b7dc4d06dbc4eace",
        "IPY_MODEL_9d0833f08c29486aa298af335f623318"
       ],
       "layout": "IPY_MODEL_c0f154500d01477e887197781bec1b56"
      }
     },
     "a4d7cda061ef4f22a463fe636ccf2d76": {
      "model_module": "@jupyter-widgets/output",
      "model_module_version": "1.0.0",
      "model_name": "OutputModel",
      "state": {
       "layout": "IPY_MODEL_bfeb7f86788e41f0b7215766063d4fdb"
      }
     },
     "a4edad37d96c46b7b3b8541bee9a6924": {
      "model_module": "@jupyter-widgets/controls",
      "model_module_version": "1.2.0",
      "model_name": "IntSliderModel",
      "state": {
       "description": "d",
       "layout": "IPY_MODEL_e71b475334bb4e47acda85d9b7f4bed2",
       "max": 500,
       "min": -500,
       "style": "IPY_MODEL_4f048431abf947468dac8adfc5d0babc",
       "value": 1
      }
     },
     "a4f4cad1120f4d5eb6a6691143d9bce8": {
      "model_module": "@jupyter-widgets/base",
      "model_module_version": "1.0.0",
      "model_name": "LayoutModel",
      "state": {}
     },
     "a5fbc6468c694ebd9870e971a526a90f": {
      "model_module": "@jupyter-widgets/controls",
      "model_module_version": "1.2.0",
      "model_name": "VBoxModel",
      "state": {
       "_dom_classes": [
        "widget-interact"
       ],
       "children": [
        "IPY_MODEL_409b57268ef24ae1ac5b6ee33b7e16c2",
        "IPY_MODEL_2c0745e9f675468eb3edecac20f903ae"
       ],
       "layout": "IPY_MODEL_838d8dc5b7ef4eb08dbe7c3684ecd230"
      }
     },
     "a610d7b18e614305bc41224a6289e659": {
      "model_module": "@jupyter-widgets/base",
      "model_module_version": "1.0.0",
      "model_name": "LayoutModel",
      "state": {}
     },
     "a672093ad167436780fb482d1d4dcb80": {
      "model_module": "@jupyter-widgets/controls",
      "model_module_version": "1.2.0",
      "model_name": "FloatSliderModel",
      "state": {
       "description": "c",
       "layout": "IPY_MODEL_d21d2aa002a64c7e90b8d05301d440cb",
       "max": 3,
       "min": -1,
       "step": 0.1,
       "style": "IPY_MODEL_f44365a5d123400e8c8b4018f49b05a5",
       "value": 3
      }
     },
     "a6745d6b46c04811ba969dc5aaeb0891": {
      "model_module": "@jupyter-widgets/output",
      "model_module_version": "1.0.0",
      "model_name": "OutputModel",
      "state": {
       "layout": "IPY_MODEL_a610d7b18e614305bc41224a6289e659"
      }
     },
     "a6c4ffcd947141b99dfcdff1414ab069": {
      "model_module": "@jupyter-widgets/controls",
      "model_module_version": "1.2.0",
      "model_name": "VBoxModel",
      "state": {
       "_dom_classes": [
        "widget-interact"
       ],
       "children": [
        "IPY_MODEL_3f57938dcdc24f8b91d40df26cfd35da",
        "IPY_MODEL_ff4e816c39514bae8e514ba35ae3236f"
       ],
       "layout": "IPY_MODEL_74dc8a58696b47d899c37fdb4b0b4491"
      }
     },
     "a6fd9d305e8048e683ee152907472212": {
      "model_module": "@jupyter-widgets/controls",
      "model_module_version": "1.2.0",
      "model_name": "SliderStyleModel",
      "state": {
       "description_width": ""
      }
     },
     "a748cc12b5a547ac951e96da4f80a328": {
      "model_module": "@jupyter-widgets/output",
      "model_module_version": "1.0.0",
      "model_name": "OutputModel",
      "state": {
       "layout": "IPY_MODEL_1c8fdca653334d2ea31d35f707682f18"
      }
     },
     "a7c76d6ea120493db2c9866538516592": {
      "model_module": "@jupyter-widgets/base",
      "model_module_version": "1.0.0",
      "model_name": "LayoutModel",
      "state": {}
     },
     "a82425e75d5f4a118276cda1d84f54eb": {
      "model_module": "@jupyter-widgets/output",
      "model_module_version": "1.0.0",
      "model_name": "OutputModel",
      "state": {
       "layout": "IPY_MODEL_09ea0ae2dc634f22bf0aeda1cd66580e"
      }
     },
     "a8ad1b541f604db0872d12caa47d0e9b": {
      "model_module": "@jupyter-widgets/base",
      "model_module_version": "1.0.0",
      "model_name": "LayoutModel",
      "state": {}
     },
     "a9fc2b23ef654607906bb92e91398e60": {
      "model_module": "@jupyter-widgets/controls",
      "model_module_version": "1.2.0",
      "model_name": "VBoxModel",
      "state": {
       "_dom_classes": [
        "widget-interact"
       ],
       "children": [
        "IPY_MODEL_0d41042246704668a6f8284b1d25e111",
        "IPY_MODEL_06f264ddcc07441fa6cc97b4594bf123"
       ],
       "layout": "IPY_MODEL_725f7aff192843d0b645ff6958b01c25"
      }
     },
     "aa518fb4ce54444a915d338e4bb17519": {
      "model_module": "@jupyter-widgets/controls",
      "model_module_version": "1.2.0",
      "model_name": "VBoxModel",
      "state": {
       "_dom_classes": [
        "widget-interact"
       ],
       "children": [
        "IPY_MODEL_5ab94d83c1374ff1ac95eaacc155bd32",
        "IPY_MODEL_e646f651499e4a7b852dc759cbedf8df"
       ],
       "layout": "IPY_MODEL_778c5233219d4b8b86a0e34c156730e1"
      }
     },
     "aabd9935eeaa4ff0a6ecce68902bfaed": {
      "model_module": "@jupyter-widgets/base",
      "model_module_version": "1.0.0",
      "model_name": "LayoutModel",
      "state": {}
     },
     "abab2f8f828c44ceb2124928c6b5c33d": {
      "model_module": "@jupyter-widgets/output",
      "model_module_version": "1.0.0",
      "model_name": "OutputModel",
      "state": {
       "layout": "IPY_MODEL_20f602995bc740a89fef3184b5e17a59"
      }
     },
     "abb25114c1bd44deb23e02d471e75740": {
      "model_module": "@jupyter-widgets/base",
      "model_module_version": "1.0.0",
      "model_name": "LayoutModel",
      "state": {}
     },
     "ac07211b3db0400fbb1750abfe9b7d60": {
      "model_module": "@jupyter-widgets/controls",
      "model_module_version": "1.2.0",
      "model_name": "SliderStyleModel",
      "state": {
       "description_width": ""
      }
     },
     "ac80076a3d9c4552a0b312d6242df898": {
      "model_module": "@jupyter-widgets/controls",
      "model_module_version": "1.2.0",
      "model_name": "SliderStyleModel",
      "state": {
       "description_width": ""
      }
     },
     "acd7721c829e403e9821d943d7c69d3f": {
      "model_module": "@jupyter-widgets/base",
      "model_module_version": "1.0.0",
      "model_name": "LayoutModel",
      "state": {}
     },
     "ad6dfb42de884a348ee17ffed9d4b4db": {
      "model_module": "@jupyter-widgets/base",
      "model_module_version": "1.0.0",
      "model_name": "LayoutModel",
      "state": {}
     },
     "aec6a953c2fd45ca9e07bb0fed2a7e7d": {
      "model_module": "@jupyter-widgets/base",
      "model_module_version": "1.0.0",
      "model_name": "LayoutModel",
      "state": {}
     },
     "b05306584a844766ab4e8468d4e424f4": {
      "model_module": "@jupyter-widgets/base",
      "model_module_version": "1.0.0",
      "model_name": "LayoutModel",
      "state": {}
     },
     "b0cba3bbf4de448d887d75d1407e3629": {
      "model_module": "@jupyter-widgets/base",
      "model_module_version": "1.0.0",
      "model_name": "LayoutModel",
      "state": {}
     },
     "b1fd34558a3447c8bbedf6c712a8057c": {
      "model_module": "@jupyter-widgets/base",
      "model_module_version": "1.0.0",
      "model_name": "LayoutModel",
      "state": {}
     },
     "b23cbcc779da44e789eef95eb3e83de2": {
      "model_module": "@jupyter-widgets/controls",
      "model_module_version": "1.2.0",
      "model_name": "SliderStyleModel",
      "state": {
       "description_width": ""
      }
     },
     "b2b2c0f1b026450ca6a24b4ab6346791": {
      "model_module": "@jupyter-widgets/output",
      "model_module_version": "1.0.0",
      "model_name": "OutputModel",
      "state": {
       "layout": "IPY_MODEL_ba1392b5fa93416ca89590f55fbb3607"
      }
     },
     "b2ccca3fdaa64339a914632340cc9666": {
      "model_module": "@jupyter-widgets/base",
      "model_module_version": "1.0.0",
      "model_name": "LayoutModel",
      "state": {}
     },
     "b34817b429304545b0d55b14d65e29c4": {
      "model_module": "@jupyter-widgets/controls",
      "model_module_version": "1.2.0",
      "model_name": "IntSliderModel",
      "state": {
       "layout": "IPY_MODEL_531d00e99f444cbb8c8e16b261303927",
       "max": 500,
       "min": -500,
       "style": "IPY_MODEL_30b4d4d02ffd49bcb0b40649b88bf3bd",
       "value": 1
      }
     },
     "b35ef9bb9da94061941615c2af094f83": {
      "model_module": "@jupyter-widgets/controls",
      "model_module_version": "1.2.0",
      "model_name": "SliderStyleModel",
      "state": {
       "description_width": ""
      }
     },
     "b421af2d16fb4e0eb1360e7386ea7f30": {
      "model_module": "@jupyter-widgets/output",
      "model_module_version": "1.0.0",
      "model_name": "OutputModel",
      "state": {
       "layout": "IPY_MODEL_5eeaf07f3f684d78b080224ca6a63df3"
      }
     },
     "b44cf96326074e6fbbaa8c835eee7357": {
      "model_module": "@jupyter-widgets/output",
      "model_module_version": "1.0.0",
      "model_name": "OutputModel",
      "state": {
       "layout": "IPY_MODEL_b1fd34558a3447c8bbedf6c712a8057c"
      }
     },
     "b626798809ef4d88b5c1976bebb88398": {
      "model_module": "@jupyter-widgets/base",
      "model_module_version": "1.0.0",
      "model_name": "LayoutModel",
      "state": {}
     },
     "b62c8f46e8884c1098c4137219b9399b": {
      "model_module": "@jupyter-widgets/controls",
      "model_module_version": "1.2.0",
      "model_name": "VBoxModel",
      "state": {
       "_dom_classes": [
        "widget-interact"
       ],
       "children": [
        "IPY_MODEL_7473fd2563db4f1c81d531393623ea9a",
        "IPY_MODEL_1d3e1f985a8c4f32a54f317f0a404cae"
       ],
       "layout": "IPY_MODEL_90a8fe3c694d4f5b872ba1d848a5d3bc"
      }
     },
     "b6351b989f54419382c53c9081450854": {
      "model_module": "@jupyter-widgets/base",
      "model_module_version": "1.0.0",
      "model_name": "LayoutModel",
      "state": {}
     },
     "b669be6576db40069988f1cd1e1cbdcc": {
      "model_module": "@jupyter-widgets/controls",
      "model_module_version": "1.2.0",
      "model_name": "IntSliderModel",
      "state": {
       "description": "d",
       "layout": "IPY_MODEL_32042f2d50c14167a3103fb941f01f29",
       "max": 500,
       "min": -500,
       "style": "IPY_MODEL_9176bbbc5aac435b83873f93ecb1087c",
       "value": -20
      }
     },
     "b6c22eb1f68248f0b069ee06fedfcbe1": {
      "model_module": "@jupyter-widgets/base",
      "model_module_version": "1.0.0",
      "model_name": "LayoutModel",
      "state": {}
     },
     "b806b0a66a244ff99f052578c8a492d2": {
      "model_module": "@jupyter-widgets/output",
      "model_module_version": "1.0.0",
      "model_name": "OutputModel",
      "state": {
       "layout": "IPY_MODEL_bfeb6f3cd1934f3cac554949a69b9b57"
      }
     },
     "b845c26884704a85908a328b05402d6a": {
      "model_module": "@jupyter-widgets/base",
      "model_module_version": "1.0.0",
      "model_name": "LayoutModel",
      "state": {}
     },
     "b871bb2f6bd7400e82abdb089d77b036": {
      "model_module": "@jupyter-widgets/controls",
      "model_module_version": "1.2.0",
      "model_name": "SliderStyleModel",
      "state": {
       "description_width": ""
      }
     },
     "b932cd183b53400786f645b3d6658124": {
      "model_module": "@jupyter-widgets/base",
      "model_module_version": "1.0.0",
      "model_name": "LayoutModel",
      "state": {}
     },
     "ba1392b5fa93416ca89590f55fbb3607": {
      "model_module": "@jupyter-widgets/base",
      "model_module_version": "1.0.0",
      "model_name": "LayoutModel",
      "state": {}
     },
     "ba5eb9a38e75484189597b30fb2b59a9": {
      "model_module": "@jupyter-widgets/base",
      "model_module_version": "1.0.0",
      "model_name": "LayoutModel",
      "state": {}
     },
     "baecd55b65fb4f78b77beef9aa79d73a": {
      "model_module": "@jupyter-widgets/controls",
      "model_module_version": "1.2.0",
      "model_name": "IntSliderModel",
      "state": {
       "description": "e",
       "layout": "IPY_MODEL_5bca0ef694084893a57c3974c84348a4",
       "max": 500,
       "min": -500,
       "style": "IPY_MODEL_d73c4faf2e2142a1a6e641a41752748a",
       "value": 351
      }
     },
     "bb452ae360874d84902f631c3d803f0d": {
      "model_module": "@jupyter-widgets/controls",
      "model_module_version": "1.2.0",
      "model_name": "SliderStyleModel",
      "state": {
       "description_width": ""
      }
     },
     "bc77985969d5493aa32691b765cb6b53": {
      "model_module": "@jupyter-widgets/controls",
      "model_module_version": "1.2.0",
      "model_name": "IntSliderModel",
      "state": {
       "description": "d",
       "layout": "IPY_MODEL_79f71013e90146b1be2ab5b318ba985e",
       "max": 500,
       "min": -500,
       "style": "IPY_MODEL_c691eae1a467416e85615e1e8f407249",
       "value": -1
      }
     },
     "bc809b09c61c4114bf8c82d31999cb23": {
      "model_module": "@jupyter-widgets/controls",
      "model_module_version": "1.2.0",
      "model_name": "IntSliderModel",
      "state": {
       "description": "c",
       "layout": "IPY_MODEL_dbac420549ed4e2788eef10c8ec792ad",
       "max": 500,
       "min": -500,
       "style": "IPY_MODEL_4766ff92db1e4d0aa2e8aefccbe58681",
       "value": 3
      }
     },
     "be00b47cf3f74dc09c600eba0f9953b6": {
      "model_module": "@jupyter-widgets/controls",
      "model_module_version": "1.2.0",
      "model_name": "VBoxModel",
      "state": {
       "_dom_classes": [
        "widget-interact"
       ],
       "children": [
        "IPY_MODEL_d273f75e5dbb4f66856b24822db204ab",
        "IPY_MODEL_b806b0a66a244ff99f052578c8a492d2"
       ],
       "layout": "IPY_MODEL_be39982beadb440cacf166973f104457"
      }
     },
     "be219db00d324390927e3f1a66409a3e": {
      "model_module": "@jupyter-widgets/controls",
      "model_module_version": "1.2.0",
      "model_name": "IntSliderModel",
      "state": {
       "description": "c",
       "layout": "IPY_MODEL_4971f7cdf1d34ffea92a9d4a94996cf3",
       "max": 30,
       "min": -10,
       "style": "IPY_MODEL_4f0d556196ad47ad8f59b9e2af378da2",
       "value": 7
      }
     },
     "be39982beadb440cacf166973f104457": {
      "model_module": "@jupyter-widgets/base",
      "model_module_version": "1.0.0",
      "model_name": "LayoutModel",
      "state": {}
     },
     "be602248efac4beb8bb0ab3dfd9afe3e": {
      "model_module": "@jupyter-widgets/base",
      "model_module_version": "1.0.0",
      "model_name": "LayoutModel",
      "state": {}
     },
     "bfb63405179b402fa0b367d6bf62c7ec": {
      "model_module": "@jupyter-widgets/controls",
      "model_module_version": "1.2.0",
      "model_name": "VBoxModel",
      "state": {
       "_dom_classes": [
        "widget-interact"
       ],
       "children": [
        "IPY_MODEL_f6cd26045d154132846c5bcaa91c5dbd",
        "IPY_MODEL_99588c06842648009406e8095dca931e"
       ],
       "layout": "IPY_MODEL_2d2add0ed6d24e47a004ef774bc1f8ac"
      }
     },
     "bfc1749f683f4729b1a91cac3ede9a0d": {
      "model_module": "@jupyter-widgets/output",
      "model_module_version": "1.0.0",
      "model_name": "OutputModel",
      "state": {
       "layout": "IPY_MODEL_1308616c49fe40329c3e3e4136e689a9"
      }
     },
     "bfeb6f3cd1934f3cac554949a69b9b57": {
      "model_module": "@jupyter-widgets/base",
      "model_module_version": "1.0.0",
      "model_name": "LayoutModel",
      "state": {}
     },
     "bfeb7f86788e41f0b7215766063d4fdb": {
      "model_module": "@jupyter-widgets/base",
      "model_module_version": "1.0.0",
      "model_name": "LayoutModel",
      "state": {}
     },
     "c0c9a67b5852446f9a534487a606ef66": {
      "model_module": "@jupyter-widgets/output",
      "model_module_version": "1.0.0",
      "model_name": "OutputModel",
      "state": {
       "layout": "IPY_MODEL_b845c26884704a85908a328b05402d6a"
      }
     },
     "c0f154500d01477e887197781bec1b56": {
      "model_module": "@jupyter-widgets/base",
      "model_module_version": "1.0.0",
      "model_name": "LayoutModel",
      "state": {}
     },
     "c134acd6bc9a4fcc9c2545caeeb02465": {
      "model_module": "@jupyter-widgets/base",
      "model_module_version": "1.0.0",
      "model_name": "LayoutModel",
      "state": {}
     },
     "c1ab3f247c8742ed92325c26787c1508": {
      "model_module": "@jupyter-widgets/output",
      "model_module_version": "1.0.0",
      "model_name": "OutputModel",
      "state": {
       "layout": "IPY_MODEL_65e8a9293d164aa3a9e3b4b94421f660"
      }
     },
     "c1b62067ed034f9282307ec42436425e": {
      "model_module": "@jupyter-widgets/base",
      "model_module_version": "1.0.0",
      "model_name": "LayoutModel",
      "state": {}
     },
     "c24b52439e2742e6ab1f2f3785f12544": {
      "model_module": "@jupyter-widgets/controls",
      "model_module_version": "1.2.0",
      "model_name": "VBoxModel",
      "state": {
       "_dom_classes": [
        "widget-interact"
       ],
       "children": [
        "IPY_MODEL_34c558a3b4b14268875820bcba29701b",
        "IPY_MODEL_84171aeadc2040d1b1db1a2ddde90767"
       ],
       "layout": "IPY_MODEL_025c5f6794e54ec7b518b598cfeee7d0"
      }
     },
     "c3af1ae261b64c5b888be633002c94a0": {
      "model_module": "@jupyter-widgets/controls",
      "model_module_version": "1.2.0",
      "model_name": "FloatSliderModel",
      "state": {
       "description": "d",
       "layout": "IPY_MODEL_b0cba3bbf4de448d887d75d1407e3629",
       "max": 3,
       "min": -1,
       "step": 0.1,
       "style": "IPY_MODEL_4422aa4d122842ae810e4507353668ae",
       "value": 1.9
      }
     },
     "c3da3b6778984a0a9fde63afa564f361": {
      "model_module": "@jupyter-widgets/output",
      "model_module_version": "1.0.0",
      "model_name": "OutputModel",
      "state": {
       "layout": "IPY_MODEL_a4f4cad1120f4d5eb6a6691143d9bce8"
      }
     },
     "c421bb2342fd482fa6294c21ae907635": {
      "model_module": "@jupyter-widgets/base",
      "model_module_version": "1.0.0",
      "model_name": "LayoutModel",
      "state": {}
     },
     "c58896fe9408405db3f355825b3aa4a2": {
      "model_module": "@jupyter-widgets/controls",
      "model_module_version": "1.2.0",
      "model_name": "IntSliderModel",
      "state": {
       "description": "e",
       "layout": "IPY_MODEL_23938e526a924b068b7d402a66304d43",
       "max": 500,
       "min": -500,
       "style": "IPY_MODEL_83badcbdaeb8446c8351d7e541fb38fa",
       "value": 7
      }
     },
     "c691eae1a467416e85615e1e8f407249": {
      "model_module": "@jupyter-widgets/controls",
      "model_module_version": "1.2.0",
      "model_name": "SliderStyleModel",
      "state": {
       "description_width": ""
      }
     },
     "c70626282add47ffa998f1805f5a27e3": {
      "model_module": "@jupyter-widgets/base",
      "model_module_version": "1.0.0",
      "model_name": "LayoutModel",
      "state": {}
     },
     "c7bf63b9a9c043dfa70439832cfa935f": {
      "model_module": "@jupyter-widgets/base",
      "model_module_version": "1.0.0",
      "model_name": "LayoutModel",
      "state": {}
     },
     "c7eaf40be31147a79ba673036e90a928": {
      "model_module": "@jupyter-widgets/controls",
      "model_module_version": "1.2.0",
      "model_name": "SliderStyleModel",
      "state": {
       "description_width": ""
      }
     },
     "c84fb52564fc4a3f8d07c94a1f366c51": {
      "model_module": "@jupyter-widgets/controls",
      "model_module_version": "1.2.0",
      "model_name": "VBoxModel",
      "state": {
       "_dom_classes": [
        "widget-interact"
       ],
       "children": [
        "IPY_MODEL_bc77985969d5493aa32691b765cb6b53",
        "IPY_MODEL_c0c9a67b5852446f9a534487a606ef66"
       ],
       "layout": "IPY_MODEL_579217ed3f1246999b36adb3477f3f96"
      }
     },
     "c8dd2dbc74194e5486cbde9d5572011c": {
      "model_module": "@jupyter-widgets/controls",
      "model_module_version": "1.2.0",
      "model_name": "IntSliderModel",
      "state": {
       "description": "c",
       "layout": "IPY_MODEL_acd7721c829e403e9821d943d7c69d3f",
       "max": 500,
       "min": -500,
       "style": "IPY_MODEL_9b294704ef01439f83839120ba2b9236",
       "value": 1
      }
     },
     "c9115475b2554812913003f7529e1dd8": {
      "model_module": "@jupyter-widgets/controls",
      "model_module_version": "1.2.0",
      "model_name": "IntSliderModel",
      "state": {
       "description": "d",
       "layout": "IPY_MODEL_b2ccca3fdaa64339a914632340cc9666",
       "max": 500,
       "min": -500,
       "style": "IPY_MODEL_813f73bb1a294e4e92aebc3091060f2c",
       "value": 1
      }
     },
     "c943e0aebf7c4d22a7a9d81252ef957b": {
      "model_module": "@jupyter-widgets/base",
      "model_module_version": "1.0.0",
      "model_name": "LayoutModel",
      "state": {}
     },
     "ca12aa4db7854a13898ebbd56659aaa6": {
      "model_module": "@jupyter-widgets/controls",
      "model_module_version": "1.2.0",
      "model_name": "SliderStyleModel",
      "state": {
       "description_width": ""
      }
     },
     "ca8c0d6341a44b3f9eaecb192fa062dc": {
      "model_module": "@jupyter-widgets/controls",
      "model_module_version": "1.2.0",
      "model_name": "IntSliderModel",
      "state": {
       "layout": "IPY_MODEL_9297a102b2aa411687c88ad97eff40c3",
       "max": 500,
       "min": -500,
       "style": "IPY_MODEL_8545e4ea4a254cfbb6f74e271c745135",
       "value": 1
      }
     },
     "cc29e58fa65b4f8aab2ae2ead09fcf01": {
      "model_module": "@jupyter-widgets/base",
      "model_module_version": "1.0.0",
      "model_name": "LayoutModel",
      "state": {}
     },
     "cdc9508242434f6cae82074f96bc98c2": {
      "model_module": "@jupyter-widgets/output",
      "model_module_version": "1.0.0",
      "model_name": "OutputModel",
      "state": {
       "layout": "IPY_MODEL_210352abbc6d4600b8d199cbc89c264a"
      }
     },
     "ce7e09b681ba4338b87bccbde0d3e6db": {
      "model_module": "@jupyter-widgets/controls",
      "model_module_version": "1.2.0",
      "model_name": "VBoxModel",
      "state": {
       "_dom_classes": [
        "widget-interact"
       ],
       "children": [
        "IPY_MODEL_2d1fe132a17a4bc49d5a4c00063c8471",
        "IPY_MODEL_8b2beb98f9184dfc9f315f3bafcf38cb"
       ],
       "layout": "IPY_MODEL_15e64a420be649a39658a2b31c504a03"
      }
     },
     "cefcbb34e99d4319aabdff752a3731ea": {
      "model_module": "@jupyter-widgets/controls",
      "model_module_version": "1.2.0",
      "model_name": "SliderStyleModel",
      "state": {
       "description_width": ""
      }
     },
     "cf40915270404d73ad5002309481121a": {
      "model_module": "@jupyter-widgets/base",
      "model_module_version": "1.0.0",
      "model_name": "LayoutModel",
      "state": {}
     },
     "cf459b09f171490292bdc31e4da93b3f": {
      "model_module": "@jupyter-widgets/controls",
      "model_module_version": "1.2.0",
      "model_name": "VBoxModel",
      "state": {
       "_dom_classes": [
        "widget-interact"
       ],
       "children": [
        "IPY_MODEL_11894b8b703b4f27bd7ec1a2d2beaa94",
        "IPY_MODEL_cdc9508242434f6cae82074f96bc98c2"
       ],
       "layout": "IPY_MODEL_33746ff6f0d64ead96a5d417e62fae9b"
      }
     },
     "cf601371394540be83796de0e5776944": {
      "model_module": "@jupyter-widgets/output",
      "model_module_version": "1.0.0",
      "model_name": "OutputModel",
      "state": {
       "layout": "IPY_MODEL_791aebe60f1443998d07f1de876078e7"
      }
     },
     "cfafcc3f35c049fea7230644188c5240": {
      "model_module": "@jupyter-widgets/base",
      "model_module_version": "1.0.0",
      "model_name": "LayoutModel",
      "state": {}
     },
     "cfb2e791b9b54e2388af7b45f43640bf": {
      "model_module": "@jupyter-widgets/output",
      "model_module_version": "1.0.0",
      "model_name": "OutputModel",
      "state": {
       "layout": "IPY_MODEL_ba5eb9a38e75484189597b30fb2b59a9"
      }
     },
     "cfe1ec7a64b14969b4ef641483614d61": {
      "model_module": "@jupyter-widgets/base",
      "model_module_version": "1.0.0",
      "model_name": "LayoutModel",
      "state": {}
     },
     "d0240cf73dac40329a1194d905892af0": {
      "model_module": "@jupyter-widgets/controls",
      "model_module_version": "1.2.0",
      "model_name": "IntSliderModel",
      "state": {
       "description": "c",
       "layout": "IPY_MODEL_de0ad395bc0149d48eeb0c1f5e2c10f4",
       "max": 500,
       "min": -500,
       "style": "IPY_MODEL_14263885479a446f967a45ad5fb58e1e",
       "value": -17
      }
     },
     "d07eb06754a041ea813805f6f4c008da": {
      "model_module": "@jupyter-widgets/controls",
      "model_module_version": "1.2.0",
      "model_name": "SliderStyleModel",
      "state": {
       "description_width": ""
      }
     },
     "d0c3ec339357480fbdad22bb44fc9b69": {
      "model_module": "@jupyter-widgets/output",
      "model_module_version": "1.0.0",
      "model_name": "OutputModel",
      "state": {
       "layout": "IPY_MODEL_6cba3c04c8a346478a805bb4b7fd72e1"
      }
     },
     "d1201b14c12c43c7908330d2a2cbd127": {
      "model_module": "@jupyter-widgets/output",
      "model_module_version": "1.0.0",
      "model_name": "OutputModel",
      "state": {
       "layout": "IPY_MODEL_a8ad1b541f604db0872d12caa47d0e9b"
      }
     },
     "d12df4e1258f4d78a1af64b4ccd0f9e8": {
      "model_module": "@jupyter-widgets/controls",
      "model_module_version": "1.2.0",
      "model_name": "VBoxModel",
      "state": {
       "_dom_classes": [
        "widget-interact"
       ],
       "children": [
        "IPY_MODEL_c9115475b2554812913003f7529e1dd8",
        "IPY_MODEL_d1201b14c12c43c7908330d2a2cbd127"
       ],
       "layout": "IPY_MODEL_564a69b934c449ec8a8c5ccd19454e5e"
      }
     },
     "d185365cc9f54eab83f47b1cc38b466f": {
      "model_module": "@jupyter-widgets/output",
      "model_module_version": "1.0.0",
      "model_name": "OutputModel",
      "state": {
       "layout": "IPY_MODEL_181c9f1a98fa4e3fa8b00b9b4b7a1954"
      }
     },
     "d21d2aa002a64c7e90b8d05301d440cb": {
      "model_module": "@jupyter-widgets/base",
      "model_module_version": "1.0.0",
      "model_name": "LayoutModel",
      "state": {}
     },
     "d273f75e5dbb4f66856b24822db204ab": {
      "model_module": "@jupyter-widgets/controls",
      "model_module_version": "1.2.0",
      "model_name": "IntSliderModel",
      "state": {
       "description": "e",
       "layout": "IPY_MODEL_abb25114c1bd44deb23e02d471e75740",
       "max": 500,
       "min": -500,
       "style": "IPY_MODEL_7c33e3fa9edd444ea05f9e0fbcee0a0a",
       "value": 20
      }
     },
     "d30026cbfea24eaabfde74e283a2f580": {
      "model_module": "@jupyter-widgets/base",
      "model_module_version": "1.0.0",
      "model_name": "LayoutModel",
      "state": {}
     },
     "d37d9036e08749fc82403f539117cf1d": {
      "model_module": "@jupyter-widgets/base",
      "model_module_version": "1.0.0",
      "model_name": "LayoutModel",
      "state": {}
     },
     "d3b0bbdc20954d8ca624f4def009df6f": {
      "model_module": "@jupyter-widgets/controls",
      "model_module_version": "1.2.0",
      "model_name": "VBoxModel",
      "state": {
       "_dom_classes": [
        "widget-interact"
       ],
       "children": [
        "IPY_MODEL_da1ddf34676445b38bc891a104bb737d",
        "IPY_MODEL_78acf43eac044f3591d00be4247c2abf"
       ],
       "layout": "IPY_MODEL_664f00facbdb47b9ad2464f744effdfa"
      }
     },
     "d4024f83a90e4dabb275a0d92018ebe7": {
      "model_module": "@jupyter-widgets/output",
      "model_module_version": "1.0.0",
      "model_name": "OutputModel",
      "state": {
       "layout": "IPY_MODEL_2fd5e52d2ceb496fb68504ec1548e409"
      }
     },
     "d42327bc8e5641eebf09828984b60560": {
      "model_module": "@jupyter-widgets/controls",
      "model_module_version": "1.2.0",
      "model_name": "IntSliderModel",
      "state": {
       "description": "d",
       "layout": "IPY_MODEL_d7c64544c82441df83a068d644db36d7",
       "max": 500,
       "min": -500,
       "style": "IPY_MODEL_83b038520d7546f0bf9a622220ae5db2",
       "value": 4
      }
     },
     "d562d239994945a9a13572a4352e5966": {
      "model_module": "@jupyter-widgets/base",
      "model_module_version": "1.0.0",
      "model_name": "LayoutModel",
      "state": {}
     },
     "d5889c2ccc774a7cb3237dbf5156ad94": {
      "model_module": "@jupyter-widgets/controls",
      "model_module_version": "1.2.0",
      "model_name": "VBoxModel",
      "state": {
       "_dom_classes": [
        "widget-interact"
       ],
       "children": [
        "IPY_MODEL_2b4862c9e4d5412380e635a08bea174b",
        "IPY_MODEL_b421af2d16fb4e0eb1360e7386ea7f30"
       ],
       "layout": "IPY_MODEL_58af37fa8e0e4f97aadf5f092e67f03d"
      }
     },
     "d6a02f5ab44b4f908ff5cf441d6f6558": {
      "model_module": "@jupyter-widgets/base",
      "model_module_version": "1.0.0",
      "model_name": "LayoutModel",
      "state": {}
     },
     "d7038ba2126d4c318f220e9ad74c6a96": {
      "model_module": "@jupyter-widgets/base",
      "model_module_version": "1.0.0",
      "model_name": "LayoutModel",
      "state": {}
     },
     "d73c4faf2e2142a1a6e641a41752748a": {
      "model_module": "@jupyter-widgets/controls",
      "model_module_version": "1.2.0",
      "model_name": "SliderStyleModel",
      "state": {
       "description_width": ""
      }
     },
     "d7c64544c82441df83a068d644db36d7": {
      "model_module": "@jupyter-widgets/base",
      "model_module_version": "1.0.0",
      "model_name": "LayoutModel",
      "state": {}
     },
     "d90a1ca5f03042e28adbb4388da5f6cb": {
      "model_module": "@jupyter-widgets/controls",
      "model_module_version": "1.2.0",
      "model_name": "IntSliderModel",
      "state": {
       "description": "e",
       "layout": "IPY_MODEL_89dd97b42bcc4b0fb00cf48eac659200",
       "max": 500,
       "min": -500,
       "style": "IPY_MODEL_a6fd9d305e8048e683ee152907472212",
       "value": 311
      }
     },
     "d98605fef8894162a0d0fbda2f3e5aee": {
      "model_module": "@jupyter-widgets/output",
      "model_module_version": "1.0.0",
      "model_name": "OutputModel",
      "state": {
       "layout": "IPY_MODEL_de462f0af48648489dd0c50f40910a98"
      }
     },
     "d9be713504674a74a209cce9eb0c603f": {
      "model_module": "@jupyter-widgets/base",
      "model_module_version": "1.0.0",
      "model_name": "LayoutModel",
      "state": {}
     },
     "d9d355e6457c4c2ca1531d773b334c3e": {
      "model_module": "@jupyter-widgets/base",
      "model_module_version": "1.0.0",
      "model_name": "LayoutModel",
      "state": {}
     },
     "d9ef9b4f18e64fea8e7cee9a124d3dd5": {
      "model_module": "@jupyter-widgets/base",
      "model_module_version": "1.0.0",
      "model_name": "LayoutModel",
      "state": {}
     },
     "da1ddf34676445b38bc891a104bb737d": {
      "model_module": "@jupyter-widgets/controls",
      "model_module_version": "1.2.0",
      "model_name": "IntSliderModel",
      "state": {
       "description": "c",
       "layout": "IPY_MODEL_0356744f827c46f78f10cf306fcbabee",
       "max": 500,
       "min": -500,
       "style": "IPY_MODEL_e1844e02244244119fd5a5d5989c4b6d",
       "value": 1
      }
     },
     "db62371a71cb4d55b0490253a4ddf619": {
      "model_module": "@jupyter-widgets/controls",
      "model_module_version": "1.2.0",
      "model_name": "VBoxModel",
      "state": {
       "_dom_classes": [
        "widget-interact"
       ],
       "children": [
        "IPY_MODEL_7cb8a060da6042328f02bdee92648725",
        "IPY_MODEL_d185365cc9f54eab83f47b1cc38b466f"
       ],
       "layout": "IPY_MODEL_07667f55c30245a783dd2e240b1e6444"
      }
     },
     "dbac420549ed4e2788eef10c8ec792ad": {
      "model_module": "@jupyter-widgets/base",
      "model_module_version": "1.0.0",
      "model_name": "LayoutModel",
      "state": {}
     },
     "dbd95123ffe94d82a60e7daaad8ae02c": {
      "model_module": "@jupyter-widgets/base",
      "model_module_version": "1.0.0",
      "model_name": "LayoutModel",
      "state": {}
     },
     "dbfedaa7c54a400ea91d46e1ccf18cd6": {
      "model_module": "@jupyter-widgets/controls",
      "model_module_version": "1.2.0",
      "model_name": "SliderStyleModel",
      "state": {
       "description_width": ""
      }
     },
     "dc2cfc26ab974f148a7e54ae5a9fe71e": {
      "model_module": "@jupyter-widgets/base",
      "model_module_version": "1.0.0",
      "model_name": "LayoutModel",
      "state": {}
     },
     "dcc63b9b26f8417bb03126178e33f1d4": {
      "model_module": "@jupyter-widgets/base",
      "model_module_version": "1.0.0",
      "model_name": "LayoutModel",
      "state": {}
     },
     "ddb4ce4f396b4a21a2949a5419758f4b": {
      "model_module": "@jupyter-widgets/base",
      "model_module_version": "1.0.0",
      "model_name": "LayoutModel",
      "state": {}
     },
     "de0ad395bc0149d48eeb0c1f5e2c10f4": {
      "model_module": "@jupyter-widgets/base",
      "model_module_version": "1.0.0",
      "model_name": "LayoutModel",
      "state": {}
     },
     "de462f0af48648489dd0c50f40910a98": {
      "model_module": "@jupyter-widgets/base",
      "model_module_version": "1.0.0",
      "model_name": "LayoutModel",
      "state": {}
     },
     "de612dbad50349ea85b658bfcb93bdd2": {
      "model_module": "@jupyter-widgets/controls",
      "model_module_version": "1.2.0",
      "model_name": "VBoxModel",
      "state": {
       "_dom_classes": [
        "widget-interact"
       ],
       "children": [
        "IPY_MODEL_2f697dbc91ca4553979a5b0904712e98",
        "IPY_MODEL_51c56bc668fc4c9b83dcbbcf818d436b"
       ],
       "layout": "IPY_MODEL_c943e0aebf7c4d22a7a9d81252ef957b"
      }
     },
     "ded5695c960a4210b36d94f5e1382982": {
      "model_module": "@jupyter-widgets/base",
      "model_module_version": "1.0.0",
      "model_name": "LayoutModel",
      "state": {}
     },
     "dfa8202b7bbe463094de6f8c58e72cb7": {
      "model_module": "@jupyter-widgets/base",
      "model_module_version": "1.0.0",
      "model_name": "LayoutModel",
      "state": {}
     },
     "dfe823bd758c4b1781de8b554cd940c1": {
      "model_module": "@jupyter-widgets/controls",
      "model_module_version": "1.2.0",
      "model_name": "VBoxModel",
      "state": {
       "_dom_classes": [
        "widget-interact"
       ],
       "children": [
        "IPY_MODEL_48a49670882244c9abd00bd564915b7d",
        "IPY_MODEL_b44cf96326074e6fbbaa8c835eee7357"
       ],
       "layout": "IPY_MODEL_d37d9036e08749fc82403f539117cf1d"
      }
     },
     "e02c6b196149434fb93f6e62a76f0c50": {
      "model_module": "@jupyter-widgets/controls",
      "model_module_version": "1.2.0",
      "model_name": "VBoxModel",
      "state": {
       "_dom_classes": [
        "widget-interact"
       ],
       "children": [
        "IPY_MODEL_2709c0adf0264f7c94254f53975a5448",
        "IPY_MODEL_279a9847ba6443be805964109a1fea9e"
       ],
       "layout": "IPY_MODEL_7b828a886db04f968da990264d059bda"
      }
     },
     "e1398a192239456fb8835ee40d02ad03": {
      "model_module": "@jupyter-widgets/base",
      "model_module_version": "1.0.0",
      "model_name": "LayoutModel",
      "state": {}
     },
     "e1412420c95143fe97eacf70a6af0500": {
      "model_module": "@jupyter-widgets/output",
      "model_module_version": "1.0.0",
      "model_name": "OutputModel",
      "state": {
       "layout": "IPY_MODEL_9ec6132cdae74f56a763361a07df6413"
      }
     },
     "e1844e02244244119fd5a5d5989c4b6d": {
      "model_module": "@jupyter-widgets/controls",
      "model_module_version": "1.2.0",
      "model_name": "SliderStyleModel",
      "state": {
       "description_width": ""
      }
     },
     "e2206a15da0c46be8eb7fc776f618ed4": {
      "model_module": "@jupyter-widgets/base",
      "model_module_version": "1.0.0",
      "model_name": "LayoutModel",
      "state": {}
     },
     "e301b00f9e454be5b5055f798219bdbc": {
      "model_module": "@jupyter-widgets/base",
      "model_module_version": "1.0.0",
      "model_name": "LayoutModel",
      "state": {}
     },
     "e3a638115d8e41978b484ce73669649d": {
      "model_module": "@jupyter-widgets/output",
      "model_module_version": "1.0.0",
      "model_name": "OutputModel",
      "state": {
       "layout": "IPY_MODEL_b626798809ef4d88b5c1976bebb88398"
      }
     },
     "e3b73aa3f11d4cdc8e4475053918ca6c": {
      "model_module": "@jupyter-widgets/controls",
      "model_module_version": "1.2.0",
      "model_name": "SliderStyleModel",
      "state": {
       "description_width": ""
      }
     },
     "e3b8e6b1a19f4e2da1123e7cd74a7673": {
      "model_module": "@jupyter-widgets/base",
      "model_module_version": "1.0.0",
      "model_name": "LayoutModel",
      "state": {}
     },
     "e3e23f38bfff4ddcad323b4aad1d98e9": {
      "model_module": "@jupyter-widgets/base",
      "model_module_version": "1.0.0",
      "model_name": "LayoutModel",
      "state": {}
     },
     "e434531fc2294fd7b70d7a77b96d15fe": {
      "model_module": "@jupyter-widgets/base",
      "model_module_version": "1.0.0",
      "model_name": "LayoutModel",
      "state": {}
     },
     "e5261d19226e4b139c25517867d87c0a": {
      "model_module": "@jupyter-widgets/controls",
      "model_module_version": "1.2.0",
      "model_name": "VBoxModel",
      "state": {
       "_dom_classes": [
        "widget-interact"
       ],
       "children": [
        "IPY_MODEL_44a3c905b0ad4a4d8a60b409e8bb03fb",
        "IPY_MODEL_a6745d6b46c04811ba969dc5aaeb0891"
       ],
       "layout": "IPY_MODEL_21700c3e0f1b4b9a8c153d5d5e07d3c2"
      }
     },
     "e5c107a064c64bb689c6ca7558abc58e": {
      "model_module": "@jupyter-widgets/base",
      "model_module_version": "1.0.0",
      "model_name": "LayoutModel",
      "state": {}
     },
     "e646f651499e4a7b852dc759cbedf8df": {
      "model_module": "@jupyter-widgets/output",
      "model_module_version": "1.0.0",
      "model_name": "OutputModel",
      "state": {
       "layout": "IPY_MODEL_91fe6a992ff04a1db076e56c213d7a6b"
      }
     },
     "e71b475334bb4e47acda85d9b7f4bed2": {
      "model_module": "@jupyter-widgets/base",
      "model_module_version": "1.0.0",
      "model_name": "LayoutModel",
      "state": {}
     },
     "e75f4407b9464bd7bde1c8d983422388": {
      "model_module": "@jupyter-widgets/controls",
      "model_module_version": "1.2.0",
      "model_name": "SliderStyleModel",
      "state": {
       "description_width": ""
      }
     },
     "e7615e25c973400f98728fcaf6ccb114": {
      "model_module": "@jupyter-widgets/controls",
      "model_module_version": "1.2.0",
      "model_name": "SliderStyleModel",
      "state": {
       "description_width": ""
      }
     },
     "e76920e1bfe1457fbfd0c93773dd13f6": {
      "model_module": "@jupyter-widgets/controls",
      "model_module_version": "1.2.0",
      "model_name": "VBoxModel",
      "state": {
       "_dom_classes": [
        "widget-interact"
       ],
       "children": [
        "IPY_MODEL_f71f57c8476f44ada0a2cea05131873c",
        "IPY_MODEL_40115d844ebc4124b17a116e78134a73"
       ],
       "layout": "IPY_MODEL_cfe1ec7a64b14969b4ef641483614d61"
      }
     },
     "e90f456724084aea81b860d1ad36b2b6": {
      "model_module": "@jupyter-widgets/controls",
      "model_module_version": "1.2.0",
      "model_name": "FloatSliderModel",
      "state": {
       "description": "c",
       "layout": "IPY_MODEL_f9a700c7ed254fe0b16905bd1df5a2f9",
       "max": 3,
       "min": -1,
       "step": 0.1,
       "style": "IPY_MODEL_e75f4407b9464bd7bde1c8d983422388",
       "value": 3
      }
     },
     "e9b7f2bc072944b4bf4f7a17a31cc19f": {
      "model_module": "@jupyter-widgets/base",
      "model_module_version": "1.0.0",
      "model_name": "LayoutModel",
      "state": {}
     },
     "eb5b3b2e04ad47ed80b3c35419df3ed5": {
      "model_module": "@jupyter-widgets/base",
      "model_module_version": "1.0.0",
      "model_name": "LayoutModel",
      "state": {}
     },
     "ef01843c5a474e2595817e815d83783d": {
      "model_module": "@jupyter-widgets/output",
      "model_module_version": "1.0.0",
      "model_name": "OutputModel",
      "state": {
       "layout": "IPY_MODEL_ddb4ce4f396b4a21a2949a5419758f4b"
      }
     },
     "ef645a12cae948f19d3a8e5f9f250a01": {
      "model_module": "@jupyter-widgets/output",
      "model_module_version": "1.0.0",
      "model_name": "OutputModel",
      "state": {
       "layout": "IPY_MODEL_7b11c2f48f4b49d692566a7b86f9dba3"
      }
     },
     "f02fb212ddb54715a79222496ca66491": {
      "model_module": "@jupyter-widgets/controls",
      "model_module_version": "1.2.0",
      "model_name": "SliderStyleModel",
      "state": {
       "description_width": ""
      }
     },
     "f122a34f7ead4c9d9beaf2a97e2a0415": {
      "model_module": "@jupyter-widgets/controls",
      "model_module_version": "1.2.0",
      "model_name": "IntSliderModel",
      "state": {
       "description": "c",
       "layout": "IPY_MODEL_0f31d0d5badf44a8bbe8ff57fcb29208",
       "max": 500,
       "min": -500,
       "style": "IPY_MODEL_dbfedaa7c54a400ea91d46e1ccf18cd6",
       "value": -280
      }
     },
     "f142d837659c4859a7b4b75528091977": {
      "model_module": "@jupyter-widgets/base",
      "model_module_version": "1.0.0",
      "model_name": "LayoutModel",
      "state": {}
     },
     "f14aa17a1eb04e9d98d25791c316fbe7": {
      "model_module": "@jupyter-widgets/controls",
      "model_module_version": "1.2.0",
      "model_name": "SliderStyleModel",
      "state": {
       "description_width": ""
      }
     },
     "f1c9fb2be35e418aa29e0d9b0cf55d84": {
      "model_module": "@jupyter-widgets/controls",
      "model_module_version": "1.2.0",
      "model_name": "SliderStyleModel",
      "state": {
       "description_width": ""
      }
     },
     "f44365a5d123400e8c8b4018f49b05a5": {
      "model_module": "@jupyter-widgets/controls",
      "model_module_version": "1.2.0",
      "model_name": "SliderStyleModel",
      "state": {
       "description_width": ""
      }
     },
     "f5623ef4d1f74648abfe2e178078bd7b": {
      "model_module": "@jupyter-widgets/controls",
      "model_module_version": "1.2.0",
      "model_name": "SliderStyleModel",
      "state": {
       "description_width": ""
      }
     },
     "f5c0bd17c5f241aabde79497e867afeb": {
      "model_module": "@jupyter-widgets/output",
      "model_module_version": "1.0.0",
      "model_name": "OutputModel",
      "state": {
       "layout": "IPY_MODEL_92dd4e7c571343f28bbaf1f6428a4d17"
      }
     },
     "f6358337c7f8456f9c8235599f1ec047": {
      "model_module": "@jupyter-widgets/controls",
      "model_module_version": "1.2.0",
      "model_name": "SliderStyleModel",
      "state": {
       "description_width": ""
      }
     },
     "f6cd26045d154132846c5bcaa91c5dbd": {
      "model_module": "@jupyter-widgets/controls",
      "model_module_version": "1.2.0",
      "model_name": "IntSliderModel",
      "state": {
       "description": "c",
       "layout": "IPY_MODEL_73930bd40eaf4bc98e38ac92dc1f215d",
       "max": 500,
       "min": -500,
       "style": "IPY_MODEL_ac07211b3db0400fbb1750abfe9b7d60",
       "value": -500
      }
     },
     "f70a2bafa9f94759a0cf56e09370bd14": {
      "model_module": "@jupyter-widgets/output",
      "model_module_version": "1.0.0",
      "model_name": "OutputModel",
      "state": {
       "layout": "IPY_MODEL_aabd9935eeaa4ff0a6ecce68902bfaed"
      }
     },
     "f71f57c8476f44ada0a2cea05131873c": {
      "model_module": "@jupyter-widgets/controls",
      "model_module_version": "1.2.0",
      "model_name": "IntSliderModel",
      "state": {
       "description": "c",
       "layout": "IPY_MODEL_8a8c5e0c573d4e399b25bb8b6f59fba2",
       "max": 1000,
       "min": -1000,
       "style": "IPY_MODEL_9ad6fda1616d4637a0be0fa0b7ddbb0c",
       "value": -454
      }
     },
     "f9a700c7ed254fe0b16905bd1df5a2f9": {
      "model_module": "@jupyter-widgets/base",
      "model_module_version": "1.0.0",
      "model_name": "LayoutModel",
      "state": {}
     },
     "fa00e478e62748b48dba7d6e38e9b1ad": {
      "model_module": "@jupyter-widgets/output",
      "model_module_version": "1.0.0",
      "model_name": "OutputModel",
      "state": {
       "layout": "IPY_MODEL_003732ebdcea48e2a8582bb4387cbe8e",
       "outputs": [
        {
         "name": "stderr",
         "output_type": "stream",
         "text": "D:\\AnacondaPython\\lib\\site-packages\\ipykernel_launcher.py:13: RuntimeWarning: divide by zero encountered in log\n  del sys.path[0]\n"
        }
       ]
      }
     },
     "fa5fc02a6c674fd1a7fb7f0da369ea42": {
      "model_module": "@jupyter-widgets/controls",
      "model_module_version": "1.2.0",
      "model_name": "IntSliderModel",
      "state": {
       "description": "d",
       "layout": "IPY_MODEL_427d9d96fbb543a68ebe215d401cda06",
       "max": 500,
       "min": -500,
       "style": "IPY_MODEL_e3b73aa3f11d4cdc8e4475053918ca6c",
       "value": 1
      }
     },
     "fa66ea035e5d431f8aa81aa4ceda4d18": {
      "model_module": "@jupyter-widgets/controls",
      "model_module_version": "1.2.0",
      "model_name": "FloatSliderModel",
      "state": {
       "description": "d",
       "layout": "IPY_MODEL_fbb7c4e6a712454db7603b53ff3445ba",
       "max": 3,
       "min": -1,
       "step": 0.1,
       "style": "IPY_MODEL_31c43c75b7c847faa6691221881af7ec",
       "value": 1
      }
     },
     "fbb7c4e6a712454db7603b53ff3445ba": {
      "model_module": "@jupyter-widgets/base",
      "model_module_version": "1.0.0",
      "model_name": "LayoutModel",
      "state": {}
     },
     "fbcbe4f68fa44a349087610982df5998": {
      "model_module": "@jupyter-widgets/base",
      "model_module_version": "1.0.0",
      "model_name": "LayoutModel",
      "state": {}
     },
     "fcdf1c11f44044c2ab9509bc9e85689f": {
      "model_module": "@jupyter-widgets/base",
      "model_module_version": "1.0.0",
      "model_name": "LayoutModel",
      "state": {}
     },
     "fe0a116a51864131893ce459acd9b1c9": {
      "model_module": "@jupyter-widgets/base",
      "model_module_version": "1.0.0",
      "model_name": "LayoutModel",
      "state": {}
     },
     "ff4e816c39514bae8e514ba35ae3236f": {
      "model_module": "@jupyter-widgets/output",
      "model_module_version": "1.0.0",
      "model_name": "OutputModel",
      "state": {
       "layout": "IPY_MODEL_5832095086ea4614b81496c512e4aee5"
      }
     },
     "fff48b312de94731af9854f0548baf69": {
      "model_module": "@jupyter-widgets/controls",
      "model_module_version": "1.2.0",
      "model_name": "SliderStyleModel",
      "state": {
       "description_width": ""
      }
     }
    },
    "version_major": 2,
    "version_minor": 0
   }
  }
 },
 "nbformat": 4,
 "nbformat_minor": 2
}
