{
 "cells": [
  {
   "cell_type": "markdown",
   "metadata": {},
   "source": [
    "# Горбатый потенциал"
   ]
  },
  {
   "cell_type": "markdown",
   "metadata": {},
   "source": [
    "Мы будем искать решения стационарного уравнения Шрёдингера следующего вида:\n",
    "$$(-\\frac {d^2} {dx^2}  + \\frac {c} {cosh(x)} - \\frac {c} {cosh(a)} ) \\psi = k \\cdot \\psi $$\n",
    "С нулевыми граничными условиями при $|x|=a=1$"
   ]
  },
  {
   "cell_type": "code",
   "execution_count": 2,
   "metadata": {},
   "outputs": [
    {
     "data": {
      "application/javascript": [
       "/* Put everything inside the global mpl namespace */\n",
       "window.mpl = {};\n",
       "\n",
       "\n",
       "mpl.get_websocket_type = function() {\n",
       "    if (typeof(WebSocket) !== 'undefined') {\n",
       "        return WebSocket;\n",
       "    } else if (typeof(MozWebSocket) !== 'undefined') {\n",
       "        return MozWebSocket;\n",
       "    } else {\n",
       "        alert('Your browser does not have WebSocket support.' +\n",
       "              'Please try Chrome, Safari or Firefox ≥ 6. ' +\n",
       "              'Firefox 4 and 5 are also supported but you ' +\n",
       "              'have to enable WebSockets in about:config.');\n",
       "    };\n",
       "}\n",
       "\n",
       "mpl.figure = function(figure_id, websocket, ondownload, parent_element) {\n",
       "    this.id = figure_id;\n",
       "\n",
       "    this.ws = websocket;\n",
       "\n",
       "    this.supports_binary = (this.ws.binaryType != undefined);\n",
       "\n",
       "    if (!this.supports_binary) {\n",
       "        var warnings = document.getElementById(\"mpl-warnings\");\n",
       "        if (warnings) {\n",
       "            warnings.style.display = 'block';\n",
       "            warnings.textContent = (\n",
       "                \"This browser does not support binary websocket messages. \" +\n",
       "                    \"Performance may be slow.\");\n",
       "        }\n",
       "    }\n",
       "\n",
       "    this.imageObj = new Image();\n",
       "\n",
       "    this.context = undefined;\n",
       "    this.message = undefined;\n",
       "    this.canvas = undefined;\n",
       "    this.rubberband_canvas = undefined;\n",
       "    this.rubberband_context = undefined;\n",
       "    this.format_dropdown = undefined;\n",
       "\n",
       "    this.image_mode = 'full';\n",
       "\n",
       "    this.root = $('<div/>');\n",
       "    this._root_extra_style(this.root)\n",
       "    this.root.attr('style', 'display: inline-block');\n",
       "\n",
       "    $(parent_element).append(this.root);\n",
       "\n",
       "    this._init_header(this);\n",
       "    this._init_canvas(this);\n",
       "    this._init_toolbar(this);\n",
       "\n",
       "    var fig = this;\n",
       "\n",
       "    this.waiting = false;\n",
       "\n",
       "    this.ws.onopen =  function () {\n",
       "            fig.send_message(\"supports_binary\", {value: fig.supports_binary});\n",
       "            fig.send_message(\"send_image_mode\", {});\n",
       "            if (mpl.ratio != 1) {\n",
       "                fig.send_message(\"set_dpi_ratio\", {'dpi_ratio': mpl.ratio});\n",
       "            }\n",
       "            fig.send_message(\"refresh\", {});\n",
       "        }\n",
       "\n",
       "    this.imageObj.onload = function() {\n",
       "            if (fig.image_mode == 'full') {\n",
       "                // Full images could contain transparency (where diff images\n",
       "                // almost always do), so we need to clear the canvas so that\n",
       "                // there is no ghosting.\n",
       "                fig.context.clearRect(0, 0, fig.canvas.width, fig.canvas.height);\n",
       "            }\n",
       "            fig.context.drawImage(fig.imageObj, 0, 0);\n",
       "        };\n",
       "\n",
       "    this.imageObj.onunload = function() {\n",
       "        fig.ws.close();\n",
       "    }\n",
       "\n",
       "    this.ws.onmessage = this._make_on_message_function(this);\n",
       "\n",
       "    this.ondownload = ondownload;\n",
       "}\n",
       "\n",
       "mpl.figure.prototype._init_header = function() {\n",
       "    var titlebar = $(\n",
       "        '<div class=\"ui-dialog-titlebar ui-widget-header ui-corner-all ' +\n",
       "        'ui-helper-clearfix\"/>');\n",
       "    var titletext = $(\n",
       "        '<div class=\"ui-dialog-title\" style=\"width: 100%; ' +\n",
       "        'text-align: center; padding: 3px;\"/>');\n",
       "    titlebar.append(titletext)\n",
       "    this.root.append(titlebar);\n",
       "    this.header = titletext[0];\n",
       "}\n",
       "\n",
       "\n",
       "\n",
       "mpl.figure.prototype._canvas_extra_style = function(canvas_div) {\n",
       "\n",
       "}\n",
       "\n",
       "\n",
       "mpl.figure.prototype._root_extra_style = function(canvas_div) {\n",
       "\n",
       "}\n",
       "\n",
       "mpl.figure.prototype._init_canvas = function() {\n",
       "    var fig = this;\n",
       "\n",
       "    var canvas_div = $('<div/>');\n",
       "\n",
       "    canvas_div.attr('style', 'position: relative; clear: both; outline: 0');\n",
       "\n",
       "    function canvas_keyboard_event(event) {\n",
       "        return fig.key_event(event, event['data']);\n",
       "    }\n",
       "\n",
       "    canvas_div.keydown('key_press', canvas_keyboard_event);\n",
       "    canvas_div.keyup('key_release', canvas_keyboard_event);\n",
       "    this.canvas_div = canvas_div\n",
       "    this._canvas_extra_style(canvas_div)\n",
       "    this.root.append(canvas_div);\n",
       "\n",
       "    var canvas = $('<canvas/>');\n",
       "    canvas.addClass('mpl-canvas');\n",
       "    canvas.attr('style', \"left: 0; top: 0; z-index: 0; outline: 0\")\n",
       "\n",
       "    this.canvas = canvas[0];\n",
       "    this.context = canvas[0].getContext(\"2d\");\n",
       "\n",
       "    var backingStore = this.context.backingStorePixelRatio ||\n",
       "\tthis.context.webkitBackingStorePixelRatio ||\n",
       "\tthis.context.mozBackingStorePixelRatio ||\n",
       "\tthis.context.msBackingStorePixelRatio ||\n",
       "\tthis.context.oBackingStorePixelRatio ||\n",
       "\tthis.context.backingStorePixelRatio || 1;\n",
       "\n",
       "    mpl.ratio = (window.devicePixelRatio || 1) / backingStore;\n",
       "\n",
       "    var rubberband = $('<canvas/>');\n",
       "    rubberband.attr('style', \"position: absolute; left: 0; top: 0; z-index: 1;\")\n",
       "\n",
       "    var pass_mouse_events = true;\n",
       "\n",
       "    canvas_div.resizable({\n",
       "        start: function(event, ui) {\n",
       "            pass_mouse_events = false;\n",
       "        },\n",
       "        resize: function(event, ui) {\n",
       "            fig.request_resize(ui.size.width, ui.size.height);\n",
       "        },\n",
       "        stop: function(event, ui) {\n",
       "            pass_mouse_events = true;\n",
       "            fig.request_resize(ui.size.width, ui.size.height);\n",
       "        },\n",
       "    });\n",
       "\n",
       "    function mouse_event_fn(event) {\n",
       "        if (pass_mouse_events)\n",
       "            return fig.mouse_event(event, event['data']);\n",
       "    }\n",
       "\n",
       "    rubberband.mousedown('button_press', mouse_event_fn);\n",
       "    rubberband.mouseup('button_release', mouse_event_fn);\n",
       "    // Throttle sequential mouse events to 1 every 20ms.\n",
       "    rubberband.mousemove('motion_notify', mouse_event_fn);\n",
       "\n",
       "    rubberband.mouseenter('figure_enter', mouse_event_fn);\n",
       "    rubberband.mouseleave('figure_leave', mouse_event_fn);\n",
       "\n",
       "    canvas_div.on(\"wheel\", function (event) {\n",
       "        event = event.originalEvent;\n",
       "        event['data'] = 'scroll'\n",
       "        if (event.deltaY < 0) {\n",
       "            event.step = 1;\n",
       "        } else {\n",
       "            event.step = -1;\n",
       "        }\n",
       "        mouse_event_fn(event);\n",
       "    });\n",
       "\n",
       "    canvas_div.append(canvas);\n",
       "    canvas_div.append(rubberband);\n",
       "\n",
       "    this.rubberband = rubberband;\n",
       "    this.rubberband_canvas = rubberband[0];\n",
       "    this.rubberband_context = rubberband[0].getContext(\"2d\");\n",
       "    this.rubberband_context.strokeStyle = \"#000000\";\n",
       "\n",
       "    this._resize_canvas = function(width, height) {\n",
       "        // Keep the size of the canvas, canvas container, and rubber band\n",
       "        // canvas in synch.\n",
       "        canvas_div.css('width', width)\n",
       "        canvas_div.css('height', height)\n",
       "\n",
       "        canvas.attr('width', width * mpl.ratio);\n",
       "        canvas.attr('height', height * mpl.ratio);\n",
       "        canvas.attr('style', 'width: ' + width + 'px; height: ' + height + 'px;');\n",
       "\n",
       "        rubberband.attr('width', width);\n",
       "        rubberband.attr('height', height);\n",
       "    }\n",
       "\n",
       "    // Set the figure to an initial 600x600px, this will subsequently be updated\n",
       "    // upon first draw.\n",
       "    this._resize_canvas(600, 600);\n",
       "\n",
       "    // Disable right mouse context menu.\n",
       "    $(this.rubberband_canvas).bind(\"contextmenu\",function(e){\n",
       "        return false;\n",
       "    });\n",
       "\n",
       "    function set_focus () {\n",
       "        canvas.focus();\n",
       "        canvas_div.focus();\n",
       "    }\n",
       "\n",
       "    window.setTimeout(set_focus, 100);\n",
       "}\n",
       "\n",
       "mpl.figure.prototype._init_toolbar = function() {\n",
       "    var fig = this;\n",
       "\n",
       "    var nav_element = $('<div/>')\n",
       "    nav_element.attr('style', 'width: 100%');\n",
       "    this.root.append(nav_element);\n",
       "\n",
       "    // Define a callback function for later on.\n",
       "    function toolbar_event(event) {\n",
       "        return fig.toolbar_button_onclick(event['data']);\n",
       "    }\n",
       "    function toolbar_mouse_event(event) {\n",
       "        return fig.toolbar_button_onmouseover(event['data']);\n",
       "    }\n",
       "\n",
       "    for(var toolbar_ind in mpl.toolbar_items) {\n",
       "        var name = mpl.toolbar_items[toolbar_ind][0];\n",
       "        var tooltip = mpl.toolbar_items[toolbar_ind][1];\n",
       "        var image = mpl.toolbar_items[toolbar_ind][2];\n",
       "        var method_name = mpl.toolbar_items[toolbar_ind][3];\n",
       "\n",
       "        if (!name) {\n",
       "            // put a spacer in here.\n",
       "            continue;\n",
       "        }\n",
       "        var button = $('<button/>');\n",
       "        button.addClass('ui-button ui-widget ui-state-default ui-corner-all ' +\n",
       "                        'ui-button-icon-only');\n",
       "        button.attr('role', 'button');\n",
       "        button.attr('aria-disabled', 'false');\n",
       "        button.click(method_name, toolbar_event);\n",
       "        button.mouseover(tooltip, toolbar_mouse_event);\n",
       "\n",
       "        var icon_img = $('<span/>');\n",
       "        icon_img.addClass('ui-button-icon-primary ui-icon');\n",
       "        icon_img.addClass(image);\n",
       "        icon_img.addClass('ui-corner-all');\n",
       "\n",
       "        var tooltip_span = $('<span/>');\n",
       "        tooltip_span.addClass('ui-button-text');\n",
       "        tooltip_span.html(tooltip);\n",
       "\n",
       "        button.append(icon_img);\n",
       "        button.append(tooltip_span);\n",
       "\n",
       "        nav_element.append(button);\n",
       "    }\n",
       "\n",
       "    var fmt_picker_span = $('<span/>');\n",
       "\n",
       "    var fmt_picker = $('<select/>');\n",
       "    fmt_picker.addClass('mpl-toolbar-option ui-widget ui-widget-content');\n",
       "    fmt_picker_span.append(fmt_picker);\n",
       "    nav_element.append(fmt_picker_span);\n",
       "    this.format_dropdown = fmt_picker[0];\n",
       "\n",
       "    for (var ind in mpl.extensions) {\n",
       "        var fmt = mpl.extensions[ind];\n",
       "        var option = $(\n",
       "            '<option/>', {selected: fmt === mpl.default_extension}).html(fmt);\n",
       "        fmt_picker.append(option)\n",
       "    }\n",
       "\n",
       "    // Add hover states to the ui-buttons\n",
       "    $( \".ui-button\" ).hover(\n",
       "        function() { $(this).addClass(\"ui-state-hover\");},\n",
       "        function() { $(this).removeClass(\"ui-state-hover\");}\n",
       "    );\n",
       "\n",
       "    var status_bar = $('<span class=\"mpl-message\"/>');\n",
       "    nav_element.append(status_bar);\n",
       "    this.message = status_bar[0];\n",
       "}\n",
       "\n",
       "mpl.figure.prototype.request_resize = function(x_pixels, y_pixels) {\n",
       "    // Request matplotlib to resize the figure. Matplotlib will then trigger a resize in the client,\n",
       "    // which will in turn request a refresh of the image.\n",
       "    this.send_message('resize', {'width': x_pixels, 'height': y_pixels});\n",
       "}\n",
       "\n",
       "mpl.figure.prototype.send_message = function(type, properties) {\n",
       "    properties['type'] = type;\n",
       "    properties['figure_id'] = this.id;\n",
       "    this.ws.send(JSON.stringify(properties));\n",
       "}\n",
       "\n",
       "mpl.figure.prototype.send_draw_message = function() {\n",
       "    if (!this.waiting) {\n",
       "        this.waiting = true;\n",
       "        this.ws.send(JSON.stringify({type: \"draw\", figure_id: this.id}));\n",
       "    }\n",
       "}\n",
       "\n",
       "\n",
       "mpl.figure.prototype.handle_save = function(fig, msg) {\n",
       "    var format_dropdown = fig.format_dropdown;\n",
       "    var format = format_dropdown.options[format_dropdown.selectedIndex].value;\n",
       "    fig.ondownload(fig, format);\n",
       "}\n",
       "\n",
       "\n",
       "mpl.figure.prototype.handle_resize = function(fig, msg) {\n",
       "    var size = msg['size'];\n",
       "    if (size[0] != fig.canvas.width || size[1] != fig.canvas.height) {\n",
       "        fig._resize_canvas(size[0], size[1]);\n",
       "        fig.send_message(\"refresh\", {});\n",
       "    };\n",
       "}\n",
       "\n",
       "mpl.figure.prototype.handle_rubberband = function(fig, msg) {\n",
       "    var x0 = msg['x0'] / mpl.ratio;\n",
       "    var y0 = (fig.canvas.height - msg['y0']) / mpl.ratio;\n",
       "    var x1 = msg['x1'] / mpl.ratio;\n",
       "    var y1 = (fig.canvas.height - msg['y1']) / mpl.ratio;\n",
       "    x0 = Math.floor(x0) + 0.5;\n",
       "    y0 = Math.floor(y0) + 0.5;\n",
       "    x1 = Math.floor(x1) + 0.5;\n",
       "    y1 = Math.floor(y1) + 0.5;\n",
       "    var min_x = Math.min(x0, x1);\n",
       "    var min_y = Math.min(y0, y1);\n",
       "    var width = Math.abs(x1 - x0);\n",
       "    var height = Math.abs(y1 - y0);\n",
       "\n",
       "    fig.rubberband_context.clearRect(\n",
       "        0, 0, fig.canvas.width, fig.canvas.height);\n",
       "\n",
       "    fig.rubberband_context.strokeRect(min_x, min_y, width, height);\n",
       "}\n",
       "\n",
       "mpl.figure.prototype.handle_figure_label = function(fig, msg) {\n",
       "    // Updates the figure title.\n",
       "    fig.header.textContent = msg['label'];\n",
       "}\n",
       "\n",
       "mpl.figure.prototype.handle_cursor = function(fig, msg) {\n",
       "    var cursor = msg['cursor'];\n",
       "    switch(cursor)\n",
       "    {\n",
       "    case 0:\n",
       "        cursor = 'pointer';\n",
       "        break;\n",
       "    case 1:\n",
       "        cursor = 'default';\n",
       "        break;\n",
       "    case 2:\n",
       "        cursor = 'crosshair';\n",
       "        break;\n",
       "    case 3:\n",
       "        cursor = 'move';\n",
       "        break;\n",
       "    }\n",
       "    fig.rubberband_canvas.style.cursor = cursor;\n",
       "}\n",
       "\n",
       "mpl.figure.prototype.handle_message = function(fig, msg) {\n",
       "    fig.message.textContent = msg['message'];\n",
       "}\n",
       "\n",
       "mpl.figure.prototype.handle_draw = function(fig, msg) {\n",
       "    // Request the server to send over a new figure.\n",
       "    fig.send_draw_message();\n",
       "}\n",
       "\n",
       "mpl.figure.prototype.handle_image_mode = function(fig, msg) {\n",
       "    fig.image_mode = msg['mode'];\n",
       "}\n",
       "\n",
       "mpl.figure.prototype.updated_canvas_event = function() {\n",
       "    // Called whenever the canvas gets updated.\n",
       "    this.send_message(\"ack\", {});\n",
       "}\n",
       "\n",
       "// A function to construct a web socket function for onmessage handling.\n",
       "// Called in the figure constructor.\n",
       "mpl.figure.prototype._make_on_message_function = function(fig) {\n",
       "    return function socket_on_message(evt) {\n",
       "        if (evt.data instanceof Blob) {\n",
       "            /* FIXME: We get \"Resource interpreted as Image but\n",
       "             * transferred with MIME type text/plain:\" errors on\n",
       "             * Chrome.  But how to set the MIME type?  It doesn't seem\n",
       "             * to be part of the websocket stream */\n",
       "            evt.data.type = \"image/png\";\n",
       "\n",
       "            /* Free the memory for the previous frames */\n",
       "            if (fig.imageObj.src) {\n",
       "                (window.URL || window.webkitURL).revokeObjectURL(\n",
       "                    fig.imageObj.src);\n",
       "            }\n",
       "\n",
       "            fig.imageObj.src = (window.URL || window.webkitURL).createObjectURL(\n",
       "                evt.data);\n",
       "            fig.updated_canvas_event();\n",
       "            fig.waiting = false;\n",
       "            return;\n",
       "        }\n",
       "        else if (typeof evt.data === 'string' && evt.data.slice(0, 21) == \"data:image/png;base64\") {\n",
       "            fig.imageObj.src = evt.data;\n",
       "            fig.updated_canvas_event();\n",
       "            fig.waiting = false;\n",
       "            return;\n",
       "        }\n",
       "\n",
       "        var msg = JSON.parse(evt.data);\n",
       "        var msg_type = msg['type'];\n",
       "\n",
       "        // Call the  \"handle_{type}\" callback, which takes\n",
       "        // the figure and JSON message as its only arguments.\n",
       "        try {\n",
       "            var callback = fig[\"handle_\" + msg_type];\n",
       "        } catch (e) {\n",
       "            console.log(\"No handler for the '\" + msg_type + \"' message type: \", msg);\n",
       "            return;\n",
       "        }\n",
       "\n",
       "        if (callback) {\n",
       "            try {\n",
       "                // console.log(\"Handling '\" + msg_type + \"' message: \", msg);\n",
       "                callback(fig, msg);\n",
       "            } catch (e) {\n",
       "                console.log(\"Exception inside the 'handler_\" + msg_type + \"' callback:\", e, e.stack, msg);\n",
       "            }\n",
       "        }\n",
       "    };\n",
       "}\n",
       "\n",
       "// from http://stackoverflow.com/questions/1114465/getting-mouse-location-in-canvas\n",
       "mpl.findpos = function(e) {\n",
       "    //this section is from http://www.quirksmode.org/js/events_properties.html\n",
       "    var targ;\n",
       "    if (!e)\n",
       "        e = window.event;\n",
       "    if (e.target)\n",
       "        targ = e.target;\n",
       "    else if (e.srcElement)\n",
       "        targ = e.srcElement;\n",
       "    if (targ.nodeType == 3) // defeat Safari bug\n",
       "        targ = targ.parentNode;\n",
       "\n",
       "    // jQuery normalizes the pageX and pageY\n",
       "    // pageX,Y are the mouse positions relative to the document\n",
       "    // offset() returns the position of the element relative to the document\n",
       "    var x = e.pageX - $(targ).offset().left;\n",
       "    var y = e.pageY - $(targ).offset().top;\n",
       "\n",
       "    return {\"x\": x, \"y\": y};\n",
       "};\n",
       "\n",
       "/*\n",
       " * return a copy of an object with only non-object keys\n",
       " * we need this to avoid circular references\n",
       " * http://stackoverflow.com/a/24161582/3208463\n",
       " */\n",
       "function simpleKeys (original) {\n",
       "  return Object.keys(original).reduce(function (obj, key) {\n",
       "    if (typeof original[key] !== 'object')\n",
       "        obj[key] = original[key]\n",
       "    return obj;\n",
       "  }, {});\n",
       "}\n",
       "\n",
       "mpl.figure.prototype.mouse_event = function(event, name) {\n",
       "    var canvas_pos = mpl.findpos(event)\n",
       "\n",
       "    if (name === 'button_press')\n",
       "    {\n",
       "        this.canvas.focus();\n",
       "        this.canvas_div.focus();\n",
       "    }\n",
       "\n",
       "    var x = canvas_pos.x * mpl.ratio;\n",
       "    var y = canvas_pos.y * mpl.ratio;\n",
       "\n",
       "    this.send_message(name, {x: x, y: y, button: event.button,\n",
       "                             step: event.step,\n",
       "                             guiEvent: simpleKeys(event)});\n",
       "\n",
       "    /* This prevents the web browser from automatically changing to\n",
       "     * the text insertion cursor when the button is pressed.  We want\n",
       "     * to control all of the cursor setting manually through the\n",
       "     * 'cursor' event from matplotlib */\n",
       "    event.preventDefault();\n",
       "    return false;\n",
       "}\n",
       "\n",
       "mpl.figure.prototype._key_event_extra = function(event, name) {\n",
       "    // Handle any extra behaviour associated with a key event\n",
       "}\n",
       "\n",
       "mpl.figure.prototype.key_event = function(event, name) {\n",
       "\n",
       "    // Prevent repeat events\n",
       "    if (name == 'key_press')\n",
       "    {\n",
       "        if (event.which === this._key)\n",
       "            return;\n",
       "        else\n",
       "            this._key = event.which;\n",
       "    }\n",
       "    if (name == 'key_release')\n",
       "        this._key = null;\n",
       "\n",
       "    var value = '';\n",
       "    if (event.ctrlKey && event.which != 17)\n",
       "        value += \"ctrl+\";\n",
       "    if (event.altKey && event.which != 18)\n",
       "        value += \"alt+\";\n",
       "    if (event.shiftKey && event.which != 16)\n",
       "        value += \"shift+\";\n",
       "\n",
       "    value += 'k';\n",
       "    value += event.which.toString();\n",
       "\n",
       "    this._key_event_extra(event, name);\n",
       "\n",
       "    this.send_message(name, {key: value,\n",
       "                             guiEvent: simpleKeys(event)});\n",
       "    return false;\n",
       "}\n",
       "\n",
       "mpl.figure.prototype.toolbar_button_onclick = function(name) {\n",
       "    if (name == 'download') {\n",
       "        this.handle_save(this, null);\n",
       "    } else {\n",
       "        this.send_message(\"toolbar_button\", {name: name});\n",
       "    }\n",
       "};\n",
       "\n",
       "mpl.figure.prototype.toolbar_button_onmouseover = function(tooltip) {\n",
       "    this.message.textContent = tooltip;\n",
       "};\n",
       "mpl.toolbar_items = [[\"Home\", \"Reset original view\", \"fa fa-home icon-home\", \"home\"], [\"Back\", \"Back to  previous view\", \"fa fa-arrow-left icon-arrow-left\", \"back\"], [\"Forward\", \"Forward to next view\", \"fa fa-arrow-right icon-arrow-right\", \"forward\"], [\"\", \"\", \"\", \"\"], [\"Pan\", \"Pan axes with left mouse, zoom with right\", \"fa fa-arrows icon-move\", \"pan\"], [\"Zoom\", \"Zoom to rectangle\", \"fa fa-square-o icon-check-empty\", \"zoom\"], [\"\", \"\", \"\", \"\"], [\"Download\", \"Download plot\", \"fa fa-floppy-o icon-save\", \"download\"]];\n",
       "\n",
       "mpl.extensions = [\"eps\", \"jpeg\", \"pdf\", \"png\", \"ps\", \"raw\", \"svg\", \"tif\"];\n",
       "\n",
       "mpl.default_extension = \"png\";var comm_websocket_adapter = function(comm) {\n",
       "    // Create a \"websocket\"-like object which calls the given IPython comm\n",
       "    // object with the appropriate methods. Currently this is a non binary\n",
       "    // socket, so there is still some room for performance tuning.\n",
       "    var ws = {};\n",
       "\n",
       "    ws.close = function() {\n",
       "        comm.close()\n",
       "    };\n",
       "    ws.send = function(m) {\n",
       "        //console.log('sending', m);\n",
       "        comm.send(m);\n",
       "    };\n",
       "    // Register the callback with on_msg.\n",
       "    comm.on_msg(function(msg) {\n",
       "        //console.log('receiving', msg['content']['data'], msg);\n",
       "        // Pass the mpl event to the overridden (by mpl) onmessage function.\n",
       "        ws.onmessage(msg['content']['data'])\n",
       "    });\n",
       "    return ws;\n",
       "}\n",
       "\n",
       "mpl.mpl_figure_comm = function(comm, msg) {\n",
       "    // This is the function which gets called when the mpl process\n",
       "    // starts-up an IPython Comm through the \"matplotlib\" channel.\n",
       "\n",
       "    var id = msg.content.data.id;\n",
       "    // Get hold of the div created by the display call when the Comm\n",
       "    // socket was opened in Python.\n",
       "    var element = $(\"#\" + id);\n",
       "    var ws_proxy = comm_websocket_adapter(comm)\n",
       "\n",
       "    function ondownload(figure, format) {\n",
       "        window.open(figure.imageObj.src);\n",
       "    }\n",
       "\n",
       "    var fig = new mpl.figure(id, ws_proxy,\n",
       "                           ondownload,\n",
       "                           element.get(0));\n",
       "\n",
       "    // Call onopen now - mpl needs it, as it is assuming we've passed it a real\n",
       "    // web socket which is closed, not our websocket->open comm proxy.\n",
       "    ws_proxy.onopen();\n",
       "\n",
       "    fig.parent_element = element.get(0);\n",
       "    fig.cell_info = mpl.find_output_cell(\"<div id='\" + id + \"'></div>\");\n",
       "    if (!fig.cell_info) {\n",
       "        console.error(\"Failed to find cell for figure\", id, fig);\n",
       "        return;\n",
       "    }\n",
       "\n",
       "    var output_index = fig.cell_info[2]\n",
       "    var cell = fig.cell_info[0];\n",
       "\n",
       "};\n",
       "\n",
       "mpl.figure.prototype.handle_close = function(fig, msg) {\n",
       "    var width = fig.canvas.width/mpl.ratio\n",
       "    fig.root.unbind('remove')\n",
       "\n",
       "    // Update the output cell to use the data from the current canvas.\n",
       "    fig.push_to_output();\n",
       "    var dataURL = fig.canvas.toDataURL();\n",
       "    // Re-enable the keyboard manager in IPython - without this line, in FF,\n",
       "    // the notebook keyboard shortcuts fail.\n",
       "    IPython.keyboard_manager.enable()\n",
       "    $(fig.parent_element).html('<img src=\"' + dataURL + '\" width=\"' + width + '\">');\n",
       "    fig.close_ws(fig, msg);\n",
       "}\n",
       "\n",
       "mpl.figure.prototype.close_ws = function(fig, msg){\n",
       "    fig.send_message('closing', msg);\n",
       "    // fig.ws.close()\n",
       "}\n",
       "\n",
       "mpl.figure.prototype.push_to_output = function(remove_interactive) {\n",
       "    // Turn the data on the canvas into data in the output cell.\n",
       "    var width = this.canvas.width/mpl.ratio\n",
       "    var dataURL = this.canvas.toDataURL();\n",
       "    this.cell_info[1]['text/html'] = '<img src=\"' + dataURL + '\" width=\"' + width + '\">';\n",
       "}\n",
       "\n",
       "mpl.figure.prototype.updated_canvas_event = function() {\n",
       "    // Tell IPython that the notebook contents must change.\n",
       "    IPython.notebook.set_dirty(true);\n",
       "    this.send_message(\"ack\", {});\n",
       "    var fig = this;\n",
       "    // Wait a second, then push the new image to the DOM so\n",
       "    // that it is saved nicely (might be nice to debounce this).\n",
       "    setTimeout(function () { fig.push_to_output() }, 1000);\n",
       "}\n",
       "\n",
       "mpl.figure.prototype._init_toolbar = function() {\n",
       "    var fig = this;\n",
       "\n",
       "    var nav_element = $('<div/>')\n",
       "    nav_element.attr('style', 'width: 100%');\n",
       "    this.root.append(nav_element);\n",
       "\n",
       "    // Define a callback function for later on.\n",
       "    function toolbar_event(event) {\n",
       "        return fig.toolbar_button_onclick(event['data']);\n",
       "    }\n",
       "    function toolbar_mouse_event(event) {\n",
       "        return fig.toolbar_button_onmouseover(event['data']);\n",
       "    }\n",
       "\n",
       "    for(var toolbar_ind in mpl.toolbar_items){\n",
       "        var name = mpl.toolbar_items[toolbar_ind][0];\n",
       "        var tooltip = mpl.toolbar_items[toolbar_ind][1];\n",
       "        var image = mpl.toolbar_items[toolbar_ind][2];\n",
       "        var method_name = mpl.toolbar_items[toolbar_ind][3];\n",
       "\n",
       "        if (!name) { continue; };\n",
       "\n",
       "        var button = $('<button class=\"btn btn-default\" href=\"#\" title=\"' + name + '\"><i class=\"fa ' + image + ' fa-lg\"></i></button>');\n",
       "        button.click(method_name, toolbar_event);\n",
       "        button.mouseover(tooltip, toolbar_mouse_event);\n",
       "        nav_element.append(button);\n",
       "    }\n",
       "\n",
       "    // Add the status bar.\n",
       "    var status_bar = $('<span class=\"mpl-message\" style=\"text-align:right; float: right;\"/>');\n",
       "    nav_element.append(status_bar);\n",
       "    this.message = status_bar[0];\n",
       "\n",
       "    // Add the close button to the window.\n",
       "    var buttongrp = $('<div class=\"btn-group inline pull-right\"></div>');\n",
       "    var button = $('<button class=\"btn btn-mini btn-primary\" href=\"#\" title=\"Stop Interaction\"><i class=\"fa fa-power-off icon-remove icon-large\"></i></button>');\n",
       "    button.click(function (evt) { fig.handle_close(fig, {}); } );\n",
       "    button.mouseover('Stop Interaction', toolbar_mouse_event);\n",
       "    buttongrp.append(button);\n",
       "    var titlebar = this.root.find($('.ui-dialog-titlebar'));\n",
       "    titlebar.prepend(buttongrp);\n",
       "}\n",
       "\n",
       "mpl.figure.prototype._root_extra_style = function(el){\n",
       "    var fig = this\n",
       "    el.on(\"remove\", function(){\n",
       "\tfig.close_ws(fig, {});\n",
       "    });\n",
       "}\n",
       "\n",
       "mpl.figure.prototype._canvas_extra_style = function(el){\n",
       "    // this is important to make the div 'focusable\n",
       "    el.attr('tabindex', 0)\n",
       "    // reach out to IPython and tell the keyboard manager to turn it's self\n",
       "    // off when our div gets focus\n",
       "\n",
       "    // location in version 3\n",
       "    if (IPython.notebook.keyboard_manager) {\n",
       "        IPython.notebook.keyboard_manager.register_events(el);\n",
       "    }\n",
       "    else {\n",
       "        // location in version 2\n",
       "        IPython.keyboard_manager.register_events(el);\n",
       "    }\n",
       "\n",
       "}\n",
       "\n",
       "mpl.figure.prototype._key_event_extra = function(event, name) {\n",
       "    var manager = IPython.notebook.keyboard_manager;\n",
       "    if (!manager)\n",
       "        manager = IPython.keyboard_manager;\n",
       "\n",
       "    // Check for shift+enter\n",
       "    if (event.shiftKey && event.which == 13) {\n",
       "        this.canvas_div.blur();\n",
       "        event.shiftKey = false;\n",
       "        // Send a \"J\" for go to next cell\n",
       "        event.which = 74;\n",
       "        event.keyCode = 74;\n",
       "        manager.command_mode();\n",
       "        manager.handle_keydown(event);\n",
       "    }\n",
       "}\n",
       "\n",
       "mpl.figure.prototype.handle_save = function(fig, msg) {\n",
       "    fig.ondownload(fig, null);\n",
       "}\n",
       "\n",
       "\n",
       "mpl.find_output_cell = function(html_output) {\n",
       "    // Return the cell and output element which can be found *uniquely* in the notebook.\n",
       "    // Note - this is a bit hacky, but it is done because the \"notebook_saving.Notebook\"\n",
       "    // IPython event is triggered only after the cells have been serialised, which for\n",
       "    // our purposes (turning an active figure into a static one), is too late.\n",
       "    var cells = IPython.notebook.get_cells();\n",
       "    var ncells = cells.length;\n",
       "    for (var i=0; i<ncells; i++) {\n",
       "        var cell = cells[i];\n",
       "        if (cell.cell_type === 'code'){\n",
       "            for (var j=0; j<cell.output_area.outputs.length; j++) {\n",
       "                var data = cell.output_area.outputs[j];\n",
       "                if (data.data) {\n",
       "                    // IPython >= 3 moved mimebundle to data attribute of output\n",
       "                    data = data.data;\n",
       "                }\n",
       "                if (data['text/html'] == html_output) {\n",
       "                    return [cell, data, j];\n",
       "                }\n",
       "            }\n",
       "        }\n",
       "    }\n",
       "}\n",
       "\n",
       "// Register the function which deals with the matplotlib target/channel.\n",
       "// The kernel may be null if the page has been refreshed.\n",
       "if (IPython.notebook.kernel != null) {\n",
       "    IPython.notebook.kernel.comm_manager.register_target('matplotlib', mpl.mpl_figure_comm);\n",
       "}\n"
      ],
      "text/plain": [
       "<IPython.core.display.Javascript object>"
      ]
     },
     "metadata": {},
     "output_type": "display_data"
    },
    {
     "data": {
      "text/html": [
       "<img src=\"data:image/png;base64,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\" width=\"640\">"
      ],
      "text/plain": [
       "<IPython.core.display.HTML object>"
      ]
     },
     "metadata": {},
     "output_type": "display_data"
    },
    {
     "data": {
      "application/vnd.jupyter.widget-view+json": {
       "model_id": "58ca612c5f024a11ba3e189330dad3a8",
       "version_major": 2,
       "version_minor": 0
      },
      "text/plain": [
       "interactive(children=(IntSlider(value=1, description='c', max=500, min=-500), Output()), _dom_classes=('widget…"
      ]
     },
     "metadata": {},
     "output_type": "display_data"
    }
   ],
   "source": [
    "import numpy as np\n",
    "\n",
    "\n",
    "density = 100\n",
    "\n",
    "def build(n = 100, c = 0):\n",
    "    h = 2 / n\n",
    "    matrix = np.zeros((n,n))\n",
    "    matrix[0,0] = 100000\n",
    "    matrix[n-1,n-1] = 100000\n",
    "    for i in range (1, n-1):\n",
    "      \n",
    "        matrix[i,i-1] = -1/ (h ** 2)\n",
    "        matrix[i,i] = 2/(h ** 2)\n",
    "        matrix[i,i+1] = -1/(h ** 2)\n",
    "        matrix[i,i] += c/np.cosh(-1+h*i) - c/np.cosh(1)\n",
    "    return matrix\n",
    "\n",
    "eigenValues, eigenVectors = np.linalg.eig(build(density, 0))\n",
    "\n",
    "idx = eigenValues.argsort()   \n",
    "val = eigenValues[idx]\n",
    "vec = eigenVectors[:,idx]\n",
    "\n",
    "\n",
    "\n",
    "import matplotlib.pyplot as plt\n",
    "\n",
    "%matplotlib notebook\n",
    "from ipywidgets import *\n",
    "\n",
    "x = np.linspace(-1, 1, density)\n",
    "fig = plt.figure()\n",
    "ax = fig.add_subplot(1, 1, 1)\n",
    "line, = ax.plot(x, vec[:,0]**2)\n",
    "\n",
    "def update(c = 1.0):\n",
    "    eigenValues, eigenVectors = np.linalg.eig(build(density, c))\n",
    "\n",
    "    idx = eigenValues.argsort()   \n",
    "    val = eigenValues[idx]\n",
    "    vec = eigenVectors[:,idx]\n",
    "    \n",
    "    plt.ylim(top=0.05)\n",
    "    plt.ylim(bottom=-0.05)\n",
    "    line.set_ydata(vec[:,0]**2)\n",
    "    fig.canvas.draw()\n",
    "\n",
    "interact(update, c = widgets.IntSlider(min=-500,max=500,step=1,value=1));\n"
   ]
  },
  {
   "cell_type": "markdown",
   "metadata": {},
   "source": [
    "На графике сверху изображен квадрат волновой функции основного состояния. Слайдер регулирует величину горба. Из необъяснимых феноменов - отсутствует вырождение (хотя понятно, например, что при больших c запертой между левой стенкой и горбом волновой функции также должна соответствовать ей симметричная).\n",
    "\n",
    "Вот сама волновая функция второго состояния"
   ]
  },
  {
   "cell_type": "code",
   "execution_count": 3,
   "metadata": {},
   "outputs": [
    {
     "data": {
      "application/javascript": [
       "/* Put everything inside the global mpl namespace */\n",
       "window.mpl = {};\n",
       "\n",
       "\n",
       "mpl.get_websocket_type = function() {\n",
       "    if (typeof(WebSocket) !== 'undefined') {\n",
       "        return WebSocket;\n",
       "    } else if (typeof(MozWebSocket) !== 'undefined') {\n",
       "        return MozWebSocket;\n",
       "    } else {\n",
       "        alert('Your browser does not have WebSocket support.' +\n",
       "              'Please try Chrome, Safari or Firefox ≥ 6. ' +\n",
       "              'Firefox 4 and 5 are also supported but you ' +\n",
       "              'have to enable WebSockets in about:config.');\n",
       "    };\n",
       "}\n",
       "\n",
       "mpl.figure = function(figure_id, websocket, ondownload, parent_element) {\n",
       "    this.id = figure_id;\n",
       "\n",
       "    this.ws = websocket;\n",
       "\n",
       "    this.supports_binary = (this.ws.binaryType != undefined);\n",
       "\n",
       "    if (!this.supports_binary) {\n",
       "        var warnings = document.getElementById(\"mpl-warnings\");\n",
       "        if (warnings) {\n",
       "            warnings.style.display = 'block';\n",
       "            warnings.textContent = (\n",
       "                \"This browser does not support binary websocket messages. \" +\n",
       "                    \"Performance may be slow.\");\n",
       "        }\n",
       "    }\n",
       "\n",
       "    this.imageObj = new Image();\n",
       "\n",
       "    this.context = undefined;\n",
       "    this.message = undefined;\n",
       "    this.canvas = undefined;\n",
       "    this.rubberband_canvas = undefined;\n",
       "    this.rubberband_context = undefined;\n",
       "    this.format_dropdown = undefined;\n",
       "\n",
       "    this.image_mode = 'full';\n",
       "\n",
       "    this.root = $('<div/>');\n",
       "    this._root_extra_style(this.root)\n",
       "    this.root.attr('style', 'display: inline-block');\n",
       "\n",
       "    $(parent_element).append(this.root);\n",
       "\n",
       "    this._init_header(this);\n",
       "    this._init_canvas(this);\n",
       "    this._init_toolbar(this);\n",
       "\n",
       "    var fig = this;\n",
       "\n",
       "    this.waiting = false;\n",
       "\n",
       "    this.ws.onopen =  function () {\n",
       "            fig.send_message(\"supports_binary\", {value: fig.supports_binary});\n",
       "            fig.send_message(\"send_image_mode\", {});\n",
       "            if (mpl.ratio != 1) {\n",
       "                fig.send_message(\"set_dpi_ratio\", {'dpi_ratio': mpl.ratio});\n",
       "            }\n",
       "            fig.send_message(\"refresh\", {});\n",
       "        }\n",
       "\n",
       "    this.imageObj.onload = function() {\n",
       "            if (fig.image_mode == 'full') {\n",
       "                // Full images could contain transparency (where diff images\n",
       "                // almost always do), so we need to clear the canvas so that\n",
       "                // there is no ghosting.\n",
       "                fig.context.clearRect(0, 0, fig.canvas.width, fig.canvas.height);\n",
       "            }\n",
       "            fig.context.drawImage(fig.imageObj, 0, 0);\n",
       "        };\n",
       "\n",
       "    this.imageObj.onunload = function() {\n",
       "        fig.ws.close();\n",
       "    }\n",
       "\n",
       "    this.ws.onmessage = this._make_on_message_function(this);\n",
       "\n",
       "    this.ondownload = ondownload;\n",
       "}\n",
       "\n",
       "mpl.figure.prototype._init_header = function() {\n",
       "    var titlebar = $(\n",
       "        '<div class=\"ui-dialog-titlebar ui-widget-header ui-corner-all ' +\n",
       "        'ui-helper-clearfix\"/>');\n",
       "    var titletext = $(\n",
       "        '<div class=\"ui-dialog-title\" style=\"width: 100%; ' +\n",
       "        'text-align: center; padding: 3px;\"/>');\n",
       "    titlebar.append(titletext)\n",
       "    this.root.append(titlebar);\n",
       "    this.header = titletext[0];\n",
       "}\n",
       "\n",
       "\n",
       "\n",
       "mpl.figure.prototype._canvas_extra_style = function(canvas_div) {\n",
       "\n",
       "}\n",
       "\n",
       "\n",
       "mpl.figure.prototype._root_extra_style = function(canvas_div) {\n",
       "\n",
       "}\n",
       "\n",
       "mpl.figure.prototype._init_canvas = function() {\n",
       "    var fig = this;\n",
       "\n",
       "    var canvas_div = $('<div/>');\n",
       "\n",
       "    canvas_div.attr('style', 'position: relative; clear: both; outline: 0');\n",
       "\n",
       "    function canvas_keyboard_event(event) {\n",
       "        return fig.key_event(event, event['data']);\n",
       "    }\n",
       "\n",
       "    canvas_div.keydown('key_press', canvas_keyboard_event);\n",
       "    canvas_div.keyup('key_release', canvas_keyboard_event);\n",
       "    this.canvas_div = canvas_div\n",
       "    this._canvas_extra_style(canvas_div)\n",
       "    this.root.append(canvas_div);\n",
       "\n",
       "    var canvas = $('<canvas/>');\n",
       "    canvas.addClass('mpl-canvas');\n",
       "    canvas.attr('style', \"left: 0; top: 0; z-index: 0; outline: 0\")\n",
       "\n",
       "    this.canvas = canvas[0];\n",
       "    this.context = canvas[0].getContext(\"2d\");\n",
       "\n",
       "    var backingStore = this.context.backingStorePixelRatio ||\n",
       "\tthis.context.webkitBackingStorePixelRatio ||\n",
       "\tthis.context.mozBackingStorePixelRatio ||\n",
       "\tthis.context.msBackingStorePixelRatio ||\n",
       "\tthis.context.oBackingStorePixelRatio ||\n",
       "\tthis.context.backingStorePixelRatio || 1;\n",
       "\n",
       "    mpl.ratio = (window.devicePixelRatio || 1) / backingStore;\n",
       "\n",
       "    var rubberband = $('<canvas/>');\n",
       "    rubberband.attr('style', \"position: absolute; left: 0; top: 0; z-index: 1;\")\n",
       "\n",
       "    var pass_mouse_events = true;\n",
       "\n",
       "    canvas_div.resizable({\n",
       "        start: function(event, ui) {\n",
       "            pass_mouse_events = false;\n",
       "        },\n",
       "        resize: function(event, ui) {\n",
       "            fig.request_resize(ui.size.width, ui.size.height);\n",
       "        },\n",
       "        stop: function(event, ui) {\n",
       "            pass_mouse_events = true;\n",
       "            fig.request_resize(ui.size.width, ui.size.height);\n",
       "        },\n",
       "    });\n",
       "\n",
       "    function mouse_event_fn(event) {\n",
       "        if (pass_mouse_events)\n",
       "            return fig.mouse_event(event, event['data']);\n",
       "    }\n",
       "\n",
       "    rubberband.mousedown('button_press', mouse_event_fn);\n",
       "    rubberband.mouseup('button_release', mouse_event_fn);\n",
       "    // Throttle sequential mouse events to 1 every 20ms.\n",
       "    rubberband.mousemove('motion_notify', mouse_event_fn);\n",
       "\n",
       "    rubberband.mouseenter('figure_enter', mouse_event_fn);\n",
       "    rubberband.mouseleave('figure_leave', mouse_event_fn);\n",
       "\n",
       "    canvas_div.on(\"wheel\", function (event) {\n",
       "        event = event.originalEvent;\n",
       "        event['data'] = 'scroll'\n",
       "        if (event.deltaY < 0) {\n",
       "            event.step = 1;\n",
       "        } else {\n",
       "            event.step = -1;\n",
       "        }\n",
       "        mouse_event_fn(event);\n",
       "    });\n",
       "\n",
       "    canvas_div.append(canvas);\n",
       "    canvas_div.append(rubberband);\n",
       "\n",
       "    this.rubberband = rubberband;\n",
       "    this.rubberband_canvas = rubberband[0];\n",
       "    this.rubberband_context = rubberband[0].getContext(\"2d\");\n",
       "    this.rubberband_context.strokeStyle = \"#000000\";\n",
       "\n",
       "    this._resize_canvas = function(width, height) {\n",
       "        // Keep the size of the canvas, canvas container, and rubber band\n",
       "        // canvas in synch.\n",
       "        canvas_div.css('width', width)\n",
       "        canvas_div.css('height', height)\n",
       "\n",
       "        canvas.attr('width', width * mpl.ratio);\n",
       "        canvas.attr('height', height * mpl.ratio);\n",
       "        canvas.attr('style', 'width: ' + width + 'px; height: ' + height + 'px;');\n",
       "\n",
       "        rubberband.attr('width', width);\n",
       "        rubberband.attr('height', height);\n",
       "    }\n",
       "\n",
       "    // Set the figure to an initial 600x600px, this will subsequently be updated\n",
       "    // upon first draw.\n",
       "    this._resize_canvas(600, 600);\n",
       "\n",
       "    // Disable right mouse context menu.\n",
       "    $(this.rubberband_canvas).bind(\"contextmenu\",function(e){\n",
       "        return false;\n",
       "    });\n",
       "\n",
       "    function set_focus () {\n",
       "        canvas.focus();\n",
       "        canvas_div.focus();\n",
       "    }\n",
       "\n",
       "    window.setTimeout(set_focus, 100);\n",
       "}\n",
       "\n",
       "mpl.figure.prototype._init_toolbar = function() {\n",
       "    var fig = this;\n",
       "\n",
       "    var nav_element = $('<div/>')\n",
       "    nav_element.attr('style', 'width: 100%');\n",
       "    this.root.append(nav_element);\n",
       "\n",
       "    // Define a callback function for later on.\n",
       "    function toolbar_event(event) {\n",
       "        return fig.toolbar_button_onclick(event['data']);\n",
       "    }\n",
       "    function toolbar_mouse_event(event) {\n",
       "        return fig.toolbar_button_onmouseover(event['data']);\n",
       "    }\n",
       "\n",
       "    for(var toolbar_ind in mpl.toolbar_items) {\n",
       "        var name = mpl.toolbar_items[toolbar_ind][0];\n",
       "        var tooltip = mpl.toolbar_items[toolbar_ind][1];\n",
       "        var image = mpl.toolbar_items[toolbar_ind][2];\n",
       "        var method_name = mpl.toolbar_items[toolbar_ind][3];\n",
       "\n",
       "        if (!name) {\n",
       "            // put a spacer in here.\n",
       "            continue;\n",
       "        }\n",
       "        var button = $('<button/>');\n",
       "        button.addClass('ui-button ui-widget ui-state-default ui-corner-all ' +\n",
       "                        'ui-button-icon-only');\n",
       "        button.attr('role', 'button');\n",
       "        button.attr('aria-disabled', 'false');\n",
       "        button.click(method_name, toolbar_event);\n",
       "        button.mouseover(tooltip, toolbar_mouse_event);\n",
       "\n",
       "        var icon_img = $('<span/>');\n",
       "        icon_img.addClass('ui-button-icon-primary ui-icon');\n",
       "        icon_img.addClass(image);\n",
       "        icon_img.addClass('ui-corner-all');\n",
       "\n",
       "        var tooltip_span = $('<span/>');\n",
       "        tooltip_span.addClass('ui-button-text');\n",
       "        tooltip_span.html(tooltip);\n",
       "\n",
       "        button.append(icon_img);\n",
       "        button.append(tooltip_span);\n",
       "\n",
       "        nav_element.append(button);\n",
       "    }\n",
       "\n",
       "    var fmt_picker_span = $('<span/>');\n",
       "\n",
       "    var fmt_picker = $('<select/>');\n",
       "    fmt_picker.addClass('mpl-toolbar-option ui-widget ui-widget-content');\n",
       "    fmt_picker_span.append(fmt_picker);\n",
       "    nav_element.append(fmt_picker_span);\n",
       "    this.format_dropdown = fmt_picker[0];\n",
       "\n",
       "    for (var ind in mpl.extensions) {\n",
       "        var fmt = mpl.extensions[ind];\n",
       "        var option = $(\n",
       "            '<option/>', {selected: fmt === mpl.default_extension}).html(fmt);\n",
       "        fmt_picker.append(option)\n",
       "    }\n",
       "\n",
       "    // Add hover states to the ui-buttons\n",
       "    $( \".ui-button\" ).hover(\n",
       "        function() { $(this).addClass(\"ui-state-hover\");},\n",
       "        function() { $(this).removeClass(\"ui-state-hover\");}\n",
       "    );\n",
       "\n",
       "    var status_bar = $('<span class=\"mpl-message\"/>');\n",
       "    nav_element.append(status_bar);\n",
       "    this.message = status_bar[0];\n",
       "}\n",
       "\n",
       "mpl.figure.prototype.request_resize = function(x_pixels, y_pixels) {\n",
       "    // Request matplotlib to resize the figure. Matplotlib will then trigger a resize in the client,\n",
       "    // which will in turn request a refresh of the image.\n",
       "    this.send_message('resize', {'width': x_pixels, 'height': y_pixels});\n",
       "}\n",
       "\n",
       "mpl.figure.prototype.send_message = function(type, properties) {\n",
       "    properties['type'] = type;\n",
       "    properties['figure_id'] = this.id;\n",
       "    this.ws.send(JSON.stringify(properties));\n",
       "}\n",
       "\n",
       "mpl.figure.prototype.send_draw_message = function() {\n",
       "    if (!this.waiting) {\n",
       "        this.waiting = true;\n",
       "        this.ws.send(JSON.stringify({type: \"draw\", figure_id: this.id}));\n",
       "    }\n",
       "}\n",
       "\n",
       "\n",
       "mpl.figure.prototype.handle_save = function(fig, msg) {\n",
       "    var format_dropdown = fig.format_dropdown;\n",
       "    var format = format_dropdown.options[format_dropdown.selectedIndex].value;\n",
       "    fig.ondownload(fig, format);\n",
       "}\n",
       "\n",
       "\n",
       "mpl.figure.prototype.handle_resize = function(fig, msg) {\n",
       "    var size = msg['size'];\n",
       "    if (size[0] != fig.canvas.width || size[1] != fig.canvas.height) {\n",
       "        fig._resize_canvas(size[0], size[1]);\n",
       "        fig.send_message(\"refresh\", {});\n",
       "    };\n",
       "}\n",
       "\n",
       "mpl.figure.prototype.handle_rubberband = function(fig, msg) {\n",
       "    var x0 = msg['x0'] / mpl.ratio;\n",
       "    var y0 = (fig.canvas.height - msg['y0']) / mpl.ratio;\n",
       "    var x1 = msg['x1'] / mpl.ratio;\n",
       "    var y1 = (fig.canvas.height - msg['y1']) / mpl.ratio;\n",
       "    x0 = Math.floor(x0) + 0.5;\n",
       "    y0 = Math.floor(y0) + 0.5;\n",
       "    x1 = Math.floor(x1) + 0.5;\n",
       "    y1 = Math.floor(y1) + 0.5;\n",
       "    var min_x = Math.min(x0, x1);\n",
       "    var min_y = Math.min(y0, y1);\n",
       "    var width = Math.abs(x1 - x0);\n",
       "    var height = Math.abs(y1 - y0);\n",
       "\n",
       "    fig.rubberband_context.clearRect(\n",
       "        0, 0, fig.canvas.width, fig.canvas.height);\n",
       "\n",
       "    fig.rubberband_context.strokeRect(min_x, min_y, width, height);\n",
       "}\n",
       "\n",
       "mpl.figure.prototype.handle_figure_label = function(fig, msg) {\n",
       "    // Updates the figure title.\n",
       "    fig.header.textContent = msg['label'];\n",
       "}\n",
       "\n",
       "mpl.figure.prototype.handle_cursor = function(fig, msg) {\n",
       "    var cursor = msg['cursor'];\n",
       "    switch(cursor)\n",
       "    {\n",
       "    case 0:\n",
       "        cursor = 'pointer';\n",
       "        break;\n",
       "    case 1:\n",
       "        cursor = 'default';\n",
       "        break;\n",
       "    case 2:\n",
       "        cursor = 'crosshair';\n",
       "        break;\n",
       "    case 3:\n",
       "        cursor = 'move';\n",
       "        break;\n",
       "    }\n",
       "    fig.rubberband_canvas.style.cursor = cursor;\n",
       "}\n",
       "\n",
       "mpl.figure.prototype.handle_message = function(fig, msg) {\n",
       "    fig.message.textContent = msg['message'];\n",
       "}\n",
       "\n",
       "mpl.figure.prototype.handle_draw = function(fig, msg) {\n",
       "    // Request the server to send over a new figure.\n",
       "    fig.send_draw_message();\n",
       "}\n",
       "\n",
       "mpl.figure.prototype.handle_image_mode = function(fig, msg) {\n",
       "    fig.image_mode = msg['mode'];\n",
       "}\n",
       "\n",
       "mpl.figure.prototype.updated_canvas_event = function() {\n",
       "    // Called whenever the canvas gets updated.\n",
       "    this.send_message(\"ack\", {});\n",
       "}\n",
       "\n",
       "// A function to construct a web socket function for onmessage handling.\n",
       "// Called in the figure constructor.\n",
       "mpl.figure.prototype._make_on_message_function = function(fig) {\n",
       "    return function socket_on_message(evt) {\n",
       "        if (evt.data instanceof Blob) {\n",
       "            /* FIXME: We get \"Resource interpreted as Image but\n",
       "             * transferred with MIME type text/plain:\" errors on\n",
       "             * Chrome.  But how to set the MIME type?  It doesn't seem\n",
       "             * to be part of the websocket stream */\n",
       "            evt.data.type = \"image/png\";\n",
       "\n",
       "            /* Free the memory for the previous frames */\n",
       "            if (fig.imageObj.src) {\n",
       "                (window.URL || window.webkitURL).revokeObjectURL(\n",
       "                    fig.imageObj.src);\n",
       "            }\n",
       "\n",
       "            fig.imageObj.src = (window.URL || window.webkitURL).createObjectURL(\n",
       "                evt.data);\n",
       "            fig.updated_canvas_event();\n",
       "            fig.waiting = false;\n",
       "            return;\n",
       "        }\n",
       "        else if (typeof evt.data === 'string' && evt.data.slice(0, 21) == \"data:image/png;base64\") {\n",
       "            fig.imageObj.src = evt.data;\n",
       "            fig.updated_canvas_event();\n",
       "            fig.waiting = false;\n",
       "            return;\n",
       "        }\n",
       "\n",
       "        var msg = JSON.parse(evt.data);\n",
       "        var msg_type = msg['type'];\n",
       "\n",
       "        // Call the  \"handle_{type}\" callback, which takes\n",
       "        // the figure and JSON message as its only arguments.\n",
       "        try {\n",
       "            var callback = fig[\"handle_\" + msg_type];\n",
       "        } catch (e) {\n",
       "            console.log(\"No handler for the '\" + msg_type + \"' message type: \", msg);\n",
       "            return;\n",
       "        }\n",
       "\n",
       "        if (callback) {\n",
       "            try {\n",
       "                // console.log(\"Handling '\" + msg_type + \"' message: \", msg);\n",
       "                callback(fig, msg);\n",
       "            } catch (e) {\n",
       "                console.log(\"Exception inside the 'handler_\" + msg_type + \"' callback:\", e, e.stack, msg);\n",
       "            }\n",
       "        }\n",
       "    };\n",
       "}\n",
       "\n",
       "// from http://stackoverflow.com/questions/1114465/getting-mouse-location-in-canvas\n",
       "mpl.findpos = function(e) {\n",
       "    //this section is from http://www.quirksmode.org/js/events_properties.html\n",
       "    var targ;\n",
       "    if (!e)\n",
       "        e = window.event;\n",
       "    if (e.target)\n",
       "        targ = e.target;\n",
       "    else if (e.srcElement)\n",
       "        targ = e.srcElement;\n",
       "    if (targ.nodeType == 3) // defeat Safari bug\n",
       "        targ = targ.parentNode;\n",
       "\n",
       "    // jQuery normalizes the pageX and pageY\n",
       "    // pageX,Y are the mouse positions relative to the document\n",
       "    // offset() returns the position of the element relative to the document\n",
       "    var x = e.pageX - $(targ).offset().left;\n",
       "    var y = e.pageY - $(targ).offset().top;\n",
       "\n",
       "    return {\"x\": x, \"y\": y};\n",
       "};\n",
       "\n",
       "/*\n",
       " * return a copy of an object with only non-object keys\n",
       " * we need this to avoid circular references\n",
       " * http://stackoverflow.com/a/24161582/3208463\n",
       " */\n",
       "function simpleKeys (original) {\n",
       "  return Object.keys(original).reduce(function (obj, key) {\n",
       "    if (typeof original[key] !== 'object')\n",
       "        obj[key] = original[key]\n",
       "    return obj;\n",
       "  }, {});\n",
       "}\n",
       "\n",
       "mpl.figure.prototype.mouse_event = function(event, name) {\n",
       "    var canvas_pos = mpl.findpos(event)\n",
       "\n",
       "    if (name === 'button_press')\n",
       "    {\n",
       "        this.canvas.focus();\n",
       "        this.canvas_div.focus();\n",
       "    }\n",
       "\n",
       "    var x = canvas_pos.x * mpl.ratio;\n",
       "    var y = canvas_pos.y * mpl.ratio;\n",
       "\n",
       "    this.send_message(name, {x: x, y: y, button: event.button,\n",
       "                             step: event.step,\n",
       "                             guiEvent: simpleKeys(event)});\n",
       "\n",
       "    /* This prevents the web browser from automatically changing to\n",
       "     * the text insertion cursor when the button is pressed.  We want\n",
       "     * to control all of the cursor setting manually through the\n",
       "     * 'cursor' event from matplotlib */\n",
       "    event.preventDefault();\n",
       "    return false;\n",
       "}\n",
       "\n",
       "mpl.figure.prototype._key_event_extra = function(event, name) {\n",
       "    // Handle any extra behaviour associated with a key event\n",
       "}\n",
       "\n",
       "mpl.figure.prototype.key_event = function(event, name) {\n",
       "\n",
       "    // Prevent repeat events\n",
       "    if (name == 'key_press')\n",
       "    {\n",
       "        if (event.which === this._key)\n",
       "            return;\n",
       "        else\n",
       "            this._key = event.which;\n",
       "    }\n",
       "    if (name == 'key_release')\n",
       "        this._key = null;\n",
       "\n",
       "    var value = '';\n",
       "    if (event.ctrlKey && event.which != 17)\n",
       "        value += \"ctrl+\";\n",
       "    if (event.altKey && event.which != 18)\n",
       "        value += \"alt+\";\n",
       "    if (event.shiftKey && event.which != 16)\n",
       "        value += \"shift+\";\n",
       "\n",
       "    value += 'k';\n",
       "    value += event.which.toString();\n",
       "\n",
       "    this._key_event_extra(event, name);\n",
       "\n",
       "    this.send_message(name, {key: value,\n",
       "                             guiEvent: simpleKeys(event)});\n",
       "    return false;\n",
       "}\n",
       "\n",
       "mpl.figure.prototype.toolbar_button_onclick = function(name) {\n",
       "    if (name == 'download') {\n",
       "        this.handle_save(this, null);\n",
       "    } else {\n",
       "        this.send_message(\"toolbar_button\", {name: name});\n",
       "    }\n",
       "};\n",
       "\n",
       "mpl.figure.prototype.toolbar_button_onmouseover = function(tooltip) {\n",
       "    this.message.textContent = tooltip;\n",
       "};\n",
       "mpl.toolbar_items = [[\"Home\", \"Reset original view\", \"fa fa-home icon-home\", \"home\"], [\"Back\", \"Back to  previous view\", \"fa fa-arrow-left icon-arrow-left\", \"back\"], [\"Forward\", \"Forward to next view\", \"fa fa-arrow-right icon-arrow-right\", \"forward\"], [\"\", \"\", \"\", \"\"], [\"Pan\", \"Pan axes with left mouse, zoom with right\", \"fa fa-arrows icon-move\", \"pan\"], [\"Zoom\", \"Zoom to rectangle\", \"fa fa-square-o icon-check-empty\", \"zoom\"], [\"\", \"\", \"\", \"\"], [\"Download\", \"Download plot\", \"fa fa-floppy-o icon-save\", \"download\"]];\n",
       "\n",
       "mpl.extensions = [\"eps\", \"jpeg\", \"pdf\", \"png\", \"ps\", \"raw\", \"svg\", \"tif\"];\n",
       "\n",
       "mpl.default_extension = \"png\";var comm_websocket_adapter = function(comm) {\n",
       "    // Create a \"websocket\"-like object which calls the given IPython comm\n",
       "    // object with the appropriate methods. Currently this is a non binary\n",
       "    // socket, so there is still some room for performance tuning.\n",
       "    var ws = {};\n",
       "\n",
       "    ws.close = function() {\n",
       "        comm.close()\n",
       "    };\n",
       "    ws.send = function(m) {\n",
       "        //console.log('sending', m);\n",
       "        comm.send(m);\n",
       "    };\n",
       "    // Register the callback with on_msg.\n",
       "    comm.on_msg(function(msg) {\n",
       "        //console.log('receiving', msg['content']['data'], msg);\n",
       "        // Pass the mpl event to the overridden (by mpl) onmessage function.\n",
       "        ws.onmessage(msg['content']['data'])\n",
       "    });\n",
       "    return ws;\n",
       "}\n",
       "\n",
       "mpl.mpl_figure_comm = function(comm, msg) {\n",
       "    // This is the function which gets called when the mpl process\n",
       "    // starts-up an IPython Comm through the \"matplotlib\" channel.\n",
       "\n",
       "    var id = msg.content.data.id;\n",
       "    // Get hold of the div created by the display call when the Comm\n",
       "    // socket was opened in Python.\n",
       "    var element = $(\"#\" + id);\n",
       "    var ws_proxy = comm_websocket_adapter(comm)\n",
       "\n",
       "    function ondownload(figure, format) {\n",
       "        window.open(figure.imageObj.src);\n",
       "    }\n",
       "\n",
       "    var fig = new mpl.figure(id, ws_proxy,\n",
       "                           ondownload,\n",
       "                           element.get(0));\n",
       "\n",
       "    // Call onopen now - mpl needs it, as it is assuming we've passed it a real\n",
       "    // web socket which is closed, not our websocket->open comm proxy.\n",
       "    ws_proxy.onopen();\n",
       "\n",
       "    fig.parent_element = element.get(0);\n",
       "    fig.cell_info = mpl.find_output_cell(\"<div id='\" + id + \"'></div>\");\n",
       "    if (!fig.cell_info) {\n",
       "        console.error(\"Failed to find cell for figure\", id, fig);\n",
       "        return;\n",
       "    }\n",
       "\n",
       "    var output_index = fig.cell_info[2]\n",
       "    var cell = fig.cell_info[0];\n",
       "\n",
       "};\n",
       "\n",
       "mpl.figure.prototype.handle_close = function(fig, msg) {\n",
       "    var width = fig.canvas.width/mpl.ratio\n",
       "    fig.root.unbind('remove')\n",
       "\n",
       "    // Update the output cell to use the data from the current canvas.\n",
       "    fig.push_to_output();\n",
       "    var dataURL = fig.canvas.toDataURL();\n",
       "    // Re-enable the keyboard manager in IPython - without this line, in FF,\n",
       "    // the notebook keyboard shortcuts fail.\n",
       "    IPython.keyboard_manager.enable()\n",
       "    $(fig.parent_element).html('<img src=\"' + dataURL + '\" width=\"' + width + '\">');\n",
       "    fig.close_ws(fig, msg);\n",
       "}\n",
       "\n",
       "mpl.figure.prototype.close_ws = function(fig, msg){\n",
       "    fig.send_message('closing', msg);\n",
       "    // fig.ws.close()\n",
       "}\n",
       "\n",
       "mpl.figure.prototype.push_to_output = function(remove_interactive) {\n",
       "    // Turn the data on the canvas into data in the output cell.\n",
       "    var width = this.canvas.width/mpl.ratio\n",
       "    var dataURL = this.canvas.toDataURL();\n",
       "    this.cell_info[1]['text/html'] = '<img src=\"' + dataURL + '\" width=\"' + width + '\">';\n",
       "}\n",
       "\n",
       "mpl.figure.prototype.updated_canvas_event = function() {\n",
       "    // Tell IPython that the notebook contents must change.\n",
       "    IPython.notebook.set_dirty(true);\n",
       "    this.send_message(\"ack\", {});\n",
       "    var fig = this;\n",
       "    // Wait a second, then push the new image to the DOM so\n",
       "    // that it is saved nicely (might be nice to debounce this).\n",
       "    setTimeout(function () { fig.push_to_output() }, 1000);\n",
       "}\n",
       "\n",
       "mpl.figure.prototype._init_toolbar = function() {\n",
       "    var fig = this;\n",
       "\n",
       "    var nav_element = $('<div/>')\n",
       "    nav_element.attr('style', 'width: 100%');\n",
       "    this.root.append(nav_element);\n",
       "\n",
       "    // Define a callback function for later on.\n",
       "    function toolbar_event(event) {\n",
       "        return fig.toolbar_button_onclick(event['data']);\n",
       "    }\n",
       "    function toolbar_mouse_event(event) {\n",
       "        return fig.toolbar_button_onmouseover(event['data']);\n",
       "    }\n",
       "\n",
       "    for(var toolbar_ind in mpl.toolbar_items){\n",
       "        var name = mpl.toolbar_items[toolbar_ind][0];\n",
       "        var tooltip = mpl.toolbar_items[toolbar_ind][1];\n",
       "        var image = mpl.toolbar_items[toolbar_ind][2];\n",
       "        var method_name = mpl.toolbar_items[toolbar_ind][3];\n",
       "\n",
       "        if (!name) { continue; };\n",
       "\n",
       "        var button = $('<button class=\"btn btn-default\" href=\"#\" title=\"' + name + '\"><i class=\"fa ' + image + ' fa-lg\"></i></button>');\n",
       "        button.click(method_name, toolbar_event);\n",
       "        button.mouseover(tooltip, toolbar_mouse_event);\n",
       "        nav_element.append(button);\n",
       "    }\n",
       "\n",
       "    // Add the status bar.\n",
       "    var status_bar = $('<span class=\"mpl-message\" style=\"text-align:right; float: right;\"/>');\n",
       "    nav_element.append(status_bar);\n",
       "    this.message = status_bar[0];\n",
       "\n",
       "    // Add the close button to the window.\n",
       "    var buttongrp = $('<div class=\"btn-group inline pull-right\"></div>');\n",
       "    var button = $('<button class=\"btn btn-mini btn-primary\" href=\"#\" title=\"Stop Interaction\"><i class=\"fa fa-power-off icon-remove icon-large\"></i></button>');\n",
       "    button.click(function (evt) { fig.handle_close(fig, {}); } );\n",
       "    button.mouseover('Stop Interaction', toolbar_mouse_event);\n",
       "    buttongrp.append(button);\n",
       "    var titlebar = this.root.find($('.ui-dialog-titlebar'));\n",
       "    titlebar.prepend(buttongrp);\n",
       "}\n",
       "\n",
       "mpl.figure.prototype._root_extra_style = function(el){\n",
       "    var fig = this\n",
       "    el.on(\"remove\", function(){\n",
       "\tfig.close_ws(fig, {});\n",
       "    });\n",
       "}\n",
       "\n",
       "mpl.figure.prototype._canvas_extra_style = function(el){\n",
       "    // this is important to make the div 'focusable\n",
       "    el.attr('tabindex', 0)\n",
       "    // reach out to IPython and tell the keyboard manager to turn it's self\n",
       "    // off when our div gets focus\n",
       "\n",
       "    // location in version 3\n",
       "    if (IPython.notebook.keyboard_manager) {\n",
       "        IPython.notebook.keyboard_manager.register_events(el);\n",
       "    }\n",
       "    else {\n",
       "        // location in version 2\n",
       "        IPython.keyboard_manager.register_events(el);\n",
       "    }\n",
       "\n",
       "}\n",
       "\n",
       "mpl.figure.prototype._key_event_extra = function(event, name) {\n",
       "    var manager = IPython.notebook.keyboard_manager;\n",
       "    if (!manager)\n",
       "        manager = IPython.keyboard_manager;\n",
       "\n",
       "    // Check for shift+enter\n",
       "    if (event.shiftKey && event.which == 13) {\n",
       "        this.canvas_div.blur();\n",
       "        event.shiftKey = false;\n",
       "        // Send a \"J\" for go to next cell\n",
       "        event.which = 74;\n",
       "        event.keyCode = 74;\n",
       "        manager.command_mode();\n",
       "        manager.handle_keydown(event);\n",
       "    }\n",
       "}\n",
       "\n",
       "mpl.figure.prototype.handle_save = function(fig, msg) {\n",
       "    fig.ondownload(fig, null);\n",
       "}\n",
       "\n",
       "\n",
       "mpl.find_output_cell = function(html_output) {\n",
       "    // Return the cell and output element which can be found *uniquely* in the notebook.\n",
       "    // Note - this is a bit hacky, but it is done because the \"notebook_saving.Notebook\"\n",
       "    // IPython event is triggered only after the cells have been serialised, which for\n",
       "    // our purposes (turning an active figure into a static one), is too late.\n",
       "    var cells = IPython.notebook.get_cells();\n",
       "    var ncells = cells.length;\n",
       "    for (var i=0; i<ncells; i++) {\n",
       "        var cell = cells[i];\n",
       "        if (cell.cell_type === 'code'){\n",
       "            for (var j=0; j<cell.output_area.outputs.length; j++) {\n",
       "                var data = cell.output_area.outputs[j];\n",
       "                if (data.data) {\n",
       "                    // IPython >= 3 moved mimebundle to data attribute of output\n",
       "                    data = data.data;\n",
       "                }\n",
       "                if (data['text/html'] == html_output) {\n",
       "                    return [cell, data, j];\n",
       "                }\n",
       "            }\n",
       "        }\n",
       "    }\n",
       "}\n",
       "\n",
       "// Register the function which deals with the matplotlib target/channel.\n",
       "// The kernel may be null if the page has been refreshed.\n",
       "if (IPython.notebook.kernel != null) {\n",
       "    IPython.notebook.kernel.comm_manager.register_target('matplotlib', mpl.mpl_figure_comm);\n",
       "}\n"
      ],
      "text/plain": [
       "<IPython.core.display.Javascript object>"
      ]
     },
     "metadata": {},
     "output_type": "display_data"
    },
    {
     "data": {
      "text/html": [
       "<img src=\"data:image/png;base64,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\" width=\"640\">"
      ],
      "text/plain": [
       "<IPython.core.display.HTML object>"
      ]
     },
     "metadata": {},
     "output_type": "display_data"
    },
    {
     "data": {
      "application/vnd.jupyter.widget-view+json": {
       "model_id": "41b1d827acc34c48b92b364dc13d99cd",
       "version_major": 2,
       "version_minor": 0
      },
      "text/plain": [
       "interactive(children=(IntSlider(value=1, description='d', max=500, min=-500), Output()), _dom_classes=('widget…"
      ]
     },
     "metadata": {},
     "output_type": "display_data"
    }
   ],
   "source": [
    "x1 = np.linspace(-1, 1, density)\n",
    "fig1 = plt.figure()\n",
    "ax1 = fig1.add_subplot(1, 1, 1)\n",
    "line1, = ax1.plot(x1, vec[:,2] )\n",
    "\n",
    "def update1(d = 1.0):\n",
    "    eigenValues, eigenVectors = np.linalg.eig(build(density, d))\n",
    "\n",
    "    idx = eigenValues.argsort()   \n",
    "    val = eigenValues[idx]\n",
    "    vec = eigenVectors[:,idx]\n",
    "    if (vec[2,2] < 0):\n",
    "        vec[:,2] *= -1\n",
    "    \n",
    "    plt.ylim(top=0.3)\n",
    "    plt.ylim(bottom=-0.3)\n",
    "    line1.set_ydata(vec[:,2])\n",
    "    fig1.canvas.draw()\n",
    "interact(update1, d = widgets.IntSlider(min=-500,max=500,step=1,value=1));\n"
   ]
  },
  {
   "cell_type": "markdown",
   "metadata": {},
   "source": [
    "Зависимость логарифма корня из модуля энергии от логарифма номера уровня:"
   ]
  },
  {
   "cell_type": "code",
   "execution_count": 4,
   "metadata": {},
   "outputs": [
    {
     "data": {
      "application/javascript": [
       "/* Put everything inside the global mpl namespace */\n",
       "window.mpl = {};\n",
       "\n",
       "\n",
       "mpl.get_websocket_type = function() {\n",
       "    if (typeof(WebSocket) !== 'undefined') {\n",
       "        return WebSocket;\n",
       "    } else if (typeof(MozWebSocket) !== 'undefined') {\n",
       "        return MozWebSocket;\n",
       "    } else {\n",
       "        alert('Your browser does not have WebSocket support.' +\n",
       "              'Please try Chrome, Safari or Firefox ≥ 6. ' +\n",
       "              'Firefox 4 and 5 are also supported but you ' +\n",
       "              'have to enable WebSockets in about:config.');\n",
       "    };\n",
       "}\n",
       "\n",
       "mpl.figure = function(figure_id, websocket, ondownload, parent_element) {\n",
       "    this.id = figure_id;\n",
       "\n",
       "    this.ws = websocket;\n",
       "\n",
       "    this.supports_binary = (this.ws.binaryType != undefined);\n",
       "\n",
       "    if (!this.supports_binary) {\n",
       "        var warnings = document.getElementById(\"mpl-warnings\");\n",
       "        if (warnings) {\n",
       "            warnings.style.display = 'block';\n",
       "            warnings.textContent = (\n",
       "                \"This browser does not support binary websocket messages. \" +\n",
       "                    \"Performance may be slow.\");\n",
       "        }\n",
       "    }\n",
       "\n",
       "    this.imageObj = new Image();\n",
       "\n",
       "    this.context = undefined;\n",
       "    this.message = undefined;\n",
       "    this.canvas = undefined;\n",
       "    this.rubberband_canvas = undefined;\n",
       "    this.rubberband_context = undefined;\n",
       "    this.format_dropdown = undefined;\n",
       "\n",
       "    this.image_mode = 'full';\n",
       "\n",
       "    this.root = $('<div/>');\n",
       "    this._root_extra_style(this.root)\n",
       "    this.root.attr('style', 'display: inline-block');\n",
       "\n",
       "    $(parent_element).append(this.root);\n",
       "\n",
       "    this._init_header(this);\n",
       "    this._init_canvas(this);\n",
       "    this._init_toolbar(this);\n",
       "\n",
       "    var fig = this;\n",
       "\n",
       "    this.waiting = false;\n",
       "\n",
       "    this.ws.onopen =  function () {\n",
       "            fig.send_message(\"supports_binary\", {value: fig.supports_binary});\n",
       "            fig.send_message(\"send_image_mode\", {});\n",
       "            if (mpl.ratio != 1) {\n",
       "                fig.send_message(\"set_dpi_ratio\", {'dpi_ratio': mpl.ratio});\n",
       "            }\n",
       "            fig.send_message(\"refresh\", {});\n",
       "        }\n",
       "\n",
       "    this.imageObj.onload = function() {\n",
       "            if (fig.image_mode == 'full') {\n",
       "                // Full images could contain transparency (where diff images\n",
       "                // almost always do), so we need to clear the canvas so that\n",
       "                // there is no ghosting.\n",
       "                fig.context.clearRect(0, 0, fig.canvas.width, fig.canvas.height);\n",
       "            }\n",
       "            fig.context.drawImage(fig.imageObj, 0, 0);\n",
       "        };\n",
       "\n",
       "    this.imageObj.onunload = function() {\n",
       "        fig.ws.close();\n",
       "    }\n",
       "\n",
       "    this.ws.onmessage = this._make_on_message_function(this);\n",
       "\n",
       "    this.ondownload = ondownload;\n",
       "}\n",
       "\n",
       "mpl.figure.prototype._init_header = function() {\n",
       "    var titlebar = $(\n",
       "        '<div class=\"ui-dialog-titlebar ui-widget-header ui-corner-all ' +\n",
       "        'ui-helper-clearfix\"/>');\n",
       "    var titletext = $(\n",
       "        '<div class=\"ui-dialog-title\" style=\"width: 100%; ' +\n",
       "        'text-align: center; padding: 3px;\"/>');\n",
       "    titlebar.append(titletext)\n",
       "    this.root.append(titlebar);\n",
       "    this.header = titletext[0];\n",
       "}\n",
       "\n",
       "\n",
       "\n",
       "mpl.figure.prototype._canvas_extra_style = function(canvas_div) {\n",
       "\n",
       "}\n",
       "\n",
       "\n",
       "mpl.figure.prototype._root_extra_style = function(canvas_div) {\n",
       "\n",
       "}\n",
       "\n",
       "mpl.figure.prototype._init_canvas = function() {\n",
       "    var fig = this;\n",
       "\n",
       "    var canvas_div = $('<div/>');\n",
       "\n",
       "    canvas_div.attr('style', 'position: relative; clear: both; outline: 0');\n",
       "\n",
       "    function canvas_keyboard_event(event) {\n",
       "        return fig.key_event(event, event['data']);\n",
       "    }\n",
       "\n",
       "    canvas_div.keydown('key_press', canvas_keyboard_event);\n",
       "    canvas_div.keyup('key_release', canvas_keyboard_event);\n",
       "    this.canvas_div = canvas_div\n",
       "    this._canvas_extra_style(canvas_div)\n",
       "    this.root.append(canvas_div);\n",
       "\n",
       "    var canvas = $('<canvas/>');\n",
       "    canvas.addClass('mpl-canvas');\n",
       "    canvas.attr('style', \"left: 0; top: 0; z-index: 0; outline: 0\")\n",
       "\n",
       "    this.canvas = canvas[0];\n",
       "    this.context = canvas[0].getContext(\"2d\");\n",
       "\n",
       "    var backingStore = this.context.backingStorePixelRatio ||\n",
       "\tthis.context.webkitBackingStorePixelRatio ||\n",
       "\tthis.context.mozBackingStorePixelRatio ||\n",
       "\tthis.context.msBackingStorePixelRatio ||\n",
       "\tthis.context.oBackingStorePixelRatio ||\n",
       "\tthis.context.backingStorePixelRatio || 1;\n",
       "\n",
       "    mpl.ratio = (window.devicePixelRatio || 1) / backingStore;\n",
       "\n",
       "    var rubberband = $('<canvas/>');\n",
       "    rubberband.attr('style', \"position: absolute; left: 0; top: 0; z-index: 1;\")\n",
       "\n",
       "    var pass_mouse_events = true;\n",
       "\n",
       "    canvas_div.resizable({\n",
       "        start: function(event, ui) {\n",
       "            pass_mouse_events = false;\n",
       "        },\n",
       "        resize: function(event, ui) {\n",
       "            fig.request_resize(ui.size.width, ui.size.height);\n",
       "        },\n",
       "        stop: function(event, ui) {\n",
       "            pass_mouse_events = true;\n",
       "            fig.request_resize(ui.size.width, ui.size.height);\n",
       "        },\n",
       "    });\n",
       "\n",
       "    function mouse_event_fn(event) {\n",
       "        if (pass_mouse_events)\n",
       "            return fig.mouse_event(event, event['data']);\n",
       "    }\n",
       "\n",
       "    rubberband.mousedown('button_press', mouse_event_fn);\n",
       "    rubberband.mouseup('button_release', mouse_event_fn);\n",
       "    // Throttle sequential mouse events to 1 every 20ms.\n",
       "    rubberband.mousemove('motion_notify', mouse_event_fn);\n",
       "\n",
       "    rubberband.mouseenter('figure_enter', mouse_event_fn);\n",
       "    rubberband.mouseleave('figure_leave', mouse_event_fn);\n",
       "\n",
       "    canvas_div.on(\"wheel\", function (event) {\n",
       "        event = event.originalEvent;\n",
       "        event['data'] = 'scroll'\n",
       "        if (event.deltaY < 0) {\n",
       "            event.step = 1;\n",
       "        } else {\n",
       "            event.step = -1;\n",
       "        }\n",
       "        mouse_event_fn(event);\n",
       "    });\n",
       "\n",
       "    canvas_div.append(canvas);\n",
       "    canvas_div.append(rubberband);\n",
       "\n",
       "    this.rubberband = rubberband;\n",
       "    this.rubberband_canvas = rubberband[0];\n",
       "    this.rubberband_context = rubberband[0].getContext(\"2d\");\n",
       "    this.rubberband_context.strokeStyle = \"#000000\";\n",
       "\n",
       "    this._resize_canvas = function(width, height) {\n",
       "        // Keep the size of the canvas, canvas container, and rubber band\n",
       "        // canvas in synch.\n",
       "        canvas_div.css('width', width)\n",
       "        canvas_div.css('height', height)\n",
       "\n",
       "        canvas.attr('width', width * mpl.ratio);\n",
       "        canvas.attr('height', height * mpl.ratio);\n",
       "        canvas.attr('style', 'width: ' + width + 'px; height: ' + height + 'px;');\n",
       "\n",
       "        rubberband.attr('width', width);\n",
       "        rubberband.attr('height', height);\n",
       "    }\n",
       "\n",
       "    // Set the figure to an initial 600x600px, this will subsequently be updated\n",
       "    // upon first draw.\n",
       "    this._resize_canvas(600, 600);\n",
       "\n",
       "    // Disable right mouse context menu.\n",
       "    $(this.rubberband_canvas).bind(\"contextmenu\",function(e){\n",
       "        return false;\n",
       "    });\n",
       "\n",
       "    function set_focus () {\n",
       "        canvas.focus();\n",
       "        canvas_div.focus();\n",
       "    }\n",
       "\n",
       "    window.setTimeout(set_focus, 100);\n",
       "}\n",
       "\n",
       "mpl.figure.prototype._init_toolbar = function() {\n",
       "    var fig = this;\n",
       "\n",
       "    var nav_element = $('<div/>')\n",
       "    nav_element.attr('style', 'width: 100%');\n",
       "    this.root.append(nav_element);\n",
       "\n",
       "    // Define a callback function for later on.\n",
       "    function toolbar_event(event) {\n",
       "        return fig.toolbar_button_onclick(event['data']);\n",
       "    }\n",
       "    function toolbar_mouse_event(event) {\n",
       "        return fig.toolbar_button_onmouseover(event['data']);\n",
       "    }\n",
       "\n",
       "    for(var toolbar_ind in mpl.toolbar_items) {\n",
       "        var name = mpl.toolbar_items[toolbar_ind][0];\n",
       "        var tooltip = mpl.toolbar_items[toolbar_ind][1];\n",
       "        var image = mpl.toolbar_items[toolbar_ind][2];\n",
       "        var method_name = mpl.toolbar_items[toolbar_ind][3];\n",
       "\n",
       "        if (!name) {\n",
       "            // put a spacer in here.\n",
       "            continue;\n",
       "        }\n",
       "        var button = $('<button/>');\n",
       "        button.addClass('ui-button ui-widget ui-state-default ui-corner-all ' +\n",
       "                        'ui-button-icon-only');\n",
       "        button.attr('role', 'button');\n",
       "        button.attr('aria-disabled', 'false');\n",
       "        button.click(method_name, toolbar_event);\n",
       "        button.mouseover(tooltip, toolbar_mouse_event);\n",
       "\n",
       "        var icon_img = $('<span/>');\n",
       "        icon_img.addClass('ui-button-icon-primary ui-icon');\n",
       "        icon_img.addClass(image);\n",
       "        icon_img.addClass('ui-corner-all');\n",
       "\n",
       "        var tooltip_span = $('<span/>');\n",
       "        tooltip_span.addClass('ui-button-text');\n",
       "        tooltip_span.html(tooltip);\n",
       "\n",
       "        button.append(icon_img);\n",
       "        button.append(tooltip_span);\n",
       "\n",
       "        nav_element.append(button);\n",
       "    }\n",
       "\n",
       "    var fmt_picker_span = $('<span/>');\n",
       "\n",
       "    var fmt_picker = $('<select/>');\n",
       "    fmt_picker.addClass('mpl-toolbar-option ui-widget ui-widget-content');\n",
       "    fmt_picker_span.append(fmt_picker);\n",
       "    nav_element.append(fmt_picker_span);\n",
       "    this.format_dropdown = fmt_picker[0];\n",
       "\n",
       "    for (var ind in mpl.extensions) {\n",
       "        var fmt = mpl.extensions[ind];\n",
       "        var option = $(\n",
       "            '<option/>', {selected: fmt === mpl.default_extension}).html(fmt);\n",
       "        fmt_picker.append(option)\n",
       "    }\n",
       "\n",
       "    // Add hover states to the ui-buttons\n",
       "    $( \".ui-button\" ).hover(\n",
       "        function() { $(this).addClass(\"ui-state-hover\");},\n",
       "        function() { $(this).removeClass(\"ui-state-hover\");}\n",
       "    );\n",
       "\n",
       "    var status_bar = $('<span class=\"mpl-message\"/>');\n",
       "    nav_element.append(status_bar);\n",
       "    this.message = status_bar[0];\n",
       "}\n",
       "\n",
       "mpl.figure.prototype.request_resize = function(x_pixels, y_pixels) {\n",
       "    // Request matplotlib to resize the figure. Matplotlib will then trigger a resize in the client,\n",
       "    // which will in turn request a refresh of the image.\n",
       "    this.send_message('resize', {'width': x_pixels, 'height': y_pixels});\n",
       "}\n",
       "\n",
       "mpl.figure.prototype.send_message = function(type, properties) {\n",
       "    properties['type'] = type;\n",
       "    properties['figure_id'] = this.id;\n",
       "    this.ws.send(JSON.stringify(properties));\n",
       "}\n",
       "\n",
       "mpl.figure.prototype.send_draw_message = function() {\n",
       "    if (!this.waiting) {\n",
       "        this.waiting = true;\n",
       "        this.ws.send(JSON.stringify({type: \"draw\", figure_id: this.id}));\n",
       "    }\n",
       "}\n",
       "\n",
       "\n",
       "mpl.figure.prototype.handle_save = function(fig, msg) {\n",
       "    var format_dropdown = fig.format_dropdown;\n",
       "    var format = format_dropdown.options[format_dropdown.selectedIndex].value;\n",
       "    fig.ondownload(fig, format);\n",
       "}\n",
       "\n",
       "\n",
       "mpl.figure.prototype.handle_resize = function(fig, msg) {\n",
       "    var size = msg['size'];\n",
       "    if (size[0] != fig.canvas.width || size[1] != fig.canvas.height) {\n",
       "        fig._resize_canvas(size[0], size[1]);\n",
       "        fig.send_message(\"refresh\", {});\n",
       "    };\n",
       "}\n",
       "\n",
       "mpl.figure.prototype.handle_rubberband = function(fig, msg) {\n",
       "    var x0 = msg['x0'] / mpl.ratio;\n",
       "    var y0 = (fig.canvas.height - msg['y0']) / mpl.ratio;\n",
       "    var x1 = msg['x1'] / mpl.ratio;\n",
       "    var y1 = (fig.canvas.height - msg['y1']) / mpl.ratio;\n",
       "    x0 = Math.floor(x0) + 0.5;\n",
       "    y0 = Math.floor(y0) + 0.5;\n",
       "    x1 = Math.floor(x1) + 0.5;\n",
       "    y1 = Math.floor(y1) + 0.5;\n",
       "    var min_x = Math.min(x0, x1);\n",
       "    var min_y = Math.min(y0, y1);\n",
       "    var width = Math.abs(x1 - x0);\n",
       "    var height = Math.abs(y1 - y0);\n",
       "\n",
       "    fig.rubberband_context.clearRect(\n",
       "        0, 0, fig.canvas.width, fig.canvas.height);\n",
       "\n",
       "    fig.rubberband_context.strokeRect(min_x, min_y, width, height);\n",
       "}\n",
       "\n",
       "mpl.figure.prototype.handle_figure_label = function(fig, msg) {\n",
       "    // Updates the figure title.\n",
       "    fig.header.textContent = msg['label'];\n",
       "}\n",
       "\n",
       "mpl.figure.prototype.handle_cursor = function(fig, msg) {\n",
       "    var cursor = msg['cursor'];\n",
       "    switch(cursor)\n",
       "    {\n",
       "    case 0:\n",
       "        cursor = 'pointer';\n",
       "        break;\n",
       "    case 1:\n",
       "        cursor = 'default';\n",
       "        break;\n",
       "    case 2:\n",
       "        cursor = 'crosshair';\n",
       "        break;\n",
       "    case 3:\n",
       "        cursor = 'move';\n",
       "        break;\n",
       "    }\n",
       "    fig.rubberband_canvas.style.cursor = cursor;\n",
       "}\n",
       "\n",
       "mpl.figure.prototype.handle_message = function(fig, msg) {\n",
       "    fig.message.textContent = msg['message'];\n",
       "}\n",
       "\n",
       "mpl.figure.prototype.handle_draw = function(fig, msg) {\n",
       "    // Request the server to send over a new figure.\n",
       "    fig.send_draw_message();\n",
       "}\n",
       "\n",
       "mpl.figure.prototype.handle_image_mode = function(fig, msg) {\n",
       "    fig.image_mode = msg['mode'];\n",
       "}\n",
       "\n",
       "mpl.figure.prototype.updated_canvas_event = function() {\n",
       "    // Called whenever the canvas gets updated.\n",
       "    this.send_message(\"ack\", {});\n",
       "}\n",
       "\n",
       "// A function to construct a web socket function for onmessage handling.\n",
       "// Called in the figure constructor.\n",
       "mpl.figure.prototype._make_on_message_function = function(fig) {\n",
       "    return function socket_on_message(evt) {\n",
       "        if (evt.data instanceof Blob) {\n",
       "            /* FIXME: We get \"Resource interpreted as Image but\n",
       "             * transferred with MIME type text/plain:\" errors on\n",
       "             * Chrome.  But how to set the MIME type?  It doesn't seem\n",
       "             * to be part of the websocket stream */\n",
       "            evt.data.type = \"image/png\";\n",
       "\n",
       "            /* Free the memory for the previous frames */\n",
       "            if (fig.imageObj.src) {\n",
       "                (window.URL || window.webkitURL).revokeObjectURL(\n",
       "                    fig.imageObj.src);\n",
       "            }\n",
       "\n",
       "            fig.imageObj.src = (window.URL || window.webkitURL).createObjectURL(\n",
       "                evt.data);\n",
       "            fig.updated_canvas_event();\n",
       "            fig.waiting = false;\n",
       "            return;\n",
       "        }\n",
       "        else if (typeof evt.data === 'string' && evt.data.slice(0, 21) == \"data:image/png;base64\") {\n",
       "            fig.imageObj.src = evt.data;\n",
       "            fig.updated_canvas_event();\n",
       "            fig.waiting = false;\n",
       "            return;\n",
       "        }\n",
       "\n",
       "        var msg = JSON.parse(evt.data);\n",
       "        var msg_type = msg['type'];\n",
       "\n",
       "        // Call the  \"handle_{type}\" callback, which takes\n",
       "        // the figure and JSON message as its only arguments.\n",
       "        try {\n",
       "            var callback = fig[\"handle_\" + msg_type];\n",
       "        } catch (e) {\n",
       "            console.log(\"No handler for the '\" + msg_type + \"' message type: \", msg);\n",
       "            return;\n",
       "        }\n",
       "\n",
       "        if (callback) {\n",
       "            try {\n",
       "                // console.log(\"Handling '\" + msg_type + \"' message: \", msg);\n",
       "                callback(fig, msg);\n",
       "            } catch (e) {\n",
       "                console.log(\"Exception inside the 'handler_\" + msg_type + \"' callback:\", e, e.stack, msg);\n",
       "            }\n",
       "        }\n",
       "    };\n",
       "}\n",
       "\n",
       "// from http://stackoverflow.com/questions/1114465/getting-mouse-location-in-canvas\n",
       "mpl.findpos = function(e) {\n",
       "    //this section is from http://www.quirksmode.org/js/events_properties.html\n",
       "    var targ;\n",
       "    if (!e)\n",
       "        e = window.event;\n",
       "    if (e.target)\n",
       "        targ = e.target;\n",
       "    else if (e.srcElement)\n",
       "        targ = e.srcElement;\n",
       "    if (targ.nodeType == 3) // defeat Safari bug\n",
       "        targ = targ.parentNode;\n",
       "\n",
       "    // jQuery normalizes the pageX and pageY\n",
       "    // pageX,Y are the mouse positions relative to the document\n",
       "    // offset() returns the position of the element relative to the document\n",
       "    var x = e.pageX - $(targ).offset().left;\n",
       "    var y = e.pageY - $(targ).offset().top;\n",
       "\n",
       "    return {\"x\": x, \"y\": y};\n",
       "};\n",
       "\n",
       "/*\n",
       " * return a copy of an object with only non-object keys\n",
       " * we need this to avoid circular references\n",
       " * http://stackoverflow.com/a/24161582/3208463\n",
       " */\n",
       "function simpleKeys (original) {\n",
       "  return Object.keys(original).reduce(function (obj, key) {\n",
       "    if (typeof original[key] !== 'object')\n",
       "        obj[key] = original[key]\n",
       "    return obj;\n",
       "  }, {});\n",
       "}\n",
       "\n",
       "mpl.figure.prototype.mouse_event = function(event, name) {\n",
       "    var canvas_pos = mpl.findpos(event)\n",
       "\n",
       "    if (name === 'button_press')\n",
       "    {\n",
       "        this.canvas.focus();\n",
       "        this.canvas_div.focus();\n",
       "    }\n",
       "\n",
       "    var x = canvas_pos.x * mpl.ratio;\n",
       "    var y = canvas_pos.y * mpl.ratio;\n",
       "\n",
       "    this.send_message(name, {x: x, y: y, button: event.button,\n",
       "                             step: event.step,\n",
       "                             guiEvent: simpleKeys(event)});\n",
       "\n",
       "    /* This prevents the web browser from automatically changing to\n",
       "     * the text insertion cursor when the button is pressed.  We want\n",
       "     * to control all of the cursor setting manually through the\n",
       "     * 'cursor' event from matplotlib */\n",
       "    event.preventDefault();\n",
       "    return false;\n",
       "}\n",
       "\n",
       "mpl.figure.prototype._key_event_extra = function(event, name) {\n",
       "    // Handle any extra behaviour associated with a key event\n",
       "}\n",
       "\n",
       "mpl.figure.prototype.key_event = function(event, name) {\n",
       "\n",
       "    // Prevent repeat events\n",
       "    if (name == 'key_press')\n",
       "    {\n",
       "        if (event.which === this._key)\n",
       "            return;\n",
       "        else\n",
       "            this._key = event.which;\n",
       "    }\n",
       "    if (name == 'key_release')\n",
       "        this._key = null;\n",
       "\n",
       "    var value = '';\n",
       "    if (event.ctrlKey && event.which != 17)\n",
       "        value += \"ctrl+\";\n",
       "    if (event.altKey && event.which != 18)\n",
       "        value += \"alt+\";\n",
       "    if (event.shiftKey && event.which != 16)\n",
       "        value += \"shift+\";\n",
       "\n",
       "    value += 'k';\n",
       "    value += event.which.toString();\n",
       "\n",
       "    this._key_event_extra(event, name);\n",
       "\n",
       "    this.send_message(name, {key: value,\n",
       "                             guiEvent: simpleKeys(event)});\n",
       "    return false;\n",
       "}\n",
       "\n",
       "mpl.figure.prototype.toolbar_button_onclick = function(name) {\n",
       "    if (name == 'download') {\n",
       "        this.handle_save(this, null);\n",
       "    } else {\n",
       "        this.send_message(\"toolbar_button\", {name: name});\n",
       "    }\n",
       "};\n",
       "\n",
       "mpl.figure.prototype.toolbar_button_onmouseover = function(tooltip) {\n",
       "    this.message.textContent = tooltip;\n",
       "};\n",
       "mpl.toolbar_items = [[\"Home\", \"Reset original view\", \"fa fa-home icon-home\", \"home\"], [\"Back\", \"Back to  previous view\", \"fa fa-arrow-left icon-arrow-left\", \"back\"], [\"Forward\", \"Forward to next view\", \"fa fa-arrow-right icon-arrow-right\", \"forward\"], [\"\", \"\", \"\", \"\"], [\"Pan\", \"Pan axes with left mouse, zoom with right\", \"fa fa-arrows icon-move\", \"pan\"], [\"Zoom\", \"Zoom to rectangle\", \"fa fa-square-o icon-check-empty\", \"zoom\"], [\"\", \"\", \"\", \"\"], [\"Download\", \"Download plot\", \"fa fa-floppy-o icon-save\", \"download\"]];\n",
       "\n",
       "mpl.extensions = [\"eps\", \"jpeg\", \"pdf\", \"png\", \"ps\", \"raw\", \"svg\", \"tif\"];\n",
       "\n",
       "mpl.default_extension = \"png\";var comm_websocket_adapter = function(comm) {\n",
       "    // Create a \"websocket\"-like object which calls the given IPython comm\n",
       "    // object with the appropriate methods. Currently this is a non binary\n",
       "    // socket, so there is still some room for performance tuning.\n",
       "    var ws = {};\n",
       "\n",
       "    ws.close = function() {\n",
       "        comm.close()\n",
       "    };\n",
       "    ws.send = function(m) {\n",
       "        //console.log('sending', m);\n",
       "        comm.send(m);\n",
       "    };\n",
       "    // Register the callback with on_msg.\n",
       "    comm.on_msg(function(msg) {\n",
       "        //console.log('receiving', msg['content']['data'], msg);\n",
       "        // Pass the mpl event to the overridden (by mpl) onmessage function.\n",
       "        ws.onmessage(msg['content']['data'])\n",
       "    });\n",
       "    return ws;\n",
       "}\n",
       "\n",
       "mpl.mpl_figure_comm = function(comm, msg) {\n",
       "    // This is the function which gets called when the mpl process\n",
       "    // starts-up an IPython Comm through the \"matplotlib\" channel.\n",
       "\n",
       "    var id = msg.content.data.id;\n",
       "    // Get hold of the div created by the display call when the Comm\n",
       "    // socket was opened in Python.\n",
       "    var element = $(\"#\" + id);\n",
       "    var ws_proxy = comm_websocket_adapter(comm)\n",
       "\n",
       "    function ondownload(figure, format) {\n",
       "        window.open(figure.imageObj.src);\n",
       "    }\n",
       "\n",
       "    var fig = new mpl.figure(id, ws_proxy,\n",
       "                           ondownload,\n",
       "                           element.get(0));\n",
       "\n",
       "    // Call onopen now - mpl needs it, as it is assuming we've passed it a real\n",
       "    // web socket which is closed, not our websocket->open comm proxy.\n",
       "    ws_proxy.onopen();\n",
       "\n",
       "    fig.parent_element = element.get(0);\n",
       "    fig.cell_info = mpl.find_output_cell(\"<div id='\" + id + \"'></div>\");\n",
       "    if (!fig.cell_info) {\n",
       "        console.error(\"Failed to find cell for figure\", id, fig);\n",
       "        return;\n",
       "    }\n",
       "\n",
       "    var output_index = fig.cell_info[2]\n",
       "    var cell = fig.cell_info[0];\n",
       "\n",
       "};\n",
       "\n",
       "mpl.figure.prototype.handle_close = function(fig, msg) {\n",
       "    var width = fig.canvas.width/mpl.ratio\n",
       "    fig.root.unbind('remove')\n",
       "\n",
       "    // Update the output cell to use the data from the current canvas.\n",
       "    fig.push_to_output();\n",
       "    var dataURL = fig.canvas.toDataURL();\n",
       "    // Re-enable the keyboard manager in IPython - without this line, in FF,\n",
       "    // the notebook keyboard shortcuts fail.\n",
       "    IPython.keyboard_manager.enable()\n",
       "    $(fig.parent_element).html('<img src=\"' + dataURL + '\" width=\"' + width + '\">');\n",
       "    fig.close_ws(fig, msg);\n",
       "}\n",
       "\n",
       "mpl.figure.prototype.close_ws = function(fig, msg){\n",
       "    fig.send_message('closing', msg);\n",
       "    // fig.ws.close()\n",
       "}\n",
       "\n",
       "mpl.figure.prototype.push_to_output = function(remove_interactive) {\n",
       "    // Turn the data on the canvas into data in the output cell.\n",
       "    var width = this.canvas.width/mpl.ratio\n",
       "    var dataURL = this.canvas.toDataURL();\n",
       "    this.cell_info[1]['text/html'] = '<img src=\"' + dataURL + '\" width=\"' + width + '\">';\n",
       "}\n",
       "\n",
       "mpl.figure.prototype.updated_canvas_event = function() {\n",
       "    // Tell IPython that the notebook contents must change.\n",
       "    IPython.notebook.set_dirty(true);\n",
       "    this.send_message(\"ack\", {});\n",
       "    var fig = this;\n",
       "    // Wait a second, then push the new image to the DOM so\n",
       "    // that it is saved nicely (might be nice to debounce this).\n",
       "    setTimeout(function () { fig.push_to_output() }, 1000);\n",
       "}\n",
       "\n",
       "mpl.figure.prototype._init_toolbar = function() {\n",
       "    var fig = this;\n",
       "\n",
       "    var nav_element = $('<div/>')\n",
       "    nav_element.attr('style', 'width: 100%');\n",
       "    this.root.append(nav_element);\n",
       "\n",
       "    // Define a callback function for later on.\n",
       "    function toolbar_event(event) {\n",
       "        return fig.toolbar_button_onclick(event['data']);\n",
       "    }\n",
       "    function toolbar_mouse_event(event) {\n",
       "        return fig.toolbar_button_onmouseover(event['data']);\n",
       "    }\n",
       "\n",
       "    for(var toolbar_ind in mpl.toolbar_items){\n",
       "        var name = mpl.toolbar_items[toolbar_ind][0];\n",
       "        var tooltip = mpl.toolbar_items[toolbar_ind][1];\n",
       "        var image = mpl.toolbar_items[toolbar_ind][2];\n",
       "        var method_name = mpl.toolbar_items[toolbar_ind][3];\n",
       "\n",
       "        if (!name) { continue; };\n",
       "\n",
       "        var button = $('<button class=\"btn btn-default\" href=\"#\" title=\"' + name + '\"><i class=\"fa ' + image + ' fa-lg\"></i></button>');\n",
       "        button.click(method_name, toolbar_event);\n",
       "        button.mouseover(tooltip, toolbar_mouse_event);\n",
       "        nav_element.append(button);\n",
       "    }\n",
       "\n",
       "    // Add the status bar.\n",
       "    var status_bar = $('<span class=\"mpl-message\" style=\"text-align:right; float: right;\"/>');\n",
       "    nav_element.append(status_bar);\n",
       "    this.message = status_bar[0];\n",
       "\n",
       "    // Add the close button to the window.\n",
       "    var buttongrp = $('<div class=\"btn-group inline pull-right\"></div>');\n",
       "    var button = $('<button class=\"btn btn-mini btn-primary\" href=\"#\" title=\"Stop Interaction\"><i class=\"fa fa-power-off icon-remove icon-large\"></i></button>');\n",
       "    button.click(function (evt) { fig.handle_close(fig, {}); } );\n",
       "    button.mouseover('Stop Interaction', toolbar_mouse_event);\n",
       "    buttongrp.append(button);\n",
       "    var titlebar = this.root.find($('.ui-dialog-titlebar'));\n",
       "    titlebar.prepend(buttongrp);\n",
       "}\n",
       "\n",
       "mpl.figure.prototype._root_extra_style = function(el){\n",
       "    var fig = this\n",
       "    el.on(\"remove\", function(){\n",
       "\tfig.close_ws(fig, {});\n",
       "    });\n",
       "}\n",
       "\n",
       "mpl.figure.prototype._canvas_extra_style = function(el){\n",
       "    // this is important to make the div 'focusable\n",
       "    el.attr('tabindex', 0)\n",
       "    // reach out to IPython and tell the keyboard manager to turn it's self\n",
       "    // off when our div gets focus\n",
       "\n",
       "    // location in version 3\n",
       "    if (IPython.notebook.keyboard_manager) {\n",
       "        IPython.notebook.keyboard_manager.register_events(el);\n",
       "    }\n",
       "    else {\n",
       "        // location in version 2\n",
       "        IPython.keyboard_manager.register_events(el);\n",
       "    }\n",
       "\n",
       "}\n",
       "\n",
       "mpl.figure.prototype._key_event_extra = function(event, name) {\n",
       "    var manager = IPython.notebook.keyboard_manager;\n",
       "    if (!manager)\n",
       "        manager = IPython.keyboard_manager;\n",
       "\n",
       "    // Check for shift+enter\n",
       "    if (event.shiftKey && event.which == 13) {\n",
       "        this.canvas_div.blur();\n",
       "        event.shiftKey = false;\n",
       "        // Send a \"J\" for go to next cell\n",
       "        event.which = 74;\n",
       "        event.keyCode = 74;\n",
       "        manager.command_mode();\n",
       "        manager.handle_keydown(event);\n",
       "    }\n",
       "}\n",
       "\n",
       "mpl.figure.prototype.handle_save = function(fig, msg) {\n",
       "    fig.ondownload(fig, null);\n",
       "}\n",
       "\n",
       "\n",
       "mpl.find_output_cell = function(html_output) {\n",
       "    // Return the cell and output element which can be found *uniquely* in the notebook.\n",
       "    // Note - this is a bit hacky, but it is done because the \"notebook_saving.Notebook\"\n",
       "    // IPython event is triggered only after the cells have been serialised, which for\n",
       "    // our purposes (turning an active figure into a static one), is too late.\n",
       "    var cells = IPython.notebook.get_cells();\n",
       "    var ncells = cells.length;\n",
       "    for (var i=0; i<ncells; i++) {\n",
       "        var cell = cells[i];\n",
       "        if (cell.cell_type === 'code'){\n",
       "            for (var j=0; j<cell.output_area.outputs.length; j++) {\n",
       "                var data = cell.output_area.outputs[j];\n",
       "                if (data.data) {\n",
       "                    // IPython >= 3 moved mimebundle to data attribute of output\n",
       "                    data = data.data;\n",
       "                }\n",
       "                if (data['text/html'] == html_output) {\n",
       "                    return [cell, data, j];\n",
       "                }\n",
       "            }\n",
       "        }\n",
       "    }\n",
       "}\n",
       "\n",
       "// Register the function which deals with the matplotlib target/channel.\n",
       "// The kernel may be null if the page has been refreshed.\n",
       "if (IPython.notebook.kernel != null) {\n",
       "    IPython.notebook.kernel.comm_manager.register_target('matplotlib', mpl.mpl_figure_comm);\n",
       "}\n"
      ],
      "text/plain": [
       "<IPython.core.display.Javascript object>"
      ]
     },
     "metadata": {},
     "output_type": "display_data"
    },
    {
     "data": {
      "text/html": [
       "<img src=\"data:image/png;base64,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\" width=\"640\">"
      ],
      "text/plain": [
       "<IPython.core.display.HTML object>"
      ]
     },
     "metadata": {},
     "output_type": "display_data"
    },
    {
     "name": "stderr",
     "output_type": "stream",
     "text": [
      "D:\\AnacondaPython\\lib\\site-packages\\ipykernel_launcher.py:5: RuntimeWarning: divide by zero encountered in log\n",
      "  \"\"\"\n"
     ]
    },
    {
     "data": {
      "application/vnd.jupyter.widget-view+json": {
       "model_id": "cbe01110c107466c972e49c0a482dad7",
       "version_major": 2,
       "version_minor": 0
      },
      "text/plain": [
       "interactive(children=(IntSlider(value=1, description='e', max=500, min=-500), Output()), _dom_classes=('widget…"
      ]
     },
     "metadata": {},
     "output_type": "display_data"
    }
   ],
   "source": [
    "\n",
    "x2 = np.linspace(0, density-1, density)\n",
    "fig2 = plt.figure()\n",
    "ax2 = fig2.add_subplot(1, 1, 1)\n",
    "line2, = ax2.plot(np.log(x2[0:x2.size-2]), np.log(np.abs(val[0:x2.size-2])**(1/2)))\n",
    "\n",
    "def update2(e = 1.0):\n",
    "    eigenValues, eigenVectors = np.linalg.eig(build(density, e))\n",
    "\n",
    "    idx = eigenValues.argsort()   \n",
    "    val = eigenValues[idx]\n",
    "    plt.ylim(top=5.0)\n",
    "    plt.ylim(bottom=-0.5)\n",
    "    \n",
    "    line2.set_ydata(np.log(np.abs(val[0:x2.size-2])**(1/2)))\n",
    "    fig2.canvas.draw()\n",
    "\n",
    "interact(update2, e = widgets.IntSlider(min=-500,max=500,step=1,value=1));\n"
   ]
  },
  {
   "cell_type": "markdown",
   "metadata": {},
   "source": [
    "Верхняя часть зависимости не меняется и имеет такой вид из-за того, что характерное поведение высокоэнергетической частицы проявляется на расстояниях порядка размера сетки (и, как следствие, смысл такое моделирование теряет). Поведение на низких энергиях я объяснить пока что не в состоянии (за исключением, разумеется, того, что при малых размерах горба наклон прямой порядка единицы)."
   ]
  },
  {
   "cell_type": "code",
   "execution_count": null,
   "metadata": {},
   "outputs": [],
   "source": []
  }
 ],
 "metadata": {
  "kernelspec": {
   "display_name": "Python 3",
   "language": "python",
   "name": "python3"
  },
  "language_info": {
   "codemirror_mode": {
    "name": "ipython",
    "version": 3
   },
   "file_extension": ".py",
   "mimetype": "text/x-python",
   "name": "python",
   "nbconvert_exporter": "python",
   "pygments_lexer": "ipython3",
   "version": "3.6.5"
  },
  "widgets": {
   "application/vnd.jupyter.widget-state+json": {
    "state": {
     "004451182a5342cb9fbd6070d3c39159": {
      "model_module": "@jupyter-widgets/controls",
      "model_module_version": "1.2.0",
      "model_name": "SliderStyleModel",
      "state": {
       "description_width": ""
      }
     },
     "02d3a1fc429b4f9b80ef138dc0ba747b": {
      "model_module": "@jupyter-widgets/controls",
      "model_module_version": "1.2.0",
      "model_name": "SliderStyleModel",
      "state": {
       "description_width": ""
      }
     },
     "02f8c93bf92a472a93c62ecbef1f941b": {
      "model_module": "@jupyter-widgets/controls",
      "model_module_version": "1.2.0",
      "model_name": "IntSliderModel",
      "state": {
       "description": "c",
       "layout": "IPY_MODEL_adf534a84b1142869f9bc002daa8ff78",
       "max": 500,
       "min": -500,
       "style": "IPY_MODEL_f2a9b28c3df541379d7cbfe6aeb8a6e4",
       "value": 1
      }
     },
     "035562eba6e44920b803b823f9049468": {
      "model_module": "@jupyter-widgets/controls",
      "model_module_version": "1.2.0",
      "model_name": "VBoxModel",
      "state": {
       "_dom_classes": [
        "widget-interact"
       ],
       "children": [
        "IPY_MODEL_175b2eed097e4b05b3b623ee3295cd19",
        "IPY_MODEL_a9208793593a4988ba8053883acc7301"
       ],
       "layout": "IPY_MODEL_727db649dbbc40eb958e838f6c5ddcae"
      }
     },
     "03b67890bdf94467ae02fb097869b454": {
      "model_module": "@jupyter-widgets/base",
      "model_module_version": "1.0.0",
      "model_name": "LayoutModel",
      "state": {}
     },
     "0408ef6f3aa74e1e984f2c48d4e3429e": {
      "model_module": "@jupyter-widgets/output",
      "model_module_version": "1.0.0",
      "model_name": "OutputModel",
      "state": {
       "layout": "IPY_MODEL_42d7d21b8c274377bb8ea90ea8a18164",
       "outputs": [
        {
         "data": {
          "image/png": "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\n",
          "text/plain": "<Figure size 432x288 with 1 Axes>"
         },
         "metadata": {},
         "output_type": "display_data"
        }
       ]
      }
     },
     "05331cfcd8324b35b4f87d6ef60ffeb9": {
      "model_module": "@jupyter-widgets/controls",
      "model_module_version": "1.2.0",
      "model_name": "IntSliderModel",
      "state": {
       "description": "e",
       "layout": "IPY_MODEL_9854a3cb77ea4364ad36f7aa66c823a4",
       "max": 500,
       "min": -500,
       "style": "IPY_MODEL_f3f3e6dcda7b4a8e9062ca77026319c0",
       "value": 1
      }
     },
     "06290166b0224af9bfde4fa550568f13": {
      "model_module": "@jupyter-widgets/controls",
      "model_module_version": "1.2.0",
      "model_name": "SliderStyleModel",
      "state": {
       "description_width": ""
      }
     },
     "06643c4ccfd8426694b579229bc4534f": {
      "model_module": "@jupyter-widgets/controls",
      "model_module_version": "1.2.0",
      "model_name": "IntSliderModel",
      "state": {
       "description": "c",
       "layout": "IPY_MODEL_abe94cba84d6400594a1895b1f8e378e",
       "max": 500,
       "min": -500,
       "style": "IPY_MODEL_c5b2a4e38a924047951343f0d9bbcc34",
       "value": 1
      }
     },
     "06ac35f87daf4d9db5288d81c8497040": {
      "model_module": "@jupyter-widgets/base",
      "model_module_version": "1.0.0",
      "model_name": "LayoutModel",
      "state": {}
     },
     "06bc092a24d348d5b60c1ffee8a2226f": {
      "model_module": "@jupyter-widgets/controls",
      "model_module_version": "1.2.0",
      "model_name": "SliderStyleModel",
      "state": {
       "description_width": ""
      }
     },
     "07ec4671bbcc423c999397b292e5986c": {
      "model_module": "@jupyter-widgets/controls",
      "model_module_version": "1.2.0",
      "model_name": "IntSliderModel",
      "state": {
       "description": "d",
       "layout": "IPY_MODEL_17fb8bf6a53141c3976df0f9191c1095",
       "max": 500,
       "min": -500,
       "style": "IPY_MODEL_a40bff1c5afe4ba9abd413376e489c03",
       "value": 198
      }
     },
     "081e800abee541bdae404c5ecd43bab4": {
      "model_module": "@jupyter-widgets/controls",
      "model_module_version": "1.2.0",
      "model_name": "VBoxModel",
      "state": {
       "_dom_classes": [
        "widget-interact"
       ],
       "children": [
        "IPY_MODEL_b686d222cbdc4500bb7da5e9c1e7ed01",
        "IPY_MODEL_0408ef6f3aa74e1e984f2c48d4e3429e"
       ],
       "layout": "IPY_MODEL_867112fb2d844008a706f553fac254b0"
      }
     },
     "097d4b8c44b04176b78c183564aa9d83": {
      "model_module": "@jupyter-widgets/controls",
      "model_module_version": "1.2.0",
      "model_name": "IntSliderModel",
      "state": {
       "description": "c",
       "layout": "IPY_MODEL_2a654100fa134e9c8f56b81d83df0cff",
       "max": 500,
       "min": -500,
       "style": "IPY_MODEL_7b24cfdd30bb4384a6865822ccf9dd83",
       "value": 500
      }
     },
     "0a78019cfe5d40129663c14c171542f9": {
      "model_module": "@jupyter-widgets/base",
      "model_module_version": "1.0.0",
      "model_name": "LayoutModel",
      "state": {}
     },
     "0b0f395774734d7a81a4094e4d9bab5b": {
      "model_module": "@jupyter-widgets/base",
      "model_module_version": "1.0.0",
      "model_name": "LayoutModel",
      "state": {}
     },
     "0ba64ad8dec54c4ab864c23d85291f34": {
      "model_module": "@jupyter-widgets/base",
      "model_module_version": "1.0.0",
      "model_name": "LayoutModel",
      "state": {}
     },
     "0cd542174c56436db9d6e9edc78e7591": {
      "model_module": "@jupyter-widgets/base",
      "model_module_version": "1.0.0",
      "model_name": "LayoutModel",
      "state": {}
     },
     "0dbb8792e5494e248df5f67e803a08fd": {
      "model_module": "@jupyter-widgets/base",
      "model_module_version": "1.0.0",
      "model_name": "LayoutModel",
      "state": {}
     },
     "0f98774c0fab4ee8af9520d39db06b55": {
      "model_module": "@jupyter-widgets/output",
      "model_module_version": "1.0.0",
      "model_name": "OutputModel",
      "state": {
       "layout": "IPY_MODEL_9a2c3679bffe43fbad61ea3e20982aa4"
      }
     },
     "101c14e5304c4fb29f06065eed54103b": {
      "model_module": "@jupyter-widgets/controls",
      "model_module_version": "1.2.0",
      "model_name": "VBoxModel",
      "state": {
       "_dom_classes": [
        "widget-interact"
       ],
       "children": [
        "IPY_MODEL_fff1452423994d7f9525076f91e558e0",
        "IPY_MODEL_96af38874ce644c2850b5d9056d87e82"
       ],
       "layout": "IPY_MODEL_30b60c3635b24f0bae845c0328e8750d"
      }
     },
     "103d84833df44f9dbd92064ba20a81fa": {
      "model_module": "@jupyter-widgets/controls",
      "model_module_version": "1.2.0",
      "model_name": "VBoxModel",
      "state": {
       "_dom_classes": [
        "widget-interact"
       ],
       "children": [
        "IPY_MODEL_714dba23e90947c58fb097877d858a06",
        "IPY_MODEL_488fe3145ba047c4b45c9aaa72cec3b0"
       ],
       "layout": "IPY_MODEL_7e5e7b458b674fbdb70e944d58b29cb7"
      }
     },
     "11082665d5b442a3b1f32e2ac3630170": {
      "model_module": "@jupyter-widgets/controls",
      "model_module_version": "1.2.0",
      "model_name": "SliderStyleModel",
      "state": {
       "description_width": ""
      }
     },
     "11eab11223874e4aa5f178cf3b0265f7": {
      "model_module": "@jupyter-widgets/controls",
      "model_module_version": "1.2.0",
      "model_name": "VBoxModel",
      "state": {
       "_dom_classes": [
        "widget-interact"
       ],
       "children": [
        "IPY_MODEL_64cf54c888a1413eb1e8d2e199c7026b",
        "IPY_MODEL_d067b6e09d2c46fcb911aa9bb4d840c5"
       ],
       "layout": "IPY_MODEL_ba1423e4090645d691306483feeefb6c"
      }
     },
     "123a1ec2917b4d68aff089419564a391": {
      "model_module": "@jupyter-widgets/controls",
      "model_module_version": "1.2.0",
      "model_name": "IntSliderModel",
      "state": {
       "description": "c",
       "layout": "IPY_MODEL_f0b5eae1ab3f4797824774855bbedd0c",
       "max": 500,
       "min": -500,
       "style": "IPY_MODEL_aaad31a5f4194c608c09865486f985ab",
       "value": 1
      }
     },
     "13655a655c484c3ba2391c9b3512ac86": {
      "model_module": "@jupyter-widgets/base",
      "model_module_version": "1.0.0",
      "model_name": "LayoutModel",
      "state": {}
     },
     "13be72b26a0544d2a77d446d27f8a5b6": {
      "model_module": "@jupyter-widgets/base",
      "model_module_version": "1.0.0",
      "model_name": "LayoutModel",
      "state": {}
     },
     "14afe80a145b46c18fac694b2535429e": {
      "model_module": "@jupyter-widgets/base",
      "model_module_version": "1.0.0",
      "model_name": "LayoutModel",
      "state": {}
     },
     "15aedf290fc14662be1f2a18ba0c996d": {
      "model_module": "@jupyter-widgets/output",
      "model_module_version": "1.0.0",
      "model_name": "OutputModel",
      "state": {
       "layout": "IPY_MODEL_90f3cf7e68f84a9cb82c858f58370599"
      }
     },
     "16111f549c9244f7b129d0995f98cf01": {
      "model_module": "@jupyter-widgets/controls",
      "model_module_version": "1.2.0",
      "model_name": "SliderStyleModel",
      "state": {
       "description_width": ""
      }
     },
     "162019b4350f48ea82f8b3f0f0f85077": {
      "model_module": "@jupyter-widgets/base",
      "model_module_version": "1.0.0",
      "model_name": "LayoutModel",
      "state": {}
     },
     "172af993adff44a7b1bb781d558df610": {
      "model_module": "@jupyter-widgets/base",
      "model_module_version": "1.0.0",
      "model_name": "LayoutModel",
      "state": {}
     },
     "1732fa2eecd6456eb586d898c00c8c1c": {
      "model_module": "@jupyter-widgets/base",
      "model_module_version": "1.0.0",
      "model_name": "LayoutModel",
      "state": {}
     },
     "175b2eed097e4b05b3b623ee3295cd19": {
      "model_module": "@jupyter-widgets/controls",
      "model_module_version": "1.2.0",
      "model_name": "IntSliderModel",
      "state": {
       "description": "e",
       "layout": "IPY_MODEL_8398e7304bc244ebb278bbb2e1968083",
       "max": 500,
       "min": -500,
       "style": "IPY_MODEL_d62c9b780e284b658b2aa241be46d7fa",
       "value": 1
      }
     },
     "17fb8bf6a53141c3976df0f9191c1095": {
      "model_module": "@jupyter-widgets/base",
      "model_module_version": "1.0.0",
      "model_name": "LayoutModel",
      "state": {}
     },
     "184b5971d32744c88de5cd3b36578035": {
      "model_module": "@jupyter-widgets/base",
      "model_module_version": "1.0.0",
      "model_name": "LayoutModel",
      "state": {}
     },
     "19a8089d959e4f0db4712c9cca115c9c": {
      "model_module": "@jupyter-widgets/base",
      "model_module_version": "1.0.0",
      "model_name": "LayoutModel",
      "state": {}
     },
     "19be82226e4f445ab3ef97a830b75654": {
      "model_module": "@jupyter-widgets/base",
      "model_module_version": "1.0.0",
      "model_name": "LayoutModel",
      "state": {}
     },
     "1a3d45c2ba05427ca6425064e52792ee": {
      "model_module": "@jupyter-widgets/base",
      "model_module_version": "1.0.0",
      "model_name": "LayoutModel",
      "state": {}
     },
     "1b30451bd06f453ca7a8eed5a179ff2c": {
      "model_module": "@jupyter-widgets/controls",
      "model_module_version": "1.2.0",
      "model_name": "SliderStyleModel",
      "state": {
       "description_width": ""
      }
     },
     "1bc75d5a850e425bbf09ae6b691cc59c": {
      "model_module": "@jupyter-widgets/base",
      "model_module_version": "1.0.0",
      "model_name": "LayoutModel",
      "state": {}
     },
     "1d21a591c4a740458a4618a8ef259aad": {
      "model_module": "@jupyter-widgets/base",
      "model_module_version": "1.0.0",
      "model_name": "LayoutModel",
      "state": {}
     },
     "1e6ab9b83ba5403fb0eec3c39062ab4e": {
      "model_module": "@jupyter-widgets/base",
      "model_module_version": "1.0.0",
      "model_name": "LayoutModel",
      "state": {}
     },
     "1ee9271d7b0040fcae6f6e06de031ca1": {
      "model_module": "@jupyter-widgets/controls",
      "model_module_version": "1.2.0",
      "model_name": "VBoxModel",
      "state": {
       "_dom_classes": [
        "widget-interact"
       ],
       "children": [
        "IPY_MODEL_43882076ae064379873698cc46132fa0",
        "IPY_MODEL_a08d91265c434a0d82279eb4ca33459a"
       ],
       "layout": "IPY_MODEL_bd300ac71eaa4877afd14e7a6ef2074b"
      }
     },
     "1f7d0e5acd4d4527ac31204b4cb3139f": {
      "model_module": "@jupyter-widgets/controls",
      "model_module_version": "1.2.0",
      "model_name": "IntSliderModel",
      "state": {
       "description": "e",
       "layout": "IPY_MODEL_b13cc44a8ddb4a278790341a57971efe",
       "max": 500,
       "min": -500,
       "style": "IPY_MODEL_9559ee2e95aa43a096905b8f61b9f600",
       "value": 1
      }
     },
     "206940dc2d7b47559b3732cf535e3b8a": {
      "model_module": "@jupyter-widgets/base",
      "model_module_version": "1.0.0",
      "model_name": "LayoutModel",
      "state": {}
     },
     "20ef44c8c8a74ad18774cd16f678d181": {
      "model_module": "@jupyter-widgets/controls",
      "model_module_version": "1.2.0",
      "model_name": "SliderStyleModel",
      "state": {
       "description_width": ""
      }
     },
     "20f5e5fbe312467d970a3d1b5af878f1": {
      "model_module": "@jupyter-widgets/controls",
      "model_module_version": "1.2.0",
      "model_name": "IntSliderModel",
      "state": {
       "description": "c",
       "layout": "IPY_MODEL_c7366668e6814cb08e967875f7223517",
       "max": 500,
       "min": -500,
       "style": "IPY_MODEL_411e7e187d784156955f356654015e9e",
       "value": 1
      }
     },
     "2196f9ac2506444fa08f3976ad9acba6": {
      "model_module": "@jupyter-widgets/base",
      "model_module_version": "1.0.0",
      "model_name": "LayoutModel",
      "state": {}
     },
     "223a82f5802b40dba8ff0cd2df5441a7": {
      "model_module": "@jupyter-widgets/base",
      "model_module_version": "1.0.0",
      "model_name": "LayoutModel",
      "state": {}
     },
     "246b2e79a4374e4ebab65e804576a961": {
      "model_module": "@jupyter-widgets/base",
      "model_module_version": "1.0.0",
      "model_name": "LayoutModel",
      "state": {}
     },
     "24a7e7af0b8445e292e0da8b6e83b2ea": {
      "model_module": "@jupyter-widgets/controls",
      "model_module_version": "1.2.0",
      "model_name": "VBoxModel",
      "state": {
       "_dom_classes": [
        "widget-interact"
       ],
       "children": [
        "IPY_MODEL_2ec3c6a38b5343799ea86ea2fc2c25db",
        "IPY_MODEL_817d72a78e6c4b7cb401a339cfee2a29"
       ],
       "layout": "IPY_MODEL_184b5971d32744c88de5cd3b36578035"
      }
     },
     "2587f45354424dc4a92bde4b2f242742": {
      "model_module": "@jupyter-widgets/controls",
      "model_module_version": "1.2.0",
      "model_name": "VBoxModel",
      "state": {
       "_dom_classes": [
        "widget-interact"
       ],
       "children": [
        "IPY_MODEL_269ae4a2c27f45cf8ab165236ff8a642",
        "IPY_MODEL_0f98774c0fab4ee8af9520d39db06b55"
       ],
       "layout": "IPY_MODEL_6ca09a27847540e081bba6dd5641507e"
      }
     },
     "2597dcf8a2ba4b0e8d63fc2bb131079d": {
      "model_module": "@jupyter-widgets/base",
      "model_module_version": "1.0.0",
      "model_name": "LayoutModel",
      "state": {}
     },
     "25fde21880b2420e9075620583b2aeaf": {
      "model_module": "@jupyter-widgets/base",
      "model_module_version": "1.0.0",
      "model_name": "LayoutModel",
      "state": {}
     },
     "269ae4a2c27f45cf8ab165236ff8a642": {
      "model_module": "@jupyter-widgets/controls",
      "model_module_version": "1.2.0",
      "model_name": "IntSliderModel",
      "state": {
       "description": "c",
       "layout": "IPY_MODEL_47d2b7b8329748a5ac0c6273c2fa39de",
       "max": 500,
       "min": -500,
       "style": "IPY_MODEL_c3ccaad2c2d24a5fb11c2aa9e2d7e072",
       "value": 1
      }
     },
     "2839e77885e04a1d8bec65a8efbf54a4": {
      "model_module": "@jupyter-widgets/base",
      "model_module_version": "1.0.0",
      "model_name": "LayoutModel",
      "state": {}
     },
     "290df0c9bb064406a82cc34beef7dcdd": {
      "model_module": "@jupyter-widgets/base",
      "model_module_version": "1.0.0",
      "model_name": "LayoutModel",
      "state": {}
     },
     "29861857e78f4afa8426779ce83208a6": {
      "model_module": "@jupyter-widgets/controls",
      "model_module_version": "1.2.0",
      "model_name": "IntSliderModel",
      "state": {
       "description": "c",
       "layout": "IPY_MODEL_7057f3ea967c4c3fb60ce15af6a8fd17",
       "max": 500,
       "min": -500,
       "style": "IPY_MODEL_36a856a7f4b04c7aafb7fc1f26a4e0c5",
       "value": 1
      }
     },
     "2a654100fa134e9c8f56b81d83df0cff": {
      "model_module": "@jupyter-widgets/base",
      "model_module_version": "1.0.0",
      "model_name": "LayoutModel",
      "state": {}
     },
     "2a6f862c85554c36b16130c114d193fe": {
      "model_module": "@jupyter-widgets/controls",
      "model_module_version": "1.2.0",
      "model_name": "IntSliderModel",
      "state": {
       "description": "c",
       "layout": "IPY_MODEL_82ad689648024cabb18cac5253eeae0d",
       "max": 500,
       "min": -500,
       "style": "IPY_MODEL_50a6fe495bd34f2ea3ae278f8c2f659b",
       "value": 1
      }
     },
     "2abe5acb0333415e806d7e5a760710ca": {
      "model_module": "@jupyter-widgets/controls",
      "model_module_version": "1.2.0",
      "model_name": "SliderStyleModel",
      "state": {
       "description_width": ""
      }
     },
     "2ac7f39c9db9430e8dc05f7612a7c9c7": {
      "model_module": "@jupyter-widgets/base",
      "model_module_version": "1.0.0",
      "model_name": "LayoutModel",
      "state": {}
     },
     "2b40f1f7b70b4f3087173b7459c05715": {
      "model_module": "@jupyter-widgets/controls",
      "model_module_version": "1.2.0",
      "model_name": "IntSliderModel",
      "state": {
       "description": "c",
       "layout": "IPY_MODEL_32942460f39f4efe87e2aad80964c055",
       "max": 500,
       "min": -500,
       "style": "IPY_MODEL_aebe1156d20049f7885e3c089cb66242",
       "value": 20
      }
     },
     "2c50029d01b048c39a6ec7c05be5a725": {
      "model_module": "@jupyter-widgets/controls",
      "model_module_version": "1.2.0",
      "model_name": "IntSliderModel",
      "state": {
       "description": "c",
       "layout": "IPY_MODEL_55351d6c51c144ffa14d42e72b32bbd3",
       "max": 500,
       "min": -500,
       "style": "IPY_MODEL_9e666fe22e294907830c00f69de47ce2",
       "value": -145
      }
     },
     "2d7a38aa7ad84d82aa1d257aeaa5ef0f": {
      "model_module": "@jupyter-widgets/controls",
      "model_module_version": "1.2.0",
      "model_name": "SliderStyleModel",
      "state": {
       "description_width": ""
      }
     },
     "2dc0693ee845489c8b23f989be3ab5ad": {
      "model_module": "@jupyter-widgets/output",
      "model_module_version": "1.0.0",
      "model_name": "OutputModel",
      "state": {
       "layout": "IPY_MODEL_7f0b25ae1c204b7cb89fe7e3b7baed0f"
      }
     },
     "2e21b8af2cb1403a84cf220819808678": {
      "model_module": "@jupyter-widgets/base",
      "model_module_version": "1.0.0",
      "model_name": "LayoutModel",
      "state": {}
     },
     "2e5553d675cb41259447ea360820c694": {
      "model_module": "@jupyter-widgets/output",
      "model_module_version": "1.0.0",
      "model_name": "OutputModel",
      "state": {
       "layout": "IPY_MODEL_70189e6ccec540748af3f2ee08ca29d3"
      }
     },
     "2ec3c6a38b5343799ea86ea2fc2c25db": {
      "model_module": "@jupyter-widgets/controls",
      "model_module_version": "1.2.0",
      "model_name": "IntSliderModel",
      "state": {
       "description": "c",
       "layout": "IPY_MODEL_f89b5c6328bd4965ac905edc027fc09a",
       "max": 500,
       "min": -500,
       "style": "IPY_MODEL_82da8be043a34736bb8027f1c124bec1",
       "value": 4
      }
     },
     "2fa1c4a055544c29ab10705f6e3a02b8": {
      "model_module": "@jupyter-widgets/base",
      "model_module_version": "1.0.0",
      "model_name": "LayoutModel",
      "state": {}
     },
     "3035c17255b943de91f99ba23f23fb17": {
      "model_module": "@jupyter-widgets/controls",
      "model_module_version": "1.2.0",
      "model_name": "VBoxModel",
      "state": {
       "_dom_classes": [
        "widget-interact"
       ],
       "children": [
        "IPY_MODEL_097d4b8c44b04176b78c183564aa9d83",
        "IPY_MODEL_ee94896624704b4eb8f490339a4cb78e"
       ],
       "layout": "IPY_MODEL_c0fc65fc6cd34b6589899d918de213ab"
      }
     },
     "30b60c3635b24f0bae845c0328e8750d": {
      "model_module": "@jupyter-widgets/base",
      "model_module_version": "1.0.0",
      "model_name": "LayoutModel",
      "state": {}
     },
     "323ca638b61d4ecba65d26b98a5945a9": {
      "model_module": "@jupyter-widgets/controls",
      "model_module_version": "1.2.0",
      "model_name": "VBoxModel",
      "state": {
       "_dom_classes": [
        "widget-interact"
       ],
       "children": [
        "IPY_MODEL_2b40f1f7b70b4f3087173b7459c05715",
        "IPY_MODEL_5f8307b86656460a8b340a2887ae7459"
       ],
       "layout": "IPY_MODEL_290df0c9bb064406a82cc34beef7dcdd"
      }
     },
     "32942460f39f4efe87e2aad80964c055": {
      "model_module": "@jupyter-widgets/base",
      "model_module_version": "1.0.0",
      "model_name": "LayoutModel",
      "state": {}
     },
     "3328c20a5ca442bbb5a8cb960505eb57": {
      "model_module": "@jupyter-widgets/output",
      "model_module_version": "1.0.0",
      "model_name": "OutputModel",
      "state": {
       "layout": "IPY_MODEL_35607857f9264390a08768b14310d36f"
      }
     },
     "3403f409f3f245a2925948f1446410ee": {
      "model_module": "@jupyter-widgets/base",
      "model_module_version": "1.0.0",
      "model_name": "LayoutModel",
      "state": {}
     },
     "3474913c2b064d68a483e5647faa9668": {
      "model_module": "@jupyter-widgets/base",
      "model_module_version": "1.0.0",
      "model_name": "LayoutModel",
      "state": {}
     },
     "3526f43d71184faa85b07d4f93b85d4e": {
      "model_module": "@jupyter-widgets/controls",
      "model_module_version": "1.2.0",
      "model_name": "SliderStyleModel",
      "state": {
       "description_width": ""
      }
     },
     "35607857f9264390a08768b14310d36f": {
      "model_module": "@jupyter-widgets/base",
      "model_module_version": "1.0.0",
      "model_name": "LayoutModel",
      "state": {}
     },
     "358af3966ae64499a0cef1d86c549dd4": {
      "model_module": "@jupyter-widgets/base",
      "model_module_version": "1.0.0",
      "model_name": "LayoutModel",
      "state": {}
     },
     "36869dae16f248d8b110d33efedcfe7b": {
      "model_module": "@jupyter-widgets/controls",
      "model_module_version": "1.2.0",
      "model_name": "IntSliderModel",
      "state": {
       "description": "c",
       "layout": "IPY_MODEL_19a8089d959e4f0db4712c9cca115c9c",
       "max": 500,
       "min": -500,
       "style": "IPY_MODEL_96f4b3aef2bd447a982c1a6a42cf7949",
       "value": 1
      }
     },
     "36a856a7f4b04c7aafb7fc1f26a4e0c5": {
      "model_module": "@jupyter-widgets/controls",
      "model_module_version": "1.2.0",
      "model_name": "SliderStyleModel",
      "state": {
       "description_width": ""
      }
     },
     "36b1345f624b422eba08f4f4fa850a1a": {
      "model_module": "@jupyter-widgets/output",
      "model_module_version": "1.0.0",
      "model_name": "OutputModel",
      "state": {
       "layout": "IPY_MODEL_58b2d3f5308e4961ba8204db3a023bcb"
      }
     },
     "36bd56b113d64c6697e8b74bbdcf3966": {
      "model_module": "@jupyter-widgets/controls",
      "model_module_version": "1.2.0",
      "model_name": "VBoxModel",
      "state": {
       "_dom_classes": [
        "widget-interact"
       ],
       "children": [
        "IPY_MODEL_457a5231545747208d323601d16394ae",
        "IPY_MODEL_b9997fe3919d4ec4b127d25aeb921abb"
       ],
       "layout": "IPY_MODEL_19be82226e4f445ab3ef97a830b75654"
      }
     },
     "393ea25bf2aa4e5e90c5a3fd021bbd06": {
      "model_module": "@jupyter-widgets/controls",
      "model_module_version": "1.2.0",
      "model_name": "IntSliderModel",
      "state": {
       "description": "d",
       "layout": "IPY_MODEL_fc6cc5c8e6594727a32eb68100d35cc5",
       "max": 500,
       "min": -500,
       "style": "IPY_MODEL_4cdef48f4e9141168a848a9b2d28c9cc",
       "value": -500
      }
     },
     "39a5bf05be8b493a891690b64eceeaa9": {
      "model_module": "@jupyter-widgets/controls",
      "model_module_version": "1.2.0",
      "model_name": "IntSliderModel",
      "state": {
       "description": "c",
       "layout": "IPY_MODEL_14afe80a145b46c18fac694b2535429e",
       "max": 500,
       "min": -500,
       "style": "IPY_MODEL_6b5c8e81705b4512b9b642d970da266f",
       "value": -500
      }
     },
     "3b55dcee58354b479dc90c2ab13c9ff3": {
      "model_module": "@jupyter-widgets/base",
      "model_module_version": "1.0.0",
      "model_name": "LayoutModel",
      "state": {}
     },
     "3c5c5925991b4f70b475df9547bb1e45": {
      "model_module": "@jupyter-widgets/base",
      "model_module_version": "1.0.0",
      "model_name": "LayoutModel",
      "state": {}
     },
     "3cb991f1ff794046a95c2473f8dbb850": {
      "model_module": "@jupyter-widgets/base",
      "model_module_version": "1.0.0",
      "model_name": "LayoutModel",
      "state": {}
     },
     "3e81ec0c4f5c493dafba94e92c751dc7": {
      "model_module": "@jupyter-widgets/controls",
      "model_module_version": "1.2.0",
      "model_name": "VBoxModel",
      "state": {
       "_dom_classes": [
        "widget-interact"
       ],
       "children": [
        "IPY_MODEL_1f7d0e5acd4d4527ac31204b4cb3139f",
        "IPY_MODEL_a6c7480757a243cb924eda8de038e325"
       ],
       "layout": "IPY_MODEL_91c52be041ef4382b84e7c866db70829"
      }
     },
     "3ee4866cf1dc4b7d850908f55c40efae": {
      "model_module": "@jupyter-widgets/output",
      "model_module_version": "1.0.0",
      "model_name": "OutputModel",
      "state": {
       "layout": "IPY_MODEL_ae0f2e4090f549acb67cf1e46a5b5cd1"
      }
     },
     "3eee6dee7c834b01a223fa43962d855f": {
      "model_module": "@jupyter-widgets/base",
      "model_module_version": "1.0.0",
      "model_name": "LayoutModel",
      "state": {}
     },
     "3f374b997ecf452ab6ff97121021c724": {
      "model_module": "@jupyter-widgets/base",
      "model_module_version": "1.0.0",
      "model_name": "LayoutModel",
      "state": {}
     },
     "3fc85b3e63844186a4b99fe74a91936d": {
      "model_module": "@jupyter-widgets/controls",
      "model_module_version": "1.2.0",
      "model_name": "IntSliderModel",
      "state": {
       "description": "e",
       "layout": "IPY_MODEL_646f9f9ac18040e29e75d9c6f26e61f1",
       "max": 500,
       "min": -500,
       "style": "IPY_MODEL_863f720dc314413b98506dfdcf5fe33a",
       "value": -102
      }
     },
     "40461ee8a2ed4bb7a5a8bf9c7921213e": {
      "model_module": "@jupyter-widgets/base",
      "model_module_version": "1.0.0",
      "model_name": "LayoutModel",
      "state": {}
     },
     "411e7e187d784156955f356654015e9e": {
      "model_module": "@jupyter-widgets/controls",
      "model_module_version": "1.2.0",
      "model_name": "SliderStyleModel",
      "state": {
       "description_width": ""
      }
     },
     "41992c51316b44c39b8027dee885bd2c": {
      "model_module": "@jupyter-widgets/base",
      "model_module_version": "1.0.0",
      "model_name": "LayoutModel",
      "state": {}
     },
     "41b1d827acc34c48b92b364dc13d99cd": {
      "model_module": "@jupyter-widgets/controls",
      "model_module_version": "1.2.0",
      "model_name": "VBoxModel",
      "state": {
       "_dom_classes": [
        "widget-interact"
       ],
       "children": [
        "IPY_MODEL_717eb8fa39594eb7bd6d4f6f67ca8a97",
        "IPY_MODEL_9ab50eff392d44e1a1326cc06441e461"
       ],
       "layout": "IPY_MODEL_84c65c250d02459ea99372b041b2e341"
      }
     },
     "41bf871f9e384024b7d69638fe405550": {
      "model_module": "@jupyter-widgets/output",
      "model_module_version": "1.0.0",
      "model_name": "OutputModel",
      "state": {
       "layout": "IPY_MODEL_b1cbb08d8cff4213a8bb3eaf1739f8bb"
      }
     },
     "42b6ede9829441babd2e799d4c2b3dc3": {
      "model_module": "@jupyter-widgets/controls",
      "model_module_version": "1.2.0",
      "model_name": "VBoxModel",
      "state": {
       "_dom_classes": [
        "widget-interact"
       ],
       "children": [
        "IPY_MODEL_f804b2c94ea84b9ba4cca23124f0a3af",
        "IPY_MODEL_36b1345f624b422eba08f4f4fa850a1a"
       ],
       "layout": "IPY_MODEL_0ba64ad8dec54c4ab864c23d85291f34"
      }
     },
     "42d7d21b8c274377bb8ea90ea8a18164": {
      "model_module": "@jupyter-widgets/base",
      "model_module_version": "1.0.0",
      "model_name": "LayoutModel",
      "state": {}
     },
     "435b3181dd214a33b95de5e8fe5998c7": {
      "model_module": "@jupyter-widgets/base",
      "model_module_version": "1.0.0",
      "model_name": "LayoutModel",
      "state": {}
     },
     "43882076ae064379873698cc46132fa0": {
      "model_module": "@jupyter-widgets/controls",
      "model_module_version": "1.2.0",
      "model_name": "IntSliderModel",
      "state": {
       "description": "c",
       "layout": "IPY_MODEL_a80f9eafb38d43ebb96138dbd8844ac7",
       "max": 500,
       "min": -500,
       "style": "IPY_MODEL_8c849d143503457b9c60c3d674a65961",
       "value": 44
      }
     },
     "453d9c6e9ceb41b18c313d476314ede1": {
      "model_module": "@jupyter-widgets/base",
      "model_module_version": "1.0.0",
      "model_name": "LayoutModel",
      "state": {}
     },
     "457a5231545747208d323601d16394ae": {
      "model_module": "@jupyter-widgets/controls",
      "model_module_version": "1.2.0",
      "model_name": "IntSliderModel",
      "state": {
       "description": "c",
       "layout": "IPY_MODEL_70a408155fe04776a165aa47aa28827a",
       "max": 500,
       "min": -500,
       "style": "IPY_MODEL_88686502ee3f44659f78293536e52f5a",
       "value": 1
      }
     },
     "469996c5682046eca09a811e027689ad": {
      "model_module": "@jupyter-widgets/base",
      "model_module_version": "1.0.0",
      "model_name": "LayoutModel",
      "state": {}
     },
     "47d2b7b8329748a5ac0c6273c2fa39de": {
      "model_module": "@jupyter-widgets/base",
      "model_module_version": "1.0.0",
      "model_name": "LayoutModel",
      "state": {}
     },
     "488fe3145ba047c4b45c9aaa72cec3b0": {
      "model_module": "@jupyter-widgets/output",
      "model_module_version": "1.0.0",
      "model_name": "OutputModel",
      "state": {
       "layout": "IPY_MODEL_e65453d36c52497eb1055ad205ffd3e1"
      }
     },
     "498f731a539d4d8cae742be242134260": {
      "model_module": "@jupyter-widgets/base",
      "model_module_version": "1.0.0",
      "model_name": "LayoutModel",
      "state": {}
     },
     "4a97e0939c9245ff8a2ad0862df8d3f6": {
      "model_module": "@jupyter-widgets/controls",
      "model_module_version": "1.2.0",
      "model_name": "SliderStyleModel",
      "state": {
       "description_width": ""
      }
     },
     "4c41f0ed0ab64313a4d0913ce6caf2c6": {
      "model_module": "@jupyter-widgets/base",
      "model_module_version": "1.0.0",
      "model_name": "LayoutModel",
      "state": {}
     },
     "4cdef48f4e9141168a848a9b2d28c9cc": {
      "model_module": "@jupyter-widgets/controls",
      "model_module_version": "1.2.0",
      "model_name": "SliderStyleModel",
      "state": {
       "description_width": ""
      }
     },
     "4e290e85ddbd437a96fa77e38a2fe087": {
      "model_module": "@jupyter-widgets/controls",
      "model_module_version": "1.2.0",
      "model_name": "VBoxModel",
      "state": {
       "_dom_classes": [
        "widget-interact"
       ],
       "children": [
        "IPY_MODEL_685061afe3d64ea5804c0d1898c7988a",
        "IPY_MODEL_59e7af322d8f4fbe964206b5f07fc5fe"
       ],
       "layout": "IPY_MODEL_2ac7f39c9db9430e8dc05f7612a7c9c7"
      }
     },
     "4e4cbe029f93421798b310066e0744c1": {
      "model_module": "@jupyter-widgets/controls",
      "model_module_version": "1.2.0",
      "model_name": "SliderStyleModel",
      "state": {
       "description_width": ""
      }
     },
     "4f7edacf253748adabec70dc586aa201": {
      "model_module": "@jupyter-widgets/controls",
      "model_module_version": "1.2.0",
      "model_name": "SliderStyleModel",
      "state": {
       "description_width": ""
      }
     },
     "5035ed131a56498bb73aef9b40045afe": {
      "model_module": "@jupyter-widgets/controls",
      "model_module_version": "1.2.0",
      "model_name": "VBoxModel",
      "state": {
       "_dom_classes": [
        "widget-interact"
       ],
       "children": [
        "IPY_MODEL_59d3e8e2911f445bb65d389cc3724a0e",
        "IPY_MODEL_2e5553d675cb41259447ea360820c694"
       ],
       "layout": "IPY_MODEL_2e21b8af2cb1403a84cf220819808678"
      }
     },
     "50a6fe495bd34f2ea3ae278f8c2f659b": {
      "model_module": "@jupyter-widgets/controls",
      "model_module_version": "1.2.0",
      "model_name": "SliderStyleModel",
      "state": {
       "description_width": ""
      }
     },
     "50ca13a41b6d4b32a95368c99b56bc1b": {
      "model_module": "@jupyter-widgets/base",
      "model_module_version": "1.0.0",
      "model_name": "LayoutModel",
      "state": {}
     },
     "50d69784e5304cfd94fc8b3e6a0ec59b": {
      "model_module": "@jupyter-widgets/controls",
      "model_module_version": "1.2.0",
      "model_name": "SliderStyleModel",
      "state": {
       "description_width": ""
      }
     },
     "530ef84f44054048b4708d2241eef1e1": {
      "model_module": "@jupyter-widgets/base",
      "model_module_version": "1.0.0",
      "model_name": "LayoutModel",
      "state": {}
     },
     "538155a7b01c43c4ac2a729ca9fa57eb": {
      "model_module": "@jupyter-widgets/base",
      "model_module_version": "1.0.0",
      "model_name": "LayoutModel",
      "state": {}
     },
     "545c6492791640bebc05a32769d3f1b3": {
      "model_module": "@jupyter-widgets/controls",
      "model_module_version": "1.2.0",
      "model_name": "SliderStyleModel",
      "state": {
       "description_width": ""
      }
     },
     "5494e4c1c206418dbeff8cb59df50ed5": {
      "model_module": "@jupyter-widgets/base",
      "model_module_version": "1.0.0",
      "model_name": "LayoutModel",
      "state": {}
     },
     "54b9adeacea34e4e8fddc9bfe273be0b": {
      "model_module": "@jupyter-widgets/controls",
      "model_module_version": "1.2.0",
      "model_name": "SliderStyleModel",
      "state": {
       "description_width": ""
      }
     },
     "55351d6c51c144ffa14d42e72b32bbd3": {
      "model_module": "@jupyter-widgets/base",
      "model_module_version": "1.0.0",
      "model_name": "LayoutModel",
      "state": {}
     },
     "55bf833f29f948ee8bf166b65bf18aec": {
      "model_module": "@jupyter-widgets/controls",
      "model_module_version": "1.2.0",
      "model_name": "VBoxModel",
      "state": {
       "_dom_classes": [
        "widget-interact"
       ],
       "children": [
        "IPY_MODEL_36869dae16f248d8b110d33efedcfe7b",
        "IPY_MODEL_98e31bb4f3de4099826099f3b92de139"
       ],
       "layout": "IPY_MODEL_40461ee8a2ed4bb7a5a8bf9c7921213e"
      }
     },
     "57fab249b2b84be2a765d4cbd339d0b4": {
      "model_module": "@jupyter-widgets/controls",
      "model_module_version": "1.2.0",
      "model_name": "VBoxModel",
      "state": {
       "_dom_classes": [
        "widget-interact"
       ],
       "children": [
        "IPY_MODEL_8b1e07d9f15a4d35bcad352729694b9e",
        "IPY_MODEL_646478b7e99d42ecab8740033779c739"
       ],
       "layout": "IPY_MODEL_538155a7b01c43c4ac2a729ca9fa57eb"
      }
     },
     "58b2d3f5308e4961ba8204db3a023bcb": {
      "model_module": "@jupyter-widgets/base",
      "model_module_version": "1.0.0",
      "model_name": "LayoutModel",
      "state": {}
     },
     "58ca612c5f024a11ba3e189330dad3a8": {
      "model_module": "@jupyter-widgets/controls",
      "model_module_version": "1.2.0",
      "model_name": "VBoxModel",
      "state": {
       "_dom_classes": [
        "widget-interact"
       ],
       "children": [
        "IPY_MODEL_9373955230f5474c89419a7ff4799b1e",
        "IPY_MODEL_b716545c88134877afa8f31977bd1892"
       ],
       "layout": "IPY_MODEL_867979740107429fb03bf61a51e79dda"
      }
     },
     "59a06d83bd0443a3b80c75e6913860d4": {
      "model_module": "@jupyter-widgets/output",
      "model_module_version": "1.0.0",
      "model_name": "OutputModel",
      "state": {
       "layout": "IPY_MODEL_7fdae19fac0d42849757b082e67e25f3"
      }
     },
     "59d3e8e2911f445bb65d389cc3724a0e": {
      "model_module": "@jupyter-widgets/controls",
      "model_module_version": "1.2.0",
      "model_name": "IntSliderModel",
      "state": {
       "description": "d",
       "layout": "IPY_MODEL_3c5c5925991b4f70b475df9547bb1e45",
       "max": 500,
       "min": -500,
       "style": "IPY_MODEL_822060b1b3a045dcafe04296a751595f",
       "value": -138
      }
     },
     "59e7af322d8f4fbe964206b5f07fc5fe": {
      "model_module": "@jupyter-widgets/output",
      "model_module_version": "1.0.0",
      "model_name": "OutputModel",
      "state": {
       "layout": "IPY_MODEL_cb561d318b434ab5b2bbf48e4dcdb499"
      }
     },
     "5ac5b4b9c8f5443da1c5c935e3ebc234": {
      "model_module": "@jupyter-widgets/base",
      "model_module_version": "1.0.0",
      "model_name": "LayoutModel",
      "state": {}
     },
     "5be430e6b093444c8175a187ff9484e3": {
      "model_module": "@jupyter-widgets/controls",
      "model_module_version": "1.2.0",
      "model_name": "IntSliderModel",
      "state": {
       "description": "c",
       "layout": "IPY_MODEL_632b71d1d53444ad87255fa6f1e18de4",
       "max": 500,
       "min": -500,
       "style": "IPY_MODEL_7471b29f5f814e8cba19bbb7453889fa",
       "value": 1
      }
     },
     "5d1f167d337748888be4131f88dab0e2": {
      "model_module": "@jupyter-widgets/controls",
      "model_module_version": "1.2.0",
      "model_name": "VBoxModel",
      "state": {
       "_dom_classes": [
        "widget-interact"
       ],
       "children": [
        "IPY_MODEL_29861857e78f4afa8426779ce83208a6",
        "IPY_MODEL_e8ed4759912d44ac97872bc4d6cdeb7b"
       ],
       "layout": "IPY_MODEL_da59349cb85949b2947aa671214d8deb"
      }
     },
     "5f8307b86656460a8b340a2887ae7459": {
      "model_module": "@jupyter-widgets/output",
      "model_module_version": "1.0.0",
      "model_name": "OutputModel",
      "state": {
       "layout": "IPY_MODEL_bb8b9b56f2b84000b4e92ab3e69eec3f"
      }
     },
     "61772455e2104ef9b787bb6780eb170e": {
      "model_module": "@jupyter-widgets/controls",
      "model_module_version": "1.2.0",
      "model_name": "IntSliderModel",
      "state": {
       "description": "c",
       "layout": "IPY_MODEL_3cb991f1ff794046a95c2473f8dbb850",
       "max": 500,
       "min": -500,
       "style": "IPY_MODEL_e65aa72ceaa24938aedd38dc91d5bda0",
       "value": 1
      }
     },
     "62dd3e8b2d9946b6930d90709cd80377": {
      "model_module": "@jupyter-widgets/base",
      "model_module_version": "1.0.0",
      "model_name": "LayoutModel",
      "state": {}
     },
     "632b71d1d53444ad87255fa6f1e18de4": {
      "model_module": "@jupyter-widgets/base",
      "model_module_version": "1.0.0",
      "model_name": "LayoutModel",
      "state": {}
     },
     "633f4325eec64d4c92f0e1bdaf9f0e4a": {
      "model_module": "@jupyter-widgets/controls",
      "model_module_version": "1.2.0",
      "model_name": "SliderStyleModel",
      "state": {
       "description_width": ""
      }
     },
     "63aee3a2950144418a208231c8778537": {
      "model_module": "@jupyter-widgets/controls",
      "model_module_version": "1.2.0",
      "model_name": "VBoxModel",
      "state": {
       "_dom_classes": [
        "widget-interact"
       ],
       "children": [
        "IPY_MODEL_755c5f2052f74bb2ad9e0ab404364f1c",
        "IPY_MODEL_e6a212c0aea247d2b21a310baf71f01c"
       ],
       "layout": "IPY_MODEL_a97dacad52db46b7b16b6ff6edd606c5"
      }
     },
     "63c175bd09ef49c2a78878304f88389a": {
      "model_module": "@jupyter-widgets/controls",
      "model_module_version": "1.2.0",
      "model_name": "SliderStyleModel",
      "state": {
       "description_width": ""
      }
     },
     "646478b7e99d42ecab8740033779c739": {
      "model_module": "@jupyter-widgets/output",
      "model_module_version": "1.0.0",
      "model_name": "OutputModel",
      "state": {
       "layout": "IPY_MODEL_5ac5b4b9c8f5443da1c5c935e3ebc234"
      }
     },
     "646f9f9ac18040e29e75d9c6f26e61f1": {
      "model_module": "@jupyter-widgets/base",
      "model_module_version": "1.0.0",
      "model_name": "LayoutModel",
      "state": {}
     },
     "647037dbda0143b0aad6b6e415cdbbb5": {
      "model_module": "@jupyter-widgets/controls",
      "model_module_version": "1.2.0",
      "model_name": "VBoxModel",
      "state": {
       "_dom_classes": [
        "widget-interact"
       ],
       "children": [
        "IPY_MODEL_b3c4e5e3c500482f8d1722fe000347a8",
        "IPY_MODEL_15aedf290fc14662be1f2a18ba0c996d"
       ],
       "layout": "IPY_MODEL_dfb36728f313408c927d4561c7c5931a"
      }
     },
     "64c47a6c0054445385e892a8d5daf0ef": {
      "model_module": "@jupyter-widgets/base",
      "model_module_version": "1.0.0",
      "model_name": "LayoutModel",
      "state": {}
     },
     "64cf54c888a1413eb1e8d2e199c7026b": {
      "model_module": "@jupyter-widgets/controls",
      "model_module_version": "1.2.0",
      "model_name": "IntSliderModel",
      "state": {
       "description": "c",
       "layout": "IPY_MODEL_7553fa1eab1c4fdd873362a0718595cd",
       "max": 500,
       "min": -500,
       "style": "IPY_MODEL_cdaa68c831a444c8ac8ee2b57b445c41",
       "value": 1
      }
     },
     "66962f22f6a748b4951ba14630fc6e9a": {
      "model_module": "@jupyter-widgets/base",
      "model_module_version": "1.0.0",
      "model_name": "LayoutModel",
      "state": {}
     },
     "685061afe3d64ea5804c0d1898c7988a": {
      "model_module": "@jupyter-widgets/controls",
      "model_module_version": "1.2.0",
      "model_name": "IntSliderModel",
      "state": {
       "description": "e",
       "layout": "IPY_MODEL_4c41f0ed0ab64313a4d0913ce6caf2c6",
       "max": 500,
       "min": -500,
       "style": "IPY_MODEL_633f4325eec64d4c92f0e1bdaf9f0e4a",
       "value": -21
      }
     },
     "6889fa8c586c417984195d60ef6ba5a2": {
      "model_module": "@jupyter-widgets/output",
      "model_module_version": "1.0.0",
      "model_name": "OutputModel",
      "state": {
       "layout": "IPY_MODEL_8925e6c96c0b45d887263d9fe1d42755"
      }
     },
     "692e3953759f451786a8685cf0407383": {
      "model_module": "@jupyter-widgets/output",
      "model_module_version": "1.0.0",
      "model_name": "OutputModel",
      "state": {
       "layout": "IPY_MODEL_2839e77885e04a1d8bec65a8efbf54a4"
      }
     },
     "6ab458410fc7468b8c516d44b476dcd0": {
      "model_module": "@jupyter-widgets/base",
      "model_module_version": "1.0.0",
      "model_name": "LayoutModel",
      "state": {}
     },
     "6b5c8e81705b4512b9b642d970da266f": {
      "model_module": "@jupyter-widgets/controls",
      "model_module_version": "1.2.0",
      "model_name": "SliderStyleModel",
      "state": {
       "description_width": ""
      }
     },
     "6ca09a27847540e081bba6dd5641507e": {
      "model_module": "@jupyter-widgets/base",
      "model_module_version": "1.0.0",
      "model_name": "LayoutModel",
      "state": {}
     },
     "6ed637d1ff074f0581fce204fb03e651": {
      "model_module": "@jupyter-widgets/base",
      "model_module_version": "1.0.0",
      "model_name": "LayoutModel",
      "state": {}
     },
     "6fc58bed9beb4ca9a8a49c57f842615a": {
      "model_module": "@jupyter-widgets/controls",
      "model_module_version": "1.2.0",
      "model_name": "VBoxModel",
      "state": {
       "_dom_classes": [
        "widget-interact"
       ],
       "children": [
        "IPY_MODEL_ae042523baed420ca4d3ff76c12b6f9d",
        "IPY_MODEL_abcb26ee1a544d668b52682fa0ea567c"
       ],
       "layout": "IPY_MODEL_358af3966ae64499a0cef1d86c549dd4"
      }
     },
     "7005a469c5764551a6347363073f93fe": {
      "model_module": "@jupyter-widgets/base",
      "model_module_version": "1.0.0",
      "model_name": "LayoutModel",
      "state": {}
     },
     "70189e6ccec540748af3f2ee08ca29d3": {
      "model_module": "@jupyter-widgets/base",
      "model_module_version": "1.0.0",
      "model_name": "LayoutModel",
      "state": {}
     },
     "7057f3ea967c4c3fb60ce15af6a8fd17": {
      "model_module": "@jupyter-widgets/base",
      "model_module_version": "1.0.0",
      "model_name": "LayoutModel",
      "state": {}
     },
     "705c5b11865e4755b8c84a9b121010d8": {
      "model_module": "@jupyter-widgets/controls",
      "model_module_version": "1.2.0",
      "model_name": "VBoxModel",
      "state": {
       "_dom_classes": [
        "widget-interact"
       ],
       "children": [
        "IPY_MODEL_2c50029d01b048c39a6ec7c05be5a725",
        "IPY_MODEL_3328c20a5ca442bbb5a8cb960505eb57"
       ],
       "layout": "IPY_MODEL_c7f2f31ffc7649dbac9b58bb341eca42"
      }
     },
     "70a408155fe04776a165aa47aa28827a": {
      "model_module": "@jupyter-widgets/base",
      "model_module_version": "1.0.0",
      "model_name": "LayoutModel",
      "state": {}
     },
     "70accbc1af174b2abf1ed744597b8dce": {
      "model_module": "@jupyter-widgets/base",
      "model_module_version": "1.0.0",
      "model_name": "LayoutModel",
      "state": {}
     },
     "70ee1f09163e4c60b2d2dfb9c216bc3c": {
      "model_module": "@jupyter-widgets/controls",
      "model_module_version": "1.2.0",
      "model_name": "VBoxModel",
      "state": {
       "_dom_classes": [
        "widget-interact"
       ],
       "children": [
        "IPY_MODEL_3fc85b3e63844186a4b99fe74a91936d",
        "IPY_MODEL_e191f9c257cf440ea29cf06b8c843ee4"
       ],
       "layout": "IPY_MODEL_c385c7d4ec464b31983e6b0e32e126c8"
      }
     },
     "712661fc1a1a4db19d361bb52b2d0779": {
      "model_module": "@jupyter-widgets/base",
      "model_module_version": "1.0.0",
      "model_name": "LayoutModel",
      "state": {}
     },
     "714dba23e90947c58fb097877d858a06": {
      "model_module": "@jupyter-widgets/controls",
      "model_module_version": "1.2.0",
      "model_name": "IntSliderModel",
      "state": {
       "description": "e",
       "layout": "IPY_MODEL_e5ff3947d6d04124b31295ed3ad663cb",
       "max": 500,
       "min": -500,
       "style": "IPY_MODEL_fbac4641bc8c4ff38098a34ff490afda",
       "value": 1
      }
     },
     "717eb8fa39594eb7bd6d4f6f67ca8a97": {
      "model_module": "@jupyter-widgets/controls",
      "model_module_version": "1.2.0",
      "model_name": "IntSliderModel",
      "state": {
       "description": "d",
       "layout": "IPY_MODEL_7e5a55b394594820a194998aba90b5b8",
       "max": 500,
       "min": -500,
       "style": "IPY_MODEL_54b9adeacea34e4e8fddc9bfe273be0b",
       "value": 1
      }
     },
     "727db649dbbc40eb958e838f6c5ddcae": {
      "model_module": "@jupyter-widgets/base",
      "model_module_version": "1.0.0",
      "model_name": "LayoutModel",
      "state": {}
     },
     "73652e700d6b48509774240463507ccc": {
      "model_module": "@jupyter-widgets/base",
      "model_module_version": "1.0.0",
      "model_name": "LayoutModel",
      "state": {}
     },
     "7471b29f5f814e8cba19bbb7453889fa": {
      "model_module": "@jupyter-widgets/controls",
      "model_module_version": "1.2.0",
      "model_name": "SliderStyleModel",
      "state": {
       "description_width": ""
      }
     },
     "75149bd5f9df4b24bebeba07baf4fd0f": {
      "model_module": "@jupyter-widgets/controls",
      "model_module_version": "1.2.0",
      "model_name": "IntSliderModel",
      "state": {
       "description": "c",
       "layout": "IPY_MODEL_a46fd4e3d39a4f8797ed606bde3f1635",
       "max": 500,
       "min": -500,
       "style": "IPY_MODEL_975f2fa9a71444c8a980198392ad6f9e",
       "value": 1
      }
     },
     "7553fa1eab1c4fdd873362a0718595cd": {
      "model_module": "@jupyter-widgets/base",
      "model_module_version": "1.0.0",
      "model_name": "LayoutModel",
      "state": {}
     },
     "755c5f2052f74bb2ad9e0ab404364f1c": {
      "model_module": "@jupyter-widgets/controls",
      "model_module_version": "1.2.0",
      "model_name": "IntSliderModel",
      "state": {
       "description": "c",
       "layout": "IPY_MODEL_498f731a539d4d8cae742be242134260",
       "max": 500,
       "min": -500,
       "style": "IPY_MODEL_f45a946715684fcbb53183d36a2df17b",
       "value": 1
      }
     },
     "7874d3542f4349bbb25ee08cb4ce74c5": {
      "model_module": "@jupyter-widgets/base",
      "model_module_version": "1.0.0",
      "model_name": "LayoutModel",
      "state": {}
     },
     "7876558a400148fe845153191cfe2736": {
      "model_module": "@jupyter-widgets/output",
      "model_module_version": "1.0.0",
      "model_name": "OutputModel",
      "state": {
       "layout": "IPY_MODEL_9f1df92212b541148693a3105516d1a4"
      }
     },
     "78bf059df41f42859aab83a4d034f0e0": {
      "model_module": "@jupyter-widgets/base",
      "model_module_version": "1.0.0",
      "model_name": "LayoutModel",
      "state": {}
     },
     "792d75c1b0b848639d731f7464147cc2": {
      "model_module": "@jupyter-widgets/controls",
      "model_module_version": "1.2.0",
      "model_name": "IntSliderModel",
      "state": {
       "description": "c",
       "layout": "IPY_MODEL_7874d3542f4349bbb25ee08cb4ce74c5",
       "max": 500,
       "min": -500,
       "style": "IPY_MODEL_d062a28e64304cca86c22011b8cf2175",
       "value": -500
      }
     },
     "793b13bd5021439ebd09b9d4ac993282": {
      "model_module": "@jupyter-widgets/controls",
      "model_module_version": "1.2.0",
      "model_name": "VBoxModel",
      "state": {
       "_dom_classes": [
        "widget-interact"
       ],
       "children": [
        "IPY_MODEL_05331cfcd8324b35b4f87d6ef60ffeb9",
        "IPY_MODEL_d1502bc853084d2490539a839c78af45"
       ],
       "layout": "IPY_MODEL_fea023dd3a684feb9ca2305c56f5cc9b"
      }
     },
     "7b24cfdd30bb4384a6865822ccf9dd83": {
      "model_module": "@jupyter-widgets/controls",
      "model_module_version": "1.2.0",
      "model_name": "SliderStyleModel",
      "state": {
       "description_width": ""
      }
     },
     "7c1ef0e52d8647e3aad34bf79f80241a": {
      "model_module": "@jupyter-widgets/controls",
      "model_module_version": "1.2.0",
      "model_name": "SliderStyleModel",
      "state": {
       "description_width": ""
      }
     },
     "7e5a55b394594820a194998aba90b5b8": {
      "model_module": "@jupyter-widgets/base",
      "model_module_version": "1.0.0",
      "model_name": "LayoutModel",
      "state": {}
     },
     "7e5e7b458b674fbdb70e944d58b29cb7": {
      "model_module": "@jupyter-widgets/base",
      "model_module_version": "1.0.0",
      "model_name": "LayoutModel",
      "state": {}
     },
     "7f0b25ae1c204b7cb89fe7e3b7baed0f": {
      "model_module": "@jupyter-widgets/base",
      "model_module_version": "1.0.0",
      "model_name": "LayoutModel",
      "state": {}
     },
     "7f97250f94634d4f9a41f8e03ef6edcf": {
      "model_module": "@jupyter-widgets/controls",
      "model_module_version": "1.2.0",
      "model_name": "VBoxModel",
      "state": {
       "_dom_classes": [
        "widget-interact"
       ],
       "children": [
        "IPY_MODEL_792d75c1b0b848639d731f7464147cc2",
        "IPY_MODEL_59a06d83bd0443a3b80c75e6913860d4"
       ],
       "layout": "IPY_MODEL_cc7748c2e27c4657862e9eced60e843c"
      }
     },
     "7fdae19fac0d42849757b082e67e25f3": {
      "model_module": "@jupyter-widgets/base",
      "model_module_version": "1.0.0",
      "model_name": "LayoutModel",
      "state": {}
     },
     "8028e2f04300437e9daad16eb21341ce": {
      "model_module": "@jupyter-widgets/controls",
      "model_module_version": "1.2.0",
      "model_name": "VBoxModel",
      "state": {
       "_dom_classes": [
        "widget-interact"
       ],
       "children": [
        "IPY_MODEL_d6a1e8527eee42b1a2bb1ab70b1f9ca8",
        "IPY_MODEL_e9d098d3d85642ffa08d259dc2834e93"
       ],
       "layout": "IPY_MODEL_70accbc1af174b2abf1ed744597b8dce"
      }
     },
     "807910d34fde4d7db06b4b12a806337b": {
      "model_module": "@jupyter-widgets/base",
      "model_module_version": "1.0.0",
      "model_name": "LayoutModel",
      "state": {}
     },
     "80d542319fe349b98f583ab1a3d01218": {
      "model_module": "@jupyter-widgets/base",
      "model_module_version": "1.0.0",
      "model_name": "LayoutModel",
      "state": {}
     },
     "817d72a78e6c4b7cb401a339cfee2a29": {
      "model_module": "@jupyter-widgets/output",
      "model_module_version": "1.0.0",
      "model_name": "OutputModel",
      "state": {
       "layout": "IPY_MODEL_8e5027b34b254b6d876272d432ad5eb6"
      }
     },
     "81a1395dc0a84aa2a30c3f37ecbe6e37": {
      "model_module": "@jupyter-widgets/controls",
      "model_module_version": "1.2.0",
      "model_name": "VBoxModel",
      "state": {
       "_dom_classes": [
        "widget-interact"
       ],
       "children": [
        "IPY_MODEL_bd5c5e811f9c46f2bf96d63273c579db",
        "IPY_MODEL_9f771daa37754cf2bfe6030bb90ce702"
       ],
       "layout": "IPY_MODEL_0b0f395774734d7a81a4094e4d9bab5b"
      }
     },
     "822060b1b3a045dcafe04296a751595f": {
      "model_module": "@jupyter-widgets/controls",
      "model_module_version": "1.2.0",
      "model_name": "SliderStyleModel",
      "state": {
       "description_width": ""
      }
     },
     "82ad689648024cabb18cac5253eeae0d": {
      "model_module": "@jupyter-widgets/base",
      "model_module_version": "1.0.0",
      "model_name": "LayoutModel",
      "state": {}
     },
     "82da8be043a34736bb8027f1c124bec1": {
      "model_module": "@jupyter-widgets/controls",
      "model_module_version": "1.2.0",
      "model_name": "SliderStyleModel",
      "state": {
       "description_width": ""
      }
     },
     "8360dd7cbbb144c4857a0181edfdb7e7": {
      "model_module": "@jupyter-widgets/base",
      "model_module_version": "1.0.0",
      "model_name": "LayoutModel",
      "state": {}
     },
     "8398e7304bc244ebb278bbb2e1968083": {
      "model_module": "@jupyter-widgets/base",
      "model_module_version": "1.0.0",
      "model_name": "LayoutModel",
      "state": {}
     },
     "84949c74d4be4da88b4c0d9a896f3241": {
      "model_module": "@jupyter-widgets/base",
      "model_module_version": "1.0.0",
      "model_name": "LayoutModel",
      "state": {}
     },
     "84c65c250d02459ea99372b041b2e341": {
      "model_module": "@jupyter-widgets/base",
      "model_module_version": "1.0.0",
      "model_name": "LayoutModel",
      "state": {}
     },
     "863f720dc314413b98506dfdcf5fe33a": {
      "model_module": "@jupyter-widgets/controls",
      "model_module_version": "1.2.0",
      "model_name": "SliderStyleModel",
      "state": {
       "description_width": ""
      }
     },
     "867112fb2d844008a706f553fac254b0": {
      "model_module": "@jupyter-widgets/base",
      "model_module_version": "1.0.0",
      "model_name": "LayoutModel",
      "state": {}
     },
     "867979740107429fb03bf61a51e79dda": {
      "model_module": "@jupyter-widgets/base",
      "model_module_version": "1.0.0",
      "model_name": "LayoutModel",
      "state": {}
     },
     "87777f7324154fce8f0c07243ca62a22": {
      "model_module": "@jupyter-widgets/base",
      "model_module_version": "1.0.0",
      "model_name": "LayoutModel",
      "state": {}
     },
     "88686502ee3f44659f78293536e52f5a": {
      "model_module": "@jupyter-widgets/controls",
      "model_module_version": "1.2.0",
      "model_name": "SliderStyleModel",
      "state": {
       "description_width": ""
      }
     },
     "8925e6c96c0b45d887263d9fe1d42755": {
      "model_module": "@jupyter-widgets/base",
      "model_module_version": "1.0.0",
      "model_name": "LayoutModel",
      "state": {}
     },
     "8b1e07d9f15a4d35bcad352729694b9e": {
      "model_module": "@jupyter-widgets/controls",
      "model_module_version": "1.2.0",
      "model_name": "IntSliderModel",
      "state": {
       "description": "d",
       "layout": "IPY_MODEL_469996c5682046eca09a811e027689ad",
       "max": 500,
       "min": -500,
       "style": "IPY_MODEL_545c6492791640bebc05a32769d3f1b3",
       "value": 1
      }
     },
     "8ba73f00a169457287e7c6d61016fb77": {
      "model_module": "@jupyter-widgets/controls",
      "model_module_version": "1.2.0",
      "model_name": "VBoxModel",
      "state": {
       "_dom_classes": [
        "widget-interact"
       ],
       "children": [
        "IPY_MODEL_75149bd5f9df4b24bebeba07baf4fd0f",
        "IPY_MODEL_a4615c7132624221843e177239f3a55a"
       ],
       "layout": "IPY_MODEL_41992c51316b44c39b8027dee885bd2c"
      }
     },
     "8c40594ec6b14213a57f828f332275ad": {
      "model_module": "@jupyter-widgets/base",
      "model_module_version": "1.0.0",
      "model_name": "LayoutModel",
      "state": {}
     },
     "8c40662685a843d58157f52e2bea5de5": {
      "model_module": "@jupyter-widgets/controls",
      "model_module_version": "1.2.0",
      "model_name": "IntSliderModel",
      "state": {
       "description": "e",
       "layout": "IPY_MODEL_84949c74d4be4da88b4c0d9a896f3241",
       "max": 500,
       "min": -500,
       "style": "IPY_MODEL_2abe5acb0333415e806d7e5a760710ca",
       "value": -4
      }
     },
     "8c5ff9def228417780eeeae659583fb5": {
      "model_module": "@jupyter-widgets/controls",
      "model_module_version": "1.2.0",
      "model_name": "IntSliderModel",
      "state": {
       "description": "e",
       "layout": "IPY_MODEL_13be72b26a0544d2a77d446d27f8a5b6",
       "max": 500,
       "min": -500,
       "style": "IPY_MODEL_bb67edc68bd540a780132467e6327c1a",
       "value": 1
      }
     },
     "8c849d143503457b9c60c3d674a65961": {
      "model_module": "@jupyter-widgets/controls",
      "model_module_version": "1.2.0",
      "model_name": "SliderStyleModel",
      "state": {
       "description_width": ""
      }
     },
     "8ce619c5d92a4bd5b1c2235cb24fbc4c": {
      "model_module": "@jupyter-widgets/base",
      "model_module_version": "1.0.0",
      "model_name": "LayoutModel",
      "state": {}
     },
     "8e5027b34b254b6d876272d432ad5eb6": {
      "model_module": "@jupyter-widgets/base",
      "model_module_version": "1.0.0",
      "model_name": "LayoutModel",
      "state": {}
     },
     "8e623ca38492461595d228a2736b36ba": {
      "model_module": "@jupyter-widgets/output",
      "model_module_version": "1.0.0",
      "model_name": "OutputModel",
      "state": {
       "layout": "IPY_MODEL_03b67890bdf94467ae02fb097869b454"
      }
     },
     "8e9bd34a71f04b6cb0567a31b3b045cf": {
      "model_module": "@jupyter-widgets/controls",
      "model_module_version": "1.2.0",
      "model_name": "VBoxModel",
      "state": {
       "_dom_classes": [
        "widget-interact"
       ],
       "children": [
        "IPY_MODEL_97ad824e7ecb40dcae75a6152f443ee5",
        "IPY_MODEL_8fdc6f3ffc7e48ff8593be882a069cf8"
       ],
       "layout": "IPY_MODEL_223a82f5802b40dba8ff0cd2df5441a7"
      }
     },
     "8ed16635be4640c1b0e2e4ae8cb30419": {
      "model_module": "@jupyter-widgets/base",
      "model_module_version": "1.0.0",
      "model_name": "LayoutModel",
      "state": {}
     },
     "8fcd453604db4001867f0234a2ce374e": {
      "model_module": "@jupyter-widgets/controls",
      "model_module_version": "1.2.0",
      "model_name": "VBoxModel",
      "state": {
       "_dom_classes": [
        "widget-interact"
       ],
       "children": [
        "IPY_MODEL_20f5e5fbe312467d970a3d1b5af878f1",
        "IPY_MODEL_6889fa8c586c417984195d60ef6ba5a2"
       ],
       "layout": "IPY_MODEL_d31538b8a6294078a7029e1f869e0492"
      }
     },
     "8fdc6f3ffc7e48ff8593be882a069cf8": {
      "model_module": "@jupyter-widgets/output",
      "model_module_version": "1.0.0",
      "model_name": "OutputModel",
      "state": {
       "layout": "IPY_MODEL_e97dfb3719614ddf9b3e963fc95d4020"
      }
     },
     "90043809c9e24e03b6ba0b84cd04e6ed": {
      "model_module": "@jupyter-widgets/controls",
      "model_module_version": "1.2.0",
      "model_name": "SliderStyleModel",
      "state": {
       "description_width": ""
      }
     },
     "9056224dca9147a3a36ca2f1791e3081": {
      "model_module": "@jupyter-widgets/base",
      "model_module_version": "1.0.0",
      "model_name": "LayoutModel",
      "state": {}
     },
     "90f3cf7e68f84a9cb82c858f58370599": {
      "model_module": "@jupyter-widgets/base",
      "model_module_version": "1.0.0",
      "model_name": "LayoutModel",
      "state": {}
     },
     "9131520b91584aaeaa532f4e098b9d8a": {
      "model_module": "@jupyter-widgets/base",
      "model_module_version": "1.0.0",
      "model_name": "LayoutModel",
      "state": {}
     },
     "91c52be041ef4382b84e7c866db70829": {
      "model_module": "@jupyter-widgets/base",
      "model_module_version": "1.0.0",
      "model_name": "LayoutModel",
      "state": {}
     },
     "92b5bc4d96d64f16b686fac03e6c6939": {
      "model_module": "@jupyter-widgets/controls",
      "model_module_version": "1.2.0",
      "model_name": "SliderStyleModel",
      "state": {
       "description_width": ""
      }
     },
     "9373955230f5474c89419a7ff4799b1e": {
      "model_module": "@jupyter-widgets/controls",
      "model_module_version": "1.2.0",
      "model_name": "IntSliderModel",
      "state": {
       "description": "c",
       "layout": "IPY_MODEL_8c40594ec6b14213a57f828f332275ad",
       "max": 500,
       "min": -500,
       "style": "IPY_MODEL_7c1ef0e52d8647e3aad34bf79f80241a",
       "value": 1
      }
     },
     "9559ee2e95aa43a096905b8f61b9f600": {
      "model_module": "@jupyter-widgets/controls",
      "model_module_version": "1.2.0",
      "model_name": "SliderStyleModel",
      "state": {
       "description_width": ""
      }
     },
     "95706a489e8e4af898070a7b67592986": {
      "model_module": "@jupyter-widgets/controls",
      "model_module_version": "1.2.0",
      "model_name": "IntSliderModel",
      "state": {
       "description": "d",
       "layout": "IPY_MODEL_d14fefab7e7b4d3d86b07bcb00d755ee",
       "max": 500,
       "min": -500,
       "style": "IPY_MODEL_20ef44c8c8a74ad18774cd16f678d181",
       "value": 118
      }
     },
     "95bc1d24ae4a4c43a0375a735f1c1d9f": {
      "model_module": "@jupyter-widgets/controls",
      "model_module_version": "1.2.0",
      "model_name": "VBoxModel",
      "state": {
       "_dom_classes": [
        "widget-interact"
       ],
       "children": [
        "IPY_MODEL_b305b4542773414594f3fd763fd3e56d",
        "IPY_MODEL_bcd7e1eae3384f219b53d25a606af751"
       ],
       "layout": "IPY_MODEL_fd1adac635904d4da13ac45f20abe0e7"
      }
     },
     "9605a3bd06c9431285d18a777627569f": {
      "model_module": "@jupyter-widgets/base",
      "model_module_version": "1.0.0",
      "model_name": "LayoutModel",
      "state": {}
     },
     "96af38874ce644c2850b5d9056d87e82": {
      "model_module": "@jupyter-widgets/output",
      "model_module_version": "1.0.0",
      "model_name": "OutputModel",
      "state": {
       "layout": "IPY_MODEL_1bc75d5a850e425bbf09ae6b691cc59c"
      }
     },
     "96f4b3aef2bd447a982c1a6a42cf7949": {
      "model_module": "@jupyter-widgets/controls",
      "model_module_version": "1.2.0",
      "model_name": "SliderStyleModel",
      "state": {
       "description_width": ""
      }
     },
     "97013e7b8a5e4504bb9bbbee0d942d1c": {
      "model_module": "@jupyter-widgets/controls",
      "model_module_version": "1.2.0",
      "model_name": "VBoxModel",
      "state": {
       "_dom_classes": [
        "widget-interact"
       ],
       "children": [
        "IPY_MODEL_b4bd71c71817426c94fdf29f6a77889b",
        "IPY_MODEL_aa1b452811874d929c3736f0f0100e1c"
       ],
       "layout": "IPY_MODEL_e69e7d2f1ad248cbb8c9ba5732682f60"
      }
     },
     "975f2fa9a71444c8a980198392ad6f9e": {
      "model_module": "@jupyter-widgets/controls",
      "model_module_version": "1.2.0",
      "model_name": "SliderStyleModel",
      "state": {
       "description_width": ""
      }
     },
     "977d2313efbb4306a03e96b542f6e1c9": {
      "model_module": "@jupyter-widgets/controls",
      "model_module_version": "1.2.0",
      "model_name": "VBoxModel",
      "state": {
       "_dom_classes": [
        "widget-interact"
       ],
       "children": [
        "IPY_MODEL_8c5ff9def228417780eeeae659583fb5",
        "IPY_MODEL_7876558a400148fe845153191cfe2736"
       ],
       "layout": "IPY_MODEL_b191149286e4499b90bf5c6540abbd1a"
      }
     },
     "97a8888ebc7d41b385b10806b78911c7": {
      "model_module": "@jupyter-widgets/output",
      "model_module_version": "1.0.0",
      "model_name": "OutputModel",
      "state": {
       "layout": "IPY_MODEL_fa3c0b08017349a7b4c258ee601a67c8"
      }
     },
     "97ad824e7ecb40dcae75a6152f443ee5": {
      "model_module": "@jupyter-widgets/controls",
      "model_module_version": "1.2.0",
      "model_name": "IntSliderModel",
      "state": {
       "description": "c",
       "layout": "IPY_MODEL_f80005ecb6dd441aabda2a1e9ea89a8b",
       "max": 500,
       "min": -500,
       "style": "IPY_MODEL_f08d4c6ac7a841398bdb8a8682c8460a",
       "value": 36
      }
     },
     "9854a3cb77ea4364ad36f7aa66c823a4": {
      "model_module": "@jupyter-widgets/base",
      "model_module_version": "1.0.0",
      "model_name": "LayoutModel",
      "state": {}
     },
     "98b5f880934146638b22b80da5785b81": {
      "model_module": "@jupyter-widgets/output",
      "model_module_version": "1.0.0",
      "model_name": "OutputModel",
      "state": {
       "layout": "IPY_MODEL_0cd542174c56436db9d6e9edc78e7591"
      }
     },
     "98e31bb4f3de4099826099f3b92de139": {
      "model_module": "@jupyter-widgets/output",
      "model_module_version": "1.0.0",
      "model_name": "OutputModel",
      "state": {
       "layout": "IPY_MODEL_9d2a347a32d94b02b7ea4a284c8f3417"
      }
     },
     "9a2c3679bffe43fbad61ea3e20982aa4": {
      "model_module": "@jupyter-widgets/base",
      "model_module_version": "1.0.0",
      "model_name": "LayoutModel",
      "state": {}
     },
     "9ab50eff392d44e1a1326cc06441e461": {
      "model_module": "@jupyter-widgets/output",
      "model_module_version": "1.0.0",
      "model_name": "OutputModel",
      "state": {
       "layout": "IPY_MODEL_f9d8b5574ba045bc985d8305a30c71f9"
      }
     },
     "9b8eef046c684f1bb695ab9e56d1bd3c": {
      "model_module": "@jupyter-widgets/controls",
      "model_module_version": "1.2.0",
      "model_name": "IntSliderModel",
      "state": {
       "description": "e",
       "layout": "IPY_MODEL_c36ce5c398e34f70ae544184d0fb982e",
       "max": 500,
       "min": -500,
       "style": "IPY_MODEL_1b30451bd06f453ca7a8eed5a179ff2c",
       "value": -1
      }
     },
     "9d2a347a32d94b02b7ea4a284c8f3417": {
      "model_module": "@jupyter-widgets/base",
      "model_module_version": "1.0.0",
      "model_name": "LayoutModel",
      "state": {}
     },
     "9e48fe642a024dd6908a56b0ed494105": {
      "model_module": "@jupyter-widgets/base",
      "model_module_version": "1.0.0",
      "model_name": "LayoutModel",
      "state": {}
     },
     "9e666fe22e294907830c00f69de47ce2": {
      "model_module": "@jupyter-widgets/controls",
      "model_module_version": "1.2.0",
      "model_name": "SliderStyleModel",
      "state": {
       "description_width": ""
      }
     },
     "9f1df92212b541148693a3105516d1a4": {
      "model_module": "@jupyter-widgets/base",
      "model_module_version": "1.0.0",
      "model_name": "LayoutModel",
      "state": {}
     },
     "9f771daa37754cf2bfe6030bb90ce702": {
      "model_module": "@jupyter-widgets/output",
      "model_module_version": "1.0.0",
      "model_name": "OutputModel",
      "state": {
       "layout": "IPY_MODEL_f53a0d81be1d4c37bf0062ef92654ae0"
      }
     },
     "a08ad471d9ab4499998d9f02b7c77f43": {
      "model_module": "@jupyter-widgets/controls",
      "model_module_version": "1.2.0",
      "model_name": "IntSliderModel",
      "state": {
       "description": "c",
       "layout": "IPY_MODEL_9e48fe642a024dd6908a56b0ed494105",
       "max": 500,
       "min": -500,
       "style": "IPY_MODEL_63c175bd09ef49c2a78878304f88389a",
       "value": 190
      }
     },
     "a08d91265c434a0d82279eb4ca33459a": {
      "model_module": "@jupyter-widgets/output",
      "model_module_version": "1.0.0",
      "model_name": "OutputModel",
      "state": {
       "layout": "IPY_MODEL_87777f7324154fce8f0c07243ca62a22"
      }
     },
     "a0ddba8d49c049eca593ba9264842187": {
      "model_module": "@jupyter-widgets/controls",
      "model_module_version": "1.2.0",
      "model_name": "IntSliderModel",
      "state": {
       "description": "c",
       "layout": "IPY_MODEL_c5f88eb54c2444bb87fb86fb9b60bee7",
       "max": 500,
       "min": -500,
       "style": "IPY_MODEL_3526f43d71184faa85b07d4f93b85d4e",
       "value": 1
      }
     },
     "a1aeeaa4e5a84fec9af0bf8dc81228c8": {
      "model_module": "@jupyter-widgets/base",
      "model_module_version": "1.0.0",
      "model_name": "LayoutModel",
      "state": {}
     },
     "a40bff1c5afe4ba9abd413376e489c03": {
      "model_module": "@jupyter-widgets/controls",
      "model_module_version": "1.2.0",
      "model_name": "SliderStyleModel",
      "state": {
       "description_width": ""
      }
     },
     "a4615c7132624221843e177239f3a55a": {
      "model_module": "@jupyter-widgets/output",
      "model_module_version": "1.0.0",
      "model_name": "OutputModel",
      "state": {
       "layout": "IPY_MODEL_ddf33035b6a34bdaaed0046289ee446f"
      }
     },
     "a46fd4e3d39a4f8797ed606bde3f1635": {
      "model_module": "@jupyter-widgets/base",
      "model_module_version": "1.0.0",
      "model_name": "LayoutModel",
      "state": {}
     },
     "a512622a154f4b3c97f64b207afcaf09": {
      "model_module": "@jupyter-widgets/controls",
      "model_module_version": "1.2.0",
      "model_name": "VBoxModel",
      "state": {
       "_dom_classes": [
        "widget-interact"
       ],
       "children": [
        "IPY_MODEL_c8efd2d24fd44ac68e6a149403ccd27f",
        "IPY_MODEL_e05d4f60cd914f16bcc6614b6fd81bfa"
       ],
       "layout": "IPY_MODEL_d7e5ceb1c7c04effa9bd85cae960656d"
      }
     },
     "a6c7480757a243cb924eda8de038e325": {
      "model_module": "@jupyter-widgets/output",
      "model_module_version": "1.0.0",
      "model_name": "OutputModel",
      "state": {
       "layout": "IPY_MODEL_ba265feaf16d4f3fb1156b272861de1a"
      }
     },
     "a80f9eafb38d43ebb96138dbd8844ac7": {
      "model_module": "@jupyter-widgets/base",
      "model_module_version": "1.0.0",
      "model_name": "LayoutModel",
      "state": {}
     },
     "a888f983ae6c49a4ac1a685a6bc958f5": {
      "model_module": "@jupyter-widgets/output",
      "model_module_version": "1.0.0",
      "model_name": "OutputModel",
      "state": {
       "layout": "IPY_MODEL_453d9c6e9ceb41b18c313d476314ede1"
      }
     },
     "a9208793593a4988ba8053883acc7301": {
      "model_module": "@jupyter-widgets/output",
      "model_module_version": "1.0.0",
      "model_name": "OutputModel",
      "state": {
       "layout": "IPY_MODEL_50ca13a41b6d4b32a95368c99b56bc1b"
      }
     },
     "a97dacad52db46b7b16b6ff6edd606c5": {
      "model_module": "@jupyter-widgets/base",
      "model_module_version": "1.0.0",
      "model_name": "LayoutModel",
      "state": {}
     },
     "aa1b452811874d929c3736f0f0100e1c": {
      "model_module": "@jupyter-widgets/output",
      "model_module_version": "1.0.0",
      "model_name": "OutputModel",
      "state": {
       "layout": "IPY_MODEL_fde04b2083e640df908cf12b5a621ece"
      }
     },
     "aaad31a5f4194c608c09865486f985ab": {
      "model_module": "@jupyter-widgets/controls",
      "model_module_version": "1.2.0",
      "model_name": "SliderStyleModel",
      "state": {
       "description_width": ""
      }
     },
     "abcb26ee1a544d668b52682fa0ea567c": {
      "model_module": "@jupyter-widgets/output",
      "model_module_version": "1.0.0",
      "model_name": "OutputModel",
      "state": {
       "layout": "IPY_MODEL_a1aeeaa4e5a84fec9af0bf8dc81228c8"
      }
     },
     "abe94cba84d6400594a1895b1f8e378e": {
      "model_module": "@jupyter-widgets/base",
      "model_module_version": "1.0.0",
      "model_name": "LayoutModel",
      "state": {}
     },
     "adf534a84b1142869f9bc002daa8ff78": {
      "model_module": "@jupyter-widgets/base",
      "model_module_version": "1.0.0",
      "model_name": "LayoutModel",
      "state": {}
     },
     "ae042523baed420ca4d3ff76c12b6f9d": {
      "model_module": "@jupyter-widgets/controls",
      "model_module_version": "1.2.0",
      "model_name": "IntSliderModel",
      "state": {
       "description": "c",
       "layout": "IPY_MODEL_3403f409f3f245a2925948f1446410ee",
       "max": 500,
       "min": -500,
       "style": "IPY_MODEL_2d7a38aa7ad84d82aa1d257aeaa5ef0f",
       "value": 149
      }
     },
     "ae0f2e4090f549acb67cf1e46a5b5cd1": {
      "model_module": "@jupyter-widgets/base",
      "model_module_version": "1.0.0",
      "model_name": "LayoutModel",
      "state": {}
     },
     "ae40e4a1e34a45b5b4014b3397b041b2": {
      "model_module": "@jupyter-widgets/controls",
      "model_module_version": "1.2.0",
      "model_name": "IntSliderModel",
      "state": {
       "description": "e",
       "layout": "IPY_MODEL_3474913c2b064d68a483e5647faa9668",
       "max": 500,
       "min": -500,
       "style": "IPY_MODEL_06bc092a24d348d5b60c1ffee8a2226f",
       "value": 1
      }
     },
     "aeb46e667bbf4fae98e9c78688a128a6": {
      "model_module": "@jupyter-widgets/output",
      "model_module_version": "1.0.0",
      "model_name": "OutputModel",
      "state": {
       "layout": "IPY_MODEL_2196f9ac2506444fa08f3976ad9acba6"
      }
     },
     "aebe1156d20049f7885e3c089cb66242": {
      "model_module": "@jupyter-widgets/controls",
      "model_module_version": "1.2.0",
      "model_name": "SliderStyleModel",
      "state": {
       "description_width": ""
      }
     },
     "b0bbaed52ddc4a1796456ba115edb817": {
      "model_module": "@jupyter-widgets/controls",
      "model_module_version": "1.2.0",
      "model_name": "VBoxModel",
      "state": {
       "_dom_classes": [
        "widget-interact"
       ],
       "children": [
        "IPY_MODEL_c6958896745343fe9e150ee1ea9b955d",
        "IPY_MODEL_a888f983ae6c49a4ac1a685a6bc958f5"
       ],
       "layout": "IPY_MODEL_b5f670f27dd1489b8f03ed1af0fc6352"
      }
     },
     "b13cc44a8ddb4a278790341a57971efe": {
      "model_module": "@jupyter-widgets/base",
      "model_module_version": "1.0.0",
      "model_name": "LayoutModel",
      "state": {}
     },
     "b191149286e4499b90bf5c6540abbd1a": {
      "model_module": "@jupyter-widgets/base",
      "model_module_version": "1.0.0",
      "model_name": "LayoutModel",
      "state": {}
     },
     "b1a41d88ce57445c8df643f19bb36ad6": {
      "model_module": "@jupyter-widgets/controls",
      "model_module_version": "1.2.0",
      "model_name": "VBoxModel",
      "state": {
       "_dom_classes": [
        "widget-interact"
       ],
       "children": [
        "IPY_MODEL_8c40662685a843d58157f52e2bea5de5",
        "IPY_MODEL_aeb46e667bbf4fae98e9c78688a128a6"
       ],
       "layout": "IPY_MODEL_712661fc1a1a4db19d361bb52b2d0779"
      }
     },
     "b1cbb08d8cff4213a8bb3eaf1739f8bb": {
      "model_module": "@jupyter-widgets/base",
      "model_module_version": "1.0.0",
      "model_name": "LayoutModel",
      "state": {}
     },
     "b2ead9189fa34eef83ebbee987606987": {
      "model_module": "@jupyter-widgets/base",
      "model_module_version": "1.0.0",
      "model_name": "LayoutModel",
      "state": {}
     },
     "b305b4542773414594f3fd763fd3e56d": {
      "model_module": "@jupyter-widgets/controls",
      "model_module_version": "1.2.0",
      "model_name": "IntSliderModel",
      "state": {
       "description": "e",
       "layout": "IPY_MODEL_ed64eb67a62940ab819934a9d6af5d4e",
       "max": 500,
       "min": -500,
       "style": "IPY_MODEL_f929a5b582eb43ed879bfcd90c1dcfcf",
       "value": 231
      }
     },
     "b3c4e5e3c500482f8d1722fe000347a8": {
      "model_module": "@jupyter-widgets/controls",
      "model_module_version": "1.2.0",
      "model_name": "IntSliderModel",
      "state": {
       "description": "e",
       "layout": "IPY_MODEL_8ed16635be4640c1b0e2e4ae8cb30419",
       "max": 500,
       "min": -500,
       "style": "IPY_MODEL_50d69784e5304cfd94fc8b3e6a0ec59b",
       "value": -10
      }
     },
     "b4bd71c71817426c94fdf29f6a77889b": {
      "model_module": "@jupyter-widgets/controls",
      "model_module_version": "1.2.0",
      "model_name": "IntSliderModel",
      "state": {
       "description": "c",
       "layout": "IPY_MODEL_7005a469c5764551a6347363073f93fe",
       "max": 500,
       "min": -500,
       "style": "IPY_MODEL_004451182a5342cb9fbd6070d3c39159",
       "value": 1
      }
     },
     "b5f670f27dd1489b8f03ed1af0fc6352": {
      "model_module": "@jupyter-widgets/base",
      "model_module_version": "1.0.0",
      "model_name": "LayoutModel",
      "state": {}
     },
     "b653a9039638498d920b33da26ae2dd6": {
      "model_module": "@jupyter-widgets/output",
      "model_module_version": "1.0.0",
      "model_name": "OutputModel",
      "state": {
       "layout": "IPY_MODEL_ccc2dc8981304a8191361408a3e3f7b1"
      }
     },
     "b686d222cbdc4500bb7da5e9c1e7ed01": {
      "model_module": "@jupyter-widgets/controls",
      "model_module_version": "1.2.0",
      "model_name": "IntSliderModel",
      "state": {
       "description": "d",
       "layout": "IPY_MODEL_e0ec84250f5a476bb4741673d4d874c7",
       "max": 500,
       "min": -500,
       "style": "IPY_MODEL_d8b55ca14e314f6d9a1c54084a3e0ae5",
       "value": 1
      }
     },
     "b716545c88134877afa8f31977bd1892": {
      "model_module": "@jupyter-widgets/output",
      "model_module_version": "1.0.0",
      "model_name": "OutputModel",
      "state": {
       "layout": "IPY_MODEL_0a78019cfe5d40129663c14c171542f9"
      }
     },
     "b7212d9d1d854840aece80f93a087738": {
      "model_module": "@jupyter-widgets/controls",
      "model_module_version": "1.2.0",
      "model_name": "VBoxModel",
      "state": {
       "_dom_classes": [
        "widget-interact"
       ],
       "children": [
        "IPY_MODEL_5be430e6b093444c8175a187ff9484e3",
        "IPY_MODEL_692e3953759f451786a8685cf0407383"
       ],
       "layout": "IPY_MODEL_435b3181dd214a33b95de5e8fe5998c7"
      }
     },
     "b8b95295a97a4100acf04edbbe8f7436": {
      "model_module": "@jupyter-widgets/output",
      "model_module_version": "1.0.0",
      "model_name": "OutputModel",
      "state": {
       "layout": "IPY_MODEL_13655a655c484c3ba2391c9b3512ac86"
      }
     },
     "b914491239d64b48a2c9cbb8ef63a07f": {
      "model_module": "@jupyter-widgets/controls",
      "model_module_version": "1.2.0",
      "model_name": "VBoxModel",
      "state": {
       "_dom_classes": [
        "widget-interact"
       ],
       "children": [
        "IPY_MODEL_cea5d8d7665b431686999ad1e8854bf9",
        "IPY_MODEL_e36bb22df85c459d91bb53a33be523b9"
       ],
       "layout": "IPY_MODEL_807910d34fde4d7db06b4b12a806337b"
      }
     },
     "b9997fe3919d4ec4b127d25aeb921abb": {
      "model_module": "@jupyter-widgets/output",
      "model_module_version": "1.0.0",
      "model_name": "OutputModel",
      "state": {
       "layout": "IPY_MODEL_1732fa2eecd6456eb586d898c00c8c1c"
      }
     },
     "ba1423e4090645d691306483feeefb6c": {
      "model_module": "@jupyter-widgets/base",
      "model_module_version": "1.0.0",
      "model_name": "LayoutModel",
      "state": {}
     },
     "ba265feaf16d4f3fb1156b272861de1a": {
      "model_module": "@jupyter-widgets/base",
      "model_module_version": "1.0.0",
      "model_name": "LayoutModel",
      "state": {}
     },
     "ba77de4cf58245d9807796ee562d851e": {
      "model_module": "@jupyter-widgets/output",
      "model_module_version": "1.0.0",
      "model_name": "OutputModel",
      "state": {
       "layout": "IPY_MODEL_5494e4c1c206418dbeff8cb59df50ed5"
      }
     },
     "bb67edc68bd540a780132467e6327c1a": {
      "model_module": "@jupyter-widgets/controls",
      "model_module_version": "1.2.0",
      "model_name": "SliderStyleModel",
      "state": {
       "description_width": ""
      }
     },
     "bb8b9b56f2b84000b4e92ab3e69eec3f": {
      "model_module": "@jupyter-widgets/base",
      "model_module_version": "1.0.0",
      "model_name": "LayoutModel",
      "state": {}
     },
     "bb90bbf5676844f6bd6789c434304867": {
      "model_module": "@jupyter-widgets/base",
      "model_module_version": "1.0.0",
      "model_name": "LayoutModel",
      "state": {}
     },
     "bcd7e1eae3384f219b53d25a606af751": {
      "model_module": "@jupyter-widgets/output",
      "model_module_version": "1.0.0",
      "model_name": "OutputModel",
      "state": {
       "layout": "IPY_MODEL_3eee6dee7c834b01a223fa43962d855f"
      }
     },
     "bd300ac71eaa4877afd14e7a6ef2074b": {
      "model_module": "@jupyter-widgets/base",
      "model_module_version": "1.0.0",
      "model_name": "LayoutModel",
      "state": {}
     },
     "bd5c5e811f9c46f2bf96d63273c579db": {
      "model_module": "@jupyter-widgets/controls",
      "model_module_version": "1.2.0",
      "model_name": "IntSliderModel",
      "state": {
       "description": "c",
       "layout": "IPY_MODEL_0dbb8792e5494e248df5f67e803a08fd",
       "max": 500,
       "min": -500,
       "style": "IPY_MODEL_02d3a1fc429b4f9b80ef138dc0ba747b",
       "value": 1
      }
     },
     "bf347c90999b402d9d3909389fd38a75": {
      "model_module": "@jupyter-widgets/base",
      "model_module_version": "1.0.0",
      "model_name": "LayoutModel",
      "state": {}
     },
     "bf9e0da336d34755afe0794bd97c75f2": {
      "model_module": "@jupyter-widgets/controls",
      "model_module_version": "1.2.0",
      "model_name": "VBoxModel",
      "state": {
       "_dom_classes": [
        "widget-interact"
       ],
       "children": [
        "IPY_MODEL_ae40e4a1e34a45b5b4014b3397b041b2",
        "IPY_MODEL_c4310f074a304b30838a7b175921e0a4"
       ],
       "layout": "IPY_MODEL_c9e7ceaf0b374319b5d18964c86b045d"
      }
     },
     "bfd3754e235540dd936a316457b5bdca": {
      "model_module": "@jupyter-widgets/base",
      "model_module_version": "1.0.0",
      "model_name": "LayoutModel",
      "state": {}
     },
     "c0fc65fc6cd34b6589899d918de213ab": {
      "model_module": "@jupyter-widgets/base",
      "model_module_version": "1.0.0",
      "model_name": "LayoutModel",
      "state": {}
     },
     "c36ce5c398e34f70ae544184d0fb982e": {
      "model_module": "@jupyter-widgets/base",
      "model_module_version": "1.0.0",
      "model_name": "LayoutModel",
      "state": {}
     },
     "c385c7d4ec464b31983e6b0e32e126c8": {
      "model_module": "@jupyter-widgets/base",
      "model_module_version": "1.0.0",
      "model_name": "LayoutModel",
      "state": {}
     },
     "c3ccaad2c2d24a5fb11c2aa9e2d7e072": {
      "model_module": "@jupyter-widgets/controls",
      "model_module_version": "1.2.0",
      "model_name": "SliderStyleModel",
      "state": {
       "description_width": ""
      }
     },
     "c4310f074a304b30838a7b175921e0a4": {
      "model_module": "@jupyter-widgets/output",
      "model_module_version": "1.0.0",
      "model_name": "OutputModel",
      "state": {
       "layout": "IPY_MODEL_78bf059df41f42859aab83a4d034f0e0"
      }
     },
     "c47ada4010c648ca89e76a75462b8e71": {
      "model_module": "@jupyter-widgets/base",
      "model_module_version": "1.0.0",
      "model_name": "LayoutModel",
      "state": {}
     },
     "c4cf7c9797004bc2ac8f27068769286d": {
      "model_module": "@jupyter-widgets/controls",
      "model_module_version": "1.2.0",
      "model_name": "IntSliderModel",
      "state": {
       "description": "c",
       "layout": "IPY_MODEL_8360dd7cbbb144c4857a0181edfdb7e7",
       "max": 500,
       "min": -500,
       "style": "IPY_MODEL_11082665d5b442a3b1f32e2ac3630170",
       "value": -500
      }
     },
     "c5b2a4e38a924047951343f0d9bbcc34": {
      "model_module": "@jupyter-widgets/controls",
      "model_module_version": "1.2.0",
      "model_name": "SliderStyleModel",
      "state": {
       "description_width": ""
      }
     },
     "c5d0afa63601402cad572e54e58c3b49": {
      "model_module": "@jupyter-widgets/base",
      "model_module_version": "1.0.0",
      "model_name": "LayoutModel",
      "state": {}
     },
     "c5f88eb54c2444bb87fb86fb9b60bee7": {
      "model_module": "@jupyter-widgets/base",
      "model_module_version": "1.0.0",
      "model_name": "LayoutModel",
      "state": {}
     },
     "c5fb3ce46f544cc7b58aff59f9fd91ae": {
      "model_module": "@jupyter-widgets/controls",
      "model_module_version": "1.2.0",
      "model_name": "SliderStyleModel",
      "state": {
       "description_width": ""
      }
     },
     "c6958896745343fe9e150ee1ea9b955d": {
      "model_module": "@jupyter-widgets/controls",
      "model_module_version": "1.2.0",
      "model_name": "IntSliderModel",
      "state": {
       "description": "c",
       "layout": "IPY_MODEL_9131520b91584aaeaa532f4e098b9d8a",
       "max": 500,
       "min": -500,
       "style": "IPY_MODEL_f597cff1a8944382adfe00cf073b42a9",
       "value": 1
      }
     },
     "c7366668e6814cb08e967875f7223517": {
      "model_module": "@jupyter-widgets/base",
      "model_module_version": "1.0.0",
      "model_name": "LayoutModel",
      "state": {}
     },
     "c7f2f31ffc7649dbac9b58bb341eca42": {
      "model_module": "@jupyter-widgets/base",
      "model_module_version": "1.0.0",
      "model_name": "LayoutModel",
      "state": {}
     },
     "c8980670dc504230b5e9ad807f559828": {
      "model_module": "@jupyter-widgets/output",
      "model_module_version": "1.0.0",
      "model_name": "OutputModel",
      "state": {
       "layout": "IPY_MODEL_62dd3e8b2d9946b6930d90709cd80377"
      }
     },
     "c8efd2d24fd44ac68e6a149403ccd27f": {
      "model_module": "@jupyter-widgets/controls",
      "model_module_version": "1.2.0",
      "model_name": "IntSliderModel",
      "state": {
       "description": "c",
       "layout": "IPY_MODEL_1e6ab9b83ba5403fb0eec3c39062ab4e",
       "max": 500,
       "min": -500,
       "style": "IPY_MODEL_90043809c9e24e03b6ba0b84cd04e6ed",
       "value": 1
      }
     },
     "c9a08c8495694cdfae323f95d6b1a176": {
      "model_module": "@jupyter-widgets/base",
      "model_module_version": "1.0.0",
      "model_name": "LayoutModel",
      "state": {}
     },
     "c9e7ceaf0b374319b5d18964c86b045d": {
      "model_module": "@jupyter-widgets/base",
      "model_module_version": "1.0.0",
      "model_name": "LayoutModel",
      "state": {}
     },
     "cb4602f2ce964a3fa8f9b5ff603abf86": {
      "model_module": "@jupyter-widgets/output",
      "model_module_version": "1.0.0",
      "model_name": "OutputModel",
      "state": {
       "layout": "IPY_MODEL_bb90bbf5676844f6bd6789c434304867"
      }
     },
     "cb561d318b434ab5b2bbf48e4dcdb499": {
      "model_module": "@jupyter-widgets/base",
      "model_module_version": "1.0.0",
      "model_name": "LayoutModel",
      "state": {}
     },
     "cb57f40f25484ce58eeeb3190f182a33": {
      "model_module": "@jupyter-widgets/base",
      "model_module_version": "1.0.0",
      "model_name": "LayoutModel",
      "state": {}
     },
     "cbe01110c107466c972e49c0a482dad7": {
      "model_module": "@jupyter-widgets/controls",
      "model_module_version": "1.2.0",
      "model_name": "VBoxModel",
      "state": {
       "_dom_classes": [
        "widget-interact"
       ],
       "children": [
        "IPY_MODEL_9b8eef046c684f1bb695ab9e56d1bd3c",
        "IPY_MODEL_dd3bbd0328c44fb886b82d8aa3bdac7f"
       ],
       "layout": "IPY_MODEL_9605a3bd06c9431285d18a777627569f"
      }
     },
     "cc7748c2e27c4657862e9eced60e843c": {
      "model_module": "@jupyter-widgets/base",
      "model_module_version": "1.0.0",
      "model_name": "LayoutModel",
      "state": {}
     },
     "ccc2dc8981304a8191361408a3e3f7b1": {
      "model_module": "@jupyter-widgets/base",
      "model_module_version": "1.0.0",
      "model_name": "LayoutModel",
      "state": {}
     },
     "cdaa68c831a444c8ac8ee2b57b445c41": {
      "model_module": "@jupyter-widgets/controls",
      "model_module_version": "1.2.0",
      "model_name": "SliderStyleModel",
      "state": {
       "description_width": ""
      }
     },
     "cea5d8d7665b431686999ad1e8854bf9": {
      "model_module": "@jupyter-widgets/controls",
      "model_module_version": "1.2.0",
      "model_name": "IntSliderModel",
      "state": {
       "description": "c",
       "layout": "IPY_MODEL_b2ead9189fa34eef83ebbee987606987",
       "max": 500,
       "min": -500,
       "style": "IPY_MODEL_06290166b0224af9bfde4fa550568f13",
       "value": 1
      }
     },
     "d062a28e64304cca86c22011b8cf2175": {
      "model_module": "@jupyter-widgets/controls",
      "model_module_version": "1.2.0",
      "model_name": "SliderStyleModel",
      "state": {
       "description_width": ""
      }
     },
     "d067b6e09d2c46fcb911aa9bb4d840c5": {
      "model_module": "@jupyter-widgets/output",
      "model_module_version": "1.0.0",
      "model_name": "OutputModel",
      "state": {
       "layout": "IPY_MODEL_cb57f40f25484ce58eeeb3190f182a33"
      }
     },
     "d08a1b53dd784eef9049a9a3c72240e3": {
      "model_module": "@jupyter-widgets/base",
      "model_module_version": "1.0.0",
      "model_name": "LayoutModel",
      "state": {}
     },
     "d14fefab7e7b4d3d86b07bcb00d755ee": {
      "model_module": "@jupyter-widgets/base",
      "model_module_version": "1.0.0",
      "model_name": "LayoutModel",
      "state": {}
     },
     "d1502bc853084d2490539a839c78af45": {
      "model_module": "@jupyter-widgets/output",
      "model_module_version": "1.0.0",
      "model_name": "OutputModel",
      "state": {
       "layout": "IPY_MODEL_530ef84f44054048b4708d2241eef1e1"
      }
     },
     "d2bc150565fe45c98ce2a2f3d2bd01c8": {
      "model_module": "@jupyter-widgets/base",
      "model_module_version": "1.0.0",
      "model_name": "LayoutModel",
      "state": {}
     },
     "d31538b8a6294078a7029e1f869e0492": {
      "model_module": "@jupyter-widgets/base",
      "model_module_version": "1.0.0",
      "model_name": "LayoutModel",
      "state": {}
     },
     "d498624d82f44efa845f47700c2ffe0d": {
      "model_module": "@jupyter-widgets/controls",
      "model_module_version": "1.2.0",
      "model_name": "IntSliderModel",
      "state": {
       "description": "c",
       "layout": "IPY_MODEL_f0bd29ce43db4d9482e273e8006c28d9",
       "max": 500,
       "min": -500,
       "style": "IPY_MODEL_c5fb3ce46f544cc7b58aff59f9fd91ae",
       "value": -500
      }
     },
     "d5f7fd6728f34e4182a5e1513db928f7": {
      "model_module": "@jupyter-widgets/controls",
      "model_module_version": "1.2.0",
      "model_name": "VBoxModel",
      "state": {
       "_dom_classes": [
        "widget-interact"
       ],
       "children": [
        "IPY_MODEL_39a5bf05be8b493a891690b64eceeaa9",
        "IPY_MODEL_3ee4866cf1dc4b7d850908f55c40efae"
       ],
       "layout": "IPY_MODEL_1d21a591c4a740458a4618a8ef259aad"
      }
     },
     "d62c9b780e284b658b2aa241be46d7fa": {
      "model_module": "@jupyter-widgets/controls",
      "model_module_version": "1.2.0",
      "model_name": "SliderStyleModel",
      "state": {
       "description_width": ""
      }
     },
     "d6a1e8527eee42b1a2bb1ab70b1f9ca8": {
      "model_module": "@jupyter-widgets/controls",
      "model_module_version": "1.2.0",
      "model_name": "IntSliderModel",
      "state": {
       "description": "c",
       "layout": "IPY_MODEL_06ac35f87daf4d9db5288d81c8497040",
       "max": 500,
       "min": -500,
       "style": "IPY_MODEL_4f7edacf253748adabec70dc586aa201",
       "value": 301
      }
     },
     "d78a63a204be46aeb68cf347bc803338": {
      "model_module": "@jupyter-widgets/output",
      "model_module_version": "1.0.0",
      "model_name": "OutputModel",
      "state": {
       "layout": "IPY_MODEL_d2bc150565fe45c98ce2a2f3d2bd01c8"
      }
     },
     "d7e5ceb1c7c04effa9bd85cae960656d": {
      "model_module": "@jupyter-widgets/base",
      "model_module_version": "1.0.0",
      "model_name": "LayoutModel",
      "state": {}
     },
     "d8b55ca14e314f6d9a1c54084a3e0ae5": {
      "model_module": "@jupyter-widgets/controls",
      "model_module_version": "1.2.0",
      "model_name": "SliderStyleModel",
      "state": {
       "description_width": ""
      }
     },
     "d95fa98991574280a4294a8c4c9b7799": {
      "model_module": "@jupyter-widgets/base",
      "model_module_version": "1.0.0",
      "model_name": "LayoutModel",
      "state": {}
     },
     "da0a9f7c8be94e6a8aeb458febd3a404": {
      "model_module": "@jupyter-widgets/base",
      "model_module_version": "1.0.0",
      "model_name": "LayoutModel",
      "state": {}
     },
     "da59349cb85949b2947aa671214d8deb": {
      "model_module": "@jupyter-widgets/base",
      "model_module_version": "1.0.0",
      "model_name": "LayoutModel",
      "state": {}
     },
     "dd3bbd0328c44fb886b82d8aa3bdac7f": {
      "model_module": "@jupyter-widgets/output",
      "model_module_version": "1.0.0",
      "model_name": "OutputModel",
      "state": {
       "layout": "IPY_MODEL_246b2e79a4374e4ebab65e804576a961"
      }
     },
     "dd9fcb465e3f4e01bfa43886d0601662": {
      "model_module": "@jupyter-widgets/base",
      "model_module_version": "1.0.0",
      "model_name": "LayoutModel",
      "state": {}
     },
     "ddf33035b6a34bdaaed0046289ee446f": {
      "model_module": "@jupyter-widgets/base",
      "model_module_version": "1.0.0",
      "model_name": "LayoutModel",
      "state": {}
     },
     "df156b48645c4fc0b67d86531a9d4f67": {
      "model_module": "@jupyter-widgets/controls",
      "model_module_version": "1.2.0",
      "model_name": "VBoxModel",
      "state": {
       "_dom_classes": [
        "widget-interact"
       ],
       "children": [
        "IPY_MODEL_a0ddba8d49c049eca593ba9264842187",
        "IPY_MODEL_c8980670dc504230b5e9ad807f559828"
       ],
       "layout": "IPY_MODEL_66962f22f6a748b4951ba14630fc6e9a"
      }
     },
     "df62b0633e0249dab8f15c406e11253d": {
      "model_module": "@jupyter-widgets/controls",
      "model_module_version": "1.2.0",
      "model_name": "VBoxModel",
      "state": {
       "_dom_classes": [
        "widget-interact"
       ],
       "children": [
        "IPY_MODEL_06643c4ccfd8426694b579229bc4534f",
        "IPY_MODEL_f349263376d54535b6232d05211d6bd0"
       ],
       "layout": "IPY_MODEL_2fa1c4a055544c29ab10705f6e3a02b8"
      }
     },
     "dfb36728f313408c927d4561c7c5931a": {
      "model_module": "@jupyter-widgets/base",
      "model_module_version": "1.0.0",
      "model_name": "LayoutModel",
      "state": {}
     },
     "e05d4f60cd914f16bcc6614b6fd81bfa": {
      "model_module": "@jupyter-widgets/output",
      "model_module_version": "1.0.0",
      "model_name": "OutputModel",
      "state": {
       "layout": "IPY_MODEL_8ce619c5d92a4bd5b1c2235cb24fbc4c"
      }
     },
     "e0b317ceca13480aac4f106750715501": {
      "model_module": "@jupyter-widgets/controls",
      "model_module_version": "1.2.0",
      "model_name": "VBoxModel",
      "state": {
       "_dom_classes": [
        "widget-interact"
       ],
       "children": [
        "IPY_MODEL_02f8c93bf92a472a93c62ecbef1f941b",
        "IPY_MODEL_cb4602f2ce964a3fa8f9b5ff603abf86"
       ],
       "layout": "IPY_MODEL_25fde21880b2420e9075620583b2aeaf"
      }
     },
     "e0ec84250f5a476bb4741673d4d874c7": {
      "model_module": "@jupyter-widgets/base",
      "model_module_version": "1.0.0",
      "model_name": "LayoutModel",
      "state": {}
     },
     "e191f9c257cf440ea29cf06b8c843ee4": {
      "model_module": "@jupyter-widgets/output",
      "model_module_version": "1.0.0",
      "model_name": "OutputModel",
      "state": {
       "layout": "IPY_MODEL_bf347c90999b402d9d3909389fd38a75"
      }
     },
     "e1f5c8e296be426d8abe8d3a2ddaff5b": {
      "model_module": "@jupyter-widgets/output",
      "model_module_version": "1.0.0",
      "model_name": "OutputModel",
      "state": {
       "layout": "IPY_MODEL_162019b4350f48ea82f8b3f0f0f85077"
      }
     },
     "e21b1b68db3a4233bf551e77a0e5f506": {
      "model_module": "@jupyter-widgets/controls",
      "model_module_version": "1.2.0",
      "model_name": "VBoxModel",
      "state": {
       "_dom_classes": [
        "widget-interact"
       ],
       "children": [
        "IPY_MODEL_61772455e2104ef9b787bb6780eb170e",
        "IPY_MODEL_b8b95295a97a4100acf04edbbe8f7436"
       ],
       "layout": "IPY_MODEL_e66c74f0755540e38d13a498efc0c6ae"
      }
     },
     "e27b4fe199904ffd93e5a31f36d12ee0": {
      "model_module": "@jupyter-widgets/controls",
      "model_module_version": "1.2.0",
      "model_name": "IntSliderModel",
      "state": {
       "description": "e",
       "layout": "IPY_MODEL_e57360b561904b91b8293c8eebf1c393",
       "max": 500,
       "min": -500,
       "style": "IPY_MODEL_4e4cbe029f93421798b310066e0744c1",
       "value": 1
      }
     },
     "e36bb22df85c459d91bb53a33be523b9": {
      "model_module": "@jupyter-widgets/output",
      "model_module_version": "1.0.0",
      "model_name": "OutputModel",
      "state": {
       "layout": "IPY_MODEL_c9a08c8495694cdfae323f95d6b1a176"
      }
     },
     "e42387a1f479466ca6505ae9220aa308": {
      "model_module": "@jupyter-widgets/controls",
      "model_module_version": "1.2.0",
      "model_name": "VBoxModel",
      "state": {
       "_dom_classes": [
        "widget-interact"
       ],
       "children": [
        "IPY_MODEL_e27b4fe199904ffd93e5a31f36d12ee0",
        "IPY_MODEL_41bf871f9e384024b7d69638fe405550"
       ],
       "layout": "IPY_MODEL_bfd3754e235540dd936a316457b5bdca"
      }
     },
     "e4a9d677d5e64c459aace62ebc0bc8d6": {
      "model_module": "@jupyter-widgets/output",
      "model_module_version": "1.0.0",
      "model_name": "OutputModel",
      "state": {
       "layout": "IPY_MODEL_3f374b997ecf452ab6ff97121021c724"
      }
     },
     "e57360b561904b91b8293c8eebf1c393": {
      "model_module": "@jupyter-widgets/base",
      "model_module_version": "1.0.0",
      "model_name": "LayoutModel",
      "state": {}
     },
     "e5ff3947d6d04124b31295ed3ad663cb": {
      "model_module": "@jupyter-widgets/base",
      "model_module_version": "1.0.0",
      "model_name": "LayoutModel",
      "state": {}
     },
     "e61474f3f05444268eca059da9eb76ce": {
      "model_module": "@jupyter-widgets/controls",
      "model_module_version": "1.2.0",
      "model_name": "VBoxModel",
      "state": {
       "_dom_classes": [
        "widget-interact"
       ],
       "children": [
        "IPY_MODEL_a08ad471d9ab4499998d9f02b7c77f43",
        "IPY_MODEL_2dc0693ee845489c8b23f989be3ab5ad"
       ],
       "layout": "IPY_MODEL_64c47a6c0054445385e892a8d5daf0ef"
      }
     },
     "e65453d36c52497eb1055ad205ffd3e1": {
      "model_module": "@jupyter-widgets/base",
      "model_module_version": "1.0.0",
      "model_name": "LayoutModel",
      "state": {}
     },
     "e65aa72ceaa24938aedd38dc91d5bda0": {
      "model_module": "@jupyter-widgets/controls",
      "model_module_version": "1.2.0",
      "model_name": "SliderStyleModel",
      "state": {
       "description_width": ""
      }
     },
     "e66c74f0755540e38d13a498efc0c6ae": {
      "model_module": "@jupyter-widgets/base",
      "model_module_version": "1.0.0",
      "model_name": "LayoutModel",
      "state": {}
     },
     "e67e48dc2aaf4ead8bf4f93ba7eecfae": {
      "model_module": "@jupyter-widgets/controls",
      "model_module_version": "1.2.0",
      "model_name": "VBoxModel",
      "state": {
       "_dom_classes": [
        "widget-interact"
       ],
       "children": [
        "IPY_MODEL_d498624d82f44efa845f47700c2ffe0d",
        "IPY_MODEL_8e623ca38492461595d228a2736b36ba"
       ],
       "layout": "IPY_MODEL_dd9fcb465e3f4e01bfa43886d0601662"
      }
     },
     "e69e7d2f1ad248cbb8c9ba5732682f60": {
      "model_module": "@jupyter-widgets/base",
      "model_module_version": "1.0.0",
      "model_name": "LayoutModel",
      "state": {}
     },
     "e6a212c0aea247d2b21a310baf71f01c": {
      "model_module": "@jupyter-widgets/output",
      "model_module_version": "1.0.0",
      "model_name": "OutputModel",
      "state": {
       "layout": "IPY_MODEL_80d542319fe349b98f583ab1a3d01218"
      }
     },
     "e78927ee4f1b4491b36d8e96f7f3a6a8": {
      "model_module": "@jupyter-widgets/controls",
      "model_module_version": "1.2.0",
      "model_name": "VBoxModel",
      "state": {
       "_dom_classes": [
        "widget-interact"
       ],
       "children": [
        "IPY_MODEL_393ea25bf2aa4e5e90c5a3fd021bbd06",
        "IPY_MODEL_e4a9d677d5e64c459aace62ebc0bc8d6"
       ],
       "layout": "IPY_MODEL_d08a1b53dd784eef9049a9a3c72240e3"
      }
     },
     "e8ed4759912d44ac97872bc4d6cdeb7b": {
      "model_module": "@jupyter-widgets/output",
      "model_module_version": "1.0.0",
      "model_name": "OutputModel",
      "state": {
       "layout": "IPY_MODEL_9056224dca9147a3a36ca2f1791e3081"
      }
     },
     "e93b8369b2f84831bd89e979f2e89c24": {
      "model_module": "@jupyter-widgets/controls",
      "model_module_version": "1.2.0",
      "model_name": "VBoxModel",
      "state": {
       "_dom_classes": [
        "widget-interact"
       ],
       "children": [
        "IPY_MODEL_c4cf7c9797004bc2ac8f27068769286d",
        "IPY_MODEL_d78a63a204be46aeb68cf347bc803338"
       ],
       "layout": "IPY_MODEL_2597dcf8a2ba4b0e8d63fc2bb131079d"
      }
     },
     "e97dfb3719614ddf9b3e963fc95d4020": {
      "model_module": "@jupyter-widgets/base",
      "model_module_version": "1.0.0",
      "model_name": "LayoutModel",
      "state": {}
     },
     "e9d098d3d85642ffa08d259dc2834e93": {
      "model_module": "@jupyter-widgets/output",
      "model_module_version": "1.0.0",
      "model_name": "OutputModel",
      "state": {
       "layout": "IPY_MODEL_206940dc2d7b47559b3732cf535e3b8a"
      }
     },
     "eb98e5acf24745e88fd59f47966c1666": {
      "model_module": "@jupyter-widgets/controls",
      "model_module_version": "1.2.0",
      "model_name": "VBoxModel",
      "state": {
       "_dom_classes": [
        "widget-interact"
       ],
       "children": [
        "IPY_MODEL_2a6f862c85554c36b16130c114d193fe",
        "IPY_MODEL_e1f5c8e296be426d8abe8d3a2ddaff5b"
       ],
       "layout": "IPY_MODEL_da0a9f7c8be94e6a8aeb458febd3a404"
      }
     },
     "ec42ca33a8384c988eeda6d878698912": {
      "model_module": "@jupyter-widgets/controls",
      "model_module_version": "1.2.0",
      "model_name": "VBoxModel",
      "state": {
       "_dom_classes": [
        "widget-interact"
       ],
       "children": [
        "IPY_MODEL_f9abb6d1b35a4192ace0d4a3d49c1b8d",
        "IPY_MODEL_b653a9039638498d920b33da26ae2dd6"
       ],
       "layout": "IPY_MODEL_1a3d45c2ba05427ca6425064e52792ee"
      }
     },
     "ed64eb67a62940ab819934a9d6af5d4e": {
      "model_module": "@jupyter-widgets/base",
      "model_module_version": "1.0.0",
      "model_name": "LayoutModel",
      "state": {}
     },
     "ee94896624704b4eb8f490339a4cb78e": {
      "model_module": "@jupyter-widgets/output",
      "model_module_version": "1.0.0",
      "model_name": "OutputModel",
      "state": {
       "layout": "IPY_MODEL_6ab458410fc7468b8c516d44b476dcd0"
      }
     },
     "f08d4c6ac7a841398bdb8a8682c8460a": {
      "model_module": "@jupyter-widgets/controls",
      "model_module_version": "1.2.0",
      "model_name": "SliderStyleModel",
      "state": {
       "description_width": ""
      }
     },
     "f0b5eae1ab3f4797824774855bbedd0c": {
      "model_module": "@jupyter-widgets/base",
      "model_module_version": "1.0.0",
      "model_name": "LayoutModel",
      "state": {}
     },
     "f0bd29ce43db4d9482e273e8006c28d9": {
      "model_module": "@jupyter-widgets/base",
      "model_module_version": "1.0.0",
      "model_name": "LayoutModel",
      "state": {}
     },
     "f2a9b28c3df541379d7cbfe6aeb8a6e4": {
      "model_module": "@jupyter-widgets/controls",
      "model_module_version": "1.2.0",
      "model_name": "SliderStyleModel",
      "state": {
       "description_width": ""
      }
     },
     "f349263376d54535b6232d05211d6bd0": {
      "model_module": "@jupyter-widgets/output",
      "model_module_version": "1.0.0",
      "model_name": "OutputModel",
      "state": {
       "layout": "IPY_MODEL_c47ada4010c648ca89e76a75462b8e71"
      }
     },
     "f3f3e6dcda7b4a8e9062ca77026319c0": {
      "model_module": "@jupyter-widgets/controls",
      "model_module_version": "1.2.0",
      "model_name": "SliderStyleModel",
      "state": {
       "description_width": ""
      }
     },
     "f45a946715684fcbb53183d36a2df17b": {
      "model_module": "@jupyter-widgets/controls",
      "model_module_version": "1.2.0",
      "model_name": "SliderStyleModel",
      "state": {
       "description_width": ""
      }
     },
     "f53a0d81be1d4c37bf0062ef92654ae0": {
      "model_module": "@jupyter-widgets/base",
      "model_module_version": "1.0.0",
      "model_name": "LayoutModel",
      "state": {}
     },
     "f597cff1a8944382adfe00cf073b42a9": {
      "model_module": "@jupyter-widgets/controls",
      "model_module_version": "1.2.0",
      "model_name": "SliderStyleModel",
      "state": {
       "description_width": ""
      }
     },
     "f80005ecb6dd441aabda2a1e9ea89a8b": {
      "model_module": "@jupyter-widgets/base",
      "model_module_version": "1.0.0",
      "model_name": "LayoutModel",
      "state": {}
     },
     "f804b2c94ea84b9ba4cca23124f0a3af": {
      "model_module": "@jupyter-widgets/controls",
      "model_module_version": "1.2.0",
      "model_name": "IntSliderModel",
      "state": {
       "description": "c",
       "layout": "IPY_MODEL_172af993adff44a7b1bb781d558df610",
       "max": 500,
       "min": -500,
       "style": "IPY_MODEL_92b5bc4d96d64f16b686fac03e6c6939",
       "value": 1
      }
     },
     "f89b5c6328bd4965ac905edc027fc09a": {
      "model_module": "@jupyter-widgets/base",
      "model_module_version": "1.0.0",
      "model_name": "LayoutModel",
      "state": {}
     },
     "f929a5b582eb43ed879bfcd90c1dcfcf": {
      "model_module": "@jupyter-widgets/controls",
      "model_module_version": "1.2.0",
      "model_name": "SliderStyleModel",
      "state": {
       "description_width": ""
      }
     },
     "f9abb6d1b35a4192ace0d4a3d49c1b8d": {
      "model_module": "@jupyter-widgets/controls",
      "model_module_version": "1.2.0",
      "model_name": "IntSliderModel",
      "state": {
       "description": "c",
       "layout": "IPY_MODEL_c5d0afa63601402cad572e54e58c3b49",
       "max": 500,
       "min": -500,
       "style": "IPY_MODEL_4a97e0939c9245ff8a2ad0862df8d3f6",
       "value": 1
      }
     },
     "f9d8b5574ba045bc985d8305a30c71f9": {
      "model_module": "@jupyter-widgets/base",
      "model_module_version": "1.0.0",
      "model_name": "LayoutModel",
      "state": {}
     },
     "fa3c0b08017349a7b4c258ee601a67c8": {
      "model_module": "@jupyter-widgets/base",
      "model_module_version": "1.0.0",
      "model_name": "LayoutModel",
      "state": {}
     },
     "fb44f25c7bc141b4bdb811ca27c4e02d": {
      "model_module": "@jupyter-widgets/controls",
      "model_module_version": "1.2.0",
      "model_name": "VBoxModel",
      "state": {
       "_dom_classes": [
        "widget-interact"
       ],
       "children": [
        "IPY_MODEL_95706a489e8e4af898070a7b67592986",
        "IPY_MODEL_98b5f880934146638b22b80da5785b81"
       ],
       "layout": "IPY_MODEL_73652e700d6b48509774240463507ccc"
      }
     },
     "fbac4641bc8c4ff38098a34ff490afda": {
      "model_module": "@jupyter-widgets/controls",
      "model_module_version": "1.2.0",
      "model_name": "SliderStyleModel",
      "state": {
       "description_width": ""
      }
     },
     "fc6cc5c8e6594727a32eb68100d35cc5": {
      "model_module": "@jupyter-widgets/base",
      "model_module_version": "1.0.0",
      "model_name": "LayoutModel",
      "state": {}
     },
     "fd1adac635904d4da13ac45f20abe0e7": {
      "model_module": "@jupyter-widgets/base",
      "model_module_version": "1.0.0",
      "model_name": "LayoutModel",
      "state": {}
     },
     "fd5b9ffbd94449b59627ce67cd20e36d": {
      "model_module": "@jupyter-widgets/controls",
      "model_module_version": "1.2.0",
      "model_name": "VBoxModel",
      "state": {
       "_dom_classes": [
        "widget-interact"
       ],
       "children": [
        "IPY_MODEL_07ec4671bbcc423c999397b292e5986c",
        "IPY_MODEL_97a8888ebc7d41b385b10806b78911c7"
       ],
       "layout": "IPY_MODEL_6ed637d1ff074f0581fce204fb03e651"
      }
     },
     "fde04b2083e640df908cf12b5a621ece": {
      "model_module": "@jupyter-widgets/base",
      "model_module_version": "1.0.0",
      "model_name": "LayoutModel",
      "state": {}
     },
     "fea023dd3a684feb9ca2305c56f5cc9b": {
      "model_module": "@jupyter-widgets/base",
      "model_module_version": "1.0.0",
      "model_name": "LayoutModel",
      "state": {}
     },
     "ff201d584a5440f08f839afe2a3b4529": {
      "model_module": "@jupyter-widgets/controls",
      "model_module_version": "1.2.0",
      "model_name": "VBoxModel",
      "state": {
       "_dom_classes": [
        "widget-interact"
       ],
       "children": [
        "IPY_MODEL_123a1ec2917b4d68aff089419564a391",
        "IPY_MODEL_ba77de4cf58245d9807796ee562d851e"
       ],
       "layout": "IPY_MODEL_d95fa98991574280a4294a8c4c9b7799"
      }
     },
     "fff1452423994d7f9525076f91e558e0": {
      "model_module": "@jupyter-widgets/controls",
      "model_module_version": "1.2.0",
      "model_name": "IntSliderModel",
      "state": {
       "description": "c",
       "layout": "IPY_MODEL_3b55dcee58354b479dc90c2ab13c9ff3",
       "max": 500,
       "min": -500,
       "style": "IPY_MODEL_16111f549c9244f7b129d0995f98cf01",
       "value": 1
      }
     }
    },
    "version_major": 2,
    "version_minor": 0
   }
  }
 },
 "nbformat": 4,
 "nbformat_minor": 2
}
