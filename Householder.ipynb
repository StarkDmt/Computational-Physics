{
 "cells": [
  {
   "cell_type": "code",
   "execution_count": 186,
   "metadata": {},
   "outputs": [],
   "source": [
    "import numpy as np\n",
    "import collections\n",
    "\n",
    "from numpy.testing import assert_allclose"
   ]
  },
  {
   "cell_type": "markdown",
   "metadata": {},
   "source": [
    "# Part I. Construct a Householder reflection of a vector."
   ]
  },
  {
   "cell_type": "markdown",
   "metadata": {},
   "source": [
    "Given a vector $\\mathbf{x}$, and a plane with a normal vector $\\mathbf{u}$, the Householder transformation reflects $\\mathbf{x}$ about the plane.\n",
    "\n",
    "The matrix of the Householder transformation is\n",
    "\n",
    "$$\n",
    "\\mathbf{H} = \\mathbf{1} - 2 \\mathbf{u} \\mathbf{u}^T\n",
    "$$\n",
    "\n",
    "Given two equal-length vectors $\\mathbf{x}$ and $\\mathbf{y}$, a rotation which brings $\\mathbf{x}$ to $\\mathbf{y}$ is a Householder transform with\n",
    "\n",
    "$$\n",
    "\\mathbf{u} = \\frac{\\mathbf{x} - \\mathbf{y}}{||\\mathbf{x} - \\mathbf{y}||}\n",
    "$$"
   ]
  },
  {
   "cell_type": "code",
   "execution_count": 187,
   "metadata": {},
   "outputs": [],
   "source": [
    "def householder(vec):\n",
    "    \"\"\"Construct a Householder reflection to zero out 2nd and further components of a vector.\n",
    "\n",
    "    Parameters\n",
    "    ----------\n",
    "    vec : array-like of floats, shape (n,)\n",
    "        Input vector\n",
    "    \n",
    "    Returns\n",
    "    -------\n",
    "    outvec : array of floats, shape (n,)\n",
    "        Transformed vector, with ``outvec[1:]==0`` and ``|outvec| == |vec|``\n",
    "    H : array of floats, shape (n, n)\n",
    "        Orthogonal matrix of the Householder reflection\n",
    "    \"\"\"\n",
    "    vec = np.asarray(vec, dtype=float)\n",
    "    if vec.ndim != 1:\n",
    "        raise ValueError(\"vec.ndim = %s, expected 1\" % vec.ndim)\n",
    "    y = np.zeros((len(vec)))\n",
    "    y[0] = np.linalg.norm(vec)\n",
    "    u = vec - y\n",
    "    u /= np.linalg.norm(u)\n",
    "    \n",
    "    H = np.zeros((len(vec),len(vec)))\n",
    "    H = np.diag(np.ones(len(vec))) - 2* (u[:,None] @ u[:,None].T)\n",
    "    res = H @ vec\n",
    "   \n",
    "    \n",
    "    return res, H\n"
   ]
  },
  {
   "cell_type": "code",
   "execution_count": 189,
   "metadata": {},
   "outputs": [],
   "source": [
    "\n",
    "v = np.array([1, 2, 3])\n",
    "v1, h = householder(v)\n",
    "\n",
    "assert_allclose(np.dot(h, v1), v)\n",
    "assert_allclose(np.dot(h, v), v1)"
   ]
  },
  {
   "cell_type": "code",
   "execution_count": 190,
   "metadata": {},
   "outputs": [],
   "source": [
    "rndm = np.random.RandomState(1234)\n",
    "\n",
    "vec = rndm.uniform(size=7)\n",
    "v1, h = householder(vec)\n",
    "\n",
    "assert_allclose(np.dot(h, v1), vec)"
   ]
  },
  {
   "cell_type": "markdown",
   "metadata": {},
   "source": [
    "# Part II. Compute the QR decomposition of a matrix.\n",
    "\n",
    "Given a rectangular $m\\times n$ matrix $\\mathbf{A}$, construct a Householder reflector matrix $\\mathbf{H}_1$ which transforms the first column of $\\mathbf{A}$ (and call the result $\\mathbf{A}^{(1)}$)\n",
    "\n",
    "$$\n",
    "\\mathbf{H}_1 \\mathbf{A} =%\n",
    "\\begin{pmatrix}\n",
    "\\times & \\times & \\times & \\dots & \\times \\\\\n",
    "0      & \\times & \\times & \\dots & \\times \\\\\n",
    "0      & \\times & \\times & \\dots & \\times \\\\\n",
    "&& \\dots&& \\\\\n",
    "0      & \\times & \\times & \\dots & \\times \\\\\n",
    "\\end{pmatrix}%\n",
    "\\equiv \\mathbf{A}^{(1)}\\;.\n",
    "$$\n",
    "\n",
    "Now consider the lower-right submatrix of $\\mathbf{A}^{(1)}$, and construct a Householder reflector which annihilates the second column of $\\mathbf{A}$:\n",
    "\n",
    "$$\n",
    "\\mathbf{H}_2 \\mathbf{A}^{(1)} =%\n",
    "\\begin{pmatrix}\n",
    "\\times & \\times & \\times & \\dots & \\times \\\\\n",
    "0      & \\times & \\times & \\dots & \\times \\\\\n",
    "0      & 0      & \\times & \\dots & \\times \\\\\n",
    "&& \\dots&& \\\\\n",
    "0      & 0      & \\times & \\dots & \\times \\\\\n",
    "\\end{pmatrix}%\n",
    "\\equiv \\mathbf{A}^{(2)} \\;.\n",
    "$$\n",
    "\n",
    "Repeating the process $n-1$ times, we obtain\n",
    "\n",
    "$$\n",
    "\\mathbf{H}_{n-1} \\cdots \\mathbf{H}_2 \\mathbf{H}_1 \\mathbf{A} = \\mathbf{R} \\;,\n",
    "$$\n",
    "\n",
    "with $\\mathbf{R}$ an upper triangular matrix. Since each $\\mathbf{H}_k$ is orthogonal, so is their product. The inverse of an orthogonal matrix is orthogonal. Hence the process generates the $QR$ decomposition of $\\mathbf{A}$. "
   ]
  },
  {
   "cell_type": "code",
   "execution_count": 191,
   "metadata": {},
   "outputs": [],
   "source": [
    "def qr_decomp(a):\n",
    "    \"\"\"Compute the QR decomposition of a matrix.\n",
    "    \n",
    "    Parameters\n",
    "    ----------\n",
    "    a : ndarray, shape(m, n)\n",
    "        The input matrix\n",
    "    \n",
    "    Returns\n",
    "    -------\n",
    "    q : ndarray, shape(m, m)\n",
    "        The orthogonal matrix\n",
    "    r : ndarray, shape(m, n)\n",
    "        The upper triangular matrix\n",
    "        \n",
    "    Examples\n",
    "    --------\n",
    "    >>> a = np.random.random(size=(3, 5))\n",
    "    >>> q, r = qr_decomp(a)\n",
    "    >>> np.assert_allclose(np.dot(q, r), a)\n",
    "    \n",
    "    \"\"\"\n",
    "\n",
    "    a1 = np.array(a, copy=True, dtype=float)\n",
    " \n",
    "    m, n = a1.shape\n",
    "    H_res = np.diag(np.ones((m,)))\n",
    "    for i in range (0,n):\n",
    "        \n",
    "        H = np.diag(np.ones(m,))\n",
    "        \n",
    "        H[i:,i:] = householder(a1[:,0])[1]\n",
    "        a1 = H[i:,i:] @ a1\n",
    "        a1 = a1[1:,1:]\n",
    "        H_res = H @ H_res\n",
    "       \n",
    "    \n",
    "    return H_res.T, (H_res @ a)\n",
    "        \n",
    "        \n",
    "        \n",
    "    \n",
    "    # ENTER YOUR CODE HERE"
   ]
  },
  {
   "cell_type": "code",
   "execution_count": 192,
   "metadata": {},
   "outputs": [],
   "source": [
    "# Might want to turn this on for prettier printing: zeros instead of `1e-16` etc\n",
    "\n",
    "np.set_printoptions(suppress=True)"
   ]
  },
  {
   "cell_type": "code",
   "execution_count": 193,
   "metadata": {},
   "outputs": [],
   "source": [
    "# Test (marked)\n",
    "\n",
    "rndm = np.random.RandomState(1234)\n",
    "a = rndm.uniform(size=(5, 3))\n",
    "\n",
    "q, r = qr_decomp(a)\n",
    "\n",
    "\n",
    "# test that Q is indeed orthogonal\n",
    "assert_allclose(np.dot(q, q.T), np.eye(5), atol=1e-10)\n",
    "\n",
    "# test the decomposition itself\n",
    "assert_allclose(np.dot(q, r), a)"
   ]
  },
  {
   "cell_type": "markdown",
   "metadata": {},
   "source": [
    "Now compare your decompositions to the library function (which actually wraps the corresponding LAPACK functions)"
   ]
  },
  {
   "cell_type": "code",
   "execution_count": 194,
   "metadata": {},
   "outputs": [
    {
     "name": "stdout",
     "output_type": "stream",
     "text": [
      "[[ 0.13665049  0.53601299 -0.09369752  0.7697136   0.30459557]\n",
      " [ 0.56035895  0.0935397  -0.53326881  0.01839528 -0.62652547]\n",
      " [ 0.19725922  0.65948912  0.60068463 -0.32384673 -0.24589462]\n",
      " [ 0.62498418 -0.50418303  0.52144688  0.28453698  0.04822969]\n",
      " [ 0.48765568  0.12171264 -0.27224305 -0.47049398  0.67223293]]\n",
      "Library:\n",
      "[[-0.13665049  0.53601299  0.09369752  0.661619   -0.49749149]\n",
      " [-0.56035895  0.0935397   0.53326881 -0.52477245 -0.34276292]\n",
      " [-0.19725922  0.65948912 -0.60068463 -0.37879015  0.14784752]\n",
      " [-0.62498418 -0.50418303 -0.52144688  0.18967657 -0.21750907]\n",
      " [-0.48765568  0.12171264  0.27224305  0.32774225  0.75222783]]\n",
      "[[1.40152769 1.2514379  0.89523615]\n",
      " [0.         0.84158252 0.68447942]\n",
      " [0.         0.         0.5496046 ]\n",
      " [0.         0.         0.        ]\n",
      " [0.         0.         0.        ]]\n",
      "Library:\n",
      "[[-1.40152769 -1.2514379  -0.89523615]\n",
      " [ 0.          0.84158252  0.68447942]\n",
      " [ 0.          0.         -0.5496046 ]\n",
      " [ 0.          0.          0.        ]\n",
      " [ 0.          0.          0.        ]]\n"
     ]
    }
   ],
   "source": [
    "from scipy.linalg import qr\n",
    "qq, rr = qr(a)\n",
    "\n",
    "print(q)\n",
    "print(\"Library:\")\n",
    "print(qq)\n",
    "\n",
    "\n",
    "\n",
    "print(r)\n",
    "print(\"Library:\")\n",
    "print(rr)\n",
    "assert_allclose(np.dot(qq, rr), a)"
   ]
  },
  {
   "cell_type": "markdown",
   "metadata": {},
   "source": [
    "Check if your `q` and `r` agree with `qq` and `rr`. Explain."
   ]
  },
  {
   "cell_type": "markdown",
   "metadata": {},
   "source": [
    "*Enter your explanation here (Russian or English, up to you)*\n",
    "\n",
    "The difference between $r$ and $rr$ is that the first and the third rows have different signs. That is because every iteration of the Householder reflection $H_i$ corresponds to an also perfectly working reflection $-H_i$, and since at every new step we consider a sub-matrix excluding the \"current\" topmost row, there is a freedom in the sign of each row of our $R$-matrix.\n",
    "\n",
    "$Q$'s have, at first glance, a much more drastic difference (besides the signs): the last two columns are not the same. My explanation is as follows: let us consider a working $QR$ decomposition of $A$ such that $A=QR$, and a map $Q \\rightarrow Q + F$, where $F_{ij} = 0$ for $0 <= i <m$ and $0 <= j < n$, and whose last $m-n$ columns are arbitrary. It is easy to see that $(Q+F)R = R$: \n",
    "\n",
    "$$(FR)_{ij} =F_{ik}R^{kj} = (\\sum_{k=0}^{n-1}+\\sum_{k=n}^{m-1})F_{ik}R^{kj}$$\n",
    "\n",
    "The first sum is equal to $0$ by construction, the second - due to $R$ being right-triangular. So the last $m-n$ columns don't affect the decomposition in any way (granted, $Q+F$ is still orthogonal).\n"
   ]
  },
  {
   "cell_type": "markdown",
   "metadata": {},
   "source": [
    "# Part III. Avoid forming Householder matrices explicitly."
   ]
  },
  {
   "cell_type": "markdown",
   "metadata": {},
   "source": [
    "Note the special structure of the Householder matrices: A reflector $\\mathbf{H}$ is completely specified by a reflection vector $\\mathbf{u}$. Also note that the computational cost of applying a reflector to a matrix strongly depends on the order of operations:\n",
    "\n",
    "$$\n",
    "\\left( \\mathbf{u} \\mathbf{u}^T \\right) \\mathbf{A}  \\qquad \\textrm{is } O(m^2 n)\\;,\n",
    "$$\n",
    "while\n",
    "$$\n",
    "\\mathbf{u} \\left( \\mathbf{u}^T \\mathbf{A} \\right) \\qquad \\textrm{is } O(mn)\n",
    "$$\n",
    "\n",
    "Thus, it seems to make sense to *avoid* forming the $\\mathbf{H}$ matrices. Instead, one stores the reflection vectors, $\\mathbf{u}$, themselves, and provides a way of multiplying an arbitrary matrix by $\\mathbf{Q}^T$, e.g., as a standalone function (or a class)."
   ]
  },
  {
   "cell_type": "markdown",
   "metadata": {},
   "source": [
    "Write a function which constructs the `QR` decomposition of a matrix *without ever forming the* $\\mathbf{H}$ matrices, and returns the $\\mathbf{R}$ matrix and reflection vectors. Write a second function, which uses the reflection vertices to multiply a matrix with $\\mathbf{Q}^T$. Make sure to include enough comments for a marker to follow your implementation, and add tests."
   ]
  },
  {
   "cell_type": "code",
   "execution_count": 195,
   "metadata": {},
   "outputs": [],
   "source": [
    "def qr_eff(a):\n",
    "    \"\"\"Compute the QR decomposition of a matrix.\n",
    "    \n",
    "    Parameters\n",
    "    ----------\n",
    "    a : ndarray, shape(m, n)\n",
    "        The input matrix\n",
    "    \n",
    "    Returns\n",
    "    -------\n",
    "    r : ndarray, shape(m, n)\n",
    "        The upper triangular matrix\n",
    "    u : ndarray, shape (m, n)\n",
    "        Reflection vectors\n",
    "        \n",
    "    Examples\n",
    "    --------\n",
    "    >>> a = np.random.random(size=(3, 5))\n",
    "    >>> q, r = qr_eff(a)\n",
    "    >>> np.assert_allclose(np.dot(q, r), a)\n",
    "    \n",
    "    \"\"\"\n",
    "\n",
    "    a1 = np.array(a, copy=True, dtype=float)\n",
    "    a_res = np.array(a, copy=True, dtype=float)\n",
    "    m, n = a1.shape\n",
    "    u_res = np.zeros((m,n))\n",
    "    \n",
    "    for i in range (0,n):\n",
    "        \n",
    "        #Pretty much as before, but this time the procedure goes as described above\n",
    "        \n",
    "        vec = a1[:,0]\n",
    "        \n",
    "        y = np.zeros((len(vec)))\n",
    "        y[0] = np.linalg.norm(vec)\n",
    "        u = vec - y\n",
    "        u /= np.linalg.norm(u)\n",
    "        u_0 = np.zeros((m))\n",
    "        \n",
    "            \n",
    "        u_0[i:] = u\n",
    "        u_res[:,i] = u_0\n",
    "        d = u_0[:,None].T @ a_res\n",
    "        \n",
    "        a_res = a_res - 2 * (u_0[:,None] @ d)\n",
    "        \n",
    "        a1 = a_res[i+1:,i+1:]\n",
    "       \n",
    "    \n",
    "    return a_res, u_res\n",
    "\n",
    "def multiply(a,u):\n",
    "    \"\"\"Multiply a given matrix with Q^T\n",
    "    \n",
    "    Parameters\n",
    "    ----------\n",
    "    a : ndarray, shape(m, n)\n",
    "        The input matrix\n",
    "    u : ndarray, shape(m,n)\n",
    "        Reflection vectors\n",
    "    \n",
    "    Returns\n",
    "    -------\n",
    "    a_res : Multiplied matrix\n",
    "    \n",
    "    \"\"\"\n",
    "   \n",
    "    a_res = np.array(a, copy=True, dtype=float)\n",
    "    m, n = a.shape\n",
    "    \n",
    "    \n",
    "    for i in range (0,n):\n",
    "        \n",
    "        #Pretty much as before, but this time the procedure goes as described above\n",
    "        d = (u[:,i])[:,None].T @ a_res\n",
    "        \n",
    "        a_res = a_res - 2 * ((u[:,i])[:,None] @ d)\n",
    "    \n",
    "    return a_res\n",
    "    \n",
    "        "
   ]
  },
  {
   "cell_type": "code",
   "execution_count": 196,
   "metadata": {},
   "outputs": [
    {
     "name": "stdout",
     "output_type": "stream",
     "text": [
      "[[ 1.40152769  1.2514379   0.89523615]\n",
      " [ 0.          0.84158252  0.68447942]\n",
      " [-0.          0.          0.5496046 ]\n",
      " [ 0.          0.          0.        ]\n",
      " [ 0.          0.         -0.        ]]\n"
     ]
    }
   ],
   "source": [
    "# Test (marked)\n",
    "\n",
    "rndm = np.random.RandomState(1234)\n",
    "a = rndm.uniform(size=(5, 3))\n",
    "\n",
    "r, u = qr_eff(a)\n",
    "\n",
    "print(r)"
   ]
  },
  {
   "cell_type": "markdown",
   "metadata": {},
   "source": [
    "We see that the $R$-matrix is the same as before"
   ]
  },
  {
   "cell_type": "code",
   "execution_count": 197,
   "metadata": {},
   "outputs": [
    {
     "name": "stdout",
     "output_type": "stream",
     "text": [
      "[[0.19151945 0.62210877 0.43772774]\n",
      " [0.78535858 0.77997581 0.27259261]\n",
      " [0.27646426 0.80187218 0.95813935]\n",
      " [0.87593263 0.35781727 0.50099513]\n",
      " [0.68346294 0.71270203 0.37025075]]\n",
      "[[ 1.40152769  1.2514379   0.89523615]\n",
      " [ 0.          0.84158252  0.68447942]\n",
      " [-0.          0.          0.5496046 ]\n",
      " [ 0.          0.          0.        ]\n",
      " [ 0.          0.         -0.        ]]\n"
     ]
    }
   ],
   "source": [
    "print(a)\n",
    "print(multiply(a,u))\n"
   ]
  },
  {
   "cell_type": "markdown",
   "metadata": {},
   "source": [
    "The first matrix is the given one, the second one is equal to $Q^TA$"
   ]
  },
  {
   "cell_type": "code",
   "execution_count": null,
   "metadata": {},
   "outputs": [],
   "source": []
  }
 ],
 "metadata": {
  "kernelspec": {
   "display_name": "Python 3",
   "language": "python",
   "name": "python3"
  },
  "language_info": {
   "codemirror_mode": {
    "name": "ipython",
    "version": 3
   },
   "file_extension": ".py",
   "mimetype": "text/x-python",
   "name": "python",
   "nbconvert_exporter": "python",
   "pygments_lexer": "ipython3",
   "version": "3.6.5"
  }
 },
 "nbformat": 4,
 "nbformat_minor": 2
}
