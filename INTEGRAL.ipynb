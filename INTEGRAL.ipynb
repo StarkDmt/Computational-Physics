{
 "cells": [
  {
   "cell_type": "markdown",
   "metadata": {},
   "source": [
    "# Я БУДУ ИНТЕГРИРОВАТЬ ВСЕ ИНТЕГРАЛЫ"
   ]
  },
  {
   "cell_type": "markdown",
   "metadata": {},
   "source": [
    "Средние прямоугольники"
   ]
  },
  {
   "cell_type": "code",
   "execution_count": 58,
   "metadata": {},
   "outputs": [
    {
     "name": "stdout",
     "output_type": "stream",
     "text": [
      "Integral of 1/sin(sqrt(x)) =  3.6638624157136963\n"
     ]
    },
    {
     "data": {
      "image/png": "[encoded data removed]",
      "text/plain": [
       "<Figure size 432x288 with 1 Axes>"
      ]
     },
     "metadata": {},
     "output_type": "display_data"
    }
   ],
   "source": [
    "import numpy as np\n",
    "\n",
    "import matplotlib.pyplot as plt\n",
    "from collections import namedtuple\n",
    "from scipy import optimize\n",
    "from scipy import integrate\n",
    "\n",
    "def integrate_rectangle(f, a, b, nsteps = 1000):\n",
    "    measure = (b - a) / nsteps\n",
    "    res = 0.\n",
    "    for i in range (0, nsteps):\n",
    "        res += f(a + i*measure + measure/2) * measure\n",
    "    return res\n",
    "\n",
    "def f_1(x):\n",
    "    return 1 / np.sin ( np.sqrt(x) ) - 1 / np.sqrt(x)\n",
    "\n",
    "\n",
    "def integral_1(a, b, nsteps = 1000):\n",
    "    return integrate_rectangle(f_1, a, b, nsteps) + np.pi\n",
    "    \n",
    "\n",
    "x = np.asarray((1, 2, 5, 10, 50, 100, 200, 300, 400, 500, 1000, 2000, 3000, 4000, 5000, 10000))\n",
    "y = [integral_1(0, (np.pi ** 2) / 4, np.int(s)) for s in x]\n",
    "\n",
    "x1 = np.asarray((1, 2, 5, 10, 50, 100, 200, 300, 400, 500, 1000, 2000, 3000, 4000, 5000))\n",
    "pl1 = [(y[i+1])  for i in range(0, len(y) - 1)]\n",
    "\n",
    "print(\"Integral of 1/sin(sqrt(x)) = \", y[len(y)-1])\n",
    "\n",
    "plt.plot(x1, pl1)\n",
    "plt.show()\n",
    "\n",
    "    "
   ]
  },
  {
   "cell_type": "markdown",
   "metadata": {},
   "source": [
    "На графике сверху - значение интеграла в зависимости от толщины разбиения сетки"
   ]
  },
  {
   "cell_type": "markdown",
   "metadata": {},
   "source": [
    "Если не выделять сингулярность в отдельный интеграл:"
   ]
  },
  {
   "cell_type": "code",
   "execution_count": 59,
   "metadata": {},
   "outputs": [
    {
     "name": "stdout",
     "output_type": "stream",
     "text": [
      "Integral of 1/sin(sqrt(x)) =  3.6543606903692716\n"
     ]
    },
    {
     "data": {
      "image/png": "[encoded data removed]",
      "text/plain": [
       "<Figure size 432x288 with 1 Axes>"
      ]
     },
     "metadata": {},
     "output_type": "display_data"
    }
   ],
   "source": [
    "def f(x):\n",
    "    return 1/np.sin(np.sqrt(x))\n",
    "\n",
    "x = np.asarray((1, 2, 5, 10, 50, 100, 200, 300, 400, 500, 1000, 2000, 3000, 4000, 5000, 10000))\n",
    "y = [integrate_rectangle(f, 0, (np.pi ** 2) / 4, np.int(s)) for s in x]\n",
    "\n",
    "x2 = np.asarray((1, 2, 5, 10, 50, 100, 200, 300, 400, 500, 1000, 2000, 3000, 4000, 5000))\n",
    "pl2 = [(y[i+1]) for i in range(0, len(y) - 1)]\n",
    "\n",
    "print(\"Integral of 1/sin(sqrt(x)) = \", y[len(y)-1])\n",
    "\n",
    "plt.plot(x1, pl1)\n",
    "plt.plot(x2, pl2)\n",
    "plt.show()\n",
    "\n",
    "    "
   ]
  },
  {
   "cell_type": "markdown",
   "metadata": {},
   "source": [
    "Синенький - с регуляризацией, оранжевенький - без. Crazy!"
   ]
  },
  {
   "cell_type": "markdown",
   "metadata": {},
   "source": [
    "Интегрирование второго интеграла квадратурами (Чебышев). Наша функция четная, поэтому наш интеграл - половинка от интеграла по [-1,1]"
   ]
  },
  {
   "cell_type": "code",
   "execution_count": 60,
   "metadata": {},
   "outputs": [
    {
     "name": "stdout",
     "output_type": "stream",
     "text": [
      "Интеграл: 2.356194490192345\n",
      "n: 3\n"
     ]
    }
   ],
   "source": [
    "from scipy.special import roots_chebyt\n",
    "\n",
    "def func(x):\n",
    "    return ( (1 + x ** 2) )\n",
    "\n",
    "def normalize (func, x, a, b):\n",
    "    \n",
    "    return func( x )\n",
    "\n",
    "def integral_gauss (func, a, b, n):\n",
    "    roots, weights = roots_chebyt(n)\n",
    "  \n",
    "    \n",
    "    return np.sum( normalize(func, roots, a, b) * weights)\n",
    "\n",
    "def integral_optimized(func, a, b, nstart = 1, rtol = 1e-5):\n",
    "    n = nstart\n",
    "    last = integral_gauss(func, a, b, n)\n",
    "    n +=1\n",
    "    new = integral_gauss(func, a, b, n)\n",
    "    \n",
    "    while(np.abs( (new - last) / last) >= rtol):\n",
    "        n += 1\n",
    "        last = new\n",
    "        new = integral_gauss(func, a, b, n)\n",
    "        \n",
    "    return new * (b - a) / 2, n\n",
    "\n",
    "integral, n = integral_optimized(func, 0.0, 1.0, 1, 1e-5)\n",
    "print (\"Интеграл:\", integral)\n",
    "print(\"n:\", n)\n",
    "    "
   ]
  },
  {
   "cell_type": "markdown",
   "metadata": {},
   "source": [
    "Идеально! Теперь прямоугольниками:"
   ]
  },
  {
   "cell_type": "code",
   "execution_count": 61,
   "metadata": {},
   "outputs": [
    {
     "name": "stdout",
     "output_type": "stream",
     "text": [
      "Integral =  2.3476398669572993\n"
     ]
    },
    {
     "data": {
      "image/png": "[encoded data removed]",
      "text/plain": [
       "<Figure size 432x288 with 1 Axes>"
      ]
     },
     "metadata": {},
     "output_type": "display_data"
    }
   ],
   "source": [
    "def func_1(x):\n",
    "    return ( (1 + x ** 2)/ np.sqrt(1 - x ** 2) )\n",
    "\n",
    "x = np.asarray((1, 2, 5, 10, 50, 100, 200, 300, 400, 500, 1000, 2000, 3000, 4000, 5000, 10000))\n",
    "y = [integrate_rectangle(func_1, 0, (1) , np.int(s)) for s in x]\n",
    "\n",
    "x1 = np.asarray((1, 2, 5, 10, 50, 100, 200, 300, 400, 500, 1000, 2000, 3000, 4000, 5000))\n",
    "pl1 = [(y[i+1]) for i in range(0, len(y) - 1)]\n",
    "\n",
    "print(\"Integral = \", y[len(y)-1])\n",
    "\n",
    "plt.plot(x1, pl1)\n",
    "\n",
    "plt.show()\n",
    "\n"
   ]
  },
  {
   "cell_type": "markdown",
   "metadata": {},
   "source": [
    "Грустно"
   ]
  },
  {
   "cell_type": "markdown",
   "metadata": {},
   "source": [
    "С выделением сингулярности:"
   ]
  },
  {
   "cell_type": "code",
   "execution_count": 62,
   "metadata": {},
   "outputs": [
    {
     "name": "stdout",
     "output_type": "stream",
     "text": [
      "Integral =  2.3561944040836353\n"
     ]
    },
    {
     "data": {
      "image/png": "[encoded data removed]",
      "text/plain": [
       "<Figure size 432x288 with 1 Axes>"
      ]
     },
     "metadata": {},
     "output_type": "display_data"
    }
   ],
   "source": [
    "def func_2(x):\n",
    "    return (x ** 2 - 1) / np.sqrt (1 - x ** 2)\n",
    "\n",
    "\n",
    "x = np.asarray((1, 2, 5, 10, 50, 100, 200, 300, 400, 500, 1000, 2000, 3000, 4000, 5000, 10000))\n",
    "y = [integrate_rectangle(func_2, -1, 0 , np.int(s)) for s in x]\n",
    "\n",
    "\n",
    "x2 = np.asarray((1, 2, 5, 10, 50, 100, 200, 300, 400, 500, 1000, 2000, 3000, 4000, 5000))\n",
    "pl2 = [(y[i+1] + np.pi) for i in range(0, len(y) - 1)]\n",
    "\n",
    "print(\"Integral = \", y[len(y)-1] + np.pi)\n",
    "\n",
    "plt.plot(x2, pl2)\n",
    "\n",
    "plt.show()\n",
    "\n",
    "\n",
    "\n",
    "\n",
    "\n"
   ]
  },
  {
   "cell_type": "markdown",
   "metadata": {},
   "source": [
    "Этот пободрее (и при том же разбиении с Чебышевым сходится лучше)"
   ]
  },
  {
   "cell_type": "code",
   "execution_count": null,
   "metadata": {},
   "outputs": [],
   "source": []
  }
 ],
 "metadata": {
  "kernelspec": {
   "display_name": "Python 3",
   "language": "python",
   "name": "python3"
  },
  "language_info": {
   "codemirror_mode": {
    "name": "ipython",
    "version": 3
   },
   "file_extension": ".py",
   "mimetype": "text/x-python",
   "name": "python",
   "nbconvert_exporter": "python",
   "pygments_lexer": "ipython3",
   "version": "3.6.5"
  }
 },
 "nbformat": 4,
 "nbformat_minor": 2
}
