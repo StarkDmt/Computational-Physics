{
 "cells": [
  {
   "cell_type": "markdown",
   "metadata": {},
   "source": [
    "# Силовые итерации"
   ]
  },
  {
   "cell_type": "markdown",
   "metadata": {},
   "source": [
    "Для нахождения энергии основного состояния применяем power iterations к обратному гамильтониану."
   ]
  },
  {
   "cell_type": "code",
   "execution_count": 16,
   "metadata": {},
   "outputs": [
    {
     "name": "stdout",
     "output_type": "stream",
     "text": [
      "2.4723412770521493\n"
     ]
    }
   ],
   "source": [
    "import numpy as np\n",
    "\n",
    "\n",
    "def build(n = 1000, c = 0):\n",
    "    h = 2 / n\n",
    "    matrix = np.zeros((n,n))\n",
    "    matrix[0,0] = 3\n",
    "    matrix[n-1,n-1] = 3\n",
    "    for i in range (1, n-1):\n",
    "      \n",
    "        matrix[i,i-1] = -1/ (h ** 2)\n",
    "        matrix[i,i] = 2/(h ** 2)\n",
    "        matrix[i,i+1] = -1/(h ** 2)\n",
    "        matrix[i,i] += c/np.cosh(-1+h*i) - c/np.cosh(1)\n",
    "    return np.linalg.inv(matrix)\n",
    "\n",
    "def power(H, n):\n",
    "\n",
    "    psi_k = np.random.rand(H.shape[1])\n",
    "\n",
    "    for _ in range(n):\n",
    "        \n",
    "        psi_k1 = np.dot(H, psi_k)\n",
    "\n",
    "       \n",
    "        psi_k1_norm = np.linalg.norm(psi_k1)\n",
    "\n",
    "    \n",
    "        psi_k = psi_k1 / psi_k1_norm\n",
    "        \n",
    "    E = (psi_k.T @ H @ psi_k) / (psi_k.T @ psi_k)\n",
    "    return E\n",
    "\n",
    "print(1/power(build(),1000))\n"
   ]
  },
  {
   "cell_type": "markdown",
   "metadata": {},
   "source": [
    "Это приблизительно похоже на правду, поскольку основному состоянию с нашими граничными условиями соответствует частота $\\frac \\pi 2$, $(\\frac \\pi 2)^2 = 2.4649$ (достаточно близко)"
   ]
  },
  {
   "cell_type": "code",
   "execution_count": null,
   "metadata": {},
   "outputs": [],
   "source": []
  }
 ],
 "metadata": {
  "kernelspec": {
   "display_name": "Python 3",
   "language": "python",
   "name": "python3"
  },
  "language_info": {
   "codemirror_mode": {
    "name": "ipython",
    "version": 3
   },
   "file_extension": ".py",
   "mimetype": "text/x-python",
   "name": "python",
   "nbconvert_exporter": "python",
   "pygments_lexer": "ipython3",
   "version": "3.6.5"
  }
 },
 "nbformat": 4,
 "nbformat_minor": 2
}
