{
 "cells": [
  {
   "cell_type": "markdown",
   "metadata": {},
   "source": [
    "# Горбатый потенциал"
   ]
  },
  {
   "cell_type": "markdown",
   "metadata": {},
   "source": [
    "Мы будем искать решения стационарного уравнения Шрёдингера следующего вида:\n",
    "$$(-\\frac {d^2} {dx^2}  + \\frac {c} {cosh(x)} - \\frac {c} {cosh(a)} ) \\psi = k \\cdot \\psi $$\n",
    "С нулевыми граничными условиями при $|x|=a=1$"
   ]
  },
  {
   "cell_type": "code",
   "execution_count": 2,
   "metadata": {},
   "outputs": [
    {
     "data": {
      "application/javascript": [
       "/* Put everything inside the global mpl namespace */\n",
       "window.mpl = {};\n",
       "\n",
       "\n",
       "mpl.get_websocket_type = function() {\n",
       "    if (typeof(WebSocket) !== 'undefined') {\n",
       "        return WebSocket;\n",
       "    } else if (typeof(MozWebSocket) !== 'undefined') {\n",
       "        return MozWebSocket;\n",
       "    } else {\n",
       "        alert('Your browser does not have WebSocket support.' +\n",
       "              'Please try Chrome, Safari or Firefox ≥ 6. ' +\n",
       "              'Firefox 4 and 5 are also supported but you ' +\n",
       "              'have to enable WebSockets in about:config.');\n",
       "    };\n",
       "}\n",
       "\n",
       "mpl.figure = function(figure_id, websocket, ondownload, parent_element) {\n",
       "    this.id = figure_id;\n",
       "\n",
       "    this.ws = websocket;\n",
       "\n",
       "    this.supports_binary = (this.ws.binaryType != undefined);\n",
       "\n",
       "    if (!this.supports_binary) {\n",
       "        var warnings = document.getElementById(\"mpl-warnings\");\n",
       "        if (warnings) {\n",
       "            warnings.style.display = 'block';\n",
       "            warnings.textContent = (\n",
       "                \"This browser does not support binary websocket messages. \" +\n",
       "                    \"Performance may be slow.\");\n",
       "        }\n",
       "    }\n",
       "\n",
       "    this.imageObj = new Image();\n",
       "\n",
       "    this.context = undefined;\n",
       "    this.message = undefined;\n",
       "    this.canvas = undefined;\n",
       "    this.rubberband_canvas = undefined;\n",
       "    this.rubberband_context = undefined;\n",
       "    this.format_dropdown = undefined;\n",
       "\n",
       "    this.image_mode = 'full';\n",
       "\n",
       "    this.root = $('<div/>');\n",
       "    this._root_extra_style(this.root)\n",
       "    this.root.attr('style', 'display: inline-block');\n",
       "\n",
       "    $(parent_element).append(this.root);\n",
       "\n",
       "    this._init_header(this);\n",
       "    this._init_canvas(this);\n",
       "    this._init_toolbar(this);\n",
       "\n",
       "    var fig = this;\n",
       "\n",
       "    this.waiting = false;\n",
       "\n",
       "    this.ws.onopen =  function () {\n",
       "            fig.send_message(\"supports_binary\", {value: fig.supports_binary});\n",
       "            fig.send_message(\"send_image_mode\", {});\n",
       "            if (mpl.ratio != 1) {\n",
       "                fig.send_message(\"set_dpi_ratio\", {'dpi_ratio': mpl.ratio});\n",
       "            }\n",
       "            fig.send_message(\"refresh\", {});\n",
       "        }\n",
       "\n",
       "    this.imageObj.onload = function() {\n",
       "            if (fig.image_mode == 'full') {\n",
       "                // Full images could contain transparency (where diff images\n",
       "                // almost always do), so we need to clear the canvas so that\n",
       "                // there is no ghosting.\n",
       "                fig.context.clearRect(0, 0, fig.canvas.width, fig.canvas.height);\n",
       "            }\n",
       "            fig.context.drawImage(fig.imageObj, 0, 0);\n",
       "        };\n",
       "\n",
       "    this.imageObj.onunload = function() {\n",
       "        fig.ws.close();\n",
       "    }\n",
       "\n",
       "    this.ws.onmessage = this._make_on_message_function(this);\n",
       "\n",
       "    this.ondownload = ondownload;\n",
       "}\n",
       "\n",
       "mpl.figure.prototype._init_header = function() {\n",
       "    var titlebar = $(\n",
       "        '<div class=\"ui-dialog-titlebar ui-widget-header ui-corner-all ' +\n",
       "        'ui-helper-clearfix\"/>');\n",
       "    var titletext = $(\n",
       "        '<div class=\"ui-dialog-title\" style=\"width: 100%; ' +\n",
       "        'text-align: center; padding: 3px;\"/>');\n",
       "    titlebar.append(titletext)\n",
       "    this.root.append(titlebar);\n",
       "    this.header = titletext[0];\n",
       "}\n",
       "\n",
       "\n",
       "\n",
       "mpl.figure.prototype._canvas_extra_style = function(canvas_div) {\n",
       "\n",
       "}\n",
       "\n",
       "\n",
       "mpl.figure.prototype._root_extra_style = function(canvas_div) {\n",
       "\n",
       "}\n",
       "\n",
       "mpl.figure.prototype._init_canvas = function() {\n",
       "    var fig = this;\n",
       "\n",
       "    var canvas_div = $('<div/>');\n",
       "\n",
       "    canvas_div.attr('style', 'position: relative; clear: both; outline: 0');\n",
       "\n",
       "    function canvas_keyboard_event(event) {\n",
       "        return fig.key_event(event, event['data']);\n",
       "    }\n",
       "\n",
       "    canvas_div.keydown('key_press', canvas_keyboard_event);\n",
       "    canvas_div.keyup('key_release', canvas_keyboard_event);\n",
       "    this.canvas_div = canvas_div\n",
       "    this._canvas_extra_style(canvas_div)\n",
       "    this.root.append(canvas_div);\n",
       "\n",
       "    var canvas = $('<canvas/>');\n",
       "    canvas.addClass('mpl-canvas');\n",
       "    canvas.attr('style', \"left: 0; top: 0; z-index: 0; outline: 0\")\n",
       "\n",
       "    this.canvas = canvas[0];\n",
       "    this.context = canvas[0].getContext(\"2d\");\n",
       "\n",
       "    var backingStore = this.context.backingStorePixelRatio ||\n",
       "\tthis.context.webkitBackingStorePixelRatio ||\n",
       "\tthis.context.mozBackingStorePixelRatio ||\n",
       "\tthis.context.msBackingStorePixelRatio ||\n",
       "\tthis.context.oBackingStorePixelRatio ||\n",
       "\tthis.context.backingStorePixelRatio || 1;\n",
       "\n",
       "    mpl.ratio = (window.devicePixelRatio || 1) / backingStore;\n",
       "\n",
       "    var rubberband = $('<canvas/>');\n",
       "    rubberband.attr('style', \"position: absolute; left: 0; top: 0; z-index: 1;\")\n",
       "\n",
       "    var pass_mouse_events = true;\n",
       "\n",
       "    canvas_div.resizable({\n",
       "        start: function(event, ui) {\n",
       "            pass_mouse_events = false;\n",
       "        },\n",
       "        resize: function(event, ui) {\n",
       "            fig.request_resize(ui.size.width, ui.size.height);\n",
       "        },\n",
       "        stop: function(event, ui) {\n",
       "            pass_mouse_events = true;\n",
       "            fig.request_resize(ui.size.width, ui.size.height);\n",
       "        },\n",
       "    });\n",
       "\n",
       "    function mouse_event_fn(event) {\n",
       "        if (pass_mouse_events)\n",
       "            return fig.mouse_event(event, event['data']);\n",
       "    }\n",
       "\n",
       "    rubberband.mousedown('button_press', mouse_event_fn);\n",
       "    rubberband.mouseup('button_release', mouse_event_fn);\n",
       "    // Throttle sequential mouse events to 1 every 20ms.\n",
       "    rubberband.mousemove('motion_notify', mouse_event_fn);\n",
       "\n",
       "    rubberband.mouseenter('figure_enter', mouse_event_fn);\n",
       "    rubberband.mouseleave('figure_leave', mouse_event_fn);\n",
       "\n",
       "    canvas_div.on(\"wheel\", function (event) {\n",
       "        event = event.originalEvent;\n",
       "        event['data'] = 'scroll'\n",
       "        if (event.deltaY < 0) {\n",
       "            event.step = 1;\n",
       "        } else {\n",
       "            event.step = -1;\n",
       "        }\n",
       "        mouse_event_fn(event);\n",
       "    });\n",
       "\n",
       "    canvas_div.append(canvas);\n",
       "    canvas_div.append(rubberband);\n",
       "\n",
       "    this.rubberband = rubberband;\n",
       "    this.rubberband_canvas = rubberband[0];\n",
       "    this.rubberband_context = rubberband[0].getContext(\"2d\");\n",
       "    this.rubberband_context.strokeStyle = \"#000000\";\n",
       "\n",
       "    this._resize_canvas = function(width, height) {\n",
       "        // Keep the size of the canvas, canvas container, and rubber band\n",
       "        // canvas in synch.\n",
       "        canvas_div.css('width', width)\n",
       "        canvas_div.css('height', height)\n",
       "\n",
       "        canvas.attr('width', width * mpl.ratio);\n",
       "        canvas.attr('height', height * mpl.ratio);\n",
       "        canvas.attr('style', 'width: ' + width + 'px; height: ' + height + 'px;');\n",
       "\n",
       "        rubberband.attr('width', width);\n",
       "        rubberband.attr('height', height);\n",
       "    }\n",
       "\n",
       "    // Set the figure to an initial 600x600px, this will subsequently be updated\n",
       "    // upon first draw.\n",
       "    this._resize_canvas(600, 600);\n",
       "\n",
       "    // Disable right mouse context menu.\n",
       "    $(this.rubberband_canvas).bind(\"contextmenu\",function(e){\n",
       "        return false;\n",
       "    });\n",
       "\n",
       "    function set_focus () {\n",
       "        canvas.focus();\n",
       "        canvas_div.focus();\n",
       "    }\n",
       "\n",
       "    window.setTimeout(set_focus, 100);\n",
       "}\n",
       "\n",
       "mpl.figure.prototype._init_toolbar = function() {\n",
       "    var fig = this;\n",
       "\n",
       "    var nav_element = $('<div/>')\n",
       "    nav_element.attr('style', 'width: 100%');\n",
       "    this.root.append(nav_element);\n",
       "\n",
       "    // Define a callback function for later on.\n",
       "    function toolbar_event(event) {\n",
       "        return fig.toolbar_button_onclick(event['data']);\n",
       "    }\n",
       "    function toolbar_mouse_event(event) {\n",
       "        return fig.toolbar_button_onmouseover(event['data']);\n",
       "    }\n",
       "\n",
       "    for(var toolbar_ind in mpl.toolbar_items) {\n",
       "        var name = mpl.toolbar_items[toolbar_ind][0];\n",
       "        var tooltip = mpl.toolbar_items[toolbar_ind][1];\n",
       "        var image = mpl.toolbar_items[toolbar_ind][2];\n",
       "        var method_name = mpl.toolbar_items[toolbar_ind][3];\n",
       "\n",
       "        if (!name) {\n",
       "            // put a spacer in here.\n",
       "            continue;\n",
       "        }\n",
       "        var button = $('<button/>');\n",
       "        button.addClass('ui-button ui-widget ui-state-default ui-corner-all ' +\n",
       "                        'ui-button-icon-only');\n",
       "        button.attr('role', 'button');\n",
       "        button.attr('aria-disabled', 'false');\n",
       "        button.click(method_name, toolbar_event);\n",
       "        button.mouseover(tooltip, toolbar_mouse_event);\n",
       "\n",
       "        var icon_img = $('<span/>');\n",
       "        icon_img.addClass('ui-button-icon-primary ui-icon');\n",
       "        icon_img.addClass(image);\n",
       "        icon_img.addClass('ui-corner-all');\n",
       "\n",
       "        var tooltip_span = $('<span/>');\n",
       "        tooltip_span.addClass('ui-button-text');\n",
       "        tooltip_span.html(tooltip);\n",
       "\n",
       "        button.append(icon_img);\n",
       "        button.append(tooltip_span);\n",
       "\n",
       "        nav_element.append(button);\n",
       "    }\n",
       "\n",
       "    var fmt_picker_span = $('<span/>');\n",
       "\n",
       "    var fmt_picker = $('<select/>');\n",
       "    fmt_picker.addClass('mpl-toolbar-option ui-widget ui-widget-content');\n",
       "    fmt_picker_span.append(fmt_picker);\n",
       "    nav_element.append(fmt_picker_span);\n",
       "    this.format_dropdown = fmt_picker[0];\n",
       "\n",
       "    for (var ind in mpl.extensions) {\n",
       "        var fmt = mpl.extensions[ind];\n",
       "        var option = $(\n",
       "            '<option/>', {selected: fmt === mpl.default_extension}).html(fmt);\n",
       "        fmt_picker.append(option)\n",
       "    }\n",
       "\n",
       "    // Add hover states to the ui-buttons\n",
       "    $( \".ui-button\" ).hover(\n",
       "        function() { $(this).addClass(\"ui-state-hover\");},\n",
       "        function() { $(this).removeClass(\"ui-state-hover\");}\n",
       "    );\n",
       "\n",
       "    var status_bar = $('<span class=\"mpl-message\"/>');\n",
       "    nav_element.append(status_bar);\n",
       "    this.message = status_bar[0];\n",
       "}\n",
       "\n",
       "mpl.figure.prototype.request_resize = function(x_pixels, y_pixels) {\n",
       "    // Request matplotlib to resize the figure. Matplotlib will then trigger a resize in the client,\n",
       "    // which will in turn request a refresh of the image.\n",
       "    this.send_message('resize', {'width': x_pixels, 'height': y_pixels});\n",
       "}\n",
       "\n",
       "mpl.figure.prototype.send_message = function(type, properties) {\n",
       "    properties['type'] = type;\n",
       "    properties['figure_id'] = this.id;\n",
       "    this.ws.send(JSON.stringify(properties));\n",
       "}\n",
       "\n",
       "mpl.figure.prototype.send_draw_message = function() {\n",
       "    if (!this.waiting) {\n",
       "        this.waiting = true;\n",
       "        this.ws.send(JSON.stringify({type: \"draw\", figure_id: this.id}));\n",
       "    }\n",
       "}\n",
       "\n",
       "\n",
       "mpl.figure.prototype.handle_save = function(fig, msg) {\n",
       "    var format_dropdown = fig.format_dropdown;\n",
       "    var format = format_dropdown.options[format_dropdown.selectedIndex].value;\n",
       "    fig.ondownload(fig, format);\n",
       "}\n",
       "\n",
       "\n",
       "mpl.figure.prototype.handle_resize = function(fig, msg) {\n",
       "    var size = msg['size'];\n",
       "    if (size[0] != fig.canvas.width || size[1] != fig.canvas.height) {\n",
       "        fig._resize_canvas(size[0], size[1]);\n",
       "        fig.send_message(\"refresh\", {});\n",
       "    };\n",
       "}\n",
       "\n",
       "mpl.figure.prototype.handle_rubberband = function(fig, msg) {\n",
       "    var x0 = msg['x0'] / mpl.ratio;\n",
       "    var y0 = (fig.canvas.height - msg['y0']) / mpl.ratio;\n",
       "    var x1 = msg['x1'] / mpl.ratio;\n",
       "    var y1 = (fig.canvas.height - msg['y1']) / mpl.ratio;\n",
       "    x0 = Math.floor(x0) + 0.5;\n",
       "    y0 = Math.floor(y0) + 0.5;\n",
       "    x1 = Math.floor(x1) + 0.5;\n",
       "    y1 = Math.floor(y1) + 0.5;\n",
       "    var min_x = Math.min(x0, x1);\n",
       "    var min_y = Math.min(y0, y1);\n",
       "    var width = Math.abs(x1 - x0);\n",
       "    var height = Math.abs(y1 - y0);\n",
       "\n",
       "    fig.rubberband_context.clearRect(\n",
       "        0, 0, fig.canvas.width, fig.canvas.height);\n",
       "\n",
       "    fig.rubberband_context.strokeRect(min_x, min_y, width, height);\n",
       "}\n",
       "\n",
       "mpl.figure.prototype.handle_figure_label = function(fig, msg) {\n",
       "    // Updates the figure title.\n",
       "    fig.header.textContent = msg['label'];\n",
       "}\n",
       "\n",
       "mpl.figure.prototype.handle_cursor = function(fig, msg) {\n",
       "    var cursor = msg['cursor'];\n",
       "    switch(cursor)\n",
       "    {\n",
       "    case 0:\n",
       "        cursor = 'pointer';\n",
       "        break;\n",
       "    case 1:\n",
       "        cursor = 'default';\n",
       "        break;\n",
       "    case 2:\n",
       "        cursor = 'crosshair';\n",
       "        break;\n",
       "    case 3:\n",
       "        cursor = 'move';\n",
       "        break;\n",
       "    }\n",
       "    fig.rubberband_canvas.style.cursor = cursor;\n",
       "}\n",
       "\n",
       "mpl.figure.prototype.handle_message = function(fig, msg) {\n",
       "    fig.message.textContent = msg['message'];\n",
       "}\n",
       "\n",
       "mpl.figure.prototype.handle_draw = function(fig, msg) {\n",
       "    // Request the server to send over a new figure.\n",
       "    fig.send_draw_message();\n",
       "}\n",
       "\n",
       "mpl.figure.prototype.handle_image_mode = function(fig, msg) {\n",
       "    fig.image_mode = msg['mode'];\n",
       "}\n",
       "\n",
       "mpl.figure.prototype.updated_canvas_event = function() {\n",
       "    // Called whenever the canvas gets updated.\n",
       "    this.send_message(\"ack\", {});\n",
       "}\n",
       "\n",
       "// A function to construct a web socket function for onmessage handling.\n",
       "// Called in the figure constructor.\n",
       "mpl.figure.prototype._make_on_message_function = function(fig) {\n",
       "    return function socket_on_message(evt) {\n",
       "        if (evt.data instanceof Blob) {\n",
       "            /* FIXME: We get \"Resource interpreted as Image but\n",
       "             * transferred with MIME type text/plain:\" errors on\n",
       "             * Chrome.  But how to set the MIME type?  It doesn't seem\n",
       "             * to be part of the websocket stream */\n",
       "            evt.data.type = \"image/png\";\n",
       "\n",
       "            /* Free the memory for the previous frames */\n",
       "            if (fig.imageObj.src) {\n",
       "                (window.URL || window.webkitURL).revokeObjectURL(\n",
       "                    fig.imageObj.src);\n",
       "            }\n",
       "\n",
       "            fig.imageObj.src = (window.URL || window.webkitURL).createObjectURL(\n",
       "                evt.data);\n",
       "            fig.updated_canvas_event();\n",
       "            fig.waiting = false;\n",
       "            return;\n",
       "        }\n",
       "        else if (typeof evt.data === 'string' && evt.data.slice(0, 21) == \"data:image/png;base64\") {\n",
       "            fig.imageObj.src = evt.data;\n",
       "            fig.updated_canvas_event();\n",
       "            fig.waiting = false;\n",
       "            return;\n",
       "        }\n",
       "\n",
       "        var msg = JSON.parse(evt.data);\n",
       "        var msg_type = msg['type'];\n",
       "\n",
       "        // Call the  \"handle_{type}\" callback, which takes\n",
       "        // the figure and JSON message as its only arguments.\n",
       "        try {\n",
       "            var callback = fig[\"handle_\" + msg_type];\n",
       "        } catch (e) {\n",
       "            console.log(\"No handler for the '\" + msg_type + \"' message type: \", msg);\n",
       "            return;\n",
       "        }\n",
       "\n",
       "        if (callback) {\n",
       "            try {\n",
       "                // console.log(\"Handling '\" + msg_type + \"' message: \", msg);\n",
       "                callback(fig, msg);\n",
       "            } catch (e) {\n",
       "                console.log(\"Exception inside the 'handler_\" + msg_type + \"' callback:\", e, e.stack, msg);\n",
       "            }\n",
       "        }\n",
       "    };\n",
       "}\n",
       "\n",
       "// from http://stackoverflow.com/questions/1114465/getting-mouse-location-in-canvas\n",
       "mpl.findpos = function(e) {\n",
       "    //this section is from http://www.quirksmode.org/js/events_properties.html\n",
       "    var targ;\n",
       "    if (!e)\n",
       "        e = window.event;\n",
       "    if (e.target)\n",
       "        targ = e.target;\n",
       "    else if (e.srcElement)\n",
       "        targ = e.srcElement;\n",
       "    if (targ.nodeType == 3) // defeat Safari bug\n",
       "        targ = targ.parentNode;\n",
       "\n",
       "    // jQuery normalizes the pageX and pageY\n",
       "    // pageX,Y are the mouse positions relative to the document\n",
       "    // offset() returns the position of the element relative to the document\n",
       "    var x = e.pageX - $(targ).offset().left;\n",
       "    var y = e.pageY - $(targ).offset().top;\n",
       "\n",
       "    return {\"x\": x, \"y\": y};\n",
       "};\n",
       "\n",
       "/*\n",
       " * return a copy of an object with only non-object keys\n",
       " * we need this to avoid circular references\n",
       " * http://stackoverflow.com/a/24161582/3208463\n",
       " */\n",
       "function simpleKeys (original) {\n",
       "  return Object.keys(original).reduce(function (obj, key) {\n",
       "    if (typeof original[key] !== 'object')\n",
       "        obj[key] = original[key]\n",
       "    return obj;\n",
       "  }, {});\n",
       "}\n",
       "\n",
       "mpl.figure.prototype.mouse_event = function(event, name) {\n",
       "    var canvas_pos = mpl.findpos(event)\n",
       "\n",
       "    if (name === 'button_press')\n",
       "    {\n",
       "        this.canvas.focus();\n",
       "        this.canvas_div.focus();\n",
       "    }\n",
       "\n",
       "    var x = canvas_pos.x * mpl.ratio;\n",
       "    var y = canvas_pos.y * mpl.ratio;\n",
       "\n",
       "    this.send_message(name, {x: x, y: y, button: event.button,\n",
       "                             step: event.step,\n",
       "                             guiEvent: simpleKeys(event)});\n",
       "\n",
       "    /* This prevents the web browser from automatically changing to\n",
       "     * the text insertion cursor when the button is pressed.  We want\n",
       "     * to control all of the cursor setting manually through the\n",
       "     * 'cursor' event from matplotlib */\n",
       "    event.preventDefault();\n",
       "    return false;\n",
       "}\n",
       "\n",
       "mpl.figure.prototype._key_event_extra = function(event, name) {\n",
       "    // Handle any extra behaviour associated with a key event\n",
       "}\n",
       "\n",
       "mpl.figure.prototype.key_event = function(event, name) {\n",
       "\n",
       "    // Prevent repeat events\n",
       "    if (name == 'key_press')\n",
       "    {\n",
       "        if (event.which === this._key)\n",
       "            return;\n",
       "        else\n",
       "            this._key = event.which;\n",
       "    }\n",
       "    if (name == 'key_release')\n",
       "        this._key = null;\n",
       "\n",
       "    var value = '';\n",
       "    if (event.ctrlKey && event.which != 17)\n",
       "        value += \"ctrl+\";\n",
       "    if (event.altKey && event.which != 18)\n",
       "        value += \"alt+\";\n",
       "    if (event.shiftKey && event.which != 16)\n",
       "        value += \"shift+\";\n",
       "\n",
       "    value += 'k';\n",
       "    value += event.which.toString();\n",
       "\n",
       "    this._key_event_extra(event, name);\n",
       "\n",
       "    this.send_message(name, {key: value,\n",
       "                             guiEvent: simpleKeys(event)});\n",
       "    return false;\n",
       "}\n",
       "\n",
       "mpl.figure.prototype.toolbar_button_onclick = function(name) {\n",
       "    if (name == 'download') {\n",
       "        this.handle_save(this, null);\n",
       "    } else {\n",
       "        this.send_message(\"toolbar_button\", {name: name});\n",
       "    }\n",
       "};\n",
       "\n",
       "mpl.figure.prototype.toolbar_button_onmouseover = function(tooltip) {\n",
       "    this.message.textContent = tooltip;\n",
       "};\n",
       "mpl.toolbar_items = [[\"Home\", \"Reset original view\", \"fa fa-home icon-home\", \"home\"], [\"Back\", \"Back to  previous view\", \"fa fa-arrow-left icon-arrow-left\", \"back\"], [\"Forward\", \"Forward to next view\", \"fa fa-arrow-right icon-arrow-right\", \"forward\"], [\"\", \"\", \"\", \"\"], [\"Pan\", \"Pan axes with left mouse, zoom with right\", \"fa fa-arrows icon-move\", \"pan\"], [\"Zoom\", \"Zoom to rectangle\", \"fa fa-square-o icon-check-empty\", \"zoom\"], [\"\", \"\", \"\", \"\"], [\"Download\", \"Download plot\", \"fa fa-floppy-o icon-save\", \"download\"]];\n",
       "\n",
       "mpl.extensions = [\"eps\", \"jpeg\", \"pdf\", \"png\", \"ps\", \"raw\", \"svg\", \"tif\"];\n",
       "\n",
       "mpl.default_extension = \"png\";var comm_websocket_adapter = function(comm) {\n",
       "    // Create a \"websocket\"-like object which calls the given IPython comm\n",
       "    // object with the appropriate methods. Currently this is a non binary\n",
       "    // socket, so there is still some room for performance tuning.\n",
       "    var ws = {};\n",
       "\n",
       "    ws.close = function() {\n",
       "        comm.close()\n",
       "    };\n",
       "    ws.send = function(m) {\n",
       "        //console.log('sending', m);\n",
       "        comm.send(m);\n",
       "    };\n",
       "    // Register the callback with on_msg.\n",
       "    comm.on_msg(function(msg) {\n",
       "        //console.log('receiving', msg['content']['data'], msg);\n",
       "        // Pass the mpl event to the overridden (by mpl) onmessage function.\n",
       "        ws.onmessage(msg['content']['data'])\n",
       "    });\n",
       "    return ws;\n",
       "}\n",
       "\n",
       "mpl.mpl_figure_comm = function(comm, msg) {\n",
       "    // This is the function which gets called when the mpl process\n",
       "    // starts-up an IPython Comm through the \"matplotlib\" channel.\n",
       "\n",
       "    var id = msg.content.data.id;\n",
       "    // Get hold of the div created by the display call when the Comm\n",
       "    // socket was opened in Python.\n",
       "    var element = $(\"#\" + id);\n",
       "    var ws_proxy = comm_websocket_adapter(comm)\n",
       "\n",
       "    function ondownload(figure, format) {\n",
       "        window.open(figure.imageObj.src);\n",
       "    }\n",
       "\n",
       "    var fig = new mpl.figure(id, ws_proxy,\n",
       "                           ondownload,\n",
       "                           element.get(0));\n",
       "\n",
       "    // Call onopen now - mpl needs it, as it is assuming we've passed it a real\n",
       "    // web socket which is closed, not our websocket->open comm proxy.\n",
       "    ws_proxy.onopen();\n",
       "\n",
       "    fig.parent_element = element.get(0);\n",
       "    fig.cell_info = mpl.find_output_cell(\"<div id='\" + id + \"'></div>\");\n",
       "    if (!fig.cell_info) {\n",
       "        console.error(\"Failed to find cell for figure\", id, fig);\n",
       "        return;\n",
       "    }\n",
       "\n",
       "    var output_index = fig.cell_info[2]\n",
       "    var cell = fig.cell_info[0];\n",
       "\n",
       "};\n",
       "\n",
       "mpl.figure.prototype.handle_close = function(fig, msg) {\n",
       "    var width = fig.canvas.width/mpl.ratio\n",
       "    fig.root.unbind('remove')\n",
       "\n",
       "    // Update the output cell to use the data from the current canvas.\n",
       "    fig.push_to_output();\n",
       "    var dataURL = fig.canvas.toDataURL();\n",
       "    // Re-enable the keyboard manager in IPython - without this line, in FF,\n",
       "    // the notebook keyboard shortcuts fail.\n",
       "    IPython.keyboard_manager.enable()\n",
       "    $(fig.parent_element).html('<img src=\"' + dataURL + '\" width=\"' + width + '\">');\n",
       "    fig.close_ws(fig, msg);\n",
       "}\n",
       "\n",
       "mpl.figure.prototype.close_ws = function(fig, msg){\n",
       "    fig.send_message('closing', msg);\n",
       "    // fig.ws.close()\n",
       "}\n",
       "\n",
       "mpl.figure.prototype.push_to_output = function(remove_interactive) {\n",
       "    // Turn the data on the canvas into data in the output cell.\n",
       "    var width = this.canvas.width/mpl.ratio\n",
       "    var dataURL = this.canvas.toDataURL();\n",
       "    this.cell_info[1]['text/html'] = '<img src=\"' + dataURL + '\" width=\"' + width + '\">';\n",
       "}\n",
       "\n",
       "mpl.figure.prototype.updated_canvas_event = function() {\n",
       "    // Tell IPython that the notebook contents must change.\n",
       "    IPython.notebook.set_dirty(true);\n",
       "    this.send_message(\"ack\", {});\n",
       "    var fig = this;\n",
       "    // Wait a second, then push the new image to the DOM so\n",
       "    // that it is saved nicely (might be nice to debounce this).\n",
       "    setTimeout(function () { fig.push_to_output() }, 1000);\n",
       "}\n",
       "\n",
       "mpl.figure.prototype._init_toolbar = function() {\n",
       "    var fig = this;\n",
       "\n",
       "    var nav_element = $('<div/>')\n",
       "    nav_element.attr('style', 'width: 100%');\n",
       "    this.root.append(nav_element);\n",
       "\n",
       "    // Define a callback function for later on.\n",
       "    function toolbar_event(event) {\n",
       "        return fig.toolbar_button_onclick(event['data']);\n",
       "    }\n",
       "    function toolbar_mouse_event(event) {\n",
       "        return fig.toolbar_button_onmouseover(event['data']);\n",
       "    }\n",
       "\n",
       "    for(var toolbar_ind in mpl.toolbar_items){\n",
       "        var name = mpl.toolbar_items[toolbar_ind][0];\n",
       "        var tooltip = mpl.toolbar_items[toolbar_ind][1];\n",
       "        var image = mpl.toolbar_items[toolbar_ind][2];\n",
       "        var method_name = mpl.toolbar_items[toolbar_ind][3];\n",
       "\n",
       "        if (!name) { continue; };\n",
       "\n",
       "        var button = $('<button class=\"btn btn-default\" href=\"#\" title=\"' + name + '\"><i class=\"fa ' + image + ' fa-lg\"></i></button>');\n",
       "        button.click(method_name, toolbar_event);\n",
       "        button.mouseover(tooltip, toolbar_mouse_event);\n",
       "        nav_element.append(button);\n",
       "    }\n",
       "\n",
       "    // Add the status bar.\n",
       "    var status_bar = $('<span class=\"mpl-message\" style=\"text-align:right; float: right;\"/>');\n",
       "    nav_element.append(status_bar);\n",
       "    this.message = status_bar[0];\n",
       "\n",
       "    // Add the close button to the window.\n",
       "    var buttongrp = $('<div class=\"btn-group inline pull-right\"></div>');\n",
       "    var button = $('<button class=\"btn btn-mini btn-primary\" href=\"#\" title=\"Stop Interaction\"><i class=\"fa fa-power-off icon-remove icon-large\"></i></button>');\n",
       "    button.click(function (evt) { fig.handle_close(fig, {}); } );\n",
       "    button.mouseover('Stop Interaction', toolbar_mouse_event);\n",
       "    buttongrp.append(button);\n",
       "    var titlebar = this.root.find($('.ui-dialog-titlebar'));\n",
       "    titlebar.prepend(buttongrp);\n",
       "}\n",
       "\n",
       "mpl.figure.prototype._root_extra_style = function(el){\n",
       "    var fig = this\n",
       "    el.on(\"remove\", function(){\n",
       "\tfig.close_ws(fig, {});\n",
       "    });\n",
       "}\n",
       "\n",
       "mpl.figure.prototype._canvas_extra_style = function(el){\n",
       "    // this is important to make the div 'focusable\n",
       "    el.attr('tabindex', 0)\n",
       "    // reach out to IPython and tell the keyboard manager to turn it's self\n",
       "    // off when our div gets focus\n",
       "\n",
       "    // location in version 3\n",
       "    if (IPython.notebook.keyboard_manager) {\n",
       "        IPython.notebook.keyboard_manager.register_events(el);\n",
       "    }\n",
       "    else {\n",
       "        // location in version 2\n",
       "        IPython.keyboard_manager.register_events(el);\n",
       "    }\n",
       "\n",
       "}\n",
       "\n",
       "mpl.figure.prototype._key_event_extra = function(event, name) {\n",
       "    var manager = IPython.notebook.keyboard_manager;\n",
       "    if (!manager)\n",
       "        manager = IPython.keyboard_manager;\n",
       "\n",
       "    // Check for shift+enter\n",
       "    if (event.shiftKey && event.which == 13) {\n",
       "        this.canvas_div.blur();\n",
       "        event.shiftKey = false;\n",
       "        // Send a \"J\" for go to next cell\n",
       "        event.which = 74;\n",
       "        event.keyCode = 74;\n",
       "        manager.command_mode();\n",
       "        manager.handle_keydown(event);\n",
       "    }\n",
       "}\n",
       "\n",
       "mpl.figure.prototype.handle_save = function(fig, msg) {\n",
       "    fig.ondownload(fig, null);\n",
       "}\n",
       "\n",
       "\n",
       "mpl.find_output_cell = function(html_output) {\n",
       "    // Return the cell and output element which can be found *uniquely* in the notebook.\n",
       "    // Note - this is a bit hacky, but it is done because the \"notebook_saving.Notebook\"\n",
       "    // IPython event is triggered only after the cells have been serialised, which for\n",
       "    // our purposes (turning an active figure into a static one), is too late.\n",
       "    var cells = IPython.notebook.get_cells();\n",
       "    var ncells = cells.length;\n",
       "    for (var i=0; i<ncells; i++) {\n",
       "        var cell = cells[i];\n",
       "        if (cell.cell_type === 'code'){\n",
       "            for (var j=0; j<cell.output_area.outputs.length; j++) {\n",
       "                var data = cell.output_area.outputs[j];\n",
       "                if (data.data) {\n",
       "                    // IPython >= 3 moved mimebundle to data attribute of output\n",
       "                    data = data.data;\n",
       "                }\n",
       "                if (data['text/html'] == html_output) {\n",
       "                    return [cell, data, j];\n",
       "                }\n",
       "            }\n",
       "        }\n",
       "    }\n",
       "}\n",
       "\n",
       "// Register the function which deals with the matplotlib target/channel.\n",
       "// The kernel may be null if the page has been refreshed.\n",
       "if (IPython.notebook.kernel != null) {\n",
       "    IPython.notebook.kernel.comm_manager.register_target('matplotlib', mpl.mpl_figure_comm);\n",
       "}\n"
      ],
      "text/plain": [
       "<IPython.core.display.Javascript object>"
      ]
     },
     "metadata": {},
     "output_type": "display_data"
    },
    {
     "data": {
      "text/html": [
       "<img src=\"data:image/png;base64,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\" width=\"640\">"
      ],
      "text/plain": [
       "<IPython.core.display.HTML object>"
      ]
     },
     "metadata": {},
     "output_type": "display_data"
    },
    {
     "data": {
      "application/vnd.jupyter.widget-view+json": {
       "model_id": "6ab879bde2764106952b27feb5335d16",
       "version_major": 2,
       "version_minor": 0
      },
      "text/plain": [
       "interactive(children=(IntSlider(value=1, description='c', max=500, min=-500), Output()), _dom_classes=('widget…"
      ]
     },
     "metadata": {},
     "output_type": "display_data"
    }
   ],
   "source": [
    "import numpy as np\n",
    "\n",
    "\n",
    "density = 100\n",
    "\n",
    "def build(n = 100, c = 0):\n",
    "    h = 2 / n\n",
    "    matrix = np.zeros((n,n))\n",
    "    matrix[0,0] = 100000\n",
    "    matrix[n-1,n-1] = 100000\n",
    "    for i in range (1, n-1):\n",
    "      \n",
    "        matrix[i,i-1] = -1/ (h ** 2)\n",
    "        matrix[i,i] = 2/(h ** 2)\n",
    "        matrix[i,i+1] = -1/(h ** 2)\n",
    "        matrix[i,i] += c/(np.cosh(-4+4*h*i)**2) - c/(np.cosh(4)**2)\n",
    "    return matrix\n",
    "\n",
    "eigenValues, eigenVectors = np.linalg.eig(build(density, 0))\n",
    "\n",
    "idx = eigenValues.argsort()   \n",
    "val = eigenValues[idx]\n",
    "vec = eigenVectors[:,idx]\n",
    "\n",
    "\n",
    "\n",
    "import matplotlib.pyplot as plt\n",
    "\n",
    "%matplotlib notebook\n",
    "from ipywidgets import *\n",
    "\n",
    "x = np.linspace(-1, 1, density)\n",
    "fig = plt.figure()\n",
    "ax = fig.add_subplot(1, 1, 1)\n",
    "line, = ax.plot(x, vec[:,0]**2)\n",
    "linez, = ax.plot(x, 1/(np.cosh(4*x)**2) - 1/(np.cosh(4) ** 2))\n",
    "\n",
    "def update(c = 1.0):\n",
    "    eigenValues, eigenVectors = np.linalg.eig(build(density, c))\n",
    "\n",
    "    idx = eigenValues.argsort()   \n",
    "    val = eigenValues[idx]\n",
    "    vec = eigenVectors[:,idx]\n",
    "    \n",
    "    plt.ylim(top=0.05)\n",
    "    plt.ylim(bottom=-0.05)\n",
    "    line.set_ydata(vec[:,0]**2)\n",
    "    linez.set_ydata(c/(1000*(np.cosh(4*x)**2)) - c/(1000*(np.cosh(4)**2)))\n",
    "    fig.canvas.draw()\n",
    "\n",
    "interact(update, c = widgets.IntSlider(min=-500,max=500,step=1,value=1));\n"
   ]
  },
  {
   "cell_type": "markdown",
   "metadata": {},
   "source": [
    "На графике сверху изображен квадрат волновой функции основного состояния. Слайдер регулирует величину горба. Из необъяснимых феноменов - отсутствует вырождение (хотя понятно, например, что при больших c запертой между левой стенкой и горбом волновой функции также должна соответствовать ей симметричная).\n",
    "\n",
    "Вот сама волновая функция второго состояния"
   ]
  },
  {
   "cell_type": "code",
   "execution_count": null,
   "metadata": {},
   "outputs": [],
   "source": [
    "x1 = np.linspace(-1, 1, density)\n",
    "fig1 = plt.figure()\n",
    "ax1 = fig1.add_subplot(1, 1, 1)\n",
    "line1, = ax1.plot(x1, vec[:,2] )\n",
    "\n",
    "def update1(d = 1.0):\n",
    "    eigenValues, eigenVectors = np.linalg.eig(build(density, d))\n",
    "\n",
    "    idx = eigenValues.argsort()   \n",
    "    val = eigenValues[idx]\n",
    "    vec = eigenVectors[:,idx]\n",
    "    if (vec[2,2] < 0):\n",
    "        vec[:,2] *= -1\n",
    "    \n",
    "    plt.ylim(top=0.3)\n",
    "    plt.ylim(bottom=-0.3)\n",
    "    line1.set_ydata(vec[:,2])\n",
    "    fig1.canvas.draw()\n",
    "interact(update1, d = widgets.IntSlider(min=-500,max=500,step=1,value=1));\n"
   ]
  },
  {
   "cell_type": "markdown",
   "metadata": {},
   "source": [
    "Зависимость логарифма корня из модуля энергии от логарифма номера уровня:"
   ]
  },
  {
   "cell_type": "code",
   "execution_count": null,
   "metadata": {},
   "outputs": [],
   "source": [
    "\n",
    "x2 = np.linspace(0, density-1, density)\n",
    "fig2 = plt.figure()\n",
    "ax2 = fig2.add_subplot(1, 1, 1)\n",
    "line2, = ax2.plot(np.log(x2[0:x2.size-2]), np.log(np.abs(val[0:x2.size-2])**(1/2)))\n",
    "\n",
    "def update2(e = 1.0):\n",
    "    eigenValues, eigenVectors = np.linalg.eig(build(density, e))\n",
    "\n",
    "    idx = eigenValues.argsort()   \n",
    "    val = eigenValues[idx]\n",
    "    plt.ylim(top=5.0)\n",
    "    plt.ylim(bottom=-0.5)\n",
    "    \n",
    "    line2.set_ydata(np.log(np.abs(val[0:x2.size-2])**(1/2)))\n",
    "    fig2.canvas.draw()\n",
    "\n",
    "interact(update2, e = widgets.IntSlider(min=-500,max=500,step=1,value=1));\n"
   ]
  },
  {
   "cell_type": "markdown",
   "metadata": {},
   "source": [
    "Верхняя часть зависимости не меняется и имеет такой вид из-за того, что характерное поведение высокоэнергетической частицы проявляется на расстояниях порядка размера сетки (и, как следствие, смысл такое моделирование теряет). Поведение на низких энергиях я объяснить пока что не в состоянии (за исключением, разумеется, того, что при малых размерах горба наклон прямой порядка единицы)."
   ]
  },
  {
   "cell_type": "code",
   "execution_count": null,
   "metadata": {},
   "outputs": [],
   "source": []
  }
 ],
 "metadata": {
  "kernelspec": {
   "display_name": "Python 3",
   "language": "python",
   "name": "python3"
  },
  "language_info": {
   "codemirror_mode": {
    "name": "ipython",
    "version": 3
   },
   "file_extension": ".py",
   "mimetype": "text/x-python",
   "name": "python",
   "nbconvert_exporter": "python",
   "pygments_lexer": "ipython3",
   "version": "3.6.5"
  },
  "widgets": {
   "application/vnd.jupyter.widget-state+json": {
    "state": {
     "004451182a5342cb9fbd6070d3c39159": {
      "model_module": "@jupyter-widgets/controls",
      "model_module_version": "1.2.0",
      "model_name": "SliderStyleModel",
      "state": {
       "description_width": ""
      }
     },
     "02d3a1fc429b4f9b80ef138dc0ba747b": {
      "model_module": "@jupyter-widgets/controls",
      "model_module_version": "1.2.0",
      "model_name": "SliderStyleModel",
      "state": {
       "description_width": ""
      }
     },
     "02f8c93bf92a472a93c62ecbef1f941b": {
      "model_module": "@jupyter-widgets/controls",
      "model_module_version": "1.2.0",
      "model_name": "IntSliderModel",
      "state": {
       "description": "c",
       "layout": "IPY_MODEL_adf534a84b1142869f9bc002daa8ff78",
       "max": 500,
       "min": -500,
       "style": "IPY_MODEL_f2a9b28c3df541379d7cbfe6aeb8a6e4",
       "value": 1
      }
     },
     "035562eba6e44920b803b823f9049468": {
      "model_module": "@jupyter-widgets/controls",
      "model_module_version": "1.2.0",
      "model_name": "VBoxModel",
      "state": {
       "_dom_classes": [
        "widget-interact"
       ],
       "children": [
        "IPY_MODEL_175b2eed097e4b05b3b623ee3295cd19",
        "IPY_MODEL_a9208793593a4988ba8053883acc7301"
       ],
       "layout": "IPY_MODEL_727db649dbbc40eb958e838f6c5ddcae"
      }
     },
     "03b67890bdf94467ae02fb097869b454": {
      "model_module": "@jupyter-widgets/base",
      "model_module_version": "1.0.0",
      "model_name": "LayoutModel",
      "state": {}
     },
     "0408ef6f3aa74e1e984f2c48d4e3429e": {
      "model_module": "@jupyter-widgets/output",
      "model_module_version": "1.0.0",
      "model_name": "OutputModel",
      "state": {
       "layout": "IPY_MODEL_42d7d21b8c274377bb8ea90ea8a18164",
       "outputs": [
        {
         "data": {
          "image/png": "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\n",
          "text/plain": "<Figure size 432x288 with 1 Axes>"
         },
         "metadata": {},
         "output_type": "display_data"
        }
       ]
      }
     },
     "05331cfcd8324b35b4f87d6ef60ffeb9": {
      "model_module": "@jupyter-widgets/controls",
      "model_module_version": "1.2.0",
      "model_name": "IntSliderModel",
      "state": {
       "description": "e",
       "layout": "IPY_MODEL_9854a3cb77ea4364ad36f7aa66c823a4",
       "max": 500,
       "min": -500,
       "style": "IPY_MODEL_f3f3e6dcda7b4a8e9062ca77026319c0",
       "value": 1
      }
     },
     "06290166b0224af9bfde4fa550568f13": {
      "model_module": "@jupyter-widgets/controls",
      "model_module_version": "1.2.0",
      "model_name": "SliderStyleModel",
      "state": {
       "description_width": ""
      }
     },
     "06643c4ccfd8426694b579229bc4534f": {
      "model_module": "@jupyter-widgets/controls",
      "model_module_version": "1.2.0",
      "model_name": "IntSliderModel",
      "state": {
       "description": "c",
       "layout": "IPY_MODEL_abe94cba84d6400594a1895b1f8e378e",
       "max": 500,
       "min": -500,
       "style": "IPY_MODEL_c5b2a4e38a924047951343f0d9bbcc34",
       "value": 1
      }
     },
     "06ac35f87daf4d9db5288d81c8497040": {
      "model_module": "@jupyter-widgets/base",
      "model_module_version": "1.0.0",
      "model_name": "LayoutModel",
      "state": {}
     },
     "06bc092a24d348d5b60c1ffee8a2226f": {
      "model_module": "@jupyter-widgets/controls",
      "model_module_version": "1.2.0",
      "model_name": "SliderStyleModel",
      "state": {
       "description_width": ""
      }
     },
     "07ec4671bbcc423c999397b292e5986c": {
      "model_module": "@jupyter-widgets/controls",
      "model_module_version": "1.2.0",
      "model_name": "IntSliderModel",
      "state": {
       "description": "d",
       "layout": "IPY_MODEL_17fb8bf6a53141c3976df0f9191c1095",
       "max": 500,
       "min": -500,
       "style": "IPY_MODEL_a40bff1c5afe4ba9abd413376e489c03",
       "value": 198
      }
     },
     "081e800abee541bdae404c5ecd43bab4": {
      "model_module": "@jupyter-widgets/controls",
      "model_module_version": "1.2.0",
      "model_name": "VBoxModel",
      "state": {
       "_dom_classes": [
        "widget-interact"
       ],
       "children": [
        "IPY_MODEL_b686d222cbdc4500bb7da5e9c1e7ed01",
        "IPY_MODEL_0408ef6f3aa74e1e984f2c48d4e3429e"
       ],
       "layout": "IPY_MODEL_867112fb2d844008a706f553fac254b0"
      }
     },
     "097d4b8c44b04176b78c183564aa9d83": {
      "model_module": "@jupyter-widgets/controls",
      "model_module_version": "1.2.0",
      "model_name": "IntSliderModel",
      "state": {
       "description": "c",
       "layout": "IPY_MODEL_2a654100fa134e9c8f56b81d83df0cff",
       "max": 500,
       "min": -500,
       "style": "IPY_MODEL_7b24cfdd30bb4384a6865822ccf9dd83",
       "value": 500
      }
     },
     "0a78019cfe5d40129663c14c171542f9": {
      "model_module": "@jupyter-widgets/base",
      "model_module_version": "1.0.0",
      "model_name": "LayoutModel",
      "state": {}
     },
     "0b0f395774734d7a81a4094e4d9bab5b": {
      "model_module": "@jupyter-widgets/base",
      "model_module_version": "1.0.0",
      "model_name": "LayoutModel",
      "state": {}
     },
     "0ba64ad8dec54c4ab864c23d85291f34": {
      "model_module": "@jupyter-widgets/base",
      "model_module_version": "1.0.0",
      "model_name": "LayoutModel",
      "state": {}
     },
     "0cd542174c56436db9d6e9edc78e7591": {
      "model_module": "@jupyter-widgets/base",
      "model_module_version": "1.0.0",
      "model_name": "LayoutModel",
      "state": {}
     },
     "0dbb8792e5494e248df5f67e803a08fd": {
      "model_module": "@jupyter-widgets/base",
      "model_module_version": "1.0.0",
      "model_name": "LayoutModel",
      "state": {}
     },
     "0f98774c0fab4ee8af9520d39db06b55": {
      "model_module": "@jupyter-widgets/output",
      "model_module_version": "1.0.0",
      "model_name": "OutputModel",
      "state": {
       "layout": "IPY_MODEL_9a2c3679bffe43fbad61ea3e20982aa4"
      }
     },
     "101c14e5304c4fb29f06065eed54103b": {
      "model_module": "@jupyter-widgets/controls",
      "model_module_version": "1.2.0",
      "model_name": "VBoxModel",
      "state": {
       "_dom_classes": [
        "widget-interact"
       ],
       "children": [
        "IPY_MODEL_fff1452423994d7f9525076f91e558e0",
        "IPY_MODEL_96af38874ce644c2850b5d9056d87e82"
       ],
       "layout": "IPY_MODEL_30b60c3635b24f0bae845c0328e8750d"
      }
     },
     "103d84833df44f9dbd92064ba20a81fa": {
      "model_module": "@jupyter-widgets/controls",
      "model_module_version": "1.2.0",
      "model_name": "VBoxModel",
      "state": {
       "_dom_classes": [
        "widget-interact"
       ],
       "children": [
        "IPY_MODEL_714dba23e90947c58fb097877d858a06",
        "IPY_MODEL_488fe3145ba047c4b45c9aaa72cec3b0"
       ],
       "layout": "IPY_MODEL_7e5e7b458b674fbdb70e944d58b29cb7"
      }
     },
     "11082665d5b442a3b1f32e2ac3630170": {
      "model_module": "@jupyter-widgets/controls",
      "model_module_version": "1.2.0",
      "model_name": "SliderStyleModel",
      "state": {
       "description_width": ""
      }
     },
     "11eab11223874e4aa5f178cf3b0265f7": {
      "model_module": "@jupyter-widgets/controls",
      "model_module_version": "1.2.0",
      "model_name": "VBoxModel",
      "state": {
       "_dom_classes": [
        "widget-interact"
       ],
       "children": [
        "IPY_MODEL_64cf54c888a1413eb1e8d2e199c7026b",
        "IPY_MODEL_d067b6e09d2c46fcb911aa9bb4d840c5"
       ],
       "layout": "IPY_MODEL_ba1423e4090645d691306483feeefb6c"
      }
     },
     "123a1ec2917b4d68aff089419564a391": {
      "model_module": "@jupyter-widgets/controls",
      "model_module_version": "1.2.0",
      "model_name": "IntSliderModel",
      "state": {
       "description": "c",
       "layout": "IPY_MODEL_f0b5eae1ab3f4797824774855bbedd0c",
       "max": 500,
       "min": -500,
       "style": "IPY_MODEL_aaad31a5f4194c608c09865486f985ab",
       "value": 1
      }
     },
     "13655a655c484c3ba2391c9b3512ac86": {
      "model_module": "@jupyter-widgets/base",
      "model_module_version": "1.0.0",
      "model_name": "LayoutModel",
      "state": {}
     },
     "13be72b26a0544d2a77d446d27f8a5b6": {
      "model_module": "@jupyter-widgets/base",
      "model_module_version": "1.0.0",
      "model_name": "LayoutModel",
      "state": {}
     },
     "14afe80a145b46c18fac694b2535429e": {
      "model_module": "@jupyter-widgets/base",
      "model_module_version": "1.0.0",
      "model_name": "LayoutModel",
      "state": {}
     },
     "15aedf290fc14662be1f2a18ba0c996d": {
      "model_module": "@jupyter-widgets/output",
      "model_module_version": "1.0.0",
      "model_name": "OutputModel",
      "state": {
       "layout": "IPY_MODEL_90f3cf7e68f84a9cb82c858f58370599"
      }
     },
     "16111f549c9244f7b129d0995f98cf01": {
      "model_module": "@jupyter-widgets/controls",
      "model_module_version": "1.2.0",
      "model_name": "SliderStyleModel",
      "state": {
       "description_width": ""
      }
     },
     "162019b4350f48ea82f8b3f0f0f85077": {
      "model_module": "@jupyter-widgets/base",
      "model_module_version": "1.0.0",
      "model_name": "LayoutModel",
      "state": {}
     },
     "172af993adff44a7b1bb781d558df610": {
      "model_module": "@jupyter-widgets/base",
      "model_module_version": "1.0.0",
      "model_name": "LayoutModel",
      "state": {}
     },
     "1732fa2eecd6456eb586d898c00c8c1c": {
      "model_module": "@jupyter-widgets/base",
      "model_module_version": "1.0.0",
      "model_name": "LayoutModel",
      "state": {}
     },
     "175b2eed097e4b05b3b623ee3295cd19": {
      "model_module": "@jupyter-widgets/controls",
      "model_module_version": "1.2.0",
      "model_name": "IntSliderModel",
      "state": {
       "description": "e",
       "layout": "IPY_MODEL_8398e7304bc244ebb278bbb2e1968083",
       "max": 500,
       "min": -500,
       "style": "IPY_MODEL_d62c9b780e284b658b2aa241be46d7fa",
       "value": 1
      }
     },
     "17fb8bf6a53141c3976df0f9191c1095": {
      "model_module": "@jupyter-widgets/base",
      "model_module_version": "1.0.0",
      "model_name": "LayoutModel",
      "state": {}
     },
     "184b5971d32744c88de5cd3b36578035": {
      "model_module": "@jupyter-widgets/base",
      "model_module_version": "1.0.0",
      "model_name": "LayoutModel",
      "state": {}
     },
     "19a8089d959e4f0db4712c9cca115c9c": {
      "model_module": "@jupyter-widgets/base",
      "model_module_version": "1.0.0",
      "model_name": "LayoutModel",
      "state": {}
     },
     "19be82226e4f445ab3ef97a830b75654": {
      "model_module": "@jupyter-widgets/base",
      "model_module_version": "1.0.0",
      "model_name": "LayoutModel",
      "state": {}
     },
     "1a3d45c2ba05427ca6425064e52792ee": {
      "model_module": "@jupyter-widgets/base",
      "model_module_version": "1.0.0",
      "model_name": "LayoutModel",
      "state": {}
     },
     "1b30451bd06f453ca7a8eed5a179ff2c": {
      "model_module": "@jupyter-widgets/controls",
      "model_module_version": "1.2.0",
      "model_name": "SliderStyleModel",
      "state": {
       "description_width": ""
      }
     },
     "1bc75d5a850e425bbf09ae6b691cc59c": {
      "model_module": "@jupyter-widgets/base",
      "model_module_version": "1.0.0",
      "model_name": "LayoutModel",
      "state": {}
     },
     "1d21a591c4a740458a4618a8ef259aad": {
      "model_module": "@jupyter-widgets/base",
      "model_module_version": "1.0.0",
      "model_name": "LayoutModel",
      "state": {}
     },
     "1e6ab9b83ba5403fb0eec3c39062ab4e": {
      "model_module": "@jupyter-widgets/base",
      "model_module_version": "1.0.0",
      "model_name": "LayoutModel",
      "state": {}
     },
     "1ee9271d7b0040fcae6f6e06de031ca1": {
      "model_module": "@jupyter-widgets/controls",
      "model_module_version": "1.2.0",
      "model_name": "VBoxModel",
      "state": {
       "_dom_classes": [
        "widget-interact"
       ],
       "children": [
        "IPY_MODEL_43882076ae064379873698cc46132fa0",
        "IPY_MODEL_a08d91265c434a0d82279eb4ca33459a"
       ],
       "layout": "IPY_MODEL_bd300ac71eaa4877afd14e7a6ef2074b"
      }
     },
     "1f7d0e5acd4d4527ac31204b4cb3139f": {
      "model_module": "@jupyter-widgets/controls",
      "model_module_version": "1.2.0",
      "model_name": "IntSliderModel",
      "state": {
       "description": "e",
       "layout": "IPY_MODEL_b13cc44a8ddb4a278790341a57971efe",
       "max": 500,
       "min": -500,
       "style": "IPY_MODEL_9559ee2e95aa43a096905b8f61b9f600",
       "value": 1
      }
     },
     "206940dc2d7b47559b3732cf535e3b8a": {
      "model_module": "@jupyter-widgets/base",
      "model_module_version": "1.0.0",
      "model_name": "LayoutModel",
      "state": {}
     },
     "20ef44c8c8a74ad18774cd16f678d181": {
      "model_module": "@jupyter-widgets/controls",
      "model_module_version": "1.2.0",
      "model_name": "SliderStyleModel",
      "state": {
       "description_width": ""
      }
     },
     "20f5e5fbe312467d970a3d1b5af878f1": {
      "model_module": "@jupyter-widgets/controls",
      "model_module_version": "1.2.0",
      "model_name": "IntSliderModel",
      "state": {
       "description": "c",
       "layout": "IPY_MODEL_c7366668e6814cb08e967875f7223517",
       "max": 500,
       "min": -500,
       "style": "IPY_MODEL_411e7e187d784156955f356654015e9e",
       "value": 1
      }
     },
     "2196f9ac2506444fa08f3976ad9acba6": {
      "model_module": "@jupyter-widgets/base",
      "model_module_version": "1.0.0",
      "model_name": "LayoutModel",
      "state": {}
     },
     "223a82f5802b40dba8ff0cd2df5441a7": {
      "model_module": "@jupyter-widgets/base",
      "model_module_version": "1.0.0",
      "model_name": "LayoutModel",
      "state": {}
     },
     "246b2e79a4374e4ebab65e804576a961": {
      "model_module": "@jupyter-widgets/base",
      "model_module_version": "1.0.0",
      "model_name": "LayoutModel",
      "state": {}
     },
     "24a7e7af0b8445e292e0da8b6e83b2ea": {
      "model_module": "@jupyter-widgets/controls",
      "model_module_version": "1.2.0",
      "model_name": "VBoxModel",
      "state": {
       "_dom_classes": [
        "widget-interact"
       ],
       "children": [
        "IPY_MODEL_2ec3c6a38b5343799ea86ea2fc2c25db",
        "IPY_MODEL_817d72a78e6c4b7cb401a339cfee2a29"
       ],
       "layout": "IPY_MODEL_184b5971d32744c88de5cd3b36578035"
      }
     },
     "2587f45354424dc4a92bde4b2f242742": {
      "model_module": "@jupyter-widgets/controls",
      "model_module_version": "1.2.0",
      "model_name": "VBoxModel",
      "state": {
       "_dom_classes": [
        "widget-interact"
       ],
       "children": [
        "IPY_MODEL_269ae4a2c27f45cf8ab165236ff8a642",
        "IPY_MODEL_0f98774c0fab4ee8af9520d39db06b55"
       ],
       "layout": "IPY_MODEL_6ca09a27847540e081bba6dd5641507e"
      }
     },
     "2597dcf8a2ba4b0e8d63fc2bb131079d": {
      "model_module": "@jupyter-widgets/base",
      "model_module_version": "1.0.0",
      "model_name": "LayoutModel",
      "state": {}
     },
     "25fde21880b2420e9075620583b2aeaf": {
      "model_module": "@jupyter-widgets/base",
      "model_module_version": "1.0.0",
      "model_name": "LayoutModel",
      "state": {}
     },
     "269ae4a2c27f45cf8ab165236ff8a642": {
      "model_module": "@jupyter-widgets/controls",
      "model_module_version": "1.2.0",
      "model_name": "IntSliderModel",
      "state": {
       "description": "c",
       "layout": "IPY_MODEL_47d2b7b8329748a5ac0c6273c2fa39de",
       "max": 500,
       "min": -500,
       "style": "IPY_MODEL_c3ccaad2c2d24a5fb11c2aa9e2d7e072",
       "value": 1
      }
     },
     "2839e77885e04a1d8bec65a8efbf54a4": {
      "model_module": "@jupyter-widgets/base",
      "model_module_version": "1.0.0",
      "model_name": "LayoutModel",
      "state": {}
     },
     "290df0c9bb064406a82cc34beef7dcdd": {
      "model_module": "@jupyter-widgets/base",
      "model_module_version": "1.0.0",
      "model_name": "LayoutModel",
      "state": {}
     },
     "29861857e78f4afa8426779ce83208a6": {
      "model_module": "@jupyter-widgets/controls",
      "model_module_version": "1.2.0",
      "model_name": "IntSliderModel",
      "state": {
       "description": "c",
       "layout": "IPY_MODEL_7057f3ea967c4c3fb60ce15af6a8fd17",
       "max": 500,
       "min": -500,
       "style": "IPY_MODEL_36a856a7f4b04c7aafb7fc1f26a4e0c5",
       "value": 1
      }
     },
     "2a654100fa134e9c8f56b81d83df0cff": {
      "model_module": "@jupyter-widgets/base",
      "model_module_version": "1.0.0",
      "model_name": "LayoutModel",
      "state": {}
     },
     "2a6f862c85554c36b16130c114d193fe": {
      "model_module": "@jupyter-widgets/controls",
      "model_module_version": "1.2.0",
      "model_name": "IntSliderModel",
      "state": {
       "description": "c",
       "layout": "IPY_MODEL_82ad689648024cabb18cac5253eeae0d",
       "max": 500,
       "min": -500,
       "style": "IPY_MODEL_50a6fe495bd34f2ea3ae278f8c2f659b",
       "value": 1
      }
     },
     "2abe5acb0333415e806d7e5a760710ca": {
      "model_module": "@jupyter-widgets/controls",
      "model_module_version": "1.2.0",
      "model_name": "SliderStyleModel",
      "state": {
       "description_width": ""
      }
     },
     "2ac7f39c9db9430e8dc05f7612a7c9c7": {
      "model_module": "@jupyter-widgets/base",
      "model_module_version": "1.0.0",
      "model_name": "LayoutModel",
      "state": {}
     },
     "2b40f1f7b70b4f3087173b7459c05715": {
      "model_module": "@jupyter-widgets/controls",
      "model_module_version": "1.2.0",
      "model_name": "IntSliderModel",
      "state": {
       "description": "c",
       "layout": "IPY_MODEL_32942460f39f4efe87e2aad80964c055",
       "max": 500,
       "min": -500,
       "style": "IPY_MODEL_aebe1156d20049f7885e3c089cb66242",
       "value": 20
      }
     },
     "2c50029d01b048c39a6ec7c05be5a725": {
      "model_module": "@jupyter-widgets/controls",
      "model_module_version": "1.2.0",
      "model_name": "IntSliderModel",
      "state": {
       "description": "c",
       "layout": "IPY_MODEL_55351d6c51c144ffa14d42e72b32bbd3",
       "max": 500,
       "min": -500,
       "style": "IPY_MODEL_9e666fe22e294907830c00f69de47ce2",
       "value": -145
      }
     },
     "2d7a38aa7ad84d82aa1d257aeaa5ef0f": {
      "model_module": "@jupyter-widgets/controls",
      "model_module_version": "1.2.0",
      "model_name": "SliderStyleModel",
      "state": {
       "description_width": ""
      }
     },
     "2dc0693ee845489c8b23f989be3ab5ad": {
      "model_module": "@jupyter-widgets/output",
      "model_module_version": "1.0.0",
      "model_name": "OutputModel",
      "state": {
       "layout": "IPY_MODEL_7f0b25ae1c204b7cb89fe7e3b7baed0f"
      }
     },
     "2e21b8af2cb1403a84cf220819808678": {
      "model_module": "@jupyter-widgets/base",
      "model_module_version": "1.0.0",
      "model_name": "LayoutModel",
      "state": {}
     },
     "2e5553d675cb41259447ea360820c694": {
      "model_module": "@jupyter-widgets/output",
      "model_module_version": "1.0.0",
      "model_name": "OutputModel",
      "state": {
       "layout": "IPY_MODEL_70189e6ccec540748af3f2ee08ca29d3"
      }
     },
     "2ec3c6a38b5343799ea86ea2fc2c25db": {
      "model_module": "@jupyter-widgets/controls",
      "model_module_version": "1.2.0",
      "model_name": "IntSliderModel",
      "state": {
       "description": "c",
       "layout": "IPY_MODEL_f89b5c6328bd4965ac905edc027fc09a",
       "max": 500,
       "min": -500,
       "style": "IPY_MODEL_82da8be043a34736bb8027f1c124bec1",
       "value": 4
      }
     },
     "2fa1c4a055544c29ab10705f6e3a02b8": {
      "model_module": "@jupyter-widgets/base",
      "model_module_version": "1.0.0",
      "model_name": "LayoutModel",
      "state": {}
     },
     "3035c17255b943de91f99ba23f23fb17": {
      "model_module": "@jupyter-widgets/controls",
      "model_module_version": "1.2.0",
      "model_name": "VBoxModel",
      "state": {
       "_dom_classes": [
        "widget-interact"
       ],
       "children": [
        "IPY_MODEL_097d4b8c44b04176b78c183564aa9d83",
        "IPY_MODEL_ee94896624704b4eb8f490339a4cb78e"
       ],
       "layout": "IPY_MODEL_c0fc65fc6cd34b6589899d918de213ab"
      }
     },
     "30b60c3635b24f0bae845c0328e8750d": {
      "model_module": "@jupyter-widgets/base",
      "model_module_version": "1.0.0",
      "model_name": "LayoutModel",
      "state": {}
     },
     "323ca638b61d4ecba65d26b98a5945a9": {
      "model_module": "@jupyter-widgets/controls",
      "model_module_version": "1.2.0",
      "model_name": "VBoxModel",
      "state": {
       "_dom_classes": [
        "widget-interact"
       ],
       "children": [
        "IPY_MODEL_2b40f1f7b70b4f3087173b7459c05715",
        "IPY_MODEL_5f8307b86656460a8b340a2887ae7459"
       ],
       "layout": "IPY_MODEL_290df0c9bb064406a82cc34beef7dcdd"
      }
     },
     "32942460f39f4efe87e2aad80964c055": {
      "model_module": "@jupyter-widgets/base",
      "model_module_version": "1.0.0",
      "model_name": "LayoutModel",
      "state": {}
     },
     "3328c20a5ca442bbb5a8cb960505eb57": {
      "model_module": "@jupyter-widgets/output",
      "model_module_version": "1.0.0",
      "model_name": "OutputModel",
      "state": {
       "layout": "IPY_MODEL_35607857f9264390a08768b14310d36f"
      }
     },
     "3403f409f3f245a2925948f1446410ee": {
      "model_module": "@jupyter-widgets/base",
      "model_module_version": "1.0.0",
      "model_name": "LayoutModel",
      "state": {}
     },
     "3474913c2b064d68a483e5647faa9668": {
      "model_module": "@jupyter-widgets/base",
      "model_module_version": "1.0.0",
      "model_name": "LayoutModel",
      "state": {}
     },
     "3526f43d71184faa85b07d4f93b85d4e": {
      "model_module": "@jupyter-widgets/controls",
      "model_module_version": "1.2.0",
      "model_name": "SliderStyleModel",
      "state": {
       "description_width": ""
      }
     },
     "35607857f9264390a08768b14310d36f": {
      "model_module": "@jupyter-widgets/base",
      "model_module_version": "1.0.0",
      "model_name": "LayoutModel",
      "state": {}
     },
     "358af3966ae64499a0cef1d86c549dd4": {
      "model_module": "@jupyter-widgets/base",
      "model_module_version": "1.0.0",
      "model_name": "LayoutModel",
      "state": {}
     },
     "36869dae16f248d8b110d33efedcfe7b": {
      "model_module": "@jupyter-widgets/controls",
      "model_module_version": "1.2.0",
      "model_name": "IntSliderModel",
      "state": {
       "description": "c",
       "layout": "IPY_MODEL_19a8089d959e4f0db4712c9cca115c9c",
       "max": 500,
       "min": -500,
       "style": "IPY_MODEL_96f4b3aef2bd447a982c1a6a42cf7949",
       "value": 1
      }
     },
     "36a856a7f4b04c7aafb7fc1f26a4e0c5": {
      "model_module": "@jupyter-widgets/controls",
      "model_module_version": "1.2.0",
      "model_name": "SliderStyleModel",
      "state": {
       "description_width": ""
      }
     },
     "36b1345f624b422eba08f4f4fa850a1a": {
      "model_module": "@jupyter-widgets/output",
      "model_module_version": "1.0.0",
      "model_name": "OutputModel",
      "state": {
       "layout": "IPY_MODEL_58b2d3f5308e4961ba8204db3a023bcb"
      }
     },
     "36bd56b113d64c6697e8b74bbdcf3966": {
      "model_module": "@jupyter-widgets/controls",
      "model_module_version": "1.2.0",
      "model_name": "VBoxModel",
      "state": {
       "_dom_classes": [
        "widget-interact"
       ],
       "children": [
        "IPY_MODEL_457a5231545747208d323601d16394ae",
        "IPY_MODEL_b9997fe3919d4ec4b127d25aeb921abb"
       ],
       "layout": "IPY_MODEL_19be82226e4f445ab3ef97a830b75654"
      }
     },
     "393ea25bf2aa4e5e90c5a3fd021bbd06": {
      "model_module": "@jupyter-widgets/controls",
      "model_module_version": "1.2.0",
      "model_name": "IntSliderModel",
      "state": {
       "description": "d",
       "layout": "IPY_MODEL_fc6cc5c8e6594727a32eb68100d35cc5",
       "max": 500,
       "min": -500,
       "style": "IPY_MODEL_4cdef48f4e9141168a848a9b2d28c9cc",
       "value": -500
      }
     },
     "39a5bf05be8b493a891690b64eceeaa9": {
      "model_module": "@jupyter-widgets/controls",
      "model_module_version": "1.2.0",
      "model_name": "IntSliderModel",
      "state": {
       "description": "c",
       "layout": "IPY_MODEL_14afe80a145b46c18fac694b2535429e",
       "max": 500,
       "min": -500,
       "style": "IPY_MODEL_6b5c8e81705b4512b9b642d970da266f",
       "value": -500
      }
     },
     "3b55dcee58354b479dc90c2ab13c9ff3": {
      "model_module": "@jupyter-widgets/base",
      "model_module_version": "1.0.0",
      "model_name": "LayoutModel",
      "state": {}
     },
     "3c5c5925991b4f70b475df9547bb1e45": {
      "model_module": "@jupyter-widgets/base",
      "model_module_version": "1.0.0",
      "model_name": "LayoutModel",
      "state": {}
     },
     "3cb991f1ff794046a95c2473f8dbb850": {
      "model_module": "@jupyter-widgets/base",
      "model_module_version": "1.0.0",
      "model_name": "LayoutModel",
      "state": {}
     },
     "3e81ec0c4f5c493dafba94e92c751dc7": {
      "model_module": "@jupyter-widgets/controls",
      "model_module_version": "1.2.0",
      "model_name": "VBoxModel",
      "state": {
       "_dom_classes": [
        "widget-interact"
       ],
       "children": [
        "IPY_MODEL_1f7d0e5acd4d4527ac31204b4cb3139f",
        "IPY_MODEL_a6c7480757a243cb924eda8de038e325"
       ],
       "layout": "IPY_MODEL_91c52be041ef4382b84e7c866db70829"
      }
     },
     "3ee4866cf1dc4b7d850908f55c40efae": {
      "model_module": "@jupyter-widgets/output",
      "model_module_version": "1.0.0",
      "model_name": "OutputModel",
      "state": {
       "layout": "IPY_MODEL_ae0f2e4090f549acb67cf1e46a5b5cd1"
      }
     },
     "3eee6dee7c834b01a223fa43962d855f": {
      "model_module": "@jupyter-widgets/base",
      "model_module_version": "1.0.0",
      "model_name": "LayoutModel",
      "state": {}
     },
     "3f374b997ecf452ab6ff97121021c724": {
      "model_module": "@jupyter-widgets/base",
      "model_module_version": "1.0.0",
      "model_name": "LayoutModel",
      "state": {}
     },
     "3fc85b3e63844186a4b99fe74a91936d": {
      "model_module": "@jupyter-widgets/controls",
      "model_module_version": "1.2.0",
      "model_name": "IntSliderModel",
      "state": {
       "description": "e",
       "layout": "IPY_MODEL_646f9f9ac18040e29e75d9c6f26e61f1",
       "max": 500,
       "min": -500,
       "style": "IPY_MODEL_863f720dc314413b98506dfdcf5fe33a",
       "value": -102
      }
     },
     "40461ee8a2ed4bb7a5a8bf9c7921213e": {
      "model_module": "@jupyter-widgets/base",
      "model_module_version": "1.0.0",
      "model_name": "LayoutModel",
      "state": {}
     },
     "411e7e187d784156955f356654015e9e": {
      "model_module": "@jupyter-widgets/controls",
      "model_module_version": "1.2.0",
      "model_name": "SliderStyleModel",
      "state": {
       "description_width": ""
      }
     },
     "41992c51316b44c39b8027dee885bd2c": {
      "model_module": "@jupyter-widgets/base",
      "model_module_version": "1.0.0",
      "model_name": "LayoutModel",
      "state": {}
     },
     "41b1d827acc34c48b92b364dc13d99cd": {
      "model_module": "@jupyter-widgets/controls",
      "model_module_version": "1.2.0",
      "model_name": "VBoxModel",
      "state": {
       "_dom_classes": [
        "widget-interact"
       ],
       "children": [
        "IPY_MODEL_717eb8fa39594eb7bd6d4f6f67ca8a97",
        "IPY_MODEL_9ab50eff392d44e1a1326cc06441e461"
       ],
       "layout": "IPY_MODEL_84c65c250d02459ea99372b041b2e341"
      }
     },
     "41bf871f9e384024b7d69638fe405550": {
      "model_module": "@jupyter-widgets/output",
      "model_module_version": "1.0.0",
      "model_name": "OutputModel",
      "state": {
       "layout": "IPY_MODEL_b1cbb08d8cff4213a8bb3eaf1739f8bb"
      }
     },
     "42b6ede9829441babd2e799d4c2b3dc3": {
      "model_module": "@jupyter-widgets/controls",
      "model_module_version": "1.2.0",
      "model_name": "VBoxModel",
      "state": {
       "_dom_classes": [
        "widget-interact"
       ],
       "children": [
        "IPY_MODEL_f804b2c94ea84b9ba4cca23124f0a3af",
        "IPY_MODEL_36b1345f624b422eba08f4f4fa850a1a"
       ],
       "layout": "IPY_MODEL_0ba64ad8dec54c4ab864c23d85291f34"
      }
     },
     "42d7d21b8c274377bb8ea90ea8a18164": {
      "model_module": "@jupyter-widgets/base",
      "model_module_version": "1.0.0",
      "model_name": "LayoutModel",
      "state": {}
     },
     "435b3181dd214a33b95de5e8fe5998c7": {
      "model_module": "@jupyter-widgets/base",
      "model_module_version": "1.0.0",
      "model_name": "LayoutModel",
      "state": {}
     },
     "43882076ae064379873698cc46132fa0": {
      "model_module": "@jupyter-widgets/controls",
      "model_module_version": "1.2.0",
      "model_name": "IntSliderModel",
      "state": {
       "description": "c",
       "layout": "IPY_MODEL_a80f9eafb38d43ebb96138dbd8844ac7",
       "max": 500,
       "min": -500,
       "style": "IPY_MODEL_8c849d143503457b9c60c3d674a65961",
       "value": 44
      }
     },
     "453d9c6e9ceb41b18c313d476314ede1": {
      "model_module": "@jupyter-widgets/base",
      "model_module_version": "1.0.0",
      "model_name": "LayoutModel",
      "state": {}
     },
     "457a5231545747208d323601d16394ae": {
      "model_module": "@jupyter-widgets/controls",
      "model_module_version": "1.2.0",
      "model_name": "IntSliderModel",
      "state": {
       "description": "c",
       "layout": "IPY_MODEL_70a408155fe04776a165aa47aa28827a",
       "max": 500,
       "min": -500,
       "style": "IPY_MODEL_88686502ee3f44659f78293536e52f5a",
       "value": 1
      }
     },
     "469996c5682046eca09a811e027689ad": {
      "model_module": "@jupyter-widgets/base",
      "model_module_version": "1.0.0",
      "model_name": "LayoutModel",
      "state": {}
     },
     "47d2b7b8329748a5ac0c6273c2fa39de": {
      "model_module": "@jupyter-widgets/base",
      "model_module_version": "1.0.0",
      "model_name": "LayoutModel",
      "state": {}
     },
     "488fe3145ba047c4b45c9aaa72cec3b0": {
      "model_module": "@jupyter-widgets/output",
      "model_module_version": "1.0.0",
      "model_name": "OutputModel",
      "state": {
       "layout": "IPY_MODEL_e65453d36c52497eb1055ad205ffd3e1"
      }
     },
     "498f731a539d4d8cae742be242134260": {
      "model_module": "@jupyter-widgets/base",
      "model_module_version": "1.0.0",
      "model_name": "LayoutModel",
      "state": {}
     },
     "4a97e0939c9245ff8a2ad0862df8d3f6": {
      "model_module": "@jupyter-widgets/controls",
      "model_module_version": "1.2.0",
      "model_name": "SliderStyleModel",
      "state": {
       "description_width": ""
      }
     },
     "4c41f0ed0ab64313a4d0913ce6caf2c6": {
      "model_module": "@jupyter-widgets/base",
      "model_module_version": "1.0.0",
      "model_name": "LayoutModel",
      "state": {}
     },
     "4cdef48f4e9141168a848a9b2d28c9cc": {
      "model_module": "@jupyter-widgets/controls",
      "model_module_version": "1.2.0",
      "model_name": "SliderStyleModel",
      "state": {
       "description_width": ""
      }
     },
     "4e290e85ddbd437a96fa77e38a2fe087": {
      "model_module": "@jupyter-widgets/controls",
      "model_module_version": "1.2.0",
      "model_name": "VBoxModel",
      "state": {
       "_dom_classes": [
        "widget-interact"
       ],
       "children": [
        "IPY_MODEL_685061afe3d64ea5804c0d1898c7988a",
        "IPY_MODEL_59e7af322d8f4fbe964206b5f07fc5fe"
       ],
       "layout": "IPY_MODEL_2ac7f39c9db9430e8dc05f7612a7c9c7"
      }
     },
     "4e4cbe029f93421798b310066e0744c1": {
      "model_module": "@jupyter-widgets/controls",
      "model_module_version": "1.2.0",
      "model_name": "SliderStyleModel",
      "state": {
       "description_width": ""
      }
     },
     "4f7edacf253748adabec70dc586aa201": {
      "model_module": "@jupyter-widgets/controls",
      "model_module_version": "1.2.0",
      "model_name": "SliderStyleModel",
      "state": {
       "description_width": ""
      }
     },
     "5035ed131a56498bb73aef9b40045afe": {
      "model_module": "@jupyter-widgets/controls",
      "model_module_version": "1.2.0",
      "model_name": "VBoxModel",
      "state": {
       "_dom_classes": [
        "widget-interact"
       ],
       "children": [
        "IPY_MODEL_59d3e8e2911f445bb65d389cc3724a0e",
        "IPY_MODEL_2e5553d675cb41259447ea360820c694"
       ],
       "layout": "IPY_MODEL_2e21b8af2cb1403a84cf220819808678"
      }
     },
     "50a6fe495bd34f2ea3ae278f8c2f659b": {
      "model_module": "@jupyter-widgets/controls",
      "model_module_version": "1.2.0",
      "model_name": "SliderStyleModel",
      "state": {
       "description_width": ""
      }
     },
     "50ca13a41b6d4b32a95368c99b56bc1b": {
      "model_module": "@jupyter-widgets/base",
      "model_module_version": "1.0.0",
      "model_name": "LayoutModel",
      "state": {}
     },
     "50d69784e5304cfd94fc8b3e6a0ec59b": {
      "model_module": "@jupyter-widgets/controls",
      "model_module_version": "1.2.0",
      "model_name": "SliderStyleModel",
      "state": {
       "description_width": ""
      }
     },
     "530ef84f44054048b4708d2241eef1e1": {
      "model_module": "@jupyter-widgets/base",
      "model_module_version": "1.0.0",
      "model_name": "LayoutModel",
      "state": {}
     },
     "538155a7b01c43c4ac2a729ca9fa57eb": {
      "model_module": "@jupyter-widgets/base",
      "model_module_version": "1.0.0",
      "model_name": "LayoutModel",
      "state": {}
     },
     "545c6492791640bebc05a32769d3f1b3": {
      "model_module": "@jupyter-widgets/controls",
      "model_module_version": "1.2.0",
      "model_name": "SliderStyleModel",
      "state": {
       "description_width": ""
      }
     },
     "5494e4c1c206418dbeff8cb59df50ed5": {
      "model_module": "@jupyter-widgets/base",
      "model_module_version": "1.0.0",
      "model_name": "LayoutModel",
      "state": {}
     },
     "54b9adeacea34e4e8fddc9bfe273be0b": {
      "model_module": "@jupyter-widgets/controls",
      "model_module_version": "1.2.0",
      "model_name": "SliderStyleModel",
      "state": {
       "description_width": ""
      }
     },
     "55351d6c51c144ffa14d42e72b32bbd3": {
      "model_module": "@jupyter-widgets/base",
      "model_module_version": "1.0.0",
      "model_name": "LayoutModel",
      "state": {}
     },
     "55bf833f29f948ee8bf166b65bf18aec": {
      "model_module": "@jupyter-widgets/controls",
      "model_module_version": "1.2.0",
      "model_name": "VBoxModel",
      "state": {
       "_dom_classes": [
        "widget-interact"
       ],
       "children": [
        "IPY_MODEL_36869dae16f248d8b110d33efedcfe7b",
        "IPY_MODEL_98e31bb4f3de4099826099f3b92de139"
       ],
       "layout": "IPY_MODEL_40461ee8a2ed4bb7a5a8bf9c7921213e"
      }
     },
     "57fab249b2b84be2a765d4cbd339d0b4": {
      "model_module": "@jupyter-widgets/controls",
      "model_module_version": "1.2.0",
      "model_name": "VBoxModel",
      "state": {
       "_dom_classes": [
        "widget-interact"
       ],
       "children": [
        "IPY_MODEL_8b1e07d9f15a4d35bcad352729694b9e",
        "IPY_MODEL_646478b7e99d42ecab8740033779c739"
       ],
       "layout": "IPY_MODEL_538155a7b01c43c4ac2a729ca9fa57eb"
      }
     },
     "58b2d3f5308e4961ba8204db3a023bcb": {
      "model_module": "@jupyter-widgets/base",
      "model_module_version": "1.0.0",
      "model_name": "LayoutModel",
      "state": {}
     },
     "58ca612c5f024a11ba3e189330dad3a8": {
      "model_module": "@jupyter-widgets/controls",
      "model_module_version": "1.2.0",
      "model_name": "VBoxModel",
      "state": {
       "_dom_classes": [
        "widget-interact"
       ],
       "children": [
        "IPY_MODEL_9373955230f5474c89419a7ff4799b1e",
        "IPY_MODEL_b716545c88134877afa8f31977bd1892"
       ],
       "layout": "IPY_MODEL_867979740107429fb03bf61a51e79dda"
      }
     },
     "59a06d83bd0443a3b80c75e6913860d4": {
      "model_module": "@jupyter-widgets/output",
      "model_module_version": "1.0.0",
      "model_name": "OutputModel",
      "state": {
       "layout": "IPY_MODEL_7fdae19fac0d42849757b082e67e25f3"
      }
     },
     "59d3e8e2911f445bb65d389cc3724a0e": {
      "model_module": "@jupyter-widgets/controls",
      "model_module_version": "1.2.0",
      "model_name": "IntSliderModel",
      "state": {
       "description": "d",
       "layout": "IPY_MODEL_3c5c5925991b4f70b475df9547bb1e45",
       "max": 500,
       "min": -500,
       "style": "IPY_MODEL_822060b1b3a045dcafe04296a751595f",
       "value": -138
      }
     },
     "59e7af322d8f4fbe964206b5f07fc5fe": {
      "model_module": "@jupyter-widgets/output",
      "model_module_version": "1.0.0",
      "model_name": "OutputModel",
      "state": {
       "layout": "IPY_MODEL_cb561d318b434ab5b2bbf48e4dcdb499"
      }
     },
     "5ac5b4b9c8f5443da1c5c935e3ebc234": {
      "model_module": "@jupyter-widgets/base",
      "model_module_version": "1.0.0",
      "model_name": "LayoutModel",
      "state": {}
     },
     "5be430e6b093444c8175a187ff9484e3": {
      "model_module": "@jupyter-widgets/controls",
      "model_module_version": "1.2.0",
      "model_name": "IntSliderModel",
      "state": {
       "description": "c",
       "layout": "IPY_MODEL_632b71d1d53444ad87255fa6f1e18de4",
       "max": 500,
       "min": -500,
       "style": "IPY_MODEL_7471b29f5f814e8cba19bbb7453889fa",
       "value": 1
      }
     },
     "5d1f167d337748888be4131f88dab0e2": {
      "model_module": "@jupyter-widgets/controls",
      "model_module_version": "1.2.0",
      "model_name": "VBoxModel",
      "state": {
       "_dom_classes": [
        "widget-interact"
       ],
       "children": [
        "IPY_MODEL_29861857e78f4afa8426779ce83208a6",
        "IPY_MODEL_e8ed4759912d44ac97872bc4d6cdeb7b"
       ],
       "layout": "IPY_MODEL_da59349cb85949b2947aa671214d8deb"
      }
     },
     "5f8307b86656460a8b340a2887ae7459": {
      "model_module": "@jupyter-widgets/output",
      "model_module_version": "1.0.0",
      "model_name": "OutputModel",
      "state": {
       "layout": "IPY_MODEL_bb8b9b56f2b84000b4e92ab3e69eec3f"
      }
     },
     "61772455e2104ef9b787bb6780eb170e": {
      "model_module": "@jupyter-widgets/controls",
      "model_module_version": "1.2.0",
      "model_name": "IntSliderModel",
      "state": {
       "description": "c",
       "layout": "IPY_MODEL_3cb991f1ff794046a95c2473f8dbb850",
       "max": 500,
       "min": -500,
       "style": "IPY_MODEL_e65aa72ceaa24938aedd38dc91d5bda0",
       "value": 1
      }
     },
     "62dd3e8b2d9946b6930d90709cd80377": {
      "model_module": "@jupyter-widgets/base",
      "model_module_version": "1.0.0",
      "model_name": "LayoutModel",
      "state": {}
     },
     "632b71d1d53444ad87255fa6f1e18de4": {
      "model_module": "@jupyter-widgets/base",
      "model_module_version": "1.0.0",
      "model_name": "LayoutModel",
      "state": {}
     },
     "633f4325eec64d4c92f0e1bdaf9f0e4a": {
      "model_module": "@jupyter-widgets/controls",
      "model_module_version": "1.2.0",
      "model_name": "SliderStyleModel",
      "state": {
       "description_width": ""
      }
     },
     "63aee3a2950144418a208231c8778537": {
      "model_module": "@jupyter-widgets/controls",
      "model_module_version": "1.2.0",
      "model_name": "VBoxModel",
      "state": {
       "_dom_classes": [
        "widget-interact"
       ],
       "children": [
        "IPY_MODEL_755c5f2052f74bb2ad9e0ab404364f1c",
        "IPY_MODEL_e6a212c0aea247d2b21a310baf71f01c"
       ],
       "layout": "IPY_MODEL_a97dacad52db46b7b16b6ff6edd606c5"
      }
     },
     "63c175bd09ef49c2a78878304f88389a": {
      "model_module": "@jupyter-widgets/controls",
      "model_module_version": "1.2.0",
      "model_name": "SliderStyleModel",
      "state": {
       "description_width": ""
      }
     },
     "646478b7e99d42ecab8740033779c739": {
      "model_module": "@jupyter-widgets/output",
      "model_module_version": "1.0.0",
      "model_name": "OutputModel",
      "state": {
       "layout": "IPY_MODEL_5ac5b4b9c8f5443da1c5c935e3ebc234"
      }
     },
     "646f9f9ac18040e29e75d9c6f26e61f1": {
      "model_module": "@jupyter-widgets/base",
      "model_module_version": "1.0.0",
      "model_name": "LayoutModel",
      "state": {}
     },
     "647037dbda0143b0aad6b6e415cdbbb5": {
      "model_module": "@jupyter-widgets/controls",
      "model_module_version": "1.2.0",
      "model_name": "VBoxModel",
      "state": {
       "_dom_classes": [
        "widget-interact"
       ],
       "children": [
        "IPY_MODEL_b3c4e5e3c500482f8d1722fe000347a8",
        "IPY_MODEL_15aedf290fc14662be1f2a18ba0c996d"
       ],
       "layout": "IPY_MODEL_dfb36728f313408c927d4561c7c5931a"
      }
     },
     "64c47a6c0054445385e892a8d5daf0ef": {
      "model_module": "@jupyter-widgets/base",
      "model_module_version": "1.0.0",
      "model_name": "LayoutModel",
      "state": {}
     },
     "64cf54c888a1413eb1e8d2e199c7026b": {
      "model_module": "@jupyter-widgets/controls",
      "model_module_version": "1.2.0",
      "model_name": "IntSliderModel",
      "state": {
       "description": "c",
       "layout": "IPY_MODEL_7553fa1eab1c4fdd873362a0718595cd",
       "max": 500,
       "min": -500,
       "style": "IPY_MODEL_cdaa68c831a444c8ac8ee2b57b445c41",
       "value": 1
      }
     },
     "66962f22f6a748b4951ba14630fc6e9a": {
      "model_module": "@jupyter-widgets/base",
      "model_module_version": "1.0.0",
      "model_name": "LayoutModel",
      "state": {}
     },
     "685061afe3d64ea5804c0d1898c7988a": {
      "model_module": "@jupyter-widgets/controls",
      "model_module_version": "1.2.0",
      "model_name": "IntSliderModel",
      "state": {
       "description": "e",
       "layout": "IPY_MODEL_4c41f0ed0ab64313a4d0913ce6caf2c6",
       "max": 500,
       "min": -500,
       "style": "IPY_MODEL_633f4325eec64d4c92f0e1bdaf9f0e4a",
       "value": -21
      }
     },
     "6889fa8c586c417984195d60ef6ba5a2": {
      "model_module": "@jupyter-widgets/output",
      "model_module_version": "1.0.0",
      "model_name": "OutputModel",
      "state": {
       "layout": "IPY_MODEL_8925e6c96c0b45d887263d9fe1d42755"
      }
     },
     "692e3953759f451786a8685cf0407383": {
      "model_module": "@jupyter-widgets/output",
      "model_module_version": "1.0.0",
      "model_name": "OutputModel",
      "state": {
       "layout": "IPY_MODEL_2839e77885e04a1d8bec65a8efbf54a4"
      }
     },
     "6ab458410fc7468b8c516d44b476dcd0": {
      "model_module": "@jupyter-widgets/base",
      "model_module_version": "1.0.0",
      "model_name": "LayoutModel",
      "state": {}
     },
     "6b5c8e81705b4512b9b642d970da266f": {
      "model_module": "@jupyter-widgets/controls",
      "model_module_version": "1.2.0",
      "model_name": "SliderStyleModel",
      "state": {
       "description_width": ""
      }
     },
     "6ca09a27847540e081bba6dd5641507e": {
      "model_module": "@jupyter-widgets/base",
      "model_module_version": "1.0.0",
      "model_name": "LayoutModel",
      "state": {}
     },
     "6ed637d1ff074f0581fce204fb03e651": {
      "model_module": "@jupyter-widgets/base",
      "model_module_version": "1.0.0",
      "model_name": "LayoutModel",
      "state": {}
     },
     "6fc58bed9beb4ca9a8a49c57f842615a": {
      "model_module": "@jupyter-widgets/controls",
      "model_module_version": "1.2.0",
      "model_name": "VBoxModel",
      "state": {
       "_dom_classes": [
        "widget-interact"
       ],
       "children": [
        "IPY_MODEL_ae042523baed420ca4d3ff76c12b6f9d",
        "IPY_MODEL_abcb26ee1a544d668b52682fa0ea567c"
       ],
       "layout": "IPY_MODEL_358af3966ae64499a0cef1d86c549dd4"
      }
     },
     "7005a469c5764551a6347363073f93fe": {
      "model_module": "@jupyter-widgets/base",
      "model_module_version": "1.0.0",
      "model_name": "LayoutModel",
      "state": {}
     },
     "70189e6ccec540748af3f2ee08ca29d3": {
      "model_module": "@jupyter-widgets/base",
      "model_module_version": "1.0.0",
      "model_name": "LayoutModel",
      "state": {}
     },
     "7057f3ea967c4c3fb60ce15af6a8fd17": {
      "model_module": "@jupyter-widgets/base",
      "model_module_version": "1.0.0",
      "model_name": "LayoutModel",
      "state": {}
     },
     "705c5b11865e4755b8c84a9b121010d8": {
      "model_module": "@jupyter-widgets/controls",
      "model_module_version": "1.2.0",
      "model_name": "VBoxModel",
      "state": {
       "_dom_classes": [
        "widget-interact"
       ],
       "children": [
        "IPY_MODEL_2c50029d01b048c39a6ec7c05be5a725",
        "IPY_MODEL_3328c20a5ca442bbb5a8cb960505eb57"
       ],
       "layout": "IPY_MODEL_c7f2f31ffc7649dbac9b58bb341eca42"
      }
     },
     "70a408155fe04776a165aa47aa28827a": {
      "model_module": "@jupyter-widgets/base",
      "model_module_version": "1.0.0",
      "model_name": "LayoutModel",
      "state": {}
     },
     "70accbc1af174b2abf1ed744597b8dce": {
      "model_module": "@jupyter-widgets/base",
      "model_module_version": "1.0.0",
      "model_name": "LayoutModel",
      "state": {}
     },
     "70ee1f09163e4c60b2d2dfb9c216bc3c": {
      "model_module": "@jupyter-widgets/controls",
      "model_module_version": "1.2.0",
      "model_name": "VBoxModel",
      "state": {
       "_dom_classes": [
        "widget-interact"
       ],
       "children": [
        "IPY_MODEL_3fc85b3e63844186a4b99fe74a91936d",
        "IPY_MODEL_e191f9c257cf440ea29cf06b8c843ee4"
       ],
       "layout": "IPY_MODEL_c385c7d4ec464b31983e6b0e32e126c8"
      }
     },
     "712661fc1a1a4db19d361bb52b2d0779": {
      "model_module": "@jupyter-widgets/base",
      "model_module_version": "1.0.0",
      "model_name": "LayoutModel",
      "state": {}
     },
     "714dba23e90947c58fb097877d858a06": {
      "model_module": "@jupyter-widgets/controls",
      "model_module_version": "1.2.0",
      "model_name": "IntSliderModel",
      "state": {
       "description": "e",
       "layout": "IPY_MODEL_e5ff3947d6d04124b31295ed3ad663cb",
       "max": 500,
       "min": -500,
       "style": "IPY_MODEL_fbac4641bc8c4ff38098a34ff490afda",
       "value": 1
      }
     },
     "717eb8fa39594eb7bd6d4f6f67ca8a97": {
      "model_module": "@jupyter-widgets/controls",
      "model_module_version": "1.2.0",
      "model_name": "IntSliderModel",
      "state": {
       "description": "d",
       "layout": "IPY_MODEL_7e5a55b394594820a194998aba90b5b8",
       "max": 500,
       "min": -500,
       "style": "IPY_MODEL_54b9adeacea34e4e8fddc9bfe273be0b",
       "value": 1
      }
     },
     "727db649dbbc40eb958e838f6c5ddcae": {
      "model_module": "@jupyter-widgets/base",
      "model_module_version": "1.0.0",
      "model_name": "LayoutModel",
      "state": {}
     },
     "73652e700d6b48509774240463507ccc": {
      "model_module": "@jupyter-widgets/base",
      "model_module_version": "1.0.0",
      "model_name": "LayoutModel",
      "state": {}
     },
     "7471b29f5f814e8cba19bbb7453889fa": {
      "model_module": "@jupyter-widgets/controls",
      "model_module_version": "1.2.0",
      "model_name": "SliderStyleModel",
      "state": {
       "description_width": ""
      }
     },
     "75149bd5f9df4b24bebeba07baf4fd0f": {
      "model_module": "@jupyter-widgets/controls",
      "model_module_version": "1.2.0",
      "model_name": "IntSliderModel",
      "state": {
       "description": "c",
       "layout": "IPY_MODEL_a46fd4e3d39a4f8797ed606bde3f1635",
       "max": 500,
       "min": -500,
       "style": "IPY_MODEL_975f2fa9a71444c8a980198392ad6f9e",
       "value": 1
      }
     },
     "7553fa1eab1c4fdd873362a0718595cd": {
      "model_module": "@jupyter-widgets/base",
      "model_module_version": "1.0.0",
      "model_name": "LayoutModel",
      "state": {}
     },
     "755c5f2052f74bb2ad9e0ab404364f1c": {
      "model_module": "@jupyter-widgets/controls",
      "model_module_version": "1.2.0",
      "model_name": "IntSliderModel",
      "state": {
       "description": "c",
       "layout": "IPY_MODEL_498f731a539d4d8cae742be242134260",
       "max": 500,
       "min": -500,
       "style": "IPY_MODEL_f45a946715684fcbb53183d36a2df17b",
       "value": 1
      }
     },
     "7874d3542f4349bbb25ee08cb4ce74c5": {
      "model_module": "@jupyter-widgets/base",
      "model_module_version": "1.0.0",
      "model_name": "LayoutModel",
      "state": {}
     },
     "7876558a400148fe845153191cfe2736": {
      "model_module": "@jupyter-widgets/output",
      "model_module_version": "1.0.0",
      "model_name": "OutputModel",
      "state": {
       "layout": "IPY_MODEL_9f1df92212b541148693a3105516d1a4"
      }
     },
     "78bf059df41f42859aab83a4d034f0e0": {
      "model_module": "@jupyter-widgets/base",
      "model_module_version": "1.0.0",
      "model_name": "LayoutModel",
      "state": {}
     },
     "792d75c1b0b848639d731f7464147cc2": {
      "model_module": "@jupyter-widgets/controls",
      "model_module_version": "1.2.0",
      "model_name": "IntSliderModel",
      "state": {
       "description": "c",
       "layout": "IPY_MODEL_7874d3542f4349bbb25ee08cb4ce74c5",
       "max": 500,
       "min": -500,
       "style": "IPY_MODEL_d062a28e64304cca86c22011b8cf2175",
       "value": -500
      }
     },
     "793b13bd5021439ebd09b9d4ac993282": {
      "model_module": "@jupyter-widgets/controls",
      "model_module_version": "1.2.0",
      "model_name": "VBoxModel",
      "state": {
       "_dom_classes": [
        "widget-interact"
       ],
       "children": [
        "IPY_MODEL_05331cfcd8324b35b4f87d6ef60ffeb9",
        "IPY_MODEL_d1502bc853084d2490539a839c78af45"
       ],
       "layout": "IPY_MODEL_fea023dd3a684feb9ca2305c56f5cc9b"
      }
     },
     "7b24cfdd30bb4384a6865822ccf9dd83": {
      "model_module": "@jupyter-widgets/controls",
      "model_module_version": "1.2.0",
      "model_name": "SliderStyleModel",
      "state": {
       "description_width": ""
      }
     },
     "7c1ef0e52d8647e3aad34bf79f80241a": {
      "model_module": "@jupyter-widgets/controls",
      "model_module_version": "1.2.0",
      "model_name": "SliderStyleModel",
      "state": {
       "description_width": ""
      }
     },
     "7e5a55b394594820a194998aba90b5b8": {
      "model_module": "@jupyter-widgets/base",
      "model_module_version": "1.0.0",
      "model_name": "LayoutModel",
      "state": {}
     },
     "7e5e7b458b674fbdb70e944d58b29cb7": {
      "model_module": "@jupyter-widgets/base",
      "model_module_version": "1.0.0",
      "model_name": "LayoutModel",
      "state": {}
     },
     "7f0b25ae1c204b7cb89fe7e3b7baed0f": {
      "model_module": "@jupyter-widgets/base",
      "model_module_version": "1.0.0",
      "model_name": "LayoutModel",
      "state": {}
     },
     "7f97250f94634d4f9a41f8e03ef6edcf": {
      "model_module": "@jupyter-widgets/controls",
      "model_module_version": "1.2.0",
      "model_name": "VBoxModel",
      "state": {
       "_dom_classes": [
        "widget-interact"
       ],
       "children": [
        "IPY_MODEL_792d75c1b0b848639d731f7464147cc2",
        "IPY_MODEL_59a06d83bd0443a3b80c75e6913860d4"
       ],
       "layout": "IPY_MODEL_cc7748c2e27c4657862e9eced60e843c"
      }
     },
     "7fdae19fac0d42849757b082e67e25f3": {
      "model_module": "@jupyter-widgets/base",
      "model_module_version": "1.0.0",
      "model_name": "LayoutModel",
      "state": {}
     },
     "8028e2f04300437e9daad16eb21341ce": {
      "model_module": "@jupyter-widgets/controls",
      "model_module_version": "1.2.0",
      "model_name": "VBoxModel",
      "state": {
       "_dom_classes": [
        "widget-interact"
       ],
       "children": [
        "IPY_MODEL_d6a1e8527eee42b1a2bb1ab70b1f9ca8",
        "IPY_MODEL_e9d098d3d85642ffa08d259dc2834e93"
       ],
       "layout": "IPY_MODEL_70accbc1af174b2abf1ed744597b8dce"
      }
     },
     "807910d34fde4d7db06b4b12a806337b": {
      "model_module": "@jupyter-widgets/base",
      "model_module_version": "1.0.0",
      "model_name": "LayoutModel",
      "state": {}
     },
     "80d542319fe349b98f583ab1a3d01218": {
      "model_module": "@jupyter-widgets/base",
      "model_module_version": "1.0.0",
      "model_name": "LayoutModel",
      "state": {}
     },
     "817d72a78e6c4b7cb401a339cfee2a29": {
      "model_module": "@jupyter-widgets/output",
      "model_module_version": "1.0.0",
      "model_name": "OutputModel",
      "state": {
       "layout": "IPY_MODEL_8e5027b34b254b6d876272d432ad5eb6"
      }
     },
     "81a1395dc0a84aa2a30c3f37ecbe6e37": {
      "model_module": "@jupyter-widgets/controls",
      "model_module_version": "1.2.0",
      "model_name": "VBoxModel",
      "state": {
       "_dom_classes": [
        "widget-interact"
       ],
       "children": [
        "IPY_MODEL_bd5c5e811f9c46f2bf96d63273c579db",
        "IPY_MODEL_9f771daa37754cf2bfe6030bb90ce702"
       ],
       "layout": "IPY_MODEL_0b0f395774734d7a81a4094e4d9bab5b"
      }
     },
     "822060b1b3a045dcafe04296a751595f": {
      "model_module": "@jupyter-widgets/controls",
      "model_module_version": "1.2.0",
      "model_name": "SliderStyleModel",
      "state": {
       "description_width": ""
      }
     },
     "82ad689648024cabb18cac5253eeae0d": {
      "model_module": "@jupyter-widgets/base",
      "model_module_version": "1.0.0",
      "model_name": "LayoutModel",
      "state": {}
     },
     "82da8be043a34736bb8027f1c124bec1": {
      "model_module": "@jupyter-widgets/controls",
      "model_module_version": "1.2.0",
      "model_name": "SliderStyleModel",
      "state": {
       "description_width": ""
      }
     },
     "8360dd7cbbb144c4857a0181edfdb7e7": {
      "model_module": "@jupyter-widgets/base",
      "model_module_version": "1.0.0",
      "model_name": "LayoutModel",
      "state": {}
     },
     "8398e7304bc244ebb278bbb2e1968083": {
      "model_module": "@jupyter-widgets/base",
      "model_module_version": "1.0.0",
      "model_name": "LayoutModel",
      "state": {}
     },
     "84949c74d4be4da88b4c0d9a896f3241": {
      "model_module": "@jupyter-widgets/base",
      "model_module_version": "1.0.0",
      "model_name": "LayoutModel",
      "state": {}
     },
     "84c65c250d02459ea99372b041b2e341": {
      "model_module": "@jupyter-widgets/base",
      "model_module_version": "1.0.0",
      "model_name": "LayoutModel",
      "state": {}
     },
     "863f720dc314413b98506dfdcf5fe33a": {
      "model_module": "@jupyter-widgets/controls",
      "model_module_version": "1.2.0",
      "model_name": "SliderStyleModel",
      "state": {
       "description_width": ""
      }
     },
     "867112fb2d844008a706f553fac254b0": {
      "model_module": "@jupyter-widgets/base",
      "model_module_version": "1.0.0",
      "model_name": "LayoutModel",
      "state": {}
     },
     "867979740107429fb03bf61a51e79dda": {
      "model_module": "@jupyter-widgets/base",
      "model_module_version": "1.0.0",
      "model_name": "LayoutModel",
      "state": {}
     },
     "87777f7324154fce8f0c07243ca62a22": {
      "model_module": "@jupyter-widgets/base",
      "model_module_version": "1.0.0",
      "model_name": "LayoutModel",
      "state": {}
     },
     "88686502ee3f44659f78293536e52f5a": {
      "model_module": "@jupyter-widgets/controls",
      "model_module_version": "1.2.0",
      "model_name": "SliderStyleModel",
      "state": {
       "description_width": ""
      }
     },
     "8925e6c96c0b45d887263d9fe1d42755": {
      "model_module": "@jupyter-widgets/base",
      "model_module_version": "1.0.0",
      "model_name": "LayoutModel",
      "state": {}
     },
     "8b1e07d9f15a4d35bcad352729694b9e": {
      "model_module": "@jupyter-widgets/controls",
      "model_module_version": "1.2.0",
      "model_name": "IntSliderModel",
      "state": {
       "description": "d",
       "layout": "IPY_MODEL_469996c5682046eca09a811e027689ad",
       "max": 500,
       "min": -500,
       "style": "IPY_MODEL_545c6492791640bebc05a32769d3f1b3",
       "value": 1
      }
     },
     "8ba73f00a169457287e7c6d61016fb77": {
      "model_module": "@jupyter-widgets/controls",
      "model_module_version": "1.2.0",
      "model_name": "VBoxModel",
      "state": {
       "_dom_classes": [
        "widget-interact"
       ],
       "children": [
        "IPY_MODEL_75149bd5f9df4b24bebeba07baf4fd0f",
        "IPY_MODEL_a4615c7132624221843e177239f3a55a"
       ],
       "layout": "IPY_MODEL_41992c51316b44c39b8027dee885bd2c"
      }
     },
     "8c40594ec6b14213a57f828f332275ad": {
      "model_module": "@jupyter-widgets/base",
      "model_module_version": "1.0.0",
      "model_name": "LayoutModel",
      "state": {}
     },
     "8c40662685a843d58157f52e2bea5de5": {
      "model_module": "@jupyter-widgets/controls",
      "model_module_version": "1.2.0",
      "model_name": "IntSliderModel",
      "state": {
       "description": "e",
       "layout": "IPY_MODEL_84949c74d4be4da88b4c0d9a896f3241",
       "max": 500,
       "min": -500,
       "style": "IPY_MODEL_2abe5acb0333415e806d7e5a760710ca",
       "value": -4
      }
     },
     "8c5ff9def228417780eeeae659583fb5": {
      "model_module": "@jupyter-widgets/controls",
      "model_module_version": "1.2.0",
      "model_name": "IntSliderModel",
      "state": {
       "description": "e",
       "layout": "IPY_MODEL_13be72b26a0544d2a77d446d27f8a5b6",
       "max": 500,
       "min": -500,
       "style": "IPY_MODEL_bb67edc68bd540a780132467e6327c1a",
       "value": 1
      }
     },
     "8c849d143503457b9c60c3d674a65961": {
      "model_module": "@jupyter-widgets/controls",
      "model_module_version": "1.2.0",
      "model_name": "SliderStyleModel",
      "state": {
       "description_width": ""
      }
     },
     "8ce619c5d92a4bd5b1c2235cb24fbc4c": {
      "model_module": "@jupyter-widgets/base",
      "model_module_version": "1.0.0",
      "model_name": "LayoutModel",
      "state": {}
     },
     "8e5027b34b254b6d876272d432ad5eb6": {
      "model_module": "@jupyter-widgets/base",
      "model_module_version": "1.0.0",
      "model_name": "LayoutModel",
      "state": {}
     },
     "8e623ca38492461595d228a2736b36ba": {
      "model_module": "@jupyter-widgets/output",
      "model_module_version": "1.0.0",
      "model_name": "OutputModel",
      "state": {
       "layout": "IPY_MODEL_03b67890bdf94467ae02fb097869b454"
      }
     },
     "8e9bd34a71f04b6cb0567a31b3b045cf": {
      "model_module": "@jupyter-widgets/controls",
      "model_module_version": "1.2.0",
      "model_name": "VBoxModel",
      "state": {
       "_dom_classes": [
        "widget-interact"
       ],
       "children": [
        "IPY_MODEL_97ad824e7ecb40dcae75a6152f443ee5",
        "IPY_MODEL_8fdc6f3ffc7e48ff8593be882a069cf8"
       ],
       "layout": "IPY_MODEL_223a82f5802b40dba8ff0cd2df5441a7"
      }
     },
     "8ed16635be4640c1b0e2e4ae8cb30419": {
      "model_module": "@jupyter-widgets/base",
      "model_module_version": "1.0.0",
      "model_name": "LayoutModel",
      "state": {}
     },
     "8fcd453604db4001867f0234a2ce374e": {
      "model_module": "@jupyter-widgets/controls",
      "model_module_version": "1.2.0",
      "model_name": "VBoxModel",
      "state": {
       "_dom_classes": [
        "widget-interact"
       ],
       "children": [
        "IPY_MODEL_20f5e5fbe312467d970a3d1b5af878f1",
        "IPY_MODEL_6889fa8c586c417984195d60ef6ba5a2"
       ],
       "layout": "IPY_MODEL_d31538b8a6294078a7029e1f869e0492"
      }
     },
     "8fdc6f3ffc7e48ff8593be882a069cf8": {
      "model_module": "@jupyter-widgets/output",
      "model_module_version": "1.0.0",
      "model_name": "OutputModel",
      "state": {
       "layout": "IPY_MODEL_e97dfb3719614ddf9b3e963fc95d4020"
      }
     },
     "90043809c9e24e03b6ba0b84cd04e6ed": {
      "model_module": "@jupyter-widgets/controls",
      "model_module_version": "1.2.0",
      "model_name": "SliderStyleModel",
      "state": {
       "description_width": ""
      }
     },
     "9056224dca9147a3a36ca2f1791e3081": {
      "model_module": "@jupyter-widgets/base",
      "model_module_version": "1.0.0",
      "model_name": "LayoutModel",
      "state": {}
     },
     "90f3cf7e68f84a9cb82c858f58370599": {
      "model_module": "@jupyter-widgets/base",
      "model_module_version": "1.0.0",
      "model_name": "LayoutModel",
      "state": {}
     },
     "9131520b91584aaeaa532f4e098b9d8a": {
      "model_module": "@jupyter-widgets/base",
      "model_module_version": "1.0.0",
      "model_name": "LayoutModel",
      "state": {}
     },
     "91c52be041ef4382b84e7c866db70829": {
      "model_module": "@jupyter-widgets/base",
      "model_module_version": "1.0.0",
      "model_name": "LayoutModel",
      "state": {}
     },
     "92b5bc4d96d64f16b686fac03e6c6939": {
      "model_module": "@jupyter-widgets/controls",
      "model_module_version": "1.2.0",
      "model_name": "SliderStyleModel",
      "state": {
       "description_width": ""
      }
     },
     "9373955230f5474c89419a7ff4799b1e": {
      "model_module": "@jupyter-widgets/controls",
      "model_module_version": "1.2.0",
      "model_name": "IntSliderModel",
      "state": {
       "description": "c",
       "layout": "IPY_MODEL_8c40594ec6b14213a57f828f332275ad",
       "max": 500,
       "min": -500,
       "style": "IPY_MODEL_7c1ef0e52d8647e3aad34bf79f80241a",
       "value": 1
      }
     },
     "9559ee2e95aa43a096905b8f61b9f600": {
      "model_module": "@jupyter-widgets/controls",
      "model_module_version": "1.2.0",
      "model_name": "SliderStyleModel",
      "state": {
       "description_width": ""
      }
     },
     "95706a489e8e4af898070a7b67592986": {
      "model_module": "@jupyter-widgets/controls",
      "model_module_version": "1.2.0",
      "model_name": "IntSliderModel",
      "state": {
       "description": "d",
       "layout": "IPY_MODEL_d14fefab7e7b4d3d86b07bcb00d755ee",
       "max": 500,
       "min": -500,
       "style": "IPY_MODEL_20ef44c8c8a74ad18774cd16f678d181",
       "value": 118
      }
     },
     "95bc1d24ae4a4c43a0375a735f1c1d9f": {
      "model_module": "@jupyter-widgets/controls",
      "model_module_version": "1.2.0",
      "model_name": "VBoxModel",
      "state": {
       "_dom_classes": [
        "widget-interact"
       ],
       "children": [
        "IPY_MODEL_b305b4542773414594f3fd763fd3e56d",
        "IPY_MODEL_bcd7e1eae3384f219b53d25a606af751"
       ],
       "layout": "IPY_MODEL_fd1adac635904d4da13ac45f20abe0e7"
      }
     },
     "9605a3bd06c9431285d18a777627569f": {
      "model_module": "@jupyter-widgets/base",
      "model_module_version": "1.0.0",
      "model_name": "LayoutModel",
      "state": {}
     },
     "96af38874ce644c2850b5d9056d87e82": {
      "model_module": "@jupyter-widgets/output",
      "model_module_version": "1.0.0",
      "model_name": "OutputModel",
      "state": {
       "layout": "IPY_MODEL_1bc75d5a850e425bbf09ae6b691cc59c"
      }
     },
     "96f4b3aef2bd447a982c1a6a42cf7949": {
      "model_module": "@jupyter-widgets/controls",
      "model_module_version": "1.2.0",
      "model_name": "SliderStyleModel",
      "state": {
       "description_width": ""
      }
     },
     "97013e7b8a5e4504bb9bbbee0d942d1c": {
      "model_module": "@jupyter-widgets/controls",
      "model_module_version": "1.2.0",
      "model_name": "VBoxModel",
      "state": {
       "_dom_classes": [
        "widget-interact"
       ],
       "children": [
        "IPY_MODEL_b4bd71c71817426c94fdf29f6a77889b",
        "IPY_MODEL_aa1b452811874d929c3736f0f0100e1c"
       ],
       "layout": "IPY_MODEL_e69e7d2f1ad248cbb8c9ba5732682f60"
      }
     },
     "975f2fa9a71444c8a980198392ad6f9e": {
      "model_module": "@jupyter-widgets/controls",
      "model_module_version": "1.2.0",
      "model_name": "SliderStyleModel",
      "state": {
       "description_width": ""
      }
     },
     "977d2313efbb4306a03e96b542f6e1c9": {
      "model_module": "@jupyter-widgets/controls",
      "model_module_version": "1.2.0",
      "model_name": "VBoxModel",
      "state": {
       "_dom_classes": [
        "widget-interact"
       ],
       "children": [
        "IPY_MODEL_8c5ff9def228417780eeeae659583fb5",
        "IPY_MODEL_7876558a400148fe845153191cfe2736"
       ],
       "layout": "IPY_MODEL_b191149286e4499b90bf5c6540abbd1a"
      }
     },
     "97a8888ebc7d41b385b10806b78911c7": {
      "model_module": "@jupyter-widgets/output",
      "model_module_version": "1.0.0",
      "model_name": "OutputModel",
      "state": {
       "layout": "IPY_MODEL_fa3c0b08017349a7b4c258ee601a67c8"
      }
     },
     "97ad824e7ecb40dcae75a6152f443ee5": {
      "model_module": "@jupyter-widgets/controls",
      "model_module_version": "1.2.0",
      "model_name": "IntSliderModel",
      "state": {
       "description": "c",
       "layout": "IPY_MODEL_f80005ecb6dd441aabda2a1e9ea89a8b",
       "max": 500,
       "min": -500,
       "style": "IPY_MODEL_f08d4c6ac7a841398bdb8a8682c8460a",
       "value": 36
      }
     },
     "9854a3cb77ea4364ad36f7aa66c823a4": {
      "model_module": "@jupyter-widgets/base",
      "model_module_version": "1.0.0",
      "model_name": "LayoutModel",
      "state": {}
     },
     "98b5f880934146638b22b80da5785b81": {
      "model_module": "@jupyter-widgets/output",
      "model_module_version": "1.0.0",
      "model_name": "OutputModel",
      "state": {
       "layout": "IPY_MODEL_0cd542174c56436db9d6e9edc78e7591"
      }
     },
     "98e31bb4f3de4099826099f3b92de139": {
      "model_module": "@jupyter-widgets/output",
      "model_module_version": "1.0.0",
      "model_name": "OutputModel",
      "state": {
       "layout": "IPY_MODEL_9d2a347a32d94b02b7ea4a284c8f3417"
      }
     },
     "9a2c3679bffe43fbad61ea3e20982aa4": {
      "model_module": "@jupyter-widgets/base",
      "model_module_version": "1.0.0",
      "model_name": "LayoutModel",
      "state": {}
     },
     "9ab50eff392d44e1a1326cc06441e461": {
      "model_module": "@jupyter-widgets/output",
      "model_module_version": "1.0.0",
      "model_name": "OutputModel",
      "state": {
       "layout": "IPY_MODEL_f9d8b5574ba045bc985d8305a30c71f9"
      }
     },
     "9b8eef046c684f1bb695ab9e56d1bd3c": {
      "model_module": "@jupyter-widgets/controls",
      "model_module_version": "1.2.0",
      "model_name": "IntSliderModel",
      "state": {
       "description": "e",
       "layout": "IPY_MODEL_c36ce5c398e34f70ae544184d0fb982e",
       "max": 500,
       "min": -500,
       "style": "IPY_MODEL_1b30451bd06f453ca7a8eed5a179ff2c",
       "value": -1
      }
     },
     "9d2a347a32d94b02b7ea4a284c8f3417": {
      "model_module": "@jupyter-widgets/base",
      "model_module_version": "1.0.0",
      "model_name": "LayoutModel",
      "state": {}
     },
     "9e48fe642a024dd6908a56b0ed494105": {
      "model_module": "@jupyter-widgets/base",
      "model_module_version": "1.0.0",
      "model_name": "LayoutModel",
      "state": {}
     },
     "9e666fe22e294907830c00f69de47ce2": {
      "model_module": "@jupyter-widgets/controls",
      "model_module_version": "1.2.0",
      "model_name": "SliderStyleModel",
      "state": {
       "description_width": ""
      }
     },
     "9f1df92212b541148693a3105516d1a4": {
      "model_module": "@jupyter-widgets/base",
      "model_module_version": "1.0.0",
      "model_name": "LayoutModel",
      "state": {}
     },
     "9f771daa37754cf2bfe6030bb90ce702": {
      "model_module": "@jupyter-widgets/output",
      "model_module_version": "1.0.0",
      "model_name": "OutputModel",
      "state": {
       "layout": "IPY_MODEL_f53a0d81be1d4c37bf0062ef92654ae0"
      }
     },
     "a08ad471d9ab4499998d9f02b7c77f43": {
      "model_module": "@jupyter-widgets/controls",
      "model_module_version": "1.2.0",
      "model_name": "IntSliderModel",
      "state": {
       "description": "c",
       "layout": "IPY_MODEL_9e48fe642a024dd6908a56b0ed494105",
       "max": 500,
       "min": -500,
       "style": "IPY_MODEL_63c175bd09ef49c2a78878304f88389a",
       "value": 190
      }
     },
     "a08d91265c434a0d82279eb4ca33459a": {
      "model_module": "@jupyter-widgets/output",
      "model_module_version": "1.0.0",
      "model_name": "OutputModel",
      "state": {
       "layout": "IPY_MODEL_87777f7324154fce8f0c07243ca62a22"
      }
     },
     "a0ddba8d49c049eca593ba9264842187": {
      "model_module": "@jupyter-widgets/controls",
      "model_module_version": "1.2.0",
      "model_name": "IntSliderModel",
      "state": {
       "description": "c",
       "layout": "IPY_MODEL_c5f88eb54c2444bb87fb86fb9b60bee7",
       "max": 500,
       "min": -500,
       "style": "IPY_MODEL_3526f43d71184faa85b07d4f93b85d4e",
       "value": 1
      }
     },
     "a1aeeaa4e5a84fec9af0bf8dc81228c8": {
      "model_module": "@jupyter-widgets/base",
      "model_module_version": "1.0.0",
      "model_name": "LayoutModel",
      "state": {}
     },
     "a40bff1c5afe4ba9abd413376e489c03": {
      "model_module": "@jupyter-widgets/controls",
      "model_module_version": "1.2.0",
      "model_name": "SliderStyleModel",
      "state": {
       "description_width": ""
      }
     },
     "a4615c7132624221843e177239f3a55a": {
      "model_module": "@jupyter-widgets/output",
      "model_module_version": "1.0.0",
      "model_name": "OutputModel",
      "state": {
       "layout": "IPY_MODEL_ddf33035b6a34bdaaed0046289ee446f"
      }
     },
     "a46fd4e3d39a4f8797ed606bde3f1635": {
      "model_module": "@jupyter-widgets/base",
      "model_module_version": "1.0.0",
      "model_name": "LayoutModel",
      "state": {}
     },
     "a512622a154f4b3c97f64b207afcaf09": {
      "model_module": "@jupyter-widgets/controls",
      "model_module_version": "1.2.0",
      "model_name": "VBoxModel",
      "state": {
       "_dom_classes": [
        "widget-interact"
       ],
       "children": [
        "IPY_MODEL_c8efd2d24fd44ac68e6a149403ccd27f",
        "IPY_MODEL_e05d4f60cd914f16bcc6614b6fd81bfa"
       ],
       "layout": "IPY_MODEL_d7e5ceb1c7c04effa9bd85cae960656d"
      }
     },
     "a6c7480757a243cb924eda8de038e325": {
      "model_module": "@jupyter-widgets/output",
      "model_module_version": "1.0.0",
      "model_name": "OutputModel",
      "state": {
       "layout": "IPY_MODEL_ba265feaf16d4f3fb1156b272861de1a"
      }
     },
     "a80f9eafb38d43ebb96138dbd8844ac7": {
      "model_module": "@jupyter-widgets/base",
      "model_module_version": "1.0.0",
      "model_name": "LayoutModel",
      "state": {}
     },
     "a888f983ae6c49a4ac1a685a6bc958f5": {
      "model_module": "@jupyter-widgets/output",
      "model_module_version": "1.0.0",
      "model_name": "OutputModel",
      "state": {
       "layout": "IPY_MODEL_453d9c6e9ceb41b18c313d476314ede1"
      }
     },
     "a9208793593a4988ba8053883acc7301": {
      "model_module": "@jupyter-widgets/output",
      "model_module_version": "1.0.0",
      "model_name": "OutputModel",
      "state": {
       "layout": "IPY_MODEL_50ca13a41b6d4b32a95368c99b56bc1b"
      }
     },
     "a97dacad52db46b7b16b6ff6edd606c5": {
      "model_module": "@jupyter-widgets/base",
      "model_module_version": "1.0.0",
      "model_name": "LayoutModel",
      "state": {}
     },
     "aa1b452811874d929c3736f0f0100e1c": {
      "model_module": "@jupyter-widgets/output",
      "model_module_version": "1.0.0",
      "model_name": "OutputModel",
      "state": {
       "layout": "IPY_MODEL_fde04b2083e640df908cf12b5a621ece"
      }
     },
     "aaad31a5f4194c608c09865486f985ab": {
      "model_module": "@jupyter-widgets/controls",
      "model_module_version": "1.2.0",
      "model_name": "SliderStyleModel",
      "state": {
       "description_width": ""
      }
     },
     "abcb26ee1a544d668b52682fa0ea567c": {
      "model_module": "@jupyter-widgets/output",
      "model_module_version": "1.0.0",
      "model_name": "OutputModel",
      "state": {
       "layout": "IPY_MODEL_a1aeeaa4e5a84fec9af0bf8dc81228c8"
      }
     },
     "abe94cba84d6400594a1895b1f8e378e": {
      "model_module": "@jupyter-widgets/base",
      "model_module_version": "1.0.0",
      "model_name": "LayoutModel",
      "state": {}
     },
     "adf534a84b1142869f9bc002daa8ff78": {
      "model_module": "@jupyter-widgets/base",
      "model_module_version": "1.0.0",
      "model_name": "LayoutModel",
      "state": {}
     },
     "ae042523baed420ca4d3ff76c12b6f9d": {
      "model_module": "@jupyter-widgets/controls",
      "model_module_version": "1.2.0",
      "model_name": "IntSliderModel",
      "state": {
       "description": "c",
       "layout": "IPY_MODEL_3403f409f3f245a2925948f1446410ee",
       "max": 500,
       "min": -500,
       "style": "IPY_MODEL_2d7a38aa7ad84d82aa1d257aeaa5ef0f",
       "value": 149
      }
     },
     "ae0f2e4090f549acb67cf1e46a5b5cd1": {
      "model_module": "@jupyter-widgets/base",
      "model_module_version": "1.0.0",
      "model_name": "LayoutModel",
      "state": {}
     },
     "ae40e4a1e34a45b5b4014b3397b041b2": {
      "model_module": "@jupyter-widgets/controls",
      "model_module_version": "1.2.0",
      "model_name": "IntSliderModel",
      "state": {
       "description": "e",
       "layout": "IPY_MODEL_3474913c2b064d68a483e5647faa9668",
       "max": 500,
       "min": -500,
       "style": "IPY_MODEL_06bc092a24d348d5b60c1ffee8a2226f",
       "value": 1
      }
     },
     "aeb46e667bbf4fae98e9c78688a128a6": {
      "model_module": "@jupyter-widgets/output",
      "model_module_version": "1.0.0",
      "model_name": "OutputModel",
      "state": {
       "layout": "IPY_MODEL_2196f9ac2506444fa08f3976ad9acba6"
      }
     },
     "aebe1156d20049f7885e3c089cb66242": {
      "model_module": "@jupyter-widgets/controls",
      "model_module_version": "1.2.0",
      "model_name": "SliderStyleModel",
      "state": {
       "description_width": ""
      }
     },
     "b0bbaed52ddc4a1796456ba115edb817": {
      "model_module": "@jupyter-widgets/controls",
      "model_module_version": "1.2.0",
      "model_name": "VBoxModel",
      "state": {
       "_dom_classes": [
        "widget-interact"
       ],
       "children": [
        "IPY_MODEL_c6958896745343fe9e150ee1ea9b955d",
        "IPY_MODEL_a888f983ae6c49a4ac1a685a6bc958f5"
       ],
       "layout": "IPY_MODEL_b5f670f27dd1489b8f03ed1af0fc6352"
      }
     },
     "b13cc44a8ddb4a278790341a57971efe": {
      "model_module": "@jupyter-widgets/base",
      "model_module_version": "1.0.0",
      "model_name": "LayoutModel",
      "state": {}
     },
     "b191149286e4499b90bf5c6540abbd1a": {
      "model_module": "@jupyter-widgets/base",
      "model_module_version": "1.0.0",
      "model_name": "LayoutModel",
      "state": {}
     },
     "b1a41d88ce57445c8df643f19bb36ad6": {
      "model_module": "@jupyter-widgets/controls",
      "model_module_version": "1.2.0",
      "model_name": "VBoxModel",
      "state": {
       "_dom_classes": [
        "widget-interact"
       ],
       "children": [
        "IPY_MODEL_8c40662685a843d58157f52e2bea5de5",
        "IPY_MODEL_aeb46e667bbf4fae98e9c78688a128a6"
       ],
       "layout": "IPY_MODEL_712661fc1a1a4db19d361bb52b2d0779"
      }
     },
     "b1cbb08d8cff4213a8bb3eaf1739f8bb": {
      "model_module": "@jupyter-widgets/base",
      "model_module_version": "1.0.0",
      "model_name": "LayoutModel",
      "state": {}
     },
     "b2ead9189fa34eef83ebbee987606987": {
      "model_module": "@jupyter-widgets/base",
      "model_module_version": "1.0.0",
      "model_name": "LayoutModel",
      "state": {}
     },
     "b305b4542773414594f3fd763fd3e56d": {
      "model_module": "@jupyter-widgets/controls",
      "model_module_version": "1.2.0",
      "model_name": "IntSliderModel",
      "state": {
       "description": "e",
       "layout": "IPY_MODEL_ed64eb67a62940ab819934a9d6af5d4e",
       "max": 500,
       "min": -500,
       "style": "IPY_MODEL_f929a5b582eb43ed879bfcd90c1dcfcf",
       "value": 231
      }
     },
     "b3c4e5e3c500482f8d1722fe000347a8": {
      "model_module": "@jupyter-widgets/controls",
      "model_module_version": "1.2.0",
      "model_name": "IntSliderModel",
      "state": {
       "description": "e",
       "layout": "IPY_MODEL_8ed16635be4640c1b0e2e4ae8cb30419",
       "max": 500,
       "min": -500,
       "style": "IPY_MODEL_50d69784e5304cfd94fc8b3e6a0ec59b",
       "value": -10
      }
     },
     "b4bd71c71817426c94fdf29f6a77889b": {
      "model_module": "@jupyter-widgets/controls",
      "model_module_version": "1.2.0",
      "model_name": "IntSliderModel",
      "state": {
       "description": "c",
       "layout": "IPY_MODEL_7005a469c5764551a6347363073f93fe",
       "max": 500,
       "min": -500,
       "style": "IPY_MODEL_004451182a5342cb9fbd6070d3c39159",
       "value": 1
      }
     },
     "b5f670f27dd1489b8f03ed1af0fc6352": {
      "model_module": "@jupyter-widgets/base",
      "model_module_version": "1.0.0",
      "model_name": "LayoutModel",
      "state": {}
     },
     "b653a9039638498d920b33da26ae2dd6": {
      "model_module": "@jupyter-widgets/output",
      "model_module_version": "1.0.0",
      "model_name": "OutputModel",
      "state": {
       "layout": "IPY_MODEL_ccc2dc8981304a8191361408a3e3f7b1"
      }
     },
     "b686d222cbdc4500bb7da5e9c1e7ed01": {
      "model_module": "@jupyter-widgets/controls",
      "model_module_version": "1.2.0",
      "model_name": "IntSliderModel",
      "state": {
       "description": "d",
       "layout": "IPY_MODEL_e0ec84250f5a476bb4741673d4d874c7",
       "max": 500,
       "min": -500,
       "style": "IPY_MODEL_d8b55ca14e314f6d9a1c54084a3e0ae5",
       "value": 1
      }
     },
     "b716545c88134877afa8f31977bd1892": {
      "model_module": "@jupyter-widgets/output",
      "model_module_version": "1.0.0",
      "model_name": "OutputModel",
      "state": {
       "layout": "IPY_MODEL_0a78019cfe5d40129663c14c171542f9"
      }
     },
     "b7212d9d1d854840aece80f93a087738": {
      "model_module": "@jupyter-widgets/controls",
      "model_module_version": "1.2.0",
      "model_name": "VBoxModel",
      "state": {
       "_dom_classes": [
        "widget-interact"
       ],
       "children": [
        "IPY_MODEL_5be430e6b093444c8175a187ff9484e3",
        "IPY_MODEL_692e3953759f451786a8685cf0407383"
       ],
       "layout": "IPY_MODEL_435b3181dd214a33b95de5e8fe5998c7"
      }
     },
     "b8b95295a97a4100acf04edbbe8f7436": {
      "model_module": "@jupyter-widgets/output",
      "model_module_version": "1.0.0",
      "model_name": "OutputModel",
      "state": {
       "layout": "IPY_MODEL_13655a655c484c3ba2391c9b3512ac86"
      }
     },
     "b914491239d64b48a2c9cbb8ef63a07f": {
      "model_module": "@jupyter-widgets/controls",
      "model_module_version": "1.2.0",
      "model_name": "VBoxModel",
      "state": {
       "_dom_classes": [
        "widget-interact"
       ],
       "children": [
        "IPY_MODEL_cea5d8d7665b431686999ad1e8854bf9",
        "IPY_MODEL_e36bb22df85c459d91bb53a33be523b9"
       ],
       "layout": "IPY_MODEL_807910d34fde4d7db06b4b12a806337b"
      }
     },
     "b9997fe3919d4ec4b127d25aeb921abb": {
      "model_module": "@jupyter-widgets/output",
      "model_module_version": "1.0.0",
      "model_name": "OutputModel",
      "state": {
       "layout": "IPY_MODEL_1732fa2eecd6456eb586d898c00c8c1c"
      }
     },
     "ba1423e4090645d691306483feeefb6c": {
      "model_module": "@jupyter-widgets/base",
      "model_module_version": "1.0.0",
      "model_name": "LayoutModel",
      "state": {}
     },
     "ba265feaf16d4f3fb1156b272861de1a": {
      "model_module": "@jupyter-widgets/base",
      "model_module_version": "1.0.0",
      "model_name": "LayoutModel",
      "state": {}
     },
     "ba77de4cf58245d9807796ee562d851e": {
      "model_module": "@jupyter-widgets/output",
      "model_module_version": "1.0.0",
      "model_name": "OutputModel",
      "state": {
       "layout": "IPY_MODEL_5494e4c1c206418dbeff8cb59df50ed5"
      }
     },
     "bb67edc68bd540a780132467e6327c1a": {
      "model_module": "@jupyter-widgets/controls",
      "model_module_version": "1.2.0",
      "model_name": "SliderStyleModel",
      "state": {
       "description_width": ""
      }
     },
     "bb8b9b56f2b84000b4e92ab3e69eec3f": {
      "model_module": "@jupyter-widgets/base",
      "model_module_version": "1.0.0",
      "model_name": "LayoutModel",
      "state": {}
     },
     "bb90bbf5676844f6bd6789c434304867": {
      "model_module": "@jupyter-widgets/base",
      "model_module_version": "1.0.0",
      "model_name": "LayoutModel",
      "state": {}
     },
     "bcd7e1eae3384f219b53d25a606af751": {
      "model_module": "@jupyter-widgets/output",
      "model_module_version": "1.0.0",
      "model_name": "OutputModel",
      "state": {
       "layout": "IPY_MODEL_3eee6dee7c834b01a223fa43962d855f"
      }
     },
     "bd300ac71eaa4877afd14e7a6ef2074b": {
      "model_module": "@jupyter-widgets/base",
      "model_module_version": "1.0.0",
      "model_name": "LayoutModel",
      "state": {}
     },
     "bd5c5e811f9c46f2bf96d63273c579db": {
      "model_module": "@jupyter-widgets/controls",
      "model_module_version": "1.2.0",
      "model_name": "IntSliderModel",
      "state": {
       "description": "c",
       "layout": "IPY_MODEL_0dbb8792e5494e248df5f67e803a08fd",
       "max": 500,
       "min": -500,
       "style": "IPY_MODEL_02d3a1fc429b4f9b80ef138dc0ba747b",
       "value": 1
      }
     },
     "bf347c90999b402d9d3909389fd38a75": {
      "model_module": "@jupyter-widgets/base",
      "model_module_version": "1.0.0",
      "model_name": "LayoutModel",
      "state": {}
     },
     "bf9e0da336d34755afe0794bd97c75f2": {
      "model_module": "@jupyter-widgets/controls",
      "model_module_version": "1.2.0",
      "model_name": "VBoxModel",
      "state": {
       "_dom_classes": [
        "widget-interact"
       ],
       "children": [
        "IPY_MODEL_ae40e4a1e34a45b5b4014b3397b041b2",
        "IPY_MODEL_c4310f074a304b30838a7b175921e0a4"
       ],
       "layout": "IPY_MODEL_c9e7ceaf0b374319b5d18964c86b045d"
      }
     },
     "bfd3754e235540dd936a316457b5bdca": {
      "model_module": "@jupyter-widgets/base",
      "model_module_version": "1.0.0",
      "model_name": "LayoutModel",
      "state": {}
     },
     "c0fc65fc6cd34b6589899d918de213ab": {
      "model_module": "@jupyter-widgets/base",
      "model_module_version": "1.0.0",
      "model_name": "LayoutModel",
      "state": {}
     },
     "c36ce5c398e34f70ae544184d0fb982e": {
      "model_module": "@jupyter-widgets/base",
      "model_module_version": "1.0.0",
      "model_name": "LayoutModel",
      "state": {}
     },
     "c385c7d4ec464b31983e6b0e32e126c8": {
      "model_module": "@jupyter-widgets/base",
      "model_module_version": "1.0.0",
      "model_name": "LayoutModel",
      "state": {}
     },
     "c3ccaad2c2d24a5fb11c2aa9e2d7e072": {
      "model_module": "@jupyter-widgets/controls",
      "model_module_version": "1.2.0",
      "model_name": "SliderStyleModel",
      "state": {
       "description_width": ""
      }
     },
     "c4310f074a304b30838a7b175921e0a4": {
      "model_module": "@jupyter-widgets/output",
      "model_module_version": "1.0.0",
      "model_name": "OutputModel",
      "state": {
       "layout": "IPY_MODEL_78bf059df41f42859aab83a4d034f0e0"
      }
     },
     "c47ada4010c648ca89e76a75462b8e71": {
      "model_module": "@jupyter-widgets/base",
      "model_module_version": "1.0.0",
      "model_name": "LayoutModel",
      "state": {}
     },
     "c4cf7c9797004bc2ac8f27068769286d": {
      "model_module": "@jupyter-widgets/controls",
      "model_module_version": "1.2.0",
      "model_name": "IntSliderModel",
      "state": {
       "description": "c",
       "layout": "IPY_MODEL_8360dd7cbbb144c4857a0181edfdb7e7",
       "max": 500,
       "min": -500,
       "style": "IPY_MODEL_11082665d5b442a3b1f32e2ac3630170",
       "value": -500
      }
     },
     "c5b2a4e38a924047951343f0d9bbcc34": {
      "model_module": "@jupyter-widgets/controls",
      "model_module_version": "1.2.0",
      "model_name": "SliderStyleModel",
      "state": {
       "description_width": ""
      }
     },
     "c5d0afa63601402cad572e54e58c3b49": {
      "model_module": "@jupyter-widgets/base",
      "model_module_version": "1.0.0",
      "model_name": "LayoutModel",
      "state": {}
     },
     "c5f88eb54c2444bb87fb86fb9b60bee7": {
      "model_module": "@jupyter-widgets/base",
      "model_module_version": "1.0.0",
      "model_name": "LayoutModel",
      "state": {}
     },
     "c5fb3ce46f544cc7b58aff59f9fd91ae": {
      "model_module": "@jupyter-widgets/controls",
      "model_module_version": "1.2.0",
      "model_name": "SliderStyleModel",
      "state": {
       "description_width": ""
      }
     },
     "c6958896745343fe9e150ee1ea9b955d": {
      "model_module": "@jupyter-widgets/controls",
      "model_module_version": "1.2.0",
      "model_name": "IntSliderModel",
      "state": {
       "description": "c",
       "layout": "IPY_MODEL_9131520b91584aaeaa532f4e098b9d8a",
       "max": 500,
       "min": -500,
       "style": "IPY_MODEL_f597cff1a8944382adfe00cf073b42a9",
       "value": 1
      }
     },
     "c7366668e6814cb08e967875f7223517": {
      "model_module": "@jupyter-widgets/base",
      "model_module_version": "1.0.0",
      "model_name": "LayoutModel",
      "state": {}
     },
     "c7f2f31ffc7649dbac9b58bb341eca42": {
      "model_module": "@jupyter-widgets/base",
      "model_module_version": "1.0.0",
      "model_name": "LayoutModel",
      "state": {}
     },
     "c8980670dc504230b5e9ad807f559828": {
      "model_module": "@jupyter-widgets/output",
      "model_module_version": "1.0.0",
      "model_name": "OutputModel",
      "state": {
       "layout": "IPY_MODEL_62dd3e8b2d9946b6930d90709cd80377"
      }
     },
     "c8efd2d24fd44ac68e6a149403ccd27f": {
      "model_module": "@jupyter-widgets/controls",
      "model_module_version": "1.2.0",
      "model_name": "IntSliderModel",
      "state": {
       "description": "c",
       "layout": "IPY_MODEL_1e6ab9b83ba5403fb0eec3c39062ab4e",
       "max": 500,
       "min": -500,
       "style": "IPY_MODEL_90043809c9e24e03b6ba0b84cd04e6ed",
       "value": 1
      }
     },
     "c9a08c8495694cdfae323f95d6b1a176": {
      "model_module": "@jupyter-widgets/base",
      "model_module_version": "1.0.0",
      "model_name": "LayoutModel",
      "state": {}
     },
     "c9e7ceaf0b374319b5d18964c86b045d": {
      "model_module": "@jupyter-widgets/base",
      "model_module_version": "1.0.0",
      "model_name": "LayoutModel",
      "state": {}
     },
     "cb4602f2ce964a3fa8f9b5ff603abf86": {
      "model_module": "@jupyter-widgets/output",
      "model_module_version": "1.0.0",
      "model_name": "OutputModel",
      "state": {
       "layout": "IPY_MODEL_bb90bbf5676844f6bd6789c434304867"
      }
     },
     "cb561d318b434ab5b2bbf48e4dcdb499": {
      "model_module": "@jupyter-widgets/base",
      "model_module_version": "1.0.0",
      "model_name": "LayoutModel",
      "state": {}
     },
     "cb57f40f25484ce58eeeb3190f182a33": {
      "model_module": "@jupyter-widgets/base",
      "model_module_version": "1.0.0",
      "model_name": "LayoutModel",
      "state": {}
     },
     "cbe01110c107466c972e49c0a482dad7": {
      "model_module": "@jupyter-widgets/controls",
      "model_module_version": "1.2.0",
      "model_name": "VBoxModel",
      "state": {
       "_dom_classes": [
        "widget-interact"
       ],
       "children": [
        "IPY_MODEL_9b8eef046c684f1bb695ab9e56d1bd3c",
        "IPY_MODEL_dd3bbd0328c44fb886b82d8aa3bdac7f"
       ],
       "layout": "IPY_MODEL_9605a3bd06c9431285d18a777627569f"
      }
     },
     "cc7748c2e27c4657862e9eced60e843c": {
      "model_module": "@jupyter-widgets/base",
      "model_module_version": "1.0.0",
      "model_name": "LayoutModel",
      "state": {}
     },
     "ccc2dc8981304a8191361408a3e3f7b1": {
      "model_module": "@jupyter-widgets/base",
      "model_module_version": "1.0.0",
      "model_name": "LayoutModel",
      "state": {}
     },
     "cdaa68c831a444c8ac8ee2b57b445c41": {
      "model_module": "@jupyter-widgets/controls",
      "model_module_version": "1.2.0",
      "model_name": "SliderStyleModel",
      "state": {
       "description_width": ""
      }
     },
     "cea5d8d7665b431686999ad1e8854bf9": {
      "model_module": "@jupyter-widgets/controls",
      "model_module_version": "1.2.0",
      "model_name": "IntSliderModel",
      "state": {
       "description": "c",
       "layout": "IPY_MODEL_b2ead9189fa34eef83ebbee987606987",
       "max": 500,
       "min": -500,
       "style": "IPY_MODEL_06290166b0224af9bfde4fa550568f13",
       "value": 1
      }
     },
     "d062a28e64304cca86c22011b8cf2175": {
      "model_module": "@jupyter-widgets/controls",
      "model_module_version": "1.2.0",
      "model_name": "SliderStyleModel",
      "state": {
       "description_width": ""
      }
     },
     "d067b6e09d2c46fcb911aa9bb4d840c5": {
      "model_module": "@jupyter-widgets/output",
      "model_module_version": "1.0.0",
      "model_name": "OutputModel",
      "state": {
       "layout": "IPY_MODEL_cb57f40f25484ce58eeeb3190f182a33"
      }
     },
     "d08a1b53dd784eef9049a9a3c72240e3": {
      "model_module": "@jupyter-widgets/base",
      "model_module_version": "1.0.0",
      "model_name": "LayoutModel",
      "state": {}
     },
     "d14fefab7e7b4d3d86b07bcb00d755ee": {
      "model_module": "@jupyter-widgets/base",
      "model_module_version": "1.0.0",
      "model_name": "LayoutModel",
      "state": {}
     },
     "d1502bc853084d2490539a839c78af45": {
      "model_module": "@jupyter-widgets/output",
      "model_module_version": "1.0.0",
      "model_name": "OutputModel",
      "state": {
       "layout": "IPY_MODEL_530ef84f44054048b4708d2241eef1e1"
      }
     },
     "d2bc150565fe45c98ce2a2f3d2bd01c8": {
      "model_module": "@jupyter-widgets/base",
      "model_module_version": "1.0.0",
      "model_name": "LayoutModel",
      "state": {}
     },
     "d31538b8a6294078a7029e1f869e0492": {
      "model_module": "@jupyter-widgets/base",
      "model_module_version": "1.0.0",
      "model_name": "LayoutModel",
      "state": {}
     },
     "d498624d82f44efa845f47700c2ffe0d": {
      "model_module": "@jupyter-widgets/controls",
      "model_module_version": "1.2.0",
      "model_name": "IntSliderModel",
      "state": {
       "description": "c",
       "layout": "IPY_MODEL_f0bd29ce43db4d9482e273e8006c28d9",
       "max": 500,
       "min": -500,
       "style": "IPY_MODEL_c5fb3ce46f544cc7b58aff59f9fd91ae",
       "value": -500
      }
     },
     "d5f7fd6728f34e4182a5e1513db928f7": {
      "model_module": "@jupyter-widgets/controls",
      "model_module_version": "1.2.0",
      "model_name": "VBoxModel",
      "state": {
       "_dom_classes": [
        "widget-interact"
       ],
       "children": [
        "IPY_MODEL_39a5bf05be8b493a891690b64eceeaa9",
        "IPY_MODEL_3ee4866cf1dc4b7d850908f55c40efae"
       ],
       "layout": "IPY_MODEL_1d21a591c4a740458a4618a8ef259aad"
      }
     },
     "d62c9b780e284b658b2aa241be46d7fa": {
      "model_module": "@jupyter-widgets/controls",
      "model_module_version": "1.2.0",
      "model_name": "SliderStyleModel",
      "state": {
       "description_width": ""
      }
     },
     "d6a1e8527eee42b1a2bb1ab70b1f9ca8": {
      "model_module": "@jupyter-widgets/controls",
      "model_module_version": "1.2.0",
      "model_name": "IntSliderModel",
      "state": {
       "description": "c",
       "layout": "IPY_MODEL_06ac35f87daf4d9db5288d81c8497040",
       "max": 500,
       "min": -500,
       "style": "IPY_MODEL_4f7edacf253748adabec70dc586aa201",
       "value": 301
      }
     },
     "d78a63a204be46aeb68cf347bc803338": {
      "model_module": "@jupyter-widgets/output",
      "model_module_version": "1.0.0",
      "model_name": "OutputModel",
      "state": {
       "layout": "IPY_MODEL_d2bc150565fe45c98ce2a2f3d2bd01c8"
      }
     },
     "d7e5ceb1c7c04effa9bd85cae960656d": {
      "model_module": "@jupyter-widgets/base",
      "model_module_version": "1.0.0",
      "model_name": "LayoutModel",
      "state": {}
     },
     "d8b55ca14e314f6d9a1c54084a3e0ae5": {
      "model_module": "@jupyter-widgets/controls",
      "model_module_version": "1.2.0",
      "model_name": "SliderStyleModel",
      "state": {
       "description_width": ""
      }
     },
     "d95fa98991574280a4294a8c4c9b7799": {
      "model_module": "@jupyter-widgets/base",
      "model_module_version": "1.0.0",
      "model_name": "LayoutModel",
      "state": {}
     },
     "da0a9f7c8be94e6a8aeb458febd3a404": {
      "model_module": "@jupyter-widgets/base",
      "model_module_version": "1.0.0",
      "model_name": "LayoutModel",
      "state": {}
     },
     "da59349cb85949b2947aa671214d8deb": {
      "model_module": "@jupyter-widgets/base",
      "model_module_version": "1.0.0",
      "model_name": "LayoutModel",
      "state": {}
     },
     "dd3bbd0328c44fb886b82d8aa3bdac7f": {
      "model_module": "@jupyter-widgets/output",
      "model_module_version": "1.0.0",
      "model_name": "OutputModel",
      "state": {
       "layout": "IPY_MODEL_246b2e79a4374e4ebab65e804576a961"
      }
     },
     "dd9fcb465e3f4e01bfa43886d0601662": {
      "model_module": "@jupyter-widgets/base",
      "model_module_version": "1.0.0",
      "model_name": "LayoutModel",
      "state": {}
     },
     "ddf33035b6a34bdaaed0046289ee446f": {
      "model_module": "@jupyter-widgets/base",
      "model_module_version": "1.0.0",
      "model_name": "LayoutModel",
      "state": {}
     },
     "df156b48645c4fc0b67d86531a9d4f67": {
      "model_module": "@jupyter-widgets/controls",
      "model_module_version": "1.2.0",
      "model_name": "VBoxModel",
      "state": {
       "_dom_classes": [
        "widget-interact"
       ],
       "children": [
        "IPY_MODEL_a0ddba8d49c049eca593ba9264842187",
        "IPY_MODEL_c8980670dc504230b5e9ad807f559828"
       ],
       "layout": "IPY_MODEL_66962f22f6a748b4951ba14630fc6e9a"
      }
     },
     "df62b0633e0249dab8f15c406e11253d": {
      "model_module": "@jupyter-widgets/controls",
      "model_module_version": "1.2.0",
      "model_name": "VBoxModel",
      "state": {
       "_dom_classes": [
        "widget-interact"
       ],
       "children": [
        "IPY_MODEL_06643c4ccfd8426694b579229bc4534f",
        "IPY_MODEL_f349263376d54535b6232d05211d6bd0"
       ],
       "layout": "IPY_MODEL_2fa1c4a055544c29ab10705f6e3a02b8"
      }
     },
     "dfb36728f313408c927d4561c7c5931a": {
      "model_module": "@jupyter-widgets/base",
      "model_module_version": "1.0.0",
      "model_name": "LayoutModel",
      "state": {}
     },
     "e05d4f60cd914f16bcc6614b6fd81bfa": {
      "model_module": "@jupyter-widgets/output",
      "model_module_version": "1.0.0",
      "model_name": "OutputModel",
      "state": {
       "layout": "IPY_MODEL_8ce619c5d92a4bd5b1c2235cb24fbc4c"
      }
     },
     "e0b317ceca13480aac4f106750715501": {
      "model_module": "@jupyter-widgets/controls",
      "model_module_version": "1.2.0",
      "model_name": "VBoxModel",
      "state": {
       "_dom_classes": [
        "widget-interact"
       ],
       "children": [
        "IPY_MODEL_02f8c93bf92a472a93c62ecbef1f941b",
        "IPY_MODEL_cb4602f2ce964a3fa8f9b5ff603abf86"
       ],
       "layout": "IPY_MODEL_25fde21880b2420e9075620583b2aeaf"
      }
     },
     "e0ec84250f5a476bb4741673d4d874c7": {
      "model_module": "@jupyter-widgets/base",
      "model_module_version": "1.0.0",
      "model_name": "LayoutModel",
      "state": {}
     },
     "e191f9c257cf440ea29cf06b8c843ee4": {
      "model_module": "@jupyter-widgets/output",
      "model_module_version": "1.0.0",
      "model_name": "OutputModel",
      "state": {
       "layout": "IPY_MODEL_bf347c90999b402d9d3909389fd38a75"
      }
     },
     "e1f5c8e296be426d8abe8d3a2ddaff5b": {
      "model_module": "@jupyter-widgets/output",
      "model_module_version": "1.0.0",
      "model_name": "OutputModel",
      "state": {
       "layout": "IPY_MODEL_162019b4350f48ea82f8b3f0f0f85077"
      }
     },
     "e21b1b68db3a4233bf551e77a0e5f506": {
      "model_module": "@jupyter-widgets/controls",
      "model_module_version": "1.2.0",
      "model_name": "VBoxModel",
      "state": {
       "_dom_classes": [
        "widget-interact"
       ],
       "children": [
        "IPY_MODEL_61772455e2104ef9b787bb6780eb170e",
        "IPY_MODEL_b8b95295a97a4100acf04edbbe8f7436"
       ],
       "layout": "IPY_MODEL_e66c74f0755540e38d13a498efc0c6ae"
      }
     },
     "e27b4fe199904ffd93e5a31f36d12ee0": {
      "model_module": "@jupyter-widgets/controls",
      "model_module_version": "1.2.0",
      "model_name": "IntSliderModel",
      "state": {
       "description": "e",
       "layout": "IPY_MODEL_e57360b561904b91b8293c8eebf1c393",
       "max": 500,
       "min": -500,
       "style": "IPY_MODEL_4e4cbe029f93421798b310066e0744c1",
       "value": 1
      }
     },
     "e36bb22df85c459d91bb53a33be523b9": {
      "model_module": "@jupyter-widgets/output",
      "model_module_version": "1.0.0",
      "model_name": "OutputModel",
      "state": {
       "layout": "IPY_MODEL_c9a08c8495694cdfae323f95d6b1a176"
      }
     },
     "e42387a1f479466ca6505ae9220aa308": {
      "model_module": "@jupyter-widgets/controls",
      "model_module_version": "1.2.0",
      "model_name": "VBoxModel",
      "state": {
       "_dom_classes": [
        "widget-interact"
       ],
       "children": [
        "IPY_MODEL_e27b4fe199904ffd93e5a31f36d12ee0",
        "IPY_MODEL_41bf871f9e384024b7d69638fe405550"
       ],
       "layout": "IPY_MODEL_bfd3754e235540dd936a316457b5bdca"
      }
     },
     "e4a9d677d5e64c459aace62ebc0bc8d6": {
      "model_module": "@jupyter-widgets/output",
      "model_module_version": "1.0.0",
      "model_name": "OutputModel",
      "state": {
       "layout": "IPY_MODEL_3f374b997ecf452ab6ff97121021c724"
      }
     },
     "e57360b561904b91b8293c8eebf1c393": {
      "model_module": "@jupyter-widgets/base",
      "model_module_version": "1.0.0",
      "model_name": "LayoutModel",
      "state": {}
     },
     "e5ff3947d6d04124b31295ed3ad663cb": {
      "model_module": "@jupyter-widgets/base",
      "model_module_version": "1.0.0",
      "model_name": "LayoutModel",
      "state": {}
     },
     "e61474f3f05444268eca059da9eb76ce": {
      "model_module": "@jupyter-widgets/controls",
      "model_module_version": "1.2.0",
      "model_name": "VBoxModel",
      "state": {
       "_dom_classes": [
        "widget-interact"
       ],
       "children": [
        "IPY_MODEL_a08ad471d9ab4499998d9f02b7c77f43",
        "IPY_MODEL_2dc0693ee845489c8b23f989be3ab5ad"
       ],
       "layout": "IPY_MODEL_64c47a6c0054445385e892a8d5daf0ef"
      }
     },
     "e65453d36c52497eb1055ad205ffd3e1": {
      "model_module": "@jupyter-widgets/base",
      "model_module_version": "1.0.0",
      "model_name": "LayoutModel",
      "state": {}
     },
     "e65aa72ceaa24938aedd38dc91d5bda0": {
      "model_module": "@jupyter-widgets/controls",
      "model_module_version": "1.2.0",
      "model_name": "SliderStyleModel",
      "state": {
       "description_width": ""
      }
     },
     "e66c74f0755540e38d13a498efc0c6ae": {
      "model_module": "@jupyter-widgets/base",
      "model_module_version": "1.0.0",
      "model_name": "LayoutModel",
      "state": {}
     },
     "e67e48dc2aaf4ead8bf4f93ba7eecfae": {
      "model_module": "@jupyter-widgets/controls",
      "model_module_version": "1.2.0",
      "model_name": "VBoxModel",
      "state": {
       "_dom_classes": [
        "widget-interact"
       ],
       "children": [
        "IPY_MODEL_d498624d82f44efa845f47700c2ffe0d",
        "IPY_MODEL_8e623ca38492461595d228a2736b36ba"
       ],
       "layout": "IPY_MODEL_dd9fcb465e3f4e01bfa43886d0601662"
      }
     },
     "e69e7d2f1ad248cbb8c9ba5732682f60": {
      "model_module": "@jupyter-widgets/base",
      "model_module_version": "1.0.0",
      "model_name": "LayoutModel",
      "state": {}
     },
     "e6a212c0aea247d2b21a310baf71f01c": {
      "model_module": "@jupyter-widgets/output",
      "model_module_version": "1.0.0",
      "model_name": "OutputModel",
      "state": {
       "layout": "IPY_MODEL_80d542319fe349b98f583ab1a3d01218"
      }
     },
     "e78927ee4f1b4491b36d8e96f7f3a6a8": {
      "model_module": "@jupyter-widgets/controls",
      "model_module_version": "1.2.0",
      "model_name": "VBoxModel",
      "state": {
       "_dom_classes": [
        "widget-interact"
       ],
       "children": [
        "IPY_MODEL_393ea25bf2aa4e5e90c5a3fd021bbd06",
        "IPY_MODEL_e4a9d677d5e64c459aace62ebc0bc8d6"
       ],
       "layout": "IPY_MODEL_d08a1b53dd784eef9049a9a3c72240e3"
      }
     },
     "e8ed4759912d44ac97872bc4d6cdeb7b": {
      "model_module": "@jupyter-widgets/output",
      "model_module_version": "1.0.0",
      "model_name": "OutputModel",
      "state": {
       "layout": "IPY_MODEL_9056224dca9147a3a36ca2f1791e3081"
      }
     },
     "e93b8369b2f84831bd89e979f2e89c24": {
      "model_module": "@jupyter-widgets/controls",
      "model_module_version": "1.2.0",
      "model_name": "VBoxModel",
      "state": {
       "_dom_classes": [
        "widget-interact"
       ],
       "children": [
        "IPY_MODEL_c4cf7c9797004bc2ac8f27068769286d",
        "IPY_MODEL_d78a63a204be46aeb68cf347bc803338"
       ],
       "layout": "IPY_MODEL_2597dcf8a2ba4b0e8d63fc2bb131079d"
      }
     },
     "e97dfb3719614ddf9b3e963fc95d4020": {
      "model_module": "@jupyter-widgets/base",
      "model_module_version": "1.0.0",
      "model_name": "LayoutModel",
      "state": {}
     },
     "e9d098d3d85642ffa08d259dc2834e93": {
      "model_module": "@jupyter-widgets/output",
      "model_module_version": "1.0.0",
      "model_name": "OutputModel",
      "state": {
       "layout": "IPY_MODEL_206940dc2d7b47559b3732cf535e3b8a"
      }
     },
     "eb98e5acf24745e88fd59f47966c1666": {
      "model_module": "@jupyter-widgets/controls",
      "model_module_version": "1.2.0",
      "model_name": "VBoxModel",
      "state": {
       "_dom_classes": [
        "widget-interact"
       ],
       "children": [
        "IPY_MODEL_2a6f862c85554c36b16130c114d193fe",
        "IPY_MODEL_e1f5c8e296be426d8abe8d3a2ddaff5b"
       ],
       "layout": "IPY_MODEL_da0a9f7c8be94e6a8aeb458febd3a404"
      }
     },
     "ec42ca33a8384c988eeda6d878698912": {
      "model_module": "@jupyter-widgets/controls",
      "model_module_version": "1.2.0",
      "model_name": "VBoxModel",
      "state": {
       "_dom_classes": [
        "widget-interact"
       ],
       "children": [
        "IPY_MODEL_f9abb6d1b35a4192ace0d4a3d49c1b8d",
        "IPY_MODEL_b653a9039638498d920b33da26ae2dd6"
       ],
       "layout": "IPY_MODEL_1a3d45c2ba05427ca6425064e52792ee"
      }
     },
     "ed64eb67a62940ab819934a9d6af5d4e": {
      "model_module": "@jupyter-widgets/base",
      "model_module_version": "1.0.0",
      "model_name": "LayoutModel",
      "state": {}
     },
     "ee94896624704b4eb8f490339a4cb78e": {
      "model_module": "@jupyter-widgets/output",
      "model_module_version": "1.0.0",
      "model_name": "OutputModel",
      "state": {
       "layout": "IPY_MODEL_6ab458410fc7468b8c516d44b476dcd0"
      }
     },
     "f08d4c6ac7a841398bdb8a8682c8460a": {
      "model_module": "@jupyter-widgets/controls",
      "model_module_version": "1.2.0",
      "model_name": "SliderStyleModel",
      "state": {
       "description_width": ""
      }
     },
     "f0b5eae1ab3f4797824774855bbedd0c": {
      "model_module": "@jupyter-widgets/base",
      "model_module_version": "1.0.0",
      "model_name": "LayoutModel",
      "state": {}
     },
     "f0bd29ce43db4d9482e273e8006c28d9": {
      "model_module": "@jupyter-widgets/base",
      "model_module_version": "1.0.0",
      "model_name": "LayoutModel",
      "state": {}
     },
     "f2a9b28c3df541379d7cbfe6aeb8a6e4": {
      "model_module": "@jupyter-widgets/controls",
      "model_module_version": "1.2.0",
      "model_name": "SliderStyleModel",
      "state": {
       "description_width": ""
      }
     },
     "f349263376d54535b6232d05211d6bd0": {
      "model_module": "@jupyter-widgets/output",
      "model_module_version": "1.0.0",
      "model_name": "OutputModel",
      "state": {
       "layout": "IPY_MODEL_c47ada4010c648ca89e76a75462b8e71"
      }
     },
     "f3f3e6dcda7b4a8e9062ca77026319c0": {
      "model_module": "@jupyter-widgets/controls",
      "model_module_version": "1.2.0",
      "model_name": "SliderStyleModel",
      "state": {
       "description_width": ""
      }
     },
     "f45a946715684fcbb53183d36a2df17b": {
      "model_module": "@jupyter-widgets/controls",
      "model_module_version": "1.2.0",
      "model_name": "SliderStyleModel",
      "state": {
       "description_width": ""
      }
     },
     "f53a0d81be1d4c37bf0062ef92654ae0": {
      "model_module": "@jupyter-widgets/base",
      "model_module_version": "1.0.0",
      "model_name": "LayoutModel",
      "state": {}
     },
     "f597cff1a8944382adfe00cf073b42a9": {
      "model_module": "@jupyter-widgets/controls",
      "model_module_version": "1.2.0",
      "model_name": "SliderStyleModel",
      "state": {
       "description_width": ""
      }
     },
     "f80005ecb6dd441aabda2a1e9ea89a8b": {
      "model_module": "@jupyter-widgets/base",
      "model_module_version": "1.0.0",
      "model_name": "LayoutModel",
      "state": {}
     },
     "f804b2c94ea84b9ba4cca23124f0a3af": {
      "model_module": "@jupyter-widgets/controls",
      "model_module_version": "1.2.0",
      "model_name": "IntSliderModel",
      "state": {
       "description": "c",
       "layout": "IPY_MODEL_172af993adff44a7b1bb781d558df610",
       "max": 500,
       "min": -500,
       "style": "IPY_MODEL_92b5bc4d96d64f16b686fac03e6c6939",
       "value": 1
      }
     },
     "f89b5c6328bd4965ac905edc027fc09a": {
      "model_module": "@jupyter-widgets/base",
      "model_module_version": "1.0.0",
      "model_name": "LayoutModel",
      "state": {}
     },
     "f929a5b582eb43ed879bfcd90c1dcfcf": {
      "model_module": "@jupyter-widgets/controls",
      "model_module_version": "1.2.0",
      "model_name": "SliderStyleModel",
      "state": {
       "description_width": ""
      }
     },
     "f9abb6d1b35a4192ace0d4a3d49c1b8d": {
      "model_module": "@jupyter-widgets/controls",
      "model_module_version": "1.2.0",
      "model_name": "IntSliderModel",
      "state": {
       "description": "c",
       "layout": "IPY_MODEL_c5d0afa63601402cad572e54e58c3b49",
       "max": 500,
       "min": -500,
       "style": "IPY_MODEL_4a97e0939c9245ff8a2ad0862df8d3f6",
       "value": 1
      }
     },
     "f9d8b5574ba045bc985d8305a30c71f9": {
      "model_module": "@jupyter-widgets/base",
      "model_module_version": "1.0.0",
      "model_name": "LayoutModel",
      "state": {}
     },
     "fa3c0b08017349a7b4c258ee601a67c8": {
      "model_module": "@jupyter-widgets/base",
      "model_module_version": "1.0.0",
      "model_name": "LayoutModel",
      "state": {}
     },
     "fb44f25c7bc141b4bdb811ca27c4e02d": {
      "model_module": "@jupyter-widgets/controls",
      "model_module_version": "1.2.0",
      "model_name": "VBoxModel",
      "state": {
       "_dom_classes": [
        "widget-interact"
       ],
       "children": [
        "IPY_MODEL_95706a489e8e4af898070a7b67592986",
        "IPY_MODEL_98b5f880934146638b22b80da5785b81"
       ],
       "layout": "IPY_MODEL_73652e700d6b48509774240463507ccc"
      }
     },
     "fbac4641bc8c4ff38098a34ff490afda": {
      "model_module": "@jupyter-widgets/controls",
      "model_module_version": "1.2.0",
      "model_name": "SliderStyleModel",
      "state": {
       "description_width": ""
      }
     },
     "fc6cc5c8e6594727a32eb68100d35cc5": {
      "model_module": "@jupyter-widgets/base",
      "model_module_version": "1.0.0",
      "model_name": "LayoutModel",
      "state": {}
     },
     "fd1adac635904d4da13ac45f20abe0e7": {
      "model_module": "@jupyter-widgets/base",
      "model_module_version": "1.0.0",
      "model_name": "LayoutModel",
      "state": {}
     },
     "fd5b9ffbd94449b59627ce67cd20e36d": {
      "model_module": "@jupyter-widgets/controls",
      "model_module_version": "1.2.0",
      "model_name": "VBoxModel",
      "state": {
       "_dom_classes": [
        "widget-interact"
       ],
       "children": [
        "IPY_MODEL_07ec4671bbcc423c999397b292e5986c",
        "IPY_MODEL_97a8888ebc7d41b385b10806b78911c7"
       ],
       "layout": "IPY_MODEL_6ed637d1ff074f0581fce204fb03e651"
      }
     },
     "fde04b2083e640df908cf12b5a621ece": {
      "model_module": "@jupyter-widgets/base",
      "model_module_version": "1.0.0",
      "model_name": "LayoutModel",
      "state": {}
     },
     "fea023dd3a684feb9ca2305c56f5cc9b": {
      "model_module": "@jupyter-widgets/base",
      "model_module_version": "1.0.0",
      "model_name": "LayoutModel",
      "state": {}
     },
     "ff201d584a5440f08f839afe2a3b4529": {
      "model_module": "@jupyter-widgets/controls",
      "model_module_version": "1.2.0",
      "model_name": "VBoxModel",
      "state": {
       "_dom_classes": [
        "widget-interact"
       ],
       "children": [
        "IPY_MODEL_123a1ec2917b4d68aff089419564a391",
        "IPY_MODEL_ba77de4cf58245d9807796ee562d851e"
       ],
       "layout": "IPY_MODEL_d95fa98991574280a4294a8c4c9b7799"
      }
     },
     "fff1452423994d7f9525076f91e558e0": {
      "model_module": "@jupyter-widgets/controls",
      "model_module_version": "1.2.0",
      "model_name": "IntSliderModel",
      "state": {
       "description": "c",
       "layout": "IPY_MODEL_3b55dcee58354b479dc90c2ab13c9ff3",
       "max": 500,
       "min": -500,
       "style": "IPY_MODEL_16111f549c9244f7b129d0995f98cf01",
       "value": 1
      }
     }
    },
    "version_major": 2,
    "version_minor": 0
   }
  }
 },
 "nbformat": 4,
 "nbformat_minor": 2
}
