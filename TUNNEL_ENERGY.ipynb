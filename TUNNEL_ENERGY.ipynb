{
 "cells": [
  {
   "cell_type": "markdown",
   "metadata": {},
   "source": [
    "# Горбатый потенциал"
   ]
  },
  {
   "cell_type": "markdown",
   "metadata": {},
   "source": [
    "Мы будем искать решения стационарного уравнения Шрёдингера следующего вида:\n",
    "$$(-\\frac {d^2} {dx^2}  + \\frac {c} {cosh(x)} - \\frac {c} {cosh(a)} ) \\psi = k \\cdot \\psi $$\n",
    "С нулевыми граничными условиями при $|x|=a=1$"
   ]
  },
  {
   "cell_type": "code",
   "execution_count": 11,
   "metadata": {},
   "outputs": [
    {
     "data": {
      "application/javascript": [
       "/* Put everything inside the global mpl namespace */\n",
       "window.mpl = {};\n",
       "\n",
       "\n",
       "mpl.get_websocket_type = function() {\n",
       "    if (typeof(WebSocket) !== 'undefined') {\n",
       "        return WebSocket;\n",
       "    } else if (typeof(MozWebSocket) !== 'undefined') {\n",
       "        return MozWebSocket;\n",
       "    } else {\n",
       "        alert('Your browser does not have WebSocket support.' +\n",
       "              'Please try Chrome, Safari or Firefox ≥ 6. ' +\n",
       "              'Firefox 4 and 5 are also supported but you ' +\n",
       "              'have to enable WebSockets in about:config.');\n",
       "    };\n",
       "}\n",
       "\n",
       "mpl.figure = function(figure_id, websocket, ondownload, parent_element) {\n",
       "    this.id = figure_id;\n",
       "\n",
       "    this.ws = websocket;\n",
       "\n",
       "    this.supports_binary = (this.ws.binaryType != undefined);\n",
       "\n",
       "    if (!this.supports_binary) {\n",
       "        var warnings = document.getElementById(\"mpl-warnings\");\n",
       "        if (warnings) {\n",
       "            warnings.style.display = 'block';\n",
       "            warnings.textContent = (\n",
       "                \"This browser does not support binary websocket messages. \" +\n",
       "                    \"Performance may be slow.\");\n",
       "        }\n",
       "    }\n",
       "\n",
       "    this.imageObj = new Image();\n",
       "\n",
       "    this.context = undefined;\n",
       "    this.message = undefined;\n",
       "    this.canvas = undefined;\n",
       "    this.rubberband_canvas = undefined;\n",
       "    this.rubberband_context = undefined;\n",
       "    this.format_dropdown = undefined;\n",
       "\n",
       "    this.image_mode = 'full';\n",
       "\n",
       "    this.root = $('<div/>');\n",
       "    this._root_extra_style(this.root)\n",
       "    this.root.attr('style', 'display: inline-block');\n",
       "\n",
       "    $(parent_element).append(this.root);\n",
       "\n",
       "    this._init_header(this);\n",
       "    this._init_canvas(this);\n",
       "    this._init_toolbar(this);\n",
       "\n",
       "    var fig = this;\n",
       "\n",
       "    this.waiting = false;\n",
       "\n",
       "    this.ws.onopen =  function () {\n",
       "            fig.send_message(\"supports_binary\", {value: fig.supports_binary});\n",
       "            fig.send_message(\"send_image_mode\", {});\n",
       "            if (mpl.ratio != 1) {\n",
       "                fig.send_message(\"set_dpi_ratio\", {'dpi_ratio': mpl.ratio});\n",
       "            }\n",
       "            fig.send_message(\"refresh\", {});\n",
       "        }\n",
       "\n",
       "    this.imageObj.onload = function() {\n",
       "            if (fig.image_mode == 'full') {\n",
       "                // Full images could contain transparency (where diff images\n",
       "                // almost always do), so we need to clear the canvas so that\n",
       "                // there is no ghosting.\n",
       "                fig.context.clearRect(0, 0, fig.canvas.width, fig.canvas.height);\n",
       "            }\n",
       "            fig.context.drawImage(fig.imageObj, 0, 0);\n",
       "        };\n",
       "\n",
       "    this.imageObj.onunload = function() {\n",
       "        fig.ws.close();\n",
       "    }\n",
       "\n",
       "    this.ws.onmessage = this._make_on_message_function(this);\n",
       "\n",
       "    this.ondownload = ondownload;\n",
       "}\n",
       "\n",
       "mpl.figure.prototype._init_header = function() {\n",
       "    var titlebar = $(\n",
       "        '<div class=\"ui-dialog-titlebar ui-widget-header ui-corner-all ' +\n",
       "        'ui-helper-clearfix\"/>');\n",
       "    var titletext = $(\n",
       "        '<div class=\"ui-dialog-title\" style=\"width: 100%; ' +\n",
       "        'text-align: center; padding: 3px;\"/>');\n",
       "    titlebar.append(titletext)\n",
       "    this.root.append(titlebar);\n",
       "    this.header = titletext[0];\n",
       "}\n",
       "\n",
       "\n",
       "\n",
       "mpl.figure.prototype._canvas_extra_style = function(canvas_div) {\n",
       "\n",
       "}\n",
       "\n",
       "\n",
       "mpl.figure.prototype._root_extra_style = function(canvas_div) {\n",
       "\n",
       "}\n",
       "\n",
       "mpl.figure.prototype._init_canvas = function() {\n",
       "    var fig = this;\n",
       "\n",
       "    var canvas_div = $('<div/>');\n",
       "\n",
       "    canvas_div.attr('style', 'position: relative; clear: both; outline: 0');\n",
       "\n",
       "    function canvas_keyboard_event(event) {\n",
       "        return fig.key_event(event, event['data']);\n",
       "    }\n",
       "\n",
       "    canvas_div.keydown('key_press', canvas_keyboard_event);\n",
       "    canvas_div.keyup('key_release', canvas_keyboard_event);\n",
       "    this.canvas_div = canvas_div\n",
       "    this._canvas_extra_style(canvas_div)\n",
       "    this.root.append(canvas_div);\n",
       "\n",
       "    var canvas = $('<canvas/>');\n",
       "    canvas.addClass('mpl-canvas');\n",
       "    canvas.attr('style', \"left: 0; top: 0; z-index: 0; outline: 0\")\n",
       "\n",
       "    this.canvas = canvas[0];\n",
       "    this.context = canvas[0].getContext(\"2d\");\n",
       "\n",
       "    var backingStore = this.context.backingStorePixelRatio ||\n",
       "\tthis.context.webkitBackingStorePixelRatio ||\n",
       "\tthis.context.mozBackingStorePixelRatio ||\n",
       "\tthis.context.msBackingStorePixelRatio ||\n",
       "\tthis.context.oBackingStorePixelRatio ||\n",
       "\tthis.context.backingStorePixelRatio || 1;\n",
       "\n",
       "    mpl.ratio = (window.devicePixelRatio || 1) / backingStore;\n",
       "\n",
       "    var rubberband = $('<canvas/>');\n",
       "    rubberband.attr('style', \"position: absolute; left: 0; top: 0; z-index: 1;\")\n",
       "\n",
       "    var pass_mouse_events = true;\n",
       "\n",
       "    canvas_div.resizable({\n",
       "        start: function(event, ui) {\n",
       "            pass_mouse_events = false;\n",
       "        },\n",
       "        resize: function(event, ui) {\n",
       "            fig.request_resize(ui.size.width, ui.size.height);\n",
       "        },\n",
       "        stop: function(event, ui) {\n",
       "            pass_mouse_events = true;\n",
       "            fig.request_resize(ui.size.width, ui.size.height);\n",
       "        },\n",
       "    });\n",
       "\n",
       "    function mouse_event_fn(event) {\n",
       "        if (pass_mouse_events)\n",
       "            return fig.mouse_event(event, event['data']);\n",
       "    }\n",
       "\n",
       "    rubberband.mousedown('button_press', mouse_event_fn);\n",
       "    rubberband.mouseup('button_release', mouse_event_fn);\n",
       "    // Throttle sequential mouse events to 1 every 20ms.\n",
       "    rubberband.mousemove('motion_notify', mouse_event_fn);\n",
       "\n",
       "    rubberband.mouseenter('figure_enter', mouse_event_fn);\n",
       "    rubberband.mouseleave('figure_leave', mouse_event_fn);\n",
       "\n",
       "    canvas_div.on(\"wheel\", function (event) {\n",
       "        event = event.originalEvent;\n",
       "        event['data'] = 'scroll'\n",
       "        if (event.deltaY < 0) {\n",
       "            event.step = 1;\n",
       "        } else {\n",
       "            event.step = -1;\n",
       "        }\n",
       "        mouse_event_fn(event);\n",
       "    });\n",
       "\n",
       "    canvas_div.append(canvas);\n",
       "    canvas_div.append(rubberband);\n",
       "\n",
       "    this.rubberband = rubberband;\n",
       "    this.rubberband_canvas = rubberband[0];\n",
       "    this.rubberband_context = rubberband[0].getContext(\"2d\");\n",
       "    this.rubberband_context.strokeStyle = \"#000000\";\n",
       "\n",
       "    this._resize_canvas = function(width, height) {\n",
       "        // Keep the size of the canvas, canvas container, and rubber band\n",
       "        // canvas in synch.\n",
       "        canvas_div.css('width', width)\n",
       "        canvas_div.css('height', height)\n",
       "\n",
       "        canvas.attr('width', width * mpl.ratio);\n",
       "        canvas.attr('height', height * mpl.ratio);\n",
       "        canvas.attr('style', 'width: ' + width + 'px; height: ' + height + 'px;');\n",
       "\n",
       "        rubberband.attr('width', width);\n",
       "        rubberband.attr('height', height);\n",
       "    }\n",
       "\n",
       "    // Set the figure to an initial 600x600px, this will subsequently be updated\n",
       "    // upon first draw.\n",
       "    this._resize_canvas(600, 600);\n",
       "\n",
       "    // Disable right mouse context menu.\n",
       "    $(this.rubberband_canvas).bind(\"contextmenu\",function(e){\n",
       "        return false;\n",
       "    });\n",
       "\n",
       "    function set_focus () {\n",
       "        canvas.focus();\n",
       "        canvas_div.focus();\n",
       "    }\n",
       "\n",
       "    window.setTimeout(set_focus, 100);\n",
       "}\n",
       "\n",
       "mpl.figure.prototype._init_toolbar = function() {\n",
       "    var fig = this;\n",
       "\n",
       "    var nav_element = $('<div/>')\n",
       "    nav_element.attr('style', 'width: 100%');\n",
       "    this.root.append(nav_element);\n",
       "\n",
       "    // Define a callback function for later on.\n",
       "    function toolbar_event(event) {\n",
       "        return fig.toolbar_button_onclick(event['data']);\n",
       "    }\n",
       "    function toolbar_mouse_event(event) {\n",
       "        return fig.toolbar_button_onmouseover(event['data']);\n",
       "    }\n",
       "\n",
       "    for(var toolbar_ind in mpl.toolbar_items) {\n",
       "        var name = mpl.toolbar_items[toolbar_ind][0];\n",
       "        var tooltip = mpl.toolbar_items[toolbar_ind][1];\n",
       "        var image = mpl.toolbar_items[toolbar_ind][2];\n",
       "        var method_name = mpl.toolbar_items[toolbar_ind][3];\n",
       "\n",
       "        if (!name) {\n",
       "            // put a spacer in here.\n",
       "            continue;\n",
       "        }\n",
       "        var button = $('<button/>');\n",
       "        button.addClass('ui-button ui-widget ui-state-default ui-corner-all ' +\n",
       "                        'ui-button-icon-only');\n",
       "        button.attr('role', 'button');\n",
       "        button.attr('aria-disabled', 'false');\n",
       "        button.click(method_name, toolbar_event);\n",
       "        button.mouseover(tooltip, toolbar_mouse_event);\n",
       "\n",
       "        var icon_img = $('<span/>');\n",
       "        icon_img.addClass('ui-button-icon-primary ui-icon');\n",
       "        icon_img.addClass(image);\n",
       "        icon_img.addClass('ui-corner-all');\n",
       "\n",
       "        var tooltip_span = $('<span/>');\n",
       "        tooltip_span.addClass('ui-button-text');\n",
       "        tooltip_span.html(tooltip);\n",
       "\n",
       "        button.append(icon_img);\n",
       "        button.append(tooltip_span);\n",
       "\n",
       "        nav_element.append(button);\n",
       "    }\n",
       "\n",
       "    var fmt_picker_span = $('<span/>');\n",
       "\n",
       "    var fmt_picker = $('<select/>');\n",
       "    fmt_picker.addClass('mpl-toolbar-option ui-widget ui-widget-content');\n",
       "    fmt_picker_span.append(fmt_picker);\n",
       "    nav_element.append(fmt_picker_span);\n",
       "    this.format_dropdown = fmt_picker[0];\n",
       "\n",
       "    for (var ind in mpl.extensions) {\n",
       "        var fmt = mpl.extensions[ind];\n",
       "        var option = $(\n",
       "            '<option/>', {selected: fmt === mpl.default_extension}).html(fmt);\n",
       "        fmt_picker.append(option)\n",
       "    }\n",
       "\n",
       "    // Add hover states to the ui-buttons\n",
       "    $( \".ui-button\" ).hover(\n",
       "        function() { $(this).addClass(\"ui-state-hover\");},\n",
       "        function() { $(this).removeClass(\"ui-state-hover\");}\n",
       "    );\n",
       "\n",
       "    var status_bar = $('<span class=\"mpl-message\"/>');\n",
       "    nav_element.append(status_bar);\n",
       "    this.message = status_bar[0];\n",
       "}\n",
       "\n",
       "mpl.figure.prototype.request_resize = function(x_pixels, y_pixels) {\n",
       "    // Request matplotlib to resize the figure. Matplotlib will then trigger a resize in the client,\n",
       "    // which will in turn request a refresh of the image.\n",
       "    this.send_message('resize', {'width': x_pixels, 'height': y_pixels});\n",
       "}\n",
       "\n",
       "mpl.figure.prototype.send_message = function(type, properties) {\n",
       "    properties['type'] = type;\n",
       "    properties['figure_id'] = this.id;\n",
       "    this.ws.send(JSON.stringify(properties));\n",
       "}\n",
       "\n",
       "mpl.figure.prototype.send_draw_message = function() {\n",
       "    if (!this.waiting) {\n",
       "        this.waiting = true;\n",
       "        this.ws.send(JSON.stringify({type: \"draw\", figure_id: this.id}));\n",
       "    }\n",
       "}\n",
       "\n",
       "\n",
       "mpl.figure.prototype.handle_save = function(fig, msg) {\n",
       "    var format_dropdown = fig.format_dropdown;\n",
       "    var format = format_dropdown.options[format_dropdown.selectedIndex].value;\n",
       "    fig.ondownload(fig, format);\n",
       "}\n",
       "\n",
       "\n",
       "mpl.figure.prototype.handle_resize = function(fig, msg) {\n",
       "    var size = msg['size'];\n",
       "    if (size[0] != fig.canvas.width || size[1] != fig.canvas.height) {\n",
       "        fig._resize_canvas(size[0], size[1]);\n",
       "        fig.send_message(\"refresh\", {});\n",
       "    };\n",
       "}\n",
       "\n",
       "mpl.figure.prototype.handle_rubberband = function(fig, msg) {\n",
       "    var x0 = msg['x0'] / mpl.ratio;\n",
       "    var y0 = (fig.canvas.height - msg['y0']) / mpl.ratio;\n",
       "    var x1 = msg['x1'] / mpl.ratio;\n",
       "    var y1 = (fig.canvas.height - msg['y1']) / mpl.ratio;\n",
       "    x0 = Math.floor(x0) + 0.5;\n",
       "    y0 = Math.floor(y0) + 0.5;\n",
       "    x1 = Math.floor(x1) + 0.5;\n",
       "    y1 = Math.floor(y1) + 0.5;\n",
       "    var min_x = Math.min(x0, x1);\n",
       "    var min_y = Math.min(y0, y1);\n",
       "    var width = Math.abs(x1 - x0);\n",
       "    var height = Math.abs(y1 - y0);\n",
       "\n",
       "    fig.rubberband_context.clearRect(\n",
       "        0, 0, fig.canvas.width, fig.canvas.height);\n",
       "\n",
       "    fig.rubberband_context.strokeRect(min_x, min_y, width, height);\n",
       "}\n",
       "\n",
       "mpl.figure.prototype.handle_figure_label = function(fig, msg) {\n",
       "    // Updates the figure title.\n",
       "    fig.header.textContent = msg['label'];\n",
       "}\n",
       "\n",
       "mpl.figure.prototype.handle_cursor = function(fig, msg) {\n",
       "    var cursor = msg['cursor'];\n",
       "    switch(cursor)\n",
       "    {\n",
       "    case 0:\n",
       "        cursor = 'pointer';\n",
       "        break;\n",
       "    case 1:\n",
       "        cursor = 'default';\n",
       "        break;\n",
       "    case 2:\n",
       "        cursor = 'crosshair';\n",
       "        break;\n",
       "    case 3:\n",
       "        cursor = 'move';\n",
       "        break;\n",
       "    }\n",
       "    fig.rubberband_canvas.style.cursor = cursor;\n",
       "}\n",
       "\n",
       "mpl.figure.prototype.handle_message = function(fig, msg) {\n",
       "    fig.message.textContent = msg['message'];\n",
       "}\n",
       "\n",
       "mpl.figure.prototype.handle_draw = function(fig, msg) {\n",
       "    // Request the server to send over a new figure.\n",
       "    fig.send_draw_message();\n",
       "}\n",
       "\n",
       "mpl.figure.prototype.handle_image_mode = function(fig, msg) {\n",
       "    fig.image_mode = msg['mode'];\n",
       "}\n",
       "\n",
       "mpl.figure.prototype.updated_canvas_event = function() {\n",
       "    // Called whenever the canvas gets updated.\n",
       "    this.send_message(\"ack\", {});\n",
       "}\n",
       "\n",
       "// A function to construct a web socket function for onmessage handling.\n",
       "// Called in the figure constructor.\n",
       "mpl.figure.prototype._make_on_message_function = function(fig) {\n",
       "    return function socket_on_message(evt) {\n",
       "        if (evt.data instanceof Blob) {\n",
       "            /* FIXME: We get \"Resource interpreted as Image but\n",
       "             * transferred with MIME type text/plain:\" errors on\n",
       "             * Chrome.  But how to set the MIME type?  It doesn't seem\n",
       "             * to be part of the websocket stream */\n",
       "            evt.data.type = \"image/png\";\n",
       "\n",
       "            /* Free the memory for the previous frames */\n",
       "            if (fig.imageObj.src) {\n",
       "                (window.URL || window.webkitURL).revokeObjectURL(\n",
       "                    fig.imageObj.src);\n",
       "            }\n",
       "\n",
       "            fig.imageObj.src = (window.URL || window.webkitURL).createObjectURL(\n",
       "                evt.data);\n",
       "            fig.updated_canvas_event();\n",
       "            fig.waiting = false;\n",
       "            return;\n",
       "        }\n",
       "        else if (typeof evt.data === 'string' && evt.data.slice(0, 21) == \"data:image/png;base64\") {\n",
       "            fig.imageObj.src = evt.data;\n",
       "            fig.updated_canvas_event();\n",
       "            fig.waiting = false;\n",
       "            return;\n",
       "        }\n",
       "\n",
       "        var msg = JSON.parse(evt.data);\n",
       "        var msg_type = msg['type'];\n",
       "\n",
       "        // Call the  \"handle_{type}\" callback, which takes\n",
       "        // the figure and JSON message as its only arguments.\n",
       "        try {\n",
       "            var callback = fig[\"handle_\" + msg_type];\n",
       "        } catch (e) {\n",
       "            console.log(\"No handler for the '\" + msg_type + \"' message type: \", msg);\n",
       "            return;\n",
       "        }\n",
       "\n",
       "        if (callback) {\n",
       "            try {\n",
       "                // console.log(\"Handling '\" + msg_type + \"' message: \", msg);\n",
       "                callback(fig, msg);\n",
       "            } catch (e) {\n",
       "                console.log(\"Exception inside the 'handler_\" + msg_type + \"' callback:\", e, e.stack, msg);\n",
       "            }\n",
       "        }\n",
       "    };\n",
       "}\n",
       "\n",
       "// from http://stackoverflow.com/questions/1114465/getting-mouse-location-in-canvas\n",
       "mpl.findpos = function(e) {\n",
       "    //this section is from http://www.quirksmode.org/js/events_properties.html\n",
       "    var targ;\n",
       "    if (!e)\n",
       "        e = window.event;\n",
       "    if (e.target)\n",
       "        targ = e.target;\n",
       "    else if (e.srcElement)\n",
       "        targ = e.srcElement;\n",
       "    if (targ.nodeType == 3) // defeat Safari bug\n",
       "        targ = targ.parentNode;\n",
       "\n",
       "    // jQuery normalizes the pageX and pageY\n",
       "    // pageX,Y are the mouse positions relative to the document\n",
       "    // offset() returns the position of the element relative to the document\n",
       "    var x = e.pageX - $(targ).offset().left;\n",
       "    var y = e.pageY - $(targ).offset().top;\n",
       "\n",
       "    return {\"x\": x, \"y\": y};\n",
       "};\n",
       "\n",
       "/*\n",
       " * return a copy of an object with only non-object keys\n",
       " * we need this to avoid circular references\n",
       " * http://stackoverflow.com/a/24161582/3208463\n",
       " */\n",
       "function simpleKeys (original) {\n",
       "  return Object.keys(original).reduce(function (obj, key) {\n",
       "    if (typeof original[key] !== 'object')\n",
       "        obj[key] = original[key]\n",
       "    return obj;\n",
       "  }, {});\n",
       "}\n",
       "\n",
       "mpl.figure.prototype.mouse_event = function(event, name) {\n",
       "    var canvas_pos = mpl.findpos(event)\n",
       "\n",
       "    if (name === 'button_press')\n",
       "    {\n",
       "        this.canvas.focus();\n",
       "        this.canvas_div.focus();\n",
       "    }\n",
       "\n",
       "    var x = canvas_pos.x * mpl.ratio;\n",
       "    var y = canvas_pos.y * mpl.ratio;\n",
       "\n",
       "    this.send_message(name, {x: x, y: y, button: event.button,\n",
       "                             step: event.step,\n",
       "                             guiEvent: simpleKeys(event)});\n",
       "\n",
       "    /* This prevents the web browser from automatically changing to\n",
       "     * the text insertion cursor when the button is pressed.  We want\n",
       "     * to control all of the cursor setting manually through the\n",
       "     * 'cursor' event from matplotlib */\n",
       "    event.preventDefault();\n",
       "    return false;\n",
       "}\n",
       "\n",
       "mpl.figure.prototype._key_event_extra = function(event, name) {\n",
       "    // Handle any extra behaviour associated with a key event\n",
       "}\n",
       "\n",
       "mpl.figure.prototype.key_event = function(event, name) {\n",
       "\n",
       "    // Prevent repeat events\n",
       "    if (name == 'key_press')\n",
       "    {\n",
       "        if (event.which === this._key)\n",
       "            return;\n",
       "        else\n",
       "            this._key = event.which;\n",
       "    }\n",
       "    if (name == 'key_release')\n",
       "        this._key = null;\n",
       "\n",
       "    var value = '';\n",
       "    if (event.ctrlKey && event.which != 17)\n",
       "        value += \"ctrl+\";\n",
       "    if (event.altKey && event.which != 18)\n",
       "        value += \"alt+\";\n",
       "    if (event.shiftKey && event.which != 16)\n",
       "        value += \"shift+\";\n",
       "\n",
       "    value += 'k';\n",
       "    value += event.which.toString();\n",
       "\n",
       "    this._key_event_extra(event, name);\n",
       "\n",
       "    this.send_message(name, {key: value,\n",
       "                             guiEvent: simpleKeys(event)});\n",
       "    return false;\n",
       "}\n",
       "\n",
       "mpl.figure.prototype.toolbar_button_onclick = function(name) {\n",
       "    if (name == 'download') {\n",
       "        this.handle_save(this, null);\n",
       "    } else {\n",
       "        this.send_message(\"toolbar_button\", {name: name});\n",
       "    }\n",
       "};\n",
       "\n",
       "mpl.figure.prototype.toolbar_button_onmouseover = function(tooltip) {\n",
       "    this.message.textContent = tooltip;\n",
       "};\n",
       "mpl.toolbar_items = [[\"Home\", \"Reset original view\", \"fa fa-home icon-home\", \"home\"], [\"Back\", \"Back to  previous view\", \"fa fa-arrow-left icon-arrow-left\", \"back\"], [\"Forward\", \"Forward to next view\", \"fa fa-arrow-right icon-arrow-right\", \"forward\"], [\"\", \"\", \"\", \"\"], [\"Pan\", \"Pan axes with left mouse, zoom with right\", \"fa fa-arrows icon-move\", \"pan\"], [\"Zoom\", \"Zoom to rectangle\", \"fa fa-square-o icon-check-empty\", \"zoom\"], [\"\", \"\", \"\", \"\"], [\"Download\", \"Download plot\", \"fa fa-floppy-o icon-save\", \"download\"]];\n",
       "\n",
       "mpl.extensions = [\"eps\", \"jpeg\", \"pdf\", \"png\", \"ps\", \"raw\", \"svg\", \"tif\"];\n",
       "\n",
       "mpl.default_extension = \"png\";var comm_websocket_adapter = function(comm) {\n",
       "    // Create a \"websocket\"-like object which calls the given IPython comm\n",
       "    // object with the appropriate methods. Currently this is a non binary\n",
       "    // socket, so there is still some room for performance tuning.\n",
       "    var ws = {};\n",
       "\n",
       "    ws.close = function() {\n",
       "        comm.close()\n",
       "    };\n",
       "    ws.send = function(m) {\n",
       "        //console.log('sending', m);\n",
       "        comm.send(m);\n",
       "    };\n",
       "    // Register the callback with on_msg.\n",
       "    comm.on_msg(function(msg) {\n",
       "        //console.log('receiving', msg['content']['data'], msg);\n",
       "        // Pass the mpl event to the overridden (by mpl) onmessage function.\n",
       "        ws.onmessage(msg['content']['data'])\n",
       "    });\n",
       "    return ws;\n",
       "}\n",
       "\n",
       "mpl.mpl_figure_comm = function(comm, msg) {\n",
       "    // This is the function which gets called when the mpl process\n",
       "    // starts-up an IPython Comm through the \"matplotlib\" channel.\n",
       "\n",
       "    var id = msg.content.data.id;\n",
       "    // Get hold of the div created by the display call when the Comm\n",
       "    // socket was opened in Python.\n",
       "    var element = $(\"#\" + id);\n",
       "    var ws_proxy = comm_websocket_adapter(comm)\n",
       "\n",
       "    function ondownload(figure, format) {\n",
       "        window.open(figure.imageObj.src);\n",
       "    }\n",
       "\n",
       "    var fig = new mpl.figure(id, ws_proxy,\n",
       "                           ondownload,\n",
       "                           element.get(0));\n",
       "\n",
       "    // Call onopen now - mpl needs it, as it is assuming we've passed it a real\n",
       "    // web socket which is closed, not our websocket->open comm proxy.\n",
       "    ws_proxy.onopen();\n",
       "\n",
       "    fig.parent_element = element.get(0);\n",
       "    fig.cell_info = mpl.find_output_cell(\"<div id='\" + id + \"'></div>\");\n",
       "    if (!fig.cell_info) {\n",
       "        console.error(\"Failed to find cell for figure\", id, fig);\n",
       "        return;\n",
       "    }\n",
       "\n",
       "    var output_index = fig.cell_info[2]\n",
       "    var cell = fig.cell_info[0];\n",
       "\n",
       "};\n",
       "\n",
       "mpl.figure.prototype.handle_close = function(fig, msg) {\n",
       "    var width = fig.canvas.width/mpl.ratio\n",
       "    fig.root.unbind('remove')\n",
       "\n",
       "    // Update the output cell to use the data from the current canvas.\n",
       "    fig.push_to_output();\n",
       "    var dataURL = fig.canvas.toDataURL();\n",
       "    // Re-enable the keyboard manager in IPython - without this line, in FF,\n",
       "    // the notebook keyboard shortcuts fail.\n",
       "    IPython.keyboard_manager.enable()\n",
       "    $(fig.parent_element).html('<img src=\"' + dataURL + '\" width=\"' + width + '\">');\n",
       "    fig.close_ws(fig, msg);\n",
       "}\n",
       "\n",
       "mpl.figure.prototype.close_ws = function(fig, msg){\n",
       "    fig.send_message('closing', msg);\n",
       "    // fig.ws.close()\n",
       "}\n",
       "\n",
       "mpl.figure.prototype.push_to_output = function(remove_interactive) {\n",
       "    // Turn the data on the canvas into data in the output cell.\n",
       "    var width = this.canvas.width/mpl.ratio\n",
       "    var dataURL = this.canvas.toDataURL();\n",
       "    this.cell_info[1]['text/html'] = '<img src=\"' + dataURL + '\" width=\"' + width + '\">';\n",
       "}\n",
       "\n",
       "mpl.figure.prototype.updated_canvas_event = function() {\n",
       "    // Tell IPython that the notebook contents must change.\n",
       "    IPython.notebook.set_dirty(true);\n",
       "    this.send_message(\"ack\", {});\n",
       "    var fig = this;\n",
       "    // Wait a second, then push the new image to the DOM so\n",
       "    // that it is saved nicely (might be nice to debounce this).\n",
       "    setTimeout(function () { fig.push_to_output() }, 1000);\n",
       "}\n",
       "\n",
       "mpl.figure.prototype._init_toolbar = function() {\n",
       "    var fig = this;\n",
       "\n",
       "    var nav_element = $('<div/>')\n",
       "    nav_element.attr('style', 'width: 100%');\n",
       "    this.root.append(nav_element);\n",
       "\n",
       "    // Define a callback function for later on.\n",
       "    function toolbar_event(event) {\n",
       "        return fig.toolbar_button_onclick(event['data']);\n",
       "    }\n",
       "    function toolbar_mouse_event(event) {\n",
       "        return fig.toolbar_button_onmouseover(event['data']);\n",
       "    }\n",
       "\n",
       "    for(var toolbar_ind in mpl.toolbar_items){\n",
       "        var name = mpl.toolbar_items[toolbar_ind][0];\n",
       "        var tooltip = mpl.toolbar_items[toolbar_ind][1];\n",
       "        var image = mpl.toolbar_items[toolbar_ind][2];\n",
       "        var method_name = mpl.toolbar_items[toolbar_ind][3];\n",
       "\n",
       "        if (!name) { continue; };\n",
       "\n",
       "        var button = $('<button class=\"btn btn-default\" href=\"#\" title=\"' + name + '\"><i class=\"fa ' + image + ' fa-lg\"></i></button>');\n",
       "        button.click(method_name, toolbar_event);\n",
       "        button.mouseover(tooltip, toolbar_mouse_event);\n",
       "        nav_element.append(button);\n",
       "    }\n",
       "\n",
       "    // Add the status bar.\n",
       "    var status_bar = $('<span class=\"mpl-message\" style=\"text-align:right; float: right;\"/>');\n",
       "    nav_element.append(status_bar);\n",
       "    this.message = status_bar[0];\n",
       "\n",
       "    // Add the close button to the window.\n",
       "    var buttongrp = $('<div class=\"btn-group inline pull-right\"></div>');\n",
       "    var button = $('<button class=\"btn btn-mini btn-primary\" href=\"#\" title=\"Stop Interaction\"><i class=\"fa fa-power-off icon-remove icon-large\"></i></button>');\n",
       "    button.click(function (evt) { fig.handle_close(fig, {}); } );\n",
       "    button.mouseover('Stop Interaction', toolbar_mouse_event);\n",
       "    buttongrp.append(button);\n",
       "    var titlebar = this.root.find($('.ui-dialog-titlebar'));\n",
       "    titlebar.prepend(buttongrp);\n",
       "}\n",
       "\n",
       "mpl.figure.prototype._root_extra_style = function(el){\n",
       "    var fig = this\n",
       "    el.on(\"remove\", function(){\n",
       "\tfig.close_ws(fig, {});\n",
       "    });\n",
       "}\n",
       "\n",
       "mpl.figure.prototype._canvas_extra_style = function(el){\n",
       "    // this is important to make the div 'focusable\n",
       "    el.attr('tabindex', 0)\n",
       "    // reach out to IPython and tell the keyboard manager to turn it's self\n",
       "    // off when our div gets focus\n",
       "\n",
       "    // location in version 3\n",
       "    if (IPython.notebook.keyboard_manager) {\n",
       "        IPython.notebook.keyboard_manager.register_events(el);\n",
       "    }\n",
       "    else {\n",
       "        // location in version 2\n",
       "        IPython.keyboard_manager.register_events(el);\n",
       "    }\n",
       "\n",
       "}\n",
       "\n",
       "mpl.figure.prototype._key_event_extra = function(event, name) {\n",
       "    var manager = IPython.notebook.keyboard_manager;\n",
       "    if (!manager)\n",
       "        manager = IPython.keyboard_manager;\n",
       "\n",
       "    // Check for shift+enter\n",
       "    if (event.shiftKey && event.which == 13) {\n",
       "        this.canvas_div.blur();\n",
       "        event.shiftKey = false;\n",
       "        // Send a \"J\" for go to next cell\n",
       "        event.which = 74;\n",
       "        event.keyCode = 74;\n",
       "        manager.command_mode();\n",
       "        manager.handle_keydown(event);\n",
       "    }\n",
       "}\n",
       "\n",
       "mpl.figure.prototype.handle_save = function(fig, msg) {\n",
       "    fig.ondownload(fig, null);\n",
       "}\n",
       "\n",
       "\n",
       "mpl.find_output_cell = function(html_output) {\n",
       "    // Return the cell and output element which can be found *uniquely* in the notebook.\n",
       "    // Note - this is a bit hacky, but it is done because the \"notebook_saving.Notebook\"\n",
       "    // IPython event is triggered only after the cells have been serialised, which for\n",
       "    // our purposes (turning an active figure into a static one), is too late.\n",
       "    var cells = IPython.notebook.get_cells();\n",
       "    var ncells = cells.length;\n",
       "    for (var i=0; i<ncells; i++) {\n",
       "        var cell = cells[i];\n",
       "        if (cell.cell_type === 'code'){\n",
       "            for (var j=0; j<cell.output_area.outputs.length; j++) {\n",
       "                var data = cell.output_area.outputs[j];\n",
       "                if (data.data) {\n",
       "                    // IPython >= 3 moved mimebundle to data attribute of output\n",
       "                    data = data.data;\n",
       "                }\n",
       "                if (data['text/html'] == html_output) {\n",
       "                    return [cell, data, j];\n",
       "                }\n",
       "            }\n",
       "        }\n",
       "    }\n",
       "}\n",
       "\n",
       "// Register the function which deals with the matplotlib target/channel.\n",
       "// The kernel may be null if the page has been refreshed.\n",
       "if (IPython.notebook.kernel != null) {\n",
       "    IPython.notebook.kernel.comm_manager.register_target('matplotlib', mpl.mpl_figure_comm);\n",
       "}\n"
      ],
      "text/plain": [
       "<IPython.core.display.Javascript object>"
      ]
     },
     "metadata": {},
     "output_type": "display_data"
    },
    {
     "data": {
      "text/html": [
       "<img src=\"data:image/png;base64,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\" width=\"640\">"
      ],
      "text/plain": [
       "<IPython.core.display.HTML object>"
      ]
     },
     "metadata": {},
     "output_type": "display_data"
    },
    {
     "data": {
      "application/vnd.jupyter.widget-view+json": {
       "model_id": "2780aedec4f14aa78e4dc76efe620e78",
       "version_major": 2,
       "version_minor": 0
      },
      "text/plain": [
       "interactive(children=(IntSlider(value=1, description='c', max=5000, min=-500), Output()), _dom_classes=('widge…"
      ]
     },
     "metadata": {},
     "output_type": "display_data"
    },
    {
     "name": "stdout",
     "output_type": "stream",
     "text": [
      "[2.51728808e+00 1.00666176e+01 2.26403871e+01 4.02259358e+01\n",
      " 6.28055566e+01 9.03565137e+01 1.22851066e+02 1.60256493e+02\n",
      " 2.02535132e+02 2.49644411e+02 3.01536896e+02 3.58160335e+02\n",
      " 4.19457713e+02 4.85367309e+02 5.55822757e+02 6.30753115e+02\n",
      " 7.10082934e+02 7.93732336e+02 8.81617093e+02 9.73648712e+02\n",
      " 1.06973453e+03 1.16977778e+03 1.27367775e+03 1.38132981e+03\n",
      " 1.49262556e+03 1.60745294e+03 1.72569633e+03 1.84723666e+03\n",
      " 1.97195156e+03 2.09971545e+03 2.23039968e+03 2.36387266e+03\n",
      " 2.50000000e+03 2.63864463e+03 2.77966694e+03 2.92292493e+03\n",
      " 3.06827437e+03 3.21556889e+03 3.36466018e+03 3.51539812e+03\n",
      " 3.66763093e+03 3.82120532e+03 3.97596666e+03 4.13175911e+03\n",
      " 4.28842581e+03 4.44580900e+03 4.60375022e+03 4.76209042e+03\n",
      " 4.92067018e+03 5.07932982e+03 5.23790958e+03 5.39624978e+03\n",
      " 5.55419100e+03 5.71157419e+03 5.86824089e+03 6.02403334e+03\n",
      " 6.17879468e+03 6.33236907e+03 6.48460188e+03 6.63533982e+03\n",
      " 6.78443111e+03 6.93172563e+03 7.07707507e+03 7.22033306e+03\n",
      " 7.36135537e+03 7.50000000e+03 7.63612734e+03 7.76960032e+03\n",
      " 7.90028455e+03 8.02804844e+03 8.15276334e+03 8.27430367e+03\n",
      " 8.39254706e+03 8.50737444e+03 8.61867019e+03 8.72632225e+03\n",
      " 8.83022222e+03 8.93026547e+03 9.02635129e+03 9.11838291e+03\n",
      " 9.20626766e+03 9.28991707e+03 9.36924689e+03 9.44417724e+03\n",
      " 9.51463269e+03 9.58054229e+03 9.64183967e+03 9.69846310e+03\n",
      " 9.75035559e+03 9.79746487e+03 9.83974351e+03 9.87714893e+03\n",
      " 9.90964349e+03 9.93719444e+03 9.95977406e+03 9.97735961e+03\n",
      " 9.98993338e+03 9.99748271e+03 1.00000000e+05 1.00000000e+05]\n"
     ]
    }
   ],
   "source": [
    "import numpy as np\n",
    "\n",
    "\n",
    "density = 100\n",
    "\n",
    "def build(n = 100, c = 0):\n",
    "    h = 2 / n\n",
    "    matrix = np.zeros((n,n))\n",
    "    matrix[0,0] = 100000\n",
    "    matrix[n-1,n-1] = 100000\n",
    "    for i in range (1, n-1):\n",
    "      \n",
    "        matrix[i,i-1] = -1/ (h ** 2)\n",
    "        matrix[i,i] = 2/(h ** 2)\n",
    "        matrix[i,i+1] = -1/(h ** 2)\n",
    "        matrix[i,i] += c/(np.cosh(-4+4*h*i)**2) - c/(np.cosh(4)**2)\n",
    "    return matrix\n",
    "\n",
    "def t(n = 100, c = 0):\n",
    "    h = 2 / n\n",
    "    matrix = np.zeros((n,n))\n",
    "    matrix[0,0] = 100000\n",
    "    matrix[n-1,n-1] = 100000\n",
    "    for i in range (1, n-1):\n",
    "      \n",
    "        matrix[i,i-1] = -1/ (h ** 2)\n",
    "        matrix[i,i] = 2/(h ** 2)\n",
    "        matrix[i,i+1] = -1/(h ** 2)\n",
    "      \n",
    "    return matrix\n",
    "\n",
    "\n",
    "eigenValues, eigenVectors = np.linalg.eig(build(density, 0))\n",
    "\n",
    "idx = eigenValues.argsort()   \n",
    "val = eigenValues[idx]\n",
    "vec = eigenVectors[:,idx]\n",
    "\n",
    "\n",
    "\n",
    "import matplotlib.pyplot as plt\n",
    "\n",
    "%matplotlib notebook\n",
    "from ipywidgets import *\n",
    "\n",
    "x = np.linspace(-1, 1, density)\n",
    "fig = plt.figure()\n",
    "ham = t()\n",
    "ax = fig.add_subplot(1, 1, 1)\n",
    "line, = ax.plot(x, 2.5*vec[:,0])\n",
    "linez, = ax.plot(x, 1/(np.cosh(4*x)**2) - 1/(np.cosh(4) ** 2))\n",
    "b = t(100,1) @ vec[:,0]\n",
    "liney, = ax.plot(x, b)\n",
    "yd = np.ones((density))\n",
    "lineen, = ax.plot(x,val[0]*yd)\n",
    "\n",
    "\n",
    "\n",
    "def update(c = 1.0):\n",
    "    eigenValues, eigenVectors = np.linalg.eig(build(density, c))\n",
    "\n",
    "    idx = eigenValues.argsort()   \n",
    "    val = eigenValues[idx]\n",
    "    vec = eigenVectors[:,idx]\n",
    "    \n",
    "    plt.ylim(top=100)\n",
    "    plt.ylim(bottom=-100)\n",
    "    line.set_ydata(val[0]*vec[:,0])\n",
    "    linez.set_ydata(c/((np.cosh(4*x)**2)) - c/((np.cosh(4)**2)))\n",
    "    b = t(100,0) @ vec[:,0]\n",
    "    potential = (c/((np.cosh(4*x)**2)) - c/((np.cosh(4)**2))) * vec[:,0] \n",
    "    liney.set_ydata(vec[:,0].T @ (b + potential))\n",
    "    yd = np.ones((density))\n",
    "    lineen.set_ydata(val[0] * yd)\n",
    "    \n",
    "    \n",
    "    fig.canvas.draw()\n",
    "\n",
    "interact(update, c = widgets.IntSlider(min=-500,max=5000,step=1,value=1));\n",
    "print(val)"
   ]
  },
  {
   "cell_type": "markdown",
   "metadata": {},
   "source": [
    "На графике сверху изображен квадрат волновой функции основного состояния. Слайдер регулирует величину горба. Из необъяснимых феноменов - отсутствует вырождение (хотя понятно, например, что при больших c запертой между левой стенкой и горбом волновой функции также должна соответствовать ей симметричная).\n",
    "\n",
    "Вот сама волновая функция второго состояния"
   ]
  },
  {
   "cell_type": "code",
   "execution_count": null,
   "metadata": {},
   "outputs": [],
   "source": [
    "x1 = np.linspace(-1, 1, density)\n",
    "fig1 = plt.figure()\n",
    "ax1 = fig1.add_subplot(1, 1, 1)\n",
    "line1, = ax1.plot(x1, vec[:,2] )\n",
    "\n",
    "def update1(d = 1.0):\n",
    "    eigenValues, eigenVectors = np.linalg.eig(build(density, d))\n",
    "\n",
    "    idx = eigenValues.argsort()   \n",
    "    val = eigenValues[idx]\n",
    "    vec = eigenVectors[:,idx]\n",
    "    if (vec[2,2] < 0):\n",
    "        vec[:,2] *= -1\n",
    "    \n",
    "    plt.ylim(top=0.3)\n",
    "    plt.ylim(bottom=-0.3)\n",
    "    line1.set_ydata(vec[:,2])\n",
    "    fig1.canvas.draw()\n",
    "interact(update1, d = widgets.IntSlider(min=-500,max=500,step=1,value=1));\n"
   ]
  },
  {
   "cell_type": "markdown",
   "metadata": {},
   "source": [
    "Зависимость логарифма корня из модуля энергии от логарифма номера уровня:"
   ]
  },
  {
   "cell_type": "code",
   "execution_count": null,
   "metadata": {},
   "outputs": [],
   "source": [
    "\n",
    "x2 = np.linspace(0, density-1, density)\n",
    "fig2 = plt.figure()\n",
    "ax2 = fig2.add_subplot(1, 1, 1)\n",
    "line2, = ax2.plot(np.log(x2[0:x2.size-2]), np.log(np.abs(val[0:x2.size-2])**(1/2)))\n",
    "\n",
    "def update2(e = 1.0):\n",
    "    eigenValues, eigenVectors = np.linalg.eig(build(density, e))\n",
    "\n",
    "    idx = eigenValues.argsort()   \n",
    "    val = eigenValues[idx]\n",
    "    plt.ylim(top=5.0)\n",
    "    plt.ylim(bottom=-0.5)\n",
    "    \n",
    "    line2.set_ydata(np.log(np.abs(val[0:x2.size-2])**(1/2)))\n",
    "    fig2.canvas.draw()\n",
    "\n",
    "interact(update2, e = widgets.IntSlider(min=-500,max=500,step=1,value=1));\n"
   ]
  },
  {
   "cell_type": "markdown",
   "metadata": {},
   "source": [
    "Верхняя часть зависимости не меняется и имеет такой вид из-за того, что характерное поведение высокоэнергетической частицы проявляется на расстояниях порядка размера сетки (и, как следствие, смысл такое моделирование теряет). Поведение на низких энергиях я объяснить пока что не в состоянии (за исключением, разумеется, того, что при малых размерах горба наклон прямой порядка единицы)."
   ]
  },
  {
   "cell_type": "code",
   "execution_count": null,
   "metadata": {},
   "outputs": [],
   "source": []
  }
 ],
 "metadata": {
  "kernelspec": {
   "display_name": "Python 3",
   "language": "python",
   "name": "python3"
  },
  "language_info": {
   "codemirror_mode": {
    "name": "ipython",
    "version": 3
   },
   "file_extension": ".py",
   "mimetype": "text/x-python",
   "name": "python",
   "nbconvert_exporter": "python",
   "pygments_lexer": "ipython3",
   "version": "3.6.5"
  },
  "widgets": {
   "application/vnd.jupyter.widget-state+json": {
    "state": {
     "004451182a5342cb9fbd6070d3c39159": {
      "model_module": "@jupyter-widgets/controls",
      "model_module_version": "1.2.0",
      "model_name": "SliderStyleModel",
      "state": {
       "description_width": ""
      }
     },
     "025bd1f4b72f4e4799f38058de18700e": {
      "model_module": "@jupyter-widgets/base",
      "model_module_version": "1.0.0",
      "model_name": "LayoutModel",
      "state": {}
     },
     "02d3a1fc429b4f9b80ef138dc0ba747b": {
      "model_module": "@jupyter-widgets/controls",
      "model_module_version": "1.2.0",
      "model_name": "SliderStyleModel",
      "state": {
       "description_width": ""
      }
     },
     "02f8c93bf92a472a93c62ecbef1f941b": {
      "model_module": "@jupyter-widgets/controls",
      "model_module_version": "1.2.0",
      "model_name": "IntSliderModel",
      "state": {
       "description": "c",
       "layout": "IPY_MODEL_adf534a84b1142869f9bc002daa8ff78",
       "max": 500,
       "min": -500,
       "style": "IPY_MODEL_f2a9b28c3df541379d7cbfe6aeb8a6e4",
       "value": 1
      }
     },
     "035562eba6e44920b803b823f9049468": {
      "model_module": "@jupyter-widgets/controls",
      "model_module_version": "1.2.0",
      "model_name": "VBoxModel",
      "state": {
       "_dom_classes": [
        "widget-interact"
       ],
       "children": [
        "IPY_MODEL_175b2eed097e4b05b3b623ee3295cd19",
        "IPY_MODEL_a9208793593a4988ba8053883acc7301"
       ],
       "layout": "IPY_MODEL_727db649dbbc40eb958e838f6c5ddcae"
      }
     },
     "037f197289f24455b722a64d3cbcda82": {
      "model_module": "@jupyter-widgets/base",
      "model_module_version": "1.0.0",
      "model_name": "LayoutModel",
      "state": {}
     },
     "03b67890bdf94467ae02fb097869b454": {
      "model_module": "@jupyter-widgets/base",
      "model_module_version": "1.0.0",
      "model_name": "LayoutModel",
      "state": {}
     },
     "0408ef6f3aa74e1e984f2c48d4e3429e": {
      "model_module": "@jupyter-widgets/output",
      "model_module_version": "1.0.0",
      "model_name": "OutputModel",
      "state": {
       "layout": "IPY_MODEL_42d7d21b8c274377bb8ea90ea8a18164",
       "outputs": [
        {
         "data": {
          "image/png": "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\n",
          "text/plain": "<Figure size 432x288 with 1 Axes>"
         },
         "metadata": {},
         "output_type": "display_data"
        }
       ]
      }
     },
     "05331cfcd8324b35b4f87d6ef60ffeb9": {
      "model_module": "@jupyter-widgets/controls",
      "model_module_version": "1.2.0",
      "model_name": "IntSliderModel",
      "state": {
       "description": "e",
       "layout": "IPY_MODEL_9854a3cb77ea4364ad36f7aa66c823a4",
       "max": 500,
       "min": -500,
       "style": "IPY_MODEL_f3f3e6dcda7b4a8e9062ca77026319c0",
       "value": 1
      }
     },
     "0563a3ff80464dc697b6b2af4e432d56": {
      "model_module": "@jupyter-widgets/base",
      "model_module_version": "1.0.0",
      "model_name": "LayoutModel",
      "state": {}
     },
     "058dadda5ef543c89fc4af9fab90752a": {
      "model_module": "@jupyter-widgets/base",
      "model_module_version": "1.0.0",
      "model_name": "LayoutModel",
      "state": {}
     },
     "06290166b0224af9bfde4fa550568f13": {
      "model_module": "@jupyter-widgets/controls",
      "model_module_version": "1.2.0",
      "model_name": "SliderStyleModel",
      "state": {
       "description_width": ""
      }
     },
     "06643c4ccfd8426694b579229bc4534f": {
      "model_module": "@jupyter-widgets/controls",
      "model_module_version": "1.2.0",
      "model_name": "IntSliderModel",
      "state": {
       "description": "c",
       "layout": "IPY_MODEL_abe94cba84d6400594a1895b1f8e378e",
       "max": 500,
       "min": -500,
       "style": "IPY_MODEL_c5b2a4e38a924047951343f0d9bbcc34",
       "value": 1
      }
     },
     "06ac35f87daf4d9db5288d81c8497040": {
      "model_module": "@jupyter-widgets/base",
      "model_module_version": "1.0.0",
      "model_name": "LayoutModel",
      "state": {}
     },
     "06bc092a24d348d5b60c1ffee8a2226f": {
      "model_module": "@jupyter-widgets/controls",
      "model_module_version": "1.2.0",
      "model_name": "SliderStyleModel",
      "state": {
       "description_width": ""
      }
     },
     "07a2dacdc4a147acadf147dd646d9324": {
      "model_module": "@jupyter-widgets/controls",
      "model_module_version": "1.2.0",
      "model_name": "IntSliderModel",
      "state": {
       "description": "c",
       "layout": "IPY_MODEL_bcf2e642313f4c0bb89ef5e4d4a8ab6a",
       "max": 500,
       "min": -500,
       "style": "IPY_MODEL_c4141b19cd5f4d52b516bc74cb8c48e0",
       "value": 1
      }
     },
     "07ec4671bbcc423c999397b292e5986c": {
      "model_module": "@jupyter-widgets/controls",
      "model_module_version": "1.2.0",
      "model_name": "IntSliderModel",
      "state": {
       "description": "d",
       "layout": "IPY_MODEL_17fb8bf6a53141c3976df0f9191c1095",
       "max": 500,
       "min": -500,
       "style": "IPY_MODEL_a40bff1c5afe4ba9abd413376e489c03",
       "value": 198
      }
     },
     "081e800abee541bdae404c5ecd43bab4": {
      "model_module": "@jupyter-widgets/controls",
      "model_module_version": "1.2.0",
      "model_name": "VBoxModel",
      "state": {
       "_dom_classes": [
        "widget-interact"
       ],
       "children": [
        "IPY_MODEL_b686d222cbdc4500bb7da5e9c1e7ed01",
        "IPY_MODEL_0408ef6f3aa74e1e984f2c48d4e3429e"
       ],
       "layout": "IPY_MODEL_867112fb2d844008a706f553fac254b0"
      }
     },
     "097d4b8c44b04176b78c183564aa9d83": {
      "model_module": "@jupyter-widgets/controls",
      "model_module_version": "1.2.0",
      "model_name": "IntSliderModel",
      "state": {
       "description": "c",
       "layout": "IPY_MODEL_2a654100fa134e9c8f56b81d83df0cff",
       "max": 500,
       "min": -500,
       "style": "IPY_MODEL_7b24cfdd30bb4384a6865822ccf9dd83",
       "value": 500
      }
     },
     "0a3fef066cd047d78d8ab96aae1c3e46": {
      "model_module": "@jupyter-widgets/output",
      "model_module_version": "1.0.0",
      "model_name": "OutputModel",
      "state": {
       "layout": "IPY_MODEL_30a128b30e6142e4b1954572dc7d1941"
      }
     },
     "0a78019cfe5d40129663c14c171542f9": {
      "model_module": "@jupyter-widgets/base",
      "model_module_version": "1.0.0",
      "model_name": "LayoutModel",
      "state": {}
     },
     "0adfd7a45b6d4fedbbc100329c5ad9ef": {
      "model_module": "@jupyter-widgets/output",
      "model_module_version": "1.0.0",
      "model_name": "OutputModel",
      "state": {
       "layout": "IPY_MODEL_2f7000cea17843bba54dfbcd53bf3d15"
      }
     },
     "0afb30682d0e47948c8fe92a1340a118": {
      "model_module": "@jupyter-widgets/output",
      "model_module_version": "1.0.0",
      "model_name": "OutputModel",
      "state": {
       "layout": "IPY_MODEL_a4b36f0aec08420684a4552f983661cc",
       "outputs": [
        {
         "ename": "TypeError",
         "evalue": "set_ydata() takes 2 positional arguments but 3 were given",
         "output_type": "error",
         "traceback": [
          "\u001b[1;31m---------------------------------------------------------------------------\u001b[0m",
          "\u001b[1;31mTypeError\u001b[0m                                 Traceback (most recent call last)",
          "\u001b[1;32mD:\\AnacondaPython\\lib\\site-packages\\ipywidgets\\widgets\\interaction.py\u001b[0m in \u001b[0;36mupdate\u001b[1;34m(self, *args)\u001b[0m\n\u001b[0;32m    249\u001b[0m                     \u001b[0mvalue\u001b[0m \u001b[1;33m=\u001b[0m \u001b[0mwidget\u001b[0m\u001b[1;33m.\u001b[0m\u001b[0mget_interact_value\u001b[0m\u001b[1;33m(\u001b[0m\u001b[1;33m)\u001b[0m\u001b[1;33m\u001b[0m\u001b[0m\n\u001b[0;32m    250\u001b[0m                     \u001b[0mself\u001b[0m\u001b[1;33m.\u001b[0m\u001b[0mkwargs\u001b[0m\u001b[1;33m[\u001b[0m\u001b[0mwidget\u001b[0m\u001b[1;33m.\u001b[0m\u001b[0m_kwarg\u001b[0m\u001b[1;33m]\u001b[0m \u001b[1;33m=\u001b[0m \u001b[0mvalue\u001b[0m\u001b[1;33m\u001b[0m\u001b[0m\n\u001b[1;32m--> 251\u001b[1;33m                 \u001b[0mself\u001b[0m\u001b[1;33m.\u001b[0m\u001b[0mresult\u001b[0m \u001b[1;33m=\u001b[0m \u001b[0mself\u001b[0m\u001b[1;33m.\u001b[0m\u001b[0mf\u001b[0m\u001b[1;33m(\u001b[0m\u001b[1;33m**\u001b[0m\u001b[0mself\u001b[0m\u001b[1;33m.\u001b[0m\u001b[0mkwargs\u001b[0m\u001b[1;33m)\u001b[0m\u001b[1;33m\u001b[0m\u001b[0m\n\u001b[0m\u001b[0;32m    252\u001b[0m                 \u001b[0mshow_inline_matplotlib_plots\u001b[0m\u001b[1;33m(\u001b[0m\u001b[1;33m)\u001b[0m\u001b[1;33m\u001b[0m\u001b[0m\n\u001b[0;32m    253\u001b[0m                 \u001b[1;32mif\u001b[0m \u001b[0mself\u001b[0m\u001b[1;33m.\u001b[0m\u001b[0mauto_display\u001b[0m \u001b[1;32mand\u001b[0m \u001b[0mself\u001b[0m\u001b[1;33m.\u001b[0m\u001b[0mresult\u001b[0m \u001b[1;32mis\u001b[0m \u001b[1;32mnot\u001b[0m \u001b[1;32mNone\u001b[0m\u001b[1;33m:\u001b[0m\u001b[1;33m\u001b[0m\u001b[0m\n",
          "\u001b[1;32m<ipython-input-5-285546274b55>\u001b[0m in \u001b[0;36mupdate\u001b[1;34m(c)\u001b[0m\n\u001b[0;32m     64\u001b[0m     \u001b[0mline\u001b[0m\u001b[1;33m.\u001b[0m\u001b[0mset_ydata\u001b[0m\u001b[1;33m(\u001b[0m\u001b[0mvec\u001b[0m\u001b[1;33m[\u001b[0m\u001b[1;33m:\u001b[0m\u001b[1;33m,\u001b[0m\u001b[1;36m0\u001b[0m\u001b[1;33m]\u001b[0m\u001b[1;33m**\u001b[0m\u001b[1;36m2\u001b[0m\u001b[1;33m)\u001b[0m\u001b[1;33m\u001b[0m\u001b[0m\n\u001b[0;32m     65\u001b[0m     \u001b[0mlinez\u001b[0m\u001b[1;33m.\u001b[0m\u001b[0mset_ydata\u001b[0m\u001b[1;33m(\u001b[0m\u001b[0mc\u001b[0m\u001b[1;33m/\u001b[0m\u001b[1;33m(\u001b[0m\u001b[1;36m1000\u001b[0m\u001b[1;33m*\u001b[0m\u001b[1;33m(\u001b[0m\u001b[0mnp\u001b[0m\u001b[1;33m.\u001b[0m\u001b[0mcosh\u001b[0m\u001b[1;33m(\u001b[0m\u001b[1;36m4\u001b[0m\u001b[1;33m*\u001b[0m\u001b[0mx\u001b[0m\u001b[1;33m)\u001b[0m\u001b[1;33m**\u001b[0m\u001b[1;36m2\u001b[0m\u001b[1;33m)\u001b[0m\u001b[1;33m)\u001b[0m \u001b[1;33m-\u001b[0m \u001b[0mc\u001b[0m\u001b[1;33m/\u001b[0m\u001b[1;33m(\u001b[0m\u001b[1;36m1000\u001b[0m\u001b[1;33m*\u001b[0m\u001b[1;33m(\u001b[0m\u001b[0mnp\u001b[0m\u001b[1;33m.\u001b[0m\u001b[0mcosh\u001b[0m\u001b[1;33m(\u001b[0m\u001b[1;36m4\u001b[0m\u001b[1;33m)\u001b[0m\u001b[1;33m**\u001b[0m\u001b[1;36m2\u001b[0m\u001b[1;33m)\u001b[0m\u001b[1;33m)\u001b[0m\u001b[1;33m)\u001b[0m\u001b[1;33m\u001b[0m\u001b[0m\n\u001b[1;32m---> 66\u001b[1;33m     \u001b[0mliney\u001b[0m\u001b[1;33m.\u001b[0m\u001b[0mset_ydata\u001b[0m\u001b[1;33m(\u001b[0m\u001b[0mx\u001b[0m\u001b[1;33m,\u001b[0m \u001b[0mt\u001b[0m\u001b[1;33m(\u001b[0m\u001b[1;36m100\u001b[0m\u001b[1;33m,\u001b[0m\u001b[0mc\u001b[0m\u001b[1;33m)\u001b[0m \u001b[1;33m@\u001b[0m \u001b[0mvec\u001b[0m\u001b[1;33m[\u001b[0m\u001b[1;33m:\u001b[0m\u001b[1;33m,\u001b[0m\u001b[1;36m0\u001b[0m\u001b[1;33m]\u001b[0m\u001b[1;33m)\u001b[0m\u001b[1;33m\u001b[0m\u001b[0m\n\u001b[0m\u001b[0;32m     67\u001b[0m     \u001b[0mfig\u001b[0m\u001b[1;33m.\u001b[0m\u001b[0mcanvas\u001b[0m\u001b[1;33m.\u001b[0m\u001b[0mdraw\u001b[0m\u001b[1;33m(\u001b[0m\u001b[1;33m)\u001b[0m\u001b[1;33m\u001b[0m\u001b[0m\n\u001b[0;32m     68\u001b[0m \u001b[1;33m\u001b[0m\u001b[0m\n",
          "\u001b[1;31mTypeError\u001b[0m: set_ydata() takes 2 positional arguments but 3 were given"
         ]
        }
       ]
      }
     },
     "0b0f395774734d7a81a4094e4d9bab5b": {
      "model_module": "@jupyter-widgets/base",
      "model_module_version": "1.0.0",
      "model_name": "LayoutModel",
      "state": {}
     },
     "0b606699805640b3b9050be70fba8e44": {
      "model_module": "@jupyter-widgets/base",
      "model_module_version": "1.0.0",
      "model_name": "LayoutModel",
      "state": {}
     },
     "0ba64ad8dec54c4ab864c23d85291f34": {
      "model_module": "@jupyter-widgets/base",
      "model_module_version": "1.0.0",
      "model_name": "LayoutModel",
      "state": {}
     },
     "0ba7f5df42004ba09a2fee77a533bf68": {
      "model_module": "@jupyter-widgets/base",
      "model_module_version": "1.0.0",
      "model_name": "LayoutModel",
      "state": {}
     },
     "0c2ce0f589eb41509917bf7b7e7743fd": {
      "model_module": "@jupyter-widgets/output",
      "model_module_version": "1.0.0",
      "model_name": "OutputModel",
      "state": {
       "layout": "IPY_MODEL_6b0c4723fa1f4ff18cc64cd3eb6d3dbe"
      }
     },
     "0cd542174c56436db9d6e9edc78e7591": {
      "model_module": "@jupyter-widgets/base",
      "model_module_version": "1.0.0",
      "model_name": "LayoutModel",
      "state": {}
     },
     "0d015bae554b465eb62fa2871040ea09": {
      "model_module": "@jupyter-widgets/output",
      "model_module_version": "1.0.0",
      "model_name": "OutputModel",
      "state": {
       "layout": "IPY_MODEL_bf6a318237b24c26a5d728bda7e849f4",
       "outputs": [
        {
         "data": {
          "image/png": "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\n",
          "text/plain": "<Figure size 432x288 with 1 Axes>"
         },
         "metadata": {},
         "output_type": "display_data"
        }
       ]
      }
     },
     "0d69ca4683924ac78325a81fdf20b7d8": {
      "model_module": "@jupyter-widgets/controls",
      "model_module_version": "1.2.0",
      "model_name": "IntSliderModel",
      "state": {
       "description": "c",
       "layout": "IPY_MODEL_6cfdc8231d44430db020a73cc77d2c54",
       "max": 500,
       "min": -500,
       "style": "IPY_MODEL_8710c317cd3c4a5d89a790f9d0fa3e64",
       "value": 44
      }
     },
     "0d90b73237004e9bb36ee00f7060e19d": {
      "model_module": "@jupyter-widgets/base",
      "model_module_version": "1.0.0",
      "model_name": "LayoutModel",
      "state": {}
     },
     "0dbb8792e5494e248df5f67e803a08fd": {
      "model_module": "@jupyter-widgets/base",
      "model_module_version": "1.0.0",
      "model_name": "LayoutModel",
      "state": {}
     },
     "0f98774c0fab4ee8af9520d39db06b55": {
      "model_module": "@jupyter-widgets/output",
      "model_module_version": "1.0.0",
      "model_name": "OutputModel",
      "state": {
       "layout": "IPY_MODEL_9a2c3679bffe43fbad61ea3e20982aa4"
      }
     },
     "101c14e5304c4fb29f06065eed54103b": {
      "model_module": "@jupyter-widgets/controls",
      "model_module_version": "1.2.0",
      "model_name": "VBoxModel",
      "state": {
       "_dom_classes": [
        "widget-interact"
       ],
       "children": [
        "IPY_MODEL_fff1452423994d7f9525076f91e558e0",
        "IPY_MODEL_96af38874ce644c2850b5d9056d87e82"
       ],
       "layout": "IPY_MODEL_30b60c3635b24f0bae845c0328e8750d"
      }
     },
     "103d84833df44f9dbd92064ba20a81fa": {
      "model_module": "@jupyter-widgets/controls",
      "model_module_version": "1.2.0",
      "model_name": "VBoxModel",
      "state": {
       "_dom_classes": [
        "widget-interact"
       ],
       "children": [
        "IPY_MODEL_714dba23e90947c58fb097877d858a06",
        "IPY_MODEL_488fe3145ba047c4b45c9aaa72cec3b0"
       ],
       "layout": "IPY_MODEL_7e5e7b458b674fbdb70e944d58b29cb7"
      }
     },
     "11082665d5b442a3b1f32e2ac3630170": {
      "model_module": "@jupyter-widgets/controls",
      "model_module_version": "1.2.0",
      "model_name": "SliderStyleModel",
      "state": {
       "description_width": ""
      }
     },
     "11eab11223874e4aa5f178cf3b0265f7": {
      "model_module": "@jupyter-widgets/controls",
      "model_module_version": "1.2.0",
      "model_name": "VBoxModel",
      "state": {
       "_dom_classes": [
        "widget-interact"
       ],
       "children": [
        "IPY_MODEL_64cf54c888a1413eb1e8d2e199c7026b",
        "IPY_MODEL_d067b6e09d2c46fcb911aa9bb4d840c5"
       ],
       "layout": "IPY_MODEL_ba1423e4090645d691306483feeefb6c"
      }
     },
     "123a1ec2917b4d68aff089419564a391": {
      "model_module": "@jupyter-widgets/controls",
      "model_module_version": "1.2.0",
      "model_name": "IntSliderModel",
      "state": {
       "description": "c",
       "layout": "IPY_MODEL_f0b5eae1ab3f4797824774855bbedd0c",
       "max": 500,
       "min": -500,
       "style": "IPY_MODEL_aaad31a5f4194c608c09865486f985ab",
       "value": 1
      }
     },
     "132d864e5b384718b99b788a5d4e324a": {
      "model_module": "@jupyter-widgets/controls",
      "model_module_version": "1.2.0",
      "model_name": "IntSliderModel",
      "state": {
       "description": "c",
       "layout": "IPY_MODEL_058dadda5ef543c89fc4af9fab90752a",
       "max": 500,
       "min": -500,
       "style": "IPY_MODEL_f2db98e513e54786b62b46d7bbb5c5ee",
       "value": 69
      }
     },
     "133d1d3e43504bac8b0f524e32d8d0e2": {
      "model_module": "@jupyter-widgets/base",
      "model_module_version": "1.0.0",
      "model_name": "LayoutModel",
      "state": {}
     },
     "13655a655c484c3ba2391c9b3512ac86": {
      "model_module": "@jupyter-widgets/base",
      "model_module_version": "1.0.0",
      "model_name": "LayoutModel",
      "state": {}
     },
     "13be72b26a0544d2a77d446d27f8a5b6": {
      "model_module": "@jupyter-widgets/base",
      "model_module_version": "1.0.0",
      "model_name": "LayoutModel",
      "state": {}
     },
     "14afe80a145b46c18fac694b2535429e": {
      "model_module": "@jupyter-widgets/base",
      "model_module_version": "1.0.0",
      "model_name": "LayoutModel",
      "state": {}
     },
     "15aedf290fc14662be1f2a18ba0c996d": {
      "model_module": "@jupyter-widgets/output",
      "model_module_version": "1.0.0",
      "model_name": "OutputModel",
      "state": {
       "layout": "IPY_MODEL_90f3cf7e68f84a9cb82c858f58370599"
      }
     },
     "16111f549c9244f7b129d0995f98cf01": {
      "model_module": "@jupyter-widgets/controls",
      "model_module_version": "1.2.0",
      "model_name": "SliderStyleModel",
      "state": {
       "description_width": ""
      }
     },
     "162019b4350f48ea82f8b3f0f0f85077": {
      "model_module": "@jupyter-widgets/base",
      "model_module_version": "1.0.0",
      "model_name": "LayoutModel",
      "state": {}
     },
     "172af993adff44a7b1bb781d558df610": {
      "model_module": "@jupyter-widgets/base",
      "model_module_version": "1.0.0",
      "model_name": "LayoutModel",
      "state": {}
     },
     "1732fa2eecd6456eb586d898c00c8c1c": {
      "model_module": "@jupyter-widgets/base",
      "model_module_version": "1.0.0",
      "model_name": "LayoutModel",
      "state": {}
     },
     "175b2eed097e4b05b3b623ee3295cd19": {
      "model_module": "@jupyter-widgets/controls",
      "model_module_version": "1.2.0",
      "model_name": "IntSliderModel",
      "state": {
       "description": "e",
       "layout": "IPY_MODEL_8398e7304bc244ebb278bbb2e1968083",
       "max": 500,
       "min": -500,
       "style": "IPY_MODEL_d62c9b780e284b658b2aa241be46d7fa",
       "value": 1
      }
     },
     "17e6b2e4fbf142e4894bd0a14b286b4b": {
      "model_module": "@jupyter-widgets/controls",
      "model_module_version": "1.2.0",
      "model_name": "VBoxModel",
      "state": {
       "_dom_classes": [
        "widget-interact"
       ],
       "children": [
        "IPY_MODEL_b644362dc2654d6fa1332d8dc7cda43f",
        "IPY_MODEL_0d015bae554b465eb62fa2871040ea09"
       ],
       "layout": "IPY_MODEL_353758046bbc40d49e56121892d945fd"
      }
     },
     "17fb8bf6a53141c3976df0f9191c1095": {
      "model_module": "@jupyter-widgets/base",
      "model_module_version": "1.0.0",
      "model_name": "LayoutModel",
      "state": {}
     },
     "184b5971d32744c88de5cd3b36578035": {
      "model_module": "@jupyter-widgets/base",
      "model_module_version": "1.0.0",
      "model_name": "LayoutModel",
      "state": {}
     },
     "185f3945c7e54303bd86f0c51b7cfda6": {
      "model_module": "@jupyter-widgets/base",
      "model_module_version": "1.0.0",
      "model_name": "LayoutModel",
      "state": {}
     },
     "1916055591a44f64b2503eb077a2d1c1": {
      "model_module": "@jupyter-widgets/base",
      "model_module_version": "1.0.0",
      "model_name": "LayoutModel",
      "state": {}
     },
     "19a8089d959e4f0db4712c9cca115c9c": {
      "model_module": "@jupyter-widgets/base",
      "model_module_version": "1.0.0",
      "model_name": "LayoutModel",
      "state": {}
     },
     "19be82226e4f445ab3ef97a830b75654": {
      "model_module": "@jupyter-widgets/base",
      "model_module_version": "1.0.0",
      "model_name": "LayoutModel",
      "state": {}
     },
     "1a3d45c2ba05427ca6425064e52792ee": {
      "model_module": "@jupyter-widgets/base",
      "model_module_version": "1.0.0",
      "model_name": "LayoutModel",
      "state": {}
     },
     "1b30451bd06f453ca7a8eed5a179ff2c": {
      "model_module": "@jupyter-widgets/controls",
      "model_module_version": "1.2.0",
      "model_name": "SliderStyleModel",
      "state": {
       "description_width": ""
      }
     },
     "1bc75d5a850e425bbf09ae6b691cc59c": {
      "model_module": "@jupyter-widgets/base",
      "model_module_version": "1.0.0",
      "model_name": "LayoutModel",
      "state": {}
     },
     "1d21a591c4a740458a4618a8ef259aad": {
      "model_module": "@jupyter-widgets/base",
      "model_module_version": "1.0.0",
      "model_name": "LayoutModel",
      "state": {}
     },
     "1e5ec888854e45359ae5f78a630ec51d": {
      "model_module": "@jupyter-widgets/base",
      "model_module_version": "1.0.0",
      "model_name": "LayoutModel",
      "state": {}
     },
     "1e6ab9b83ba5403fb0eec3c39062ab4e": {
      "model_module": "@jupyter-widgets/base",
      "model_module_version": "1.0.0",
      "model_name": "LayoutModel",
      "state": {}
     },
     "1eb5a2855bec45899d9a48560ae06991": {
      "model_module": "@jupyter-widgets/output",
      "model_module_version": "1.0.0",
      "model_name": "OutputModel",
      "state": {
       "layout": "IPY_MODEL_6110ab97f40d47a193acc58426983447"
      }
     },
     "1ee9271d7b0040fcae6f6e06de031ca1": {
      "model_module": "@jupyter-widgets/controls",
      "model_module_version": "1.2.0",
      "model_name": "VBoxModel",
      "state": {
       "_dom_classes": [
        "widget-interact"
       ],
       "children": [
        "IPY_MODEL_43882076ae064379873698cc46132fa0",
        "IPY_MODEL_a08d91265c434a0d82279eb4ca33459a"
       ],
       "layout": "IPY_MODEL_bd300ac71eaa4877afd14e7a6ef2074b"
      }
     },
     "1f2d277c00074393b4272d60db710ab1": {
      "model_module": "@jupyter-widgets/controls",
      "model_module_version": "1.2.0",
      "model_name": "SliderStyleModel",
      "state": {
       "description_width": ""
      }
     },
     "1f7d0e5acd4d4527ac31204b4cb3139f": {
      "model_module": "@jupyter-widgets/controls",
      "model_module_version": "1.2.0",
      "model_name": "IntSliderModel",
      "state": {
       "description": "e",
       "layout": "IPY_MODEL_b13cc44a8ddb4a278790341a57971efe",
       "max": 500,
       "min": -500,
       "style": "IPY_MODEL_9559ee2e95aa43a096905b8f61b9f600",
       "value": 1
      }
     },
     "206940dc2d7b47559b3732cf535e3b8a": {
      "model_module": "@jupyter-widgets/base",
      "model_module_version": "1.0.0",
      "model_name": "LayoutModel",
      "state": {}
     },
     "20ef44c8c8a74ad18774cd16f678d181": {
      "model_module": "@jupyter-widgets/controls",
      "model_module_version": "1.2.0",
      "model_name": "SliderStyleModel",
      "state": {
       "description_width": ""
      }
     },
     "20f5e5fbe312467d970a3d1b5af878f1": {
      "model_module": "@jupyter-widgets/controls",
      "model_module_version": "1.2.0",
      "model_name": "IntSliderModel",
      "state": {
       "description": "c",
       "layout": "IPY_MODEL_c7366668e6814cb08e967875f7223517",
       "max": 500,
       "min": -500,
       "style": "IPY_MODEL_411e7e187d784156955f356654015e9e",
       "value": 1
      }
     },
     "2196f9ac2506444fa08f3976ad9acba6": {
      "model_module": "@jupyter-widgets/base",
      "model_module_version": "1.0.0",
      "model_name": "LayoutModel",
      "state": {}
     },
     "223a82f5802b40dba8ff0cd2df5441a7": {
      "model_module": "@jupyter-widgets/base",
      "model_module_version": "1.0.0",
      "model_name": "LayoutModel",
      "state": {}
     },
     "23939df4b8034a0ab46fae8485a8c8a7": {
      "model_module": "@jupyter-widgets/output",
      "model_module_version": "1.0.0",
      "model_name": "OutputModel",
      "state": {
       "layout": "IPY_MODEL_420a83496a6f4b84a0c73dde6f98ca57"
      }
     },
     "242ba9b378f240139c07dda86ddaf0eb": {
      "model_module": "@jupyter-widgets/base",
      "model_module_version": "1.0.0",
      "model_name": "LayoutModel",
      "state": {}
     },
     "246b2e79a4374e4ebab65e804576a961": {
      "model_module": "@jupyter-widgets/base",
      "model_module_version": "1.0.0",
      "model_name": "LayoutModel",
      "state": {}
     },
     "24a7e7af0b8445e292e0da8b6e83b2ea": {
      "model_module": "@jupyter-widgets/controls",
      "model_module_version": "1.2.0",
      "model_name": "VBoxModel",
      "state": {
       "_dom_classes": [
        "widget-interact"
       ],
       "children": [
        "IPY_MODEL_2ec3c6a38b5343799ea86ea2fc2c25db",
        "IPY_MODEL_817d72a78e6c4b7cb401a339cfee2a29"
       ],
       "layout": "IPY_MODEL_184b5971d32744c88de5cd3b36578035"
      }
     },
     "24c49bf3f06445e8a3fab0f87e8da05c": {
      "model_module": "@jupyter-widgets/base",
      "model_module_version": "1.0.0",
      "model_name": "LayoutModel",
      "state": {}
     },
     "24f33a9f4ad34a84a7ba1eaec12d5ab7": {
      "model_module": "@jupyter-widgets/controls",
      "model_module_version": "1.2.0",
      "model_name": "VBoxModel",
      "state": {
       "_dom_classes": [
        "widget-interact"
       ],
       "children": [
        "IPY_MODEL_132d864e5b384718b99b788a5d4e324a",
        "IPY_MODEL_c506c77790504b6e871d6e06a28fbe86"
       ],
       "layout": "IPY_MODEL_9ca2ee5117154ece91e96284c19f2d8f"
      }
     },
     "2528d2ca0f9249278f4ed4387b449c59": {
      "model_module": "@jupyter-widgets/base",
      "model_module_version": "1.0.0",
      "model_name": "LayoutModel",
      "state": {}
     },
     "2587f45354424dc4a92bde4b2f242742": {
      "model_module": "@jupyter-widgets/controls",
      "model_module_version": "1.2.0",
      "model_name": "VBoxModel",
      "state": {
       "_dom_classes": [
        "widget-interact"
       ],
       "children": [
        "IPY_MODEL_269ae4a2c27f45cf8ab165236ff8a642",
        "IPY_MODEL_0f98774c0fab4ee8af9520d39db06b55"
       ],
       "layout": "IPY_MODEL_6ca09a27847540e081bba6dd5641507e"
      }
     },
     "2597dcf8a2ba4b0e8d63fc2bb131079d": {
      "model_module": "@jupyter-widgets/base",
      "model_module_version": "1.0.0",
      "model_name": "LayoutModel",
      "state": {}
     },
     "25fde21880b2420e9075620583b2aeaf": {
      "model_module": "@jupyter-widgets/base",
      "model_module_version": "1.0.0",
      "model_name": "LayoutModel",
      "state": {}
     },
     "264b2f4307594864af670e59c0d756cd": {
      "model_module": "@jupyter-widgets/output",
      "model_module_version": "1.0.0",
      "model_name": "OutputModel",
      "state": {
       "layout": "IPY_MODEL_133d1d3e43504bac8b0f524e32d8d0e2",
       "outputs": [
        {
         "ename": "TypeError",
         "evalue": "set_ydata() missing 1 required positional argument: 'y'",
         "output_type": "error",
         "traceback": [
          "\u001b[1;31m---------------------------------------------------------------------------\u001b[0m",
          "\u001b[1;31mTypeError\u001b[0m                                 Traceback (most recent call last)",
          "\u001b[1;32mD:\\AnacondaPython\\lib\\site-packages\\ipywidgets\\widgets\\interaction.py\u001b[0m in \u001b[0;36mupdate\u001b[1;34m(self, *args)\u001b[0m\n\u001b[0;32m    249\u001b[0m                     \u001b[0mvalue\u001b[0m \u001b[1;33m=\u001b[0m \u001b[0mwidget\u001b[0m\u001b[1;33m.\u001b[0m\u001b[0mget_interact_value\u001b[0m\u001b[1;33m(\u001b[0m\u001b[1;33m)\u001b[0m\u001b[1;33m\u001b[0m\u001b[0m\n\u001b[0;32m    250\u001b[0m                     \u001b[0mself\u001b[0m\u001b[1;33m.\u001b[0m\u001b[0mkwargs\u001b[0m\u001b[1;33m[\u001b[0m\u001b[0mwidget\u001b[0m\u001b[1;33m.\u001b[0m\u001b[0m_kwarg\u001b[0m\u001b[1;33m]\u001b[0m \u001b[1;33m=\u001b[0m \u001b[0mvalue\u001b[0m\u001b[1;33m\u001b[0m\u001b[0m\n\u001b[1;32m--> 251\u001b[1;33m                 \u001b[0mself\u001b[0m\u001b[1;33m.\u001b[0m\u001b[0mresult\u001b[0m \u001b[1;33m=\u001b[0m \u001b[0mself\u001b[0m\u001b[1;33m.\u001b[0m\u001b[0mf\u001b[0m\u001b[1;33m(\u001b[0m\u001b[1;33m**\u001b[0m\u001b[0mself\u001b[0m\u001b[1;33m.\u001b[0m\u001b[0mkwargs\u001b[0m\u001b[1;33m)\u001b[0m\u001b[1;33m\u001b[0m\u001b[0m\n\u001b[0m\u001b[0;32m    252\u001b[0m                 \u001b[0mshow_inline_matplotlib_plots\u001b[0m\u001b[1;33m(\u001b[0m\u001b[1;33m)\u001b[0m\u001b[1;33m\u001b[0m\u001b[0m\n\u001b[0;32m    253\u001b[0m                 \u001b[1;32mif\u001b[0m \u001b[0mself\u001b[0m\u001b[1;33m.\u001b[0m\u001b[0mauto_display\u001b[0m \u001b[1;32mand\u001b[0m \u001b[0mself\u001b[0m\u001b[1;33m.\u001b[0m\u001b[0mresult\u001b[0m \u001b[1;32mis\u001b[0m \u001b[1;32mnot\u001b[0m \u001b[1;32mNone\u001b[0m\u001b[1;33m:\u001b[0m\u001b[1;33m\u001b[0m\u001b[0m\n",
          "\u001b[1;32m<ipython-input-2-d64ec24182a8>\u001b[0m in \u001b[0;36mupdate\u001b[1;34m(c)\u001b[0m\n\u001b[0;32m     69\u001b[0m     \u001b[0mliney\u001b[0m\u001b[1;33m.\u001b[0m\u001b[0mset_ydata\u001b[0m\u001b[1;33m(\u001b[0m\u001b[0mb\u001b[0m \u001b[1;33m+\u001b[0m \u001b[0mc\u001b[0m\u001b[1;33m/\u001b[0m\u001b[1;33m(\u001b[0m\u001b[1;33m(\u001b[0m\u001b[0mnp\u001b[0m\u001b[1;33m.\u001b[0m\u001b[0mcosh\u001b[0m\u001b[1;33m(\u001b[0m\u001b[1;36m4\u001b[0m\u001b[1;33m*\u001b[0m\u001b[0mx\u001b[0m\u001b[1;33m)\u001b[0m\u001b[1;33m**\u001b[0m\u001b[1;36m2\u001b[0m\u001b[1;33m)\u001b[0m\u001b[1;33m)\u001b[0m \u001b[1;33m-\u001b[0m \u001b[0mc\u001b[0m\u001b[1;33m/\u001b[0m\u001b[1;33m(\u001b[0m\u001b[1;33m(\u001b[0m\u001b[0mnp\u001b[0m\u001b[1;33m.\u001b[0m\u001b[0mcosh\u001b[0m\u001b[1;33m(\u001b[0m\u001b[1;36m4\u001b[0m\u001b[1;33m)\u001b[0m\u001b[1;33m**\u001b[0m\u001b[1;36m2\u001b[0m\u001b[1;33m)\u001b[0m\u001b[1;33m)\u001b[0m\u001b[1;33m)\u001b[0m\u001b[1;33m\u001b[0m\u001b[0m\n\u001b[0;32m     70\u001b[0m \u001b[1;33m\u001b[0m\u001b[0m\n\u001b[1;32m---> 71\u001b[1;33m     \u001b[0mlinee\u001b[0m\u001b[1;33m.\u001b[0m\u001b[0mset_ydata\u001b[0m\u001b[1;33m(\u001b[0m\u001b[1;33m)\u001b[0m\u001b[1;33m\u001b[0m\u001b[0m\n\u001b[0m\u001b[0;32m     72\u001b[0m     \u001b[0mfig\u001b[0m\u001b[1;33m.\u001b[0m\u001b[0mcanvas\u001b[0m\u001b[1;33m.\u001b[0m\u001b[0mdraw\u001b[0m\u001b[1;33m(\u001b[0m\u001b[1;33m)\u001b[0m\u001b[1;33m\u001b[0m\u001b[0m\n\u001b[0;32m     73\u001b[0m \u001b[1;33m\u001b[0m\u001b[0m\n",
          "\u001b[1;31mTypeError\u001b[0m: set_ydata() missing 1 required positional argument: 'y'"
         ]
        }
       ]
      }
     },
     "269ae4a2c27f45cf8ab165236ff8a642": {
      "model_module": "@jupyter-widgets/controls",
      "model_module_version": "1.2.0",
      "model_name": "IntSliderModel",
      "state": {
       "description": "c",
       "layout": "IPY_MODEL_47d2b7b8329748a5ac0c6273c2fa39de",
       "max": 500,
       "min": -500,
       "style": "IPY_MODEL_c3ccaad2c2d24a5fb11c2aa9e2d7e072",
       "value": 1
      }
     },
     "269e854f90fa4a2392eee06361b0d36a": {
      "model_module": "@jupyter-widgets/controls",
      "model_module_version": "1.2.0",
      "model_name": "SliderStyleModel",
      "state": {
       "description_width": ""
      }
     },
     "2780aedec4f14aa78e4dc76efe620e78": {
      "model_module": "@jupyter-widgets/controls",
      "model_module_version": "1.2.0",
      "model_name": "VBoxModel",
      "state": {
       "_dom_classes": [
        "widget-interact"
       ],
       "children": [
        "IPY_MODEL_895701d73dba4ba188e6235c6a125c62",
        "IPY_MODEL_1eb5a2855bec45899d9a48560ae06991"
       ],
       "layout": "IPY_MODEL_9fd6467443cb410d875d2482a2960645"
      }
     },
     "2839e77885e04a1d8bec65a8efbf54a4": {
      "model_module": "@jupyter-widgets/base",
      "model_module_version": "1.0.0",
      "model_name": "LayoutModel",
      "state": {}
     },
     "290df0c9bb064406a82cc34beef7dcdd": {
      "model_module": "@jupyter-widgets/base",
      "model_module_version": "1.0.0",
      "model_name": "LayoutModel",
      "state": {}
     },
     "29861857e78f4afa8426779ce83208a6": {
      "model_module": "@jupyter-widgets/controls",
      "model_module_version": "1.2.0",
      "model_name": "IntSliderModel",
      "state": {
       "description": "c",
       "layout": "IPY_MODEL_7057f3ea967c4c3fb60ce15af6a8fd17",
       "max": 500,
       "min": -500,
       "style": "IPY_MODEL_36a856a7f4b04c7aafb7fc1f26a4e0c5",
       "value": 1
      }
     },
     "2a654100fa134e9c8f56b81d83df0cff": {
      "model_module": "@jupyter-widgets/base",
      "model_module_version": "1.0.0",
      "model_name": "LayoutModel",
      "state": {}
     },
     "2a6f862c85554c36b16130c114d193fe": {
      "model_module": "@jupyter-widgets/controls",
      "model_module_version": "1.2.0",
      "model_name": "IntSliderModel",
      "state": {
       "description": "c",
       "layout": "IPY_MODEL_82ad689648024cabb18cac5253eeae0d",
       "max": 500,
       "min": -500,
       "style": "IPY_MODEL_50a6fe495bd34f2ea3ae278f8c2f659b",
       "value": 1
      }
     },
     "2abe5acb0333415e806d7e5a760710ca": {
      "model_module": "@jupyter-widgets/controls",
      "model_module_version": "1.2.0",
      "model_name": "SliderStyleModel",
      "state": {
       "description_width": ""
      }
     },
     "2ac7f39c9db9430e8dc05f7612a7c9c7": {
      "model_module": "@jupyter-widgets/base",
      "model_module_version": "1.0.0",
      "model_name": "LayoutModel",
      "state": {}
     },
     "2b40f1f7b70b4f3087173b7459c05715": {
      "model_module": "@jupyter-widgets/controls",
      "model_module_version": "1.2.0",
      "model_name": "IntSliderModel",
      "state": {
       "description": "c",
       "layout": "IPY_MODEL_32942460f39f4efe87e2aad80964c055",
       "max": 500,
       "min": -500,
       "style": "IPY_MODEL_aebe1156d20049f7885e3c089cb66242",
       "value": 20
      }
     },
     "2b8d19d5008640dd915753e98b2eb1e3": {
      "model_module": "@jupyter-widgets/base",
      "model_module_version": "1.0.0",
      "model_name": "LayoutModel",
      "state": {}
     },
     "2c50029d01b048c39a6ec7c05be5a725": {
      "model_module": "@jupyter-widgets/controls",
      "model_module_version": "1.2.0",
      "model_name": "IntSliderModel",
      "state": {
       "description": "c",
       "layout": "IPY_MODEL_55351d6c51c144ffa14d42e72b32bbd3",
       "max": 500,
       "min": -500,
       "style": "IPY_MODEL_9e666fe22e294907830c00f69de47ce2",
       "value": -145
      }
     },
     "2d7a38aa7ad84d82aa1d257aeaa5ef0f": {
      "model_module": "@jupyter-widgets/controls",
      "model_module_version": "1.2.0",
      "model_name": "SliderStyleModel",
      "state": {
       "description_width": ""
      }
     },
     "2dc0693ee845489c8b23f989be3ab5ad": {
      "model_module": "@jupyter-widgets/output",
      "model_module_version": "1.0.0",
      "model_name": "OutputModel",
      "state": {
       "layout": "IPY_MODEL_7f0b25ae1c204b7cb89fe7e3b7baed0f"
      }
     },
     "2e21b8af2cb1403a84cf220819808678": {
      "model_module": "@jupyter-widgets/base",
      "model_module_version": "1.0.0",
      "model_name": "LayoutModel",
      "state": {}
     },
     "2e5553d675cb41259447ea360820c694": {
      "model_module": "@jupyter-widgets/output",
      "model_module_version": "1.0.0",
      "model_name": "OutputModel",
      "state": {
       "layout": "IPY_MODEL_70189e6ccec540748af3f2ee08ca29d3"
      }
     },
     "2ec3c6a38b5343799ea86ea2fc2c25db": {
      "model_module": "@jupyter-widgets/controls",
      "model_module_version": "1.2.0",
      "model_name": "IntSliderModel",
      "state": {
       "description": "c",
       "layout": "IPY_MODEL_f89b5c6328bd4965ac905edc027fc09a",
       "max": 500,
       "min": -500,
       "style": "IPY_MODEL_82da8be043a34736bb8027f1c124bec1",
       "value": 4
      }
     },
     "2f6c83331aeb4f7a8c1672eca66774d7": {
      "model_module": "@jupyter-widgets/controls",
      "model_module_version": "1.2.0",
      "model_name": "VBoxModel",
      "state": {
       "_dom_classes": [
        "widget-interact"
       ],
       "children": [
        "IPY_MODEL_940701cdfa564f2187569ccae5f960a6",
        "IPY_MODEL_feb8bd5e849f485ba1ad6c88f0759fe4"
       ],
       "layout": "IPY_MODEL_e001c408262648729da727279922a7f8"
      }
     },
     "2f7000cea17843bba54dfbcd53bf3d15": {
      "model_module": "@jupyter-widgets/base",
      "model_module_version": "1.0.0",
      "model_name": "LayoutModel",
      "state": {}
     },
     "2fa1c4a055544c29ab10705f6e3a02b8": {
      "model_module": "@jupyter-widgets/base",
      "model_module_version": "1.0.0",
      "model_name": "LayoutModel",
      "state": {}
     },
     "3035c17255b943de91f99ba23f23fb17": {
      "model_module": "@jupyter-widgets/controls",
      "model_module_version": "1.2.0",
      "model_name": "VBoxModel",
      "state": {
       "_dom_classes": [
        "widget-interact"
       ],
       "children": [
        "IPY_MODEL_097d4b8c44b04176b78c183564aa9d83",
        "IPY_MODEL_ee94896624704b4eb8f490339a4cb78e"
       ],
       "layout": "IPY_MODEL_c0fc65fc6cd34b6589899d918de213ab"
      }
     },
     "30a128b30e6142e4b1954572dc7d1941": {
      "model_module": "@jupyter-widgets/base",
      "model_module_version": "1.0.0",
      "model_name": "LayoutModel",
      "state": {}
     },
     "30b60c3635b24f0bae845c0328e8750d": {
      "model_module": "@jupyter-widgets/base",
      "model_module_version": "1.0.0",
      "model_name": "LayoutModel",
      "state": {}
     },
     "323ca638b61d4ecba65d26b98a5945a9": {
      "model_module": "@jupyter-widgets/controls",
      "model_module_version": "1.2.0",
      "model_name": "VBoxModel",
      "state": {
       "_dom_classes": [
        "widget-interact"
       ],
       "children": [
        "IPY_MODEL_2b40f1f7b70b4f3087173b7459c05715",
        "IPY_MODEL_5f8307b86656460a8b340a2887ae7459"
       ],
       "layout": "IPY_MODEL_290df0c9bb064406a82cc34beef7dcdd"
      }
     },
     "328b447489f04c319337a9569bd52cf8": {
      "model_module": "@jupyter-widgets/controls",
      "model_module_version": "1.2.0",
      "model_name": "VBoxModel",
      "state": {
       "_dom_classes": [
        "widget-interact"
       ],
       "children": [
        "IPY_MODEL_bef97a16c39444edbc33bd65ccec07c1",
        "IPY_MODEL_23939df4b8034a0ab46fae8485a8c8a7"
       ],
       "layout": "IPY_MODEL_3bc5c1fd00f446a5bc2e78a7e19d44ba"
      }
     },
     "32942460f39f4efe87e2aad80964c055": {
      "model_module": "@jupyter-widgets/base",
      "model_module_version": "1.0.0",
      "model_name": "LayoutModel",
      "state": {}
     },
     "3328c20a5ca442bbb5a8cb960505eb57": {
      "model_module": "@jupyter-widgets/output",
      "model_module_version": "1.0.0",
      "model_name": "OutputModel",
      "state": {
       "layout": "IPY_MODEL_35607857f9264390a08768b14310d36f"
      }
     },
     "33bb8756854e4ec9a9bdec904cbf9a4a": {
      "model_module": "@jupyter-widgets/controls",
      "model_module_version": "1.2.0",
      "model_name": "VBoxModel",
      "state": {
       "_dom_classes": [
        "widget-interact"
       ],
       "children": [
        "IPY_MODEL_0d69ca4683924ac78325a81fdf20b7d8",
        "IPY_MODEL_ac421deeaf8e40ac86059a107f33de97"
       ],
       "layout": "IPY_MODEL_6fa97162717944bf98a8f589971193ff"
      }
     },
     "3403f409f3f245a2925948f1446410ee": {
      "model_module": "@jupyter-widgets/base",
      "model_module_version": "1.0.0",
      "model_name": "LayoutModel",
      "state": {}
     },
     "343fa21381464e88927b4702c67f9ca5": {
      "model_module": "@jupyter-widgets/controls",
      "model_module_version": "1.2.0",
      "model_name": "SliderStyleModel",
      "state": {
       "description_width": ""
      }
     },
     "344742ff35624d73a6b182a211e38546": {
      "model_module": "@jupyter-widgets/controls",
      "model_module_version": "1.2.0",
      "model_name": "IntSliderModel",
      "state": {
       "description": "c",
       "layout": "IPY_MODEL_0b606699805640b3b9050be70fba8e44",
       "max": 500,
       "min": -500,
       "style": "IPY_MODEL_c40d945e10744600abf5e0d8ae34bc9e",
       "value": 1
      }
     },
     "3463c92731ee44a2bb3b003484754158": {
      "model_module": "@jupyter-widgets/base",
      "model_module_version": "1.0.0",
      "model_name": "LayoutModel",
      "state": {}
     },
     "3474913c2b064d68a483e5647faa9668": {
      "model_module": "@jupyter-widgets/base",
      "model_module_version": "1.0.0",
      "model_name": "LayoutModel",
      "state": {}
     },
     "3526f43d71184faa85b07d4f93b85d4e": {
      "model_module": "@jupyter-widgets/controls",
      "model_module_version": "1.2.0",
      "model_name": "SliderStyleModel",
      "state": {
       "description_width": ""
      }
     },
     "353758046bbc40d49e56121892d945fd": {
      "model_module": "@jupyter-widgets/base",
      "model_module_version": "1.0.0",
      "model_name": "LayoutModel",
      "state": {}
     },
     "35607857f9264390a08768b14310d36f": {
      "model_module": "@jupyter-widgets/base",
      "model_module_version": "1.0.0",
      "model_name": "LayoutModel",
      "state": {}
     },
     "358af3966ae64499a0cef1d86c549dd4": {
      "model_module": "@jupyter-widgets/base",
      "model_module_version": "1.0.0",
      "model_name": "LayoutModel",
      "state": {}
     },
     "36869dae16f248d8b110d33efedcfe7b": {
      "model_module": "@jupyter-widgets/controls",
      "model_module_version": "1.2.0",
      "model_name": "IntSliderModel",
      "state": {
       "description": "c",
       "layout": "IPY_MODEL_19a8089d959e4f0db4712c9cca115c9c",
       "max": 500,
       "min": -500,
       "style": "IPY_MODEL_96f4b3aef2bd447a982c1a6a42cf7949",
       "value": 1
      }
     },
     "36a856a7f4b04c7aafb7fc1f26a4e0c5": {
      "model_module": "@jupyter-widgets/controls",
      "model_module_version": "1.2.0",
      "model_name": "SliderStyleModel",
      "state": {
       "description_width": ""
      }
     },
     "36b1345f624b422eba08f4f4fa850a1a": {
      "model_module": "@jupyter-widgets/output",
      "model_module_version": "1.0.0",
      "model_name": "OutputModel",
      "state": {
       "layout": "IPY_MODEL_58b2d3f5308e4961ba8204db3a023bcb"
      }
     },
     "36bd56b113d64c6697e8b74bbdcf3966": {
      "model_module": "@jupyter-widgets/controls",
      "model_module_version": "1.2.0",
      "model_name": "VBoxModel",
      "state": {
       "_dom_classes": [
        "widget-interact"
       ],
       "children": [
        "IPY_MODEL_457a5231545747208d323601d16394ae",
        "IPY_MODEL_b9997fe3919d4ec4b127d25aeb921abb"
       ],
       "layout": "IPY_MODEL_19be82226e4f445ab3ef97a830b75654"
      }
     },
     "372af10d445a4402b95c0732cd0c887f": {
      "model_module": "@jupyter-widgets/base",
      "model_module_version": "1.0.0",
      "model_name": "LayoutModel",
      "state": {}
     },
     "378413cb77574d90865581fb69fd4d42": {
      "model_module": "@jupyter-widgets/output",
      "model_module_version": "1.0.0",
      "model_name": "OutputModel",
      "state": {
       "layout": "IPY_MODEL_f7072786f71e4d14ac44a3076f87b6c5",
       "outputs": [
        {
         "data": {
          "image/png": "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\n",
          "text/plain": "<Figure size 432x288 with 1 Axes>"
         },
         "metadata": {},
         "output_type": "display_data"
        }
       ]
      }
     },
     "393ea25bf2aa4e5e90c5a3fd021bbd06": {
      "model_module": "@jupyter-widgets/controls",
      "model_module_version": "1.2.0",
      "model_name": "IntSliderModel",
      "state": {
       "description": "d",
       "layout": "IPY_MODEL_fc6cc5c8e6594727a32eb68100d35cc5",
       "max": 500,
       "min": -500,
       "style": "IPY_MODEL_4cdef48f4e9141168a848a9b2d28c9cc",
       "value": -500
      }
     },
     "39a5bf05be8b493a891690b64eceeaa9": {
      "model_module": "@jupyter-widgets/controls",
      "model_module_version": "1.2.0",
      "model_name": "IntSliderModel",
      "state": {
       "description": "c",
       "layout": "IPY_MODEL_14afe80a145b46c18fac694b2535429e",
       "max": 500,
       "min": -500,
       "style": "IPY_MODEL_6b5c8e81705b4512b9b642d970da266f",
       "value": -500
      }
     },
     "3a7ec279ddeb491197f6ee2d1a3cb510": {
      "model_module": "@jupyter-widgets/base",
      "model_module_version": "1.0.0",
      "model_name": "LayoutModel",
      "state": {}
     },
     "3b55dcee58354b479dc90c2ab13c9ff3": {
      "model_module": "@jupyter-widgets/base",
      "model_module_version": "1.0.0",
      "model_name": "LayoutModel",
      "state": {}
     },
     "3b7356d085b44e47ad8adff2974a01c0": {
      "model_module": "@jupyter-widgets/base",
      "model_module_version": "1.0.0",
      "model_name": "LayoutModel",
      "state": {}
     },
     "3bc5c1fd00f446a5bc2e78a7e19d44ba": {
      "model_module": "@jupyter-widgets/base",
      "model_module_version": "1.0.0",
      "model_name": "LayoutModel",
      "state": {}
     },
     "3c5c5925991b4f70b475df9547bb1e45": {
      "model_module": "@jupyter-widgets/base",
      "model_module_version": "1.0.0",
      "model_name": "LayoutModel",
      "state": {}
     },
     "3cb991f1ff794046a95c2473f8dbb850": {
      "model_module": "@jupyter-widgets/base",
      "model_module_version": "1.0.0",
      "model_name": "LayoutModel",
      "state": {}
     },
     "3d3cca1643894429bc8ced7be705947a": {
      "model_module": "@jupyter-widgets/controls",
      "model_module_version": "1.2.0",
      "model_name": "VBoxModel",
      "state": {
       "_dom_classes": [
        "widget-interact"
       ],
       "children": [
        "IPY_MODEL_ef74debe2b584aa4ac25d9dd51f8f595",
        "IPY_MODEL_4c5c9b05efc74650a721c72db668ed31"
       ],
       "layout": "IPY_MODEL_ea5bbb1eb0584b548ef90492810ed79f"
      }
     },
     "3e7835ab22fa4720aac2f418b814a46b": {
      "model_module": "@jupyter-widgets/base",
      "model_module_version": "1.0.0",
      "model_name": "LayoutModel",
      "state": {}
     },
     "3e81ec0c4f5c493dafba94e92c751dc7": {
      "model_module": "@jupyter-widgets/controls",
      "model_module_version": "1.2.0",
      "model_name": "VBoxModel",
      "state": {
       "_dom_classes": [
        "widget-interact"
       ],
       "children": [
        "IPY_MODEL_1f7d0e5acd4d4527ac31204b4cb3139f",
        "IPY_MODEL_a6c7480757a243cb924eda8de038e325"
       ],
       "layout": "IPY_MODEL_91c52be041ef4382b84e7c866db70829"
      }
     },
     "3ee4866cf1dc4b7d850908f55c40efae": {
      "model_module": "@jupyter-widgets/output",
      "model_module_version": "1.0.0",
      "model_name": "OutputModel",
      "state": {
       "layout": "IPY_MODEL_ae0f2e4090f549acb67cf1e46a5b5cd1"
      }
     },
     "3eee6dee7c834b01a223fa43962d855f": {
      "model_module": "@jupyter-widgets/base",
      "model_module_version": "1.0.0",
      "model_name": "LayoutModel",
      "state": {}
     },
     "3f13440232ae4dcd9e0c7deb7fde6b37": {
      "model_module": "@jupyter-widgets/output",
      "model_module_version": "1.0.0",
      "model_name": "OutputModel",
      "state": {
       "layout": "IPY_MODEL_372af10d445a4402b95c0732cd0c887f"
      }
     },
     "3f374b997ecf452ab6ff97121021c724": {
      "model_module": "@jupyter-widgets/base",
      "model_module_version": "1.0.0",
      "model_name": "LayoutModel",
      "state": {}
     },
     "3fc85b3e63844186a4b99fe74a91936d": {
      "model_module": "@jupyter-widgets/controls",
      "model_module_version": "1.2.0",
      "model_name": "IntSliderModel",
      "state": {
       "description": "e",
       "layout": "IPY_MODEL_646f9f9ac18040e29e75d9c6f26e61f1",
       "max": 500,
       "min": -500,
       "style": "IPY_MODEL_863f720dc314413b98506dfdcf5fe33a",
       "value": -102
      }
     },
     "40461ee8a2ed4bb7a5a8bf9c7921213e": {
      "model_module": "@jupyter-widgets/base",
      "model_module_version": "1.0.0",
      "model_name": "LayoutModel",
      "state": {}
     },
     "411e7e187d784156955f356654015e9e": {
      "model_module": "@jupyter-widgets/controls",
      "model_module_version": "1.2.0",
      "model_name": "SliderStyleModel",
      "state": {
       "description_width": ""
      }
     },
     "41992c51316b44c39b8027dee885bd2c": {
      "model_module": "@jupyter-widgets/base",
      "model_module_version": "1.0.0",
      "model_name": "LayoutModel",
      "state": {}
     },
     "41b0b76fde274c6b8ff2fe3d36ee7df7": {
      "model_module": "@jupyter-widgets/controls",
      "model_module_version": "1.2.0",
      "model_name": "SliderStyleModel",
      "state": {
       "description_width": ""
      }
     },
     "41b1d827acc34c48b92b364dc13d99cd": {
      "model_module": "@jupyter-widgets/controls",
      "model_module_version": "1.2.0",
      "model_name": "VBoxModel",
      "state": {
       "_dom_classes": [
        "widget-interact"
       ],
       "children": [
        "IPY_MODEL_717eb8fa39594eb7bd6d4f6f67ca8a97",
        "IPY_MODEL_9ab50eff392d44e1a1326cc06441e461"
       ],
       "layout": "IPY_MODEL_84c65c250d02459ea99372b041b2e341"
      }
     },
     "41bf871f9e384024b7d69638fe405550": {
      "model_module": "@jupyter-widgets/output",
      "model_module_version": "1.0.0",
      "model_name": "OutputModel",
      "state": {
       "layout": "IPY_MODEL_b1cbb08d8cff4213a8bb3eaf1739f8bb"
      }
     },
     "41e1da0fff264f7eb09dde83920ceea0": {
      "model_module": "@jupyter-widgets/output",
      "model_module_version": "1.0.0",
      "model_name": "OutputModel",
      "state": {
       "layout": "IPY_MODEL_92a745f8491746129e7f4872898fa571",
       "outputs": [
        {
         "ename": "TypeError",
         "evalue": "set_ydata() missing 1 required positional argument: 'y'",
         "output_type": "error",
         "traceback": [
          "\u001b[1;31m---------------------------------------------------------------------------\u001b[0m",
          "\u001b[1;31mTypeError\u001b[0m                                 Traceback (most recent call last)",
          "\u001b[1;32mD:\\AnacondaPython\\lib\\site-packages\\ipywidgets\\widgets\\interaction.py\u001b[0m in \u001b[0;36mupdate\u001b[1;34m(self, *args)\u001b[0m\n\u001b[0;32m    249\u001b[0m                     \u001b[0mvalue\u001b[0m \u001b[1;33m=\u001b[0m \u001b[0mwidget\u001b[0m\u001b[1;33m.\u001b[0m\u001b[0mget_interact_value\u001b[0m\u001b[1;33m(\u001b[0m\u001b[1;33m)\u001b[0m\u001b[1;33m\u001b[0m\u001b[0m\n\u001b[0;32m    250\u001b[0m                     \u001b[0mself\u001b[0m\u001b[1;33m.\u001b[0m\u001b[0mkwargs\u001b[0m\u001b[1;33m[\u001b[0m\u001b[0mwidget\u001b[0m\u001b[1;33m.\u001b[0m\u001b[0m_kwarg\u001b[0m\u001b[1;33m]\u001b[0m \u001b[1;33m=\u001b[0m \u001b[0mvalue\u001b[0m\u001b[1;33m\u001b[0m\u001b[0m\n\u001b[1;32m--> 251\u001b[1;33m                 \u001b[0mself\u001b[0m\u001b[1;33m.\u001b[0m\u001b[0mresult\u001b[0m \u001b[1;33m=\u001b[0m \u001b[0mself\u001b[0m\u001b[1;33m.\u001b[0m\u001b[0mf\u001b[0m\u001b[1;33m(\u001b[0m\u001b[1;33m**\u001b[0m\u001b[0mself\u001b[0m\u001b[1;33m.\u001b[0m\u001b[0mkwargs\u001b[0m\u001b[1;33m)\u001b[0m\u001b[1;33m\u001b[0m\u001b[0m\n\u001b[0m\u001b[0;32m    252\u001b[0m                 \u001b[0mshow_inline_matplotlib_plots\u001b[0m\u001b[1;33m(\u001b[0m\u001b[1;33m)\u001b[0m\u001b[1;33m\u001b[0m\u001b[0m\n\u001b[0;32m    253\u001b[0m                 \u001b[1;32mif\u001b[0m \u001b[0mself\u001b[0m\u001b[1;33m.\u001b[0m\u001b[0mauto_display\u001b[0m \u001b[1;32mand\u001b[0m \u001b[0mself\u001b[0m\u001b[1;33m.\u001b[0m\u001b[0mresult\u001b[0m \u001b[1;32mis\u001b[0m \u001b[1;32mnot\u001b[0m \u001b[1;32mNone\u001b[0m\u001b[1;33m:\u001b[0m\u001b[1;33m\u001b[0m\u001b[0m\n",
          "\u001b[1;32m<ipython-input-1-d64ec24182a8>\u001b[0m in \u001b[0;36mupdate\u001b[1;34m(c)\u001b[0m\n\u001b[0;32m     69\u001b[0m     \u001b[0mliney\u001b[0m\u001b[1;33m.\u001b[0m\u001b[0mset_ydata\u001b[0m\u001b[1;33m(\u001b[0m\u001b[0mb\u001b[0m \u001b[1;33m+\u001b[0m \u001b[0mc\u001b[0m\u001b[1;33m/\u001b[0m\u001b[1;33m(\u001b[0m\u001b[1;33m(\u001b[0m\u001b[0mnp\u001b[0m\u001b[1;33m.\u001b[0m\u001b[0mcosh\u001b[0m\u001b[1;33m(\u001b[0m\u001b[1;36m4\u001b[0m\u001b[1;33m*\u001b[0m\u001b[0mx\u001b[0m\u001b[1;33m)\u001b[0m\u001b[1;33m**\u001b[0m\u001b[1;36m2\u001b[0m\u001b[1;33m)\u001b[0m\u001b[1;33m)\u001b[0m \u001b[1;33m-\u001b[0m \u001b[0mc\u001b[0m\u001b[1;33m/\u001b[0m\u001b[1;33m(\u001b[0m\u001b[1;33m(\u001b[0m\u001b[0mnp\u001b[0m\u001b[1;33m.\u001b[0m\u001b[0mcosh\u001b[0m\u001b[1;33m(\u001b[0m\u001b[1;36m4\u001b[0m\u001b[1;33m)\u001b[0m\u001b[1;33m**\u001b[0m\u001b[1;36m2\u001b[0m\u001b[1;33m)\u001b[0m\u001b[1;33m)\u001b[0m\u001b[1;33m)\u001b[0m\u001b[1;33m\u001b[0m\u001b[0m\n\u001b[0;32m     70\u001b[0m \u001b[1;33m\u001b[0m\u001b[0m\n\u001b[1;32m---> 71\u001b[1;33m     \u001b[0mlinee\u001b[0m\u001b[1;33m.\u001b[0m\u001b[0mset_ydata\u001b[0m\u001b[1;33m(\u001b[0m\u001b[1;33m)\u001b[0m\u001b[1;33m\u001b[0m\u001b[0m\n\u001b[0m\u001b[0;32m     72\u001b[0m     \u001b[0mfig\u001b[0m\u001b[1;33m.\u001b[0m\u001b[0mcanvas\u001b[0m\u001b[1;33m.\u001b[0m\u001b[0mdraw\u001b[0m\u001b[1;33m(\u001b[0m\u001b[1;33m)\u001b[0m\u001b[1;33m\u001b[0m\u001b[0m\n\u001b[0;32m     73\u001b[0m \u001b[1;33m\u001b[0m\u001b[0m\n",
          "\u001b[1;31mTypeError\u001b[0m: set_ydata() missing 1 required positional argument: 'y'"
         ]
        }
       ]
      }
     },
     "420a83496a6f4b84a0c73dde6f98ca57": {
      "model_module": "@jupyter-widgets/base",
      "model_module_version": "1.0.0",
      "model_name": "LayoutModel",
      "state": {}
     },
     "4265e6c4347d41f989302a405875286c": {
      "model_module": "@jupyter-widgets/base",
      "model_module_version": "1.0.0",
      "model_name": "LayoutModel",
      "state": {}
     },
     "42b6ede9829441babd2e799d4c2b3dc3": {
      "model_module": "@jupyter-widgets/controls",
      "model_module_version": "1.2.0",
      "model_name": "VBoxModel",
      "state": {
       "_dom_classes": [
        "widget-interact"
       ],
       "children": [
        "IPY_MODEL_f804b2c94ea84b9ba4cca23124f0a3af",
        "IPY_MODEL_36b1345f624b422eba08f4f4fa850a1a"
       ],
       "layout": "IPY_MODEL_0ba64ad8dec54c4ab864c23d85291f34"
      }
     },
     "42d7d21b8c274377bb8ea90ea8a18164": {
      "model_module": "@jupyter-widgets/base",
      "model_module_version": "1.0.0",
      "model_name": "LayoutModel",
      "state": {}
     },
     "43288f69ba994b018bcfd85bbd95d776": {
      "model_module": "@jupyter-widgets/controls",
      "model_module_version": "1.2.0",
      "model_name": "VBoxModel",
      "state": {
       "_dom_classes": [
        "widget-interact"
       ],
       "children": [
        "IPY_MODEL_5e005e9c4cde4f308348397153b4036e",
        "IPY_MODEL_a8378100da5143ec82a215a86a7ebb52"
       ],
       "layout": "IPY_MODEL_59d1c049d84141c2bebca9a4b82464fc"
      }
     },
     "435b3181dd214a33b95de5e8fe5998c7": {
      "model_module": "@jupyter-widgets/base",
      "model_module_version": "1.0.0",
      "model_name": "LayoutModel",
      "state": {}
     },
     "43882076ae064379873698cc46132fa0": {
      "model_module": "@jupyter-widgets/controls",
      "model_module_version": "1.2.0",
      "model_name": "IntSliderModel",
      "state": {
       "description": "c",
       "layout": "IPY_MODEL_a80f9eafb38d43ebb96138dbd8844ac7",
       "max": 500,
       "min": -500,
       "style": "IPY_MODEL_8c849d143503457b9c60c3d674a65961",
       "value": 44
      }
     },
     "43f05a7289ff4614832b94e46f00159e": {
      "model_module": "@jupyter-widgets/base",
      "model_module_version": "1.0.0",
      "model_name": "LayoutModel",
      "state": {}
     },
     "44c45aec4c9a4daa9026cde161ecc9fb": {
      "model_module": "@jupyter-widgets/base",
      "model_module_version": "1.0.0",
      "model_name": "LayoutModel",
      "state": {}
     },
     "453d9c6e9ceb41b18c313d476314ede1": {
      "model_module": "@jupyter-widgets/base",
      "model_module_version": "1.0.0",
      "model_name": "LayoutModel",
      "state": {}
     },
     "457a5231545747208d323601d16394ae": {
      "model_module": "@jupyter-widgets/controls",
      "model_module_version": "1.2.0",
      "model_name": "IntSliderModel",
      "state": {
       "description": "c",
       "layout": "IPY_MODEL_70a408155fe04776a165aa47aa28827a",
       "max": 500,
       "min": -500,
       "style": "IPY_MODEL_88686502ee3f44659f78293536e52f5a",
       "value": 1
      }
     },
     "45b7269a1bd04aa68d79f40b0eea2917": {
      "model_module": "@jupyter-widgets/controls",
      "model_module_version": "1.2.0",
      "model_name": "IntSliderModel",
      "state": {
       "description": "c",
       "layout": "IPY_MODEL_ab8a823d17df4e21a40a3ab693815232",
       "max": 500,
       "min": -500,
       "style": "IPY_MODEL_fb00e5a6a2784ca5afd655b2e4e99ff1",
       "value": 85
      }
     },
     "469996c5682046eca09a811e027689ad": {
      "model_module": "@jupyter-widgets/base",
      "model_module_version": "1.0.0",
      "model_name": "LayoutModel",
      "state": {}
     },
     "4778959e44a34f09beebe1599e365a4d": {
      "model_module": "@jupyter-widgets/base",
      "model_module_version": "1.0.0",
      "model_name": "LayoutModel",
      "state": {}
     },
     "47d2b7b8329748a5ac0c6273c2fa39de": {
      "model_module": "@jupyter-widgets/base",
      "model_module_version": "1.0.0",
      "model_name": "LayoutModel",
      "state": {}
     },
     "487247b0531d4859a6cc456db4ad7843": {
      "model_module": "@jupyter-widgets/base",
      "model_module_version": "1.0.0",
      "model_name": "LayoutModel",
      "state": {}
     },
     "488fe3145ba047c4b45c9aaa72cec3b0": {
      "model_module": "@jupyter-widgets/output",
      "model_module_version": "1.0.0",
      "model_name": "OutputModel",
      "state": {
       "layout": "IPY_MODEL_e65453d36c52497eb1055ad205ffd3e1"
      }
     },
     "498f731a539d4d8cae742be242134260": {
      "model_module": "@jupyter-widgets/base",
      "model_module_version": "1.0.0",
      "model_name": "LayoutModel",
      "state": {}
     },
     "4a97e0939c9245ff8a2ad0862df8d3f6": {
      "model_module": "@jupyter-widgets/controls",
      "model_module_version": "1.2.0",
      "model_name": "SliderStyleModel",
      "state": {
       "description_width": ""
      }
     },
     "4c41f0ed0ab64313a4d0913ce6caf2c6": {
      "model_module": "@jupyter-widgets/base",
      "model_module_version": "1.0.0",
      "model_name": "LayoutModel",
      "state": {}
     },
     "4c5c9b05efc74650a721c72db668ed31": {
      "model_module": "@jupyter-widgets/output",
      "model_module_version": "1.0.0",
      "model_name": "OutputModel",
      "state": {
       "layout": "IPY_MODEL_7a306233f2dd4959b4801605788a63e0"
      }
     },
     "4cdef48f4e9141168a848a9b2d28c9cc": {
      "model_module": "@jupyter-widgets/controls",
      "model_module_version": "1.2.0",
      "model_name": "SliderStyleModel",
      "state": {
       "description_width": ""
      }
     },
     "4e290e85ddbd437a96fa77e38a2fe087": {
      "model_module": "@jupyter-widgets/controls",
      "model_module_version": "1.2.0",
      "model_name": "VBoxModel",
      "state": {
       "_dom_classes": [
        "widget-interact"
       ],
       "children": [
        "IPY_MODEL_685061afe3d64ea5804c0d1898c7988a",
        "IPY_MODEL_59e7af322d8f4fbe964206b5f07fc5fe"
       ],
       "layout": "IPY_MODEL_2ac7f39c9db9430e8dc05f7612a7c9c7"
      }
     },
     "4e4cbe029f93421798b310066e0744c1": {
      "model_module": "@jupyter-widgets/controls",
      "model_module_version": "1.2.0",
      "model_name": "SliderStyleModel",
      "state": {
       "description_width": ""
      }
     },
     "4ef9dc7c33214601ad4311a6443c93b1": {
      "model_module": "@jupyter-widgets/controls",
      "model_module_version": "1.2.0",
      "model_name": "VBoxModel",
      "state": {
       "_dom_classes": [
        "widget-interact"
       ],
       "children": [
        "IPY_MODEL_6200eecdff0741d09a71887fc56a2ded",
        "IPY_MODEL_987c6479a9fa415db3e06b6d9ff2729c"
       ],
       "layout": "IPY_MODEL_2b8d19d5008640dd915753e98b2eb1e3"
      }
     },
     "4f3fa864fc744938a2c53ff1ec0d9b89": {
      "model_module": "@jupyter-widgets/base",
      "model_module_version": "1.0.0",
      "model_name": "LayoutModel",
      "state": {}
     },
     "4f7679af2d50436d980ca8d4731cc867": {
      "model_module": "@jupyter-widgets/controls",
      "model_module_version": "1.2.0",
      "model_name": "IntSliderModel",
      "state": {
       "description": "c",
       "layout": "IPY_MODEL_0d90b73237004e9bb36ee00f7060e19d",
       "max": 500,
       "min": -500,
       "style": "IPY_MODEL_6c024dfd31c040e094b0fb669e72d434",
       "value": 1
      }
     },
     "4f7edacf253748adabec70dc586aa201": {
      "model_module": "@jupyter-widgets/controls",
      "model_module_version": "1.2.0",
      "model_name": "SliderStyleModel",
      "state": {
       "description_width": ""
      }
     },
     "5035ed131a56498bb73aef9b40045afe": {
      "model_module": "@jupyter-widgets/controls",
      "model_module_version": "1.2.0",
      "model_name": "VBoxModel",
      "state": {
       "_dom_classes": [
        "widget-interact"
       ],
       "children": [
        "IPY_MODEL_59d3e8e2911f445bb65d389cc3724a0e",
        "IPY_MODEL_2e5553d675cb41259447ea360820c694"
       ],
       "layout": "IPY_MODEL_2e21b8af2cb1403a84cf220819808678"
      }
     },
     "50a6fe495bd34f2ea3ae278f8c2f659b": {
      "model_module": "@jupyter-widgets/controls",
      "model_module_version": "1.2.0",
      "model_name": "SliderStyleModel",
      "state": {
       "description_width": ""
      }
     },
     "50ca13a41b6d4b32a95368c99b56bc1b": {
      "model_module": "@jupyter-widgets/base",
      "model_module_version": "1.0.0",
      "model_name": "LayoutModel",
      "state": {}
     },
     "50d69784e5304cfd94fc8b3e6a0ec59b": {
      "model_module": "@jupyter-widgets/controls",
      "model_module_version": "1.2.0",
      "model_name": "SliderStyleModel",
      "state": {
       "description_width": ""
      }
     },
     "530ef84f44054048b4708d2241eef1e1": {
      "model_module": "@jupyter-widgets/base",
      "model_module_version": "1.0.0",
      "model_name": "LayoutModel",
      "state": {}
     },
     "538155a7b01c43c4ac2a729ca9fa57eb": {
      "model_module": "@jupyter-widgets/base",
      "model_module_version": "1.0.0",
      "model_name": "LayoutModel",
      "state": {}
     },
     "53e7de70d9a64fb48f6f5bf08361f7cb": {
      "model_module": "@jupyter-widgets/controls",
      "model_module_version": "1.2.0",
      "model_name": "SliderStyleModel",
      "state": {
       "description_width": ""
      }
     },
     "53fb47b316eb4568a1f4d38d96a96a10": {
      "model_module": "@jupyter-widgets/output",
      "model_module_version": "1.0.0",
      "model_name": "OutputModel",
      "state": {
       "layout": "IPY_MODEL_d074384f6e2d4c2495dcf067155dda6c"
      }
     },
     "545c6492791640bebc05a32769d3f1b3": {
      "model_module": "@jupyter-widgets/controls",
      "model_module_version": "1.2.0",
      "model_name": "SliderStyleModel",
      "state": {
       "description_width": ""
      }
     },
     "5480c89119cf452e81ff317b05d0ee9e": {
      "model_module": "@jupyter-widgets/base",
      "model_module_version": "1.0.0",
      "model_name": "LayoutModel",
      "state": {}
     },
     "5494e4c1c206418dbeff8cb59df50ed5": {
      "model_module": "@jupyter-widgets/base",
      "model_module_version": "1.0.0",
      "model_name": "LayoutModel",
      "state": {}
     },
     "54a0847f7ffe4d31b6fc7beaa350d3f6": {
      "model_module": "@jupyter-widgets/base",
      "model_module_version": "1.0.0",
      "model_name": "LayoutModel",
      "state": {}
     },
     "54a914d6c4a54189b3105901b5e9929e": {
      "model_module": "@jupyter-widgets/base",
      "model_module_version": "1.0.0",
      "model_name": "LayoutModel",
      "state": {}
     },
     "54b9adeacea34e4e8fddc9bfe273be0b": {
      "model_module": "@jupyter-widgets/controls",
      "model_module_version": "1.2.0",
      "model_name": "SliderStyleModel",
      "state": {
       "description_width": ""
      }
     },
     "54c331c167b64f4995175fefcdd70b00": {
      "model_module": "@jupyter-widgets/base",
      "model_module_version": "1.0.0",
      "model_name": "LayoutModel",
      "state": {}
     },
     "55351d6c51c144ffa14d42e72b32bbd3": {
      "model_module": "@jupyter-widgets/base",
      "model_module_version": "1.0.0",
      "model_name": "LayoutModel",
      "state": {}
     },
     "55bf833f29f948ee8bf166b65bf18aec": {
      "model_module": "@jupyter-widgets/controls",
      "model_module_version": "1.2.0",
      "model_name": "VBoxModel",
      "state": {
       "_dom_classes": [
        "widget-interact"
       ],
       "children": [
        "IPY_MODEL_36869dae16f248d8b110d33efedcfe7b",
        "IPY_MODEL_98e31bb4f3de4099826099f3b92de139"
       ],
       "layout": "IPY_MODEL_40461ee8a2ed4bb7a5a8bf9c7921213e"
      }
     },
     "5737c5e956ff4359b7d55f7c9cc2a450": {
      "model_module": "@jupyter-widgets/base",
      "model_module_version": "1.0.0",
      "model_name": "LayoutModel",
      "state": {}
     },
     "57fab249b2b84be2a765d4cbd339d0b4": {
      "model_module": "@jupyter-widgets/controls",
      "model_module_version": "1.2.0",
      "model_name": "VBoxModel",
      "state": {
       "_dom_classes": [
        "widget-interact"
       ],
       "children": [
        "IPY_MODEL_8b1e07d9f15a4d35bcad352729694b9e",
        "IPY_MODEL_646478b7e99d42ecab8740033779c739"
       ],
       "layout": "IPY_MODEL_538155a7b01c43c4ac2a729ca9fa57eb"
      }
     },
     "58b2d3f5308e4961ba8204db3a023bcb": {
      "model_module": "@jupyter-widgets/base",
      "model_module_version": "1.0.0",
      "model_name": "LayoutModel",
      "state": {}
     },
     "58ca612c5f024a11ba3e189330dad3a8": {
      "model_module": "@jupyter-widgets/controls",
      "model_module_version": "1.2.0",
      "model_name": "VBoxModel",
      "state": {
       "_dom_classes": [
        "widget-interact"
       ],
       "children": [
        "IPY_MODEL_9373955230f5474c89419a7ff4799b1e",
        "IPY_MODEL_b716545c88134877afa8f31977bd1892"
       ],
       "layout": "IPY_MODEL_867979740107429fb03bf61a51e79dda"
      }
     },
     "59a06d83bd0443a3b80c75e6913860d4": {
      "model_module": "@jupyter-widgets/output",
      "model_module_version": "1.0.0",
      "model_name": "OutputModel",
      "state": {
       "layout": "IPY_MODEL_7fdae19fac0d42849757b082e67e25f3"
      }
     },
     "59b305ace821408aa24f84ebfcda80fa": {
      "model_module": "@jupyter-widgets/controls",
      "model_module_version": "1.2.0",
      "model_name": "VBoxModel",
      "state": {
       "_dom_classes": [
        "widget-interact"
       ],
       "children": [
        "IPY_MODEL_6309d0fd4a8c457dbd4c20e658b14740",
        "IPY_MODEL_3f13440232ae4dcd9e0c7deb7fde6b37"
       ],
       "layout": "IPY_MODEL_1e5ec888854e45359ae5f78a630ec51d"
      }
     },
     "59d1c049d84141c2bebca9a4b82464fc": {
      "model_module": "@jupyter-widgets/base",
      "model_module_version": "1.0.0",
      "model_name": "LayoutModel",
      "state": {}
     },
     "59d3e8e2911f445bb65d389cc3724a0e": {
      "model_module": "@jupyter-widgets/controls",
      "model_module_version": "1.2.0",
      "model_name": "IntSliderModel",
      "state": {
       "description": "d",
       "layout": "IPY_MODEL_3c5c5925991b4f70b475df9547bb1e45",
       "max": 500,
       "min": -500,
       "style": "IPY_MODEL_822060b1b3a045dcafe04296a751595f",
       "value": -138
      }
     },
     "59e7af322d8f4fbe964206b5f07fc5fe": {
      "model_module": "@jupyter-widgets/output",
      "model_module_version": "1.0.0",
      "model_name": "OutputModel",
      "state": {
       "layout": "IPY_MODEL_cb561d318b434ab5b2bbf48e4dcdb499"
      }
     },
     "5a5492e66dfc46daac68e7aa72a3a588": {
      "model_module": "@jupyter-widgets/base",
      "model_module_version": "1.0.0",
      "model_name": "LayoutModel",
      "state": {}
     },
     "5ac5b4b9c8f5443da1c5c935e3ebc234": {
      "model_module": "@jupyter-widgets/base",
      "model_module_version": "1.0.0",
      "model_name": "LayoutModel",
      "state": {}
     },
     "5b863042a46e47559c558dbe81c34a76": {
      "model_module": "@jupyter-widgets/controls",
      "model_module_version": "1.2.0",
      "model_name": "IntSliderModel",
      "state": {
       "description": "c",
       "layout": "IPY_MODEL_a364bba0da004b209d4b86cba1dc097a",
       "max": 500,
       "min": -500,
       "style": "IPY_MODEL_b2fc01f7af0842d78504ef17457b793e",
       "value": 1
      }
     },
     "5be430e6b093444c8175a187ff9484e3": {
      "model_module": "@jupyter-widgets/controls",
      "model_module_version": "1.2.0",
      "model_name": "IntSliderModel",
      "state": {
       "description": "c",
       "layout": "IPY_MODEL_632b71d1d53444ad87255fa6f1e18de4",
       "max": 500,
       "min": -500,
       "style": "IPY_MODEL_7471b29f5f814e8cba19bbb7453889fa",
       "value": 1
      }
     },
     "5d1954fe364d400cb2f3bc9df2e08f25": {
      "model_module": "@jupyter-widgets/controls",
      "model_module_version": "1.2.0",
      "model_name": "VBoxModel",
      "state": {
       "_dom_classes": [
        "widget-interact"
       ],
       "children": [
        "IPY_MODEL_946e0a4d9e1f497aaf9426c7774aebce",
        "IPY_MODEL_378413cb77574d90865581fb69fd4d42"
       ],
       "layout": "IPY_MODEL_3b7356d085b44e47ad8adff2974a01c0"
      }
     },
     "5d1f167d337748888be4131f88dab0e2": {
      "model_module": "@jupyter-widgets/controls",
      "model_module_version": "1.2.0",
      "model_name": "VBoxModel",
      "state": {
       "_dom_classes": [
        "widget-interact"
       ],
       "children": [
        "IPY_MODEL_29861857e78f4afa8426779ce83208a6",
        "IPY_MODEL_e8ed4759912d44ac97872bc4d6cdeb7b"
       ],
       "layout": "IPY_MODEL_da59349cb85949b2947aa671214d8deb"
      }
     },
     "5ddf1eaed9a547a8a3a5494955a03f29": {
      "model_module": "@jupyter-widgets/controls",
      "model_module_version": "1.2.0",
      "model_name": "VBoxModel",
      "state": {
       "_dom_classes": [
        "widget-interact"
       ],
       "children": [
        "IPY_MODEL_b45a7d885c114499a881c7b3a9572b28",
        "IPY_MODEL_41e1da0fff264f7eb09dde83920ceea0"
       ],
       "layout": "IPY_MODEL_8d8d92c27dec471c8dea5dae5c161e44"
      }
     },
     "5e005e9c4cde4f308348397153b4036e": {
      "model_module": "@jupyter-widgets/controls",
      "model_module_version": "1.2.0",
      "model_name": "IntSliderModel",
      "state": {
       "description": "c",
       "layout": "IPY_MODEL_6b19a11cad204a77b29bf7a00d243078",
       "max": 500,
       "min": -500,
       "style": "IPY_MODEL_f4010479dcaa49419fd8768a838bb90a",
       "value": -177
      }
     },
     "5f47b40bffdb419ab01925d6f6b256c6": {
      "model_module": "@jupyter-widgets/controls",
      "model_module_version": "1.2.0",
      "model_name": "SliderStyleModel",
      "state": {
       "description_width": ""
      }
     },
     "5f8307b86656460a8b340a2887ae7459": {
      "model_module": "@jupyter-widgets/output",
      "model_module_version": "1.0.0",
      "model_name": "OutputModel",
      "state": {
       "layout": "IPY_MODEL_bb8b9b56f2b84000b4e92ab3e69eec3f"
      }
     },
     "5faeb0032ac644caa63b4f0879178585": {
      "model_module": "@jupyter-widgets/output",
      "model_module_version": "1.0.0",
      "model_name": "OutputModel",
      "state": {
       "layout": "IPY_MODEL_54a914d6c4a54189b3105901b5e9929e"
      }
     },
     "6110ab97f40d47a193acc58426983447": {
      "model_module": "@jupyter-widgets/base",
      "model_module_version": "1.0.0",
      "model_name": "LayoutModel",
      "state": {}
     },
     "61772455e2104ef9b787bb6780eb170e": {
      "model_module": "@jupyter-widgets/controls",
      "model_module_version": "1.2.0",
      "model_name": "IntSliderModel",
      "state": {
       "description": "c",
       "layout": "IPY_MODEL_3cb991f1ff794046a95c2473f8dbb850",
       "max": 500,
       "min": -500,
       "style": "IPY_MODEL_e65aa72ceaa24938aedd38dc91d5bda0",
       "value": 1
      }
     },
     "6200eecdff0741d09a71887fc56a2ded": {
      "model_module": "@jupyter-widgets/controls",
      "model_module_version": "1.2.0",
      "model_name": "IntSliderModel",
      "state": {
       "description": "c",
       "layout": "IPY_MODEL_0563a3ff80464dc697b6b2af4e432d56",
       "max": 500,
       "min": -500,
       "style": "IPY_MODEL_62cbbe898db145b7bbb393251f625323",
       "value": -50
      }
     },
     "62cbbe898db145b7bbb393251f625323": {
      "model_module": "@jupyter-widgets/controls",
      "model_module_version": "1.2.0",
      "model_name": "SliderStyleModel",
      "state": {
       "description_width": ""
      }
     },
     "62dd3e8b2d9946b6930d90709cd80377": {
      "model_module": "@jupyter-widgets/base",
      "model_module_version": "1.0.0",
      "model_name": "LayoutModel",
      "state": {}
     },
     "6309d0fd4a8c457dbd4c20e658b14740": {
      "model_module": "@jupyter-widgets/controls",
      "model_module_version": "1.2.0",
      "model_name": "IntSliderModel",
      "state": {
       "description": "c",
       "layout": "IPY_MODEL_81bf4582b7f44addb81d24d56e7031c6",
       "max": 500,
       "min": -500,
       "style": "IPY_MODEL_a68ac7b609914f07b8559c9bbb0546d9",
       "value": 77
      }
     },
     "632b71d1d53444ad87255fa6f1e18de4": {
      "model_module": "@jupyter-widgets/base",
      "model_module_version": "1.0.0",
      "model_name": "LayoutModel",
      "state": {}
     },
     "633f4325eec64d4c92f0e1bdaf9f0e4a": {
      "model_module": "@jupyter-widgets/controls",
      "model_module_version": "1.2.0",
      "model_name": "SliderStyleModel",
      "state": {
       "description_width": ""
      }
     },
     "63aee3a2950144418a208231c8778537": {
      "model_module": "@jupyter-widgets/controls",
      "model_module_version": "1.2.0",
      "model_name": "VBoxModel",
      "state": {
       "_dom_classes": [
        "widget-interact"
       ],
       "children": [
        "IPY_MODEL_755c5f2052f74bb2ad9e0ab404364f1c",
        "IPY_MODEL_e6a212c0aea247d2b21a310baf71f01c"
       ],
       "layout": "IPY_MODEL_a97dacad52db46b7b16b6ff6edd606c5"
      }
     },
     "63c175bd09ef49c2a78878304f88389a": {
      "model_module": "@jupyter-widgets/controls",
      "model_module_version": "1.2.0",
      "model_name": "SliderStyleModel",
      "state": {
       "description_width": ""
      }
     },
     "646478b7e99d42ecab8740033779c739": {
      "model_module": "@jupyter-widgets/output",
      "model_module_version": "1.0.0",
      "model_name": "OutputModel",
      "state": {
       "layout": "IPY_MODEL_5ac5b4b9c8f5443da1c5c935e3ebc234"
      }
     },
     "646bf58897904ee98a375111edfb9ed0": {
      "model_module": "@jupyter-widgets/base",
      "model_module_version": "1.0.0",
      "model_name": "LayoutModel",
      "state": {}
     },
     "646f9f9ac18040e29e75d9c6f26e61f1": {
      "model_module": "@jupyter-widgets/base",
      "model_module_version": "1.0.0",
      "model_name": "LayoutModel",
      "state": {}
     },
     "647037dbda0143b0aad6b6e415cdbbb5": {
      "model_module": "@jupyter-widgets/controls",
      "model_module_version": "1.2.0",
      "model_name": "VBoxModel",
      "state": {
       "_dom_classes": [
        "widget-interact"
       ],
       "children": [
        "IPY_MODEL_b3c4e5e3c500482f8d1722fe000347a8",
        "IPY_MODEL_15aedf290fc14662be1f2a18ba0c996d"
       ],
       "layout": "IPY_MODEL_dfb36728f313408c927d4561c7c5931a"
      }
     },
     "64c47a6c0054445385e892a8d5daf0ef": {
      "model_module": "@jupyter-widgets/base",
      "model_module_version": "1.0.0",
      "model_name": "LayoutModel",
      "state": {}
     },
     "64cf54c888a1413eb1e8d2e199c7026b": {
      "model_module": "@jupyter-widgets/controls",
      "model_module_version": "1.2.0",
      "model_name": "IntSliderModel",
      "state": {
       "description": "c",
       "layout": "IPY_MODEL_7553fa1eab1c4fdd873362a0718595cd",
       "max": 500,
       "min": -500,
       "style": "IPY_MODEL_cdaa68c831a444c8ac8ee2b57b445c41",
       "value": 1
      }
     },
     "6547dce42b454c36a215a9a7874ccbd2": {
      "model_module": "@jupyter-widgets/base",
      "model_module_version": "1.0.0",
      "model_name": "LayoutModel",
      "state": {}
     },
     "662c9bd32cae41d38ba5b9cbfce5fda8": {
      "model_module": "@jupyter-widgets/controls",
      "model_module_version": "1.2.0",
      "model_name": "VBoxModel",
      "state": {
       "_dom_classes": [
        "widget-interact"
       ],
       "children": [
        "IPY_MODEL_9d2e7294e4264ea2a41760f06431a867",
        "IPY_MODEL_f7ed2d4e9a32438cba5f2cf38a0be8ea"
       ],
       "layout": "IPY_MODEL_915e6b0a75ec402390415c4d55042155"
      }
     },
     "664bc39c12fd471a93a084c83b11ba65": {
      "model_module": "@jupyter-widgets/controls",
      "model_module_version": "1.2.0",
      "model_name": "SliderStyleModel",
      "state": {
       "description_width": ""
      }
     },
     "66643ab7570745119518442e0bad63d8": {
      "model_module": "@jupyter-widgets/output",
      "model_module_version": "1.0.0",
      "model_name": "OutputModel",
      "state": {
       "layout": "IPY_MODEL_faa2948bca274b189d1085f317e7fb53"
      }
     },
     "66962f22f6a748b4951ba14630fc6e9a": {
      "model_module": "@jupyter-widgets/base",
      "model_module_version": "1.0.0",
      "model_name": "LayoutModel",
      "state": {}
     },
     "67021926541a4bbeb8b013941abd1477": {
      "model_module": "@jupyter-widgets/controls",
      "model_module_version": "1.2.0",
      "model_name": "SliderStyleModel",
      "state": {
       "description_width": ""
      }
     },
     "673c6807aa6e412aac4635890ee7df57": {
      "model_module": "@jupyter-widgets/controls",
      "model_module_version": "1.2.0",
      "model_name": "VBoxModel",
      "state": {
       "_dom_classes": [
        "widget-interact"
       ],
       "children": [
        "IPY_MODEL_cef6b546c74a4bdfa97d934c8f70209f",
        "IPY_MODEL_66643ab7570745119518442e0bad63d8"
       ],
       "layout": "IPY_MODEL_712b621b64b444039a0003d09e2f7eed"
      }
     },
     "67f28980254a437190b0b241601aa3e5": {
      "model_module": "@jupyter-widgets/base",
      "model_module_version": "1.0.0",
      "model_name": "LayoutModel",
      "state": {}
     },
     "685061afe3d64ea5804c0d1898c7988a": {
      "model_module": "@jupyter-widgets/controls",
      "model_module_version": "1.2.0",
      "model_name": "IntSliderModel",
      "state": {
       "description": "e",
       "layout": "IPY_MODEL_4c41f0ed0ab64313a4d0913ce6caf2c6",
       "max": 500,
       "min": -500,
       "style": "IPY_MODEL_633f4325eec64d4c92f0e1bdaf9f0e4a",
       "value": -21
      }
     },
     "6889fa8c586c417984195d60ef6ba5a2": {
      "model_module": "@jupyter-widgets/output",
      "model_module_version": "1.0.0",
      "model_name": "OutputModel",
      "state": {
       "layout": "IPY_MODEL_8925e6c96c0b45d887263d9fe1d42755"
      }
     },
     "692e3953759f451786a8685cf0407383": {
      "model_module": "@jupyter-widgets/output",
      "model_module_version": "1.0.0",
      "model_name": "OutputModel",
      "state": {
       "layout": "IPY_MODEL_2839e77885e04a1d8bec65a8efbf54a4"
      }
     },
     "6a91650a2a71452abb202f0cbf64fabf": {
      "model_module": "@jupyter-widgets/controls",
      "model_module_version": "1.2.0",
      "model_name": "VBoxModel",
      "state": {
       "_dom_classes": [
        "widget-interact"
       ],
       "children": [
        "IPY_MODEL_c9422a7919004648a001728c87290af5",
        "IPY_MODEL_d1dc8fc211c24107acd6eef9c6fcc645"
       ],
       "layout": "IPY_MODEL_8045fe2eb54c447e8a847a032170be32"
      }
     },
     "6ab458410fc7468b8c516d44b476dcd0": {
      "model_module": "@jupyter-widgets/base",
      "model_module_version": "1.0.0",
      "model_name": "LayoutModel",
      "state": {}
     },
     "6b0c4723fa1f4ff18cc64cd3eb6d3dbe": {
      "model_module": "@jupyter-widgets/base",
      "model_module_version": "1.0.0",
      "model_name": "LayoutModel",
      "state": {}
     },
     "6b0cbc1c9a8f431e80ac5eee9711c3d9": {
      "model_module": "@jupyter-widgets/base",
      "model_module_version": "1.0.0",
      "model_name": "LayoutModel",
      "state": {}
     },
     "6b19a11cad204a77b29bf7a00d243078": {
      "model_module": "@jupyter-widgets/base",
      "model_module_version": "1.0.0",
      "model_name": "LayoutModel",
      "state": {}
     },
     "6b5c8e81705b4512b9b642d970da266f": {
      "model_module": "@jupyter-widgets/controls",
      "model_module_version": "1.2.0",
      "model_name": "SliderStyleModel",
      "state": {
       "description_width": ""
      }
     },
     "6c024dfd31c040e094b0fb669e72d434": {
      "model_module": "@jupyter-widgets/controls",
      "model_module_version": "1.2.0",
      "model_name": "SliderStyleModel",
      "state": {
       "description_width": ""
      }
     },
     "6ca09a27847540e081bba6dd5641507e": {
      "model_module": "@jupyter-widgets/base",
      "model_module_version": "1.0.0",
      "model_name": "LayoutModel",
      "state": {}
     },
     "6cfdc8231d44430db020a73cc77d2c54": {
      "model_module": "@jupyter-widgets/base",
      "model_module_version": "1.0.0",
      "model_name": "LayoutModel",
      "state": {}
     },
     "6d0bed4d4d0e41c0811adaee231ed3de": {
      "model_module": "@jupyter-widgets/base",
      "model_module_version": "1.0.0",
      "model_name": "LayoutModel",
      "state": {}
     },
     "6ed637d1ff074f0581fce204fb03e651": {
      "model_module": "@jupyter-widgets/base",
      "model_module_version": "1.0.0",
      "model_name": "LayoutModel",
      "state": {}
     },
     "6fa97162717944bf98a8f589971193ff": {
      "model_module": "@jupyter-widgets/base",
      "model_module_version": "1.0.0",
      "model_name": "LayoutModel",
      "state": {}
     },
     "6fc58bed9beb4ca9a8a49c57f842615a": {
      "model_module": "@jupyter-widgets/controls",
      "model_module_version": "1.2.0",
      "model_name": "VBoxModel",
      "state": {
       "_dom_classes": [
        "widget-interact"
       ],
       "children": [
        "IPY_MODEL_ae042523baed420ca4d3ff76c12b6f9d",
        "IPY_MODEL_abcb26ee1a544d668b52682fa0ea567c"
       ],
       "layout": "IPY_MODEL_358af3966ae64499a0cef1d86c549dd4"
      }
     },
     "7005a469c5764551a6347363073f93fe": {
      "model_module": "@jupyter-widgets/base",
      "model_module_version": "1.0.0",
      "model_name": "LayoutModel",
      "state": {}
     },
     "700becb5ba34488a9a62109f76322716": {
      "model_module": "@jupyter-widgets/controls",
      "model_module_version": "1.2.0",
      "model_name": "IntSliderModel",
      "state": {
       "description": "c",
       "layout": "IPY_MODEL_44c45aec4c9a4daa9026cde161ecc9fb",
       "max": 500,
       "min": -500,
       "style": "IPY_MODEL_1f2d277c00074393b4272d60db710ab1",
       "value": 10
      }
     },
     "70189e6ccec540748af3f2ee08ca29d3": {
      "model_module": "@jupyter-widgets/base",
      "model_module_version": "1.0.0",
      "model_name": "LayoutModel",
      "state": {}
     },
     "7057f3ea967c4c3fb60ce15af6a8fd17": {
      "model_module": "@jupyter-widgets/base",
      "model_module_version": "1.0.0",
      "model_name": "LayoutModel",
      "state": {}
     },
     "705c5b11865e4755b8c84a9b121010d8": {
      "model_module": "@jupyter-widgets/controls",
      "model_module_version": "1.2.0",
      "model_name": "VBoxModel",
      "state": {
       "_dom_classes": [
        "widget-interact"
       ],
       "children": [
        "IPY_MODEL_2c50029d01b048c39a6ec7c05be5a725",
        "IPY_MODEL_3328c20a5ca442bbb5a8cb960505eb57"
       ],
       "layout": "IPY_MODEL_c7f2f31ffc7649dbac9b58bb341eca42"
      }
     },
     "70a408155fe04776a165aa47aa28827a": {
      "model_module": "@jupyter-widgets/base",
      "model_module_version": "1.0.0",
      "model_name": "LayoutModel",
      "state": {}
     },
     "70accbc1af174b2abf1ed744597b8dce": {
      "model_module": "@jupyter-widgets/base",
      "model_module_version": "1.0.0",
      "model_name": "LayoutModel",
      "state": {}
     },
     "70ee1f09163e4c60b2d2dfb9c216bc3c": {
      "model_module": "@jupyter-widgets/controls",
      "model_module_version": "1.2.0",
      "model_name": "VBoxModel",
      "state": {
       "_dom_classes": [
        "widget-interact"
       ],
       "children": [
        "IPY_MODEL_3fc85b3e63844186a4b99fe74a91936d",
        "IPY_MODEL_e191f9c257cf440ea29cf06b8c843ee4"
       ],
       "layout": "IPY_MODEL_c385c7d4ec464b31983e6b0e32e126c8"
      }
     },
     "712300b97d914b90bbdddfa04b55b807": {
      "model_module": "@jupyter-widgets/output",
      "model_module_version": "1.0.0",
      "model_name": "OutputModel",
      "state": {
       "layout": "IPY_MODEL_87ea357552ae417782811aa74b415964"
      }
     },
     "712661fc1a1a4db19d361bb52b2d0779": {
      "model_module": "@jupyter-widgets/base",
      "model_module_version": "1.0.0",
      "model_name": "LayoutModel",
      "state": {}
     },
     "712b621b64b444039a0003d09e2f7eed": {
      "model_module": "@jupyter-widgets/base",
      "model_module_version": "1.0.0",
      "model_name": "LayoutModel",
      "state": {}
     },
     "714dba23e90947c58fb097877d858a06": {
      "model_module": "@jupyter-widgets/controls",
      "model_module_version": "1.2.0",
      "model_name": "IntSliderModel",
      "state": {
       "description": "e",
       "layout": "IPY_MODEL_e5ff3947d6d04124b31295ed3ad663cb",
       "max": 500,
       "min": -500,
       "style": "IPY_MODEL_fbac4641bc8c4ff38098a34ff490afda",
       "value": 1
      }
     },
     "717eb8fa39594eb7bd6d4f6f67ca8a97": {
      "model_module": "@jupyter-widgets/controls",
      "model_module_version": "1.2.0",
      "model_name": "IntSliderModel",
      "state": {
       "description": "d",
       "layout": "IPY_MODEL_7e5a55b394594820a194998aba90b5b8",
       "max": 500,
       "min": -500,
       "style": "IPY_MODEL_54b9adeacea34e4e8fddc9bfe273be0b",
       "value": 1
      }
     },
     "71973cab639c41c09a029c7bbd895bea": {
      "model_module": "@jupyter-widgets/base",
      "model_module_version": "1.0.0",
      "model_name": "LayoutModel",
      "state": {}
     },
     "727db649dbbc40eb958e838f6c5ddcae": {
      "model_module": "@jupyter-widgets/base",
      "model_module_version": "1.0.0",
      "model_name": "LayoutModel",
      "state": {}
     },
     "72b00e22ff704f99b8493c7833239973": {
      "model_module": "@jupyter-widgets/controls",
      "model_module_version": "1.2.0",
      "model_name": "VBoxModel",
      "state": {
       "_dom_classes": [
        "widget-interact"
       ],
       "children": [
        "IPY_MODEL_bf4983fb61a8498e89f54f6d246278b1",
        "IPY_MODEL_0adfd7a45b6d4fedbbc100329c5ad9ef"
       ],
       "layout": "IPY_MODEL_b3d33639799645a9a0e9f5032775395d"
      }
     },
     "73652e700d6b48509774240463507ccc": {
      "model_module": "@jupyter-widgets/base",
      "model_module_version": "1.0.0",
      "model_name": "LayoutModel",
      "state": {}
     },
     "74439049a338417f9e700e1a673d9be9": {
      "model_module": "@jupyter-widgets/output",
      "model_module_version": "1.0.0",
      "model_name": "OutputModel",
      "state": {
       "layout": "IPY_MODEL_fbfeddf473d5438f9fe2b9e9c165ffda"
      }
     },
     "7471b29f5f814e8cba19bbb7453889fa": {
      "model_module": "@jupyter-widgets/controls",
      "model_module_version": "1.2.0",
      "model_name": "SliderStyleModel",
      "state": {
       "description_width": ""
      }
     },
     "748b6ff30d3445bea83975f57dc827e2": {
      "model_module": "@jupyter-widgets/controls",
      "model_module_version": "1.2.0",
      "model_name": "VBoxModel",
      "state": {
       "_dom_classes": [
        "widget-interact"
       ],
       "children": [
        "IPY_MODEL_f11f956561f44b33a88677edd3c693e4",
        "IPY_MODEL_75e5f0eabd514fc1a37bd636f85e2979"
       ],
       "layout": "IPY_MODEL_e1bb109129644e10aaa614759e4e61f2"
      }
     },
     "74ece71a1a4244f28904e31bc4837605": {
      "model_module": "@jupyter-widgets/controls",
      "model_module_version": "1.2.0",
      "model_name": "IntSliderModel",
      "state": {
       "description": "c",
       "layout": "IPY_MODEL_cbb2838ba9184ee0a1d1fcc15da1f279",
       "max": 500,
       "min": -500,
       "style": "IPY_MODEL_343fa21381464e88927b4702c67f9ca5",
       "value": -500
      }
     },
     "75149bd5f9df4b24bebeba07baf4fd0f": {
      "model_module": "@jupyter-widgets/controls",
      "model_module_version": "1.2.0",
      "model_name": "IntSliderModel",
      "state": {
       "description": "c",
       "layout": "IPY_MODEL_a46fd4e3d39a4f8797ed606bde3f1635",
       "max": 500,
       "min": -500,
       "style": "IPY_MODEL_975f2fa9a71444c8a980198392ad6f9e",
       "value": 1
      }
     },
     "7553fa1eab1c4fdd873362a0718595cd": {
      "model_module": "@jupyter-widgets/base",
      "model_module_version": "1.0.0",
      "model_name": "LayoutModel",
      "state": {}
     },
     "755c5f2052f74bb2ad9e0ab404364f1c": {
      "model_module": "@jupyter-widgets/controls",
      "model_module_version": "1.2.0",
      "model_name": "IntSliderModel",
      "state": {
       "description": "c",
       "layout": "IPY_MODEL_498f731a539d4d8cae742be242134260",
       "max": 500,
       "min": -500,
       "style": "IPY_MODEL_f45a946715684fcbb53183d36a2df17b",
       "value": 1
      }
     },
     "75e5f0eabd514fc1a37bd636f85e2979": {
      "model_module": "@jupyter-widgets/output",
      "model_module_version": "1.0.0",
      "model_name": "OutputModel",
      "state": {
       "layout": "IPY_MODEL_24c49bf3f06445e8a3fab0f87e8da05c",
       "outputs": [
        {
         "ename": "TypeError",
         "evalue": "set_ydata() takes 2 positional arguments but 3 were given",
         "output_type": "error",
         "traceback": [
          "\u001b[1;31m---------------------------------------------------------------------------\u001b[0m",
          "\u001b[1;31mTypeError\u001b[0m                                 Traceback (most recent call last)",
          "\u001b[1;32mD:\\AnacondaPython\\lib\\site-packages\\ipywidgets\\widgets\\interaction.py\u001b[0m in \u001b[0;36mupdate\u001b[1;34m(self, *args)\u001b[0m\n\u001b[0;32m    249\u001b[0m                     \u001b[0mvalue\u001b[0m \u001b[1;33m=\u001b[0m \u001b[0mwidget\u001b[0m\u001b[1;33m.\u001b[0m\u001b[0mget_interact_value\u001b[0m\u001b[1;33m(\u001b[0m\u001b[1;33m)\u001b[0m\u001b[1;33m\u001b[0m\u001b[0m\n\u001b[0;32m    250\u001b[0m                     \u001b[0mself\u001b[0m\u001b[1;33m.\u001b[0m\u001b[0mkwargs\u001b[0m\u001b[1;33m[\u001b[0m\u001b[0mwidget\u001b[0m\u001b[1;33m.\u001b[0m\u001b[0m_kwarg\u001b[0m\u001b[1;33m]\u001b[0m \u001b[1;33m=\u001b[0m \u001b[0mvalue\u001b[0m\u001b[1;33m\u001b[0m\u001b[0m\n\u001b[1;32m--> 251\u001b[1;33m                 \u001b[0mself\u001b[0m\u001b[1;33m.\u001b[0m\u001b[0mresult\u001b[0m \u001b[1;33m=\u001b[0m \u001b[0mself\u001b[0m\u001b[1;33m.\u001b[0m\u001b[0mf\u001b[0m\u001b[1;33m(\u001b[0m\u001b[1;33m**\u001b[0m\u001b[0mself\u001b[0m\u001b[1;33m.\u001b[0m\u001b[0mkwargs\u001b[0m\u001b[1;33m)\u001b[0m\u001b[1;33m\u001b[0m\u001b[0m\n\u001b[0m\u001b[0;32m    252\u001b[0m                 \u001b[0mshow_inline_matplotlib_plots\u001b[0m\u001b[1;33m(\u001b[0m\u001b[1;33m)\u001b[0m\u001b[1;33m\u001b[0m\u001b[0m\n\u001b[0;32m    253\u001b[0m                 \u001b[1;32mif\u001b[0m \u001b[0mself\u001b[0m\u001b[1;33m.\u001b[0m\u001b[0mauto_display\u001b[0m \u001b[1;32mand\u001b[0m \u001b[0mself\u001b[0m\u001b[1;33m.\u001b[0m\u001b[0mresult\u001b[0m \u001b[1;32mis\u001b[0m \u001b[1;32mnot\u001b[0m \u001b[1;32mNone\u001b[0m\u001b[1;33m:\u001b[0m\u001b[1;33m\u001b[0m\u001b[0m\n",
          "\u001b[1;32m<ipython-input-4-285546274b55>\u001b[0m in \u001b[0;36mupdate\u001b[1;34m(c)\u001b[0m\n\u001b[0;32m     64\u001b[0m     \u001b[0mline\u001b[0m\u001b[1;33m.\u001b[0m\u001b[0mset_ydata\u001b[0m\u001b[1;33m(\u001b[0m\u001b[0mvec\u001b[0m\u001b[1;33m[\u001b[0m\u001b[1;33m:\u001b[0m\u001b[1;33m,\u001b[0m\u001b[1;36m0\u001b[0m\u001b[1;33m]\u001b[0m\u001b[1;33m**\u001b[0m\u001b[1;36m2\u001b[0m\u001b[1;33m)\u001b[0m\u001b[1;33m\u001b[0m\u001b[0m\n\u001b[0;32m     65\u001b[0m     \u001b[0mlinez\u001b[0m\u001b[1;33m.\u001b[0m\u001b[0mset_ydata\u001b[0m\u001b[1;33m(\u001b[0m\u001b[0mc\u001b[0m\u001b[1;33m/\u001b[0m\u001b[1;33m(\u001b[0m\u001b[1;36m1000\u001b[0m\u001b[1;33m*\u001b[0m\u001b[1;33m(\u001b[0m\u001b[0mnp\u001b[0m\u001b[1;33m.\u001b[0m\u001b[0mcosh\u001b[0m\u001b[1;33m(\u001b[0m\u001b[1;36m4\u001b[0m\u001b[1;33m*\u001b[0m\u001b[0mx\u001b[0m\u001b[1;33m)\u001b[0m\u001b[1;33m**\u001b[0m\u001b[1;36m2\u001b[0m\u001b[1;33m)\u001b[0m\u001b[1;33m)\u001b[0m \u001b[1;33m-\u001b[0m \u001b[0mc\u001b[0m\u001b[1;33m/\u001b[0m\u001b[1;33m(\u001b[0m\u001b[1;36m1000\u001b[0m\u001b[1;33m*\u001b[0m\u001b[1;33m(\u001b[0m\u001b[0mnp\u001b[0m\u001b[1;33m.\u001b[0m\u001b[0mcosh\u001b[0m\u001b[1;33m(\u001b[0m\u001b[1;36m4\u001b[0m\u001b[1;33m)\u001b[0m\u001b[1;33m**\u001b[0m\u001b[1;36m2\u001b[0m\u001b[1;33m)\u001b[0m\u001b[1;33m)\u001b[0m\u001b[1;33m)\u001b[0m\u001b[1;33m\u001b[0m\u001b[0m\n\u001b[1;32m---> 66\u001b[1;33m     \u001b[0mliney\u001b[0m\u001b[1;33m.\u001b[0m\u001b[0mset_ydata\u001b[0m\u001b[1;33m(\u001b[0m\u001b[0mx\u001b[0m\u001b[1;33m,\u001b[0m \u001b[0mt\u001b[0m\u001b[1;33m(\u001b[0m\u001b[1;36m100\u001b[0m\u001b[1;33m,\u001b[0m\u001b[0mc\u001b[0m\u001b[1;33m)\u001b[0m \u001b[1;33m@\u001b[0m \u001b[0mvec\u001b[0m\u001b[1;33m[\u001b[0m\u001b[1;33m:\u001b[0m\u001b[1;33m,\u001b[0m\u001b[1;36m0\u001b[0m\u001b[1;33m]\u001b[0m\u001b[1;33m)\u001b[0m\u001b[1;33m\u001b[0m\u001b[0m\n\u001b[0m\u001b[0;32m     67\u001b[0m     \u001b[0mfig\u001b[0m\u001b[1;33m.\u001b[0m\u001b[0mcanvas\u001b[0m\u001b[1;33m.\u001b[0m\u001b[0mdraw\u001b[0m\u001b[1;33m(\u001b[0m\u001b[1;33m)\u001b[0m\u001b[1;33m\u001b[0m\u001b[0m\n\u001b[0;32m     68\u001b[0m \u001b[1;33m\u001b[0m\u001b[0m\n",
          "\u001b[1;31mTypeError\u001b[0m: set_ydata() takes 2 positional arguments but 3 were given"
         ]
        }
       ]
      }
     },
     "7620920b4c1d4bb4b696fc7b43ef3f2c": {
      "model_module": "@jupyter-widgets/controls",
      "model_module_version": "1.2.0",
      "model_name": "VBoxModel",
      "state": {
       "_dom_classes": [
        "widget-interact"
       ],
       "children": [
        "IPY_MODEL_a857ee6f9f574354be1d6c4b7faa558b",
        "IPY_MODEL_0c2ce0f589eb41509917bf7b7e7743fd"
       ],
       "layout": "IPY_MODEL_54a0847f7ffe4d31b6fc7beaa350d3f6"
      }
     },
     "765f37a4b1fb436dab2afa4e06bd43dc": {
      "model_module": "@jupyter-widgets/base",
      "model_module_version": "1.0.0",
      "model_name": "LayoutModel",
      "state": {}
     },
     "773bc7537022435d914ba45e491ebcbd": {
      "model_module": "@jupyter-widgets/base",
      "model_module_version": "1.0.0",
      "model_name": "LayoutModel",
      "state": {}
     },
     "781e6d3837444259a16423cb9bb7e19f": {
      "model_module": "@jupyter-widgets/output",
      "model_module_version": "1.0.0",
      "model_name": "OutputModel",
      "state": {
       "layout": "IPY_MODEL_8259893c06e04cdea14cd1023a0e5807"
      }
     },
     "7874d3542f4349bbb25ee08cb4ce74c5": {
      "model_module": "@jupyter-widgets/base",
      "model_module_version": "1.0.0",
      "model_name": "LayoutModel",
      "state": {}
     },
     "7876558a400148fe845153191cfe2736": {
      "model_module": "@jupyter-widgets/output",
      "model_module_version": "1.0.0",
      "model_name": "OutputModel",
      "state": {
       "layout": "IPY_MODEL_9f1df92212b541148693a3105516d1a4"
      }
     },
     "78bf059df41f42859aab83a4d034f0e0": {
      "model_module": "@jupyter-widgets/base",
      "model_module_version": "1.0.0",
      "model_name": "LayoutModel",
      "state": {}
     },
     "792d75c1b0b848639d731f7464147cc2": {
      "model_module": "@jupyter-widgets/controls",
      "model_module_version": "1.2.0",
      "model_name": "IntSliderModel",
      "state": {
       "description": "c",
       "layout": "IPY_MODEL_7874d3542f4349bbb25ee08cb4ce74c5",
       "max": 500,
       "min": -500,
       "style": "IPY_MODEL_d062a28e64304cca86c22011b8cf2175",
       "value": -500
      }
     },
     "793b13bd5021439ebd09b9d4ac993282": {
      "model_module": "@jupyter-widgets/controls",
      "model_module_version": "1.2.0",
      "model_name": "VBoxModel",
      "state": {
       "_dom_classes": [
        "widget-interact"
       ],
       "children": [
        "IPY_MODEL_05331cfcd8324b35b4f87d6ef60ffeb9",
        "IPY_MODEL_d1502bc853084d2490539a839c78af45"
       ],
       "layout": "IPY_MODEL_fea023dd3a684feb9ca2305c56f5cc9b"
      }
     },
     "7a306233f2dd4959b4801605788a63e0": {
      "model_module": "@jupyter-widgets/base",
      "model_module_version": "1.0.0",
      "model_name": "LayoutModel",
      "state": {}
     },
     "7b24cfdd30bb4384a6865822ccf9dd83": {
      "model_module": "@jupyter-widgets/controls",
      "model_module_version": "1.2.0",
      "model_name": "SliderStyleModel",
      "state": {
       "description_width": ""
      }
     },
     "7b74cef3a1274b058327877ac677c4bb": {
      "model_module": "@jupyter-widgets/controls",
      "model_module_version": "1.2.0",
      "model_name": "IntSliderModel",
      "state": {
       "description": "c",
       "layout": "IPY_MODEL_b49295c96e004b7eb68adce063be14f8",
       "max": 500,
       "min": -500,
       "style": "IPY_MODEL_bf91c8b5d0d44e7596a812faf68e9376",
       "value": 274
      }
     },
     "7bdf68e3555b40808b47c59fb4dfbba7": {
      "model_module": "@jupyter-widgets/controls",
      "model_module_version": "1.2.0",
      "model_name": "VBoxModel",
      "state": {
       "_dom_classes": [
        "widget-interact"
       ],
       "children": [
        "IPY_MODEL_ee04c99128064155a66b59f69874fe88",
        "IPY_MODEL_b06605ae87404b13aba00b8c7fb5a5b8"
       ],
       "layout": "IPY_MODEL_3463c92731ee44a2bb3b003484754158"
      }
     },
     "7c1ef0e52d8647e3aad34bf79f80241a": {
      "model_module": "@jupyter-widgets/controls",
      "model_module_version": "1.2.0",
      "model_name": "SliderStyleModel",
      "state": {
       "description_width": ""
      }
     },
     "7e5a55b394594820a194998aba90b5b8": {
      "model_module": "@jupyter-widgets/base",
      "model_module_version": "1.0.0",
      "model_name": "LayoutModel",
      "state": {}
     },
     "7e5e7b458b674fbdb70e944d58b29cb7": {
      "model_module": "@jupyter-widgets/base",
      "model_module_version": "1.0.0",
      "model_name": "LayoutModel",
      "state": {}
     },
     "7f0b25ae1c204b7cb89fe7e3b7baed0f": {
      "model_module": "@jupyter-widgets/base",
      "model_module_version": "1.0.0",
      "model_name": "LayoutModel",
      "state": {}
     },
     "7f97250f94634d4f9a41f8e03ef6edcf": {
      "model_module": "@jupyter-widgets/controls",
      "model_module_version": "1.2.0",
      "model_name": "VBoxModel",
      "state": {
       "_dom_classes": [
        "widget-interact"
       ],
       "children": [
        "IPY_MODEL_792d75c1b0b848639d731f7464147cc2",
        "IPY_MODEL_59a06d83bd0443a3b80c75e6913860d4"
       ],
       "layout": "IPY_MODEL_cc7748c2e27c4657862e9eced60e843c"
      }
     },
     "7fdae19fac0d42849757b082e67e25f3": {
      "model_module": "@jupyter-widgets/base",
      "model_module_version": "1.0.0",
      "model_name": "LayoutModel",
      "state": {}
     },
     "8028e2f04300437e9daad16eb21341ce": {
      "model_module": "@jupyter-widgets/controls",
      "model_module_version": "1.2.0",
      "model_name": "VBoxModel",
      "state": {
       "_dom_classes": [
        "widget-interact"
       ],
       "children": [
        "IPY_MODEL_d6a1e8527eee42b1a2bb1ab70b1f9ca8",
        "IPY_MODEL_e9d098d3d85642ffa08d259dc2834e93"
       ],
       "layout": "IPY_MODEL_70accbc1af174b2abf1ed744597b8dce"
      }
     },
     "8045fe2eb54c447e8a847a032170be32": {
      "model_module": "@jupyter-widgets/base",
      "model_module_version": "1.0.0",
      "model_name": "LayoutModel",
      "state": {}
     },
     "807910d34fde4d7db06b4b12a806337b": {
      "model_module": "@jupyter-widgets/base",
      "model_module_version": "1.0.0",
      "model_name": "LayoutModel",
      "state": {}
     },
     "80d542319fe349b98f583ab1a3d01218": {
      "model_module": "@jupyter-widgets/base",
      "model_module_version": "1.0.0",
      "model_name": "LayoutModel",
      "state": {}
     },
     "817d72a78e6c4b7cb401a339cfee2a29": {
      "model_module": "@jupyter-widgets/output",
      "model_module_version": "1.0.0",
      "model_name": "OutputModel",
      "state": {
       "layout": "IPY_MODEL_8e5027b34b254b6d876272d432ad5eb6"
      }
     },
     "8184257f09a847b9906f8c55f819a202": {
      "model_module": "@jupyter-widgets/output",
      "model_module_version": "1.0.0",
      "model_name": "OutputModel",
      "state": {
       "layout": "IPY_MODEL_4f3fa864fc744938a2c53ff1ec0d9b89"
      }
     },
     "81a1395dc0a84aa2a30c3f37ecbe6e37": {
      "model_module": "@jupyter-widgets/controls",
      "model_module_version": "1.2.0",
      "model_name": "VBoxModel",
      "state": {
       "_dom_classes": [
        "widget-interact"
       ],
       "children": [
        "IPY_MODEL_bd5c5e811f9c46f2bf96d63273c579db",
        "IPY_MODEL_9f771daa37754cf2bfe6030bb90ce702"
       ],
       "layout": "IPY_MODEL_0b0f395774734d7a81a4094e4d9bab5b"
      }
     },
     "81bf4582b7f44addb81d24d56e7031c6": {
      "model_module": "@jupyter-widgets/base",
      "model_module_version": "1.0.0",
      "model_name": "LayoutModel",
      "state": {}
     },
     "822060b1b3a045dcafe04296a751595f": {
      "model_module": "@jupyter-widgets/controls",
      "model_module_version": "1.2.0",
      "model_name": "SliderStyleModel",
      "state": {
       "description_width": ""
      }
     },
     "8259893c06e04cdea14cd1023a0e5807": {
      "model_module": "@jupyter-widgets/base",
      "model_module_version": "1.0.0",
      "model_name": "LayoutModel",
      "state": {}
     },
     "82ad689648024cabb18cac5253eeae0d": {
      "model_module": "@jupyter-widgets/base",
      "model_module_version": "1.0.0",
      "model_name": "LayoutModel",
      "state": {}
     },
     "82da8be043a34736bb8027f1c124bec1": {
      "model_module": "@jupyter-widgets/controls",
      "model_module_version": "1.2.0",
      "model_name": "SliderStyleModel",
      "state": {
       "description_width": ""
      }
     },
     "8360dd7cbbb144c4857a0181edfdb7e7": {
      "model_module": "@jupyter-widgets/base",
      "model_module_version": "1.0.0",
      "model_name": "LayoutModel",
      "state": {}
     },
     "8398e7304bc244ebb278bbb2e1968083": {
      "model_module": "@jupyter-widgets/base",
      "model_module_version": "1.0.0",
      "model_name": "LayoutModel",
      "state": {}
     },
     "8482aee11f0340e9b77130f186e52311": {
      "model_module": "@jupyter-widgets/base",
      "model_module_version": "1.0.0",
      "model_name": "LayoutModel",
      "state": {}
     },
     "84949c74d4be4da88b4c0d9a896f3241": {
      "model_module": "@jupyter-widgets/base",
      "model_module_version": "1.0.0",
      "model_name": "LayoutModel",
      "state": {}
     },
     "84c65c250d02459ea99372b041b2e341": {
      "model_module": "@jupyter-widgets/base",
      "model_module_version": "1.0.0",
      "model_name": "LayoutModel",
      "state": {}
     },
     "8526d4b5a2cf40b3b312d00f29bdb533": {
      "model_module": "@jupyter-widgets/controls",
      "model_module_version": "1.2.0",
      "model_name": "VBoxModel",
      "state": {
       "_dom_classes": [
        "widget-interact"
       ],
       "children": [
        "IPY_MODEL_f982509b1e344467b33d1958970433aa",
        "IPY_MODEL_781e6d3837444259a16423cb9bb7e19f"
       ],
       "layout": "IPY_MODEL_ffbcd41ff4444aab83fc7f4d12499568"
      }
     },
     "859e198167dd4fceaf15a058a469266a": {
      "model_module": "@jupyter-widgets/controls",
      "model_module_version": "1.2.0",
      "model_name": "SliderStyleModel",
      "state": {
       "description_width": ""
      }
     },
     "863f720dc314413b98506dfdcf5fe33a": {
      "model_module": "@jupyter-widgets/controls",
      "model_module_version": "1.2.0",
      "model_name": "SliderStyleModel",
      "state": {
       "description_width": ""
      }
     },
     "867112fb2d844008a706f553fac254b0": {
      "model_module": "@jupyter-widgets/base",
      "model_module_version": "1.0.0",
      "model_name": "LayoutModel",
      "state": {}
     },
     "867979740107429fb03bf61a51e79dda": {
      "model_module": "@jupyter-widgets/base",
      "model_module_version": "1.0.0",
      "model_name": "LayoutModel",
      "state": {}
     },
     "86d82e67d67941d3b83a2d15ff22ebb3": {
      "model_module": "@jupyter-widgets/controls",
      "model_module_version": "1.2.0",
      "model_name": "SliderStyleModel",
      "state": {
       "description_width": ""
      }
     },
     "8710c317cd3c4a5d89a790f9d0fa3e64": {
      "model_module": "@jupyter-widgets/controls",
      "model_module_version": "1.2.0",
      "model_name": "SliderStyleModel",
      "state": {
       "description_width": ""
      }
     },
     "87777f7324154fce8f0c07243ca62a22": {
      "model_module": "@jupyter-widgets/base",
      "model_module_version": "1.0.0",
      "model_name": "LayoutModel",
      "state": {}
     },
     "879481bc24ad4852ab137e5e7d0ad54a": {
      "model_module": "@jupyter-widgets/base",
      "model_module_version": "1.0.0",
      "model_name": "LayoutModel",
      "state": {}
     },
     "87ea357552ae417782811aa74b415964": {
      "model_module": "@jupyter-widgets/base",
      "model_module_version": "1.0.0",
      "model_name": "LayoutModel",
      "state": {}
     },
     "886616f141ac47f994b35ee64279e94e": {
      "model_module": "@jupyter-widgets/base",
      "model_module_version": "1.0.0",
      "model_name": "LayoutModel",
      "state": {}
     },
     "88686502ee3f44659f78293536e52f5a": {
      "model_module": "@jupyter-widgets/controls",
      "model_module_version": "1.2.0",
      "model_name": "SliderStyleModel",
      "state": {
       "description_width": ""
      }
     },
     "8925e6c96c0b45d887263d9fe1d42755": {
      "model_module": "@jupyter-widgets/base",
      "model_module_version": "1.0.0",
      "model_name": "LayoutModel",
      "state": {}
     },
     "895701d73dba4ba188e6235c6a125c62": {
      "model_module": "@jupyter-widgets/controls",
      "model_module_version": "1.2.0",
      "model_name": "IntSliderModel",
      "state": {
       "description": "c",
       "layout": "IPY_MODEL_b9da86bfae1143419c7600ea8ceb3fcc",
       "max": 5000,
       "min": -500,
       "style": "IPY_MODEL_9e112474d04f43809789bde53b9703ac",
       "value": 548
      }
     },
     "8aa196e7abb3480d84c2dc1839f0dcea": {
      "model_module": "@jupyter-widgets/base",
      "model_module_version": "1.0.0",
      "model_name": "LayoutModel",
      "state": {}
     },
     "8b0a5f806a474ca8a08ad69fdf820561": {
      "model_module": "@jupyter-widgets/base",
      "model_module_version": "1.0.0",
      "model_name": "LayoutModel",
      "state": {}
     },
     "8b1e07d9f15a4d35bcad352729694b9e": {
      "model_module": "@jupyter-widgets/controls",
      "model_module_version": "1.2.0",
      "model_name": "IntSliderModel",
      "state": {
       "description": "d",
       "layout": "IPY_MODEL_469996c5682046eca09a811e027689ad",
       "max": 500,
       "min": -500,
       "style": "IPY_MODEL_545c6492791640bebc05a32769d3f1b3",
       "value": 1
      }
     },
     "8ba73f00a169457287e7c6d61016fb77": {
      "model_module": "@jupyter-widgets/controls",
      "model_module_version": "1.2.0",
      "model_name": "VBoxModel",
      "state": {
       "_dom_classes": [
        "widget-interact"
       ],
       "children": [
        "IPY_MODEL_75149bd5f9df4b24bebeba07baf4fd0f",
        "IPY_MODEL_a4615c7132624221843e177239f3a55a"
       ],
       "layout": "IPY_MODEL_41992c51316b44c39b8027dee885bd2c"
      }
     },
     "8c40594ec6b14213a57f828f332275ad": {
      "model_module": "@jupyter-widgets/base",
      "model_module_version": "1.0.0",
      "model_name": "LayoutModel",
      "state": {}
     },
     "8c40662685a843d58157f52e2bea5de5": {
      "model_module": "@jupyter-widgets/controls",
      "model_module_version": "1.2.0",
      "model_name": "IntSliderModel",
      "state": {
       "description": "e",
       "layout": "IPY_MODEL_84949c74d4be4da88b4c0d9a896f3241",
       "max": 500,
       "min": -500,
       "style": "IPY_MODEL_2abe5acb0333415e806d7e5a760710ca",
       "value": -4
      }
     },
     "8c5ff9def228417780eeeae659583fb5": {
      "model_module": "@jupyter-widgets/controls",
      "model_module_version": "1.2.0",
      "model_name": "IntSliderModel",
      "state": {
       "description": "e",
       "layout": "IPY_MODEL_13be72b26a0544d2a77d446d27f8a5b6",
       "max": 500,
       "min": -500,
       "style": "IPY_MODEL_bb67edc68bd540a780132467e6327c1a",
       "value": 1
      }
     },
     "8c849d143503457b9c60c3d674a65961": {
      "model_module": "@jupyter-widgets/controls",
      "model_module_version": "1.2.0",
      "model_name": "SliderStyleModel",
      "state": {
       "description_width": ""
      }
     },
     "8ce619c5d92a4bd5b1c2235cb24fbc4c": {
      "model_module": "@jupyter-widgets/base",
      "model_module_version": "1.0.0",
      "model_name": "LayoutModel",
      "state": {}
     },
     "8d8d92c27dec471c8dea5dae5c161e44": {
      "model_module": "@jupyter-widgets/base",
      "model_module_version": "1.0.0",
      "model_name": "LayoutModel",
      "state": {}
     },
     "8e5027b34b254b6d876272d432ad5eb6": {
      "model_module": "@jupyter-widgets/base",
      "model_module_version": "1.0.0",
      "model_name": "LayoutModel",
      "state": {}
     },
     "8e623ca38492461595d228a2736b36ba": {
      "model_module": "@jupyter-widgets/output",
      "model_module_version": "1.0.0",
      "model_name": "OutputModel",
      "state": {
       "layout": "IPY_MODEL_03b67890bdf94467ae02fb097869b454"
      }
     },
     "8e8f85f496ee45879ebc836cbe9be4dd": {
      "model_module": "@jupyter-widgets/controls",
      "model_module_version": "1.2.0",
      "model_name": "VBoxModel",
      "state": {
       "_dom_classes": [
        "widget-interact"
       ],
       "children": [
        "IPY_MODEL_feda024a192d4b82bd2a2b8aa484827c",
        "IPY_MODEL_8184257f09a847b9906f8c55f819a202"
       ],
       "layout": "IPY_MODEL_973ae31de48a4b47a51681928d813a02"
      }
     },
     "8e9bd34a71f04b6cb0567a31b3b045cf": {
      "model_module": "@jupyter-widgets/controls",
      "model_module_version": "1.2.0",
      "model_name": "VBoxModel",
      "state": {
       "_dom_classes": [
        "widget-interact"
       ],
       "children": [
        "IPY_MODEL_97ad824e7ecb40dcae75a6152f443ee5",
        "IPY_MODEL_8fdc6f3ffc7e48ff8593be882a069cf8"
       ],
       "layout": "IPY_MODEL_223a82f5802b40dba8ff0cd2df5441a7"
      }
     },
     "8ed16635be4640c1b0e2e4ae8cb30419": {
      "model_module": "@jupyter-widgets/base",
      "model_module_version": "1.0.0",
      "model_name": "LayoutModel",
      "state": {}
     },
     "8fcd453604db4001867f0234a2ce374e": {
      "model_module": "@jupyter-widgets/controls",
      "model_module_version": "1.2.0",
      "model_name": "VBoxModel",
      "state": {
       "_dom_classes": [
        "widget-interact"
       ],
       "children": [
        "IPY_MODEL_20f5e5fbe312467d970a3d1b5af878f1",
        "IPY_MODEL_6889fa8c586c417984195d60ef6ba5a2"
       ],
       "layout": "IPY_MODEL_d31538b8a6294078a7029e1f869e0492"
      }
     },
     "8fdc6f3ffc7e48ff8593be882a069cf8": {
      "model_module": "@jupyter-widgets/output",
      "model_module_version": "1.0.0",
      "model_name": "OutputModel",
      "state": {
       "layout": "IPY_MODEL_e97dfb3719614ddf9b3e963fc95d4020"
      }
     },
     "90043809c9e24e03b6ba0b84cd04e6ed": {
      "model_module": "@jupyter-widgets/controls",
      "model_module_version": "1.2.0",
      "model_name": "SliderStyleModel",
      "state": {
       "description_width": ""
      }
     },
     "9056224dca9147a3a36ca2f1791e3081": {
      "model_module": "@jupyter-widgets/base",
      "model_module_version": "1.0.0",
      "model_name": "LayoutModel",
      "state": {}
     },
     "90f3cf7e68f84a9cb82c858f58370599": {
      "model_module": "@jupyter-widgets/base",
      "model_module_version": "1.0.0",
      "model_name": "LayoutModel",
      "state": {}
     },
     "9131520b91584aaeaa532f4e098b9d8a": {
      "model_module": "@jupyter-widgets/base",
      "model_module_version": "1.0.0",
      "model_name": "LayoutModel",
      "state": {}
     },
     "915e6b0a75ec402390415c4d55042155": {
      "model_module": "@jupyter-widgets/base",
      "model_module_version": "1.0.0",
      "model_name": "LayoutModel",
      "state": {}
     },
     "91c52be041ef4382b84e7c866db70829": {
      "model_module": "@jupyter-widgets/base",
      "model_module_version": "1.0.0",
      "model_name": "LayoutModel",
      "state": {}
     },
     "92a745f8491746129e7f4872898fa571": {
      "model_module": "@jupyter-widgets/base",
      "model_module_version": "1.0.0",
      "model_name": "LayoutModel",
      "state": {}
     },
     "92b5bc4d96d64f16b686fac03e6c6939": {
      "model_module": "@jupyter-widgets/controls",
      "model_module_version": "1.2.0",
      "model_name": "SliderStyleModel",
      "state": {
       "description_width": ""
      }
     },
     "9373955230f5474c89419a7ff4799b1e": {
      "model_module": "@jupyter-widgets/controls",
      "model_module_version": "1.2.0",
      "model_name": "IntSliderModel",
      "state": {
       "description": "c",
       "layout": "IPY_MODEL_8c40594ec6b14213a57f828f332275ad",
       "max": 500,
       "min": -500,
       "style": "IPY_MODEL_7c1ef0e52d8647e3aad34bf79f80241a",
       "value": 1
      }
     },
     "937eb6e751a84aa1ae053f3da1aad293": {
      "model_module": "@jupyter-widgets/base",
      "model_module_version": "1.0.0",
      "model_name": "LayoutModel",
      "state": {}
     },
     "940701cdfa564f2187569ccae5f960a6": {
      "model_module": "@jupyter-widgets/controls",
      "model_module_version": "1.2.0",
      "model_name": "IntSliderModel",
      "state": {
       "description": "c",
       "layout": "IPY_MODEL_b3edc3b37c22431789d5802932ba8bcd",
       "max": 500,
       "min": -500,
       "style": "IPY_MODEL_53e7de70d9a64fb48f6f5bf08361f7cb",
       "value": -185
      }
     },
     "946e0a4d9e1f497aaf9426c7774aebce": {
      "model_module": "@jupyter-widgets/controls",
      "model_module_version": "1.2.0",
      "model_name": "IntSliderModel",
      "state": {
       "description": "c",
       "layout": "IPY_MODEL_8aa196e7abb3480d84c2dc1839f0dcea",
       "max": 500,
       "min": -500,
       "style": "IPY_MODEL_859e198167dd4fceaf15a058a469266a",
       "value": 53
      }
     },
     "9559ee2e95aa43a096905b8f61b9f600": {
      "model_module": "@jupyter-widgets/controls",
      "model_module_version": "1.2.0",
      "model_name": "SliderStyleModel",
      "state": {
       "description_width": ""
      }
     },
     "95706a489e8e4af898070a7b67592986": {
      "model_module": "@jupyter-widgets/controls",
      "model_module_version": "1.2.0",
      "model_name": "IntSliderModel",
      "state": {
       "description": "d",
       "layout": "IPY_MODEL_d14fefab7e7b4d3d86b07bcb00d755ee",
       "max": 500,
       "min": -500,
       "style": "IPY_MODEL_20ef44c8c8a74ad18774cd16f678d181",
       "value": 118
      }
     },
     "95bc1d24ae4a4c43a0375a735f1c1d9f": {
      "model_module": "@jupyter-widgets/controls",
      "model_module_version": "1.2.0",
      "model_name": "VBoxModel",
      "state": {
       "_dom_classes": [
        "widget-interact"
       ],
       "children": [
        "IPY_MODEL_b305b4542773414594f3fd763fd3e56d",
        "IPY_MODEL_bcd7e1eae3384f219b53d25a606af751"
       ],
       "layout": "IPY_MODEL_fd1adac635904d4da13ac45f20abe0e7"
      }
     },
     "9605a3bd06c9431285d18a777627569f": {
      "model_module": "@jupyter-widgets/base",
      "model_module_version": "1.0.0",
      "model_name": "LayoutModel",
      "state": {}
     },
     "96af38874ce644c2850b5d9056d87e82": {
      "model_module": "@jupyter-widgets/output",
      "model_module_version": "1.0.0",
      "model_name": "OutputModel",
      "state": {
       "layout": "IPY_MODEL_1bc75d5a850e425bbf09ae6b691cc59c"
      }
     },
     "96f4b3aef2bd447a982c1a6a42cf7949": {
      "model_module": "@jupyter-widgets/controls",
      "model_module_version": "1.2.0",
      "model_name": "SliderStyleModel",
      "state": {
       "description_width": ""
      }
     },
     "97013e7b8a5e4504bb9bbbee0d942d1c": {
      "model_module": "@jupyter-widgets/controls",
      "model_module_version": "1.2.0",
      "model_name": "VBoxModel",
      "state": {
       "_dom_classes": [
        "widget-interact"
       ],
       "children": [
        "IPY_MODEL_b4bd71c71817426c94fdf29f6a77889b",
        "IPY_MODEL_aa1b452811874d929c3736f0f0100e1c"
       ],
       "layout": "IPY_MODEL_e69e7d2f1ad248cbb8c9ba5732682f60"
      }
     },
     "973ae31de48a4b47a51681928d813a02": {
      "model_module": "@jupyter-widgets/base",
      "model_module_version": "1.0.0",
      "model_name": "LayoutModel",
      "state": {}
     },
     "9753b1008b3849b9afd5084a2e6b4c20": {
      "model_module": "@jupyter-widgets/output",
      "model_module_version": "1.0.0",
      "model_name": "OutputModel",
      "state": {
       "layout": "IPY_MODEL_6d0bed4d4d0e41c0811adaee231ed3de"
      }
     },
     "975f2fa9a71444c8a980198392ad6f9e": {
      "model_module": "@jupyter-widgets/controls",
      "model_module_version": "1.2.0",
      "model_name": "SliderStyleModel",
      "state": {
       "description_width": ""
      }
     },
     "977d2313efbb4306a03e96b542f6e1c9": {
      "model_module": "@jupyter-widgets/controls",
      "model_module_version": "1.2.0",
      "model_name": "VBoxModel",
      "state": {
       "_dom_classes": [
        "widget-interact"
       ],
       "children": [
        "IPY_MODEL_8c5ff9def228417780eeeae659583fb5",
        "IPY_MODEL_7876558a400148fe845153191cfe2736"
       ],
       "layout": "IPY_MODEL_b191149286e4499b90bf5c6540abbd1a"
      }
     },
     "97a8888ebc7d41b385b10806b78911c7": {
      "model_module": "@jupyter-widgets/output",
      "model_module_version": "1.0.0",
      "model_name": "OutputModel",
      "state": {
       "layout": "IPY_MODEL_fa3c0b08017349a7b4c258ee601a67c8"
      }
     },
     "97ad824e7ecb40dcae75a6152f443ee5": {
      "model_module": "@jupyter-widgets/controls",
      "model_module_version": "1.2.0",
      "model_name": "IntSliderModel",
      "state": {
       "description": "c",
       "layout": "IPY_MODEL_f80005ecb6dd441aabda2a1e9ea89a8b",
       "max": 500,
       "min": -500,
       "style": "IPY_MODEL_f08d4c6ac7a841398bdb8a8682c8460a",
       "value": 36
      }
     },
     "9854a3cb77ea4364ad36f7aa66c823a4": {
      "model_module": "@jupyter-widgets/base",
      "model_module_version": "1.0.0",
      "model_name": "LayoutModel",
      "state": {}
     },
     "987c6479a9fa415db3e06b6d9ff2729c": {
      "model_module": "@jupyter-widgets/output",
      "model_module_version": "1.0.0",
      "model_name": "OutputModel",
      "state": {
       "layout": "IPY_MODEL_d9834b27917e48cf99ef98c7c8576333"
      }
     },
     "98b5f880934146638b22b80da5785b81": {
      "model_module": "@jupyter-widgets/output",
      "model_module_version": "1.0.0",
      "model_name": "OutputModel",
      "state": {
       "layout": "IPY_MODEL_0cd542174c56436db9d6e9edc78e7591"
      }
     },
     "98c0b0368eea483e94f02b3ad3adcaac": {
      "model_module": "@jupyter-widgets/controls",
      "model_module_version": "1.2.0",
      "model_name": "VBoxModel",
      "state": {
       "_dom_classes": [
        "widget-interact"
       ],
       "children": [
        "IPY_MODEL_99bb4517fe9b4513aa8edbe31ad88b4c",
        "IPY_MODEL_264b2f4307594864af670e59c0d756cd"
       ],
       "layout": "IPY_MODEL_6547dce42b454c36a215a9a7874ccbd2"
      }
     },
     "98e31bb4f3de4099826099f3b92de139": {
      "model_module": "@jupyter-widgets/output",
      "model_module_version": "1.0.0",
      "model_name": "OutputModel",
      "state": {
       "layout": "IPY_MODEL_9d2a347a32d94b02b7ea4a284c8f3417"
      }
     },
     "99bb4517fe9b4513aa8edbe31ad88b4c": {
      "model_module": "@jupyter-widgets/controls",
      "model_module_version": "1.2.0",
      "model_name": "IntSliderModel",
      "state": {
       "description": "c",
       "layout": "IPY_MODEL_773bc7537022435d914ba45e491ebcbd",
       "max": 500,
       "min": -500,
       "style": "IPY_MODEL_269e854f90fa4a2392eee06361b0d36a",
       "value": 1
      }
     },
     "9a2c3679bffe43fbad61ea3e20982aa4": {
      "model_module": "@jupyter-widgets/base",
      "model_module_version": "1.0.0",
      "model_name": "LayoutModel",
      "state": {}
     },
     "9ab50eff392d44e1a1326cc06441e461": {
      "model_module": "@jupyter-widgets/output",
      "model_module_version": "1.0.0",
      "model_name": "OutputModel",
      "state": {
       "layout": "IPY_MODEL_f9d8b5574ba045bc985d8305a30c71f9"
      }
     },
     "9b8eef046c684f1bb695ab9e56d1bd3c": {
      "model_module": "@jupyter-widgets/controls",
      "model_module_version": "1.2.0",
      "model_name": "IntSliderModel",
      "state": {
       "description": "e",
       "layout": "IPY_MODEL_c36ce5c398e34f70ae544184d0fb982e",
       "max": 500,
       "min": -500,
       "style": "IPY_MODEL_1b30451bd06f453ca7a8eed5a179ff2c",
       "value": -1
      }
     },
     "9ca2ee5117154ece91e96284c19f2d8f": {
      "model_module": "@jupyter-widgets/base",
      "model_module_version": "1.0.0",
      "model_name": "LayoutModel",
      "state": {}
     },
     "9d2a347a32d94b02b7ea4a284c8f3417": {
      "model_module": "@jupyter-widgets/base",
      "model_module_version": "1.0.0",
      "model_name": "LayoutModel",
      "state": {}
     },
     "9d2e7294e4264ea2a41760f06431a867": {
      "model_module": "@jupyter-widgets/controls",
      "model_module_version": "1.2.0",
      "model_name": "IntSliderModel",
      "state": {
       "description": "c",
       "layout": "IPY_MODEL_1916055591a44f64b2503eb077a2d1c1",
       "max": 500,
       "min": -500,
       "style": "IPY_MODEL_d69a6a7f42a043b49d6cf18427e4c07b",
       "value": 1
      }
     },
     "9ddafe4ceb1b4afe940c3f75d6862c50": {
      "model_module": "@jupyter-widgets/controls",
      "model_module_version": "1.2.0",
      "model_name": "VBoxModel",
      "state": {
       "_dom_classes": [
        "widget-interact"
       ],
       "children": [
        "IPY_MODEL_fed67fa4c97e487bb224a36b6dbad883",
        "IPY_MODEL_9753b1008b3849b9afd5084a2e6b4c20"
       ],
       "layout": "IPY_MODEL_5737c5e956ff4359b7d55f7c9cc2a450"
      }
     },
     "9e112474d04f43809789bde53b9703ac": {
      "model_module": "@jupyter-widgets/controls",
      "model_module_version": "1.2.0",
      "model_name": "SliderStyleModel",
      "state": {
       "description_width": ""
      }
     },
     "9e48fe642a024dd6908a56b0ed494105": {
      "model_module": "@jupyter-widgets/base",
      "model_module_version": "1.0.0",
      "model_name": "LayoutModel",
      "state": {}
     },
     "9e666fe22e294907830c00f69de47ce2": {
      "model_module": "@jupyter-widgets/controls",
      "model_module_version": "1.2.0",
      "model_name": "SliderStyleModel",
      "state": {
       "description_width": ""
      }
     },
     "9f1df92212b541148693a3105516d1a4": {
      "model_module": "@jupyter-widgets/base",
      "model_module_version": "1.0.0",
      "model_name": "LayoutModel",
      "state": {}
     },
     "9f771daa37754cf2bfe6030bb90ce702": {
      "model_module": "@jupyter-widgets/output",
      "model_module_version": "1.0.0",
      "model_name": "OutputModel",
      "state": {
       "layout": "IPY_MODEL_f53a0d81be1d4c37bf0062ef92654ae0"
      }
     },
     "9fd6467443cb410d875d2482a2960645": {
      "model_module": "@jupyter-widgets/base",
      "model_module_version": "1.0.0",
      "model_name": "LayoutModel",
      "state": {}
     },
     "a08ad471d9ab4499998d9f02b7c77f43": {
      "model_module": "@jupyter-widgets/controls",
      "model_module_version": "1.2.0",
      "model_name": "IntSliderModel",
      "state": {
       "description": "c",
       "layout": "IPY_MODEL_9e48fe642a024dd6908a56b0ed494105",
       "max": 500,
       "min": -500,
       "style": "IPY_MODEL_63c175bd09ef49c2a78878304f88389a",
       "value": 190
      }
     },
     "a08d91265c434a0d82279eb4ca33459a": {
      "model_module": "@jupyter-widgets/output",
      "model_module_version": "1.0.0",
      "model_name": "OutputModel",
      "state": {
       "layout": "IPY_MODEL_87777f7324154fce8f0c07243ca62a22"
      }
     },
     "a0ddba8d49c049eca593ba9264842187": {
      "model_module": "@jupyter-widgets/controls",
      "model_module_version": "1.2.0",
      "model_name": "IntSliderModel",
      "state": {
       "description": "c",
       "layout": "IPY_MODEL_c5f88eb54c2444bb87fb86fb9b60bee7",
       "max": 500,
       "min": -500,
       "style": "IPY_MODEL_3526f43d71184faa85b07d4f93b85d4e",
       "value": 1
      }
     },
     "a1aeeaa4e5a84fec9af0bf8dc81228c8": {
      "model_module": "@jupyter-widgets/base",
      "model_module_version": "1.0.0",
      "model_name": "LayoutModel",
      "state": {}
     },
     "a364bba0da004b209d4b86cba1dc097a": {
      "model_module": "@jupyter-widgets/base",
      "model_module_version": "1.0.0",
      "model_name": "LayoutModel",
      "state": {}
     },
     "a40bff1c5afe4ba9abd413376e489c03": {
      "model_module": "@jupyter-widgets/controls",
      "model_module_version": "1.2.0",
      "model_name": "SliderStyleModel",
      "state": {
       "description_width": ""
      }
     },
     "a435c7807ccf4289abd275db51b76658": {
      "model_module": "@jupyter-widgets/controls",
      "model_module_version": "1.2.0",
      "model_name": "VBoxModel",
      "state": {
       "_dom_classes": [
        "widget-interact"
       ],
       "children": [
        "IPY_MODEL_dc76f7700a3146b6a2596fbf3aa6e1d5",
        "IPY_MODEL_74439049a338417f9e700e1a673d9be9"
       ],
       "layout": "IPY_MODEL_df58caedc6a142fa98e39a639c33e842"
      }
     },
     "a4615c7132624221843e177239f3a55a": {
      "model_module": "@jupyter-widgets/output",
      "model_module_version": "1.0.0",
      "model_name": "OutputModel",
      "state": {
       "layout": "IPY_MODEL_ddf33035b6a34bdaaed0046289ee446f"
      }
     },
     "a46fd4e3d39a4f8797ed606bde3f1635": {
      "model_module": "@jupyter-widgets/base",
      "model_module_version": "1.0.0",
      "model_name": "LayoutModel",
      "state": {}
     },
     "a4b36f0aec08420684a4552f983661cc": {
      "model_module": "@jupyter-widgets/base",
      "model_module_version": "1.0.0",
      "model_name": "LayoutModel",
      "state": {}
     },
     "a512622a154f4b3c97f64b207afcaf09": {
      "model_module": "@jupyter-widgets/controls",
      "model_module_version": "1.2.0",
      "model_name": "VBoxModel",
      "state": {
       "_dom_classes": [
        "widget-interact"
       ],
       "children": [
        "IPY_MODEL_c8efd2d24fd44ac68e6a149403ccd27f",
        "IPY_MODEL_e05d4f60cd914f16bcc6614b6fd81bfa"
       ],
       "layout": "IPY_MODEL_d7e5ceb1c7c04effa9bd85cae960656d"
      }
     },
     "a5952df04162400f8ff35fba7a2f536b": {
      "model_module": "@jupyter-widgets/base",
      "model_module_version": "1.0.0",
      "model_name": "LayoutModel",
      "state": {}
     },
     "a68ac7b609914f07b8559c9bbb0546d9": {
      "model_module": "@jupyter-widgets/controls",
      "model_module_version": "1.2.0",
      "model_name": "SliderStyleModel",
      "state": {
       "description_width": ""
      }
     },
     "a6c7480757a243cb924eda8de038e325": {
      "model_module": "@jupyter-widgets/output",
      "model_module_version": "1.0.0",
      "model_name": "OutputModel",
      "state": {
       "layout": "IPY_MODEL_ba265feaf16d4f3fb1156b272861de1a"
      }
     },
     "a80f9eafb38d43ebb96138dbd8844ac7": {
      "model_module": "@jupyter-widgets/base",
      "model_module_version": "1.0.0",
      "model_name": "LayoutModel",
      "state": {}
     },
     "a8378100da5143ec82a215a86a7ebb52": {
      "model_module": "@jupyter-widgets/output",
      "model_module_version": "1.0.0",
      "model_name": "OutputModel",
      "state": {
       "layout": "IPY_MODEL_db3ae09e5b0d45bf936225e8e7d3285a"
      }
     },
     "a857ee6f9f574354be1d6c4b7faa558b": {
      "model_module": "@jupyter-widgets/controls",
      "model_module_version": "1.2.0",
      "model_name": "IntSliderModel",
      "state": {
       "description": "c",
       "layout": "IPY_MODEL_b00406efc720491599f2d39a158844ea",
       "max": 500,
       "min": -500,
       "style": "IPY_MODEL_c66f5149a68446dab99dfd66f4876e68",
       "value": 1
      }
     },
     "a888f983ae6c49a4ac1a685a6bc958f5": {
      "model_module": "@jupyter-widgets/output",
      "model_module_version": "1.0.0",
      "model_name": "OutputModel",
      "state": {
       "layout": "IPY_MODEL_453d9c6e9ceb41b18c313d476314ede1"
      }
     },
     "a9208793593a4988ba8053883acc7301": {
      "model_module": "@jupyter-widgets/output",
      "model_module_version": "1.0.0",
      "model_name": "OutputModel",
      "state": {
       "layout": "IPY_MODEL_50ca13a41b6d4b32a95368c99b56bc1b"
      }
     },
     "a97dacad52db46b7b16b6ff6edd606c5": {
      "model_module": "@jupyter-widgets/base",
      "model_module_version": "1.0.0",
      "model_name": "LayoutModel",
      "state": {}
     },
     "a9c7fabdbf3049d8a49d2cb2d0df50ce": {
      "model_module": "@jupyter-widgets/controls",
      "model_module_version": "1.2.0",
      "model_name": "SliderStyleModel",
      "state": {
       "description_width": ""
      }
     },
     "aa1b452811874d929c3736f0f0100e1c": {
      "model_module": "@jupyter-widgets/output",
      "model_module_version": "1.0.0",
      "model_name": "OutputModel",
      "state": {
       "layout": "IPY_MODEL_fde04b2083e640df908cf12b5a621ece"
      }
     },
     "aaad31a5f4194c608c09865486f985ab": {
      "model_module": "@jupyter-widgets/controls",
      "model_module_version": "1.2.0",
      "model_name": "SliderStyleModel",
      "state": {
       "description_width": ""
      }
     },
     "ab06cc98cc32425bb808e4b254b495a7": {
      "model_module": "@jupyter-widgets/controls",
      "model_module_version": "1.2.0",
      "model_name": "VBoxModel",
      "state": {
       "_dom_classes": [
        "widget-interact"
       ],
       "children": [
        "IPY_MODEL_07a2dacdc4a147acadf147dd646d9324",
        "IPY_MODEL_d7ae6a30d8254c2192e84c5a6d8a4cd5"
       ],
       "layout": "IPY_MODEL_cb8ed0ee2894424fa34bbb82ee160a8f"
      }
     },
     "ab8a823d17df4e21a40a3ab693815232": {
      "model_module": "@jupyter-widgets/base",
      "model_module_version": "1.0.0",
      "model_name": "LayoutModel",
      "state": {}
     },
     "abcb26ee1a544d668b52682fa0ea567c": {
      "model_module": "@jupyter-widgets/output",
      "model_module_version": "1.0.0",
      "model_name": "OutputModel",
      "state": {
       "layout": "IPY_MODEL_a1aeeaa4e5a84fec9af0bf8dc81228c8"
      }
     },
     "abe94cba84d6400594a1895b1f8e378e": {
      "model_module": "@jupyter-widgets/base",
      "model_module_version": "1.0.0",
      "model_name": "LayoutModel",
      "state": {}
     },
     "ac421deeaf8e40ac86059a107f33de97": {
      "model_module": "@jupyter-widgets/output",
      "model_module_version": "1.0.0",
      "model_name": "OutputModel",
      "state": {
       "layout": "IPY_MODEL_6b0cbc1c9a8f431e80ac5eee9711c3d9"
      }
     },
     "ad4f005ab7214a3aa003b602f9f9e0ae": {
      "model_module": "@jupyter-widgets/controls",
      "model_module_version": "1.2.0",
      "model_name": "VBoxModel",
      "state": {
       "_dom_classes": [
        "widget-interact"
       ],
       "children": [
        "IPY_MODEL_4f7679af2d50436d980ca8d4731cc867",
        "IPY_MODEL_0afb30682d0e47948c8fe92a1340a118"
       ],
       "layout": "IPY_MODEL_3a7ec279ddeb491197f6ee2d1a3cb510"
      }
     },
     "ad881e58c5ca49ea8c180351ef163e8d": {
      "model_module": "@jupyter-widgets/controls",
      "model_module_version": "1.2.0",
      "model_name": "SliderStyleModel",
      "state": {
       "description_width": ""
      }
     },
     "adf534a84b1142869f9bc002daa8ff78": {
      "model_module": "@jupyter-widgets/base",
      "model_module_version": "1.0.0",
      "model_name": "LayoutModel",
      "state": {}
     },
     "ae042523baed420ca4d3ff76c12b6f9d": {
      "model_module": "@jupyter-widgets/controls",
      "model_module_version": "1.2.0",
      "model_name": "IntSliderModel",
      "state": {
       "description": "c",
       "layout": "IPY_MODEL_3403f409f3f245a2925948f1446410ee",
       "max": 500,
       "min": -500,
       "style": "IPY_MODEL_2d7a38aa7ad84d82aa1d257aeaa5ef0f",
       "value": 149
      }
     },
     "ae0f2e4090f549acb67cf1e46a5b5cd1": {
      "model_module": "@jupyter-widgets/base",
      "model_module_version": "1.0.0",
      "model_name": "LayoutModel",
      "state": {}
     },
     "ae40e4a1e34a45b5b4014b3397b041b2": {
      "model_module": "@jupyter-widgets/controls",
      "model_module_version": "1.2.0",
      "model_name": "IntSliderModel",
      "state": {
       "description": "e",
       "layout": "IPY_MODEL_3474913c2b064d68a483e5647faa9668",
       "max": 500,
       "min": -500,
       "style": "IPY_MODEL_06bc092a24d348d5b60c1ffee8a2226f",
       "value": 1
      }
     },
     "aeb46e667bbf4fae98e9c78688a128a6": {
      "model_module": "@jupyter-widgets/output",
      "model_module_version": "1.0.0",
      "model_name": "OutputModel",
      "state": {
       "layout": "IPY_MODEL_2196f9ac2506444fa08f3976ad9acba6"
      }
     },
     "aebe1156d20049f7885e3c089cb66242": {
      "model_module": "@jupyter-widgets/controls",
      "model_module_version": "1.2.0",
      "model_name": "SliderStyleModel",
      "state": {
       "description_width": ""
      }
     },
     "b00406efc720491599f2d39a158844ea": {
      "model_module": "@jupyter-widgets/base",
      "model_module_version": "1.0.0",
      "model_name": "LayoutModel",
      "state": {}
     },
     "b06605ae87404b13aba00b8c7fb5a5b8": {
      "model_module": "@jupyter-widgets/output",
      "model_module_version": "1.0.0",
      "model_name": "OutputModel",
      "state": {
       "layout": "IPY_MODEL_4778959e44a34f09beebe1599e365a4d"
      }
     },
     "b0bbaed52ddc4a1796456ba115edb817": {
      "model_module": "@jupyter-widgets/controls",
      "model_module_version": "1.2.0",
      "model_name": "VBoxModel",
      "state": {
       "_dom_classes": [
        "widget-interact"
       ],
       "children": [
        "IPY_MODEL_c6958896745343fe9e150ee1ea9b955d",
        "IPY_MODEL_a888f983ae6c49a4ac1a685a6bc958f5"
       ],
       "layout": "IPY_MODEL_b5f670f27dd1489b8f03ed1af0fc6352"
      }
     },
     "b13cc44a8ddb4a278790341a57971efe": {
      "model_module": "@jupyter-widgets/base",
      "model_module_version": "1.0.0",
      "model_name": "LayoutModel",
      "state": {}
     },
     "b191149286e4499b90bf5c6540abbd1a": {
      "model_module": "@jupyter-widgets/base",
      "model_module_version": "1.0.0",
      "model_name": "LayoutModel",
      "state": {}
     },
     "b1a41d88ce57445c8df643f19bb36ad6": {
      "model_module": "@jupyter-widgets/controls",
      "model_module_version": "1.2.0",
      "model_name": "VBoxModel",
      "state": {
       "_dom_classes": [
        "widget-interact"
       ],
       "children": [
        "IPY_MODEL_8c40662685a843d58157f52e2bea5de5",
        "IPY_MODEL_aeb46e667bbf4fae98e9c78688a128a6"
       ],
       "layout": "IPY_MODEL_712661fc1a1a4db19d361bb52b2d0779"
      }
     },
     "b1cbb08d8cff4213a8bb3eaf1739f8bb": {
      "model_module": "@jupyter-widgets/base",
      "model_module_version": "1.0.0",
      "model_name": "LayoutModel",
      "state": {}
     },
     "b2ead9189fa34eef83ebbee987606987": {
      "model_module": "@jupyter-widgets/base",
      "model_module_version": "1.0.0",
      "model_name": "LayoutModel",
      "state": {}
     },
     "b2fc01f7af0842d78504ef17457b793e": {
      "model_module": "@jupyter-widgets/controls",
      "model_module_version": "1.2.0",
      "model_name": "SliderStyleModel",
      "state": {
       "description_width": ""
      }
     },
     "b305b4542773414594f3fd763fd3e56d": {
      "model_module": "@jupyter-widgets/controls",
      "model_module_version": "1.2.0",
      "model_name": "IntSliderModel",
      "state": {
       "description": "e",
       "layout": "IPY_MODEL_ed64eb67a62940ab819934a9d6af5d4e",
       "max": 500,
       "min": -500,
       "style": "IPY_MODEL_f929a5b582eb43ed879bfcd90c1dcfcf",
       "value": 231
      }
     },
     "b3c4e5e3c500482f8d1722fe000347a8": {
      "model_module": "@jupyter-widgets/controls",
      "model_module_version": "1.2.0",
      "model_name": "IntSliderModel",
      "state": {
       "description": "e",
       "layout": "IPY_MODEL_8ed16635be4640c1b0e2e4ae8cb30419",
       "max": 500,
       "min": -500,
       "style": "IPY_MODEL_50d69784e5304cfd94fc8b3e6a0ec59b",
       "value": -10
      }
     },
     "b3d33639799645a9a0e9f5032775395d": {
      "model_module": "@jupyter-widgets/base",
      "model_module_version": "1.0.0",
      "model_name": "LayoutModel",
      "state": {}
     },
     "b3edc3b37c22431789d5802932ba8bcd": {
      "model_module": "@jupyter-widgets/base",
      "model_module_version": "1.0.0",
      "model_name": "LayoutModel",
      "state": {}
     },
     "b45a7d885c114499a881c7b3a9572b28": {
      "model_module": "@jupyter-widgets/controls",
      "model_module_version": "1.2.0",
      "model_name": "IntSliderModel",
      "state": {
       "description": "c",
       "layout": "IPY_MODEL_dfd77fe169864e05b2550e27136f54d2",
       "max": 500,
       "min": -500,
       "style": "IPY_MODEL_fce65dd33de64fe0ab5057ac0e5b3d2b",
       "value": 1
      }
     },
     "b49295c96e004b7eb68adce063be14f8": {
      "model_module": "@jupyter-widgets/base",
      "model_module_version": "1.0.0",
      "model_name": "LayoutModel",
      "state": {}
     },
     "b4bd71c71817426c94fdf29f6a77889b": {
      "model_module": "@jupyter-widgets/controls",
      "model_module_version": "1.2.0",
      "model_name": "IntSliderModel",
      "state": {
       "description": "c",
       "layout": "IPY_MODEL_7005a469c5764551a6347363073f93fe",
       "max": 500,
       "min": -500,
       "style": "IPY_MODEL_004451182a5342cb9fbd6070d3c39159",
       "value": 1
      }
     },
     "b5f670f27dd1489b8f03ed1af0fc6352": {
      "model_module": "@jupyter-widgets/base",
      "model_module_version": "1.0.0",
      "model_name": "LayoutModel",
      "state": {}
     },
     "b616e15928cf4eb38193df0f75fba719": {
      "model_module": "@jupyter-widgets/controls",
      "model_module_version": "1.2.0",
      "model_name": "VBoxModel",
      "state": {
       "_dom_classes": [
        "widget-interact"
       ],
       "children": [
        "IPY_MODEL_d8dbf730243446ef899f5888dfe5616d",
        "IPY_MODEL_d1aae08fe41e4b3b946379ed747bca95"
       ],
       "layout": "IPY_MODEL_025bd1f4b72f4e4799f38058de18700e"
      }
     },
     "b644362dc2654d6fa1332d8dc7cda43f": {
      "model_module": "@jupyter-widgets/controls",
      "model_module_version": "1.2.0",
      "model_name": "IntSliderModel",
      "state": {
       "description": "c",
       "layout": "IPY_MODEL_67f28980254a437190b0b241601aa3e5",
       "max": 500,
       "min": -500,
       "style": "IPY_MODEL_ad881e58c5ca49ea8c180351ef163e8d",
       "value": 85
      }
     },
     "b653a9039638498d920b33da26ae2dd6": {
      "model_module": "@jupyter-widgets/output",
      "model_module_version": "1.0.0",
      "model_name": "OutputModel",
      "state": {
       "layout": "IPY_MODEL_ccc2dc8981304a8191361408a3e3f7b1"
      }
     },
     "b686d222cbdc4500bb7da5e9c1e7ed01": {
      "model_module": "@jupyter-widgets/controls",
      "model_module_version": "1.2.0",
      "model_name": "IntSliderModel",
      "state": {
       "description": "d",
       "layout": "IPY_MODEL_e0ec84250f5a476bb4741673d4d874c7",
       "max": 500,
       "min": -500,
       "style": "IPY_MODEL_d8b55ca14e314f6d9a1c54084a3e0ae5",
       "value": 1
      }
     },
     "b716545c88134877afa8f31977bd1892": {
      "model_module": "@jupyter-widgets/output",
      "model_module_version": "1.0.0",
      "model_name": "OutputModel",
      "state": {
       "layout": "IPY_MODEL_0a78019cfe5d40129663c14c171542f9"
      }
     },
     "b7212d9d1d854840aece80f93a087738": {
      "model_module": "@jupyter-widgets/controls",
      "model_module_version": "1.2.0",
      "model_name": "VBoxModel",
      "state": {
       "_dom_classes": [
        "widget-interact"
       ],
       "children": [
        "IPY_MODEL_5be430e6b093444c8175a187ff9484e3",
        "IPY_MODEL_692e3953759f451786a8685cf0407383"
       ],
       "layout": "IPY_MODEL_435b3181dd214a33b95de5e8fe5998c7"
      }
     },
     "b8989fa612d142adb76e2af32b26c1d9": {
      "model_module": "@jupyter-widgets/controls",
      "model_module_version": "1.2.0",
      "model_name": "SliderStyleModel",
      "state": {
       "description_width": ""
      }
     },
     "b8b95295a97a4100acf04edbbe8f7436": {
      "model_module": "@jupyter-widgets/output",
      "model_module_version": "1.0.0",
      "model_name": "OutputModel",
      "state": {
       "layout": "IPY_MODEL_13655a655c484c3ba2391c9b3512ac86"
      }
     },
     "b914491239d64b48a2c9cbb8ef63a07f": {
      "model_module": "@jupyter-widgets/controls",
      "model_module_version": "1.2.0",
      "model_name": "VBoxModel",
      "state": {
       "_dom_classes": [
        "widget-interact"
       ],
       "children": [
        "IPY_MODEL_cea5d8d7665b431686999ad1e8854bf9",
        "IPY_MODEL_e36bb22df85c459d91bb53a33be523b9"
       ],
       "layout": "IPY_MODEL_807910d34fde4d7db06b4b12a806337b"
      }
     },
     "b9997fe3919d4ec4b127d25aeb921abb": {
      "model_module": "@jupyter-widgets/output",
      "model_module_version": "1.0.0",
      "model_name": "OutputModel",
      "state": {
       "layout": "IPY_MODEL_1732fa2eecd6456eb586d898c00c8c1c"
      }
     },
     "b9da86bfae1143419c7600ea8ceb3fcc": {
      "model_module": "@jupyter-widgets/base",
      "model_module_version": "1.0.0",
      "model_name": "LayoutModel",
      "state": {}
     },
     "ba1423e4090645d691306483feeefb6c": {
      "model_module": "@jupyter-widgets/base",
      "model_module_version": "1.0.0",
      "model_name": "LayoutModel",
      "state": {}
     },
     "ba265feaf16d4f3fb1156b272861de1a": {
      "model_module": "@jupyter-widgets/base",
      "model_module_version": "1.0.0",
      "model_name": "LayoutModel",
      "state": {}
     },
     "ba77de4cf58245d9807796ee562d851e": {
      "model_module": "@jupyter-widgets/output",
      "model_module_version": "1.0.0",
      "model_name": "OutputModel",
      "state": {
       "layout": "IPY_MODEL_5494e4c1c206418dbeff8cb59df50ed5"
      }
     },
     "bb67edc68bd540a780132467e6327c1a": {
      "model_module": "@jupyter-widgets/controls",
      "model_module_version": "1.2.0",
      "model_name": "SliderStyleModel",
      "state": {
       "description_width": ""
      }
     },
     "bb8b9b56f2b84000b4e92ab3e69eec3f": {
      "model_module": "@jupyter-widgets/base",
      "model_module_version": "1.0.0",
      "model_name": "LayoutModel",
      "state": {}
     },
     "bb90bbf5676844f6bd6789c434304867": {
      "model_module": "@jupyter-widgets/base",
      "model_module_version": "1.0.0",
      "model_name": "LayoutModel",
      "state": {}
     },
     "bcd7e1eae3384f219b53d25a606af751": {
      "model_module": "@jupyter-widgets/output",
      "model_module_version": "1.0.0",
      "model_name": "OutputModel",
      "state": {
       "layout": "IPY_MODEL_3eee6dee7c834b01a223fa43962d855f"
      }
     },
     "bcf2e642313f4c0bb89ef5e4d4a8ab6a": {
      "model_module": "@jupyter-widgets/base",
      "model_module_version": "1.0.0",
      "model_name": "LayoutModel",
      "state": {}
     },
     "bd300ac71eaa4877afd14e7a6ef2074b": {
      "model_module": "@jupyter-widgets/base",
      "model_module_version": "1.0.0",
      "model_name": "LayoutModel",
      "state": {}
     },
     "bd5c5e811f9c46f2bf96d63273c579db": {
      "model_module": "@jupyter-widgets/controls",
      "model_module_version": "1.2.0",
      "model_name": "IntSliderModel",
      "state": {
       "description": "c",
       "layout": "IPY_MODEL_0dbb8792e5494e248df5f67e803a08fd",
       "max": 500,
       "min": -500,
       "style": "IPY_MODEL_02d3a1fc429b4f9b80ef138dc0ba747b",
       "value": 1
      }
     },
     "bddba9d532ef453fb556b3935ec600da": {
      "model_module": "@jupyter-widgets/controls",
      "model_module_version": "1.2.0",
      "model_name": "SliderStyleModel",
      "state": {
       "description_width": ""
      }
     },
     "bef97a16c39444edbc33bd65ccec07c1": {
      "model_module": "@jupyter-widgets/controls",
      "model_module_version": "1.2.0",
      "model_name": "IntSliderModel",
      "state": {
       "description": "c",
       "layout": "IPY_MODEL_3e7835ab22fa4720aac2f418b814a46b",
       "max": 500,
       "min": -500,
       "style": "IPY_MODEL_a9c7fabdbf3049d8a49d2cb2d0df50ce",
       "value": 77
      }
     },
     "bf347c90999b402d9d3909389fd38a75": {
      "model_module": "@jupyter-widgets/base",
      "model_module_version": "1.0.0",
      "model_name": "LayoutModel",
      "state": {}
     },
     "bf4983fb61a8498e89f54f6d246278b1": {
      "model_module": "@jupyter-widgets/controls",
      "model_module_version": "1.2.0",
      "model_name": "IntSliderModel",
      "state": {
       "description": "c",
       "layout": "IPY_MODEL_43f05a7289ff4614832b94e46f00159e",
       "max": 500,
       "min": -500,
       "style": "IPY_MODEL_f78a06cc2fc943b9a501961ddd06ed66",
       "value": 500
      }
     },
     "bf6a318237b24c26a5d728bda7e849f4": {
      "model_module": "@jupyter-widgets/base",
      "model_module_version": "1.0.0",
      "model_name": "LayoutModel",
      "state": {}
     },
     "bf91c8b5d0d44e7596a812faf68e9376": {
      "model_module": "@jupyter-widgets/controls",
      "model_module_version": "1.2.0",
      "model_name": "SliderStyleModel",
      "state": {
       "description_width": ""
      }
     },
     "bf9e0da336d34755afe0794bd97c75f2": {
      "model_module": "@jupyter-widgets/controls",
      "model_module_version": "1.2.0",
      "model_name": "VBoxModel",
      "state": {
       "_dom_classes": [
        "widget-interact"
       ],
       "children": [
        "IPY_MODEL_ae40e4a1e34a45b5b4014b3397b041b2",
        "IPY_MODEL_c4310f074a304b30838a7b175921e0a4"
       ],
       "layout": "IPY_MODEL_c9e7ceaf0b374319b5d18964c86b045d"
      }
     },
     "bfd3754e235540dd936a316457b5bdca": {
      "model_module": "@jupyter-widgets/base",
      "model_module_version": "1.0.0",
      "model_name": "LayoutModel",
      "state": {}
     },
     "c0fc65fc6cd34b6589899d918de213ab": {
      "model_module": "@jupyter-widgets/base",
      "model_module_version": "1.0.0",
      "model_name": "LayoutModel",
      "state": {}
     },
     "c3539fd277ed4f088f4b4b6552c4699f": {
      "model_module": "@jupyter-widgets/base",
      "model_module_version": "1.0.0",
      "model_name": "LayoutModel",
      "state": {}
     },
     "c36ce5c398e34f70ae544184d0fb982e": {
      "model_module": "@jupyter-widgets/base",
      "model_module_version": "1.0.0",
      "model_name": "LayoutModel",
      "state": {}
     },
     "c385c7d4ec464b31983e6b0e32e126c8": {
      "model_module": "@jupyter-widgets/base",
      "model_module_version": "1.0.0",
      "model_name": "LayoutModel",
      "state": {}
     },
     "c3ccaad2c2d24a5fb11c2aa9e2d7e072": {
      "model_module": "@jupyter-widgets/controls",
      "model_module_version": "1.2.0",
      "model_name": "SliderStyleModel",
      "state": {
       "description_width": ""
      }
     },
     "c40d945e10744600abf5e0d8ae34bc9e": {
      "model_module": "@jupyter-widgets/controls",
      "model_module_version": "1.2.0",
      "model_name": "SliderStyleModel",
      "state": {
       "description_width": ""
      }
     },
     "c4141b19cd5f4d52b516bc74cb8c48e0": {
      "model_module": "@jupyter-widgets/controls",
      "model_module_version": "1.2.0",
      "model_name": "SliderStyleModel",
      "state": {
       "description_width": ""
      }
     },
     "c4310f074a304b30838a7b175921e0a4": {
      "model_module": "@jupyter-widgets/output",
      "model_module_version": "1.0.0",
      "model_name": "OutputModel",
      "state": {
       "layout": "IPY_MODEL_78bf059df41f42859aab83a4d034f0e0"
      }
     },
     "c47ada4010c648ca89e76a75462b8e71": {
      "model_module": "@jupyter-widgets/base",
      "model_module_version": "1.0.0",
      "model_name": "LayoutModel",
      "state": {}
     },
     "c4cf7c9797004bc2ac8f27068769286d": {
      "model_module": "@jupyter-widgets/controls",
      "model_module_version": "1.2.0",
      "model_name": "IntSliderModel",
      "state": {
       "description": "c",
       "layout": "IPY_MODEL_8360dd7cbbb144c4857a0181edfdb7e7",
       "max": 500,
       "min": -500,
       "style": "IPY_MODEL_11082665d5b442a3b1f32e2ac3630170",
       "value": -500
      }
     },
     "c506c77790504b6e871d6e06a28fbe86": {
      "model_module": "@jupyter-widgets/output",
      "model_module_version": "1.0.0",
      "model_name": "OutputModel",
      "state": {
       "layout": "IPY_MODEL_e8582781330949bc822449e9ee6d4832"
      }
     },
     "c517686e469048eaad18ca0082aada02": {
      "model_module": "@jupyter-widgets/base",
      "model_module_version": "1.0.0",
      "model_name": "LayoutModel",
      "state": {}
     },
     "c5b2a4e38a924047951343f0d9bbcc34": {
      "model_module": "@jupyter-widgets/controls",
      "model_module_version": "1.2.0",
      "model_name": "SliderStyleModel",
      "state": {
       "description_width": ""
      }
     },
     "c5d0afa63601402cad572e54e58c3b49": {
      "model_module": "@jupyter-widgets/base",
      "model_module_version": "1.0.0",
      "model_name": "LayoutModel",
      "state": {}
     },
     "c5f88eb54c2444bb87fb86fb9b60bee7": {
      "model_module": "@jupyter-widgets/base",
      "model_module_version": "1.0.0",
      "model_name": "LayoutModel",
      "state": {}
     },
     "c5fb3ce46f544cc7b58aff59f9fd91ae": {
      "model_module": "@jupyter-widgets/controls",
      "model_module_version": "1.2.0",
      "model_name": "SliderStyleModel",
      "state": {
       "description_width": ""
      }
     },
     "c632efdb56b94a1b9b474524faf2ade1": {
      "model_module": "@jupyter-widgets/base",
      "model_module_version": "1.0.0",
      "model_name": "LayoutModel",
      "state": {}
     },
     "c66f5149a68446dab99dfd66f4876e68": {
      "model_module": "@jupyter-widgets/controls",
      "model_module_version": "1.2.0",
      "model_name": "SliderStyleModel",
      "state": {
       "description_width": ""
      }
     },
     "c6958896745343fe9e150ee1ea9b955d": {
      "model_module": "@jupyter-widgets/controls",
      "model_module_version": "1.2.0",
      "model_name": "IntSliderModel",
      "state": {
       "description": "c",
       "layout": "IPY_MODEL_9131520b91584aaeaa532f4e098b9d8a",
       "max": 500,
       "min": -500,
       "style": "IPY_MODEL_f597cff1a8944382adfe00cf073b42a9",
       "value": 1
      }
     },
     "c7366668e6814cb08e967875f7223517": {
      "model_module": "@jupyter-widgets/base",
      "model_module_version": "1.0.0",
      "model_name": "LayoutModel",
      "state": {}
     },
     "c7c093481a974c6e8cac3e1cc4c41498": {
      "model_module": "@jupyter-widgets/controls",
      "model_module_version": "1.2.0",
      "model_name": "VBoxModel",
      "state": {
       "_dom_classes": [
        "widget-interact"
       ],
       "children": [
        "IPY_MODEL_45b7269a1bd04aa68d79f40b0eea2917",
        "IPY_MODEL_5faeb0032ac644caa63b4f0879178585"
       ],
       "layout": "IPY_MODEL_037f197289f24455b722a64d3cbcda82"
      }
     },
     "c7f2f31ffc7649dbac9b58bb341eca42": {
      "model_module": "@jupyter-widgets/base",
      "model_module_version": "1.0.0",
      "model_name": "LayoutModel",
      "state": {}
     },
     "c8980670dc504230b5e9ad807f559828": {
      "model_module": "@jupyter-widgets/output",
      "model_module_version": "1.0.0",
      "model_name": "OutputModel",
      "state": {
       "layout": "IPY_MODEL_62dd3e8b2d9946b6930d90709cd80377"
      }
     },
     "c89f56272c3a4ef9b4488b7aec7b12cc": {
      "model_module": "@jupyter-widgets/output",
      "model_module_version": "1.0.0",
      "model_name": "OutputModel",
      "state": {
       "layout": "IPY_MODEL_765f37a4b1fb436dab2afa4e06bd43dc"
      }
     },
     "c8efd2d24fd44ac68e6a149403ccd27f": {
      "model_module": "@jupyter-widgets/controls",
      "model_module_version": "1.2.0",
      "model_name": "IntSliderModel",
      "state": {
       "description": "c",
       "layout": "IPY_MODEL_1e6ab9b83ba5403fb0eec3c39062ab4e",
       "max": 500,
       "min": -500,
       "style": "IPY_MODEL_90043809c9e24e03b6ba0b84cd04e6ed",
       "value": 1
      }
     },
     "c9422a7919004648a001728c87290af5": {
      "model_module": "@jupyter-widgets/controls",
      "model_module_version": "1.2.0",
      "model_name": "IntSliderModel",
      "state": {
       "description": "c",
       "layout": "IPY_MODEL_879481bc24ad4852ab137e5e7d0ad54a",
       "max": 500,
       "min": -500,
       "style": "IPY_MODEL_41b0b76fde274c6b8ff2fe3d36ee7df7",
       "value": 245
      }
     },
     "c98b272d56e44e6a873a0fdf66a9cc12": {
      "model_module": "@jupyter-widgets/base",
      "model_module_version": "1.0.0",
      "model_name": "LayoutModel",
      "state": {}
     },
     "c9a08c8495694cdfae323f95d6b1a176": {
      "model_module": "@jupyter-widgets/base",
      "model_module_version": "1.0.0",
      "model_name": "LayoutModel",
      "state": {}
     },
     "c9e7ceaf0b374319b5d18964c86b045d": {
      "model_module": "@jupyter-widgets/base",
      "model_module_version": "1.0.0",
      "model_name": "LayoutModel",
      "state": {}
     },
     "cb4602f2ce964a3fa8f9b5ff603abf86": {
      "model_module": "@jupyter-widgets/output",
      "model_module_version": "1.0.0",
      "model_name": "OutputModel",
      "state": {
       "layout": "IPY_MODEL_bb90bbf5676844f6bd6789c434304867"
      }
     },
     "cb561d318b434ab5b2bbf48e4dcdb499": {
      "model_module": "@jupyter-widgets/base",
      "model_module_version": "1.0.0",
      "model_name": "LayoutModel",
      "state": {}
     },
     "cb57f40f25484ce58eeeb3190f182a33": {
      "model_module": "@jupyter-widgets/base",
      "model_module_version": "1.0.0",
      "model_name": "LayoutModel",
      "state": {}
     },
     "cb8ed0ee2894424fa34bbb82ee160a8f": {
      "model_module": "@jupyter-widgets/base",
      "model_module_version": "1.0.0",
      "model_name": "LayoutModel",
      "state": {}
     },
     "cbb2838ba9184ee0a1d1fcc15da1f279": {
      "model_module": "@jupyter-widgets/base",
      "model_module_version": "1.0.0",
      "model_name": "LayoutModel",
      "state": {}
     },
     "cbe01110c107466c972e49c0a482dad7": {
      "model_module": "@jupyter-widgets/controls",
      "model_module_version": "1.2.0",
      "model_name": "VBoxModel",
      "state": {
       "_dom_classes": [
        "widget-interact"
       ],
       "children": [
        "IPY_MODEL_9b8eef046c684f1bb695ab9e56d1bd3c",
        "IPY_MODEL_dd3bbd0328c44fb886b82d8aa3bdac7f"
       ],
       "layout": "IPY_MODEL_9605a3bd06c9431285d18a777627569f"
      }
     },
     "cc7748c2e27c4657862e9eced60e843c": {
      "model_module": "@jupyter-widgets/base",
      "model_module_version": "1.0.0",
      "model_name": "LayoutModel",
      "state": {}
     },
     "ccc2dc8981304a8191361408a3e3f7b1": {
      "model_module": "@jupyter-widgets/base",
      "model_module_version": "1.0.0",
      "model_name": "LayoutModel",
      "state": {}
     },
     "cdaa68c831a444c8ac8ee2b57b445c41": {
      "model_module": "@jupyter-widgets/controls",
      "model_module_version": "1.2.0",
      "model_name": "SliderStyleModel",
      "state": {
       "description_width": ""
      }
     },
     "ce84f3a1b52c484095b33bfea19a8620": {
      "model_module": "@jupyter-widgets/controls",
      "model_module_version": "1.2.0",
      "model_name": "VBoxModel",
      "state": {
       "_dom_classes": [
        "widget-interact"
       ],
       "children": [
        "IPY_MODEL_700becb5ba34488a9a62109f76322716",
        "IPY_MODEL_fe2ed98e1d8145e68b14175eb178da2d"
       ],
       "layout": "IPY_MODEL_937eb6e751a84aa1ae053f3da1aad293"
      }
     },
     "cea5d8d7665b431686999ad1e8854bf9": {
      "model_module": "@jupyter-widgets/controls",
      "model_module_version": "1.2.0",
      "model_name": "IntSliderModel",
      "state": {
       "description": "c",
       "layout": "IPY_MODEL_b2ead9189fa34eef83ebbee987606987",
       "max": 500,
       "min": -500,
       "style": "IPY_MODEL_06290166b0224af9bfde4fa550568f13",
       "value": 1
      }
     },
     "cef6b546c74a4bdfa97d934c8f70209f": {
      "model_module": "@jupyter-widgets/controls",
      "model_module_version": "1.2.0",
      "model_name": "IntSliderModel",
      "state": {
       "description": "c",
       "layout": "IPY_MODEL_71973cab639c41c09a029c7bbd895bea",
       "max": 500,
       "min": -500,
       "style": "IPY_MODEL_86d82e67d67941d3b83a2d15ff22ebb3",
       "value": -72
      }
     },
     "d062a28e64304cca86c22011b8cf2175": {
      "model_module": "@jupyter-widgets/controls",
      "model_module_version": "1.2.0",
      "model_name": "SliderStyleModel",
      "state": {
       "description_width": ""
      }
     },
     "d067b6e09d2c46fcb911aa9bb4d840c5": {
      "model_module": "@jupyter-widgets/output",
      "model_module_version": "1.0.0",
      "model_name": "OutputModel",
      "state": {
       "layout": "IPY_MODEL_cb57f40f25484ce58eeeb3190f182a33"
      }
     },
     "d074384f6e2d4c2495dcf067155dda6c": {
      "model_module": "@jupyter-widgets/base",
      "model_module_version": "1.0.0",
      "model_name": "LayoutModel",
      "state": {}
     },
     "d08a1b53dd784eef9049a9a3c72240e3": {
      "model_module": "@jupyter-widgets/base",
      "model_module_version": "1.0.0",
      "model_name": "LayoutModel",
      "state": {}
     },
     "d14fefab7e7b4d3d86b07bcb00d755ee": {
      "model_module": "@jupyter-widgets/base",
      "model_module_version": "1.0.0",
      "model_name": "LayoutModel",
      "state": {}
     },
     "d1502bc853084d2490539a839c78af45": {
      "model_module": "@jupyter-widgets/output",
      "model_module_version": "1.0.0",
      "model_name": "OutputModel",
      "state": {
       "layout": "IPY_MODEL_530ef84f44054048b4708d2241eef1e1"
      }
     },
     "d1aae08fe41e4b3b946379ed747bca95": {
      "model_module": "@jupyter-widgets/output",
      "model_module_version": "1.0.0",
      "model_name": "OutputModel",
      "state": {
       "layout": "IPY_MODEL_487247b0531d4859a6cc456db4ad7843"
      }
     },
     "d1dc8fc211c24107acd6eef9c6fcc645": {
      "model_module": "@jupyter-widgets/output",
      "model_module_version": "1.0.0",
      "model_name": "OutputModel",
      "state": {
       "layout": "IPY_MODEL_5480c89119cf452e81ff317b05d0ee9e"
      }
     },
     "d2bc150565fe45c98ce2a2f3d2bd01c8": {
      "model_module": "@jupyter-widgets/base",
      "model_module_version": "1.0.0",
      "model_name": "LayoutModel",
      "state": {}
     },
     "d31538b8a6294078a7029e1f869e0492": {
      "model_module": "@jupyter-widgets/base",
      "model_module_version": "1.0.0",
      "model_name": "LayoutModel",
      "state": {}
     },
     "d46cdce0311e4fd2a6fb70fb068fb88f": {
      "model_module": "@jupyter-widgets/controls",
      "model_module_version": "1.2.0",
      "model_name": "IntSliderModel",
      "state": {
       "description": "c",
       "layout": "IPY_MODEL_185f3945c7e54303bd86f0c51b7cfda6",
       "max": 500,
       "min": -500,
       "style": "IPY_MODEL_ff05de84c95d4f8aad9e7588e6ea2eff",
       "value": 1
      }
     },
     "d498624d82f44efa845f47700c2ffe0d": {
      "model_module": "@jupyter-widgets/controls",
      "model_module_version": "1.2.0",
      "model_name": "IntSliderModel",
      "state": {
       "description": "c",
       "layout": "IPY_MODEL_f0bd29ce43db4d9482e273e8006c28d9",
       "max": 500,
       "min": -500,
       "style": "IPY_MODEL_c5fb3ce46f544cc7b58aff59f9fd91ae",
       "value": -500
      }
     },
     "d5f7fd6728f34e4182a5e1513db928f7": {
      "model_module": "@jupyter-widgets/controls",
      "model_module_version": "1.2.0",
      "model_name": "VBoxModel",
      "state": {
       "_dom_classes": [
        "widget-interact"
       ],
       "children": [
        "IPY_MODEL_39a5bf05be8b493a891690b64eceeaa9",
        "IPY_MODEL_3ee4866cf1dc4b7d850908f55c40efae"
       ],
       "layout": "IPY_MODEL_1d21a591c4a740458a4618a8ef259aad"
      }
     },
     "d62c9b780e284b658b2aa241be46d7fa": {
      "model_module": "@jupyter-widgets/controls",
      "model_module_version": "1.2.0",
      "model_name": "SliderStyleModel",
      "state": {
       "description_width": ""
      }
     },
     "d69a6a7f42a043b49d6cf18427e4c07b": {
      "model_module": "@jupyter-widgets/controls",
      "model_module_version": "1.2.0",
      "model_name": "SliderStyleModel",
      "state": {
       "description_width": ""
      }
     },
     "d6a1e8527eee42b1a2bb1ab70b1f9ca8": {
      "model_module": "@jupyter-widgets/controls",
      "model_module_version": "1.2.0",
      "model_name": "IntSliderModel",
      "state": {
       "description": "c",
       "layout": "IPY_MODEL_06ac35f87daf4d9db5288d81c8497040",
       "max": 500,
       "min": -500,
       "style": "IPY_MODEL_4f7edacf253748adabec70dc586aa201",
       "value": 301
      }
     },
     "d6fc61d097144350a59fa1433d9e72be": {
      "model_module": "@jupyter-widgets/controls",
      "model_module_version": "1.2.0",
      "model_name": "VBoxModel",
      "state": {
       "_dom_classes": [
        "widget-interact"
       ],
       "children": [
        "IPY_MODEL_74ece71a1a4244f28904e31bc4837605",
        "IPY_MODEL_c89f56272c3a4ef9b4488b7aec7b12cc"
       ],
       "layout": "IPY_MODEL_4265e6c4347d41f989302a405875286c"
      }
     },
     "d78a63a204be46aeb68cf347bc803338": {
      "model_module": "@jupyter-widgets/output",
      "model_module_version": "1.0.0",
      "model_name": "OutputModel",
      "state": {
       "layout": "IPY_MODEL_d2bc150565fe45c98ce2a2f3d2bd01c8"
      }
     },
     "d7ae6a30d8254c2192e84c5a6d8a4cd5": {
      "model_module": "@jupyter-widgets/output",
      "model_module_version": "1.0.0",
      "model_name": "OutputModel",
      "state": {
       "layout": "IPY_MODEL_242ba9b378f240139c07dda86ddaf0eb"
      }
     },
     "d7c4230eb1a04bceb7f37291ca92dcc2": {
      "model_module": "@jupyter-widgets/controls",
      "model_module_version": "1.2.0",
      "model_name": "VBoxModel",
      "state": {
       "_dom_classes": [
        "widget-interact"
       ],
       "children": [
        "IPY_MODEL_5b863042a46e47559c558dbe81c34a76",
        "IPY_MODEL_53fb47b316eb4568a1f4d38d96a96a10"
       ],
       "layout": "IPY_MODEL_c517686e469048eaad18ca0082aada02"
      }
     },
     "d7e5ceb1c7c04effa9bd85cae960656d": {
      "model_module": "@jupyter-widgets/base",
      "model_module_version": "1.0.0",
      "model_name": "LayoutModel",
      "state": {}
     },
     "d8b55ca14e314f6d9a1c54084a3e0ae5": {
      "model_module": "@jupyter-widgets/controls",
      "model_module_version": "1.2.0",
      "model_name": "SliderStyleModel",
      "state": {
       "description_width": ""
      }
     },
     "d8dbf730243446ef899f5888dfe5616d": {
      "model_module": "@jupyter-widgets/controls",
      "model_module_version": "1.2.0",
      "model_name": "IntSliderModel",
      "state": {
       "description": "c",
       "layout": "IPY_MODEL_f45e30909d05487b8d422e5575248529",
       "max": 500,
       "min": -500,
       "style": "IPY_MODEL_e04dd405fab44174833f02ba449a6cd0",
       "value": 1
      }
     },
     "d95fa98991574280a4294a8c4c9b7799": {
      "model_module": "@jupyter-widgets/base",
      "model_module_version": "1.0.0",
      "model_name": "LayoutModel",
      "state": {}
     },
     "d9834b27917e48cf99ef98c7c8576333": {
      "model_module": "@jupyter-widgets/base",
      "model_module_version": "1.0.0",
      "model_name": "LayoutModel",
      "state": {}
     },
     "da0a9f7c8be94e6a8aeb458febd3a404": {
      "model_module": "@jupyter-widgets/base",
      "model_module_version": "1.0.0",
      "model_name": "LayoutModel",
      "state": {}
     },
     "da59349cb85949b2947aa671214d8deb": {
      "model_module": "@jupyter-widgets/base",
      "model_module_version": "1.0.0",
      "model_name": "LayoutModel",
      "state": {}
     },
     "db3ae09e5b0d45bf936225e8e7d3285a": {
      "model_module": "@jupyter-widgets/base",
      "model_module_version": "1.0.0",
      "model_name": "LayoutModel",
      "state": {}
     },
     "dc76f7700a3146b6a2596fbf3aa6e1d5": {
      "model_module": "@jupyter-widgets/controls",
      "model_module_version": "1.2.0",
      "model_name": "IntSliderModel",
      "state": {
       "description": "c",
       "layout": "IPY_MODEL_54c331c167b64f4995175fefcdd70b00",
       "max": 500,
       "min": -500,
       "style": "IPY_MODEL_b8989fa612d142adb76e2af32b26c1d9",
       "value": 500
      }
     },
     "dd3bbd0328c44fb886b82d8aa3bdac7f": {
      "model_module": "@jupyter-widgets/output",
      "model_module_version": "1.0.0",
      "model_name": "OutputModel",
      "state": {
       "layout": "IPY_MODEL_246b2e79a4374e4ebab65e804576a961"
      }
     },
     "dd9fcb465e3f4e01bfa43886d0601662": {
      "model_module": "@jupyter-widgets/base",
      "model_module_version": "1.0.0",
      "model_name": "LayoutModel",
      "state": {}
     },
     "ddf33035b6a34bdaaed0046289ee446f": {
      "model_module": "@jupyter-widgets/base",
      "model_module_version": "1.0.0",
      "model_name": "LayoutModel",
      "state": {}
     },
     "df156b48645c4fc0b67d86531a9d4f67": {
      "model_module": "@jupyter-widgets/controls",
      "model_module_version": "1.2.0",
      "model_name": "VBoxModel",
      "state": {
       "_dom_classes": [
        "widget-interact"
       ],
       "children": [
        "IPY_MODEL_a0ddba8d49c049eca593ba9264842187",
        "IPY_MODEL_c8980670dc504230b5e9ad807f559828"
       ],
       "layout": "IPY_MODEL_66962f22f6a748b4951ba14630fc6e9a"
      }
     },
     "df58caedc6a142fa98e39a639c33e842": {
      "model_module": "@jupyter-widgets/base",
      "model_module_version": "1.0.0",
      "model_name": "LayoutModel",
      "state": {}
     },
     "df62b0633e0249dab8f15c406e11253d": {
      "model_module": "@jupyter-widgets/controls",
      "model_module_version": "1.2.0",
      "model_name": "VBoxModel",
      "state": {
       "_dom_classes": [
        "widget-interact"
       ],
       "children": [
        "IPY_MODEL_06643c4ccfd8426694b579229bc4534f",
        "IPY_MODEL_f349263376d54535b6232d05211d6bd0"
       ],
       "layout": "IPY_MODEL_2fa1c4a055544c29ab10705f6e3a02b8"
      }
     },
     "dfb36728f313408c927d4561c7c5931a": {
      "model_module": "@jupyter-widgets/base",
      "model_module_version": "1.0.0",
      "model_name": "LayoutModel",
      "state": {}
     },
     "dfd77fe169864e05b2550e27136f54d2": {
      "model_module": "@jupyter-widgets/base",
      "model_module_version": "1.0.0",
      "model_name": "LayoutModel",
      "state": {}
     },
     "e001c408262648729da727279922a7f8": {
      "model_module": "@jupyter-widgets/base",
      "model_module_version": "1.0.0",
      "model_name": "LayoutModel",
      "state": {}
     },
     "e04dd405fab44174833f02ba449a6cd0": {
      "model_module": "@jupyter-widgets/controls",
      "model_module_version": "1.2.0",
      "model_name": "SliderStyleModel",
      "state": {
       "description_width": ""
      }
     },
     "e05d4f60cd914f16bcc6614b6fd81bfa": {
      "model_module": "@jupyter-widgets/output",
      "model_module_version": "1.0.0",
      "model_name": "OutputModel",
      "state": {
       "layout": "IPY_MODEL_8ce619c5d92a4bd5b1c2235cb24fbc4c"
      }
     },
     "e0a3dd632f9e4161a537584b33f4ce9a": {
      "model_module": "@jupyter-widgets/controls",
      "model_module_version": "1.2.0",
      "model_name": "SliderStyleModel",
      "state": {
       "description_width": ""
      }
     },
     "e0b317ceca13480aac4f106750715501": {
      "model_module": "@jupyter-widgets/controls",
      "model_module_version": "1.2.0",
      "model_name": "VBoxModel",
      "state": {
       "_dom_classes": [
        "widget-interact"
       ],
       "children": [
        "IPY_MODEL_02f8c93bf92a472a93c62ecbef1f941b",
        "IPY_MODEL_cb4602f2ce964a3fa8f9b5ff603abf86"
       ],
       "layout": "IPY_MODEL_25fde21880b2420e9075620583b2aeaf"
      }
     },
     "e0ec84250f5a476bb4741673d4d874c7": {
      "model_module": "@jupyter-widgets/base",
      "model_module_version": "1.0.0",
      "model_name": "LayoutModel",
      "state": {}
     },
     "e18f0123e877404787ba670dc41b867a": {
      "model_module": "@jupyter-widgets/output",
      "model_module_version": "1.0.0",
      "model_name": "OutputModel",
      "state": {
       "layout": "IPY_MODEL_c632efdb56b94a1b9b474524faf2ade1"
      }
     },
     "e191f9c257cf440ea29cf06b8c843ee4": {
      "model_module": "@jupyter-widgets/output",
      "model_module_version": "1.0.0",
      "model_name": "OutputModel",
      "state": {
       "layout": "IPY_MODEL_bf347c90999b402d9d3909389fd38a75"
      }
     },
     "e1bb109129644e10aaa614759e4e61f2": {
      "model_module": "@jupyter-widgets/base",
      "model_module_version": "1.0.0",
      "model_name": "LayoutModel",
      "state": {}
     },
     "e1f5c8e296be426d8abe8d3a2ddaff5b": {
      "model_module": "@jupyter-widgets/output",
      "model_module_version": "1.0.0",
      "model_name": "OutputModel",
      "state": {
       "layout": "IPY_MODEL_162019b4350f48ea82f8b3f0f0f85077"
      }
     },
     "e21b1b68db3a4233bf551e77a0e5f506": {
      "model_module": "@jupyter-widgets/controls",
      "model_module_version": "1.2.0",
      "model_name": "VBoxModel",
      "state": {
       "_dom_classes": [
        "widget-interact"
       ],
       "children": [
        "IPY_MODEL_61772455e2104ef9b787bb6780eb170e",
        "IPY_MODEL_b8b95295a97a4100acf04edbbe8f7436"
       ],
       "layout": "IPY_MODEL_e66c74f0755540e38d13a498efc0c6ae"
      }
     },
     "e27b4fe199904ffd93e5a31f36d12ee0": {
      "model_module": "@jupyter-widgets/controls",
      "model_module_version": "1.2.0",
      "model_name": "IntSliderModel",
      "state": {
       "description": "e",
       "layout": "IPY_MODEL_e57360b561904b91b8293c8eebf1c393",
       "max": 500,
       "min": -500,
       "style": "IPY_MODEL_4e4cbe029f93421798b310066e0744c1",
       "value": 1
      }
     },
     "e2c8c615e7df4adcb6d1de64bf3f6ac6": {
      "model_module": "@jupyter-widgets/controls",
      "model_module_version": "1.2.0",
      "model_name": "SliderStyleModel",
      "state": {
       "description_width": ""
      }
     },
     "e36bb22df85c459d91bb53a33be523b9": {
      "model_module": "@jupyter-widgets/output",
      "model_module_version": "1.0.0",
      "model_name": "OutputModel",
      "state": {
       "layout": "IPY_MODEL_c9a08c8495694cdfae323f95d6b1a176"
      }
     },
     "e42387a1f479466ca6505ae9220aa308": {
      "model_module": "@jupyter-widgets/controls",
      "model_module_version": "1.2.0",
      "model_name": "VBoxModel",
      "state": {
       "_dom_classes": [
        "widget-interact"
       ],
       "children": [
        "IPY_MODEL_e27b4fe199904ffd93e5a31f36d12ee0",
        "IPY_MODEL_41bf871f9e384024b7d69638fe405550"
       ],
       "layout": "IPY_MODEL_bfd3754e235540dd936a316457b5bdca"
      }
     },
     "e4a9d677d5e64c459aace62ebc0bc8d6": {
      "model_module": "@jupyter-widgets/output",
      "model_module_version": "1.0.0",
      "model_name": "OutputModel",
      "state": {
       "layout": "IPY_MODEL_3f374b997ecf452ab6ff97121021c724"
      }
     },
     "e57360b561904b91b8293c8eebf1c393": {
      "model_module": "@jupyter-widgets/base",
      "model_module_version": "1.0.0",
      "model_name": "LayoutModel",
      "state": {}
     },
     "e5ff3947d6d04124b31295ed3ad663cb": {
      "model_module": "@jupyter-widgets/base",
      "model_module_version": "1.0.0",
      "model_name": "LayoutModel",
      "state": {}
     },
     "e61474f3f05444268eca059da9eb76ce": {
      "model_module": "@jupyter-widgets/controls",
      "model_module_version": "1.2.0",
      "model_name": "VBoxModel",
      "state": {
       "_dom_classes": [
        "widget-interact"
       ],
       "children": [
        "IPY_MODEL_a08ad471d9ab4499998d9f02b7c77f43",
        "IPY_MODEL_2dc0693ee845489c8b23f989be3ab5ad"
       ],
       "layout": "IPY_MODEL_64c47a6c0054445385e892a8d5daf0ef"
      }
     },
     "e65453d36c52497eb1055ad205ffd3e1": {
      "model_module": "@jupyter-widgets/base",
      "model_module_version": "1.0.0",
      "model_name": "LayoutModel",
      "state": {}
     },
     "e65aa72ceaa24938aedd38dc91d5bda0": {
      "model_module": "@jupyter-widgets/controls",
      "model_module_version": "1.2.0",
      "model_name": "SliderStyleModel",
      "state": {
       "description_width": ""
      }
     },
     "e66c74f0755540e38d13a498efc0c6ae": {
      "model_module": "@jupyter-widgets/base",
      "model_module_version": "1.0.0",
      "model_name": "LayoutModel",
      "state": {}
     },
     "e67e48dc2aaf4ead8bf4f93ba7eecfae": {
      "model_module": "@jupyter-widgets/controls",
      "model_module_version": "1.2.0",
      "model_name": "VBoxModel",
      "state": {
       "_dom_classes": [
        "widget-interact"
       ],
       "children": [
        "IPY_MODEL_d498624d82f44efa845f47700c2ffe0d",
        "IPY_MODEL_8e623ca38492461595d228a2736b36ba"
       ],
       "layout": "IPY_MODEL_dd9fcb465e3f4e01bfa43886d0601662"
      }
     },
     "e69e7d2f1ad248cbb8c9ba5732682f60": {
      "model_module": "@jupyter-widgets/base",
      "model_module_version": "1.0.0",
      "model_name": "LayoutModel",
      "state": {}
     },
     "e6a212c0aea247d2b21a310baf71f01c": {
      "model_module": "@jupyter-widgets/output",
      "model_module_version": "1.0.0",
      "model_name": "OutputModel",
      "state": {
       "layout": "IPY_MODEL_80d542319fe349b98f583ab1a3d01218"
      }
     },
     "e78927ee4f1b4491b36d8e96f7f3a6a8": {
      "model_module": "@jupyter-widgets/controls",
      "model_module_version": "1.2.0",
      "model_name": "VBoxModel",
      "state": {
       "_dom_classes": [
        "widget-interact"
       ],
       "children": [
        "IPY_MODEL_393ea25bf2aa4e5e90c5a3fd021bbd06",
        "IPY_MODEL_e4a9d677d5e64c459aace62ebc0bc8d6"
       ],
       "layout": "IPY_MODEL_d08a1b53dd784eef9049a9a3c72240e3"
      }
     },
     "e8582781330949bc822449e9ee6d4832": {
      "model_module": "@jupyter-widgets/base",
      "model_module_version": "1.0.0",
      "model_name": "LayoutModel",
      "state": {}
     },
     "e8ed4759912d44ac97872bc4d6cdeb7b": {
      "model_module": "@jupyter-widgets/output",
      "model_module_version": "1.0.0",
      "model_name": "OutputModel",
      "state": {
       "layout": "IPY_MODEL_9056224dca9147a3a36ca2f1791e3081"
      }
     },
     "e93b8369b2f84831bd89e979f2e89c24": {
      "model_module": "@jupyter-widgets/controls",
      "model_module_version": "1.2.0",
      "model_name": "VBoxModel",
      "state": {
       "_dom_classes": [
        "widget-interact"
       ],
       "children": [
        "IPY_MODEL_c4cf7c9797004bc2ac8f27068769286d",
        "IPY_MODEL_d78a63a204be46aeb68cf347bc803338"
       ],
       "layout": "IPY_MODEL_2597dcf8a2ba4b0e8d63fc2bb131079d"
      }
     },
     "e97dfb3719614ddf9b3e963fc95d4020": {
      "model_module": "@jupyter-widgets/base",
      "model_module_version": "1.0.0",
      "model_name": "LayoutModel",
      "state": {}
     },
     "e9d098d3d85642ffa08d259dc2834e93": {
      "model_module": "@jupyter-widgets/output",
      "model_module_version": "1.0.0",
      "model_name": "OutputModel",
      "state": {
       "layout": "IPY_MODEL_206940dc2d7b47559b3732cf535e3b8a"
      }
     },
     "ea5bbb1eb0584b548ef90492810ed79f": {
      "model_module": "@jupyter-widgets/base",
      "model_module_version": "1.0.0",
      "model_name": "LayoutModel",
      "state": {}
     },
     "eb98e5acf24745e88fd59f47966c1666": {
      "model_module": "@jupyter-widgets/controls",
      "model_module_version": "1.2.0",
      "model_name": "VBoxModel",
      "state": {
       "_dom_classes": [
        "widget-interact"
       ],
       "children": [
        "IPY_MODEL_2a6f862c85554c36b16130c114d193fe",
        "IPY_MODEL_e1f5c8e296be426d8abe8d3a2ddaff5b"
       ],
       "layout": "IPY_MODEL_da0a9f7c8be94e6a8aeb458febd3a404"
      }
     },
     "ec42ca33a8384c988eeda6d878698912": {
      "model_module": "@jupyter-widgets/controls",
      "model_module_version": "1.2.0",
      "model_name": "VBoxModel",
      "state": {
       "_dom_classes": [
        "widget-interact"
       ],
       "children": [
        "IPY_MODEL_f9abb6d1b35a4192ace0d4a3d49c1b8d",
        "IPY_MODEL_b653a9039638498d920b33da26ae2dd6"
       ],
       "layout": "IPY_MODEL_1a3d45c2ba05427ca6425064e52792ee"
      }
     },
     "ecfbaf2e30a04784b0ccea0ceb88c81b": {
      "model_module": "@jupyter-widgets/controls",
      "model_module_version": "1.2.0",
      "model_name": "VBoxModel",
      "state": {
       "_dom_classes": [
        "widget-interact"
       ],
       "children": [
        "IPY_MODEL_344742ff35624d73a6b182a211e38546",
        "IPY_MODEL_e18f0123e877404787ba670dc41b867a"
       ],
       "layout": "IPY_MODEL_c3539fd277ed4f088f4b4b6552c4699f"
      }
     },
     "ed64eb67a62940ab819934a9d6af5d4e": {
      "model_module": "@jupyter-widgets/base",
      "model_module_version": "1.0.0",
      "model_name": "LayoutModel",
      "state": {}
     },
     "ee04c99128064155a66b59f69874fe88": {
      "model_module": "@jupyter-widgets/controls",
      "model_module_version": "1.2.0",
      "model_name": "IntSliderModel",
      "state": {
       "description": "c",
       "layout": "IPY_MODEL_fee4d38943144587a3d6655b87c8f326",
       "max": 500,
       "min": -500,
       "style": "IPY_MODEL_e2c8c615e7df4adcb6d1de64bf3f6ac6",
       "value": 93
      }
     },
     "ee94896624704b4eb8f490339a4cb78e": {
      "model_module": "@jupyter-widgets/output",
      "model_module_version": "1.0.0",
      "model_name": "OutputModel",
      "state": {
       "layout": "IPY_MODEL_6ab458410fc7468b8c516d44b476dcd0"
      }
     },
     "ef74debe2b584aa4ac25d9dd51f8f595": {
      "model_module": "@jupyter-widgets/controls",
      "model_module_version": "1.2.0",
      "model_name": "IntSliderModel",
      "state": {
       "description": "c",
       "layout": "IPY_MODEL_8482aee11f0340e9b77130f186e52311",
       "max": 500,
       "min": -500,
       "style": "IPY_MODEL_bddba9d532ef453fb556b3935ec600da",
       "value": -189
      }
     },
     "f08d4c6ac7a841398bdb8a8682c8460a": {
      "model_module": "@jupyter-widgets/controls",
      "model_module_version": "1.2.0",
      "model_name": "SliderStyleModel",
      "state": {
       "description_width": ""
      }
     },
     "f0b5eae1ab3f4797824774855bbedd0c": {
      "model_module": "@jupyter-widgets/base",
      "model_module_version": "1.0.0",
      "model_name": "LayoutModel",
      "state": {}
     },
     "f0bd29ce43db4d9482e273e8006c28d9": {
      "model_module": "@jupyter-widgets/base",
      "model_module_version": "1.0.0",
      "model_name": "LayoutModel",
      "state": {}
     },
     "f11f956561f44b33a88677edd3c693e4": {
      "model_module": "@jupyter-widgets/controls",
      "model_module_version": "1.2.0",
      "model_name": "IntSliderModel",
      "state": {
       "description": "c",
       "layout": "IPY_MODEL_0ba7f5df42004ba09a2fee77a533bf68",
       "max": 500,
       "min": -500,
       "style": "IPY_MODEL_e0a3dd632f9e4161a537584b33f4ce9a",
       "value": 1
      }
     },
     "f2a9b28c3df541379d7cbfe6aeb8a6e4": {
      "model_module": "@jupyter-widgets/controls",
      "model_module_version": "1.2.0",
      "model_name": "SliderStyleModel",
      "state": {
       "description_width": ""
      }
     },
     "f2db98e513e54786b62b46d7bbb5c5ee": {
      "model_module": "@jupyter-widgets/controls",
      "model_module_version": "1.2.0",
      "model_name": "SliderStyleModel",
      "state": {
       "description_width": ""
      }
     },
     "f349263376d54535b6232d05211d6bd0": {
      "model_module": "@jupyter-widgets/output",
      "model_module_version": "1.0.0",
      "model_name": "OutputModel",
      "state": {
       "layout": "IPY_MODEL_c47ada4010c648ca89e76a75462b8e71"
      }
     },
     "f3f3e6dcda7b4a8e9062ca77026319c0": {
      "model_module": "@jupyter-widgets/controls",
      "model_module_version": "1.2.0",
      "model_name": "SliderStyleModel",
      "state": {
       "description_width": ""
      }
     },
     "f4010479dcaa49419fd8768a838bb90a": {
      "model_module": "@jupyter-widgets/controls",
      "model_module_version": "1.2.0",
      "model_name": "SliderStyleModel",
      "state": {
       "description_width": ""
      }
     },
     "f45a946715684fcbb53183d36a2df17b": {
      "model_module": "@jupyter-widgets/controls",
      "model_module_version": "1.2.0",
      "model_name": "SliderStyleModel",
      "state": {
       "description_width": ""
      }
     },
     "f45e30909d05487b8d422e5575248529": {
      "model_module": "@jupyter-widgets/base",
      "model_module_version": "1.0.0",
      "model_name": "LayoutModel",
      "state": {}
     },
     "f53a0d81be1d4c37bf0062ef92654ae0": {
      "model_module": "@jupyter-widgets/base",
      "model_module_version": "1.0.0",
      "model_name": "LayoutModel",
      "state": {}
     },
     "f597cff1a8944382adfe00cf073b42a9": {
      "model_module": "@jupyter-widgets/controls",
      "model_module_version": "1.2.0",
      "model_name": "SliderStyleModel",
      "state": {
       "description_width": ""
      }
     },
     "f7072786f71e4d14ac44a3076f87b6c5": {
      "model_module": "@jupyter-widgets/base",
      "model_module_version": "1.0.0",
      "model_name": "LayoutModel",
      "state": {}
     },
     "f78a06cc2fc943b9a501961ddd06ed66": {
      "model_module": "@jupyter-widgets/controls",
      "model_module_version": "1.2.0",
      "model_name": "SliderStyleModel",
      "state": {
       "description_width": ""
      }
     },
     "f7ed2d4e9a32438cba5f2cf38a0be8ea": {
      "model_module": "@jupyter-widgets/output",
      "model_module_version": "1.0.0",
      "model_name": "OutputModel",
      "state": {
       "layout": "IPY_MODEL_646bf58897904ee98a375111edfb9ed0"
      }
     },
     "f80005ecb6dd441aabda2a1e9ea89a8b": {
      "model_module": "@jupyter-widgets/base",
      "model_module_version": "1.0.0",
      "model_name": "LayoutModel",
      "state": {}
     },
     "f804b2c94ea84b9ba4cca23124f0a3af": {
      "model_module": "@jupyter-widgets/controls",
      "model_module_version": "1.2.0",
      "model_name": "IntSliderModel",
      "state": {
       "description": "c",
       "layout": "IPY_MODEL_172af993adff44a7b1bb781d558df610",
       "max": 500,
       "min": -500,
       "style": "IPY_MODEL_92b5bc4d96d64f16b686fac03e6c6939",
       "value": 1
      }
     },
     "f89b5c6328bd4965ac905edc027fc09a": {
      "model_module": "@jupyter-widgets/base",
      "model_module_version": "1.0.0",
      "model_name": "LayoutModel",
      "state": {}
     },
     "f929a5b582eb43ed879bfcd90c1dcfcf": {
      "model_module": "@jupyter-widgets/controls",
      "model_module_version": "1.2.0",
      "model_name": "SliderStyleModel",
      "state": {
       "description_width": ""
      }
     },
     "f982509b1e344467b33d1958970433aa": {
      "model_module": "@jupyter-widgets/controls",
      "model_module_version": "1.2.0",
      "model_name": "IntSliderModel",
      "state": {
       "description": "c",
       "layout": "IPY_MODEL_c98b272d56e44e6a873a0fdf66a9cc12",
       "max": 500,
       "min": -500,
       "style": "IPY_MODEL_67021926541a4bbeb8b013941abd1477",
       "value": 20
      }
     },
     "f9abb6d1b35a4192ace0d4a3d49c1b8d": {
      "model_module": "@jupyter-widgets/controls",
      "model_module_version": "1.2.0",
      "model_name": "IntSliderModel",
      "state": {
       "description": "c",
       "layout": "IPY_MODEL_c5d0afa63601402cad572e54e58c3b49",
       "max": 500,
       "min": -500,
       "style": "IPY_MODEL_4a97e0939c9245ff8a2ad0862df8d3f6",
       "value": 1
      }
     },
     "f9d8b5574ba045bc985d8305a30c71f9": {
      "model_module": "@jupyter-widgets/base",
      "model_module_version": "1.0.0",
      "model_name": "LayoutModel",
      "state": {}
     },
     "fa3c0b08017349a7b4c258ee601a67c8": {
      "model_module": "@jupyter-widgets/base",
      "model_module_version": "1.0.0",
      "model_name": "LayoutModel",
      "state": {}
     },
     "faa2948bca274b189d1085f317e7fb53": {
      "model_module": "@jupyter-widgets/base",
      "model_module_version": "1.0.0",
      "model_name": "LayoutModel",
      "state": {}
     },
     "fb00e5a6a2784ca5afd655b2e4e99ff1": {
      "model_module": "@jupyter-widgets/controls",
      "model_module_version": "1.2.0",
      "model_name": "SliderStyleModel",
      "state": {
       "description_width": ""
      }
     },
     "fb44f25c7bc141b4bdb811ca27c4e02d": {
      "model_module": "@jupyter-widgets/controls",
      "model_module_version": "1.2.0",
      "model_name": "VBoxModel",
      "state": {
       "_dom_classes": [
        "widget-interact"
       ],
       "children": [
        "IPY_MODEL_95706a489e8e4af898070a7b67592986",
        "IPY_MODEL_98b5f880934146638b22b80da5785b81"
       ],
       "layout": "IPY_MODEL_73652e700d6b48509774240463507ccc"
      }
     },
     "fbac4641bc8c4ff38098a34ff490afda": {
      "model_module": "@jupyter-widgets/controls",
      "model_module_version": "1.2.0",
      "model_name": "SliderStyleModel",
      "state": {
       "description_width": ""
      }
     },
     "fbba05f989f24cafa7665912105c1e66": {
      "model_module": "@jupyter-widgets/base",
      "model_module_version": "1.0.0",
      "model_name": "LayoutModel",
      "state": {}
     },
     "fbfeddf473d5438f9fe2b9e9c165ffda": {
      "model_module": "@jupyter-widgets/base",
      "model_module_version": "1.0.0",
      "model_name": "LayoutModel",
      "state": {}
     },
     "fc6cc5c8e6594727a32eb68100d35cc5": {
      "model_module": "@jupyter-widgets/base",
      "model_module_version": "1.0.0",
      "model_name": "LayoutModel",
      "state": {}
     },
     "fce65dd33de64fe0ab5057ac0e5b3d2b": {
      "model_module": "@jupyter-widgets/controls",
      "model_module_version": "1.2.0",
      "model_name": "SliderStyleModel",
      "state": {
       "description_width": ""
      }
     },
     "fd1adac635904d4da13ac45f20abe0e7": {
      "model_module": "@jupyter-widgets/base",
      "model_module_version": "1.0.0",
      "model_name": "LayoutModel",
      "state": {}
     },
     "fd5b9ffbd94449b59627ce67cd20e36d": {
      "model_module": "@jupyter-widgets/controls",
      "model_module_version": "1.2.0",
      "model_name": "VBoxModel",
      "state": {
       "_dom_classes": [
        "widget-interact"
       ],
       "children": [
        "IPY_MODEL_07ec4671bbcc423c999397b292e5986c",
        "IPY_MODEL_97a8888ebc7d41b385b10806b78911c7"
       ],
       "layout": "IPY_MODEL_6ed637d1ff074f0581fce204fb03e651"
      }
     },
     "fd921237b2ca4bd2a4d6d2c1c2f7f657": {
      "model_module": "@jupyter-widgets/controls",
      "model_module_version": "1.2.0",
      "model_name": "VBoxModel",
      "state": {
       "_dom_classes": [
        "widget-interact"
       ],
       "children": [
        "IPY_MODEL_d46cdce0311e4fd2a6fb70fb068fb88f",
        "IPY_MODEL_0a3fef066cd047d78d8ab96aae1c3e46"
       ],
       "layout": "IPY_MODEL_a5952df04162400f8ff35fba7a2f536b"
      }
     },
     "fde04b2083e640df908cf12b5a621ece": {
      "model_module": "@jupyter-widgets/base",
      "model_module_version": "1.0.0",
      "model_name": "LayoutModel",
      "state": {}
     },
     "fe2ed98e1d8145e68b14175eb178da2d": {
      "model_module": "@jupyter-widgets/output",
      "model_module_version": "1.0.0",
      "model_name": "OutputModel",
      "state": {
       "layout": "IPY_MODEL_8b0a5f806a474ca8a08ad69fdf820561"
      }
     },
     "fea023dd3a684feb9ca2305c56f5cc9b": {
      "model_module": "@jupyter-widgets/base",
      "model_module_version": "1.0.0",
      "model_name": "LayoutModel",
      "state": {}
     },
     "feb8bd5e849f485ba1ad6c88f0759fe4": {
      "model_module": "@jupyter-widgets/output",
      "model_module_version": "1.0.0",
      "model_name": "OutputModel",
      "state": {
       "layout": "IPY_MODEL_5a5492e66dfc46daac68e7aa72a3a588"
      }
     },
     "fed67fa4c97e487bb224a36b6dbad883": {
      "model_module": "@jupyter-widgets/controls",
      "model_module_version": "1.2.0",
      "model_name": "IntSliderModel",
      "state": {
       "description": "c",
       "layout": "IPY_MODEL_fbba05f989f24cafa7665912105c1e66",
       "max": 500,
       "min": -500,
       "style": "IPY_MODEL_664bc39c12fd471a93a084c83b11ba65",
       "value": 190
      }
     },
     "feda024a192d4b82bd2a2b8aa484827c": {
      "model_module": "@jupyter-widgets/controls",
      "model_module_version": "1.2.0",
      "model_name": "IntSliderModel",
      "state": {
       "description": "c",
       "layout": "IPY_MODEL_886616f141ac47f994b35ee64279e94e",
       "max": 500,
       "min": -500,
       "style": "IPY_MODEL_5f47b40bffdb419ab01925d6f6b256c6",
       "value": -480
      }
     },
     "fee4d38943144587a3d6655b87c8f326": {
      "model_module": "@jupyter-widgets/base",
      "model_module_version": "1.0.0",
      "model_name": "LayoutModel",
      "state": {}
     },
     "fefd39dedf8c407b8c516634ff3e3766": {
      "model_module": "@jupyter-widgets/controls",
      "model_module_version": "1.2.0",
      "model_name": "VBoxModel",
      "state": {
       "_dom_classes": [
        "widget-interact"
       ],
       "children": [
        "IPY_MODEL_7b74cef3a1274b058327877ac677c4bb",
        "IPY_MODEL_712300b97d914b90bbdddfa04b55b807"
       ],
       "layout": "IPY_MODEL_2528d2ca0f9249278f4ed4387b449c59"
      }
     },
     "ff05de84c95d4f8aad9e7588e6ea2eff": {
      "model_module": "@jupyter-widgets/controls",
      "model_module_version": "1.2.0",
      "model_name": "SliderStyleModel",
      "state": {
       "description_width": ""
      }
     },
     "ff201d584a5440f08f839afe2a3b4529": {
      "model_module": "@jupyter-widgets/controls",
      "model_module_version": "1.2.0",
      "model_name": "VBoxModel",
      "state": {
       "_dom_classes": [
        "widget-interact"
       ],
       "children": [
        "IPY_MODEL_123a1ec2917b4d68aff089419564a391",
        "IPY_MODEL_ba77de4cf58245d9807796ee562d851e"
       ],
       "layout": "IPY_MODEL_d95fa98991574280a4294a8c4c9b7799"
      }
     },
     "ffbcd41ff4444aab83fc7f4d12499568": {
      "model_module": "@jupyter-widgets/base",
      "model_module_version": "1.0.0",
      "model_name": "LayoutModel",
      "state": {}
     },
     "fff1452423994d7f9525076f91e558e0": {
      "model_module": "@jupyter-widgets/controls",
      "model_module_version": "1.2.0",
      "model_name": "IntSliderModel",
      "state": {
       "description": "c",
       "layout": "IPY_MODEL_3b55dcee58354b479dc90c2ab13c9ff3",
       "max": 500,
       "min": -500,
       "style": "IPY_MODEL_16111f549c9244f7b129d0995f98cf01",
       "value": 1
      }
     }
    },
    "version_major": 2,
    "version_minor": 0
   }
  }
 },
 "nbformat": 4,
 "nbformat_minor": 2
}
