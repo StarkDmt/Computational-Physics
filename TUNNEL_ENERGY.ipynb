{
 "cells": [
  {
   "cell_type": "markdown",
   "metadata": {},
   "source": [
    "# Горбатый потенциал"
   ]
  },
  {
   "cell_type": "markdown",
   "metadata": {},
   "source": [
    "Мы будем искать решения стационарного уравнения Шрёдингера следующего вида:\n",
    "$$(-\\frac {d^2} {dx^2}  + \\frac {c} {cosh(x)} - \\frac {c} {cosh(a)} ) \\psi = k \\cdot \\psi $$\n",
    "С нулевыми граничными условиями при $|x|=a=1$"
   ]
  },
  {
   "cell_type": "code",
   "execution_count": 16,
   "metadata": {},
   "outputs": [
    {
     "data": {
      "application/javascript": [
       "/* Put everything inside the global mpl namespace */\n",
       "window.mpl = {};\n",
       "\n",
       "\n",
       "mpl.get_websocket_type = function() {\n",
       "    if (typeof(WebSocket) !== 'undefined') {\n",
       "        return WebSocket;\n",
       "    } else if (typeof(MozWebSocket) !== 'undefined') {\n",
       "        return MozWebSocket;\n",
       "    } else {\n",
       "        alert('Your browser does not have WebSocket support.' +\n",
       "              'Please try Chrome, Safari or Firefox ≥ 6. ' +\n",
       "              'Firefox 4 and 5 are also supported but you ' +\n",
       "              'have to enable WebSockets in about:config.');\n",
       "    };\n",
       "}\n",
       "\n",
       "mpl.figure = function(figure_id, websocket, ondownload, parent_element) {\n",
       "    this.id = figure_id;\n",
       "\n",
       "    this.ws = websocket;\n",
       "\n",
       "    this.supports_binary = (this.ws.binaryType != undefined);\n",
       "\n",
       "    if (!this.supports_binary) {\n",
       "        var warnings = document.getElementById(\"mpl-warnings\");\n",
       "        if (warnings) {\n",
       "            warnings.style.display = 'block';\n",
       "            warnings.textContent = (\n",
       "                \"This browser does not support binary websocket messages. \" +\n",
       "                    \"Performance may be slow.\");\n",
       "        }\n",
       "    }\n",
       "\n",
       "    this.imageObj = new Image();\n",
       "\n",
       "    this.context = undefined;\n",
       "    this.message = undefined;\n",
       "    this.canvas = undefined;\n",
       "    this.rubberband_canvas = undefined;\n",
       "    this.rubberband_context = undefined;\n",
       "    this.format_dropdown = undefined;\n",
       "\n",
       "    this.image_mode = 'full';\n",
       "\n",
       "    this.root = $('<div/>');\n",
       "    this._root_extra_style(this.root)\n",
       "    this.root.attr('style', 'display: inline-block');\n",
       "\n",
       "    $(parent_element).append(this.root);\n",
       "\n",
       "    this._init_header(this);\n",
       "    this._init_canvas(this);\n",
       "    this._init_toolbar(this);\n",
       "\n",
       "    var fig = this;\n",
       "\n",
       "    this.waiting = false;\n",
       "\n",
       "    this.ws.onopen =  function () {\n",
       "            fig.send_message(\"supports_binary\", {value: fig.supports_binary});\n",
       "            fig.send_message(\"send_image_mode\", {});\n",
       "            if (mpl.ratio != 1) {\n",
       "                fig.send_message(\"set_dpi_ratio\", {'dpi_ratio': mpl.ratio});\n",
       "            }\n",
       "            fig.send_message(\"refresh\", {});\n",
       "        }\n",
       "\n",
       "    this.imageObj.onload = function() {\n",
       "            if (fig.image_mode == 'full') {\n",
       "                // Full images could contain transparency (where diff images\n",
       "                // almost always do), so we need to clear the canvas so that\n",
       "                // there is no ghosting.\n",
       "                fig.context.clearRect(0, 0, fig.canvas.width, fig.canvas.height);\n",
       "            }\n",
       "            fig.context.drawImage(fig.imageObj, 0, 0);\n",
       "        };\n",
       "\n",
       "    this.imageObj.onunload = function() {\n",
       "        fig.ws.close();\n",
       "    }\n",
       "\n",
       "    this.ws.onmessage = this._make_on_message_function(this);\n",
       "\n",
       "    this.ondownload = ondownload;\n",
       "}\n",
       "\n",
       "mpl.figure.prototype._init_header = function() {\n",
       "    var titlebar = $(\n",
       "        '<div class=\"ui-dialog-titlebar ui-widget-header ui-corner-all ' +\n",
       "        'ui-helper-clearfix\"/>');\n",
       "    var titletext = $(\n",
       "        '<div class=\"ui-dialog-title\" style=\"width: 100%; ' +\n",
       "        'text-align: center; padding: 3px;\"/>');\n",
       "    titlebar.append(titletext)\n",
       "    this.root.append(titlebar);\n",
       "    this.header = titletext[0];\n",
       "}\n",
       "\n",
       "\n",
       "\n",
       "mpl.figure.prototype._canvas_extra_style = function(canvas_div) {\n",
       "\n",
       "}\n",
       "\n",
       "\n",
       "mpl.figure.prototype._root_extra_style = function(canvas_div) {\n",
       "\n",
       "}\n",
       "\n",
       "mpl.figure.prototype._init_canvas = function() {\n",
       "    var fig = this;\n",
       "\n",
       "    var canvas_div = $('<div/>');\n",
       "\n",
       "    canvas_div.attr('style', 'position: relative; clear: both; outline: 0');\n",
       "\n",
       "    function canvas_keyboard_event(event) {\n",
       "        return fig.key_event(event, event['data']);\n",
       "    }\n",
       "\n",
       "    canvas_div.keydown('key_press', canvas_keyboard_event);\n",
       "    canvas_div.keyup('key_release', canvas_keyboard_event);\n",
       "    this.canvas_div = canvas_div\n",
       "    this._canvas_extra_style(canvas_div)\n",
       "    this.root.append(canvas_div);\n",
       "\n",
       "    var canvas = $('<canvas/>');\n",
       "    canvas.addClass('mpl-canvas');\n",
       "    canvas.attr('style', \"left: 0; top: 0; z-index: 0; outline: 0\")\n",
       "\n",
       "    this.canvas = canvas[0];\n",
       "    this.context = canvas[0].getContext(\"2d\");\n",
       "\n",
       "    var backingStore = this.context.backingStorePixelRatio ||\n",
       "\tthis.context.webkitBackingStorePixelRatio ||\n",
       "\tthis.context.mozBackingStorePixelRatio ||\n",
       "\tthis.context.msBackingStorePixelRatio ||\n",
       "\tthis.context.oBackingStorePixelRatio ||\n",
       "\tthis.context.backingStorePixelRatio || 1;\n",
       "\n",
       "    mpl.ratio = (window.devicePixelRatio || 1) / backingStore;\n",
       "\n",
       "    var rubberband = $('<canvas/>');\n",
       "    rubberband.attr('style', \"position: absolute; left: 0; top: 0; z-index: 1;\")\n",
       "\n",
       "    var pass_mouse_events = true;\n",
       "\n",
       "    canvas_div.resizable({\n",
       "        start: function(event, ui) {\n",
       "            pass_mouse_events = false;\n",
       "        },\n",
       "        resize: function(event, ui) {\n",
       "            fig.request_resize(ui.size.width, ui.size.height);\n",
       "        },\n",
       "        stop: function(event, ui) {\n",
       "            pass_mouse_events = true;\n",
       "            fig.request_resize(ui.size.width, ui.size.height);\n",
       "        },\n",
       "    });\n",
       "\n",
       "    function mouse_event_fn(event) {\n",
       "        if (pass_mouse_events)\n",
       "            return fig.mouse_event(event, event['data']);\n",
       "    }\n",
       "\n",
       "    rubberband.mousedown('button_press', mouse_event_fn);\n",
       "    rubberband.mouseup('button_release', mouse_event_fn);\n",
       "    // Throttle sequential mouse events to 1 every 20ms.\n",
       "    rubberband.mousemove('motion_notify', mouse_event_fn);\n",
       "\n",
       "    rubberband.mouseenter('figure_enter', mouse_event_fn);\n",
       "    rubberband.mouseleave('figure_leave', mouse_event_fn);\n",
       "\n",
       "    canvas_div.on(\"wheel\", function (event) {\n",
       "        event = event.originalEvent;\n",
       "        event['data'] = 'scroll'\n",
       "        if (event.deltaY < 0) {\n",
       "            event.step = 1;\n",
       "        } else {\n",
       "            event.step = -1;\n",
       "        }\n",
       "        mouse_event_fn(event);\n",
       "    });\n",
       "\n",
       "    canvas_div.append(canvas);\n",
       "    canvas_div.append(rubberband);\n",
       "\n",
       "    this.rubberband = rubberband;\n",
       "    this.rubberband_canvas = rubberband[0];\n",
       "    this.rubberband_context = rubberband[0].getContext(\"2d\");\n",
       "    this.rubberband_context.strokeStyle = \"#000000\";\n",
       "\n",
       "    this._resize_canvas = function(width, height) {\n",
       "        // Keep the size of the canvas, canvas container, and rubber band\n",
       "        // canvas in synch.\n",
       "        canvas_div.css('width', width)\n",
       "        canvas_div.css('height', height)\n",
       "\n",
       "        canvas.attr('width', width * mpl.ratio);\n",
       "        canvas.attr('height', height * mpl.ratio);\n",
       "        canvas.attr('style', 'width: ' + width + 'px; height: ' + height + 'px;');\n",
       "\n",
       "        rubberband.attr('width', width);\n",
       "        rubberband.attr('height', height);\n",
       "    }\n",
       "\n",
       "    // Set the figure to an initial 600x600px, this will subsequently be updated\n",
       "    // upon first draw.\n",
       "    this._resize_canvas(600, 600);\n",
       "\n",
       "    // Disable right mouse context menu.\n",
       "    $(this.rubberband_canvas).bind(\"contextmenu\",function(e){\n",
       "        return false;\n",
       "    });\n",
       "\n",
       "    function set_focus () {\n",
       "        canvas.focus();\n",
       "        canvas_div.focus();\n",
       "    }\n",
       "\n",
       "    window.setTimeout(set_focus, 100);\n",
       "}\n",
       "\n",
       "mpl.figure.prototype._init_toolbar = function() {\n",
       "    var fig = this;\n",
       "\n",
       "    var nav_element = $('<div/>')\n",
       "    nav_element.attr('style', 'width: 100%');\n",
       "    this.root.append(nav_element);\n",
       "\n",
       "    // Define a callback function for later on.\n",
       "    function toolbar_event(event) {\n",
       "        return fig.toolbar_button_onclick(event['data']);\n",
       "    }\n",
       "    function toolbar_mouse_event(event) {\n",
       "        return fig.toolbar_button_onmouseover(event['data']);\n",
       "    }\n",
       "\n",
       "    for(var toolbar_ind in mpl.toolbar_items) {\n",
       "        var name = mpl.toolbar_items[toolbar_ind][0];\n",
       "        var tooltip = mpl.toolbar_items[toolbar_ind][1];\n",
       "        var image = mpl.toolbar_items[toolbar_ind][2];\n",
       "        var method_name = mpl.toolbar_items[toolbar_ind][3];\n",
       "\n",
       "        if (!name) {\n",
       "            // put a spacer in here.\n",
       "            continue;\n",
       "        }\n",
       "        var button = $('<button/>');\n",
       "        button.addClass('ui-button ui-widget ui-state-default ui-corner-all ' +\n",
       "                        'ui-button-icon-only');\n",
       "        button.attr('role', 'button');\n",
       "        button.attr('aria-disabled', 'false');\n",
       "        button.click(method_name, toolbar_event);\n",
       "        button.mouseover(tooltip, toolbar_mouse_event);\n",
       "\n",
       "        var icon_img = $('<span/>');\n",
       "        icon_img.addClass('ui-button-icon-primary ui-icon');\n",
       "        icon_img.addClass(image);\n",
       "        icon_img.addClass('ui-corner-all');\n",
       "\n",
       "        var tooltip_span = $('<span/>');\n",
       "        tooltip_span.addClass('ui-button-text');\n",
       "        tooltip_span.html(tooltip);\n",
       "\n",
       "        button.append(icon_img);\n",
       "        button.append(tooltip_span);\n",
       "\n",
       "        nav_element.append(button);\n",
       "    }\n",
       "\n",
       "    var fmt_picker_span = $('<span/>');\n",
       "\n",
       "    var fmt_picker = $('<select/>');\n",
       "    fmt_picker.addClass('mpl-toolbar-option ui-widget ui-widget-content');\n",
       "    fmt_picker_span.append(fmt_picker);\n",
       "    nav_element.append(fmt_picker_span);\n",
       "    this.format_dropdown = fmt_picker[0];\n",
       "\n",
       "    for (var ind in mpl.extensions) {\n",
       "        var fmt = mpl.extensions[ind];\n",
       "        var option = $(\n",
       "            '<option/>', {selected: fmt === mpl.default_extension}).html(fmt);\n",
       "        fmt_picker.append(option)\n",
       "    }\n",
       "\n",
       "    // Add hover states to the ui-buttons\n",
       "    $( \".ui-button\" ).hover(\n",
       "        function() { $(this).addClass(\"ui-state-hover\");},\n",
       "        function() { $(this).removeClass(\"ui-state-hover\");}\n",
       "    );\n",
       "\n",
       "    var status_bar = $('<span class=\"mpl-message\"/>');\n",
       "    nav_element.append(status_bar);\n",
       "    this.message = status_bar[0];\n",
       "}\n",
       "\n",
       "mpl.figure.prototype.request_resize = function(x_pixels, y_pixels) {\n",
       "    // Request matplotlib to resize the figure. Matplotlib will then trigger a resize in the client,\n",
       "    // which will in turn request a refresh of the image.\n",
       "    this.send_message('resize', {'width': x_pixels, 'height': y_pixels});\n",
       "}\n",
       "\n",
       "mpl.figure.prototype.send_message = function(type, properties) {\n",
       "    properties['type'] = type;\n",
       "    properties['figure_id'] = this.id;\n",
       "    this.ws.send(JSON.stringify(properties));\n",
       "}\n",
       "\n",
       "mpl.figure.prototype.send_draw_message = function() {\n",
       "    if (!this.waiting) {\n",
       "        this.waiting = true;\n",
       "        this.ws.send(JSON.stringify({type: \"draw\", figure_id: this.id}));\n",
       "    }\n",
       "}\n",
       "\n",
       "\n",
       "mpl.figure.prototype.handle_save = function(fig, msg) {\n",
       "    var format_dropdown = fig.format_dropdown;\n",
       "    var format = format_dropdown.options[format_dropdown.selectedIndex].value;\n",
       "    fig.ondownload(fig, format);\n",
       "}\n",
       "\n",
       "\n",
       "mpl.figure.prototype.handle_resize = function(fig, msg) {\n",
       "    var size = msg['size'];\n",
       "    if (size[0] != fig.canvas.width || size[1] != fig.canvas.height) {\n",
       "        fig._resize_canvas(size[0], size[1]);\n",
       "        fig.send_message(\"refresh\", {});\n",
       "    };\n",
       "}\n",
       "\n",
       "mpl.figure.prototype.handle_rubberband = function(fig, msg) {\n",
       "    var x0 = msg['x0'] / mpl.ratio;\n",
       "    var y0 = (fig.canvas.height - msg['y0']) / mpl.ratio;\n",
       "    var x1 = msg['x1'] / mpl.ratio;\n",
       "    var y1 = (fig.canvas.height - msg['y1']) / mpl.ratio;\n",
       "    x0 = Math.floor(x0) + 0.5;\n",
       "    y0 = Math.floor(y0) + 0.5;\n",
       "    x1 = Math.floor(x1) + 0.5;\n",
       "    y1 = Math.floor(y1) + 0.5;\n",
       "    var min_x = Math.min(x0, x1);\n",
       "    var min_y = Math.min(y0, y1);\n",
       "    var width = Math.abs(x1 - x0);\n",
       "    var height = Math.abs(y1 - y0);\n",
       "\n",
       "    fig.rubberband_context.clearRect(\n",
       "        0, 0, fig.canvas.width, fig.canvas.height);\n",
       "\n",
       "    fig.rubberband_context.strokeRect(min_x, min_y, width, height);\n",
       "}\n",
       "\n",
       "mpl.figure.prototype.handle_figure_label = function(fig, msg) {\n",
       "    // Updates the figure title.\n",
       "    fig.header.textContent = msg['label'];\n",
       "}\n",
       "\n",
       "mpl.figure.prototype.handle_cursor = function(fig, msg) {\n",
       "    var cursor = msg['cursor'];\n",
       "    switch(cursor)\n",
       "    {\n",
       "    case 0:\n",
       "        cursor = 'pointer';\n",
       "        break;\n",
       "    case 1:\n",
       "        cursor = 'default';\n",
       "        break;\n",
       "    case 2:\n",
       "        cursor = 'crosshair';\n",
       "        break;\n",
       "    case 3:\n",
       "        cursor = 'move';\n",
       "        break;\n",
       "    }\n",
       "    fig.rubberband_canvas.style.cursor = cursor;\n",
       "}\n",
       "\n",
       "mpl.figure.prototype.handle_message = function(fig, msg) {\n",
       "    fig.message.textContent = msg['message'];\n",
       "}\n",
       "\n",
       "mpl.figure.prototype.handle_draw = function(fig, msg) {\n",
       "    // Request the server to send over a new figure.\n",
       "    fig.send_draw_message();\n",
       "}\n",
       "\n",
       "mpl.figure.prototype.handle_image_mode = function(fig, msg) {\n",
       "    fig.image_mode = msg['mode'];\n",
       "}\n",
       "\n",
       "mpl.figure.prototype.updated_canvas_event = function() {\n",
       "    // Called whenever the canvas gets updated.\n",
       "    this.send_message(\"ack\", {});\n",
       "}\n",
       "\n",
       "// A function to construct a web socket function for onmessage handling.\n",
       "// Called in the figure constructor.\n",
       "mpl.figure.prototype._make_on_message_function = function(fig) {\n",
       "    return function socket_on_message(evt) {\n",
       "        if (evt.data instanceof Blob) {\n",
       "            /* FIXME: We get \"Resource interpreted as Image but\n",
       "             * transferred with MIME type text/plain:\" errors on\n",
       "             * Chrome.  But how to set the MIME type?  It doesn't seem\n",
       "             * to be part of the websocket stream */\n",
       "            evt.data.type = \"image/png\";\n",
       "\n",
       "            /* Free the memory for the previous frames */\n",
       "            if (fig.imageObj.src) {\n",
       "                (window.URL || window.webkitURL).revokeObjectURL(\n",
       "                    fig.imageObj.src);\n",
       "            }\n",
       "\n",
       "            fig.imageObj.src = (window.URL || window.webkitURL).createObjectURL(\n",
       "                evt.data);\n",
       "            fig.updated_canvas_event();\n",
       "            fig.waiting = false;\n",
       "            return;\n",
       "        }\n",
       "        else if (typeof evt.data === 'string' && evt.data.slice(0, 21) == \"data:image/png;base64\") {\n",
       "            fig.imageObj.src = evt.data;\n",
       "            fig.updated_canvas_event();\n",
       "            fig.waiting = false;\n",
       "            return;\n",
       "        }\n",
       "\n",
       "        var msg = JSON.parse(evt.data);\n",
       "        var msg_type = msg['type'];\n",
       "\n",
       "        // Call the  \"handle_{type}\" callback, which takes\n",
       "        // the figure and JSON message as its only arguments.\n",
       "        try {\n",
       "            var callback = fig[\"handle_\" + msg_type];\n",
       "        } catch (e) {\n",
       "            console.log(\"No handler for the '\" + msg_type + \"' message type: \", msg);\n",
       "            return;\n",
       "        }\n",
       "\n",
       "        if (callback) {\n",
       "            try {\n",
       "                // console.log(\"Handling '\" + msg_type + \"' message: \", msg);\n",
       "                callback(fig, msg);\n",
       "            } catch (e) {\n",
       "                console.log(\"Exception inside the 'handler_\" + msg_type + \"' callback:\", e, e.stack, msg);\n",
       "            }\n",
       "        }\n",
       "    };\n",
       "}\n",
       "\n",
       "// from http://stackoverflow.com/questions/1114465/getting-mouse-location-in-canvas\n",
       "mpl.findpos = function(e) {\n",
       "    //this section is from http://www.quirksmode.org/js/events_properties.html\n",
       "    var targ;\n",
       "    if (!e)\n",
       "        e = window.event;\n",
       "    if (e.target)\n",
       "        targ = e.target;\n",
       "    else if (e.srcElement)\n",
       "        targ = e.srcElement;\n",
       "    if (targ.nodeType == 3) // defeat Safari bug\n",
       "        targ = targ.parentNode;\n",
       "\n",
       "    // jQuery normalizes the pageX and pageY\n",
       "    // pageX,Y are the mouse positions relative to the document\n",
       "    // offset() returns the position of the element relative to the document\n",
       "    var x = e.pageX - $(targ).offset().left;\n",
       "    var y = e.pageY - $(targ).offset().top;\n",
       "\n",
       "    return {\"x\": x, \"y\": y};\n",
       "};\n",
       "\n",
       "/*\n",
       " * return a copy of an object with only non-object keys\n",
       " * we need this to avoid circular references\n",
       " * http://stackoverflow.com/a/24161582/3208463\n",
       " */\n",
       "function simpleKeys (original) {\n",
       "  return Object.keys(original).reduce(function (obj, key) {\n",
       "    if (typeof original[key] !== 'object')\n",
       "        obj[key] = original[key]\n",
       "    return obj;\n",
       "  }, {});\n",
       "}\n",
       "\n",
       "mpl.figure.prototype.mouse_event = function(event, name) {\n",
       "    var canvas_pos = mpl.findpos(event)\n",
       "\n",
       "    if (name === 'button_press')\n",
       "    {\n",
       "        this.canvas.focus();\n",
       "        this.canvas_div.focus();\n",
       "    }\n",
       "\n",
       "    var x = canvas_pos.x * mpl.ratio;\n",
       "    var y = canvas_pos.y * mpl.ratio;\n",
       "\n",
       "    this.send_message(name, {x: x, y: y, button: event.button,\n",
       "                             step: event.step,\n",
       "                             guiEvent: simpleKeys(event)});\n",
       "\n",
       "    /* This prevents the web browser from automatically changing to\n",
       "     * the text insertion cursor when the button is pressed.  We want\n",
       "     * to control all of the cursor setting manually through the\n",
       "     * 'cursor' event from matplotlib */\n",
       "    event.preventDefault();\n",
       "    return false;\n",
       "}\n",
       "\n",
       "mpl.figure.prototype._key_event_extra = function(event, name) {\n",
       "    // Handle any extra behaviour associated with a key event\n",
       "}\n",
       "\n",
       "mpl.figure.prototype.key_event = function(event, name) {\n",
       "\n",
       "    // Prevent repeat events\n",
       "    if (name == 'key_press')\n",
       "    {\n",
       "        if (event.which === this._key)\n",
       "            return;\n",
       "        else\n",
       "            this._key = event.which;\n",
       "    }\n",
       "    if (name == 'key_release')\n",
       "        this._key = null;\n",
       "\n",
       "    var value = '';\n",
       "    if (event.ctrlKey && event.which != 17)\n",
       "        value += \"ctrl+\";\n",
       "    if (event.altKey && event.which != 18)\n",
       "        value += \"alt+\";\n",
       "    if (event.shiftKey && event.which != 16)\n",
       "        value += \"shift+\";\n",
       "\n",
       "    value += 'k';\n",
       "    value += event.which.toString();\n",
       "\n",
       "    this._key_event_extra(event, name);\n",
       "\n",
       "    this.send_message(name, {key: value,\n",
       "                             guiEvent: simpleKeys(event)});\n",
       "    return false;\n",
       "}\n",
       "\n",
       "mpl.figure.prototype.toolbar_button_onclick = function(name) {\n",
       "    if (name == 'download') {\n",
       "        this.handle_save(this, null);\n",
       "    } else {\n",
       "        this.send_message(\"toolbar_button\", {name: name});\n",
       "    }\n",
       "};\n",
       "\n",
       "mpl.figure.prototype.toolbar_button_onmouseover = function(tooltip) {\n",
       "    this.message.textContent = tooltip;\n",
       "};\n",
       "mpl.toolbar_items = [[\"Home\", \"Reset original view\", \"fa fa-home icon-home\", \"home\"], [\"Back\", \"Back to  previous view\", \"fa fa-arrow-left icon-arrow-left\", \"back\"], [\"Forward\", \"Forward to next view\", \"fa fa-arrow-right icon-arrow-right\", \"forward\"], [\"\", \"\", \"\", \"\"], [\"Pan\", \"Pan axes with left mouse, zoom with right\", \"fa fa-arrows icon-move\", \"pan\"], [\"Zoom\", \"Zoom to rectangle\", \"fa fa-square-o icon-check-empty\", \"zoom\"], [\"\", \"\", \"\", \"\"], [\"Download\", \"Download plot\", \"fa fa-floppy-o icon-save\", \"download\"]];\n",
       "\n",
       "mpl.extensions = [\"eps\", \"jpeg\", \"pdf\", \"png\", \"ps\", \"raw\", \"svg\", \"tif\"];\n",
       "\n",
       "mpl.default_extension = \"png\";var comm_websocket_adapter = function(comm) {\n",
       "    // Create a \"websocket\"-like object which calls the given IPython comm\n",
       "    // object with the appropriate methods. Currently this is a non binary\n",
       "    // socket, so there is still some room for performance tuning.\n",
       "    var ws = {};\n",
       "\n",
       "    ws.close = function() {\n",
       "        comm.close()\n",
       "    };\n",
       "    ws.send = function(m) {\n",
       "        //console.log('sending', m);\n",
       "        comm.send(m);\n",
       "    };\n",
       "    // Register the callback with on_msg.\n",
       "    comm.on_msg(function(msg) {\n",
       "        //console.log('receiving', msg['content']['data'], msg);\n",
       "        // Pass the mpl event to the overridden (by mpl) onmessage function.\n",
       "        ws.onmessage(msg['content']['data'])\n",
       "    });\n",
       "    return ws;\n",
       "}\n",
       "\n",
       "mpl.mpl_figure_comm = function(comm, msg) {\n",
       "    // This is the function which gets called when the mpl process\n",
       "    // starts-up an IPython Comm through the \"matplotlib\" channel.\n",
       "\n",
       "    var id = msg.content.data.id;\n",
       "    // Get hold of the div created by the display call when the Comm\n",
       "    // socket was opened in Python.\n",
       "    var element = $(\"#\" + id);\n",
       "    var ws_proxy = comm_websocket_adapter(comm)\n",
       "\n",
       "    function ondownload(figure, format) {\n",
       "        window.open(figure.imageObj.src);\n",
       "    }\n",
       "\n",
       "    var fig = new mpl.figure(id, ws_proxy,\n",
       "                           ondownload,\n",
       "                           element.get(0));\n",
       "\n",
       "    // Call onopen now - mpl needs it, as it is assuming we've passed it a real\n",
       "    // web socket which is closed, not our websocket->open comm proxy.\n",
       "    ws_proxy.onopen();\n",
       "\n",
       "    fig.parent_element = element.get(0);\n",
       "    fig.cell_info = mpl.find_output_cell(\"<div id='\" + id + \"'></div>\");\n",
       "    if (!fig.cell_info) {\n",
       "        console.error(\"Failed to find cell for figure\", id, fig);\n",
       "        return;\n",
       "    }\n",
       "\n",
       "    var output_index = fig.cell_info[2]\n",
       "    var cell = fig.cell_info[0];\n",
       "\n",
       "};\n",
       "\n",
       "mpl.figure.prototype.handle_close = function(fig, msg) {\n",
       "    var width = fig.canvas.width/mpl.ratio\n",
       "    fig.root.unbind('remove')\n",
       "\n",
       "    // Update the output cell to use the data from the current canvas.\n",
       "    fig.push_to_output();\n",
       "    var dataURL = fig.canvas.toDataURL();\n",
       "    // Re-enable the keyboard manager in IPython - without this line, in FF,\n",
       "    // the notebook keyboard shortcuts fail.\n",
       "    IPython.keyboard_manager.enable()\n",
       "    $(fig.parent_element).html('<img src=\"' + dataURL + '\" width=\"' + width + '\">');\n",
       "    fig.close_ws(fig, msg);\n",
       "}\n",
       "\n",
       "mpl.figure.prototype.close_ws = function(fig, msg){\n",
       "    fig.send_message('closing', msg);\n",
       "    // fig.ws.close()\n",
       "}\n",
       "\n",
       "mpl.figure.prototype.push_to_output = function(remove_interactive) {\n",
       "    // Turn the data on the canvas into data in the output cell.\n",
       "    var width = this.canvas.width/mpl.ratio\n",
       "    var dataURL = this.canvas.toDataURL();\n",
       "    this.cell_info[1]['text/html'] = '<img src=\"' + dataURL + '\" width=\"' + width + '\">';\n",
       "}\n",
       "\n",
       "mpl.figure.prototype.updated_canvas_event = function() {\n",
       "    // Tell IPython that the notebook contents must change.\n",
       "    IPython.notebook.set_dirty(true);\n",
       "    this.send_message(\"ack\", {});\n",
       "    var fig = this;\n",
       "    // Wait a second, then push the new image to the DOM so\n",
       "    // that it is saved nicely (might be nice to debounce this).\n",
       "    setTimeout(function () { fig.push_to_output() }, 1000);\n",
       "}\n",
       "\n",
       "mpl.figure.prototype._init_toolbar = function() {\n",
       "    var fig = this;\n",
       "\n",
       "    var nav_element = $('<div/>')\n",
       "    nav_element.attr('style', 'width: 100%');\n",
       "    this.root.append(nav_element);\n",
       "\n",
       "    // Define a callback function for later on.\n",
       "    function toolbar_event(event) {\n",
       "        return fig.toolbar_button_onclick(event['data']);\n",
       "    }\n",
       "    function toolbar_mouse_event(event) {\n",
       "        return fig.toolbar_button_onmouseover(event['data']);\n",
       "    }\n",
       "\n",
       "    for(var toolbar_ind in mpl.toolbar_items){\n",
       "        var name = mpl.toolbar_items[toolbar_ind][0];\n",
       "        var tooltip = mpl.toolbar_items[toolbar_ind][1];\n",
       "        var image = mpl.toolbar_items[toolbar_ind][2];\n",
       "        var method_name = mpl.toolbar_items[toolbar_ind][3];\n",
       "\n",
       "        if (!name) { continue; };\n",
       "\n",
       "        var button = $('<button class=\"btn btn-default\" href=\"#\" title=\"' + name + '\"><i class=\"fa ' + image + ' fa-lg\"></i></button>');\n",
       "        button.click(method_name, toolbar_event);\n",
       "        button.mouseover(tooltip, toolbar_mouse_event);\n",
       "        nav_element.append(button);\n",
       "    }\n",
       "\n",
       "    // Add the status bar.\n",
       "    var status_bar = $('<span class=\"mpl-message\" style=\"text-align:right; float: right;\"/>');\n",
       "    nav_element.append(status_bar);\n",
       "    this.message = status_bar[0];\n",
       "\n",
       "    // Add the close button to the window.\n",
       "    var buttongrp = $('<div class=\"btn-group inline pull-right\"></div>');\n",
       "    var button = $('<button class=\"btn btn-mini btn-primary\" href=\"#\" title=\"Stop Interaction\"><i class=\"fa fa-power-off icon-remove icon-large\"></i></button>');\n",
       "    button.click(function (evt) { fig.handle_close(fig, {}); } );\n",
       "    button.mouseover('Stop Interaction', toolbar_mouse_event);\n",
       "    buttongrp.append(button);\n",
       "    var titlebar = this.root.find($('.ui-dialog-titlebar'));\n",
       "    titlebar.prepend(buttongrp);\n",
       "}\n",
       "\n",
       "mpl.figure.prototype._root_extra_style = function(el){\n",
       "    var fig = this\n",
       "    el.on(\"remove\", function(){\n",
       "\tfig.close_ws(fig, {});\n",
       "    });\n",
       "}\n",
       "\n",
       "mpl.figure.prototype._canvas_extra_style = function(el){\n",
       "    // this is important to make the div 'focusable\n",
       "    el.attr('tabindex', 0)\n",
       "    // reach out to IPython and tell the keyboard manager to turn it's self\n",
       "    // off when our div gets focus\n",
       "\n",
       "    // location in version 3\n",
       "    if (IPython.notebook.keyboard_manager) {\n",
       "        IPython.notebook.keyboard_manager.register_events(el);\n",
       "    }\n",
       "    else {\n",
       "        // location in version 2\n",
       "        IPython.keyboard_manager.register_events(el);\n",
       "    }\n",
       "\n",
       "}\n",
       "\n",
       "mpl.figure.prototype._key_event_extra = function(event, name) {\n",
       "    var manager = IPython.notebook.keyboard_manager;\n",
       "    if (!manager)\n",
       "        manager = IPython.keyboard_manager;\n",
       "\n",
       "    // Check for shift+enter\n",
       "    if (event.shiftKey && event.which == 13) {\n",
       "        this.canvas_div.blur();\n",
       "        event.shiftKey = false;\n",
       "        // Send a \"J\" for go to next cell\n",
       "        event.which = 74;\n",
       "        event.keyCode = 74;\n",
       "        manager.command_mode();\n",
       "        manager.handle_keydown(event);\n",
       "    }\n",
       "}\n",
       "\n",
       "mpl.figure.prototype.handle_save = function(fig, msg) {\n",
       "    fig.ondownload(fig, null);\n",
       "}\n",
       "\n",
       "\n",
       "mpl.find_output_cell = function(html_output) {\n",
       "    // Return the cell and output element which can be found *uniquely* in the notebook.\n",
       "    // Note - this is a bit hacky, but it is done because the \"notebook_saving.Notebook\"\n",
       "    // IPython event is triggered only after the cells have been serialised, which for\n",
       "    // our purposes (turning an active figure into a static one), is too late.\n",
       "    var cells = IPython.notebook.get_cells();\n",
       "    var ncells = cells.length;\n",
       "    for (var i=0; i<ncells; i++) {\n",
       "        var cell = cells[i];\n",
       "        if (cell.cell_type === 'code'){\n",
       "            for (var j=0; j<cell.output_area.outputs.length; j++) {\n",
       "                var data = cell.output_area.outputs[j];\n",
       "                if (data.data) {\n",
       "                    // IPython >= 3 moved mimebundle to data attribute of output\n",
       "                    data = data.data;\n",
       "                }\n",
       "                if (data['text/html'] == html_output) {\n",
       "                    return [cell, data, j];\n",
       "                }\n",
       "            }\n",
       "        }\n",
       "    }\n",
       "}\n",
       "\n",
       "// Register the function which deals with the matplotlib target/channel.\n",
       "// The kernel may be null if the page has been refreshed.\n",
       "if (IPython.notebook.kernel != null) {\n",
       "    IPython.notebook.kernel.comm_manager.register_target('matplotlib', mpl.mpl_figure_comm);\n",
       "}\n"
      ],
      "text/plain": [
       "<IPython.core.display.Javascript object>"
      ]
     },
     "metadata": {},
     "output_type": "display_data"
    },
    {
     "data": {
      "text/html": [
       "<img src=\"data:image/png;base64,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\" width=\"640\">"
      ],
      "text/plain": [
       "<IPython.core.display.HTML object>"
      ]
     },
     "metadata": {},
     "output_type": "display_data"
    },
    {
     "data": {
      "application/vnd.jupyter.widget-view+json": {
       "model_id": "b12ef42b4d6b41479dabc4547f3341bd",
       "version_major": 2,
       "version_minor": 0
      },
      "text/plain": [
       "interactive(children=(IntSlider(value=1, description='c', min=-100), Output()), _dom_classes=('widget-interact…"
      ]
     },
     "metadata": {},
     "output_type": "display_data"
    }
   ],
   "source": [
    "import numpy as np\n",
    "\n",
    "\n",
    "density = 100\n",
    "\n",
    "def build(n = 100, c = 0):\n",
    "    h = 2 / n\n",
    "    matrix = np.zeros((n,n))\n",
    "    matrix[0,0] = 100000\n",
    "    matrix[n-1,n-1] = 100000\n",
    "    for i in range (1, n-1):\n",
    "      \n",
    "        matrix[i,i-1] = -1/ (h ** 2)\n",
    "        matrix[i,i] = 2/(h ** 2)\n",
    "        matrix[i,i+1] = -1/(h ** 2)\n",
    "        matrix[i,i] += c/(np.cosh(-4+4*h*i)**2) - c/(np.cosh(4)**2)\n",
    "    return matrix\n",
    "\n",
    "def t(n = 100, c = 0):\n",
    "    h = 2 / n\n",
    "    matrix = np.zeros((n,n))\n",
    "    matrix[0,0] = 100000\n",
    "    matrix[n-1,n-1] = 100000\n",
    "    for i in range (1, n-1):\n",
    "      \n",
    "        matrix[i,i-1] = -1/ (h ** 2)\n",
    "        matrix[i,i] = 2/(h ** 2)\n",
    "        matrix[i,i+1] = -1/(h ** 2)\n",
    "      \n",
    "    return matrix\n",
    "\n",
    "\n",
    "eigenValues, eigenVectors = np.linalg.eig(build(density, 0))\n",
    "\n",
    "idx = eigenValues.argsort()   \n",
    "val = eigenValues[idx]\n",
    "vec = eigenVectors[:,idx]\n",
    "\n",
    "\n",
    "\n",
    "import matplotlib.pyplot as plt\n",
    "\n",
    "%matplotlib notebook\n",
    "from ipywidgets import *\n",
    "\n",
    "x = np.linspace(-1, 1, density)\n",
    "fig = plt.figure()\n",
    "ham = t()\n",
    "ax = fig.add_subplot(1, 1, 1)\n",
    "line, = ax.plot(x, 2.5*vec[:,0])\n",
    "linez, = ax.plot(x, 1/(np.cosh(4*x)**2) - 1/(np.cosh(4) ** 2))\n",
    "b = t(100,1) @ vec[:,0]\n",
    "liney, = ax.plot(x, b)\n",
    "yd = np.ones((density))\n",
    "lineen, = ax.plot(x,val[0]*yd)\n",
    "\n",
    "\n",
    "\n",
    "def update(c = 1.0):\n",
    "    eigenValues, eigenVectors = np.linalg.eig(build(density, c))\n",
    "\n",
    "    idx = eigenValues.argsort()   \n",
    "    val = eigenValues[idx]\n",
    "    vec = eigenVectors[:,idx]\n",
    "    \n",
    "    plt.ylim(top=25)\n",
    "    plt.ylim(bottom=-25)\n",
    "    if(vec[2,0] < 0):\n",
    "        vec[:,0] *= -1\n",
    "    \n",
    "    line.set_ydata(val[0]*vec[:,0])\n",
    "    linez.set_ydata(c/((np.cosh(4*x)**2)) - c/((np.cosh(4)**2)))\n",
    "    b = t(100,0) @ vec[:,0]\n",
    "    potential = (c/((np.cosh(4*x)**2)) - c/((np.cosh(4)**2))) * vec[:,0] \n",
    "    liney.set_ydata(vec[:,0].T @ (b + potential))\n",
    "    yd = np.ones((density))\n",
    "    lineen.set_ydata(val[0] * yd)\n",
    "    \n",
    "    \n",
    "    fig.canvas.draw()\n",
    "\n",
    "interact(update, c = widgets.IntSlider(min=-100,max=100,step=1,value=1));\n"
   ]
  },
  {
   "cell_type": "markdown",
   "metadata": {},
   "source": [
    "На графике сверху изображен квадрат волновой функции основного состояния. Слайдер регулирует величину горба. Из необъяснимых феноменов - отсутствует вырождение (хотя понятно, например, что при больших c запертой между левой стенкой и горбом волновой функции также должна соответствовать ей симметричная).\n",
    "\n",
    "Вот сама волновая функция второго состояния"
   ]
  },
  {
   "cell_type": "code",
   "execution_count": null,
   "metadata": {},
   "outputs": [],
   "source": [
    "x1 = np.linspace(-1, 1, density)\n",
    "fig1 = plt.figure()\n",
    "ax1 = fig1.add_subplot(1, 1, 1)\n",
    "line1, = ax1.plot(x1, vec[:,2] )\n",
    "\n",
    "def update1(d = 1.0):\n",
    "    eigenValues, eigenVectors = np.linalg.eig(build(density, d))\n",
    "\n",
    "    idx = eigenValues.argsort()   \n",
    "    val = eigenValues[idx]\n",
    "    vec = eigenVectors[:,idx]\n",
    "    if (vec[2,2] < 0):\n",
    "        vec[:,2] *= -1\n",
    "    \n",
    "    plt.ylim(top=0.3)\n",
    "    plt.ylim(bottom=-0.3)\n",
    "    line1.set_ydata(vec[:,2])\n",
    "    fig1.canvas.draw()\n",
    "interact(update1, d = widgets.IntSlider(min=-500,max=500,step=1,value=1));\n"
   ]
  },
  {
   "cell_type": "markdown",
   "metadata": {},
   "source": [
    "Зависимость логарифма корня из модуля энергии от логарифма номера уровня:"
   ]
  },
  {
   "cell_type": "code",
   "execution_count": null,
   "metadata": {},
   "outputs": [],
   "source": [
    "\n",
    "x2 = np.linspace(0, density-1, density)\n",
    "fig2 = plt.figure()\n",
    "ax2 = fig2.add_subplot(1, 1, 1)\n",
    "line2, = ax2.plot(np.log(x2[0:x2.size-2]), np.log(np.abs(val[0:x2.size-2])**(1/2)))\n",
    "\n",
    "def update2(e = 1.0):\n",
    "    eigenValues, eigenVectors = np.linalg.eig(build(density, e))\n",
    "\n",
    "    idx = eigenValues.argsort()   \n",
    "    val = eigenValues[idx]\n",
    "    plt.ylim(top=5.0)\n",
    "    plt.ylim(bottom=-0.5)\n",
    "    \n",
    "    line2.set_ydata(np.log(np.abs(val[0:x2.size-2])**(1/2)))\n",
    "    fig2.canvas.draw()\n",
    "\n",
    "interact(update2, e = widgets.IntSlider(min=-500,max=500,step=1,value=1));\n"
   ]
  },
  {
   "cell_type": "markdown",
   "metadata": {},
   "source": [
    "Верхняя часть зависимости не меняется и имеет такой вид из-за того, что характерное поведение высокоэнергетической частицы проявляется на расстояниях порядка размера сетки (и, как следствие, смысл такое моделирование теряет). Поведение на низких энергиях я объяснить пока что не в состоянии (за исключением, разумеется, того, что при малых размерах горба наклон прямой порядка единицы)."
   ]
  },
  {
   "cell_type": "code",
   "execution_count": null,
   "metadata": {},
   "outputs": [],
   "source": []
  }
 ],
 "metadata": {
  "kernelspec": {
   "display_name": "Python 3",
   "language": "python",
   "name": "python3"
  },
  "language_info": {
   "codemirror_mode": {
    "name": "ipython",
    "version": 3
   },
   "file_extension": ".py",
   "mimetype": "text/x-python",
   "name": "python",
   "nbconvert_exporter": "python",
   "pygments_lexer": "ipython3",
   "version": "3.6.5"
  },
  "widgets": {
   "application/vnd.jupyter.widget-state+json": {
    "state": {
     "004451182a5342cb9fbd6070d3c39159": {
      "model_module": "@jupyter-widgets/controls",
      "model_module_version": "1.2.0",
      "model_name": "SliderStyleModel",
      "state": {
       "description_width": ""
      }
     },
     "025bd1f4b72f4e4799f38058de18700e": {
      "model_module": "@jupyter-widgets/base",
      "model_module_version": "1.0.0",
      "model_name": "LayoutModel",
      "state": {}
     },
     "02d3a1fc429b4f9b80ef138dc0ba747b": {
      "model_module": "@jupyter-widgets/controls",
      "model_module_version": "1.2.0",
      "model_name": "SliderStyleModel",
      "state": {
       "description_width": ""
      }
     },
     "02f8c93bf92a472a93c62ecbef1f941b": {
      "model_module": "@jupyter-widgets/controls",
      "model_module_version": "1.2.0",
      "model_name": "IntSliderModel",
      "state": {
       "description": "c",
       "layout": "IPY_MODEL_adf534a84b1142869f9bc002daa8ff78",
       "max": 500,
       "min": -500,
       "style": "IPY_MODEL_f2a9b28c3df541379d7cbfe6aeb8a6e4",
       "value": 1
      }
     },
     "035562eba6e44920b803b823f9049468": {
      "model_module": "@jupyter-widgets/controls",
      "model_module_version": "1.2.0",
      "model_name": "VBoxModel",
      "state": {
       "_dom_classes": [
        "widget-interact"
       ],
       "children": [
        "IPY_MODEL_175b2eed097e4b05b3b623ee3295cd19",
        "IPY_MODEL_a9208793593a4988ba8053883acc7301"
       ],
       "layout": "IPY_MODEL_727db649dbbc40eb958e838f6c5ddcae"
      }
     },
     "037f197289f24455b722a64d3cbcda82": {
      "model_module": "@jupyter-widgets/base",
      "model_module_version": "1.0.0",
      "model_name": "LayoutModel",
      "state": {}
     },
     "03b67890bdf94467ae02fb097869b454": {
      "model_module": "@jupyter-widgets/base",
      "model_module_version": "1.0.0",
      "model_name": "LayoutModel",
      "state": {}
     },
     "0408ef6f3aa74e1e984f2c48d4e3429e": {
      "model_module": "@jupyter-widgets/output",
      "model_module_version": "1.0.0",
      "model_name": "OutputModel",
      "state": {
       "layout": "IPY_MODEL_42d7d21b8c274377bb8ea90ea8a18164",
       "outputs": [
        {
         "data": {
          "image/png": "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\n",
          "text/plain": "<Figure size 432x288 with 1 Axes>"
         },
         "metadata": {},
         "output_type": "display_data"
        }
       ]
      }
     },
     "05331cfcd8324b35b4f87d6ef60ffeb9": {
      "model_module": "@jupyter-widgets/controls",
      "model_module_version": "1.2.0",
      "model_name": "IntSliderModel",
      "state": {
       "description": "e",
       "layout": "IPY_MODEL_9854a3cb77ea4364ad36f7aa66c823a4",
       "max": 500,
       "min": -500,
       "style": "IPY_MODEL_f3f3e6dcda7b4a8e9062ca77026319c0",
       "value": 1
      }
     },
     "0563a3ff80464dc697b6b2af4e432d56": {
      "model_module": "@jupyter-widgets/base",
      "model_module_version": "1.0.0",
      "model_name": "LayoutModel",
      "state": {}
     },
     "058dadda5ef543c89fc4af9fab90752a": {
      "model_module": "@jupyter-widgets/base",
      "model_module_version": "1.0.0",
      "model_name": "LayoutModel",
      "state": {}
     },
     "06290166b0224af9bfde4fa550568f13": {
      "model_module": "@jupyter-widgets/controls",
      "model_module_version": "1.2.0",
      "model_name": "SliderStyleModel",
      "state": {
       "description_width": ""
      }
     },
     "06643c4ccfd8426694b579229bc4534f": {
      "model_module": "@jupyter-widgets/controls",
      "model_module_version": "1.2.0",
      "model_name": "IntSliderModel",
      "state": {
       "description": "c",
       "layout": "IPY_MODEL_abe94cba84d6400594a1895b1f8e378e",
       "max": 500,
       "min": -500,
       "style": "IPY_MODEL_c5b2a4e38a924047951343f0d9bbcc34",
       "value": 1
      }
     },
     "06ac35f87daf4d9db5288d81c8497040": {
      "model_module": "@jupyter-widgets/base",
      "model_module_version": "1.0.0",
      "model_name": "LayoutModel",
      "state": {}
     },
     "06bc092a24d348d5b60c1ffee8a2226f": {
      "model_module": "@jupyter-widgets/controls",
      "model_module_version": "1.2.0",
      "model_name": "SliderStyleModel",
      "state": {
       "description_width": ""
      }
     },
     "07a2dacdc4a147acadf147dd646d9324": {
      "model_module": "@jupyter-widgets/controls",
      "model_module_version": "1.2.0",
      "model_name": "IntSliderModel",
      "state": {
       "description": "c",
       "layout": "IPY_MODEL_bcf2e642313f4c0bb89ef5e4d4a8ab6a",
       "max": 500,
       "min": -500,
       "style": "IPY_MODEL_c4141b19cd5f4d52b516bc74cb8c48e0",
       "value": 1
      }
     },
     "07ec4671bbcc423c999397b292e5986c": {
      "model_module": "@jupyter-widgets/controls",
      "model_module_version": "1.2.0",
      "model_name": "IntSliderModel",
      "state": {
       "description": "d",
       "layout": "IPY_MODEL_17fb8bf6a53141c3976df0f9191c1095",
       "max": 500,
       "min": -500,
       "style": "IPY_MODEL_a40bff1c5afe4ba9abd413376e489c03",
       "value": 198
      }
     },
     "081e800abee541bdae404c5ecd43bab4": {
      "model_module": "@jupyter-widgets/controls",
      "model_module_version": "1.2.0",
      "model_name": "VBoxModel",
      "state": {
       "_dom_classes": [
        "widget-interact"
       ],
       "children": [
        "IPY_MODEL_b686d222cbdc4500bb7da5e9c1e7ed01",
        "IPY_MODEL_0408ef6f3aa74e1e984f2c48d4e3429e"
       ],
       "layout": "IPY_MODEL_867112fb2d844008a706f553fac254b0"
      }
     },
     "097d4b8c44b04176b78c183564aa9d83": {
      "model_module": "@jupyter-widgets/controls",
      "model_module_version": "1.2.0",
      "model_name": "IntSliderModel",
      "state": {
       "description": "c",
       "layout": "IPY_MODEL_2a654100fa134e9c8f56b81d83df0cff",
       "max": 500,
       "min": -500,
       "style": "IPY_MODEL_7b24cfdd30bb4384a6865822ccf9dd83",
       "value": 500
      }
     },
     "0a3fef066cd047d78d8ab96aae1c3e46": {
      "model_module": "@jupyter-widgets/output",
      "model_module_version": "1.0.0",
      "model_name": "OutputModel",
      "state": {
       "layout": "IPY_MODEL_30a128b30e6142e4b1954572dc7d1941"
      }
     },
     "0a78019cfe5d40129663c14c171542f9": {
      "model_module": "@jupyter-widgets/base",
      "model_module_version": "1.0.0",
      "model_name": "LayoutModel",
      "state": {}
     },
     "0adfd7a45b6d4fedbbc100329c5ad9ef": {
      "model_module": "@jupyter-widgets/output",
      "model_module_version": "1.0.0",
      "model_name": "OutputModel",
      "state": {
       "layout": "IPY_MODEL_2f7000cea17843bba54dfbcd53bf3d15"
      }
     },
     "0afb30682d0e47948c8fe92a1340a118": {
      "model_module": "@jupyter-widgets/output",
      "model_module_version": "1.0.0",
      "model_name": "OutputModel",
      "state": {
       "layout": "IPY_MODEL_a4b36f0aec08420684a4552f983661cc",
       "outputs": [
        {
         "ename": "TypeError",
         "evalue": "set_ydata() takes 2 positional arguments but 3 were given",
         "output_type": "error",
         "traceback": [
          "\u001b[1;31m---------------------------------------------------------------------------\u001b[0m",
          "\u001b[1;31mTypeError\u001b[0m                                 Traceback (most recent call last)",
          "\u001b[1;32mD:\\AnacondaPython\\lib\\site-packages\\ipywidgets\\widgets\\interaction.py\u001b[0m in \u001b[0;36mupdate\u001b[1;34m(self, *args)\u001b[0m\n\u001b[0;32m    249\u001b[0m                     \u001b[0mvalue\u001b[0m \u001b[1;33m=\u001b[0m \u001b[0mwidget\u001b[0m\u001b[1;33m.\u001b[0m\u001b[0mget_interact_value\u001b[0m\u001b[1;33m(\u001b[0m\u001b[1;33m)\u001b[0m\u001b[1;33m\u001b[0m\u001b[0m\n\u001b[0;32m    250\u001b[0m                     \u001b[0mself\u001b[0m\u001b[1;33m.\u001b[0m\u001b[0mkwargs\u001b[0m\u001b[1;33m[\u001b[0m\u001b[0mwidget\u001b[0m\u001b[1;33m.\u001b[0m\u001b[0m_kwarg\u001b[0m\u001b[1;33m]\u001b[0m \u001b[1;33m=\u001b[0m \u001b[0mvalue\u001b[0m\u001b[1;33m\u001b[0m\u001b[0m\n\u001b[1;32m--> 251\u001b[1;33m                 \u001b[0mself\u001b[0m\u001b[1;33m.\u001b[0m\u001b[0mresult\u001b[0m \u001b[1;33m=\u001b[0m \u001b[0mself\u001b[0m\u001b[1;33m.\u001b[0m\u001b[0mf\u001b[0m\u001b[1;33m(\u001b[0m\u001b[1;33m**\u001b[0m\u001b[0mself\u001b[0m\u001b[1;33m.\u001b[0m\u001b[0mkwargs\u001b[0m\u001b[1;33m)\u001b[0m\u001b[1;33m\u001b[0m\u001b[0m\n\u001b[0m\u001b[0;32m    252\u001b[0m                 \u001b[0mshow_inline_matplotlib_plots\u001b[0m\u001b[1;33m(\u001b[0m\u001b[1;33m)\u001b[0m\u001b[1;33m\u001b[0m\u001b[0m\n\u001b[0;32m    253\u001b[0m                 \u001b[1;32mif\u001b[0m \u001b[0mself\u001b[0m\u001b[1;33m.\u001b[0m\u001b[0mauto_display\u001b[0m \u001b[1;32mand\u001b[0m \u001b[0mself\u001b[0m\u001b[1;33m.\u001b[0m\u001b[0mresult\u001b[0m \u001b[1;32mis\u001b[0m \u001b[1;32mnot\u001b[0m \u001b[1;32mNone\u001b[0m\u001b[1;33m:\u001b[0m\u001b[1;33m\u001b[0m\u001b[0m\n",
          "\u001b[1;32m<ipython-input-5-285546274b55>\u001b[0m in \u001b[0;36mupdate\u001b[1;34m(c)\u001b[0m\n\u001b[0;32m     64\u001b[0m     \u001b[0mline\u001b[0m\u001b[1;33m.\u001b[0m\u001b[0mset_ydata\u001b[0m\u001b[1;33m(\u001b[0m\u001b[0mvec\u001b[0m\u001b[1;33m[\u001b[0m\u001b[1;33m:\u001b[0m\u001b[1;33m,\u001b[0m\u001b[1;36m0\u001b[0m\u001b[1;33m]\u001b[0m\u001b[1;33m**\u001b[0m\u001b[1;36m2\u001b[0m\u001b[1;33m)\u001b[0m\u001b[1;33m\u001b[0m\u001b[0m\n\u001b[0;32m     65\u001b[0m     \u001b[0mlinez\u001b[0m\u001b[1;33m.\u001b[0m\u001b[0mset_ydata\u001b[0m\u001b[1;33m(\u001b[0m\u001b[0mc\u001b[0m\u001b[1;33m/\u001b[0m\u001b[1;33m(\u001b[0m\u001b[1;36m1000\u001b[0m\u001b[1;33m*\u001b[0m\u001b[1;33m(\u001b[0m\u001b[0mnp\u001b[0m\u001b[1;33m.\u001b[0m\u001b[0mcosh\u001b[0m\u001b[1;33m(\u001b[0m\u001b[1;36m4\u001b[0m\u001b[1;33m*\u001b[0m\u001b[0mx\u001b[0m\u001b[1;33m)\u001b[0m\u001b[1;33m**\u001b[0m\u001b[1;36m2\u001b[0m\u001b[1;33m)\u001b[0m\u001b[1;33m)\u001b[0m \u001b[1;33m-\u001b[0m \u001b[0mc\u001b[0m\u001b[1;33m/\u001b[0m\u001b[1;33m(\u001b[0m\u001b[1;36m1000\u001b[0m\u001b[1;33m*\u001b[0m\u001b[1;33m(\u001b[0m\u001b[0mnp\u001b[0m\u001b[1;33m.\u001b[0m\u001b[0mcosh\u001b[0m\u001b[1;33m(\u001b[0m\u001b[1;36m4\u001b[0m\u001b[1;33m)\u001b[0m\u001b[1;33m**\u001b[0m\u001b[1;36m2\u001b[0m\u001b[1;33m)\u001b[0m\u001b[1;33m)\u001b[0m\u001b[1;33m)\u001b[0m\u001b[1;33m\u001b[0m\u001b[0m\n\u001b[1;32m---> 66\u001b[1;33m     \u001b[0mliney\u001b[0m\u001b[1;33m.\u001b[0m\u001b[0mset_ydata\u001b[0m\u001b[1;33m(\u001b[0m\u001b[0mx\u001b[0m\u001b[1;33m,\u001b[0m \u001b[0mt\u001b[0m\u001b[1;33m(\u001b[0m\u001b[1;36m100\u001b[0m\u001b[1;33m,\u001b[0m\u001b[0mc\u001b[0m\u001b[1;33m)\u001b[0m \u001b[1;33m@\u001b[0m \u001b[0mvec\u001b[0m\u001b[1;33m[\u001b[0m\u001b[1;33m:\u001b[0m\u001b[1;33m,\u001b[0m\u001b[1;36m0\u001b[0m\u001b[1;33m]\u001b[0m\u001b[1;33m)\u001b[0m\u001b[1;33m\u001b[0m\u001b[0m\n\u001b[0m\u001b[0;32m     67\u001b[0m     \u001b[0mfig\u001b[0m\u001b[1;33m.\u001b[0m\u001b[0mcanvas\u001b[0m\u001b[1;33m.\u001b[0m\u001b[0mdraw\u001b[0m\u001b[1;33m(\u001b[0m\u001b[1;33m)\u001b[0m\u001b[1;33m\u001b[0m\u001b[0m\n\u001b[0;32m     68\u001b[0m \u001b[1;33m\u001b[0m\u001b[0m\n",
          "\u001b[1;31mTypeError\u001b[0m: set_ydata() takes 2 positional arguments but 3 were given"
         ]
        }
       ]
      }
     },
     "0b0f395774734d7a81a4094e4d9bab5b": {
      "model_module": "@jupyter-widgets/base",
      "model_module_version": "1.0.0",
      "model_name": "LayoutModel",
      "state": {}
     },
     "0b606699805640b3b9050be70fba8e44": {
      "model_module": "@jupyter-widgets/base",
      "model_module_version": "1.0.0",
      "model_name": "LayoutModel",
      "state": {}
     },
     "0ba64ad8dec54c4ab864c23d85291f34": {
      "model_module": "@jupyter-widgets/base",
      "model_module_version": "1.0.0",
      "model_name": "LayoutModel",
      "state": {}
     },
     "0ba7f5df42004ba09a2fee77a533bf68": {
      "model_module": "@jupyter-widgets/base",
      "model_module_version": "1.0.0",
      "model_name": "LayoutModel",
      "state": {}
     },
     "0c2ce0f589eb41509917bf7b7e7743fd": {
      "model_module": "@jupyter-widgets/output",
      "model_module_version": "1.0.0",
      "model_name": "OutputModel",
      "state": {
       "layout": "IPY_MODEL_6b0c4723fa1f4ff18cc64cd3eb6d3dbe"
      }
     },
     "0cd542174c56436db9d6e9edc78e7591": {
      "model_module": "@jupyter-widgets/base",
      "model_module_version": "1.0.0",
      "model_name": "LayoutModel",
      "state": {}
     },
     "0d015bae554b465eb62fa2871040ea09": {
      "model_module": "@jupyter-widgets/output",
      "model_module_version": "1.0.0",
      "model_name": "OutputModel",
      "state": {
       "layout": "IPY_MODEL_bf6a318237b24c26a5d728bda7e849f4",
       "outputs": [
        {
         "data": {
          "image/png": "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\n",
          "text/plain": "<Figure size 432x288 with 1 Axes>"
         },
         "metadata": {},
         "output_type": "display_data"
        }
       ]
      }
     },
     "0d69ca4683924ac78325a81fdf20b7d8": {
      "model_module": "@jupyter-widgets/controls",
      "model_module_version": "1.2.0",
      "model_name": "IntSliderModel",
      "state": {
       "description": "c",
       "layout": "IPY_MODEL_6cfdc8231d44430db020a73cc77d2c54",
       "max": 500,
       "min": -500,
       "style": "IPY_MODEL_8710c317cd3c4a5d89a790f9d0fa3e64",
       "value": 44
      }
     },
     "0d90b73237004e9bb36ee00f7060e19d": {
      "model_module": "@jupyter-widgets/base",
      "model_module_version": "1.0.0",
      "model_name": "LayoutModel",
      "state": {}
     },
     "0dbb8792e5494e248df5f67e803a08fd": {
      "model_module": "@jupyter-widgets/base",
      "model_module_version": "1.0.0",
      "model_name": "LayoutModel",
      "state": {}
     },
     "0f98774c0fab4ee8af9520d39db06b55": {
      "model_module": "@jupyter-widgets/output",
      "model_module_version": "1.0.0",
      "model_name": "OutputModel",
      "state": {
       "layout": "IPY_MODEL_9a2c3679bffe43fbad61ea3e20982aa4"
      }
     },
     "101c14e5304c4fb29f06065eed54103b": {
      "model_module": "@jupyter-widgets/controls",
      "model_module_version": "1.2.0",
      "model_name": "VBoxModel",
      "state": {
       "_dom_classes": [
        "widget-interact"
       ],
       "children": [
        "IPY_MODEL_fff1452423994d7f9525076f91e558e0",
        "IPY_MODEL_96af38874ce644c2850b5d9056d87e82"
       ],
       "layout": "IPY_MODEL_30b60c3635b24f0bae845c0328e8750d"
      }
     },
     "103d84833df44f9dbd92064ba20a81fa": {
      "model_module": "@jupyter-widgets/controls",
      "model_module_version": "1.2.0",
      "model_name": "VBoxModel",
      "state": {
       "_dom_classes": [
        "widget-interact"
       ],
       "children": [
        "IPY_MODEL_714dba23e90947c58fb097877d858a06",
        "IPY_MODEL_488fe3145ba047c4b45c9aaa72cec3b0"
       ],
       "layout": "IPY_MODEL_7e5e7b458b674fbdb70e944d58b29cb7"
      }
     },
     "11082665d5b442a3b1f32e2ac3630170": {
      "model_module": "@jupyter-widgets/controls",
      "model_module_version": "1.2.0",
      "model_name": "SliderStyleModel",
      "state": {
       "description_width": ""
      }
     },
     "11eab11223874e4aa5f178cf3b0265f7": {
      "model_module": "@jupyter-widgets/controls",
      "model_module_version": "1.2.0",
      "model_name": "VBoxModel",
      "state": {
       "_dom_classes": [
        "widget-interact"
       ],
       "children": [
        "IPY_MODEL_64cf54c888a1413eb1e8d2e199c7026b",
        "IPY_MODEL_d067b6e09d2c46fcb911aa9bb4d840c5"
       ],
       "layout": "IPY_MODEL_ba1423e4090645d691306483feeefb6c"
      }
     },
     "123a1ec2917b4d68aff089419564a391": {
      "model_module": "@jupyter-widgets/controls",
      "model_module_version": "1.2.0",
      "model_name": "IntSliderModel",
      "state": {
       "description": "c",
       "layout": "IPY_MODEL_f0b5eae1ab3f4797824774855bbedd0c",
       "max": 500,
       "min": -500,
       "style": "IPY_MODEL_aaad31a5f4194c608c09865486f985ab",
       "value": 1
      }
     },
     "132d864e5b384718b99b788a5d4e324a": {
      "model_module": "@jupyter-widgets/controls",
      "model_module_version": "1.2.0",
      "model_name": "IntSliderModel",
      "state": {
       "description": "c",
       "layout": "IPY_MODEL_058dadda5ef543c89fc4af9fab90752a",
       "max": 500,
       "min": -500,
       "style": "IPY_MODEL_f2db98e513e54786b62b46d7bbb5c5ee",
       "value": 69
      }
     },
     "133d1d3e43504bac8b0f524e32d8d0e2": {
      "model_module": "@jupyter-widgets/base",
      "model_module_version": "1.0.0",
      "model_name": "LayoutModel",
      "state": {}
     },
     "13655a655c484c3ba2391c9b3512ac86": {
      "model_module": "@jupyter-widgets/base",
      "model_module_version": "1.0.0",
      "model_name": "LayoutModel",
      "state": {}
     },
     "13be72b26a0544d2a77d446d27f8a5b6": {
      "model_module": "@jupyter-widgets/base",
      "model_module_version": "1.0.0",
      "model_name": "LayoutModel",
      "state": {}
     },
     "14afe80a145b46c18fac694b2535429e": {
      "model_module": "@jupyter-widgets/base",
      "model_module_version": "1.0.0",
      "model_name": "LayoutModel",
      "state": {}
     },
     "15aedf290fc14662be1f2a18ba0c996d": {
      "model_module": "@jupyter-widgets/output",
      "model_module_version": "1.0.0",
      "model_name": "OutputModel",
      "state": {
       "layout": "IPY_MODEL_90f3cf7e68f84a9cb82c858f58370599"
      }
     },
     "16111f549c9244f7b129d0995f98cf01": {
      "model_module": "@jupyter-widgets/controls",
      "model_module_version": "1.2.0",
      "model_name": "SliderStyleModel",
      "state": {
       "description_width": ""
      }
     },
     "162019b4350f48ea82f8b3f0f0f85077": {
      "model_module": "@jupyter-widgets/base",
      "model_module_version": "1.0.0",
      "model_name": "LayoutModel",
      "state": {}
     },
     "172af993adff44a7b1bb781d558df610": {
      "model_module": "@jupyter-widgets/base",
      "model_module_version": "1.0.0",
      "model_name": "LayoutModel",
      "state": {}
     },
     "1732fa2eecd6456eb586d898c00c8c1c": {
      "model_module": "@jupyter-widgets/base",
      "model_module_version": "1.0.0",
      "model_name": "LayoutModel",
      "state": {}
     },
     "175b2eed097e4b05b3b623ee3295cd19": {
      "model_module": "@jupyter-widgets/controls",
      "model_module_version": "1.2.0",
      "model_name": "IntSliderModel",
      "state": {
       "description": "e",
       "layout": "IPY_MODEL_8398e7304bc244ebb278bbb2e1968083",
       "max": 500,
       "min": -500,
       "style": "IPY_MODEL_d62c9b780e284b658b2aa241be46d7fa",
       "value": 1
      }
     },
     "17e6b2e4fbf142e4894bd0a14b286b4b": {
      "model_module": "@jupyter-widgets/controls",
      "model_module_version": "1.2.0",
      "model_name": "VBoxModel",
      "state": {
       "_dom_classes": [
        "widget-interact"
       ],
       "children": [
        "IPY_MODEL_b644362dc2654d6fa1332d8dc7cda43f",
        "IPY_MODEL_0d015bae554b465eb62fa2871040ea09"
       ],
       "layout": "IPY_MODEL_353758046bbc40d49e56121892d945fd"
      }
     },
     "17fb8bf6a53141c3976df0f9191c1095": {
      "model_module": "@jupyter-widgets/base",
      "model_module_version": "1.0.0",
      "model_name": "LayoutModel",
      "state": {}
     },
     "184b5971d32744c88de5cd3b36578035": {
      "model_module": "@jupyter-widgets/base",
      "model_module_version": "1.0.0",
      "model_name": "LayoutModel",
      "state": {}
     },
     "185f3945c7e54303bd86f0c51b7cfda6": {
      "model_module": "@jupyter-widgets/base",
      "model_module_version": "1.0.0",
      "model_name": "LayoutModel",
      "state": {}
     },
     "1916055591a44f64b2503eb077a2d1c1": {
      "model_module": "@jupyter-widgets/base",
      "model_module_version": "1.0.0",
      "model_name": "LayoutModel",
      "state": {}
     },
     "19a8089d959e4f0db4712c9cca115c9c": {
      "model_module": "@jupyter-widgets/base",
      "model_module_version": "1.0.0",
      "model_name": "LayoutModel",
      "state": {}
     },
     "19be82226e4f445ab3ef97a830b75654": {
      "model_module": "@jupyter-widgets/base",
      "model_module_version": "1.0.0",
      "model_name": "LayoutModel",
      "state": {}
     },
     "1a3d45c2ba05427ca6425064e52792ee": {
      "model_module": "@jupyter-widgets/base",
      "model_module_version": "1.0.0",
      "model_name": "LayoutModel",
      "state": {}
     },
     "1b30451bd06f453ca7a8eed5a179ff2c": {
      "model_module": "@jupyter-widgets/controls",
      "model_module_version": "1.2.0",
      "model_name": "SliderStyleModel",
      "state": {
       "description_width": ""
      }
     },
     "1bc75d5a850e425bbf09ae6b691cc59c": {
      "model_module": "@jupyter-widgets/base",
      "model_module_version": "1.0.0",
      "model_name": "LayoutModel",
      "state": {}
     },
     "1d21a591c4a740458a4618a8ef259aad": {
      "model_module": "@jupyter-widgets/base",
      "model_module_version": "1.0.0",
      "model_name": "LayoutModel",
      "state": {}
     },
     "1e5ec888854e45359ae5f78a630ec51d": {
      "model_module": "@jupyter-widgets/base",
      "model_module_version": "1.0.0",
      "model_name": "LayoutModel",
      "state": {}
     },
     "1e6ab9b83ba5403fb0eec3c39062ab4e": {
      "model_module": "@jupyter-widgets/base",
      "model_module_version": "1.0.0",
      "model_name": "LayoutModel",
      "state": {}
     },
     "1eb5a2855bec45899d9a48560ae06991": {
      "model_module": "@jupyter-widgets/output",
      "model_module_version": "1.0.0",
      "model_name": "OutputModel",
      "state": {
       "layout": "IPY_MODEL_6110ab97f40d47a193acc58426983447"
      }
     },
     "1ee9271d7b0040fcae6f6e06de031ca1": {
      "model_module": "@jupyter-widgets/controls",
      "model_module_version": "1.2.0",
      "model_name": "VBoxModel",
      "state": {
       "_dom_classes": [
        "widget-interact"
       ],
       "children": [
        "IPY_MODEL_43882076ae064379873698cc46132fa0",
        "IPY_MODEL_a08d91265c434a0d82279eb4ca33459a"
       ],
       "layout": "IPY_MODEL_bd300ac71eaa4877afd14e7a6ef2074b"
      }
     },
     "1f2d277c00074393b4272d60db710ab1": {
      "model_module": "@jupyter-widgets/controls",
      "model_module_version": "1.2.0",
      "model_name": "SliderStyleModel",
      "state": {
       "description_width": ""
      }
     },
     "1f7d0e5acd4d4527ac31204b4cb3139f": {
      "model_module": "@jupyter-widgets/controls",
      "model_module_version": "1.2.0",
      "model_name": "IntSliderModel",
      "state": {
       "description": "e",
       "layout": "IPY_MODEL_b13cc44a8ddb4a278790341a57971efe",
       "max": 500,
       "min": -500,
       "style": "IPY_MODEL_9559ee2e95aa43a096905b8f61b9f600",
       "value": 1
      }
     },
     "206940dc2d7b47559b3732cf535e3b8a": {
      "model_module": "@jupyter-widgets/base",
      "model_module_version": "1.0.0",
      "model_name": "LayoutModel",
      "state": {}
     },
     "20ef44c8c8a74ad18774cd16f678d181": {
      "model_module": "@jupyter-widgets/controls",
      "model_module_version": "1.2.0",
      "model_name": "SliderStyleModel",
      "state": {
       "description_width": ""
      }
     },
     "20f5e5fbe312467d970a3d1b5af878f1": {
      "model_module": "@jupyter-widgets/controls",
      "model_module_version": "1.2.0",
      "model_name": "IntSliderModel",
      "state": {
       "description": "c",
       "layout": "IPY_MODEL_c7366668e6814cb08e967875f7223517",
       "max": 500,
       "min": -500,
       "style": "IPY_MODEL_411e7e187d784156955f356654015e9e",
       "value": 1
      }
     },
     "2196f9ac2506444fa08f3976ad9acba6": {
      "model_module": "@jupyter-widgets/base",
      "model_module_version": "1.0.0",
      "model_name": "LayoutModel",
      "state": {}
     },
     "223a82f5802b40dba8ff0cd2df5441a7": {
      "model_module": "@jupyter-widgets/base",
      "model_module_version": "1.0.0",
      "model_name": "LayoutModel",
      "state": {}
     },
     "23939df4b8034a0ab46fae8485a8c8a7": {
      "model_module": "@jupyter-widgets/output",
      "model_module_version": "1.0.0",
      "model_name": "OutputModel",
      "state": {
       "layout": "IPY_MODEL_420a83496a6f4b84a0c73dde6f98ca57"
      }
     },
     "242ba9b378f240139c07dda86ddaf0eb": {
      "model_module": "@jupyter-widgets/base",
      "model_module_version": "1.0.0",
      "model_name": "LayoutModel",
      "state": {}
     },
     "246b2e79a4374e4ebab65e804576a961": {
      "model_module": "@jupyter-widgets/base",
      "model_module_version": "1.0.0",
      "model_name": "LayoutModel",
      "state": {}
     },
     "24a7e7af0b8445e292e0da8b6e83b2ea": {
      "model_module": "@jupyter-widgets/controls",
      "model_module_version": "1.2.0",
      "model_name": "VBoxModel",
      "state": {
       "_dom_classes": [
        "widget-interact"
       ],
       "children": [
        "IPY_MODEL_2ec3c6a38b5343799ea86ea2fc2c25db",
        "IPY_MODEL_817d72a78e6c4b7cb401a339cfee2a29"
       ],
       "layout": "IPY_MODEL_184b5971d32744c88de5cd3b36578035"
      }
     },
     "24c49bf3f06445e8a3fab0f87e8da05c": {
      "model_module": "@jupyter-widgets/base",
      "model_module_version": "1.0.0",
      "model_name": "LayoutModel",
      "state": {}
     },
     "24f33a9f4ad34a84a7ba1eaec12d5ab7": {
      "model_module": "@jupyter-widgets/controls",
      "model_module_version": "1.2.0",
      "model_name": "VBoxModel",
      "state": {
       "_dom_classes": [
        "widget-interact"
       ],
       "children": [
        "IPY_MODEL_132d864e5b384718b99b788a5d4e324a",
        "IPY_MODEL_c506c77790504b6e871d6e06a28fbe86"
       ],
       "layout": "IPY_MODEL_9ca2ee5117154ece91e96284c19f2d8f"
      }
     },
     "2528d2ca0f9249278f4ed4387b449c59": {
      "model_module": "@jupyter-widgets/base",
      "model_module_version": "1.0.0",
      "model_name": "LayoutModel",
      "state": {}
     },
     "2587f45354424dc4a92bde4b2f242742": {
      "model_module": "@jupyter-widgets/controls",
      "model_module_version": "1.2.0",
      "model_name": "VBoxModel",
      "state": {
       "_dom_classes": [
        "widget-interact"
       ],
       "children": [
        "IPY_MODEL_269ae4a2c27f45cf8ab165236ff8a642",
        "IPY_MODEL_0f98774c0fab4ee8af9520d39db06b55"
       ],
       "layout": "IPY_MODEL_6ca09a27847540e081bba6dd5641507e"
      }
     },
     "2597dcf8a2ba4b0e8d63fc2bb131079d": {
      "model_module": "@jupyter-widgets/base",
      "model_module_version": "1.0.0",
      "model_name": "LayoutModel",
      "state": {}
     },
     "25fde21880b2420e9075620583b2aeaf": {
      "model_module": "@jupyter-widgets/base",
      "model_module_version": "1.0.0",
      "model_name": "LayoutModel",
      "state": {}
     },
     "264b2f4307594864af670e59c0d756cd": {
      "model_module": "@jupyter-widgets/output",
      "model_module_version": "1.0.0",
      "model_name": "OutputModel",
      "state": {
       "layout": "IPY_MODEL_133d1d3e43504bac8b0f524e32d8d0e2",
       "outputs": [
        {
         "ename": "TypeError",
         "evalue": "set_ydata() missing 1 required positional argument: 'y'",
         "output_type": "error",
         "traceback": [
          "\u001b[1;31m---------------------------------------------------------------------------\u001b[0m",
          "\u001b[1;31mTypeError\u001b[0m                                 Traceback (most recent call last)",
          "\u001b[1;32mD:\\AnacondaPython\\lib\\site-packages\\ipywidgets\\widgets\\interaction.py\u001b[0m in \u001b[0;36mupdate\u001b[1;34m(self, *args)\u001b[0m\n\u001b[0;32m    249\u001b[0m                     \u001b[0mvalue\u001b[0m \u001b[1;33m=\u001b[0m \u001b[0mwidget\u001b[0m\u001b[1;33m.\u001b[0m\u001b[0mget_interact_value\u001b[0m\u001b[1;33m(\u001b[0m\u001b[1;33m)\u001b[0m\u001b[1;33m\u001b[0m\u001b[0m\n\u001b[0;32m    250\u001b[0m                     \u001b[0mself\u001b[0m\u001b[1;33m.\u001b[0m\u001b[0mkwargs\u001b[0m\u001b[1;33m[\u001b[0m\u001b[0mwidget\u001b[0m\u001b[1;33m.\u001b[0m\u001b[0m_kwarg\u001b[0m\u001b[1;33m]\u001b[0m \u001b[1;33m=\u001b[0m \u001b[0mvalue\u001b[0m\u001b[1;33m\u001b[0m\u001b[0m\n\u001b[1;32m--> 251\u001b[1;33m                 \u001b[0mself\u001b[0m\u001b[1;33m.\u001b[0m\u001b[0mresult\u001b[0m \u001b[1;33m=\u001b[0m \u001b[0mself\u001b[0m\u001b[1;33m.\u001b[0m\u001b[0mf\u001b[0m\u001b[1;33m(\u001b[0m\u001b[1;33m**\u001b[0m\u001b[0mself\u001b[0m\u001b[1;33m.\u001b[0m\u001b[0mkwargs\u001b[0m\u001b[1;33m)\u001b[0m\u001b[1;33m\u001b[0m\u001b[0m\n\u001b[0m\u001b[0;32m    252\u001b[0m                 \u001b[0mshow_inline_matplotlib_plots\u001b[0m\u001b[1;33m(\u001b[0m\u001b[1;33m)\u001b[0m\u001b[1;33m\u001b[0m\u001b[0m\n\u001b[0;32m    253\u001b[0m                 \u001b[1;32mif\u001b[0m \u001b[0mself\u001b[0m\u001b[1;33m.\u001b[0m\u001b[0mauto_display\u001b[0m \u001b[1;32mand\u001b[0m \u001b[0mself\u001b[0m\u001b[1;33m.\u001b[0m\u001b[0mresult\u001b[0m \u001b[1;32mis\u001b[0m \u001b[1;32mnot\u001b[0m \u001b[1;32mNone\u001b[0m\u001b[1;33m:\u001b[0m\u001b[1;33m\u001b[0m\u001b[0m\n",
          "\u001b[1;32m<ipython-input-2-d64ec24182a8>\u001b[0m in \u001b[0;36mupdate\u001b[1;34m(c)\u001b[0m\n\u001b[0;32m     69\u001b[0m     \u001b[0mliney\u001b[0m\u001b[1;33m.\u001b[0m\u001b[0mset_ydata\u001b[0m\u001b[1;33m(\u001b[0m\u001b[0mb\u001b[0m \u001b[1;33m+\u001b[0m \u001b[0mc\u001b[0m\u001b[1;33m/\u001b[0m\u001b[1;33m(\u001b[0m\u001b[1;33m(\u001b[0m\u001b[0mnp\u001b[0m\u001b[1;33m.\u001b[0m\u001b[0mcosh\u001b[0m\u001b[1;33m(\u001b[0m\u001b[1;36m4\u001b[0m\u001b[1;33m*\u001b[0m\u001b[0mx\u001b[0m\u001b[1;33m)\u001b[0m\u001b[1;33m**\u001b[0m\u001b[1;36m2\u001b[0m\u001b[1;33m)\u001b[0m\u001b[1;33m)\u001b[0m \u001b[1;33m-\u001b[0m \u001b[0mc\u001b[0m\u001b[1;33m/\u001b[0m\u001b[1;33m(\u001b[0m\u001b[1;33m(\u001b[0m\u001b[0mnp\u001b[0m\u001b[1;33m.\u001b[0m\u001b[0mcosh\u001b[0m\u001b[1;33m(\u001b[0m\u001b[1;36m4\u001b[0m\u001b[1;33m)\u001b[0m\u001b[1;33m**\u001b[0m\u001b[1;36m2\u001b[0m\u001b[1;33m)\u001b[0m\u001b[1;33m)\u001b[0m\u001b[1;33m)\u001b[0m\u001b[1;33m\u001b[0m\u001b[0m\n\u001b[0;32m     70\u001b[0m \u001b[1;33m\u001b[0m\u001b[0m\n\u001b[1;32m---> 71\u001b[1;33m     \u001b[0mlinee\u001b[0m\u001b[1;33m.\u001b[0m\u001b[0mset_ydata\u001b[0m\u001b[1;33m(\u001b[0m\u001b[1;33m)\u001b[0m\u001b[1;33m\u001b[0m\u001b[0m\n\u001b[0m\u001b[0;32m     72\u001b[0m     \u001b[0mfig\u001b[0m\u001b[1;33m.\u001b[0m\u001b[0mcanvas\u001b[0m\u001b[1;33m.\u001b[0m\u001b[0mdraw\u001b[0m\u001b[1;33m(\u001b[0m\u001b[1;33m)\u001b[0m\u001b[1;33m\u001b[0m\u001b[0m\n\u001b[0;32m     73\u001b[0m \u001b[1;33m\u001b[0m\u001b[0m\n",
          "\u001b[1;31mTypeError\u001b[0m: set_ydata() missing 1 required positional argument: 'y'"
         ]
        }
       ]
      }
     },
     "269ae4a2c27f45cf8ab165236ff8a642": {
      "model_module": "@jupyter-widgets/controls",
      "model_module_version": "1.2.0",
      "model_name": "IntSliderModel",
      "state": {
       "description": "c",
       "layout": "IPY_MODEL_47d2b7b8329748a5ac0c6273c2fa39de",
       "max": 500,
       "min": -500,
       "style": "IPY_MODEL_c3ccaad2c2d24a5fb11c2aa9e2d7e072",
       "value": 1
      }
     },
     "269e854f90fa4a2392eee06361b0d36a": {
      "model_module": "@jupyter-widgets/controls",
      "model_module_version": "1.2.0",
      "model_name": "SliderStyleModel",
      "state": {
       "description_width": ""
      }
     },
     "2780aedec4f14aa78e4dc76efe620e78": {
      "model_module": "@jupyter-widgets/controls",
      "model_module_version": "1.2.0",
      "model_name": "VBoxModel",
      "state": {
       "_dom_classes": [
        "widget-interact"
       ],
       "children": [
        "IPY_MODEL_895701d73dba4ba188e6235c6a125c62",
        "IPY_MODEL_1eb5a2855bec45899d9a48560ae06991"
       ],
       "layout": "IPY_MODEL_9fd6467443cb410d875d2482a2960645"
      }
     },
     "2839e77885e04a1d8bec65a8efbf54a4": {
      "model_module": "@jupyter-widgets/base",
      "model_module_version": "1.0.0",
      "model_name": "LayoutModel",
      "state": {}
     },
     "290df0c9bb064406a82cc34beef7dcdd": {
      "model_module": "@jupyter-widgets/base",
      "model_module_version": "1.0.0",
      "model_name": "LayoutModel",
      "state": {}
     },
     "29861857e78f4afa8426779ce83208a6": {
      "model_module": "@jupyter-widgets/controls",
      "model_module_version": "1.2.0",
      "model_name": "IntSliderModel",
      "state": {
       "description": "c",
       "layout": "IPY_MODEL_7057f3ea967c4c3fb60ce15af6a8fd17",
       "max": 500,
       "min": -500,
       "style": "IPY_MODEL_36a856a7f4b04c7aafb7fc1f26a4e0c5",
       "value": 1
      }
     },
     "2a654100fa134e9c8f56b81d83df0cff": {
      "model_module": "@jupyter-widgets/base",
      "model_module_version": "1.0.0",
      "model_name": "LayoutModel",
      "state": {}
     },
     "2a6f862c85554c36b16130c114d193fe": {
      "model_module": "@jupyter-widgets/controls",
      "model_module_version": "1.2.0",
      "model_name": "IntSliderModel",
      "state": {
       "description": "c",
       "layout": "IPY_MODEL_82ad689648024cabb18cac5253eeae0d",
       "max": 500,
       "min": -500,
       "style": "IPY_MODEL_50a6fe495bd34f2ea3ae278f8c2f659b",
       "value": 1
      }
     },
     "2abe5acb0333415e806d7e5a760710ca": {
      "model_module": "@jupyter-widgets/controls",
      "model_module_version": "1.2.0",
      "model_name": "SliderStyleModel",
      "state": {
       "description_width": ""
      }
     },
     "2ac7f39c9db9430e8dc05f7612a7c9c7": {
      "model_module": "@jupyter-widgets/base",
      "model_module_version": "1.0.0",
      "model_name": "LayoutModel",
      "state": {}
     },
     "2b40f1f7b70b4f3087173b7459c05715": {
      "model_module": "@jupyter-widgets/controls",
      "model_module_version": "1.2.0",
      "model_name": "IntSliderModel",
      "state": {
       "description": "c",
       "layout": "IPY_MODEL_32942460f39f4efe87e2aad80964c055",
       "max": 500,
       "min": -500,
       "style": "IPY_MODEL_aebe1156d20049f7885e3c089cb66242",
       "value": 20
      }
     },
     "2b8d19d5008640dd915753e98b2eb1e3": {
      "model_module": "@jupyter-widgets/base",
      "model_module_version": "1.0.0",
      "model_name": "LayoutModel",
      "state": {}
     },
     "2c50029d01b048c39a6ec7c05be5a725": {
      "model_module": "@jupyter-widgets/controls",
      "model_module_version": "1.2.0",
      "model_name": "IntSliderModel",
      "state": {
       "description": "c",
       "layout": "IPY_MODEL_55351d6c51c144ffa14d42e72b32bbd3",
       "max": 500,
       "min": -500,
       "style": "IPY_MODEL_9e666fe22e294907830c00f69de47ce2",
       "value": -145
      }
     },
     "2d7a38aa7ad84d82aa1d257aeaa5ef0f": {
      "model_module": "@jupyter-widgets/controls",
      "model_module_version": "1.2.0",
      "model_name": "SliderStyleModel",
      "state": {
       "description_width": ""
      }
     },
     "2dc0693ee845489c8b23f989be3ab5ad": {
      "model_module": "@jupyter-widgets/output",
      "model_module_version": "1.0.0",
      "model_name": "OutputModel",
      "state": {
       "layout": "IPY_MODEL_7f0b25ae1c204b7cb89fe7e3b7baed0f"
      }
     },
     "2e21b8af2cb1403a84cf220819808678": {
      "model_module": "@jupyter-widgets/base",
      "model_module_version": "1.0.0",
      "model_name": "LayoutModel",
      "state": {}
     },
     "2e5553d675cb41259447ea360820c694": {
      "model_module": "@jupyter-widgets/output",
      "model_module_version": "1.0.0",
      "model_name": "OutputModel",
      "state": {
       "layout": "IPY_MODEL_70189e6ccec540748af3f2ee08ca29d3"
      }
     },
     "2ec3c6a38b5343799ea86ea2fc2c25db": {
      "model_module": "@jupyter-widgets/controls",
      "model_module_version": "1.2.0",
      "model_name": "IntSliderModel",
      "state": {
       "description": "c",
       "layout": "IPY_MODEL_f89b5c6328bd4965ac905edc027fc09a",
       "max": 500,
       "min": -500,
       "style": "IPY_MODEL_82da8be043a34736bb8027f1c124bec1",
       "value": 4
      }
     },
     "2f6c83331aeb4f7a8c1672eca66774d7": {
      "model_module": "@jupyter-widgets/controls",
      "model_module_version": "1.2.0",
      "model_name": "VBoxModel",
      "state": {
       "_dom_classes": [
        "widget-interact"
       ],
       "children": [
        "IPY_MODEL_940701cdfa564f2187569ccae5f960a6",
        "IPY_MODEL_feb8bd5e849f485ba1ad6c88f0759fe4"
       ],
       "layout": "IPY_MODEL_e001c408262648729da727279922a7f8"
      }
     },
     "2f7000cea17843bba54dfbcd53bf3d15": {
      "model_module": "@jupyter-widgets/base",
      "model_module_version": "1.0.0",
      "model_name": "LayoutModel",
      "state": {}
     },
     "2fa1c4a055544c29ab10705f6e3a02b8": {
      "model_module": "@jupyter-widgets/base",
      "model_module_version": "1.0.0",
      "model_name": "LayoutModel",
      "state": {}
     },
     "3035c17255b943de91f99ba23f23fb17": {
      "model_module": "@jupyter-widgets/controls",
      "model_module_version": "1.2.0",
      "model_name": "VBoxModel",
      "state": {
       "_dom_classes": [
        "widget-interact"
       ],
       "children": [
        "IPY_MODEL_097d4b8c44b04176b78c183564aa9d83",
        "IPY_MODEL_ee94896624704b4eb8f490339a4cb78e"
       ],
       "layout": "IPY_MODEL_c0fc65fc6cd34b6589899d918de213ab"
      }
     },
     "30a128b30e6142e4b1954572dc7d1941": {
      "model_module": "@jupyter-widgets/base",
      "model_module_version": "1.0.0",
      "model_name": "LayoutModel",
      "state": {}
     },
     "30b60c3635b24f0bae845c0328e8750d": {
      "model_module": "@jupyter-widgets/base",
      "model_module_version": "1.0.0",
      "model_name": "LayoutModel",
      "state": {}
     },
     "323ca638b61d4ecba65d26b98a5945a9": {
      "model_module": "@jupyter-widgets/controls",
      "model_module_version": "1.2.0",
      "model_name": "VBoxModel",
      "state": {
       "_dom_classes": [
        "widget-interact"
       ],
       "children": [
        "IPY_MODEL_2b40f1f7b70b4f3087173b7459c05715",
        "IPY_MODEL_5f8307b86656460a8b340a2887ae7459"
       ],
       "layout": "IPY_MODEL_290df0c9bb064406a82cc34beef7dcdd"
      }
     },
     "328b447489f04c319337a9569bd52cf8": {
      "model_module": "@jupyter-widgets/controls",
      "model_module_version": "1.2.0",
      "model_name": "VBoxModel",
      "state": {
       "_dom_classes": [
        "widget-interact"
       ],
       "children": [
        "IPY_MODEL_bef97a16c39444edbc33bd65ccec07c1",
        "IPY_MODEL_23939df4b8034a0ab46fae8485a8c8a7"
       ],
       "layout": "IPY_MODEL_3bc5c1fd00f446a5bc2e78a7e19d44ba"
      }
     },
     "32942460f39f4efe87e2aad80964c055": {
      "model_module": "@jupyter-widgets/base",
      "model_module_version": "1.0.0",
      "model_name": "LayoutModel",
      "state": {}
     },
     "3328c20a5ca442bbb5a8cb960505eb57": {
      "model_module": "@jupyter-widgets/output",
      "model_module_version": "1.0.0",
      "model_name": "OutputModel",
      "state": {
       "layout": "IPY_MODEL_35607857f9264390a08768b14310d36f"
      }
     },
     "33bb8756854e4ec9a9bdec904cbf9a4a": {
      "model_module": "@jupyter-widgets/controls",
      "model_module_version": "1.2.0",
      "model_name": "VBoxModel",
      "state": {
       "_dom_classes": [
        "widget-interact"
       ],
       "children": [
        "IPY_MODEL_0d69ca4683924ac78325a81fdf20b7d8",
        "IPY_MODEL_ac421deeaf8e40ac86059a107f33de97"
       ],
       "layout": "IPY_MODEL_6fa97162717944bf98a8f589971193ff"
      }
     },
     "3403f409f3f245a2925948f1446410ee": {
      "model_module": "@jupyter-widgets/base",
      "model_module_version": "1.0.0",
      "model_name": "LayoutModel",
      "state": {}
     },
     "343fa21381464e88927b4702c67f9ca5": {
      "model_module": "@jupyter-widgets/controls",
      "model_module_version": "1.2.0",
      "model_name": "SliderStyleModel",
      "state": {
       "description_width": ""
      }
     },
     "344742ff35624d73a6b182a211e38546": {
      "model_module": "@jupyter-widgets/controls",
      "model_module_version": "1.2.0",
      "model_name": "IntSliderModel",
      "state": {
       "description": "c",
       "layout": "IPY_MODEL_0b606699805640b3b9050be70fba8e44",
       "max": 500,
       "min": -500,
       "style": "IPY_MODEL_c40d945e10744600abf5e0d8ae34bc9e",
       "value": 1
      }
     },
     "3463c92731ee44a2bb3b003484754158": {
      "model_module": "@jupyter-widgets/base",
      "model_module_version": "1.0.0",
      "model_name": "LayoutModel",
      "state": {}
     },
     "3474913c2b064d68a483e5647faa9668": {
      "model_module": "@jupyter-widgets/base",
      "model_module_version": "1.0.0",
      "model_name": "LayoutModel",
      "state": {}
     },
     "3526f43d71184faa85b07d4f93b85d4e": {
      "model_module": "@jupyter-widgets/controls",
      "model_module_version": "1.2.0",
      "model_name": "SliderStyleModel",
      "state": {
       "description_width": ""
      }
     },
     "353758046bbc40d49e56121892d945fd": {
      "model_module": "@jupyter-widgets/base",
      "model_module_version": "1.0.0",
      "model_name": "LayoutModel",
      "state": {}
     },
     "35607857f9264390a08768b14310d36f": {
      "model_module": "@jupyter-widgets/base",
      "model_module_version": "1.0.0",
      "model_name": "LayoutModel",
      "state": {}
     },
     "358af3966ae64499a0cef1d86c549dd4": {
      "model_module": "@jupyter-widgets/base",
      "model_module_version": "1.0.0",
      "model_name": "LayoutModel",
      "state": {}
     },
     "36869dae16f248d8b110d33efedcfe7b": {
      "model_module": "@jupyter-widgets/controls",
      "model_module_version": "1.2.0",
      "model_name": "IntSliderModel",
      "state": {
       "description": "c",
       "layout": "IPY_MODEL_19a8089d959e4f0db4712c9cca115c9c",
       "max": 500,
       "min": -500,
       "style": "IPY_MODEL_96f4b3aef2bd447a982c1a6a42cf7949",
       "value": 1
      }
     },
     "36a856a7f4b04c7aafb7fc1f26a4e0c5": {
      "model_module": "@jupyter-widgets/controls",
      "model_module_version": "1.2.0",
      "model_name": "SliderStyleModel",
      "state": {
       "description_width": ""
      }
     },
     "36b1345f624b422eba08f4f4fa850a1a": {
      "model_module": "@jupyter-widgets/output",
      "model_module_version": "1.0.0",
      "model_name": "OutputModel",
      "state": {
       "layout": "IPY_MODEL_58b2d3f5308e4961ba8204db3a023bcb"
      }
     },
     "36bd56b113d64c6697e8b74bbdcf3966": {
      "model_module": "@jupyter-widgets/controls",
      "model_module_version": "1.2.0",
      "model_name": "VBoxModel",
      "state": {
       "_dom_classes": [
        "widget-interact"
       ],
       "children": [
        "IPY_MODEL_457a5231545747208d323601d16394ae",
        "IPY_MODEL_b9997fe3919d4ec4b127d25aeb921abb"
       ],
       "layout": "IPY_MODEL_19be82226e4f445ab3ef97a830b75654"
      }
     },
     "372af10d445a4402b95c0732cd0c887f": {
      "model_module": "@jupyter-widgets/base",
      "model_module_version": "1.0.0",
      "model_name": "LayoutModel",
      "state": {}
     },
     "378413cb77574d90865581fb69fd4d42": {
      "model_module": "@jupyter-widgets/output",
      "model_module_version": "1.0.0",
      "model_name": "OutputModel",
      "state": {
       "layout": "IPY_MODEL_f7072786f71e4d14ac44a3076f87b6c5",
       "outputs": [
        {
         "data": {
          "image/png": "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\n",
          "text/plain": "<Figure size 432x288 with 1 Axes>"
         },
         "metadata": {},
         "output_type": "display_data"
        }
       ]
      }
     },
     "393ea25bf2aa4e5e90c5a3fd021bbd06": {
      "model_module": "@jupyter-widgets/controls",
      "model_module_version": "1.2.0",
      "model_name": "IntSliderModel",
      "state": {
       "description": "d",
       "layout": "IPY_MODEL_fc6cc5c8e6594727a32eb68100d35cc5",
       "max": 500,
       "min": -500,
       "style": "IPY_MODEL_4cdef48f4e9141168a848a9b2d28c9cc",
       "value": -500
      }
     },
     "39a5bf05be8b493a891690b64eceeaa9": {
      "model_module": "@jupyter-widgets/controls",
      "model_module_version": "1.2.0",
      "model_name": "IntSliderModel",
      "state": {
       "description": "c",
       "layout": "IPY_MODEL_14afe80a145b46c18fac694b2535429e",
       "max": 500,
       "min": -500,
       "style": "IPY_MODEL_6b5c8e81705b4512b9b642d970da266f",
       "value": -500
      }
     },
     "3a7ec279ddeb491197f6ee2d1a3cb510": {
      "model_module": "@jupyter-widgets/base",
      "model_module_version": "1.0.0",
      "model_name": "LayoutModel",
      "state": {}
     },
     "3b55dcee58354b479dc90c2ab13c9ff3": {
      "model_module": "@jupyter-widgets/base",
      "model_module_version": "1.0.0",
      "model_name": "LayoutModel",
      "state": {}
     },
     "3b7356d085b44e47ad8adff2974a01c0": {
      "model_module": "@jupyter-widgets/base",
      "model_module_version": "1.0.0",
      "model_name": "LayoutModel",
      "state": {}
     },
     "3bc5c1fd00f446a5bc2e78a7e19d44ba": {
      "model_module": "@jupyter-widgets/base",
      "model_module_version": "1.0.0",
      "model_name": "LayoutModel",
      "state": {}
     },
     "3c5c5925991b4f70b475df9547bb1e45": {
      "model_module": "@jupyter-widgets/base",
      "model_module_version": "1.0.0",
      "model_name": "LayoutModel",
      "state": {}
     },
     "3cb991f1ff794046a95c2473f8dbb850": {
      "model_module": "@jupyter-widgets/base",
      "model_module_version": "1.0.0",
      "model_name": "LayoutModel",
      "state": {}
     },
     "3d3cca1643894429bc8ced7be705947a": {
      "model_module": "@jupyter-widgets/controls",
      "model_module_version": "1.2.0",
      "model_name": "VBoxModel",
      "state": {
       "_dom_classes": [
        "widget-interact"
       ],
       "children": [
        "IPY_MODEL_ef74debe2b584aa4ac25d9dd51f8f595",
        "IPY_MODEL_4c5c9b05efc74650a721c72db668ed31"
       ],
       "layout": "IPY_MODEL_ea5bbb1eb0584b548ef90492810ed79f"
      }
     },
     "3e7835ab22fa4720aac2f418b814a46b": {
      "model_module": "@jupyter-widgets/base",
      "model_module_version": "1.0.0",
      "model_name": "LayoutModel",
      "state": {}
     },
     "3e81ec0c4f5c493dafba94e92c751dc7": {
      "model_module": "@jupyter-widgets/controls",
      "model_module_version": "1.2.0",
      "model_name": "VBoxModel",
      "state": {
       "_dom_classes": [
        "widget-interact"
       ],
       "children": [
        "IPY_MODEL_1f7d0e5acd4d4527ac31204b4cb3139f",
        "IPY_MODEL_a6c7480757a243cb924eda8de038e325"
       ],
       "layout": "IPY_MODEL_91c52be041ef4382b84e7c866db70829"
      }
     },
     "3ee4866cf1dc4b7d850908f55c40efae": {
      "model_module": "@jupyter-widgets/output",
      "model_module_version": "1.0.0",
      "model_name": "OutputModel",
      "state": {
       "layout": "IPY_MODEL_ae0f2e4090f549acb67cf1e46a5b5cd1"
      }
     },
     "3eee6dee7c834b01a223fa43962d855f": {
      "model_module": "@jupyter-widgets/base",
      "model_module_version": "1.0.0",
      "model_name": "LayoutModel",
      "state": {}
     },
     "3f13440232ae4dcd9e0c7deb7fde6b37": {
      "model_module": "@jupyter-widgets/output",
      "model_module_version": "1.0.0",
      "model_name": "OutputModel",
      "state": {
       "layout": "IPY_MODEL_372af10d445a4402b95c0732cd0c887f"
      }
     },
     "3f374b997ecf452ab6ff97121021c724": {
      "model_module": "@jupyter-widgets/base",
      "model_module_version": "1.0.0",
      "model_name": "LayoutModel",
      "state": {}
     },
     "3fc85b3e63844186a4b99fe74a91936d": {
      "model_module": "@jupyter-widgets/controls",
      "model_module_version": "1.2.0",
      "model_name": "IntSliderModel",
      "state": {
       "description": "e",
       "layout": "IPY_MODEL_646f9f9ac18040e29e75d9c6f26e61f1",
       "max": 500,
       "min": -500,
       "style": "IPY_MODEL_863f720dc314413b98506dfdcf5fe33a",
       "value": -102
      }
     },
     "40461ee8a2ed4bb7a5a8bf9c7921213e": {
      "model_module": "@jupyter-widgets/base",
      "model_module_version": "1.0.0",
      "model_name": "LayoutModel",
      "state": {}
     },
     "411e7e187d784156955f356654015e9e": {
      "model_module": "@jupyter-widgets/controls",
      "model_module_version": "1.2.0",
      "model_name": "SliderStyleModel",
      "state": {
       "description_width": ""
      }
     },
     "41992c51316b44c39b8027dee885bd2c": {
      "model_module": "@jupyter-widgets/base",
      "model_module_version": "1.0.0",
      "model_name": "LayoutModel",
      "state": {}
     },
     "41b0b76fde274c6b8ff2fe3d36ee7df7": {
      "model_module": "@jupyter-widgets/controls",
      "model_module_version": "1.2.0",
      "model_name": "SliderStyleModel",
      "state": {
       "description_width": ""
      }
     },
     "41b1d827acc34c48b92b364dc13d99cd": {
      "model_module": "@jupyter-widgets/controls",
      "model_module_version": "1.2.0",
      "model_name": "VBoxModel",
      "state": {
       "_dom_classes": [
        "widget-interact"
       ],
       "children": [
        "IPY_MODEL_717eb8fa39594eb7bd6d4f6f67ca8a97",
        "IPY_MODEL_9ab50eff392d44e1a1326cc06441e461"
       ],
       "layout": "IPY_MODEL_84c65c250d02459ea99372b041b2e341"
      }
     },
     "41bf871f9e384024b7d69638fe405550": {
      "model_module": "@jupyter-widgets/output",
      "model_module_version": "1.0.0",
      "model_name": "OutputModel",
      "state": {
       "layout": "IPY_MODEL_b1cbb08d8cff4213a8bb3eaf1739f8bb"
      }
     },
     "41e1da0fff264f7eb09dde83920ceea0": {
      "model_module": "@jupyter-widgets/output",
      "model_module_version": "1.0.0",
      "model_name": "OutputModel",
      "state": {
       "layout": "IPY_MODEL_92a745f8491746129e7f4872898fa571",
       "outputs": [
        {
         "ename": "TypeError",
         "evalue": "set_ydata() missing 1 required positional argument: 'y'",
         "output_type": "error",
         "traceback": [
          "\u001b[1;31m---------------------------------------------------------------------------\u001b[0m",
          "\u001b[1;31mTypeError\u001b[0m                                 Traceback (most recent call last)",
          "\u001b[1;32mD:\\AnacondaPython\\lib\\site-packages\\ipywidgets\\widgets\\interaction.py\u001b[0m in \u001b[0;36mupdate\u001b[1;34m(self, *args)\u001b[0m\n\u001b[0;32m    249\u001b[0m                     \u001b[0mvalue\u001b[0m \u001b[1;33m=\u001b[0m \u001b[0mwidget\u001b[0m\u001b[1;33m.\u001b[0m\u001b[0mget_interact_value\u001b[0m\u001b[1;33m(\u001b[0m\u001b[1;33m)\u001b[0m\u001b[1;33m\u001b[0m\u001b[0m\n\u001b[0;32m    250\u001b[0m                     \u001b[0mself\u001b[0m\u001b[1;33m.\u001b[0m\u001b[0mkwargs\u001b[0m\u001b[1;33m[\u001b[0m\u001b[0mwidget\u001b[0m\u001b[1;33m.\u001b[0m\u001b[0m_kwarg\u001b[0m\u001b[1;33m]\u001b[0m \u001b[1;33m=\u001b[0m \u001b[0mvalue\u001b[0m\u001b[1;33m\u001b[0m\u001b[0m\n\u001b[1;32m--> 251\u001b[1;33m                 \u001b[0mself\u001b[0m\u001b[1;33m.\u001b[0m\u001b[0mresult\u001b[0m \u001b[1;33m=\u001b[0m \u001b[0mself\u001b[0m\u001b[1;33m.\u001b[0m\u001b[0mf\u001b[0m\u001b[1;33m(\u001b[0m\u001b[1;33m**\u001b[0m\u001b[0mself\u001b[0m\u001b[1;33m.\u001b[0m\u001b[0mkwargs\u001b[0m\u001b[1;33m)\u001b[0m\u001b[1;33m\u001b[0m\u001b[0m\n\u001b[0m\u001b[0;32m    252\u001b[0m                 \u001b[0mshow_inline_matplotlib_plots\u001b[0m\u001b[1;33m(\u001b[0m\u001b[1;33m)\u001b[0m\u001b[1;33m\u001b[0m\u001b[0m\n\u001b[0;32m    253\u001b[0m                 \u001b[1;32mif\u001b[0m \u001b[0mself\u001b[0m\u001b[1;33m.\u001b[0m\u001b[0mauto_display\u001b[0m \u001b[1;32mand\u001b[0m \u001b[0mself\u001b[0m\u001b[1;33m.\u001b[0m\u001b[0mresult\u001b[0m \u001b[1;32mis\u001b[0m \u001b[1;32mnot\u001b[0m \u001b[1;32mNone\u001b[0m\u001b[1;33m:\u001b[0m\u001b[1;33m\u001b[0m\u001b[0m\n",
          "\u001b[1;32m<ipython-input-1-d64ec24182a8>\u001b[0m in \u001b[0;36mupdate\u001b[1;34m(c)\u001b[0m\n\u001b[0;32m     69\u001b[0m     \u001b[0mliney\u001b[0m\u001b[1;33m.\u001b[0m\u001b[0mset_ydata\u001b[0m\u001b[1;33m(\u001b[0m\u001b[0mb\u001b[0m \u001b[1;33m+\u001b[0m \u001b[0mc\u001b[0m\u001b[1;33m/\u001b[0m\u001b[1;33m(\u001b[0m\u001b[1;33m(\u001b[0m\u001b[0mnp\u001b[0m\u001b[1;33m.\u001b[0m\u001b[0mcosh\u001b[0m\u001b[1;33m(\u001b[0m\u001b[1;36m4\u001b[0m\u001b[1;33m*\u001b[0m\u001b[0mx\u001b[0m\u001b[1;33m)\u001b[0m\u001b[1;33m**\u001b[0m\u001b[1;36m2\u001b[0m\u001b[1;33m)\u001b[0m\u001b[1;33m)\u001b[0m \u001b[1;33m-\u001b[0m \u001b[0mc\u001b[0m\u001b[1;33m/\u001b[0m\u001b[1;33m(\u001b[0m\u001b[1;33m(\u001b[0m\u001b[0mnp\u001b[0m\u001b[1;33m.\u001b[0m\u001b[0mcosh\u001b[0m\u001b[1;33m(\u001b[0m\u001b[1;36m4\u001b[0m\u001b[1;33m)\u001b[0m\u001b[1;33m**\u001b[0m\u001b[1;36m2\u001b[0m\u001b[1;33m)\u001b[0m\u001b[1;33m)\u001b[0m\u001b[1;33m)\u001b[0m\u001b[1;33m\u001b[0m\u001b[0m\n\u001b[0;32m     70\u001b[0m \u001b[1;33m\u001b[0m\u001b[0m\n\u001b[1;32m---> 71\u001b[1;33m     \u001b[0mlinee\u001b[0m\u001b[1;33m.\u001b[0m\u001b[0mset_ydata\u001b[0m\u001b[1;33m(\u001b[0m\u001b[1;33m)\u001b[0m\u001b[1;33m\u001b[0m\u001b[0m\n\u001b[0m\u001b[0;32m     72\u001b[0m     \u001b[0mfig\u001b[0m\u001b[1;33m.\u001b[0m\u001b[0mcanvas\u001b[0m\u001b[1;33m.\u001b[0m\u001b[0mdraw\u001b[0m\u001b[1;33m(\u001b[0m\u001b[1;33m)\u001b[0m\u001b[1;33m\u001b[0m\u001b[0m\n\u001b[0;32m     73\u001b[0m \u001b[1;33m\u001b[0m\u001b[0m\n",
          "\u001b[1;31mTypeError\u001b[0m: set_ydata() missing 1 required positional argument: 'y'"
         ]
        }
       ]
      }
     },
     "420a83496a6f4b84a0c73dde6f98ca57": {
      "model_module": "@jupyter-widgets/base",
      "model_module_version": "1.0.0",
      "model_name": "LayoutModel",
      "state": {}
     },
     "4265e6c4347d41f989302a405875286c": {
      "model_module": "@jupyter-widgets/base",
      "model_module_version": "1.0.0",
      "model_name": "LayoutModel",
      "state": {}
     },
     "42b6ede9829441babd2e799d4c2b3dc3": {
      "model_module": "@jupyter-widgets/controls",
      "model_module_version": "1.2.0",
      "model_name": "VBoxModel",
      "state": {
       "_dom_classes": [
        "widget-interact"
       ],
       "children": [
        "IPY_MODEL_f804b2c94ea84b9ba4cca23124f0a3af",
        "IPY_MODEL_36b1345f624b422eba08f4f4fa850a1a"
       ],
       "layout": "IPY_MODEL_0ba64ad8dec54c4ab864c23d85291f34"
      }
     },
     "42d7d21b8c274377bb8ea90ea8a18164": {
      "model_module": "@jupyter-widgets/base",
      "model_module_version": "1.0.0",
      "model_name": "LayoutModel",
      "state": {}
     },
     "43288f69ba994b018bcfd85bbd95d776": {
      "model_module": "@jupyter-widgets/controls",
      "model_module_version": "1.2.0",
      "model_name": "VBoxModel",
      "state": {
       "_dom_classes": [
        "widget-interact"
       ],
       "children": [
        "IPY_MODEL_5e005e9c4cde4f308348397153b4036e",
        "IPY_MODEL_a8378100da5143ec82a215a86a7ebb52"
       ],
       "layout": "IPY_MODEL_59d1c049d84141c2bebca9a4b82464fc"
      }
     },
     "435b3181dd214a33b95de5e8fe5998c7": {
      "model_module": "@jupyter-widgets/base",
      "model_module_version": "1.0.0",
      "model_name": "LayoutModel",
      "state": {}
     },
     "43882076ae064379873698cc46132fa0": {
      "model_module": "@jupyter-widgets/controls",
      "model_module_version": "1.2.0",
      "model_name": "IntSliderModel",
      "state": {
       "description": "c",
       "layout": "IPY_MODEL_a80f9eafb38d43ebb96138dbd8844ac7",
       "max": 500,
       "min": -500,
       "style": "IPY_MODEL_8c849d143503457b9c60c3d674a65961",
       "value": 44
      }
     },
     "43f05a7289ff4614832b94e46f00159e": {
      "model_module": "@jupyter-widgets/base",
      "model_module_version": "1.0.0",
      "model_name": "LayoutModel",
      "state": {}
     },
     "44c45aec4c9a4daa9026cde161ecc9fb": {
      "model_module": "@jupyter-widgets/base",
      "model_module_version": "1.0.0",
      "model_name": "LayoutModel",
      "state": {}
     },
     "453d9c6e9ceb41b18c313d476314ede1": {
      "model_module": "@jupyter-widgets/base",
      "model_module_version": "1.0.0",
      "model_name": "LayoutModel",
      "state": {}
     },
     "457a5231545747208d323601d16394ae": {
      "model_module": "@jupyter-widgets/controls",
      "model_module_version": "1.2.0",
      "model_name": "IntSliderModel",
      "state": {
       "description": "c",
       "layout": "IPY_MODEL_70a408155fe04776a165aa47aa28827a",
       "max": 500,
       "min": -500,
       "style": "IPY_MODEL_88686502ee3f44659f78293536e52f5a",
       "value": 1
      }
     },
     "45b7269a1bd04aa68d79f40b0eea2917": {
      "model_module": "@jupyter-widgets/controls",
      "model_module_version": "1.2.0",
      "model_name": "IntSliderModel",
      "state": {
       "description": "c",
       "layout": "IPY_MODEL_ab8a823d17df4e21a40a3ab693815232",
       "max": 500,
       "min": -500,
       "style": "IPY_MODEL_fb00e5a6a2784ca5afd655b2e4e99ff1",
       "value": 85
      }
     },
     "469996c5682046eca09a811e027689ad": {
      "model_module": "@jupyter-widgets/base",
      "model_module_version": "1.0.0",
      "model_name": "LayoutModel",
      "state": {}
     },
     "4778959e44a34f09beebe1599e365a4d": {
      "model_module": "@jupyter-widgets/base",
      "model_module_version": "1.0.0",
      "model_name": "LayoutModel",
      "state": {}
     },
     "47d2b7b8329748a5ac0c6273c2fa39de": {
      "model_module": "@jupyter-widgets/base",
      "model_module_version": "1.0.0",
      "model_name": "LayoutModel",
      "state": {}
     },
     "487247b0531d4859a6cc456db4ad7843": {
      "model_module": "@jupyter-widgets/base",
      "model_module_version": "1.0.0",
      "model_name": "LayoutModel",
      "state": {}
     },
     "488fe3145ba047c4b45c9aaa72cec3b0": {
      "model_module": "@jupyter-widgets/output",
      "model_module_version": "1.0.0",
      "model_name": "OutputModel",
      "state": {
       "layout": "IPY_MODEL_e65453d36c52497eb1055ad205ffd3e1"
      }
     },
     "498f731a539d4d8cae742be242134260": {
      "model_module": "@jupyter-widgets/base",
      "model_module_version": "1.0.0",
      "model_name": "LayoutModel",
      "state": {}
     },
     "4a97e0939c9245ff8a2ad0862df8d3f6": {
      "model_module": "@jupyter-widgets/controls",
      "model_module_version": "1.2.0",
      "model_name": "SliderStyleModel",
      "state": {
       "description_width": ""
      }
     },
     "4c41f0ed0ab64313a4d0913ce6caf2c6": {
      "model_module": "@jupyter-widgets/base",
      "model_module_version": "1.0.0",
      "model_name": "LayoutModel",
      "state": {}
     },
     "4c5c9b05efc74650a721c72db668ed31": {
      "model_module": "@jupyter-widgets/output",
      "model_module_version": "1.0.0",
      "model_name": "OutputModel",
      "state": {
       "layout": "IPY_MODEL_7a306233f2dd4959b4801605788a63e0"
      }
     },
     "4cdef48f4e9141168a848a9b2d28c9cc": {
      "model_module": "@jupyter-widgets/controls",
      "model_module_version": "1.2.0",
      "model_name": "SliderStyleModel",
      "state": {
       "description_width": ""
      }
     },
     "4e290e85ddbd437a96fa77e38a2fe087": {
      "model_module": "@jupyter-widgets/controls",
      "model_module_version": "1.2.0",
      "model_name": "VBoxModel",
      "state": {
       "_dom_classes": [
        "widget-interact"
       ],
       "children": [
        "IPY_MODEL_685061afe3d64ea5804c0d1898c7988a",
        "IPY_MODEL_59e7af322d8f4fbe964206b5f07fc5fe"
       ],
       "layout": "IPY_MODEL_2ac7f39c9db9430e8dc05f7612a7c9c7"
      }
     },
     "4e4cbe029f93421798b310066e0744c1": {
      "model_module": "@jupyter-widgets/controls",
      "model_module_version": "1.2.0",
      "model_name": "SliderStyleModel",
      "state": {
       "description_width": ""
      }
     },
     "4ef9dc7c33214601ad4311a6443c93b1": {
      "model_module": "@jupyter-widgets/controls",
      "model_module_version": "1.2.0",
      "model_name": "VBoxModel",
      "state": {
       "_dom_classes": [
        "widget-interact"
       ],
       "children": [
        "IPY_MODEL_6200eecdff0741d09a71887fc56a2ded",
        "IPY_MODEL_987c6479a9fa415db3e06b6d9ff2729c"
       ],
       "layout": "IPY_MODEL_2b8d19d5008640dd915753e98b2eb1e3"
      }
     },
     "4f3fa864fc744938a2c53ff1ec0d9b89": {
      "model_module": "@jupyter-widgets/base",
      "model_module_version": "1.0.0",
      "model_name": "LayoutModel",
      "state": {}
     },
     "4f7679af2d50436d980ca8d4731cc867": {
      "model_module": "@jupyter-widgets/controls",
      "model_module_version": "1.2.0",
      "model_name": "IntSliderModel",
      "state": {
       "description": "c",
       "layout": "IPY_MODEL_0d90b73237004e9bb36ee00f7060e19d",
       "max": 500,
       "min": -500,
       "style": "IPY_MODEL_6c024dfd31c040e094b0fb669e72d434",
       "value": 1
      }
     },
     "4f7edacf253748adabec70dc586aa201": {
      "model_module": "@jupyter-widgets/controls",
      "model_module_version": "1.2.0",
      "model_name": "SliderStyleModel",
      "state": {
       "description_width": ""
      }
     },
     "5035ed131a56498bb73aef9b40045afe": {
      "model_module": "@jupyter-widgets/controls",
      "model_module_version": "1.2.0",
      "model_name": "VBoxModel",
      "state": {
       "_dom_classes": [
        "widget-interact"
       ],
       "children": [
        "IPY_MODEL_59d3e8e2911f445bb65d389cc3724a0e",
        "IPY_MODEL_2e5553d675cb41259447ea360820c694"
       ],
       "layout": "IPY_MODEL_2e21b8af2cb1403a84cf220819808678"
      }
     },
     "50a6fe495bd34f2ea3ae278f8c2f659b": {
      "model_module": "@jupyter-widgets/controls",
      "model_module_version": "1.2.0",
      "model_name": "SliderStyleModel",
      "state": {
       "description_width": ""
      }
     },
     "50ca13a41b6d4b32a95368c99b56bc1b": {
      "model_module": "@jupyter-widgets/base",
      "model_module_version": "1.0.0",
      "model_name": "LayoutModel",
      "state": {}
     },
     "50d69784e5304cfd94fc8b3e6a0ec59b": {
      "model_module": "@jupyter-widgets/controls",
      "model_module_version": "1.2.0",
      "model_name": "SliderStyleModel",
      "state": {
       "description_width": ""
      }
     },
     "530ef84f44054048b4708d2241eef1e1": {
      "model_module": "@jupyter-widgets/base",
      "model_module_version": "1.0.0",
      "model_name": "LayoutModel",
      "state": {}
     },
     "538155a7b01c43c4ac2a729ca9fa57eb": {
      "model_module": "@jupyter-widgets/base",
      "model_module_version": "1.0.0",
      "model_name": "LayoutModel",
      "state": {}
     },
     "53e7de70d9a64fb48f6f5bf08361f7cb": {
      "model_module": "@jupyter-widgets/controls",
      "model_module_version": "1.2.0",
      "model_name": "SliderStyleModel",
      "state": {
       "description_width": ""
      }
     },
     "53fb47b316eb4568a1f4d38d96a96a10": {
      "model_module": "@jupyter-widgets/output",
      "model_module_version": "1.0.0",
      "model_name": "OutputModel",
      "state": {
       "layout": "IPY_MODEL_d074384f6e2d4c2495dcf067155dda6c"
      }
     },
     "545c6492791640bebc05a32769d3f1b3": {
      "model_module": "@jupyter-widgets/controls",
      "model_module_version": "1.2.0",
      "model_name": "SliderStyleModel",
      "state": {
       "description_width": ""
      }
     },
     "5480c89119cf452e81ff317b05d0ee9e": {
      "model_module": "@jupyter-widgets/base",
      "model_module_version": "1.0.0",
      "model_name": "LayoutModel",
      "state": {}
     },
     "5494e4c1c206418dbeff8cb59df50ed5": {
      "model_module": "@jupyter-widgets/base",
      "model_module_version": "1.0.0",
      "model_name": "LayoutModel",
      "state": {}
     },
     "54a0847f7ffe4d31b6fc7beaa350d3f6": {
      "model_module": "@jupyter-widgets/base",
      "model_module_version": "1.0.0",
      "model_name": "LayoutModel",
      "state": {}
     },
     "54a914d6c4a54189b3105901b5e9929e": {
      "model_module": "@jupyter-widgets/base",
      "model_module_version": "1.0.0",
      "model_name": "LayoutModel",
      "state": {}
     },
     "54b9adeacea34e4e8fddc9bfe273be0b": {
      "model_module": "@jupyter-widgets/controls",
      "model_module_version": "1.2.0",
      "model_name": "SliderStyleModel",
      "state": {
       "description_width": ""
      }
     },
     "54c331c167b64f4995175fefcdd70b00": {
      "model_module": "@jupyter-widgets/base",
      "model_module_version": "1.0.0",
      "model_name": "LayoutModel",
      "state": {}
     },
     "55351d6c51c144ffa14d42e72b32bbd3": {
      "model_module": "@jupyter-widgets/base",
      "model_module_version": "1.0.0",
      "model_name": "LayoutModel",
      "state": {}
     },
     "55bf833f29f948ee8bf166b65bf18aec": {
      "model_module": "@jupyter-widgets/controls",
      "model_module_version": "1.2.0",
      "model_name": "VBoxModel",
      "state": {
       "_dom_classes": [
        "widget-interact"
       ],
       "children": [
        "IPY_MODEL_36869dae16f248d8b110d33efedcfe7b",
        "IPY_MODEL_98e31bb4f3de4099826099f3b92de139"
       ],
       "layout": "IPY_MODEL_40461ee8a2ed4bb7a5a8bf9c7921213e"
      }
     },
     "5737c5e956ff4359b7d55f7c9cc2a450": {
      "model_module": "@jupyter-widgets/base",
      "model_module_version": "1.0.0",
      "model_name": "LayoutModel",
      "state": {}
     },
     "57fab249b2b84be2a765d4cbd339d0b4": {
      "model_module": "@jupyter-widgets/controls",
      "model_module_version": "1.2.0",
      "model_name": "VBoxModel",
      "state": {
       "_dom_classes": [
        "widget-interact"
       ],
       "children": [
        "IPY_MODEL_8b1e07d9f15a4d35bcad352729694b9e",
        "IPY_MODEL_646478b7e99d42ecab8740033779c739"
       ],
       "layout": "IPY_MODEL_538155a7b01c43c4ac2a729ca9fa57eb"
      }
     },
     "58b2d3f5308e4961ba8204db3a023bcb": {
      "model_module": "@jupyter-widgets/base",
      "model_module_version": "1.0.0",
      "model_name": "LayoutModel",
      "state": {}
     },
     "58ca612c5f024a11ba3e189330dad3a8": {
      "model_module": "@jupyter-widgets/controls",
      "model_module_version": "1.2.0",
      "model_name": "VBoxModel",
      "state": {
       "_dom_classes": [
        "widget-interact"
       ],
       "children": [
        "IPY_MODEL_9373955230f5474c89419a7ff4799b1e",
        "IPY_MODEL_b716545c88134877afa8f31977bd1892"
       ],
       "layout": "IPY_MODEL_867979740107429fb03bf61a51e79dda"
      }
     },
     "59a06d83bd0443a3b80c75e6913860d4": {
      "model_module": "@jupyter-widgets/output",
      "model_module_version": "1.0.0",
      "model_name": "OutputModel",
      "state": {
       "layout": "IPY_MODEL_7fdae19fac0d42849757b082e67e25f3"
      }
     },
     "59b305ace821408aa24f84ebfcda80fa": {
      "model_module": "@jupyter-widgets/controls",
      "model_module_version": "1.2.0",
      "model_name": "VBoxModel",
      "state": {
       "_dom_classes": [
        "widget-interact"
       ],
       "children": [
        "IPY_MODEL_6309d0fd4a8c457dbd4c20e658b14740",
        "IPY_MODEL_3f13440232ae4dcd9e0c7deb7fde6b37"
       ],
       "layout": "IPY_MODEL_1e5ec888854e45359ae5f78a630ec51d"
      }
     },
     "59d1c049d84141c2bebca9a4b82464fc": {
      "model_module": "@jupyter-widgets/base",
      "model_module_version": "1.0.0",
      "model_name": "LayoutModel",
      "state": {}
     },
     "59d3e8e2911f445bb65d389cc3724a0e": {
      "model_module": "@jupyter-widgets/controls",
      "model_module_version": "1.2.0",
      "model_name": "IntSliderModel",
      "state": {
       "description": "d",
       "layout": "IPY_MODEL_3c5c5925991b4f70b475df9547bb1e45",
       "max": 500,
       "min": -500,
       "style": "IPY_MODEL_822060b1b3a045dcafe04296a751595f",
       "value": -138
      }
     },
     "59e7af322d8f4fbe964206b5f07fc5fe": {
      "model_module": "@jupyter-widgets/output",
      "model_module_version": "1.0.0",
      "model_name": "OutputModel",
      "state": {
       "layout": "IPY_MODEL_cb561d318b434ab5b2bbf48e4dcdb499"
      }
     },
     "5a5492e66dfc46daac68e7aa72a3a588": {
      "model_module": "@jupyter-widgets/base",
      "model_module_version": "1.0.0",
      "model_name": "LayoutModel",
      "state": {}
     },
     "5ac5b4b9c8f5443da1c5c935e3ebc234": {
      "model_module": "@jupyter-widgets/base",
      "model_module_version": "1.0.0",
      "model_name": "LayoutModel",
      "state": {}
     },
     "5b863042a46e47559c558dbe81c34a76": {
      "model_module": "@jupyter-widgets/controls",
      "model_module_version": "1.2.0",
      "model_name": "IntSliderModel",
      "state": {
       "description": "c",
       "layout": "IPY_MODEL_a364bba0da004b209d4b86cba1dc097a",
       "max": 500,
       "min": -500,
       "style": "IPY_MODEL_b2fc01f7af0842d78504ef17457b793e",
       "value": 1
      }
     },
     "5be430e6b093444c8175a187ff9484e3": {
      "model_module": "@jupyter-widgets/controls",
      "model_module_version": "1.2.0",
      "model_name": "IntSliderModel",
      "state": {
       "description": "c",
       "layout": "IPY_MODEL_632b71d1d53444ad87255fa6f1e18de4",
       "max": 500,
       "min": -500,
       "style": "IPY_MODEL_7471b29f5f814e8cba19bbb7453889fa",
       "value": 1
      }
     },
     "5d1954fe364d400cb2f3bc9df2e08f25": {
      "model_module": "@jupyter-widgets/controls",
      "model_module_version": "1.2.0",
      "model_name": "VBoxModel",
      "state": {
       "_dom_classes": [
        "widget-interact"
       ],
       "children": [
        "IPY_MODEL_946e0a4d9e1f497aaf9426c7774aebce",
        "IPY_MODEL_378413cb77574d90865581fb69fd4d42"
       ],
       "layout": "IPY_MODEL_3b7356d085b44e47ad8adff2974a01c0"
      }
     },
     "5d1f167d337748888be4131f88dab0e2": {
      "model_module": "@jupyter-widgets/controls",
      "model_module_version": "1.2.0",
      "model_name": "VBoxModel",
      "state": {
       "_dom_classes": [
        "widget-interact"
       ],
       "children": [
        "IPY_MODEL_29861857e78f4afa8426779ce83208a6",
        "IPY_MODEL_e8ed4759912d44ac97872bc4d6cdeb7b"
       ],
       "layout": "IPY_MODEL_da59349cb85949b2947aa671214d8deb"
      }
     },
     "5ddf1eaed9a547a8a3a5494955a03f29": {
      "model_module": "@jupyter-widgets/controls",
      "model_module_version": "1.2.0",
      "model_name": "VBoxModel",
      "state": {
       "_dom_classes": [
        "widget-interact"
       ],
       "children": [
        "IPY_MODEL_b45a7d885c114499a881c7b3a9572b28",
        "IPY_MODEL_41e1da0fff264f7eb09dde83920ceea0"
       ],
       "layout": "IPY_MODEL_8d8d92c27dec471c8dea5dae5c161e44"
      }
     },
     "5e005e9c4cde4f308348397153b4036e": {
      "model_module": "@jupyter-widgets/controls",
      "model_module_version": "1.2.0",
      "model_name": "IntSliderModel",
      "state": {
       "description": "c",
       "layout": "IPY_MODEL_6b19a11cad204a77b29bf7a00d243078",
       "max": 500,
       "min": -500,
       "style": "IPY_MODEL_f4010479dcaa49419fd8768a838bb90a",
       "value": -177
      }
     },
     "5f47b40bffdb419ab01925d6f6b256c6": {
      "model_module": "@jupyter-widgets/controls",
      "model_module_version": "1.2.0",
      "model_name": "SliderStyleModel",
      "state": {
       "description_width": ""
      }
     },
     "5f8307b86656460a8b340a2887ae7459": {
      "model_module": "@jupyter-widgets/output",
      "model_module_version": "1.0.0",
      "model_name": "OutputModel",
      "state": {
       "layout": "IPY_MODEL_bb8b9b56f2b84000b4e92ab3e69eec3f"
      }
     },
     "5faeb0032ac644caa63b4f0879178585": {
      "model_module": "@jupyter-widgets/output",
      "model_module_version": "1.0.0",
      "model_name": "OutputModel",
      "state": {
       "layout": "IPY_MODEL_54a914d6c4a54189b3105901b5e9929e"
      }
     },
     "6110ab97f40d47a193acc58426983447": {
      "model_module": "@jupyter-widgets/base",
      "model_module_version": "1.0.0",
      "model_name": "LayoutModel",
      "state": {}
     },
     "61772455e2104ef9b787bb6780eb170e": {
      "model_module": "@jupyter-widgets/controls",
      "model_module_version": "1.2.0",
      "model_name": "IntSliderModel",
      "state": {
       "description": "c",
       "layout": "IPY_MODEL_3cb991f1ff794046a95c2473f8dbb850",
       "max": 500,
       "min": -500,
       "style": "IPY_MODEL_e65aa72ceaa24938aedd38dc91d5bda0",
       "value": 1
      }
     },
     "6200eecdff0741d09a71887fc56a2ded": {
      "model_module": "@jupyter-widgets/controls",
      "model_module_version": "1.2.0",
      "model_name": "IntSliderModel",
      "state": {
       "description": "c",
       "layout": "IPY_MODEL_0563a3ff80464dc697b6b2af4e432d56",
       "max": 500,
       "min": -500,
       "style": "IPY_MODEL_62cbbe898db145b7bbb393251f625323",
       "value": -50
      }
     },
     "62cbbe898db145b7bbb393251f625323": {
      "model_module": "@jupyter-widgets/controls",
      "model_module_version": "1.2.0",
      "model_name": "SliderStyleModel",
      "state": {
       "description_width": ""
      }
     },
     "62dd3e8b2d9946b6930d90709cd80377": {
      "model_module": "@jupyter-widgets/base",
      "model_module_version": "1.0.0",
      "model_name": "LayoutModel",
      "state": {}
     },
     "6309d0fd4a8c457dbd4c20e658b14740": {
      "model_module": "@jupyter-widgets/controls",
      "model_module_version": "1.2.0",
      "model_name": "IntSliderModel",
      "state": {
       "description": "c",
       "layout": "IPY_MODEL_81bf4582b7f44addb81d24d56e7031c6",
       "max": 500,
       "min": -500,
       "style": "IPY_MODEL_a68ac7b609914f07b8559c9bbb0546d9",
       "value": 77
      }
     },
     "632b71d1d53444ad87255fa6f1e18de4": {
      "model_module": "@jupyter-widgets/base",
      "model_module_version": "1.0.0",
      "model_name": "LayoutModel",
      "state": {}
     },
     "633f4325eec64d4c92f0e1bdaf9f0e4a": {
      "model_module": "@jupyter-widgets/controls",
      "model_module_version": "1.2.0",
      "model_name": "SliderStyleModel",
      "state": {
       "description_width": ""
      }
     },
     "63aee3a2950144418a208231c8778537": {
      "model_module": "@jupyter-widgets/controls",
      "model_module_version": "1.2.0",
      "model_name": "VBoxModel",
      "state": {
       "_dom_classes": [
        "widget-interact"
       ],
       "children": [
        "IPY_MODEL_755c5f2052f74bb2ad9e0ab404364f1c",
        "IPY_MODEL_e6a212c0aea247d2b21a310baf71f01c"
       ],
       "layout": "IPY_MODEL_a97dacad52db46b7b16b6ff6edd606c5"
      }
     },
     "63c175bd09ef49c2a78878304f88389a": {
      "model_module": "@jupyter-widgets/controls",
      "model_module_version": "1.2.0",
      "model_name": "SliderStyleModel",
      "state": {
       "description_width": ""
      }
     },
     "646478b7e99d42ecab8740033779c739": {
      "model_module": "@jupyter-widgets/output",
      "model_module_version": "1.0.0",
      "model_name": "OutputModel",
      "state": {
       "layout": "IPY_MODEL_5ac5b4b9c8f5443da1c5c935e3ebc234"
      }
     },
     "646bf58897904ee98a375111edfb9ed0": {
      "model_module": "@jupyter-widgets/base",
      "model_module_version": "1.0.0",
      "model_name": "LayoutModel",
      "state": {}
     },
     "646f9f9ac18040e29e75d9c6f26e61f1": {
      "model_module": "@jupyter-widgets/base",
      "model_module_version": "1.0.0",
      "model_name": "LayoutModel",
      "state": {}
     },
     "647037dbda0143b0aad6b6e415cdbbb5": {
      "model_module": "@jupyter-widgets/controls",
      "model_module_version": "1.2.0",
      "model_name": "VBoxModel",
      "state": {
       "_dom_classes": [
        "widget-interact"
       ],
       "children": [
        "IPY_MODEL_b3c4e5e3c500482f8d1722fe000347a8",
        "IPY_MODEL_15aedf290fc14662be1f2a18ba0c996d"
       ],
       "layout": "IPY_MODEL_dfb36728f313408c927d4561c7c5931a"
      }
     },
     "64c47a6c0054445385e892a8d5daf0ef": {
      "model_module": "@jupyter-widgets/base",
      "model_module_version": "1.0.0",
      "model_name": "LayoutModel",
      "state": {}
     },
     "64cf54c888a1413eb1e8d2e199c7026b": {
      "model_module": "@jupyter-widgets/controls",
      "model_module_version": "1.2.0",
      "model_name": "IntSliderModel",
      "state": {
       "description": "c",
       "layout": "IPY_MODEL_7553fa1eab1c4fdd873362a0718595cd",
       "max": 500,
       "min": -500,
       "style": "IPY_MODEL_cdaa68c831a444c8ac8ee2b57b445c41",
       "value": 1
      }
     },
     "6547dce42b454c36a215a9a7874ccbd2": {
      "model_module": "@jupyter-widgets/base",
      "model_module_version": "1.0.0",
      "model_name": "LayoutModel",
      "state": {}
     },
     "662c9bd32cae41d38ba5b9cbfce5fda8": {
      "model_module": "@jupyter-widgets/controls",
      "model_module_version": "1.2.0",
      "model_name": "VBoxModel",
      "state": {
       "_dom_classes": [
        "widget-interact"
       ],
       "children": [
        "IPY_MODEL_9d2e7294e4264ea2a41760f06431a867",
        "IPY_MODEL_f7ed2d4e9a32438cba5f2cf38a0be8ea"
       ],
       "layout": "IPY_MODEL_915e6b0a75ec402390415c4d55042155"
      }
     },
     "664bc39c12fd471a93a084c83b11ba65": {
      "model_module": "@jupyter-widgets/controls",
      "model_module_version": "1.2.0",
      "model_name": "SliderStyleModel",
      "state": {
       "description_width": ""
      }
     },
     "66643ab7570745119518442e0bad63d8": {
      "model_module": "@jupyter-widgets/output",
      "model_module_version": "1.0.0",
      "model_name": "OutputModel",
      "state": {
       "layout": "IPY_MODEL_faa2948bca274b189d1085f317e7fb53"
      }
     },
     "66962f22f6a748b4951ba14630fc6e9a": {
      "model_module": "@jupyter-widgets/base",
      "model_module_version": "1.0.0",
      "model_name": "LayoutModel",
      "state": {}
     },
     "67021926541a4bbeb8b013941abd1477": {
      "model_module": "@jupyter-widgets/controls",
      "model_module_version": "1.2.0",
      "model_name": "SliderStyleModel",
      "state": {
       "description_width": ""
      }
     },
     "673c6807aa6e412aac4635890ee7df57": {
      "model_module": "@jupyter-widgets/controls",
      "model_module_version": "1.2.0",
      "model_name": "VBoxModel",
      "state": {
       "_dom_classes": [
        "widget-interact"
       ],
       "children": [
        "IPY_MODEL_cef6b546c74a4bdfa97d934c8f70209f",
        "IPY_MODEL_66643ab7570745119518442e0bad63d8"
       ],
       "layout": "IPY_MODEL_712b621b64b444039a0003d09e2f7eed"
      }
     },
     "67f28980254a437190b0b241601aa3e5": {
      "model_module": "@jupyter-widgets/base",
      "model_module_version": "1.0.0",
      "model_name": "LayoutModel",
      "state": {}
     },
     "685061afe3d64ea5804c0d1898c7988a": {
      "model_module": "@jupyter-widgets/controls",
      "model_module_version": "1.2.0",
      "model_name": "IntSliderModel",
      "state": {
       "description": "e",
       "layout": "IPY_MODEL_4c41f0ed0ab64313a4d0913ce6caf2c6",
       "max": 500,
       "min": -500,
       "style": "IPY_MODEL_633f4325eec64d4c92f0e1bdaf9f0e4a",
       "value": -21
      }
     },
     "6889fa8c586c417984195d60ef6ba5a2": {
      "model_module": "@jupyter-widgets/output",
      "model_module_version": "1.0.0",
      "model_name": "OutputModel",
      "state": {
       "layout": "IPY_MODEL_8925e6c96c0b45d887263d9fe1d42755"
      }
     },
     "692e3953759f451786a8685cf0407383": {
      "model_module": "@jupyter-widgets/output",
      "model_module_version": "1.0.0",
      "model_name": "OutputModel",
      "state": {
       "layout": "IPY_MODEL_2839e77885e04a1d8bec65a8efbf54a4"
      }
     },
     "6a91650a2a71452abb202f0cbf64fabf": {
      "model_module": "@jupyter-widgets/controls",
      "model_module_version": "1.2.0",
      "model_name": "VBoxModel",
      "state": {
       "_dom_classes": [
        "widget-interact"
       ],
       "children": [
        "IPY_MODEL_c9422a7919004648a001728c87290af5",
        "IPY_MODEL_d1dc8fc211c24107acd6eef9c6fcc645"
       ],
       "layout": "IPY_MODEL_8045fe2eb54c447e8a847a032170be32"
      }
     },
     "6ab458410fc7468b8c516d44b476dcd0": {
      "model_module": "@jupyter-widgets/base",
      "model_module_version": "1.0.0",
      "model_name": "LayoutModel",
      "state": {}
     },
     "6b0c4723fa1f4ff18cc64cd3eb6d3dbe": {
      "model_module": "@jupyter-widgets/base",
      "model_module_version": "1.0.0",
      "model_name": "LayoutModel",
      "state": {}
     },
     "6b0cbc1c9a8f431e80ac5eee9711c3d9": {
      "model_module": "@jupyter-widgets/base",
      "model_module_version": "1.0.0",
      "model_name": "LayoutModel",
      "state": {}
     },
     "6b19a11cad204a77b29bf7a00d243078": {
      "model_module": "@jupyter-widgets/base",
      "model_module_version": "1.0.0",
      "model_name": "LayoutModel",
      "state": {}
     },
     "6b5c8e81705b4512b9b642d970da266f": {
      "model_module": "@jupyter-widgets/controls",
      "model_module_version": "1.2.0",
      "model_name": "SliderStyleModel",
      "state": {
       "description_width": ""
      }
     },
     "6c024dfd31c040e094b0fb669e72d434": {
      "model_module": "@jupyter-widgets/controls",
      "model_module_version": "1.2.0",
      "model_name": "SliderStyleModel",
      "state": {
       "description_width": ""
      }
     },
     "6ca09a27847540e081bba6dd5641507e": {
      "model_module": "@jupyter-widgets/base",
      "model_module_version": "1.0.0",
      "model_name": "LayoutModel",
      "state": {}
     },
     "6cfdc8231d44430db020a73cc77d2c54": {
      "model_module": "@jupyter-widgets/base",
      "model_module_version": "1.0.0",
      "model_name": "LayoutModel",
      "state": {}
     },
     "6d0bed4d4d0e41c0811adaee231ed3de": {
      "model_module": "@jupyter-widgets/base",
      "model_module_version": "1.0.0",
      "model_name": "LayoutModel",
      "state": {}
     },
     "6ed637d1ff074f0581fce204fb03e651": {
      "model_module": "@jupyter-widgets/base",
      "model_module_version": "1.0.0",
      "model_name": "LayoutModel",
      "state": {}
     },
     "6fa97162717944bf98a8f589971193ff": {
      "model_module": "@jupyter-widgets/base",
      "model_module_version": "1.0.0",
      "model_name": "LayoutModel",
      "state": {}
     },
     "6fc58bed9beb4ca9a8a49c57f842615a": {
      "model_module": "@jupyter-widgets/controls",
      "model_module_version": "1.2.0",
      "model_name": "VBoxModel",
      "state": {
       "_dom_classes": [
        "widget-interact"
       ],
       "children": [
        "IPY_MODEL_ae042523baed420ca4d3ff76c12b6f9d",
        "IPY_MODEL_abcb26ee1a544d668b52682fa0ea567c"
       ],
       "layout": "IPY_MODEL_358af3966ae64499a0cef1d86c549dd4"
      }
     },
     "7005a469c5764551a6347363073f93fe": {
      "model_module": "@jupyter-widgets/base",
      "model_module_version": "1.0.0",
      "model_name": "LayoutModel",
      "state": {}
     },
     "700becb5ba34488a9a62109f76322716": {
      "model_module": "@jupyter-widgets/controls",
      "model_module_version": "1.2.0",
      "model_name": "IntSliderModel",
      "state": {
       "description": "c",
       "layout": "IPY_MODEL_44c45aec4c9a4daa9026cde161ecc9fb",
       "max": 500,
       "min": -500,
       "style": "IPY_MODEL_1f2d277c00074393b4272d60db710ab1",
       "value": 10
      }
     },
     "70189e6ccec540748af3f2ee08ca29d3": {
      "model_module": "@jupyter-widgets/base",
      "model_module_version": "1.0.0",
      "model_name": "LayoutModel",
      "state": {}
     },
     "7057f3ea967c4c3fb60ce15af6a8fd17": {
      "model_module": "@jupyter-widgets/base",
      "model_module_version": "1.0.0",
      "model_name": "LayoutModel",
      "state": {}
     },
     "705c5b11865e4755b8c84a9b121010d8": {
      "model_module": "@jupyter-widgets/controls",
      "model_module_version": "1.2.0",
      "model_name": "VBoxModel",
      "state": {
       "_dom_classes": [
        "widget-interact"
       ],
       "children": [
        "IPY_MODEL_2c50029d01b048c39a6ec7c05be5a725",
        "IPY_MODEL_3328c20a5ca442bbb5a8cb960505eb57"
       ],
       "layout": "IPY_MODEL_c7f2f31ffc7649dbac9b58bb341eca42"
      }
     },
     "70a408155fe04776a165aa47aa28827a": {
      "model_module": "@jupyter-widgets/base",
      "model_module_version": "1.0.0",
      "model_name": "LayoutModel",
      "state": {}
     },
     "70accbc1af174b2abf1ed744597b8dce": {
      "model_module": "@jupyter-widgets/base",
      "model_module_version": "1.0.0",
      "model_name": "LayoutModel",
      "state": {}
     },
     "70ee1f09163e4c60b2d2dfb9c216bc3c": {
      "model_module": "@jupyter-widgets/controls",
      "model_module_version": "1.2.0",
      "model_name": "VBoxModel",
      "state": {
       "_dom_classes": [
        "widget-interact"
       ],
       "children": [
        "IPY_MODEL_3fc85b3e63844186a4b99fe74a91936d",
        "IPY_MODEL_e191f9c257cf440ea29cf06b8c843ee4"
       ],
       "layout": "IPY_MODEL_c385c7d4ec464b31983e6b0e32e126c8"
      }
     },
     "712300b97d914b90bbdddfa04b55b807": {
      "model_module": "@jupyter-widgets/output",
      "model_module_version": "1.0.0",
      "model_name": "OutputModel",
      "state": {
       "layout": "IPY_MODEL_87ea357552ae417782811aa74b415964"
      }
     },
     "712661fc1a1a4db19d361bb52b2d0779": {
      "model_module": "@jupyter-widgets/base",
      "model_module_version": "1.0.0",
      "model_name": "LayoutModel",
      "state": {}
     },
     "712b621b64b444039a0003d09e2f7eed": {
      "model_module": "@jupyter-widgets/base",
      "model_module_version": "1.0.0",
      "model_name": "LayoutModel",
      "state": {}
     },
     "714dba23e90947c58fb097877d858a06": {
      "model_module": "@jupyter-widgets/controls",
      "model_module_version": "1.2.0",
      "model_name": "IntSliderModel",
      "state": {
       "description": "e",
       "layout": "IPY_MODEL_e5ff3947d6d04124b31295ed3ad663cb",
       "max": 500,
       "min": -500,
       "style": "IPY_MODEL_fbac4641bc8c4ff38098a34ff490afda",
       "value": 1
      }
     },
     "717eb8fa39594eb7bd6d4f6f67ca8a97": {
      "model_module": "@jupyter-widgets/controls",
      "model_module_version": "1.2.0",
      "model_name": "IntSliderModel",
      "state": {
       "description": "d",
       "layout": "IPY_MODEL_7e5a55b394594820a194998aba90b5b8",
       "max": 500,
       "min": -500,
       "style": "IPY_MODEL_54b9adeacea34e4e8fddc9bfe273be0b",
       "value": 1
      }
     },
     "71973cab639c41c09a029c7bbd895bea": {
      "model_module": "@jupyter-widgets/base",
      "model_module_version": "1.0.0",
      "model_name": "LayoutModel",
      "state": {}
     },
     "727db649dbbc40eb958e838f6c5ddcae": {
      "model_module": "@jupyter-widgets/base",
      "model_module_version": "1.0.0",
      "model_name": "LayoutModel",
      "state": {}
     },
     "72b00e22ff704f99b8493c7833239973": {
      "model_module": "@jupyter-widgets/controls",
      "model_module_version": "1.2.0",
      "model_name": "VBoxModel",
      "state": {
       "_dom_classes": [
        "widget-interact"
       ],
       "children": [
        "IPY_MODEL_bf4983fb61a8498e89f54f6d246278b1",
        "IPY_MODEL_0adfd7a45b6d4fedbbc100329c5ad9ef"
       ],
       "layout": "IPY_MODEL_b3d33639799645a9a0e9f5032775395d"
      }
     },
     "73652e700d6b48509774240463507ccc": {
      "model_module": "@jupyter-widgets/base",
      "model_module_version": "1.0.0",
      "model_name": "LayoutModel",
      "state": {}
     },
     "74439049a338417f9e700e1a673d9be9": {
      "model_module": "@jupyter-widgets/output",
      "model_module_version": "1.0.0",
      "model_name": "OutputModel",
      "state": {
       "layout": "IPY_MODEL_fbfeddf473d5438f9fe2b9e9c165ffda"
      }
     },
     "7471b29f5f814e8cba19bbb7453889fa": {
      "model_module": "@jupyter-widgets/controls",
      "model_module_version": "1.2.0",
      "model_name": "SliderStyleModel",
      "state": {
       "description_width": ""
      }
     },
     "748b6ff30d3445bea83975f57dc827e2": {
      "model_module": "@jupyter-widgets/controls",
      "model_module_version": "1.2.0",
      "model_name": "VBoxModel",
      "state": {
       "_dom_classes": [
        "widget-interact"
       ],
       "children": [
        "IPY_MODEL_f11f956561f44b33a88677edd3c693e4",
        "IPY_MODEL_75e5f0eabd514fc1a37bd636f85e2979"
       ],
       "layout": "IPY_MODEL_e1bb109129644e10aaa614759e4e61f2"
      }
     },
     "74ece71a1a4244f28904e31bc4837605": {
      "model_module": "@jupyter-widgets/controls",
      "model_module_version": "1.2.0",
      "model_name": "IntSliderModel",
      "state": {
       "description": "c",
       "layout": "IPY_MODEL_cbb2838ba9184ee0a1d1fcc15da1f279",
       "max": 500,
       "min": -500,
       "style": "IPY_MODEL_343fa21381464e88927b4702c67f9ca5",
       "value": -500
      }
     },
     "75149bd5f9df4b24bebeba07baf4fd0f": {
      "model_module": "@jupyter-widgets/controls",
      "model_module_version": "1.2.0",
      "model_name": "IntSliderModel",
      "state": {
       "description": "c",
       "layout": "IPY_MODEL_a46fd4e3d39a4f8797ed606bde3f1635",
       "max": 500,
       "min": -500,
       "style": "IPY_MODEL_975f2fa9a71444c8a980198392ad6f9e",
       "value": 1
      }
     },
     "7553fa1eab1c4fdd873362a0718595cd": {
      "model_module": "@jupyter-widgets/base",
      "model_module_version": "1.0.0",
      "model_name": "LayoutModel",
      "state": {}
     },
     "755c5f2052f74bb2ad9e0ab404364f1c": {
      "model_module": "@jupyter-widgets/controls",
      "model_module_version": "1.2.0",
      "model_name": "IntSliderModel",
      "state": {
       "description": "c",
       "layout": "IPY_MODEL_498f731a539d4d8cae742be242134260",
       "max": 500,
       "min": -500,
       "style": "IPY_MODEL_f45a946715684fcbb53183d36a2df17b",
       "value": 1
      }
     },
     "75e5f0eabd514fc1a37bd636f85e2979": {
      "model_module": "@jupyter-widgets/output",
      "model_module_version": "1.0.0",
      "model_name": "OutputModel",
      "state": {
       "layout": "IPY_MODEL_24c49bf3f06445e8a3fab0f87e8da05c",
       "outputs": [
        {
         "ename": "TypeError",
         "evalue": "set_ydata() takes 2 positional arguments but 3 were given",
         "output_type": "error",
         "traceback": [
          "\u001b[1;31m---------------------------------------------------------------------------\u001b[0m",
          "\u001b[1;31mTypeError\u001b[0m                                 Traceback (most recent call last)",
          "\u001b[1;32mD:\\AnacondaPython\\lib\\site-packages\\ipywidgets\\widgets\\interaction.py\u001b[0m in \u001b[0;36mupdate\u001b[1;34m(self, *args)\u001b[0m\n\u001b[0;32m    249\u001b[0m                     \u001b[0mvalue\u001b[0m \u001b[1;33m=\u001b[0m \u001b[0mwidget\u001b[0m\u001b[1;33m.\u001b[0m\u001b[0mget_interact_value\u001b[0m\u001b[1;33m(\u001b[0m\u001b[1;33m)\u001b[0m\u001b[1;33m\u001b[0m\u001b[0m\n\u001b[0;32m    250\u001b[0m                     \u001b[0mself\u001b[0m\u001b[1;33m.\u001b[0m\u001b[0mkwargs\u001b[0m\u001b[1;33m[\u001b[0m\u001b[0mwidget\u001b[0m\u001b[1;33m.\u001b[0m\u001b[0m_kwarg\u001b[0m\u001b[1;33m]\u001b[0m \u001b[1;33m=\u001b[0m \u001b[0mvalue\u001b[0m\u001b[1;33m\u001b[0m\u001b[0m\n\u001b[1;32m--> 251\u001b[1;33m                 \u001b[0mself\u001b[0m\u001b[1;33m.\u001b[0m\u001b[0mresult\u001b[0m \u001b[1;33m=\u001b[0m \u001b[0mself\u001b[0m\u001b[1;33m.\u001b[0m\u001b[0mf\u001b[0m\u001b[1;33m(\u001b[0m\u001b[1;33m**\u001b[0m\u001b[0mself\u001b[0m\u001b[1;33m.\u001b[0m\u001b[0mkwargs\u001b[0m\u001b[1;33m)\u001b[0m\u001b[1;33m\u001b[0m\u001b[0m\n\u001b[0m\u001b[0;32m    252\u001b[0m                 \u001b[0mshow_inline_matplotlib_plots\u001b[0m\u001b[1;33m(\u001b[0m\u001b[1;33m)\u001b[0m\u001b[1;33m\u001b[0m\u001b[0m\n\u001b[0;32m    253\u001b[0m                 \u001b[1;32mif\u001b[0m \u001b[0mself\u001b[0m\u001b[1;33m.\u001b[0m\u001b[0mauto_display\u001b[0m \u001b[1;32mand\u001b[0m \u001b[0mself\u001b[0m\u001b[1;33m.\u001b[0m\u001b[0mresult\u001b[0m \u001b[1;32mis\u001b[0m \u001b[1;32mnot\u001b[0m \u001b[1;32mNone\u001b[0m\u001b[1;33m:\u001b[0m\u001b[1;33m\u001b[0m\u001b[0m\n",
          "\u001b[1;32m<ipython-input-4-285546274b55>\u001b[0m in \u001b[0;36mupdate\u001b[1;34m(c)\u001b[0m\n\u001b[0;32m     64\u001b[0m     \u001b[0mline\u001b[0m\u001b[1;33m.\u001b[0m\u001b[0mset_ydata\u001b[0m\u001b[1;33m(\u001b[0m\u001b[0mvec\u001b[0m\u001b[1;33m[\u001b[0m\u001b[1;33m:\u001b[0m\u001b[1;33m,\u001b[0m\u001b[1;36m0\u001b[0m\u001b[1;33m]\u001b[0m\u001b[1;33m**\u001b[0m\u001b[1;36m2\u001b[0m\u001b[1;33m)\u001b[0m\u001b[1;33m\u001b[0m\u001b[0m\n\u001b[0;32m     65\u001b[0m     \u001b[0mlinez\u001b[0m\u001b[1;33m.\u001b[0m\u001b[0mset_ydata\u001b[0m\u001b[1;33m(\u001b[0m\u001b[0mc\u001b[0m\u001b[1;33m/\u001b[0m\u001b[1;33m(\u001b[0m\u001b[1;36m1000\u001b[0m\u001b[1;33m*\u001b[0m\u001b[1;33m(\u001b[0m\u001b[0mnp\u001b[0m\u001b[1;33m.\u001b[0m\u001b[0mcosh\u001b[0m\u001b[1;33m(\u001b[0m\u001b[1;36m4\u001b[0m\u001b[1;33m*\u001b[0m\u001b[0mx\u001b[0m\u001b[1;33m)\u001b[0m\u001b[1;33m**\u001b[0m\u001b[1;36m2\u001b[0m\u001b[1;33m)\u001b[0m\u001b[1;33m)\u001b[0m \u001b[1;33m-\u001b[0m \u001b[0mc\u001b[0m\u001b[1;33m/\u001b[0m\u001b[1;33m(\u001b[0m\u001b[1;36m1000\u001b[0m\u001b[1;33m*\u001b[0m\u001b[1;33m(\u001b[0m\u001b[0mnp\u001b[0m\u001b[1;33m.\u001b[0m\u001b[0mcosh\u001b[0m\u001b[1;33m(\u001b[0m\u001b[1;36m4\u001b[0m\u001b[1;33m)\u001b[0m\u001b[1;33m**\u001b[0m\u001b[1;36m2\u001b[0m\u001b[1;33m)\u001b[0m\u001b[1;33m)\u001b[0m\u001b[1;33m)\u001b[0m\u001b[1;33m\u001b[0m\u001b[0m\n\u001b[1;32m---> 66\u001b[1;33m     \u001b[0mliney\u001b[0m\u001b[1;33m.\u001b[0m\u001b[0mset_ydata\u001b[0m\u001b[1;33m(\u001b[0m\u001b[0mx\u001b[0m\u001b[1;33m,\u001b[0m \u001b[0mt\u001b[0m\u001b[1;33m(\u001b[0m\u001b[1;36m100\u001b[0m\u001b[1;33m,\u001b[0m\u001b[0mc\u001b[0m\u001b[1;33m)\u001b[0m \u001b[1;33m@\u001b[0m \u001b[0mvec\u001b[0m\u001b[1;33m[\u001b[0m\u001b[1;33m:\u001b[0m\u001b[1;33m,\u001b[0m\u001b[1;36m0\u001b[0m\u001b[1;33m]\u001b[0m\u001b[1;33m)\u001b[0m\u001b[1;33m\u001b[0m\u001b[0m\n\u001b[0m\u001b[0;32m     67\u001b[0m     \u001b[0mfig\u001b[0m\u001b[1;33m.\u001b[0m\u001b[0mcanvas\u001b[0m\u001b[1;33m.\u001b[0m\u001b[0mdraw\u001b[0m\u001b[1;33m(\u001b[0m\u001b[1;33m)\u001b[0m\u001b[1;33m\u001b[0m\u001b[0m\n\u001b[0;32m     68\u001b[0m \u001b[1;33m\u001b[0m\u001b[0m\n",
          "\u001b[1;31mTypeError\u001b[0m: set_ydata() takes 2 positional arguments but 3 were given"
         ]
        }
       ]
      }
     },
     "7620920b4c1d4bb4b696fc7b43ef3f2c": {
      "model_module": "@jupyter-widgets/controls",
      "model_module_version": "1.2.0",
      "model_name": "VBoxModel",
      "state": {
       "_dom_classes": [
        "widget-interact"
       ],
       "children": [
        "IPY_MODEL_a857ee6f9f574354be1d6c4b7faa558b",
        "IPY_MODEL_0c2ce0f589eb41509917bf7b7e7743fd"
       ],
       "layout": "IPY_MODEL_54a0847f7ffe4d31b6fc7beaa350d3f6"
      }
     },
     "765f37a4b1fb436dab2afa4e06bd43dc": {
      "model_module": "@jupyter-widgets/base",
      "model_module_version": "1.0.0",
      "model_name": "LayoutModel",
      "state": {}
     },
     "773bc7537022435d914ba45e491ebcbd": {
      "model_module": "@jupyter-widgets/base",
      "model_module_version": "1.0.0",
      "model_name": "LayoutModel",
      "state": {}
     },
     "781e6d3837444259a16423cb9bb7e19f": {
      "model_module": "@jupyter-widgets/output",
      "model_module_version": "1.0.0",
      "model_name": "OutputModel",
      "state": {
       "layout": "IPY_MODEL_8259893c06e04cdea14cd1023a0e5807"
      }
     },
     "7874d3542f4349bbb25ee08cb4ce74c5": {
      "model_module": "@jupyter-widgets/base",
      "model_module_version": "1.0.0",
      "model_name": "LayoutModel",
      "state": {}
     },
     "7876558a400148fe845153191cfe2736": {
      "model_module": "@jupyter-widgets/output",
      "model_module_version": "1.0.0",
      "model_name": "OutputModel",
      "state": {
       "layout": "IPY_MODEL_9f1df92212b541148693a3105516d1a4"
      }
     },
     "78bf059df41f42859aab83a4d034f0e0": {
      "model_module": "@jupyter-widgets/base",
      "model_module_version": "1.0.0",
      "model_name": "LayoutModel",
      "state": {}
     },
     "792d75c1b0b848639d731f7464147cc2": {
      "model_module": "@jupyter-widgets/controls",
      "model_module_version": "1.2.0",
      "model_name": "IntSliderModel",
      "state": {
       "description": "c",
       "layout": "IPY_MODEL_7874d3542f4349bbb25ee08cb4ce74c5",
       "max": 500,
       "min": -500,
       "style": "IPY_MODEL_d062a28e64304cca86c22011b8cf2175",
       "value": -500
      }
     },
     "793b13bd5021439ebd09b9d4ac993282": {
      "model_module": "@jupyter-widgets/controls",
      "model_module_version": "1.2.0",
      "model_name": "VBoxModel",
      "state": {
       "_dom_classes": [
        "widget-interact"
       ],
       "children": [
        "IPY_MODEL_05331cfcd8324b35b4f87d6ef60ffeb9",
        "IPY_MODEL_d1502bc853084d2490539a839c78af45"
       ],
       "layout": "IPY_MODEL_fea023dd3a684feb9ca2305c56f5cc9b"
      }
     },
     "7a306233f2dd4959b4801605788a63e0": {
      "model_module": "@jupyter-widgets/base",
      "model_module_version": "1.0.0",
      "model_name": "LayoutModel",
      "state": {}
     },
     "7b24cfdd30bb4384a6865822ccf9dd83": {
      "model_module": "@jupyter-widgets/controls",
      "model_module_version": "1.2.0",
      "model_name": "SliderStyleModel",
      "state": {
       "description_width": ""
      }
     },
     "7b74cef3a1274b058327877ac677c4bb": {
      "model_module": "@jupyter-widgets/controls",
      "model_module_version": "1.2.0",
      "model_name": "IntSliderModel",
      "state": {
       "description": "c",
       "layout": "IPY_MODEL_b49295c96e004b7eb68adce063be14f8",
       "max": 500,
       "min": -500,
       "style": "IPY_MODEL_bf91c8b5d0d44e7596a812faf68e9376",
       "value": 274
      }
     },
     "7bdf68e3555b40808b47c59fb4dfbba7": {
      "model_module": "@jupyter-widgets/controls",
      "model_module_version": "1.2.0",
      "model_name": "VBoxModel",
      "state": {
       "_dom_classes": [
        "widget-interact"
       ],
       "children": [
        "IPY_MODEL_ee04c99128064155a66b59f69874fe88",
        "IPY_MODEL_b06605ae87404b13aba00b8c7fb5a5b8"
       ],
       "layout": "IPY_MODEL_3463c92731ee44a2bb3b003484754158"
      }
     },
     "7c1ef0e52d8647e3aad34bf79f80241a": {
      "model_module": "@jupyter-widgets/controls",
      "model_module_version": "1.2.0",
      "model_name": "SliderStyleModel",
      "state": {
       "description_width": ""
      }
     },
     "7e5a55b394594820a194998aba90b5b8": {
      "model_module": "@jupyter-widgets/base",
      "model_module_version": "1.0.0",
      "model_name": "LayoutModel",
      "state": {}
     },
     "7e5e7b458b674fbdb70e944d58b29cb7": {
      "model_module": "@jupyter-widgets/base",
      "model_module_version": "1.0.0",
      "model_name": "LayoutModel",
      "state": {}
     },
     "7f0b25ae1c204b7cb89fe7e3b7baed0f": {
      "model_module": "@jupyter-widgets/base",
      "model_module_version": "1.0.0",
      "model_name": "LayoutModel",
      "state": {}
     },
     "7f97250f94634d4f9a41f8e03ef6edcf": {
      "model_module": "@jupyter-widgets/controls",
      "model_module_version": "1.2.0",
      "model_name": "VBoxModel",
      "state": {
       "_dom_classes": [
        "widget-interact"
       ],
       "children": [
        "IPY_MODEL_792d75c1b0b848639d731f7464147cc2",
        "IPY_MODEL_59a06d83bd0443a3b80c75e6913860d4"
       ],
       "layout": "IPY_MODEL_cc7748c2e27c4657862e9eced60e843c"
      }
     },
     "7fdae19fac0d42849757b082e67e25f3": {
      "model_module": "@jupyter-widgets/base",
      "model_module_version": "1.0.0",
      "model_name": "LayoutModel",
      "state": {}
     },
     "8028e2f04300437e9daad16eb21341ce": {
      "model_module": "@jupyter-widgets/controls",
      "model_module_version": "1.2.0",
      "model_name": "VBoxModel",
      "state": {
       "_dom_classes": [
        "widget-interact"
       ],
       "children": [
        "IPY_MODEL_d6a1e8527eee42b1a2bb1ab70b1f9ca8",
        "IPY_MODEL_e9d098d3d85642ffa08d259dc2834e93"
       ],
       "layout": "IPY_MODEL_70accbc1af174b2abf1ed744597b8dce"
      }
     },
     "8045fe2eb54c447e8a847a032170be32": {
      "model_module": "@jupyter-widgets/base",
      "model_module_version": "1.0.0",
      "model_name": "LayoutModel",
      "state": {}
     },
     "807910d34fde4d7db06b4b12a806337b": {
      "model_module": "@jupyter-widgets/base",
      "model_module_version": "1.0.0",
      "model_name": "LayoutModel",
      "state": {}
     },
     "80d542319fe349b98f583ab1a3d01218": {
      "model_module": "@jupyter-widgets/base",
      "model_module_version": "1.0.0",
      "model_name": "LayoutModel",
      "state": {}
     },
     "817d72a78e6c4b7cb401a339cfee2a29": {
      "model_module": "@jupyter-widgets/output",
      "model_module_version": "1.0.0",
      "model_name": "OutputModel",
      "state": {
       "layout": "IPY_MODEL_8e5027b34b254b6d876272d432ad5eb6"
      }
     },
     "8184257f09a847b9906f8c55f819a202": {
      "model_module": "@jupyter-widgets/output",
      "model_module_version": "1.0.0",
      "model_name": "OutputModel",
      "state": {
       "layout": "IPY_MODEL_4f3fa864fc744938a2c53ff1ec0d9b89"
      }
     },
     "81a1395dc0a84aa2a30c3f37ecbe6e37": {
      "model_module": "@jupyter-widgets/controls",
      "model_module_version": "1.2.0",
      "model_name": "VBoxModel",
      "state": {
       "_dom_classes": [
        "widget-interact"
       ],
       "children": [
        "IPY_MODEL_bd5c5e811f9c46f2bf96d63273c579db",
        "IPY_MODEL_9f771daa37754cf2bfe6030bb90ce702"
       ],
       "layout": "IPY_MODEL_0b0f395774734d7a81a4094e4d9bab5b"
      }
     },
     "81bf4582b7f44addb81d24d56e7031c6": {
      "model_module": "@jupyter-widgets/base",
      "model_module_version": "1.0.0",
      "model_name": "LayoutModel",
      "state": {}
     },
     "822060b1b3a045dcafe04296a751595f": {
      "model_module": "@jupyter-widgets/controls",
      "model_module_version": "1.2.0",
      "model_name": "SliderStyleModel",
      "state": {
       "description_width": ""
      }
     },
     "8259893c06e04cdea14cd1023a0e5807": {
      "model_module": "@jupyter-widgets/base",
      "model_module_version": "1.0.0",
      "model_name": "LayoutModel",
      "state": {}
     },
     "82ad689648024cabb18cac5253eeae0d": {
      "model_module": "@jupyter-widgets/base",
      "model_module_version": "1.0.0",
      "model_name": "LayoutModel",
      "state": {}
     },
     "82da8be043a34736bb8027f1c124bec1": {
      "model_module": "@jupyter-widgets/controls",
      "model_module_version": "1.2.0",
      "model_name": "SliderStyleModel",
      "state": {
       "description_width": ""
      }
     },
     "8360dd7cbbb144c4857a0181edfdb7e7": {
      "model_module": "@jupyter-widgets/base",
      "model_module_version": "1.0.0",
      "model_name": "LayoutModel",
      "state": {}
     },
     "8398e7304bc244ebb278bbb2e1968083": {
      "model_module": "@jupyter-widgets/base",
      "model_module_version": "1.0.0",
      "model_name": "LayoutModel",
      "state": {}
     },
     "8482aee11f0340e9b77130f186e52311": {
      "model_module": "@jupyter-widgets/base",
      "model_module_version": "1.0.0",
      "model_name": "LayoutModel",
      "state": {}
     },
     "84949c74d4be4da88b4c0d9a896f3241": {
      "model_module": "@jupyter-widgets/base",
      "model_module_version": "1.0.0",
      "model_name": "LayoutModel",
      "state": {}
     },
     "84c65c250d02459ea99372b041b2e341": {
      "model_module": "@jupyter-widgets/base",
      "model_module_version": "1.0.0",
      "model_name": "LayoutModel",
      "state": {}
     },
     "8526d4b5a2cf40b3b312d00f29bdb533": {
      "model_module": "@jupyter-widgets/controls",
      "model_module_version": "1.2.0",
      "model_name": "VBoxModel",
      "state": {
       "_dom_classes": [
        "widget-interact"
       ],
       "children": [
        "IPY_MODEL_f982509b1e344467b33d1958970433aa",
        "IPY_MODEL_781e6d3837444259a16423cb9bb7e19f"
       ],
       "layout": "IPY_MODEL_ffbcd41ff4444aab83fc7f4d12499568"
      }
     },
     "859e198167dd4fceaf15a058a469266a": {
      "model_module": "@jupyter-widgets/controls",
      "model_module_version": "1.2.0",
      "model_name": "SliderStyleModel",
      "state": {
       "description_width": ""
      }
     },
     "863f720dc314413b98506dfdcf5fe33a": {
      "model_module": "@jupyter-widgets/controls",
      "model_module_version": "1.2.0",
      "model_name": "SliderStyleModel",
      "state": {
       "description_width": ""
      }
     },
     "867112fb2d844008a706f553fac254b0": {
      "model_module": "@jupyter-widgets/base",
      "model_module_version": "1.0.0",
      "model_name": "LayoutModel",
      "state": {}
     },
     "867979740107429fb03bf61a51e79dda": {
      "model_module": "@jupyter-widgets/base",
      "model_module_version": "1.0.0",
      "model_name": "LayoutModel",
      "state": {}
     },
     "86d82e67d67941d3b83a2d15ff22ebb3": {
      "model_module": "@jupyter-widgets/controls",
      "model_module_version": "1.2.0",
      "model_name": "SliderStyleModel",
      "state": {
       "description_width": ""
      }
     },
     "8710c317cd3c4a5d89a790f9d0fa3e64": {
      "model_module": "@jupyter-widgets/controls",
      "model_module_version": "1.2.0",
      "model_name": "SliderStyleModel",
      "state": {
       "description_width": ""
      }
     },
     "87777f7324154fce8f0c07243ca62a22": {
      "model_module": "@jupyter-widgets/base",
      "model_module_version": "1.0.0",
      "model_name": "LayoutModel",
      "state": {}
     },
     "879481bc24ad4852ab137e5e7d0ad54a": {
      "model_module": "@jupyter-widgets/base",
      "model_module_version": "1.0.0",
      "model_name": "LayoutModel",
      "state": {}
     },
     "87ea357552ae417782811aa74b415964": {
      "model_module": "@jupyter-widgets/base",
      "model_module_version": "1.0.0",
      "model_name": "LayoutModel",
      "state": {}
     },
     "886616f141ac47f994b35ee64279e94e": {
      "model_module": "@jupyter-widgets/base",
      "model_module_version": "1.0.0",
      "model_name": "LayoutModel",
      "state": {}
     },
     "88686502ee3f44659f78293536e52f5a": {
      "model_module": "@jupyter-widgets/controls",
      "model_module_version": "1.2.0",
      "model_name": "SliderStyleModel",
      "state": {
       "description_width": ""
      }
     },
     "8925e6c96c0b45d887263d9fe1d42755": {
      "model_module": "@jupyter-widgets/base",
      "model_module_version": "1.0.0",
      "model_name": "LayoutModel",
      "state": {}
     },
     "895701d73dba4ba188e6235c6a125c62": {
      "model_module": "@jupyter-widgets/controls",
      "model_module_version": "1.2.0",
      "model_name": "IntSliderModel",
      "state": {
       "description": "c",
       "layout": "IPY_MODEL_b9da86bfae1143419c7600ea8ceb3fcc",
       "max": 5000,
       "min": -500,
       "style": "IPY_MODEL_9e112474d04f43809789bde53b9703ac",
       "value": 548
      }
     },
     "8aa196e7abb3480d84c2dc1839f0dcea": {
      "model_module": "@jupyter-widgets/base",
      "model_module_version": "1.0.0",
      "model_name": "LayoutModel",
      "state": {}
     },
     "8b0a5f806a474ca8a08ad69fdf820561": {
      "model_module": "@jupyter-widgets/base",
      "model_module_version": "1.0.0",
      "model_name": "LayoutModel",
      "state": {}
     },
     "8b1e07d9f15a4d35bcad352729694b9e": {
      "model_module": "@jupyter-widgets/controls",
      "model_module_version": "1.2.0",
      "model_name": "IntSliderModel",
      "state": {
       "description": "d",
       "layout": "IPY_MODEL_469996c5682046eca09a811e027689ad",
       "max": 500,
       "min": -500,
       "style": "IPY_MODEL_545c6492791640bebc05a32769d3f1b3",
       "value": 1
      }
     },
     "8ba73f00a169457287e7c6d61016fb77": {
      "model_module": "@jupyter-widgets/controls",
      "model_module_version": "1.2.0",
      "model_name": "VBoxModel",
      "state": {
       "_dom_classes": [
        "widget-interact"
       ],
       "children": [
        "IPY_MODEL_75149bd5f9df4b24bebeba07baf4fd0f",
        "IPY_MODEL_a4615c7132624221843e177239f3a55a"
       ],
       "layout": "IPY_MODEL_41992c51316b44c39b8027dee885bd2c"
      }
     },
     "8c40594ec6b14213a57f828f332275ad": {
      "model_module": "@jupyter-widgets/base",
      "model_module_version": "1.0.0",
      "model_name": "LayoutModel",
      "state": {}
     },
     "8c40662685a843d58157f52e2bea5de5": {
      "model_module": "@jupyter-widgets/controls",
      "model_module_version": "1.2.0",
      "model_name": "IntSliderModel",
      "state": {
       "description": "e",
       "layout": "IPY_MODEL_84949c74d4be4da88b4c0d9a896f3241",
       "max": 500,
       "min": -500,
       "style": "IPY_MODEL_2abe5acb0333415e806d7e5a760710ca",
       "value": -4
      }
     },
     "8c5ff9def228417780eeeae659583fb5": {
      "model_module": "@jupyter-widgets/controls",
      "model_module_version": "1.2.0",
      "model_name": "IntSliderModel",
      "state": {
       "description": "e",
       "layout": "IPY_MODEL_13be72b26a0544d2a77d446d27f8a5b6",
       "max": 500,
       "min": -500,
       "style": "IPY_MODEL_bb67edc68bd540a780132467e6327c1a",
       "value": 1
      }
     },
     "8c849d143503457b9c60c3d674a65961": {
      "model_module": "@jupyter-widgets/controls",
      "model_module_version": "1.2.0",
      "model_name": "SliderStyleModel",
      "state": {
       "description_width": ""
      }
     },
     "8ce619c5d92a4bd5b1c2235cb24fbc4c": {
      "model_module": "@jupyter-widgets/base",
      "model_module_version": "1.0.0",
      "model_name": "LayoutModel",
      "state": {}
     },
     "8d8d92c27dec471c8dea5dae5c161e44": {
      "model_module": "@jupyter-widgets/base",
      "model_module_version": "1.0.0",
      "model_name": "LayoutModel",
      "state": {}
     },
     "8e5027b34b254b6d876272d432ad5eb6": {
      "model_module": "@jupyter-widgets/base",
      "model_module_version": "1.0.0",
      "model_name": "LayoutModel",
      "state": {}
     },
     "8e623ca38492461595d228a2736b36ba": {
      "model_module": "@jupyter-widgets/output",
      "model_module_version": "1.0.0",
      "model_name": "OutputModel",
      "state": {
       "layout": "IPY_MODEL_03b67890bdf94467ae02fb097869b454"
      }
     },
     "8e8f85f496ee45879ebc836cbe9be4dd": {
      "model_module": "@jupyter-widgets/controls",
      "model_module_version": "1.2.0",
      "model_name": "VBoxModel",
      "state": {
       "_dom_classes": [
        "widget-interact"
       ],
       "children": [
        "IPY_MODEL_feda024a192d4b82bd2a2b8aa484827c",
        "IPY_MODEL_8184257f09a847b9906f8c55f819a202"
       ],
       "layout": "IPY_MODEL_973ae31de48a4b47a51681928d813a02"
      }
     },
     "8e9bd34a71f04b6cb0567a31b3b045cf": {
      "model_module": "@jupyter-widgets/controls",
      "model_module_version": "1.2.0",
      "model_name": "VBoxModel",
      "state": {
       "_dom_classes": [
        "widget-interact"
       ],
       "children": [
        "IPY_MODEL_97ad824e7ecb40dcae75a6152f443ee5",
        "IPY_MODEL_8fdc6f3ffc7e48ff8593be882a069cf8"
       ],
       "layout": "IPY_MODEL_223a82f5802b40dba8ff0cd2df5441a7"
      }
     },
     "8ed16635be4640c1b0e2e4ae8cb30419": {
      "model_module": "@jupyter-widgets/base",
      "model_module_version": "1.0.0",
      "model_name": "LayoutModel",
      "state": {}
     },
     "8fcd453604db4001867f0234a2ce374e": {
      "model_module": "@jupyter-widgets/controls",
      "model_module_version": "1.2.0",
      "model_name": "VBoxModel",
      "state": {
       "_dom_classes": [
        "widget-interact"
       ],
       "children": [
        "IPY_MODEL_20f5e5fbe312467d970a3d1b5af878f1",
        "IPY_MODEL_6889fa8c586c417984195d60ef6ba5a2"
       ],
       "layout": "IPY_MODEL_d31538b8a6294078a7029e1f869e0492"
      }
     },
     "8fdc6f3ffc7e48ff8593be882a069cf8": {
      "model_module": "@jupyter-widgets/output",
      "model_module_version": "1.0.0",
      "model_name": "OutputModel",
      "state": {
       "layout": "IPY_MODEL_e97dfb3719614ddf9b3e963fc95d4020"
      }
     },
     "90043809c9e24e03b6ba0b84cd04e6ed": {
      "model_module": "@jupyter-widgets/controls",
      "model_module_version": "1.2.0",
      "model_name": "SliderStyleModel",
      "state": {
       "description_width": ""
      }
     },
     "9056224dca9147a3a36ca2f1791e3081": {
      "model_module": "@jupyter-widgets/base",
      "model_module_version": "1.0.0",
      "model_name": "LayoutModel",
      "state": {}
     },
     "90f3cf7e68f84a9cb82c858f58370599": {
      "model_module": "@jupyter-widgets/base",
      "model_module_version": "1.0.0",
      "model_name": "LayoutModel",
      "state": {}
     },
     "9131520b91584aaeaa532f4e098b9d8a": {
      "model_module": "@jupyter-widgets/base",
      "model_module_version": "1.0.0",
      "model_name": "LayoutModel",
      "state": {}
     },
     "915e6b0a75ec402390415c4d55042155": {
      "model_module": "@jupyter-widgets/base",
      "model_module_version": "1.0.0",
      "model_name": "LayoutModel",
      "state": {}
     },
     "91c52be041ef4382b84e7c866db70829": {
      "model_module": "@jupyter-widgets/base",
      "model_module_version": "1.0.0",
      "model_name": "LayoutModel",
      "state": {}
     },
     "92a745f8491746129e7f4872898fa571": {
      "model_module": "@jupyter-widgets/base",
      "model_module_version": "1.0.0",
      "model_name": "LayoutModel",
      "state": {}
     },
     "92b5bc4d96d64f16b686fac03e6c6939": {
      "model_module": "@jupyter-widgets/controls",
      "model_module_version": "1.2.0",
      "model_name": "SliderStyleModel",
      "state": {
       "description_width": ""
      }
     },
     "9373955230f5474c89419a7ff4799b1e": {
      "model_module": "@jupyter-widgets/controls",
      "model_module_version": "1.2.0",
      "model_name": "IntSliderModel",
      "state": {
       "description": "c",
       "layout": "IPY_MODEL_8c40594ec6b14213a57f828f332275ad",
       "max": 500,
       "min": -500,
       "style": "IPY_MODEL_7c1ef0e52d8647e3aad34bf79f80241a",
       "value": 1
      }
     },
     "937eb6e751a84aa1ae053f3da1aad293": {
      "model_module": "@jupyter-widgets/base",
      "model_module_version": "1.0.0",
      "model_name": "LayoutModel",
      "state": {}
     },
     "940701cdfa564f2187569ccae5f960a6": {
      "model_module": "@jupyter-widgets/controls",
      "model_module_version": "1.2.0",
      "model_name": "IntSliderModel",
      "state": {
       "description": "c",
       "layout": "IPY_MODEL_b3edc3b37c22431789d5802932ba8bcd",
       "max": 500,
       "min": -500,
       "style": "IPY_MODEL_53e7de70d9a64fb48f6f5bf08361f7cb",
       "value": -185
      }
     },
     "946e0a4d9e1f497aaf9426c7774aebce": {
      "model_module": "@jupyter-widgets/controls",
      "model_module_version": "1.2.0",
      "model_name": "IntSliderModel",
      "state": {
       "description": "c",
       "layout": "IPY_MODEL_8aa196e7abb3480d84c2dc1839f0dcea",
       "max": 500,
       "min": -500,
       "style": "IPY_MODEL_859e198167dd4fceaf15a058a469266a",
       "value": 53
      }
     },
     "9559ee2e95aa43a096905b8f61b9f600": {
      "model_module": "@jupyter-widgets/controls",
      "model_module_version": "1.2.0",
      "model_name": "SliderStyleModel",
      "state": {
       "description_width": ""
      }
     },
     "95706a489e8e4af898070a7b67592986": {
      "model_module": "@jupyter-widgets/controls",
      "model_module_version": "1.2.0",
      "model_name": "IntSliderModel",
      "state": {
       "description": "d",
       "layout": "IPY_MODEL_d14fefab7e7b4d3d86b07bcb00d755ee",
       "max": 500,
       "min": -500,
       "style": "IPY_MODEL_20ef44c8c8a74ad18774cd16f678d181",
       "value": 118
      }
     },
     "95bc1d24ae4a4c43a0375a735f1c1d9f": {
      "model_module": "@jupyter-widgets/controls",
      "model_module_version": "1.2.0",
      "model_name": "VBoxModel",
      "state": {
       "_dom_classes": [
        "widget-interact"
       ],
       "children": [
        "IPY_MODEL_b305b4542773414594f3fd763fd3e56d",
        "IPY_MODEL_bcd7e1eae3384f219b53d25a606af751"
       ],
       "layout": "IPY_MODEL_fd1adac635904d4da13ac45f20abe0e7"
      }
     },
     "9605a3bd06c9431285d18a777627569f": {
      "model_module": "@jupyter-widgets/base",
      "model_module_version": "1.0.0",
      "model_name": "LayoutModel",
      "state": {}
     },
     "96af38874ce644c2850b5d9056d87e82": {
      "model_module": "@jupyter-widgets/output",
      "model_module_version": "1.0.0",
      "model_name": "OutputModel",
      "state": {
       "layout": "IPY_MODEL_1bc75d5a850e425bbf09ae6b691cc59c"
      }
     },
     "96f4b3aef2bd447a982c1a6a42cf7949": {
      "model_module": "@jupyter-widgets/controls",
      "model_module_version": "1.2.0",
      "model_name": "SliderStyleModel",
      "state": {
       "description_width": ""
      }
     },
     "97013e7b8a5e4504bb9bbbee0d942d1c": {
      "model_module": "@jupyter-widgets/controls",
      "model_module_version": "1.2.0",
      "model_name": "VBoxModel",
      "state": {
       "_dom_classes": [
        "widget-interact"
       ],
       "children": [
        "IPY_MODEL_b4bd71c71817426c94fdf29f6a77889b",
        "IPY_MODEL_aa1b452811874d929c3736f0f0100e1c"
       ],
       "layout": "IPY_MODEL_e69e7d2f1ad248cbb8c9ba5732682f60"
      }
     },
     "973ae31de48a4b47a51681928d813a02": {
      "model_module": "@jupyter-widgets/base",
      "model_module_version": "1.0.0",
      "model_name": "LayoutModel",
      "state": {}
     },
     "9753b1008b3849b9afd5084a2e6b4c20": {
      "model_module": "@jupyter-widgets/output",
      "model_module_version": "1.0.0",
      "model_name": "OutputModel",
      "state": {
       "layout": "IPY_MODEL_6d0bed4d4d0e41c0811adaee231ed3de"
      }
     },
     "975f2fa9a71444c8a980198392ad6f9e": {
      "model_module": "@jupyter-widgets/controls",
      "model_module_version": "1.2.0",
      "model_name": "SliderStyleModel",
      "state": {
       "description_width": ""
      }
     },
     "977d2313efbb4306a03e96b542f6e1c9": {
      "model_module": "@jupyter-widgets/controls",
      "model_module_version": "1.2.0",
      "model_name": "VBoxModel",
      "state": {
       "_dom_classes": [
        "widget-interact"
       ],
       "children": [
        "IPY_MODEL_8c5ff9def228417780eeeae659583fb5",
        "IPY_MODEL_7876558a400148fe845153191cfe2736"
       ],
       "layout": "IPY_MODEL_b191149286e4499b90bf5c6540abbd1a"
      }
     },
     "97a8888ebc7d41b385b10806b78911c7": {
      "model_module": "@jupyter-widgets/output",
      "model_module_version": "1.0.0",
      "model_name": "OutputModel",
      "state": {
       "layout": "IPY_MODEL_fa3c0b08017349a7b4c258ee601a67c8"
      }
     },
     "97ad824e7ecb40dcae75a6152f443ee5": {
      "model_module": "@jupyter-widgets/controls",
      "model_module_version": "1.2.0",
      "model_name": "IntSliderModel",
      "state": {
       "description": "c",
       "layout": "IPY_MODEL_f80005ecb6dd441aabda2a1e9ea89a8b",
       "max": 500,
       "min": -500,
       "style": "IPY_MODEL_f08d4c6ac7a841398bdb8a8682c8460a",
       "value": 36
      }
     },
     "9854a3cb77ea4364ad36f7aa66c823a4": {
      "model_module": "@jupyter-widgets/base",
      "model_module_version": "1.0.0",
      "model_name": "LayoutModel",
      "state": {}
     },
     "987c6479a9fa415db3e06b6d9ff2729c": {
      "model_module": "@jupyter-widgets/output",
      "model_module_version": "1.0.0",
      "model_name": "OutputModel",
      "state": {
       "layout": "IPY_MODEL_d9834b27917e48cf99ef98c7c8576333"
      }
     },
     "98b5f880934146638b22b80da5785b81": {
      "model_module": "@jupyter-widgets/output",
      "model_module_version": "1.0.0",
      "model_name": "OutputModel",
      "state": {
       "layout": "IPY_MODEL_0cd542174c56436db9d6e9edc78e7591"
      }
     },
     "98c0b0368eea483e94f02b3ad3adcaac": {
      "model_module": "@jupyter-widgets/controls",
      "model_module_version": "1.2.0",
      "model_name": "VBoxModel",
      "state": {
       "_dom_classes": [
        "widget-interact"
       ],
       "children": [
        "IPY_MODEL_99bb4517fe9b4513aa8edbe31ad88b4c",
        "IPY_MODEL_264b2f4307594864af670e59c0d756cd"
       ],
       "layout": "IPY_MODEL_6547dce42b454c36a215a9a7874ccbd2"
      }
     },
     "98e31bb4f3de4099826099f3b92de139": {
      "model_module": "@jupyter-widgets/output",
      "model_module_version": "1.0.0",
      "model_name": "OutputModel",
      "state": {
       "layout": "IPY_MODEL_9d2a347a32d94b02b7ea4a284c8f3417"
      }
     },
     "99bb4517fe9b4513aa8edbe31ad88b4c": {
      "model_module": "@jupyter-widgets/controls",
      "model_module_version": "1.2.0",
      "model_name": "IntSliderModel",
      "state": {
       "description": "c",
       "layout": "IPY_MODEL_773bc7537022435d914ba45e491ebcbd",
       "max": 500,
       "min": -500,
       "style": "IPY_MODEL_269e854f90fa4a2392eee06361b0d36a",
       "value": 1
      }
     },
     "9a2c3679bffe43fbad61ea3e20982aa4": {
      "model_module": "@jupyter-widgets/base",
      "model_module_version": "1.0.0",
      "model_name": "LayoutModel",
      "state": {}
     },
     "9ab50eff392d44e1a1326cc06441e461": {
      "model_module": "@jupyter-widgets/output",
      "model_module_version": "1.0.0",
      "model_name": "OutputModel",
      "state": {
       "layout": "IPY_MODEL_f9d8b5574ba045bc985d8305a30c71f9"
      }
     },
     "9b8eef046c684f1bb695ab9e56d1bd3c": {
      "model_module": "@jupyter-widgets/controls",
      "model_module_version": "1.2.0",
      "model_name": "IntSliderModel",
      "state": {
       "description": "e",
       "layout": "IPY_MODEL_c36ce5c398e34f70ae544184d0fb982e",
       "max": 500,
       "min": -500,
       "style": "IPY_MODEL_1b30451bd06f453ca7a8eed5a179ff2c",
       "value": -1
      }
     },
     "9ca2ee5117154ece91e96284c19f2d8f": {
      "model_module": "@jupyter-widgets/base",
      "model_module_version": "1.0.0",
      "model_name": "LayoutModel",
      "state": {}
     },
     "9d2a347a32d94b02b7ea4a284c8f3417": {
      "model_module": "@jupyter-widgets/base",
      "model_module_version": "1.0.0",
      "model_name": "LayoutModel",
      "state": {}
     },
     "9d2e7294e4264ea2a41760f06431a867": {
      "model_module": "@jupyter-widgets/controls",
      "model_module_version": "1.2.0",
      "model_name": "IntSliderModel",
      "state": {
       "description": "c",
       "layout": "IPY_MODEL_1916055591a44f64b2503eb077a2d1c1",
       "max": 500,
       "min": -500,
       "style": "IPY_MODEL_d69a6a7f42a043b49d6cf18427e4c07b",
       "value": 1
      }
     },
     "9ddafe4ceb1b4afe940c3f75d6862c50": {
      "model_module": "@jupyter-widgets/controls",
      "model_module_version": "1.2.0",
      "model_name": "VBoxModel",
      "state": {
       "_dom_classes": [
        "widget-interact"
       ],
       "children": [
        "IPY_MODEL_fed67fa4c97e487bb224a36b6dbad883",
        "IPY_MODEL_9753b1008b3849b9afd5084a2e6b4c20"
       ],
       "layout": "IPY_MODEL_5737c5e956ff4359b7d55f7c9cc2a450"
      }
     },
     "9e112474d04f43809789bde53b9703ac": {
      "model_module": "@jupyter-widgets/controls",
      "model_module_version": "1.2.0",
      "model_name": "SliderStyleModel",
      "state": {
       "description_width": ""
      }
     },
     "9e48fe642a024dd6908a56b0ed494105": {
      "model_module": "@jupyter-widgets/base",
      "model_module_version": "1.0.0",
      "model_name": "LayoutModel",
      "state": {}
     },
     "9e666fe22e294907830c00f69de47ce2": {
      "model_module": "@jupyter-widgets/controls",
      "model_module_version": "1.2.0",
      "model_name": "SliderStyleModel",
      "state": {
       "description_width": ""
      }
     },
     "9f1df92212b541148693a3105516d1a4": {
      "model_module": "@jupyter-widgets/base",
      "model_module_version": "1.0.0",
      "model_name": "LayoutModel",
      "state": {}
     },
     "9f771daa37754cf2bfe6030bb90ce702": {
      "model_module": "@jupyter-widgets/output",
      "model_module_version": "1.0.0",
      "model_name": "OutputModel",
      "state": {
       "layout": "IPY_MODEL_f53a0d81be1d4c37bf0062ef92654ae0"
      }
     },
     "9fd6467443cb410d875d2482a2960645": {
      "model_module": "@jupyter-widgets/base",
      "model_module_version": "1.0.0",
      "model_name": "LayoutModel",
      "state": {}
     },
     "a08ad471d9ab4499998d9f02b7c77f43": {
      "model_module": "@jupyter-widgets/controls",
      "model_module_version": "1.2.0",
      "model_name": "IntSliderModel",
      "state": {
       "description": "c",
       "layout": "IPY_MODEL_9e48fe642a024dd6908a56b0ed494105",
       "max": 500,
       "min": -500,
       "style": "IPY_MODEL_63c175bd09ef49c2a78878304f88389a",
       "value": 190
      }
     },
     "a08d91265c434a0d82279eb4ca33459a": {
      "model_module": "@jupyter-widgets/output",
      "model_module_version": "1.0.0",
      "model_name": "OutputModel",
      "state": {
       "layout": "IPY_MODEL_87777f7324154fce8f0c07243ca62a22"
      }
     },
     "a0ddba8d49c049eca593ba9264842187": {
      "model_module": "@jupyter-widgets/controls",
      "model_module_version": "1.2.0",
      "model_name": "IntSliderModel",
      "state": {
       "description": "c",
       "layout": "IPY_MODEL_c5f88eb54c2444bb87fb86fb9b60bee7",
       "max": 500,
       "min": -500,
       "style": "IPY_MODEL_3526f43d71184faa85b07d4f93b85d4e",
       "value": 1
      }
     },
     "a1aeeaa4e5a84fec9af0bf8dc81228c8": {
      "model_module": "@jupyter-widgets/base",
      "model_module_version": "1.0.0",
      "model_name": "LayoutModel",
      "state": {}
     },
     "a364bba0da004b209d4b86cba1dc097a": {
      "model_module": "@jupyter-widgets/base",
      "model_module_version": "1.0.0",
      "model_name": "LayoutModel",
      "state": {}
     },
     "a40bff1c5afe4ba9abd413376e489c03": {
      "model_module": "@jupyter-widgets/controls",
      "model_module_version": "1.2.0",
      "model_name": "SliderStyleModel",
      "state": {
       "description_width": ""
      }
     },
     "a435c7807ccf4289abd275db51b76658": {
      "model_module": "@jupyter-widgets/controls",
      "model_module_version": "1.2.0",
      "model_name": "VBoxModel",
      "state": {
       "_dom_classes": [
        "widget-interact"
       ],
       "children": [
        "IPY_MODEL_dc76f7700a3146b6a2596fbf3aa6e1d5",
        "IPY_MODEL_74439049a338417f9e700e1a673d9be9"
       ],
       "layout": "IPY_MODEL_df58caedc6a142fa98e39a639c33e842"
      }
     },
     "a4615c7132624221843e177239f3a55a": {
      "model_module": "@jupyter-widgets/output",
      "model_module_version": "1.0.0",
      "model_name": "OutputModel",
      "state": {
       "layout": "IPY_MODEL_ddf33035b6a34bdaaed0046289ee446f"
      }
     },
     "a46fd4e3d39a4f8797ed606bde3f1635": {
      "model_module": "@jupyter-widgets/base",
      "model_module_version": "1.0.0",
      "model_name": "LayoutModel",
      "state": {}
     },
     "a4b36f0aec08420684a4552f983661cc": {
      "model_module": "@jupyter-widgets/base",
      "model_module_version": "1.0.0",
      "model_name": "LayoutModel",
      "state": {}
     },
     "a512622a154f4b3c97f64b207afcaf09": {
      "model_module": "@jupyter-widgets/controls",
      "model_module_version": "1.2.0",
      "model_name": "VBoxModel",
      "state": {
       "_dom_classes": [
        "widget-interact"
       ],
       "children": [
        "IPY_MODEL_c8efd2d24fd44ac68e6a149403ccd27f",
        "IPY_MODEL_e05d4f60cd914f16bcc6614b6fd81bfa"
       ],
       "layout": "IPY_MODEL_d7e5ceb1c7c04effa9bd85cae960656d"
      }
     },
     "a5952df04162400f8ff35fba7a2f536b": {
      "model_module": "@jupyter-widgets/base",
      "model_module_version": "1.0.0",
      "model_name": "LayoutModel",
      "state": {}
     },
     "a68ac7b609914f07b8559c9bbb0546d9": {
      "model_module": "@jupyter-widgets/controls",
      "model_module_version": "1.2.0",
      "model_name": "SliderStyleModel",
      "state": {
       "description_width": ""
      }
     },
     "a6c7480757a243cb924eda8de038e325": {
      "model_module": "@jupyter-widgets/output",
      "model_module_version": "1.0.0",
      "model_name": "OutputModel",
      "state": {
       "layout": "IPY_MODEL_ba265feaf16d4f3fb1156b272861de1a"
      }
     },
     "a80f9eafb38d43ebb96138dbd8844ac7": {
      "model_module": "@jupyter-widgets/base",
      "model_module_version": "1.0.0",
      "model_name": "LayoutModel",
      "state": {}
     },
     "a8378100da5143ec82a215a86a7ebb52": {
      "model_module": "@jupyter-widgets/output",
      "model_module_version": "1.0.0",
      "model_name": "OutputModel",
      "state": {
       "layout": "IPY_MODEL_db3ae09e5b0d45bf936225e8e7d3285a"
      }
     },
     "a857ee6f9f574354be1d6c4b7faa558b": {
      "model_module": "@jupyter-widgets/controls",
      "model_module_version": "1.2.0",
      "model_name": "IntSliderModel",
      "state": {
       "description": "c",
       "layout": "IPY_MODEL_b00406efc720491599f2d39a158844ea",
       "max": 500,
       "min": -500,
       "style": "IPY_MODEL_c66f5149a68446dab99dfd66f4876e68",
       "value": 1
      }
     },
     "a888f983ae6c49a4ac1a685a6bc958f5": {
      "model_module": "@jupyter-widgets/output",
      "model_module_version": "1.0.0",
      "model_name": "OutputModel",
      "state": {
       "layout": "IPY_MODEL_453d9c6e9ceb41b18c313d476314ede1"
      }
     },
     "a9208793593a4988ba8053883acc7301": {
      "model_module": "@jupyter-widgets/output",
      "model_module_version": "1.0.0",
      "model_name": "OutputModel",
      "state": {
       "layout": "IPY_MODEL_50ca13a41b6d4b32a95368c99b56bc1b"
      }
     },
     "a97dacad52db46b7b16b6ff6edd606c5": {
      "model_module": "@jupyter-widgets/base",
      "model_module_version": "1.0.0",
      "model_name": "LayoutModel",
      "state": {}
     },
     "a9c7fabdbf3049d8a49d2cb2d0df50ce": {
      "model_module": "@jupyter-widgets/controls",
      "model_module_version": "1.2.0",
      "model_name": "SliderStyleModel",
      "state": {
       "description_width": ""
      }
     },
     "aa1b452811874d929c3736f0f0100e1c": {
      "model_module": "@jupyter-widgets/output",
      "model_module_version": "1.0.0",
      "model_name": "OutputModel",
      "state": {
       "layout": "IPY_MODEL_fde04b2083e640df908cf12b5a621ece"
      }
     },
     "aaad31a5f4194c608c09865486f985ab": {
      "model_module": "@jupyter-widgets/controls",
      "model_module_version": "1.2.0",
      "model_name": "SliderStyleModel",
      "state": {
       "description_width": ""
      }
     },
     "ab06cc98cc32425bb808e4b254b495a7": {
      "model_module": "@jupyter-widgets/controls",
      "model_module_version": "1.2.0",
      "model_name": "VBoxModel",
      "state": {
       "_dom_classes": [
        "widget-interact"
       ],
       "children": [
        "IPY_MODEL_07a2dacdc4a147acadf147dd646d9324",
        "IPY_MODEL_d7ae6a30d8254c2192e84c5a6d8a4cd5"
       ],
       "layout": "IPY_MODEL_cb8ed0ee2894424fa34bbb82ee160a8f"
      }
     },
     "ab8a823d17df4e21a40a3ab693815232": {
      "model_module": "@jupyter-widgets/base",
      "model_module_version": "1.0.0",
      "model_name": "LayoutModel",
      "state": {}
     },
     "abcb26ee1a544d668b52682fa0ea567c": {
      "model_module": "@jupyter-widgets/output",
      "model_module_version": "1.0.0",
      "model_name": "OutputModel",
      "state": {
       "layout": "IPY_MODEL_a1aeeaa4e5a84fec9af0bf8dc81228c8"
      }
     },
     "abe94cba84d6400594a1895b1f8e378e": {
      "model_module": "@jupyter-widgets/base",
      "model_module_version": "1.0.0",
      "model_name": "LayoutModel",
      "state": {}
     },
     "ac421deeaf8e40ac86059a107f33de97": {
      "model_module": "@jupyter-widgets/output",
      "model_module_version": "1.0.0",
      "model_name": "OutputModel",
      "state": {
       "layout": "IPY_MODEL_6b0cbc1c9a8f431e80ac5eee9711c3d9"
      }
     },
     "ad4f005ab7214a3aa003b602f9f9e0ae": {
      "model_module": "@jupyter-widgets/controls",
      "model_module_version": "1.2.0",
      "model_name": "VBoxModel",
      "state": {
       "_dom_classes": [
        "widget-interact"
       ],
       "children": [
        "IPY_MODEL_4f7679af2d50436d980ca8d4731cc867",
        "IPY_MODEL_0afb30682d0e47948c8fe92a1340a118"
       ],
       "layout": "IPY_MODEL_3a7ec279ddeb491197f6ee2d1a3cb510"
      }
     },
     "ad881e58c5ca49ea8c180351ef163e8d": {
      "model_module": "@jupyter-widgets/controls",
      "model_module_version": "1.2.0",
      "model_name": "SliderStyleModel",
      "state": {
       "description_width": ""
      }
     },
     "adf534a84b1142869f9bc002daa8ff78": {
      "model_module": "@jupyter-widgets/base",
      "model_module_version": "1.0.0",
      "model_name": "LayoutModel",
      "state": {}
     },
     "ae042523baed420ca4d3ff76c12b6f9d": {
      "model_module": "@jupyter-widgets/controls",
      "model_module_version": "1.2.0",
      "model_name": "IntSliderModel",
      "state": {
       "description": "c",
       "layout": "IPY_MODEL_3403f409f3f245a2925948f1446410ee",
       "max": 500,
       "min": -500,
       "style": "IPY_MODEL_2d7a38aa7ad84d82aa1d257aeaa5ef0f",
       "value": 149
      }
     },
     "ae0f2e4090f549acb67cf1e46a5b5cd1": {
      "model_module": "@jupyter-widgets/base",
      "model_module_version": "1.0.0",
      "model_name": "LayoutModel",
      "state": {}
     },
     "ae40e4a1e34a45b5b4014b3397b041b2": {
      "model_module": "@jupyter-widgets/controls",
      "model_module_version": "1.2.0",
      "model_name": "IntSliderModel",
      "state": {
       "description": "e",
       "layout": "IPY_MODEL_3474913c2b064d68a483e5647faa9668",
       "max": 500,
       "min": -500,
       "style": "IPY_MODEL_06bc092a24d348d5b60c1ffee8a2226f",
       "value": 1
      }
     },
     "aeb46e667bbf4fae98e9c78688a128a6": {
      "model_module": "@jupyter-widgets/output",
      "model_module_version": "1.0.0",
      "model_name": "OutputModel",
      "state": {
       "layout": "IPY_MODEL_2196f9ac2506444fa08f3976ad9acba6"
      }
     },
     "aebe1156d20049f7885e3c089cb66242": {
      "model_module": "@jupyter-widgets/controls",
      "model_module_version": "1.2.0",
      "model_name": "SliderStyleModel",
      "state": {
       "description_width": ""
      }
     },
     "b00406efc720491599f2d39a158844ea": {
      "model_module": "@jupyter-widgets/base",
      "model_module_version": "1.0.0",
      "model_name": "LayoutModel",
      "state": {}
     },
     "b06605ae87404b13aba00b8c7fb5a5b8": {
      "model_module": "@jupyter-widgets/output",
      "model_module_version": "1.0.0",
      "model_name": "OutputModel",
      "state": {
       "layout": "IPY_MODEL_4778959e44a34f09beebe1599e365a4d"
      }
     },
     "b0bbaed52ddc4a1796456ba115edb817": {
      "model_module": "@jupyter-widgets/controls",
      "model_module_version": "1.2.0",
      "model_name": "VBoxModel",
      "state": {
       "_dom_classes": [
        "widget-interact"
       ],
       "children": [
        "IPY_MODEL_c6958896745343fe9e150ee1ea9b955d",
        "IPY_MODEL_a888f983ae6c49a4ac1a685a6bc958f5"
       ],
       "layout": "IPY_MODEL_b5f670f27dd1489b8f03ed1af0fc6352"
      }
     },
     "b13cc44a8ddb4a278790341a57971efe": {
      "model_module": "@jupyter-widgets/base",
      "model_module_version": "1.0.0",
      "model_name": "LayoutModel",
      "state": {}
     },
     "b191149286e4499b90bf5c6540abbd1a": {
      "model_module": "@jupyter-widgets/base",
      "model_module_version": "1.0.0",
      "model_name": "LayoutModel",
      "state": {}
     },
     "b1a41d88ce57445c8df643f19bb36ad6": {
      "model_module": "@jupyter-widgets/controls",
      "model_module_version": "1.2.0",
      "model_name": "VBoxModel",
      "state": {
       "_dom_classes": [
        "widget-interact"
       ],
       "children": [
        "IPY_MODEL_8c40662685a843d58157f52e2bea5de5",
        "IPY_MODEL_aeb46e667bbf4fae98e9c78688a128a6"
       ],
       "layout": "IPY_MODEL_712661fc1a1a4db19d361bb52b2d0779"
      }
     },
     "b1cbb08d8cff4213a8bb3eaf1739f8bb": {
      "model_module": "@jupyter-widgets/base",
      "model_module_version": "1.0.0",
      "model_name": "LayoutModel",
      "state": {}
     },
     "b2ead9189fa34eef83ebbee987606987": {
      "model_module": "@jupyter-widgets/base",
      "model_module_version": "1.0.0",
      "model_name": "LayoutModel",
      "state": {}
     },
     "b2fc01f7af0842d78504ef17457b793e": {
      "model_module": "@jupyter-widgets/controls",
      "model_module_version": "1.2.0",
      "model_name": "SliderStyleModel",
      "state": {
       "description_width": ""
      }
     },
     "b305b4542773414594f3fd763fd3e56d": {
      "model_module": "@jupyter-widgets/controls",
      "model_module_version": "1.2.0",
      "model_name": "IntSliderModel",
      "state": {
       "description": "e",
       "layout": "IPY_MODEL_ed64eb67a62940ab819934a9d6af5d4e",
       "max": 500,
       "min": -500,
       "style": "IPY_MODEL_f929a5b582eb43ed879bfcd90c1dcfcf",
       "value": 231
      }
     },
     "b3c4e5e3c500482f8d1722fe000347a8": {
      "model_module": "@jupyter-widgets/controls",
      "model_module_version": "1.2.0",
      "model_name": "IntSliderModel",
      "state": {
       "description": "e",
       "layout": "IPY_MODEL_8ed16635be4640c1b0e2e4ae8cb30419",
       "max": 500,
       "min": -500,
       "style": "IPY_MODEL_50d69784e5304cfd94fc8b3e6a0ec59b",
       "value": -10
      }
     },
     "b3d33639799645a9a0e9f5032775395d": {
      "model_module": "@jupyter-widgets/base",
      "model_module_version": "1.0.0",
      "model_name": "LayoutModel",
      "state": {}
     },
     "b3edc3b37c22431789d5802932ba8bcd": {
      "model_module": "@jupyter-widgets/base",
      "model_module_version": "1.0.0",
      "model_name": "LayoutModel",
      "state": {}
     },
     "b45a7d885c114499a881c7b3a9572b28": {
      "model_module": "@jupyter-widgets/controls",
      "model_module_version": "1.2.0",
      "model_name": "IntSliderModel",
      "state": {
       "description": "c",
       "layout": "IPY_MODEL_dfd77fe169864e05b2550e27136f54d2",
       "max": 500,
       "min": -500,
       "style": "IPY_MODEL_fce65dd33de64fe0ab5057ac0e5b3d2b",
       "value": 1
      }
     },
     "b49295c96e004b7eb68adce063be14f8": {
      "model_module": "@jupyter-widgets/base",
      "model_module_version": "1.0.0",
      "model_name": "LayoutModel",
      "state": {}
     },
     "b4bd71c71817426c94fdf29f6a77889b": {
      "model_module": "@jupyter-widgets/controls",
      "model_module_version": "1.2.0",
      "model_name": "IntSliderModel",
      "state": {
       "description": "c",
       "layout": "IPY_MODEL_7005a469c5764551a6347363073f93fe",
       "max": 500,
       "min": -500,
       "style": "IPY_MODEL_004451182a5342cb9fbd6070d3c39159",
       "value": 1
      }
     },
     "b5f670f27dd1489b8f03ed1af0fc6352": {
      "model_module": "@jupyter-widgets/base",
      "model_module_version": "1.0.0",
      "model_name": "LayoutModel",
      "state": {}
     },
     "b616e15928cf4eb38193df0f75fba719": {
      "model_module": "@jupyter-widgets/controls",
      "model_module_version": "1.2.0",
      "model_name": "VBoxModel",
      "state": {
       "_dom_classes": [
        "widget-interact"
       ],
       "children": [
        "IPY_MODEL_d8dbf730243446ef899f5888dfe5616d",
        "IPY_MODEL_d1aae08fe41e4b3b946379ed747bca95"
       ],
       "layout": "IPY_MODEL_025bd1f4b72f4e4799f38058de18700e"
      }
     },
     "b644362dc2654d6fa1332d8dc7cda43f": {
      "model_module": "@jupyter-widgets/controls",
      "model_module_version": "1.2.0",
      "model_name": "IntSliderModel",
      "state": {
       "description": "c",
       "layout": "IPY_MODEL_67f28980254a437190b0b241601aa3e5",
       "max": 500,
       "min": -500,
       "style": "IPY_MODEL_ad881e58c5ca49ea8c180351ef163e8d",
       "value": 85
      }
     },
     "b653a9039638498d920b33da26ae2dd6": {
      "model_module": "@jupyter-widgets/output",
      "model_module_version": "1.0.0",
      "model_name": "OutputModel",
      "state": {
       "layout": "IPY_MODEL_ccc2dc8981304a8191361408a3e3f7b1"
      }
     },
     "b686d222cbdc4500bb7da5e9c1e7ed01": {
      "model_module": "@jupyter-widgets/controls",
      "model_module_version": "1.2.0",
      "model_name": "IntSliderModel",
      "state": {
       "description": "d",
       "layout": "IPY_MODEL_e0ec84250f5a476bb4741673d4d874c7",
       "max": 500,
       "min": -500,
       "style": "IPY_MODEL_d8b55ca14e314f6d9a1c54084a3e0ae5",
       "value": 1
      }
     },
     "b716545c88134877afa8f31977bd1892": {
      "model_module": "@jupyter-widgets/output",
      "model_module_version": "1.0.0",
      "model_name": "OutputModel",
      "state": {
       "layout": "IPY_MODEL_0a78019cfe5d40129663c14c171542f9"
      }
     },
     "b7212d9d1d854840aece80f93a087738": {
      "model_module": "@jupyter-widgets/controls",
      "model_module_version": "1.2.0",
      "model_name": "VBoxModel",
      "state": {
       "_dom_classes": [
        "widget-interact"
       ],
       "children": [
        "IPY_MODEL_5be430e6b093444c8175a187ff9484e3",
        "IPY_MODEL_692e3953759f451786a8685cf0407383"
       ],
       "layout": "IPY_MODEL_435b3181dd214a33b95de5e8fe5998c7"
      }
     },
     "b8989fa612d142adb76e2af32b26c1d9": {
      "model_module": "@jupyter-widgets/controls",
      "model_module_version": "1.2.0",
      "model_name": "SliderStyleModel",
      "state": {
       "description_width": ""
      }
     },
     "b8b95295a97a4100acf04edbbe8f7436": {
      "model_module": "@jupyter-widgets/output",
      "model_module_version": "1.0.0",
      "model_name": "OutputModel",
      "state": {
       "layout": "IPY_MODEL_13655a655c484c3ba2391c9b3512ac86"
      }
     },
     "b914491239d64b48a2c9cbb8ef63a07f": {
      "model_module": "@jupyter-widgets/controls",
      "model_module_version": "1.2.0",
      "model_name": "VBoxModel",
      "state": {
       "_dom_classes": [
        "widget-interact"
       ],
       "children": [
        "IPY_MODEL_cea5d8d7665b431686999ad1e8854bf9",
        "IPY_MODEL_e36bb22df85c459d91bb53a33be523b9"
       ],
       "layout": "IPY_MODEL_807910d34fde4d7db06b4b12a806337b"
      }
     },
     "b9997fe3919d4ec4b127d25aeb921abb": {
      "model_module": "@jupyter-widgets/output",
      "model_module_version": "1.0.0",
      "model_name": "OutputModel",
      "state": {
       "layout": "IPY_MODEL_1732fa2eecd6456eb586d898c00c8c1c"
      }
     },
     "b9da86bfae1143419c7600ea8ceb3fcc": {
      "model_module": "@jupyter-widgets/base",
      "model_module_version": "1.0.0",
      "model_name": "LayoutModel",
      "state": {}
     },
     "ba1423e4090645d691306483feeefb6c": {
      "model_module": "@jupyter-widgets/base",
      "model_module_version": "1.0.0",
      "model_name": "LayoutModel",
      "state": {}
     },
     "ba265feaf16d4f3fb1156b272861de1a": {
      "model_module": "@jupyter-widgets/base",
      "model_module_version": "1.0.0",
      "model_name": "LayoutModel",
      "state": {}
     },
     "ba77de4cf58245d9807796ee562d851e": {
      "model_module": "@jupyter-widgets/output",
      "model_module_version": "1.0.0",
      "model_name": "OutputModel",
      "state": {
       "layout": "IPY_MODEL_5494e4c1c206418dbeff8cb59df50ed5"
      }
     },
     "bb67edc68bd540a780132467e6327c1a": {
      "model_module": "@jupyter-widgets/controls",
      "model_module_version": "1.2.0",
      "model_name": "SliderStyleModel",
      "state": {
       "description_width": ""
      }
     },
     "bb8b9b56f2b84000b4e92ab3e69eec3f": {
      "model_module": "@jupyter-widgets/base",
      "model_module_version": "1.0.0",
      "model_name": "LayoutModel",
      "state": {}
     },
     "bb90bbf5676844f6bd6789c434304867": {
      "model_module": "@jupyter-widgets/base",
      "model_module_version": "1.0.0",
      "model_name": "LayoutModel",
      "state": {}
     },
     "bcd7e1eae3384f219b53d25a606af751": {
      "model_module": "@jupyter-widgets/output",
      "model_module_version": "1.0.0",
      "model_name": "OutputModel",
      "state": {
       "layout": "IPY_MODEL_3eee6dee7c834b01a223fa43962d855f"
      }
     },
     "bcf2e642313f4c0bb89ef5e4d4a8ab6a": {
      "model_module": "@jupyter-widgets/base",
      "model_module_version": "1.0.0",
      "model_name": "LayoutModel",
      "state": {}
     },
     "bd300ac71eaa4877afd14e7a6ef2074b": {
      "model_module": "@jupyter-widgets/base",
      "model_module_version": "1.0.0",
      "model_name": "LayoutModel",
      "state": {}
     },
     "bd5c5e811f9c46f2bf96d63273c579db": {
      "model_module": "@jupyter-widgets/controls",
      "model_module_version": "1.2.0",
      "model_name": "IntSliderModel",
      "state": {
       "description": "c",
       "layout": "IPY_MODEL_0dbb8792e5494e248df5f67e803a08fd",
       "max": 500,
       "min": -500,
       "style": "IPY_MODEL_02d3a1fc429b4f9b80ef138dc0ba747b",
       "value": 1
      }
     },
     "bddba9d532ef453fb556b3935ec600da": {
      "model_module": "@jupyter-widgets/controls",
      "model_module_version": "1.2.0",
      "model_name": "SliderStyleModel",
      "state": {
       "description_width": ""
      }
     },
     "bef97a16c39444edbc33bd65ccec07c1": {
      "model_module": "@jupyter-widgets/controls",
      "model_module_version": "1.2.0",
      "model_name": "IntSliderModel",
      "state": {
       "description": "c",
       "layout": "IPY_MODEL_3e7835ab22fa4720aac2f418b814a46b",
       "max": 500,
       "min": -500,
       "style": "IPY_MODEL_a9c7fabdbf3049d8a49d2cb2d0df50ce",
       "value": 77
      }
     },
     "bf347c90999b402d9d3909389fd38a75": {
      "model_module": "@jupyter-widgets/base",
      "model_module_version": "1.0.0",
      "model_name": "LayoutModel",
      "state": {}
     },
     "bf4983fb61a8498e89f54f6d246278b1": {
      "model_module": "@jupyter-widgets/controls",
      "model_module_version": "1.2.0",
      "model_name": "IntSliderModel",
      "state": {
       "description": "c",
       "layout": "IPY_MODEL_43f05a7289ff4614832b94e46f00159e",
       "max": 500,
       "min": -500,
       "style": "IPY_MODEL_f78a06cc2fc943b9a501961ddd06ed66",
       "value": 500
      }
     },
     "bf6a318237b24c26a5d728bda7e849f4": {
      "model_module": "@jupyter-widgets/base",
      "model_module_version": "1.0.0",
      "model_name": "LayoutModel",
      "state": {}
     },
     "bf91c8b5d0d44e7596a812faf68e9376": {
      "model_module": "@jupyter-widgets/controls",
      "model_module_version": "1.2.0",
      "model_name": "SliderStyleModel",
      "state": {
       "description_width": ""
      }
     },
     "bf9e0da336d34755afe0794bd97c75f2": {
      "model_module": "@jupyter-widgets/controls",
      "model_module_version": "1.2.0",
      "model_name": "VBoxModel",
      "state": {
       "_dom_classes": [
        "widget-interact"
       ],
       "children": [
        "IPY_MODEL_ae40e4a1e34a45b5b4014b3397b041b2",
        "IPY_MODEL_c4310f074a304b30838a7b175921e0a4"
       ],
       "layout": "IPY_MODEL_c9e7ceaf0b374319b5d18964c86b045d"
      }
     },
     "bfd3754e235540dd936a316457b5bdca": {
      "model_module": "@jupyter-widgets/base",
      "model_module_version": "1.0.0",
      "model_name": "LayoutModel",
      "state": {}
     },
     "c0fc65fc6cd34b6589899d918de213ab": {
      "model_module": "@jupyter-widgets/base",
      "model_module_version": "1.0.0",
      "model_name": "LayoutModel",
      "state": {}
     },
     "c3539fd277ed4f088f4b4b6552c4699f": {
      "model_module": "@jupyter-widgets/base",
      "model_module_version": "1.0.0",
      "model_name": "LayoutModel",
      "state": {}
     },
     "c36ce5c398e34f70ae544184d0fb982e": {
      "model_module": "@jupyter-widgets/base",
      "model_module_version": "1.0.0",
      "model_name": "LayoutModel",
      "state": {}
     },
     "c385c7d4ec464b31983e6b0e32e126c8": {
      "model_module": "@jupyter-widgets/base",
      "model_module_version": "1.0.0",
      "model_name": "LayoutModel",
      "state": {}
     },
     "c3ccaad2c2d24a5fb11c2aa9e2d7e072": {
      "model_module": "@jupyter-widgets/controls",
      "model_module_version": "1.2.0",
      "model_name": "SliderStyleModel",
      "state": {
       "description_width": ""
      }
     },
     "c40d945e10744600abf5e0d8ae34bc9e": {
      "model_module": "@jupyter-widgets/controls",
      "model_module_version": "1.2.0",
      "model_name": "SliderStyleModel",
      "state": {
       "description_width": ""
      }
     },
     "c4141b19cd5f4d52b516bc74cb8c48e0": {
      "model_module": "@jupyter-widgets/controls",
      "model_module_version": "1.2.0",
      "model_name": "SliderStyleModel",
      "state": {
       "description_width": ""
      }
     },
     "c4310f074a304b30838a7b175921e0a4": {
      "model_module": "@jupyter-widgets/output",
      "model_module_version": "1.0.0",
      "model_name": "OutputModel",
      "state": {
       "layout": "IPY_MODEL_78bf059df41f42859aab83a4d034f0e0"
      }
     },
     "c47ada4010c648ca89e76a75462b8e71": {
      "model_module": "@jupyter-widgets/base",
      "model_module_version": "1.0.0",
      "model_name": "LayoutModel",
      "state": {}
     },
     "c4cf7c9797004bc2ac8f27068769286d": {
      "model_module": "@jupyter-widgets/controls",
      "model_module_version": "1.2.0",
      "model_name": "IntSliderModel",
      "state": {
       "description": "c",
       "layout": "IPY_MODEL_8360dd7cbbb144c4857a0181edfdb7e7",
       "max": 500,
       "min": -500,
       "style": "IPY_MODEL_11082665d5b442a3b1f32e2ac3630170",
       "value": -500
      }
     },
     "c506c77790504b6e871d6e06a28fbe86": {
      "model_module": "@jupyter-widgets/output",
      "model_module_version": "1.0.0",
      "model_name": "OutputModel",
      "state": {
       "layout": "IPY_MODEL_e8582781330949bc822449e9ee6d4832"
      }
     },
     "c517686e469048eaad18ca0082aada02": {
      "model_module": "@jupyter-widgets/base",
      "model_module_version": "1.0.0",
      "model_name": "LayoutModel",
      "state": {}
     },
     "c5b2a4e38a924047951343f0d9bbcc34": {
      "model_module": "@jupyter-widgets/controls",
      "model_module_version": "1.2.0",
      "model_name": "SliderStyleModel",
      "state": {
       "description_width": ""
      }
     },
     "c5d0afa63601402cad572e54e58c3b49": {
      "model_module": "@jupyter-widgets/base",
      "model_module_version": "1.0.0",
      "model_name": "LayoutModel",
      "state": {}
     },
     "c5f88eb54c2444bb87fb86fb9b60bee7": {
      "model_module": "@jupyter-widgets/base",
      "model_module_version": "1.0.0",
      "model_name": "LayoutModel",
      "state": {}
     },
     "c5fb3ce46f544cc7b58aff59f9fd91ae": {
      "model_module": "@jupyter-widgets/controls",
      "model_module_version": "1.2.0",
      "model_name": "SliderStyleModel",
      "state": {
       "description_width": ""
      }
     },
     "c632efdb56b94a1b9b474524faf2ade1": {
      "model_module": "@jupyter-widgets/base",
      "model_module_version": "1.0.0",
      "model_name": "LayoutModel",
      "state": {}
     },
     "c66f5149a68446dab99dfd66f4876e68": {
      "model_module": "@jupyter-widgets/controls",
      "model_module_version": "1.2.0",
      "model_name": "SliderStyleModel",
      "state": {
       "description_width": ""
      }
     },
     "c6958896745343fe9e150ee1ea9b955d": {
      "model_module": "@jupyter-widgets/controls",
      "model_module_version": "1.2.0",
      "model_name": "IntSliderModel",
      "state": {
       "description": "c",
       "layout": "IPY_MODEL_9131520b91584aaeaa532f4e098b9d8a",
       "max": 500,
       "min": -500,
       "style": "IPY_MODEL_f597cff1a8944382adfe00cf073b42a9",
       "value": 1
      }
     },
     "c7366668e6814cb08e967875f7223517": {
      "model_module": "@jupyter-widgets/base",
      "model_module_version": "1.0.0",
      "model_name": "LayoutModel",
      "state": {}
     },
     "c7c093481a974c6e8cac3e1cc4c41498": {
      "model_module": "@jupyter-widgets/controls",
      "model_module_version": "1.2.0",
      "model_name": "VBoxModel",
      "state": {
       "_dom_classes": [
        "widget-interact"
       ],
       "children": [
        "IPY_MODEL_45b7269a1bd04aa68d79f40b0eea2917",
        "IPY_MODEL_5faeb0032ac644caa63b4f0879178585"
       ],
       "layout": "IPY_MODEL_037f197289f24455b722a64d3cbcda82"
      }
     },
     "c7f2f31ffc7649dbac9b58bb341eca42": {
      "model_module": "@jupyter-widgets/base",
      "model_module_version": "1.0.0",
      "model_name": "LayoutModel",
      "state": {}
     },
     "c8980670dc504230b5e9ad807f559828": {
      "model_module": "@jupyter-widgets/output",
      "model_module_version": "1.0.0",
      "model_name": "OutputModel",
      "state": {
       "layout": "IPY_MODEL_62dd3e8b2d9946b6930d90709cd80377"
      }
     },
     "c89f56272c3a4ef9b4488b7aec7b12cc": {
      "model_module": "@jupyter-widgets/output",
      "model_module_version": "1.0.0",
      "model_name": "OutputModel",
      "state": {
       "layout": "IPY_MODEL_765f37a4b1fb436dab2afa4e06bd43dc"
      }
     },
     "c8efd2d24fd44ac68e6a149403ccd27f": {
      "model_module": "@jupyter-widgets/controls",
      "model_module_version": "1.2.0",
      "model_name": "IntSliderModel",
      "state": {
       "description": "c",
       "layout": "IPY_MODEL_1e6ab9b83ba5403fb0eec3c39062ab4e",
       "max": 500,
       "min": -500,
       "style": "IPY_MODEL_90043809c9e24e03b6ba0b84cd04e6ed",
       "value": 1
      }
     },
     "c9422a7919004648a001728c87290af5": {
      "model_module": "@jupyter-widgets/controls",
      "model_module_version": "1.2.0",
      "model_name": "IntSliderModel",
      "state": {
       "description": "c",
       "layout": "IPY_MODEL_879481bc24ad4852ab137e5e7d0ad54a",
       "max": 500,
       "min": -500,
       "style": "IPY_MODEL_41b0b76fde274c6b8ff2fe3d36ee7df7",
       "value": 245
      }
     },
     "c98b272d56e44e6a873a0fdf66a9cc12": {
      "model_module": "@jupyter-widgets/base",
      "model_module_version": "1.0.0",
      "model_name": "LayoutModel",
      "state": {}
     },
     "c9a08c8495694cdfae323f95d6b1a176": {
      "model_module": "@jupyter-widgets/base",
      "model_module_version": "1.0.0",
      "model_name": "LayoutModel",
      "state": {}
     },
     "c9e7ceaf0b374319b5d18964c86b045d": {
      "model_module": "@jupyter-widgets/base",
      "model_module_version": "1.0.0",
      "model_name": "LayoutModel",
      "state": {}
     },
     "cb4602f2ce964a3fa8f9b5ff603abf86": {
      "model_module": "@jupyter-widgets/output",
      "model_module_version": "1.0.0",
      "model_name": "OutputModel",
      "state": {
       "layout": "IPY_MODEL_bb90bbf5676844f6bd6789c434304867"
      }
     },
     "cb561d318b434ab5b2bbf48e4dcdb499": {
      "model_module": "@jupyter-widgets/base",
      "model_module_version": "1.0.0",
      "model_name": "LayoutModel",
      "state": {}
     },
     "cb57f40f25484ce58eeeb3190f182a33": {
      "model_module": "@jupyter-widgets/base",
      "model_module_version": "1.0.0",
      "model_name": "LayoutModel",
      "state": {}
     },
     "cb8ed0ee2894424fa34bbb82ee160a8f": {
      "model_module": "@jupyter-widgets/base",
      "model_module_version": "1.0.0",
      "model_name": "LayoutModel",
      "state": {}
     },
     "cbb2838ba9184ee0a1d1fcc15da1f279": {
      "model_module": "@jupyter-widgets/base",
      "model_module_version": "1.0.0",
      "model_name": "LayoutModel",
      "state": {}
     },
     "cbe01110c107466c972e49c0a482dad7": {
      "model_module": "@jupyter-widgets/controls",
      "model_module_version": "1.2.0",
      "model_name": "VBoxModel",
      "state": {
       "_dom_classes": [
        "widget-interact"
       ],
       "children": [
        "IPY_MODEL_9b8eef046c684f1bb695ab9e56d1bd3c",
        "IPY_MODEL_dd3bbd0328c44fb886b82d8aa3bdac7f"
       ],
       "layout": "IPY_MODEL_9605a3bd06c9431285d18a777627569f"
      }
     },
     "cc7748c2e27c4657862e9eced60e843c": {
      "model_module": "@jupyter-widgets/base",
      "model_module_version": "1.0.0",
      "model_name": "LayoutModel",
      "state": {}
     },
     "ccc2dc8981304a8191361408a3e3f7b1": {
      "model_module": "@jupyter-widgets/base",
      "model_module_version": "1.0.0",
      "model_name": "LayoutModel",
      "state": {}
     },
     "cdaa68c831a444c8ac8ee2b57b445c41": {
      "model_module": "@jupyter-widgets/controls",
      "model_module_version": "1.2.0",
      "model_name": "SliderStyleModel",
      "state": {
       "description_width": ""
      }
     },
     "ce84f3a1b52c484095b33bfea19a8620": {
      "model_module": "@jupyter-widgets/controls",
      "model_module_version": "1.2.0",
      "model_name": "VBoxModel",
      "state": {
       "_dom_classes": [
        "widget-interact"
       ],
       "children": [
        "IPY_MODEL_700becb5ba34488a9a62109f76322716",
        "IPY_MODEL_fe2ed98e1d8145e68b14175eb178da2d"
       ],
       "layout": "IPY_MODEL_937eb6e751a84aa1ae053f3da1aad293"
      }
     },
     "cea5d8d7665b431686999ad1e8854bf9": {
      "model_module": "@jupyter-widgets/controls",
      "model_module_version": "1.2.0",
      "model_name": "IntSliderModel",
      "state": {
       "description": "c",
       "layout": "IPY_MODEL_b2ead9189fa34eef83ebbee987606987",
       "max": 500,
       "min": -500,
       "style": "IPY_MODEL_06290166b0224af9bfde4fa550568f13",
       "value": 1
      }
     },
     "cef6b546c74a4bdfa97d934c8f70209f": {
      "model_module": "@jupyter-widgets/controls",
      "model_module_version": "1.2.0",
      "model_name": "IntSliderModel",
      "state": {
       "description": "c",
       "layout": "IPY_MODEL_71973cab639c41c09a029c7bbd895bea",
       "max": 500,
       "min": -500,
       "style": "IPY_MODEL_86d82e67d67941d3b83a2d15ff22ebb3",
       "value": -72
      }
     },
     "d062a28e64304cca86c22011b8cf2175": {
      "model_module": "@jupyter-widgets/controls",
      "model_module_version": "1.2.0",
      "model_name": "SliderStyleModel",
      "state": {
       "description_width": ""
      }
     },
     "d067b6e09d2c46fcb911aa9bb4d840c5": {
      "model_module": "@jupyter-widgets/output",
      "model_module_version": "1.0.0",
      "model_name": "OutputModel",
      "state": {
       "layout": "IPY_MODEL_cb57f40f25484ce58eeeb3190f182a33"
      }
     },
     "d074384f6e2d4c2495dcf067155dda6c": {
      "model_module": "@jupyter-widgets/base",
      "model_module_version": "1.0.0",
      "model_name": "LayoutModel",
      "state": {}
     },
     "d08a1b53dd784eef9049a9a3c72240e3": {
      "model_module": "@jupyter-widgets/base",
      "model_module_version": "1.0.0",
      "model_name": "LayoutModel",
      "state": {}
     },
     "d14fefab7e7b4d3d86b07bcb00d755ee": {
      "model_module": "@jupyter-widgets/base",
      "model_module_version": "1.0.0",
      "model_name": "LayoutModel",
      "state": {}
     },
     "d1502bc853084d2490539a839c78af45": {
      "model_module": "@jupyter-widgets/output",
      "model_module_version": "1.0.0",
      "model_name": "OutputModel",
      "state": {
       "layout": "IPY_MODEL_530ef84f44054048b4708d2241eef1e1"
      }
     },
     "d1aae08fe41e4b3b946379ed747bca95": {
      "model_module": "@jupyter-widgets/output",
      "model_module_version": "1.0.0",
      "model_name": "OutputModel",
      "state": {
       "layout": "IPY_MODEL_487247b0531d4859a6cc456db4ad7843"
      }
     },
     "d1dc8fc211c24107acd6eef9c6fcc645": {
      "model_module": "@jupyter-widgets/output",
      "model_module_version": "1.0.0",
      "model_name": "OutputModel",
      "state": {
       "layout": "IPY_MODEL_5480c89119cf452e81ff317b05d0ee9e"
      }
     },
     "d2bc150565fe45c98ce2a2f3d2bd01c8": {
      "model_module": "@jupyter-widgets/base",
      "model_module_version": "1.0.0",
      "model_name": "LayoutModel",
      "state": {}
     },
     "d31538b8a6294078a7029e1f869e0492": {
      "model_module": "@jupyter-widgets/base",
      "model_module_version": "1.0.0",
      "model_name": "LayoutModel",
      "state": {}
     },
     "d46cdce0311e4fd2a6fb70fb068fb88f": {
      "model_module": "@jupyter-widgets/controls",
      "model_module_version": "1.2.0",
      "model_name": "IntSliderModel",
      "state": {
       "description": "c",
       "layout": "IPY_MODEL_185f3945c7e54303bd86f0c51b7cfda6",
       "max": 500,
       "min": -500,
       "style": "IPY_MODEL_ff05de84c95d4f8aad9e7588e6ea2eff",
       "value": 1
      }
     },
     "d498624d82f44efa845f47700c2ffe0d": {
      "model_module": "@jupyter-widgets/controls",
      "model_module_version": "1.2.0",
      "model_name": "IntSliderModel",
      "state": {
       "description": "c",
       "layout": "IPY_MODEL_f0bd29ce43db4d9482e273e8006c28d9",
       "max": 500,
       "min": -500,
       "style": "IPY_MODEL_c5fb3ce46f544cc7b58aff59f9fd91ae",
       "value": -500
      }
     },
     "d5f7fd6728f34e4182a5e1513db928f7": {
      "model_module": "@jupyter-widgets/controls",
      "model_module_version": "1.2.0",
      "model_name": "VBoxModel",
      "state": {
       "_dom_classes": [
        "widget-interact"
       ],
       "children": [
        "IPY_MODEL_39a5bf05be8b493a891690b64eceeaa9",
        "IPY_MODEL_3ee4866cf1dc4b7d850908f55c40efae"
       ],
       "layout": "IPY_MODEL_1d21a591c4a740458a4618a8ef259aad"
      }
     },
     "d62c9b780e284b658b2aa241be46d7fa": {
      "model_module": "@jupyter-widgets/controls",
      "model_module_version": "1.2.0",
      "model_name": "SliderStyleModel",
      "state": {
       "description_width": ""
      }
     },
     "d69a6a7f42a043b49d6cf18427e4c07b": {
      "model_module": "@jupyter-widgets/controls",
      "model_module_version": "1.2.0",
      "model_name": "SliderStyleModel",
      "state": {
       "description_width": ""
      }
     },
     "d6a1e8527eee42b1a2bb1ab70b1f9ca8": {
      "model_module": "@jupyter-widgets/controls",
      "model_module_version": "1.2.0",
      "model_name": "IntSliderModel",
      "state": {
       "description": "c",
       "layout": "IPY_MODEL_06ac35f87daf4d9db5288d81c8497040",
       "max": 500,
       "min": -500,
       "style": "IPY_MODEL_4f7edacf253748adabec70dc586aa201",
       "value": 301
      }
     },
     "d6fc61d097144350a59fa1433d9e72be": {
      "model_module": "@jupyter-widgets/controls",
      "model_module_version": "1.2.0",
      "model_name": "VBoxModel",
      "state": {
       "_dom_classes": [
        "widget-interact"
       ],
       "children": [
        "IPY_MODEL_74ece71a1a4244f28904e31bc4837605",
        "IPY_MODEL_c89f56272c3a4ef9b4488b7aec7b12cc"
       ],
       "layout": "IPY_MODEL_4265e6c4347d41f989302a405875286c"
      }
     },
     "d78a63a204be46aeb68cf347bc803338": {
      "model_module": "@jupyter-widgets/output",
      "model_module_version": "1.0.0",
      "model_name": "OutputModel",
      "state": {
       "layout": "IPY_MODEL_d2bc150565fe45c98ce2a2f3d2bd01c8"
      }
     },
     "d7ae6a30d8254c2192e84c5a6d8a4cd5": {
      "model_module": "@jupyter-widgets/output",
      "model_module_version": "1.0.0",
      "model_name": "OutputModel",
      "state": {
       "layout": "IPY_MODEL_242ba9b378f240139c07dda86ddaf0eb"
      }
     },
     "d7c4230eb1a04bceb7f37291ca92dcc2": {
      "model_module": "@jupyter-widgets/controls",
      "model_module_version": "1.2.0",
      "model_name": "VBoxModel",
      "state": {
       "_dom_classes": [
        "widget-interact"
       ],
       "children": [
        "IPY_MODEL_5b863042a46e47559c558dbe81c34a76",
        "IPY_MODEL_53fb47b316eb4568a1f4d38d96a96a10"
       ],
       "layout": "IPY_MODEL_c517686e469048eaad18ca0082aada02"
      }
     },
     "d7e5ceb1c7c04effa9bd85cae960656d": {
      "model_module": "@jupyter-widgets/base",
      "model_module_version": "1.0.0",
      "model_name": "LayoutModel",
      "state": {}
     },
     "d8b55ca14e314f6d9a1c54084a3e0ae5": {
      "model_module": "@jupyter-widgets/controls",
      "model_module_version": "1.2.0",
      "model_name": "SliderStyleModel",
      "state": {
       "description_width": ""
      }
     },
     "d8dbf730243446ef899f5888dfe5616d": {
      "model_module": "@jupyter-widgets/controls",
      "model_module_version": "1.2.0",
      "model_name": "IntSliderModel",
      "state": {
       "description": "c",
       "layout": "IPY_MODEL_f45e30909d05487b8d422e5575248529",
       "max": 500,
       "min": -500,
       "style": "IPY_MODEL_e04dd405fab44174833f02ba449a6cd0",
       "value": 1
      }
     },
     "d95fa98991574280a4294a8c4c9b7799": {
      "model_module": "@jupyter-widgets/base",
      "model_module_version": "1.0.0",
      "model_name": "LayoutModel",
      "state": {}
     },
     "d9834b27917e48cf99ef98c7c8576333": {
      "model_module": "@jupyter-widgets/base",
      "model_module_version": "1.0.0",
      "model_name": "LayoutModel",
      "state": {}
     },
     "da0a9f7c8be94e6a8aeb458febd3a404": {
      "model_module": "@jupyter-widgets/base",
      "model_module_version": "1.0.0",
      "model_name": "LayoutModel",
      "state": {}
     },
     "da59349cb85949b2947aa671214d8deb": {
      "model_module": "@jupyter-widgets/base",
      "model_module_version": "1.0.0",
      "model_name": "LayoutModel",
      "state": {}
     },
     "db3ae09e5b0d45bf936225e8e7d3285a": {
      "model_module": "@jupyter-widgets/base",
      "model_module_version": "1.0.0",
      "model_name": "LayoutModel",
      "state": {}
     },
     "dc76f7700a3146b6a2596fbf3aa6e1d5": {
      "model_module": "@jupyter-widgets/controls",
      "model_module_version": "1.2.0",
      "model_name": "IntSliderModel",
      "state": {
       "description": "c",
       "layout": "IPY_MODEL_54c331c167b64f4995175fefcdd70b00",
       "max": 500,
       "min": -500,
       "style": "IPY_MODEL_b8989fa612d142adb76e2af32b26c1d9",
       "value": 500
      }
     },
     "dd3bbd0328c44fb886b82d8aa3bdac7f": {
      "model_module": "@jupyter-widgets/output",
      "model_module_version": "1.0.0",
      "model_name": "OutputModel",
      "state": {
       "layout": "IPY_MODEL_246b2e79a4374e4ebab65e804576a961"
      }
     },
     "dd9fcb465e3f4e01bfa43886d0601662": {
      "model_module": "@jupyter-widgets/base",
      "model_module_version": "1.0.0",
      "model_name": "LayoutModel",
      "state": {}
     },
     "ddf33035b6a34bdaaed0046289ee446f": {
      "model_module": "@jupyter-widgets/base",
      "model_module_version": "1.0.0",
      "model_name": "LayoutModel",
      "state": {}
     },
     "df156b48645c4fc0b67d86531a9d4f67": {
      "model_module": "@jupyter-widgets/controls",
      "model_module_version": "1.2.0",
      "model_name": "VBoxModel",
      "state": {
       "_dom_classes": [
        "widget-interact"
       ],
       "children": [
        "IPY_MODEL_a0ddba8d49c049eca593ba9264842187",
        "IPY_MODEL_c8980670dc504230b5e9ad807f559828"
       ],
       "layout": "IPY_MODEL_66962f22f6a748b4951ba14630fc6e9a"
      }
     },
     "df58caedc6a142fa98e39a639c33e842": {
      "model_module": "@jupyter-widgets/base",
      "model_module_version": "1.0.0",
      "model_name": "LayoutModel",
      "state": {}
     },
     "df62b0633e0249dab8f15c406e11253d": {
      "model_module": "@jupyter-widgets/controls",
      "model_module_version": "1.2.0",
      "model_name": "VBoxModel",
      "state": {
       "_dom_classes": [
        "widget-interact"
       ],
       "children": [
        "IPY_MODEL_06643c4ccfd8426694b579229bc4534f",
        "IPY_MODEL_f349263376d54535b6232d05211d6bd0"
       ],
       "layout": "IPY_MODEL_2fa1c4a055544c29ab10705f6e3a02b8"
      }
     },
     "dfb36728f313408c927d4561c7c5931a": {
      "model_module": "@jupyter-widgets/base",
      "model_module_version": "1.0.0",
      "model_name": "LayoutModel",
      "state": {}
     },
     "dfd77fe169864e05b2550e27136f54d2": {
      "model_module": "@jupyter-widgets/base",
      "model_module_version": "1.0.0",
      "model_name": "LayoutModel",
      "state": {}
     },
     "e001c408262648729da727279922a7f8": {
      "model_module": "@jupyter-widgets/base",
      "model_module_version": "1.0.0",
      "model_name": "LayoutModel",
      "state": {}
     },
     "e04dd405fab44174833f02ba449a6cd0": {
      "model_module": "@jupyter-widgets/controls",
      "model_module_version": "1.2.0",
      "model_name": "SliderStyleModel",
      "state": {
       "description_width": ""
      }
     },
     "e05d4f60cd914f16bcc6614b6fd81bfa": {
      "model_module": "@jupyter-widgets/output",
      "model_module_version": "1.0.0",
      "model_name": "OutputModel",
      "state": {
       "layout": "IPY_MODEL_8ce619c5d92a4bd5b1c2235cb24fbc4c"
      }
     },
     "e0a3dd632f9e4161a537584b33f4ce9a": {
      "model_module": "@jupyter-widgets/controls",
      "model_module_version": "1.2.0",
      "model_name": "SliderStyleModel",
      "state": {
       "description_width": ""
      }
     },
     "e0b317ceca13480aac4f106750715501": {
      "model_module": "@jupyter-widgets/controls",
      "model_module_version": "1.2.0",
      "model_name": "VBoxModel",
      "state": {
       "_dom_classes": [
        "widget-interact"
       ],
       "children": [
        "IPY_MODEL_02f8c93bf92a472a93c62ecbef1f941b",
        "IPY_MODEL_cb4602f2ce964a3fa8f9b5ff603abf86"
       ],
       "layout": "IPY_MODEL_25fde21880b2420e9075620583b2aeaf"
      }
     },
     "e0ec84250f5a476bb4741673d4d874c7": {
      "model_module": "@jupyter-widgets/base",
      "model_module_version": "1.0.0",
      "model_name": "LayoutModel",
      "state": {}
     },
     "e18f0123e877404787ba670dc41b867a": {
      "model_module": "@jupyter-widgets/output",
      "model_module_version": "1.0.0",
      "model_name": "OutputModel",
      "state": {
       "layout": "IPY_MODEL_c632efdb56b94a1b9b474524faf2ade1"
      }
     },
     "e191f9c257cf440ea29cf06b8c843ee4": {
      "model_module": "@jupyter-widgets/output",
      "model_module_version": "1.0.0",
      "model_name": "OutputModel",
      "state": {
       "layout": "IPY_MODEL_bf347c90999b402d9d3909389fd38a75"
      }
     },
     "e1bb109129644e10aaa614759e4e61f2": {
      "model_module": "@jupyter-widgets/base",
      "model_module_version": "1.0.0",
      "model_name": "LayoutModel",
      "state": {}
     },
     "e1f5c8e296be426d8abe8d3a2ddaff5b": {
      "model_module": "@jupyter-widgets/output",
      "model_module_version": "1.0.0",
      "model_name": "OutputModel",
      "state": {
       "layout": "IPY_MODEL_162019b4350f48ea82f8b3f0f0f85077"
      }
     },
     "e21b1b68db3a4233bf551e77a0e5f506": {
      "model_module": "@jupyter-widgets/controls",
      "model_module_version": "1.2.0",
      "model_name": "VBoxModel",
      "state": {
       "_dom_classes": [
        "widget-interact"
       ],
       "children": [
        "IPY_MODEL_61772455e2104ef9b787bb6780eb170e",
        "IPY_MODEL_b8b95295a97a4100acf04edbbe8f7436"
       ],
       "layout": "IPY_MODEL_e66c74f0755540e38d13a498efc0c6ae"
      }
     },
     "e27b4fe199904ffd93e5a31f36d12ee0": {
      "model_module": "@jupyter-widgets/controls",
      "model_module_version": "1.2.0",
      "model_name": "IntSliderModel",
      "state": {
       "description": "e",
       "layout": "IPY_MODEL_e57360b561904b91b8293c8eebf1c393",
       "max": 500,
       "min": -500,
       "style": "IPY_MODEL_4e4cbe029f93421798b310066e0744c1",
       "value": 1
      }
     },
     "e2c8c615e7df4adcb6d1de64bf3f6ac6": {
      "model_module": "@jupyter-widgets/controls",
      "model_module_version": "1.2.0",
      "model_name": "SliderStyleModel",
      "state": {
       "description_width": ""
      }
     },
     "e36bb22df85c459d91bb53a33be523b9": {
      "model_module": "@jupyter-widgets/output",
      "model_module_version": "1.0.0",
      "model_name": "OutputModel",
      "state": {
       "layout": "IPY_MODEL_c9a08c8495694cdfae323f95d6b1a176"
      }
     },
     "e42387a1f479466ca6505ae9220aa308": {
      "model_module": "@jupyter-widgets/controls",
      "model_module_version": "1.2.0",
      "model_name": "VBoxModel",
      "state": {
       "_dom_classes": [
        "widget-interact"
       ],
       "children": [
        "IPY_MODEL_e27b4fe199904ffd93e5a31f36d12ee0",
        "IPY_MODEL_41bf871f9e384024b7d69638fe405550"
       ],
       "layout": "IPY_MODEL_bfd3754e235540dd936a316457b5bdca"
      }
     },
     "e4a9d677d5e64c459aace62ebc0bc8d6": {
      "model_module": "@jupyter-widgets/output",
      "model_module_version": "1.0.0",
      "model_name": "OutputModel",
      "state": {
       "layout": "IPY_MODEL_3f374b997ecf452ab6ff97121021c724"
      }
     },
     "e57360b561904b91b8293c8eebf1c393": {
      "model_module": "@jupyter-widgets/base",
      "model_module_version": "1.0.0",
      "model_name": "LayoutModel",
      "state": {}
     },
     "e5ff3947d6d04124b31295ed3ad663cb": {
      "model_module": "@jupyter-widgets/base",
      "model_module_version": "1.0.0",
      "model_name": "LayoutModel",
      "state": {}
     },
     "e61474f3f05444268eca059da9eb76ce": {
      "model_module": "@jupyter-widgets/controls",
      "model_module_version": "1.2.0",
      "model_name": "VBoxModel",
      "state": {
       "_dom_classes": [
        "widget-interact"
       ],
       "children": [
        "IPY_MODEL_a08ad471d9ab4499998d9f02b7c77f43",
        "IPY_MODEL_2dc0693ee845489c8b23f989be3ab5ad"
       ],
       "layout": "IPY_MODEL_64c47a6c0054445385e892a8d5daf0ef"
      }
     },
     "e65453d36c52497eb1055ad205ffd3e1": {
      "model_module": "@jupyter-widgets/base",
      "model_module_version": "1.0.0",
      "model_name": "LayoutModel",
      "state": {}
     },
     "e65aa72ceaa24938aedd38dc91d5bda0": {
      "model_module": "@jupyter-widgets/controls",
      "model_module_version": "1.2.0",
      "model_name": "SliderStyleModel",
      "state": {
       "description_width": ""
      }
     },
     "e66c74f0755540e38d13a498efc0c6ae": {
      "model_module": "@jupyter-widgets/base",
      "model_module_version": "1.0.0",
      "model_name": "LayoutModel",
      "state": {}
     },
     "e67e48dc2aaf4ead8bf4f93ba7eecfae": {
      "model_module": "@jupyter-widgets/controls",
      "model_module_version": "1.2.0",
      "model_name": "VBoxModel",
      "state": {
       "_dom_classes": [
        "widget-interact"
       ],
       "children": [
        "IPY_MODEL_d498624d82f44efa845f47700c2ffe0d",
        "IPY_MODEL_8e623ca38492461595d228a2736b36ba"
       ],
       "layout": "IPY_MODEL_dd9fcb465e3f4e01bfa43886d0601662"
      }
     },
     "e69e7d2f1ad248cbb8c9ba5732682f60": {
      "model_module": "@jupyter-widgets/base",
      "model_module_version": "1.0.0",
      "model_name": "LayoutModel",
      "state": {}
     },
     "e6a212c0aea247d2b21a310baf71f01c": {
      "model_module": "@jupyter-widgets/output",
      "model_module_version": "1.0.0",
      "model_name": "OutputModel",
      "state": {
       "layout": "IPY_MODEL_80d542319fe349b98f583ab1a3d01218"
      }
     },
     "e78927ee4f1b4491b36d8e96f7f3a6a8": {
      "model_module": "@jupyter-widgets/controls",
      "model_module_version": "1.2.0",
      "model_name": "VBoxModel",
      "state": {
       "_dom_classes": [
        "widget-interact"
       ],
       "children": [
        "IPY_MODEL_393ea25bf2aa4e5e90c5a3fd021bbd06",
        "IPY_MODEL_e4a9d677d5e64c459aace62ebc0bc8d6"
       ],
       "layout": "IPY_MODEL_d08a1b53dd784eef9049a9a3c72240e3"
      }
     },
     "e8582781330949bc822449e9ee6d4832": {
      "model_module": "@jupyter-widgets/base",
      "model_module_version": "1.0.0",
      "model_name": "LayoutModel",
      "state": {}
     },
     "e8ed4759912d44ac97872bc4d6cdeb7b": {
      "model_module": "@jupyter-widgets/output",
      "model_module_version": "1.0.0",
      "model_name": "OutputModel",
      "state": {
       "layout": "IPY_MODEL_9056224dca9147a3a36ca2f1791e3081"
      }
     },
     "e93b8369b2f84831bd89e979f2e89c24": {
      "model_module": "@jupyter-widgets/controls",
      "model_module_version": "1.2.0",
      "model_name": "VBoxModel",
      "state": {
       "_dom_classes": [
        "widget-interact"
       ],
       "children": [
        "IPY_MODEL_c4cf7c9797004bc2ac8f27068769286d",
        "IPY_MODEL_d78a63a204be46aeb68cf347bc803338"
       ],
       "layout": "IPY_MODEL_2597dcf8a2ba4b0e8d63fc2bb131079d"
      }
     },
     "e97dfb3719614ddf9b3e963fc95d4020": {
      "model_module": "@jupyter-widgets/base",
      "model_module_version": "1.0.0",
      "model_name": "LayoutModel",
      "state": {}
     },
     "e9d098d3d85642ffa08d259dc2834e93": {
      "model_module": "@jupyter-widgets/output",
      "model_module_version": "1.0.0",
      "model_name": "OutputModel",
      "state": {
       "layout": "IPY_MODEL_206940dc2d7b47559b3732cf535e3b8a"
      }
     },
     "ea5bbb1eb0584b548ef90492810ed79f": {
      "model_module": "@jupyter-widgets/base",
      "model_module_version": "1.0.0",
      "model_name": "LayoutModel",
      "state": {}
     },
     "eb98e5acf24745e88fd59f47966c1666": {
      "model_module": "@jupyter-widgets/controls",
      "model_module_version": "1.2.0",
      "model_name": "VBoxModel",
      "state": {
       "_dom_classes": [
        "widget-interact"
       ],
       "children": [
        "IPY_MODEL_2a6f862c85554c36b16130c114d193fe",
        "IPY_MODEL_e1f5c8e296be426d8abe8d3a2ddaff5b"
       ],
       "layout": "IPY_MODEL_da0a9f7c8be94e6a8aeb458febd3a404"
      }
     },
     "ec42ca33a8384c988eeda6d878698912": {
      "model_module": "@jupyter-widgets/controls",
      "model_module_version": "1.2.0",
      "model_name": "VBoxModel",
      "state": {
       "_dom_classes": [
        "widget-interact"
       ],
       "children": [
        "IPY_MODEL_f9abb6d1b35a4192ace0d4a3d49c1b8d",
        "IPY_MODEL_b653a9039638498d920b33da26ae2dd6"
       ],
       "layout": "IPY_MODEL_1a3d45c2ba05427ca6425064e52792ee"
      }
     },
     "ecfbaf2e30a04784b0ccea0ceb88c81b": {
      "model_module": "@jupyter-widgets/controls",
      "model_module_version": "1.2.0",
      "model_name": "VBoxModel",
      "state": {
       "_dom_classes": [
        "widget-interact"
       ],
       "children": [
        "IPY_MODEL_344742ff35624d73a6b182a211e38546",
        "IPY_MODEL_e18f0123e877404787ba670dc41b867a"
       ],
       "layout": "IPY_MODEL_c3539fd277ed4f088f4b4b6552c4699f"
      }
     },
     "ed64eb67a62940ab819934a9d6af5d4e": {
      "model_module": "@jupyter-widgets/base",
      "model_module_version": "1.0.0",
      "model_name": "LayoutModel",
      "state": {}
     },
     "ee04c99128064155a66b59f69874fe88": {
      "model_module": "@jupyter-widgets/controls",
      "model_module_version": "1.2.0",
      "model_name": "IntSliderModel",
      "state": {
       "description": "c",
       "layout": "IPY_MODEL_fee4d38943144587a3d6655b87c8f326",
       "max": 500,
       "min": -500,
       "style": "IPY_MODEL_e2c8c615e7df4adcb6d1de64bf3f6ac6",
       "value": 93
      }
     },
     "ee94896624704b4eb8f490339a4cb78e": {
      "model_module": "@jupyter-widgets/output",
      "model_module_version": "1.0.0",
      "model_name": "OutputModel",
      "state": {
       "layout": "IPY_MODEL_6ab458410fc7468b8c516d44b476dcd0"
      }
     },
     "ef74debe2b584aa4ac25d9dd51f8f595": {
      "model_module": "@jupyter-widgets/controls",
      "model_module_version": "1.2.0",
      "model_name": "IntSliderModel",
      "state": {
       "description": "c",
       "layout": "IPY_MODEL_8482aee11f0340e9b77130f186e52311",
       "max": 500,
       "min": -500,
       "style": "IPY_MODEL_bddba9d532ef453fb556b3935ec600da",
       "value": -189
      }
     },
     "f08d4c6ac7a841398bdb8a8682c8460a": {
      "model_module": "@jupyter-widgets/controls",
      "model_module_version": "1.2.0",
      "model_name": "SliderStyleModel",
      "state": {
       "description_width": ""
      }
     },
     "f0b5eae1ab3f4797824774855bbedd0c": {
      "model_module": "@jupyter-widgets/base",
      "model_module_version": "1.0.0",
      "model_name": "LayoutModel",
      "state": {}
     },
     "f0bd29ce43db4d9482e273e8006c28d9": {
      "model_module": "@jupyter-widgets/base",
      "model_module_version": "1.0.0",
      "model_name": "LayoutModel",
      "state": {}
     },
     "f11f956561f44b33a88677edd3c693e4": {
      "model_module": "@jupyter-widgets/controls",
      "model_module_version": "1.2.0",
      "model_name": "IntSliderModel",
      "state": {
       "description": "c",
       "layout": "IPY_MODEL_0ba7f5df42004ba09a2fee77a533bf68",
       "max": 500,
       "min": -500,
       "style": "IPY_MODEL_e0a3dd632f9e4161a537584b33f4ce9a",
       "value": 1
      }
     },
     "f2a9b28c3df541379d7cbfe6aeb8a6e4": {
      "model_module": "@jupyter-widgets/controls",
      "model_module_version": "1.2.0",
      "model_name": "SliderStyleModel",
      "state": {
       "description_width": ""
      }
     },
     "f2db98e513e54786b62b46d7bbb5c5ee": {
      "model_module": "@jupyter-widgets/controls",
      "model_module_version": "1.2.0",
      "model_name": "SliderStyleModel",
      "state": {
       "description_width": ""
      }
     },
     "f349263376d54535b6232d05211d6bd0": {
      "model_module": "@jupyter-widgets/output",
      "model_module_version": "1.0.0",
      "model_name": "OutputModel",
      "state": {
       "layout": "IPY_MODEL_c47ada4010c648ca89e76a75462b8e71"
      }
     },
     "f3f3e6dcda7b4a8e9062ca77026319c0": {
      "model_module": "@jupyter-widgets/controls",
      "model_module_version": "1.2.0",
      "model_name": "SliderStyleModel",
      "state": {
       "description_width": ""
      }
     },
     "f4010479dcaa49419fd8768a838bb90a": {
      "model_module": "@jupyter-widgets/controls",
      "model_module_version": "1.2.0",
      "model_name": "SliderStyleModel",
      "state": {
       "description_width": ""
      }
     },
     "f45a946715684fcbb53183d36a2df17b": {
      "model_module": "@jupyter-widgets/controls",
      "model_module_version": "1.2.0",
      "model_name": "SliderStyleModel",
      "state": {
       "description_width": ""
      }
     },
     "f45e30909d05487b8d422e5575248529": {
      "model_module": "@jupyter-widgets/base",
      "model_module_version": "1.0.0",
      "model_name": "LayoutModel",
      "state": {}
     },
     "f53a0d81be1d4c37bf0062ef92654ae0": {
      "model_module": "@jupyter-widgets/base",
      "model_module_version": "1.0.0",
      "model_name": "LayoutModel",
      "state": {}
     },
     "f597cff1a8944382adfe00cf073b42a9": {
      "model_module": "@jupyter-widgets/controls",
      "model_module_version": "1.2.0",
      "model_name": "SliderStyleModel",
      "state": {
       "description_width": ""
      }
     },
     "f7072786f71e4d14ac44a3076f87b6c5": {
      "model_module": "@jupyter-widgets/base",
      "model_module_version": "1.0.0",
      "model_name": "LayoutModel",
      "state": {}
     },
     "f78a06cc2fc943b9a501961ddd06ed66": {
      "model_module": "@jupyter-widgets/controls",
      "model_module_version": "1.2.0",
      "model_name": "SliderStyleModel",
      "state": {
       "description_width": ""
      }
     },
     "f7ed2d4e9a32438cba5f2cf38a0be8ea": {
      "model_module": "@jupyter-widgets/output",
      "model_module_version": "1.0.0",
      "model_name": "OutputModel",
      "state": {
       "layout": "IPY_MODEL_646bf58897904ee98a375111edfb9ed0"
      }
     },
     "f80005ecb6dd441aabda2a1e9ea89a8b": {
      "model_module": "@jupyter-widgets/base",
      "model_module_version": "1.0.0",
      "model_name": "LayoutModel",
      "state": {}
     },
     "f804b2c94ea84b9ba4cca23124f0a3af": {
      "model_module": "@jupyter-widgets/controls",
      "model_module_version": "1.2.0",
      "model_name": "IntSliderModel",
      "state": {
       "description": "c",
       "layout": "IPY_MODEL_172af993adff44a7b1bb781d558df610",
       "max": 500,
       "min": -500,
       "style": "IPY_MODEL_92b5bc4d96d64f16b686fac03e6c6939",
       "value": 1
      }
     },
     "f89b5c6328bd4965ac905edc027fc09a": {
      "model_module": "@jupyter-widgets/base",
      "model_module_version": "1.0.0",
      "model_name": "LayoutModel",
      "state": {}
     },
     "f929a5b582eb43ed879bfcd90c1dcfcf": {
      "model_module": "@jupyter-widgets/controls",
      "model_module_version": "1.2.0",
      "model_name": "SliderStyleModel",
      "state": {
       "description_width": ""
      }
     },
     "f982509b1e344467b33d1958970433aa": {
      "model_module": "@jupyter-widgets/controls",
      "model_module_version": "1.2.0",
      "model_name": "IntSliderModel",
      "state": {
       "description": "c",
       "layout": "IPY_MODEL_c98b272d56e44e6a873a0fdf66a9cc12",
       "max": 500,
       "min": -500,
       "style": "IPY_MODEL_67021926541a4bbeb8b013941abd1477",
       "value": 20
      }
     },
     "f9abb6d1b35a4192ace0d4a3d49c1b8d": {
      "model_module": "@jupyter-widgets/controls",
      "model_module_version": "1.2.0",
      "model_name": "IntSliderModel",
      "state": {
       "description": "c",
       "layout": "IPY_MODEL_c5d0afa63601402cad572e54e58c3b49",
       "max": 500,
       "min": -500,
       "style": "IPY_MODEL_4a97e0939c9245ff8a2ad0862df8d3f6",
       "value": 1
      }
     },
     "f9d8b5574ba045bc985d8305a30c71f9": {
      "model_module": "@jupyter-widgets/base",
      "model_module_version": "1.0.0",
      "model_name": "LayoutModel",
      "state": {}
     },
     "fa3c0b08017349a7b4c258ee601a67c8": {
      "model_module": "@jupyter-widgets/base",
      "model_module_version": "1.0.0",
      "model_name": "LayoutModel",
      "state": {}
     },
     "faa2948bca274b189d1085f317e7fb53": {
      "model_module": "@jupyter-widgets/base",
      "model_module_version": "1.0.0",
      "model_name": "LayoutModel",
      "state": {}
     },
     "fb00e5a6a2784ca5afd655b2e4e99ff1": {
      "model_module": "@jupyter-widgets/controls",
      "model_module_version": "1.2.0",
      "model_name": "SliderStyleModel",
      "state": {
       "description_width": ""
      }
     },
     "fb44f25c7bc141b4bdb811ca27c4e02d": {
      "model_module": "@jupyter-widgets/controls",
      "model_module_version": "1.2.0",
      "model_name": "VBoxModel",
      "state": {
       "_dom_classes": [
        "widget-interact"
       ],
       "children": [
        "IPY_MODEL_95706a489e8e4af898070a7b67592986",
        "IPY_MODEL_98b5f880934146638b22b80da5785b81"
       ],
       "layout": "IPY_MODEL_73652e700d6b48509774240463507ccc"
      }
     },
     "fbac4641bc8c4ff38098a34ff490afda": {
      "model_module": "@jupyter-widgets/controls",
      "model_module_version": "1.2.0",
      "model_name": "SliderStyleModel",
      "state": {
       "description_width": ""
      }
     },
     "fbba05f989f24cafa7665912105c1e66": {
      "model_module": "@jupyter-widgets/base",
      "model_module_version": "1.0.0",
      "model_name": "LayoutModel",
      "state": {}
     },
     "fbfeddf473d5438f9fe2b9e9c165ffda": {
      "model_module": "@jupyter-widgets/base",
      "model_module_version": "1.0.0",
      "model_name": "LayoutModel",
      "state": {}
     },
     "fc6cc5c8e6594727a32eb68100d35cc5": {
      "model_module": "@jupyter-widgets/base",
      "model_module_version": "1.0.0",
      "model_name": "LayoutModel",
      "state": {}
     },
     "fce65dd33de64fe0ab5057ac0e5b3d2b": {
      "model_module": "@jupyter-widgets/controls",
      "model_module_version": "1.2.0",
      "model_name": "SliderStyleModel",
      "state": {
       "description_width": ""
      }
     },
     "fd1adac635904d4da13ac45f20abe0e7": {
      "model_module": "@jupyter-widgets/base",
      "model_module_version": "1.0.0",
      "model_name": "LayoutModel",
      "state": {}
     },
     "fd5b9ffbd94449b59627ce67cd20e36d": {
      "model_module": "@jupyter-widgets/controls",
      "model_module_version": "1.2.0",
      "model_name": "VBoxModel",
      "state": {
       "_dom_classes": [
        "widget-interact"
       ],
       "children": [
        "IPY_MODEL_07ec4671bbcc423c999397b292e5986c",
        "IPY_MODEL_97a8888ebc7d41b385b10806b78911c7"
       ],
       "layout": "IPY_MODEL_6ed637d1ff074f0581fce204fb03e651"
      }
     },
     "fd921237b2ca4bd2a4d6d2c1c2f7f657": {
      "model_module": "@jupyter-widgets/controls",
      "model_module_version": "1.2.0",
      "model_name": "VBoxModel",
      "state": {
       "_dom_classes": [
        "widget-interact"
       ],
       "children": [
        "IPY_MODEL_d46cdce0311e4fd2a6fb70fb068fb88f",
        "IPY_MODEL_0a3fef066cd047d78d8ab96aae1c3e46"
       ],
       "layout": "IPY_MODEL_a5952df04162400f8ff35fba7a2f536b"
      }
     },
     "fde04b2083e640df908cf12b5a621ece": {
      "model_module": "@jupyter-widgets/base",
      "model_module_version": "1.0.0",
      "model_name": "LayoutModel",
      "state": {}
     },
     "fe2ed98e1d8145e68b14175eb178da2d": {
      "model_module": "@jupyter-widgets/output",
      "model_module_version": "1.0.0",
      "model_name": "OutputModel",
      "state": {
       "layout": "IPY_MODEL_8b0a5f806a474ca8a08ad69fdf820561"
      }
     },
     "fea023dd3a684feb9ca2305c56f5cc9b": {
      "model_module": "@jupyter-widgets/base",
      "model_module_version": "1.0.0",
      "model_name": "LayoutModel",
      "state": {}
     },
     "feb8bd5e849f485ba1ad6c88f0759fe4": {
      "model_module": "@jupyter-widgets/output",
      "model_module_version": "1.0.0",
      "model_name": "OutputModel",
      "state": {
       "layout": "IPY_MODEL_5a5492e66dfc46daac68e7aa72a3a588"
      }
     },
     "fed67fa4c97e487bb224a36b6dbad883": {
      "model_module": "@jupyter-widgets/controls",
      "model_module_version": "1.2.0",
      "model_name": "IntSliderModel",
      "state": {
       "description": "c",
       "layout": "IPY_MODEL_fbba05f989f24cafa7665912105c1e66",
       "max": 500,
       "min": -500,
       "style": "IPY_MODEL_664bc39c12fd471a93a084c83b11ba65",
       "value": 190
      }
     },
     "feda024a192d4b82bd2a2b8aa484827c": {
      "model_module": "@jupyter-widgets/controls",
      "model_module_version": "1.2.0",
      "model_name": "IntSliderModel",
      "state": {
       "description": "c",
       "layout": "IPY_MODEL_886616f141ac47f994b35ee64279e94e",
       "max": 500,
       "min": -500,
       "style": "IPY_MODEL_5f47b40bffdb419ab01925d6f6b256c6",
       "value": -480
      }
     },
     "fee4d38943144587a3d6655b87c8f326": {
      "model_module": "@jupyter-widgets/base",
      "model_module_version": "1.0.0",
      "model_name": "LayoutModel",
      "state": {}
     },
     "fefd39dedf8c407b8c516634ff3e3766": {
      "model_module": "@jupyter-widgets/controls",
      "model_module_version": "1.2.0",
      "model_name": "VBoxModel",
      "state": {
       "_dom_classes": [
        "widget-interact"
       ],
       "children": [
        "IPY_MODEL_7b74cef3a1274b058327877ac677c4bb",
        "IPY_MODEL_712300b97d914b90bbdddfa04b55b807"
       ],
       "layout": "IPY_MODEL_2528d2ca0f9249278f4ed4387b449c59"
      }
     },
     "ff05de84c95d4f8aad9e7588e6ea2eff": {
      "model_module": "@jupyter-widgets/controls",
      "model_module_version": "1.2.0",
      "model_name": "SliderStyleModel",
      "state": {
       "description_width": ""
      }
     },
     "ff201d584a5440f08f839afe2a3b4529": {
      "model_module": "@jupyter-widgets/controls",
      "model_module_version": "1.2.0",
      "model_name": "VBoxModel",
      "state": {
       "_dom_classes": [
        "widget-interact"
       ],
       "children": [
        "IPY_MODEL_123a1ec2917b4d68aff089419564a391",
        "IPY_MODEL_ba77de4cf58245d9807796ee562d851e"
       ],
       "layout": "IPY_MODEL_d95fa98991574280a4294a8c4c9b7799"
      }
     },
     "ffbcd41ff4444aab83fc7f4d12499568": {
      "model_module": "@jupyter-widgets/base",
      "model_module_version": "1.0.0",
      "model_name": "LayoutModel",
      "state": {}
     },
     "fff1452423994d7f9525076f91e558e0": {
      "model_module": "@jupyter-widgets/controls",
      "model_module_version": "1.2.0",
      "model_name": "IntSliderModel",
      "state": {
       "description": "c",
       "layout": "IPY_MODEL_3b55dcee58354b479dc90c2ab13c9ff3",
       "max": 500,
       "min": -500,
       "style": "IPY_MODEL_16111f549c9244f7b129d0995f98cf01",
       "value": 1
      }
     }
    },
    "version_major": 2,
    "version_minor": 0
   }
  }
 },
 "nbformat": 4,
 "nbformat_minor": 2
}
