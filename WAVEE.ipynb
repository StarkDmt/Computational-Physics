{
 "cells": [
  {
   "cell_type": "markdown",
   "metadata": {},
   "source": [
    "# Волновое уравнение"
   ]
  },
  {
   "cell_type": "markdown",
   "metadata": {},
   "source": [
    "Здесь живет решение волнового уравнения с нулевыми граничными условиями на концах отрезка (-L,L). Начальную волну можно сгенерировать в generate_initial. Схема центральная, поэтому нужно аккуратно выбирать параметры сетки. Решение может генерироваться долго, поэтому нужно подождать."
   ]
  },
  {
   "cell_type": "code",
   "execution_count": 1,
   "metadata": {},
   "outputs": [
    {
     "data": {
      "application/javascript": [
       "/* Put everything inside the global mpl namespace */\n",
       "window.mpl = {};\n",
       "\n",
       "\n",
       "mpl.get_websocket_type = function() {\n",
       "    if (typeof(WebSocket) !== 'undefined') {\n",
       "        return WebSocket;\n",
       "    } else if (typeof(MozWebSocket) !== 'undefined') {\n",
       "        return MozWebSocket;\n",
       "    } else {\n",
       "        alert('Your browser does not have WebSocket support.' +\n",
       "              'Please try Chrome, Safari or Firefox ≥ 6. ' +\n",
       "              'Firefox 4 and 5 are also supported but you ' +\n",
       "              'have to enable WebSockets in about:config.');\n",
       "    };\n",
       "}\n",
       "\n",
       "mpl.figure = function(figure_id, websocket, ondownload, parent_element) {\n",
       "    this.id = figure_id;\n",
       "\n",
       "    this.ws = websocket;\n",
       "\n",
       "    this.supports_binary = (this.ws.binaryType != undefined);\n",
       "\n",
       "    if (!this.supports_binary) {\n",
       "        var warnings = document.getElementById(\"mpl-warnings\");\n",
       "        if (warnings) {\n",
       "            warnings.style.display = 'block';\n",
       "            warnings.textContent = (\n",
       "                \"This browser does not support binary websocket messages. \" +\n",
       "                    \"Performance may be slow.\");\n",
       "        }\n",
       "    }\n",
       "\n",
       "    this.imageObj = new Image();\n",
       "\n",
       "    this.context = undefined;\n",
       "    this.message = undefined;\n",
       "    this.canvas = undefined;\n",
       "    this.rubberband_canvas = undefined;\n",
       "    this.rubberband_context = undefined;\n",
       "    this.format_dropdown = undefined;\n",
       "\n",
       "    this.image_mode = 'full';\n",
       "\n",
       "    this.root = $('<div/>');\n",
       "    this._root_extra_style(this.root)\n",
       "    this.root.attr('style', 'display: inline-block');\n",
       "\n",
       "    $(parent_element).append(this.root);\n",
       "\n",
       "    this._init_header(this);\n",
       "    this._init_canvas(this);\n",
       "    this._init_toolbar(this);\n",
       "\n",
       "    var fig = this;\n",
       "\n",
       "    this.waiting = false;\n",
       "\n",
       "    this.ws.onopen =  function () {\n",
       "            fig.send_message(\"supports_binary\", {value: fig.supports_binary});\n",
       "            fig.send_message(\"send_image_mode\", {});\n",
       "            if (mpl.ratio != 1) {\n",
       "                fig.send_message(\"set_dpi_ratio\", {'dpi_ratio': mpl.ratio});\n",
       "            }\n",
       "            fig.send_message(\"refresh\", {});\n",
       "        }\n",
       "\n",
       "    this.imageObj.onload = function() {\n",
       "            if (fig.image_mode == 'full') {\n",
       "                // Full images could contain transparency (where diff images\n",
       "                // almost always do), so we need to clear the canvas so that\n",
       "                // there is no ghosting.\n",
       "                fig.context.clearRect(0, 0, fig.canvas.width, fig.canvas.height);\n",
       "            }\n",
       "            fig.context.drawImage(fig.imageObj, 0, 0);\n",
       "        };\n",
       "\n",
       "    this.imageObj.onunload = function() {\n",
       "        fig.ws.close();\n",
       "    }\n",
       "\n",
       "    this.ws.onmessage = this._make_on_message_function(this);\n",
       "\n",
       "    this.ondownload = ondownload;\n",
       "}\n",
       "\n",
       "mpl.figure.prototype._init_header = function() {\n",
       "    var titlebar = $(\n",
       "        '<div class=\"ui-dialog-titlebar ui-widget-header ui-corner-all ' +\n",
       "        'ui-helper-clearfix\"/>');\n",
       "    var titletext = $(\n",
       "        '<div class=\"ui-dialog-title\" style=\"width: 100%; ' +\n",
       "        'text-align: center; padding: 3px;\"/>');\n",
       "    titlebar.append(titletext)\n",
       "    this.root.append(titlebar);\n",
       "    this.header = titletext[0];\n",
       "}\n",
       "\n",
       "\n",
       "\n",
       "mpl.figure.prototype._canvas_extra_style = function(canvas_div) {\n",
       "\n",
       "}\n",
       "\n",
       "\n",
       "mpl.figure.prototype._root_extra_style = function(canvas_div) {\n",
       "\n",
       "}\n",
       "\n",
       "mpl.figure.prototype._init_canvas = function() {\n",
       "    var fig = this;\n",
       "\n",
       "    var canvas_div = $('<div/>');\n",
       "\n",
       "    canvas_div.attr('style', 'position: relative; clear: both; outline: 0');\n",
       "\n",
       "    function canvas_keyboard_event(event) {\n",
       "        return fig.key_event(event, event['data']);\n",
       "    }\n",
       "\n",
       "    canvas_div.keydown('key_press', canvas_keyboard_event);\n",
       "    canvas_div.keyup('key_release', canvas_keyboard_event);\n",
       "    this.canvas_div = canvas_div\n",
       "    this._canvas_extra_style(canvas_div)\n",
       "    this.root.append(canvas_div);\n",
       "\n",
       "    var canvas = $('<canvas/>');\n",
       "    canvas.addClass('mpl-canvas');\n",
       "    canvas.attr('style', \"left: 0; top: 0; z-index: 0; outline: 0\")\n",
       "\n",
       "    this.canvas = canvas[0];\n",
       "    this.context = canvas[0].getContext(\"2d\");\n",
       "\n",
       "    var backingStore = this.context.backingStorePixelRatio ||\n",
       "\tthis.context.webkitBackingStorePixelRatio ||\n",
       "\tthis.context.mozBackingStorePixelRatio ||\n",
       "\tthis.context.msBackingStorePixelRatio ||\n",
       "\tthis.context.oBackingStorePixelRatio ||\n",
       "\tthis.context.backingStorePixelRatio || 1;\n",
       "\n",
       "    mpl.ratio = (window.devicePixelRatio || 1) / backingStore;\n",
       "\n",
       "    var rubberband = $('<canvas/>');\n",
       "    rubberband.attr('style', \"position: absolute; left: 0; top: 0; z-index: 1;\")\n",
       "\n",
       "    var pass_mouse_events = true;\n",
       "\n",
       "    canvas_div.resizable({\n",
       "        start: function(event, ui) {\n",
       "            pass_mouse_events = false;\n",
       "        },\n",
       "        resize: function(event, ui) {\n",
       "            fig.request_resize(ui.size.width, ui.size.height);\n",
       "        },\n",
       "        stop: function(event, ui) {\n",
       "            pass_mouse_events = true;\n",
       "            fig.request_resize(ui.size.width, ui.size.height);\n",
       "        },\n",
       "    });\n",
       "\n",
       "    function mouse_event_fn(event) {\n",
       "        if (pass_mouse_events)\n",
       "            return fig.mouse_event(event, event['data']);\n",
       "    }\n",
       "\n",
       "    rubberband.mousedown('button_press', mouse_event_fn);\n",
       "    rubberband.mouseup('button_release', mouse_event_fn);\n",
       "    // Throttle sequential mouse events to 1 every 20ms.\n",
       "    rubberband.mousemove('motion_notify', mouse_event_fn);\n",
       "\n",
       "    rubberband.mouseenter('figure_enter', mouse_event_fn);\n",
       "    rubberband.mouseleave('figure_leave', mouse_event_fn);\n",
       "\n",
       "    canvas_div.on(\"wheel\", function (event) {\n",
       "        event = event.originalEvent;\n",
       "        event['data'] = 'scroll'\n",
       "        if (event.deltaY < 0) {\n",
       "            event.step = 1;\n",
       "        } else {\n",
       "            event.step = -1;\n",
       "        }\n",
       "        mouse_event_fn(event);\n",
       "    });\n",
       "\n",
       "    canvas_div.append(canvas);\n",
       "    canvas_div.append(rubberband);\n",
       "\n",
       "    this.rubberband = rubberband;\n",
       "    this.rubberband_canvas = rubberband[0];\n",
       "    this.rubberband_context = rubberband[0].getContext(\"2d\");\n",
       "    this.rubberband_context.strokeStyle = \"#000000\";\n",
       "\n",
       "    this._resize_canvas = function(width, height) {\n",
       "        // Keep the size of the canvas, canvas container, and rubber band\n",
       "        // canvas in synch.\n",
       "        canvas_div.css('width', width)\n",
       "        canvas_div.css('height', height)\n",
       "\n",
       "        canvas.attr('width', width * mpl.ratio);\n",
       "        canvas.attr('height', height * mpl.ratio);\n",
       "        canvas.attr('style', 'width: ' + width + 'px; height: ' + height + 'px;');\n",
       "\n",
       "        rubberband.attr('width', width);\n",
       "        rubberband.attr('height', height);\n",
       "    }\n",
       "\n",
       "    // Set the figure to an initial 600x600px, this will subsequently be updated\n",
       "    // upon first draw.\n",
       "    this._resize_canvas(600, 600);\n",
       "\n",
       "    // Disable right mouse context menu.\n",
       "    $(this.rubberband_canvas).bind(\"contextmenu\",function(e){\n",
       "        return false;\n",
       "    });\n",
       "\n",
       "    function set_focus () {\n",
       "        canvas.focus();\n",
       "        canvas_div.focus();\n",
       "    }\n",
       "\n",
       "    window.setTimeout(set_focus, 100);\n",
       "}\n",
       "\n",
       "mpl.figure.prototype._init_toolbar = function() {\n",
       "    var fig = this;\n",
       "\n",
       "    var nav_element = $('<div/>')\n",
       "    nav_element.attr('style', 'width: 100%');\n",
       "    this.root.append(nav_element);\n",
       "\n",
       "    // Define a callback function for later on.\n",
       "    function toolbar_event(event) {\n",
       "        return fig.toolbar_button_onclick(event['data']);\n",
       "    }\n",
       "    function toolbar_mouse_event(event) {\n",
       "        return fig.toolbar_button_onmouseover(event['data']);\n",
       "    }\n",
       "\n",
       "    for(var toolbar_ind in mpl.toolbar_items) {\n",
       "        var name = mpl.toolbar_items[toolbar_ind][0];\n",
       "        var tooltip = mpl.toolbar_items[toolbar_ind][1];\n",
       "        var image = mpl.toolbar_items[toolbar_ind][2];\n",
       "        var method_name = mpl.toolbar_items[toolbar_ind][3];\n",
       "\n",
       "        if (!name) {\n",
       "            // put a spacer in here.\n",
       "            continue;\n",
       "        }\n",
       "        var button = $('<button/>');\n",
       "        button.addClass('ui-button ui-widget ui-state-default ui-corner-all ' +\n",
       "                        'ui-button-icon-only');\n",
       "        button.attr('role', 'button');\n",
       "        button.attr('aria-disabled', 'false');\n",
       "        button.click(method_name, toolbar_event);\n",
       "        button.mouseover(tooltip, toolbar_mouse_event);\n",
       "\n",
       "        var icon_img = $('<span/>');\n",
       "        icon_img.addClass('ui-button-icon-primary ui-icon');\n",
       "        icon_img.addClass(image);\n",
       "        icon_img.addClass('ui-corner-all');\n",
       "\n",
       "        var tooltip_span = $('<span/>');\n",
       "        tooltip_span.addClass('ui-button-text');\n",
       "        tooltip_span.html(tooltip);\n",
       "\n",
       "        button.append(icon_img);\n",
       "        button.append(tooltip_span);\n",
       "\n",
       "        nav_element.append(button);\n",
       "    }\n",
       "\n",
       "    var fmt_picker_span = $('<span/>');\n",
       "\n",
       "    var fmt_picker = $('<select/>');\n",
       "    fmt_picker.addClass('mpl-toolbar-option ui-widget ui-widget-content');\n",
       "    fmt_picker_span.append(fmt_picker);\n",
       "    nav_element.append(fmt_picker_span);\n",
       "    this.format_dropdown = fmt_picker[0];\n",
       "\n",
       "    for (var ind in mpl.extensions) {\n",
       "        var fmt = mpl.extensions[ind];\n",
       "        var option = $(\n",
       "            '<option/>', {selected: fmt === mpl.default_extension}).html(fmt);\n",
       "        fmt_picker.append(option)\n",
       "    }\n",
       "\n",
       "    // Add hover states to the ui-buttons\n",
       "    $( \".ui-button\" ).hover(\n",
       "        function() { $(this).addClass(\"ui-state-hover\");},\n",
       "        function() { $(this).removeClass(\"ui-state-hover\");}\n",
       "    );\n",
       "\n",
       "    var status_bar = $('<span class=\"mpl-message\"/>');\n",
       "    nav_element.append(status_bar);\n",
       "    this.message = status_bar[0];\n",
       "}\n",
       "\n",
       "mpl.figure.prototype.request_resize = function(x_pixels, y_pixels) {\n",
       "    // Request matplotlib to resize the figure. Matplotlib will then trigger a resize in the client,\n",
       "    // which will in turn request a refresh of the image.\n",
       "    this.send_message('resize', {'width': x_pixels, 'height': y_pixels});\n",
       "}\n",
       "\n",
       "mpl.figure.prototype.send_message = function(type, properties) {\n",
       "    properties['type'] = type;\n",
       "    properties['figure_id'] = this.id;\n",
       "    this.ws.send(JSON.stringify(properties));\n",
       "}\n",
       "\n",
       "mpl.figure.prototype.send_draw_message = function() {\n",
       "    if (!this.waiting) {\n",
       "        this.waiting = true;\n",
       "        this.ws.send(JSON.stringify({type: \"draw\", figure_id: this.id}));\n",
       "    }\n",
       "}\n",
       "\n",
       "\n",
       "mpl.figure.prototype.handle_save = function(fig, msg) {\n",
       "    var format_dropdown = fig.format_dropdown;\n",
       "    var format = format_dropdown.options[format_dropdown.selectedIndex].value;\n",
       "    fig.ondownload(fig, format);\n",
       "}\n",
       "\n",
       "\n",
       "mpl.figure.prototype.handle_resize = function(fig, msg) {\n",
       "    var size = msg['size'];\n",
       "    if (size[0] != fig.canvas.width || size[1] != fig.canvas.height) {\n",
       "        fig._resize_canvas(size[0], size[1]);\n",
       "        fig.send_message(\"refresh\", {});\n",
       "    };\n",
       "}\n",
       "\n",
       "mpl.figure.prototype.handle_rubberband = function(fig, msg) {\n",
       "    var x0 = msg['x0'] / mpl.ratio;\n",
       "    var y0 = (fig.canvas.height - msg['y0']) / mpl.ratio;\n",
       "    var x1 = msg['x1'] / mpl.ratio;\n",
       "    var y1 = (fig.canvas.height - msg['y1']) / mpl.ratio;\n",
       "    x0 = Math.floor(x0) + 0.5;\n",
       "    y0 = Math.floor(y0) + 0.5;\n",
       "    x1 = Math.floor(x1) + 0.5;\n",
       "    y1 = Math.floor(y1) + 0.5;\n",
       "    var min_x = Math.min(x0, x1);\n",
       "    var min_y = Math.min(y0, y1);\n",
       "    var width = Math.abs(x1 - x0);\n",
       "    var height = Math.abs(y1 - y0);\n",
       "\n",
       "    fig.rubberband_context.clearRect(\n",
       "        0, 0, fig.canvas.width, fig.canvas.height);\n",
       "\n",
       "    fig.rubberband_context.strokeRect(min_x, min_y, width, height);\n",
       "}\n",
       "\n",
       "mpl.figure.prototype.handle_figure_label = function(fig, msg) {\n",
       "    // Updates the figure title.\n",
       "    fig.header.textContent = msg['label'];\n",
       "}\n",
       "\n",
       "mpl.figure.prototype.handle_cursor = function(fig, msg) {\n",
       "    var cursor = msg['cursor'];\n",
       "    switch(cursor)\n",
       "    {\n",
       "    case 0:\n",
       "        cursor = 'pointer';\n",
       "        break;\n",
       "    case 1:\n",
       "        cursor = 'default';\n",
       "        break;\n",
       "    case 2:\n",
       "        cursor = 'crosshair';\n",
       "        break;\n",
       "    case 3:\n",
       "        cursor = 'move';\n",
       "        break;\n",
       "    }\n",
       "    fig.rubberband_canvas.style.cursor = cursor;\n",
       "}\n",
       "\n",
       "mpl.figure.prototype.handle_message = function(fig, msg) {\n",
       "    fig.message.textContent = msg['message'];\n",
       "}\n",
       "\n",
       "mpl.figure.prototype.handle_draw = function(fig, msg) {\n",
       "    // Request the server to send over a new figure.\n",
       "    fig.send_draw_message();\n",
       "}\n",
       "\n",
       "mpl.figure.prototype.handle_image_mode = function(fig, msg) {\n",
       "    fig.image_mode = msg['mode'];\n",
       "}\n",
       "\n",
       "mpl.figure.prototype.updated_canvas_event = function() {\n",
       "    // Called whenever the canvas gets updated.\n",
       "    this.send_message(\"ack\", {});\n",
       "}\n",
       "\n",
       "// A function to construct a web socket function for onmessage handling.\n",
       "// Called in the figure constructor.\n",
       "mpl.figure.prototype._make_on_message_function = function(fig) {\n",
       "    return function socket_on_message(evt) {\n",
       "        if (evt.data instanceof Blob) {\n",
       "            /* FIXME: We get \"Resource interpreted as Image but\n",
       "             * transferred with MIME type text/plain:\" errors on\n",
       "             * Chrome.  But how to set the MIME type?  It doesn't seem\n",
       "             * to be part of the websocket stream */\n",
       "            evt.data.type = \"image/png\";\n",
       "\n",
       "            /* Free the memory for the previous frames */\n",
       "            if (fig.imageObj.src) {\n",
       "                (window.URL || window.webkitURL).revokeObjectURL(\n",
       "                    fig.imageObj.src);\n",
       "            }\n",
       "\n",
       "            fig.imageObj.src = (window.URL || window.webkitURL).createObjectURL(\n",
       "                evt.data);\n",
       "            fig.updated_canvas_event();\n",
       "            fig.waiting = false;\n",
       "            return;\n",
       "        }\n",
       "        else if (typeof evt.data === 'string' && evt.data.slice(0, 21) == \"data:image/png;base64\") {\n",
       "            fig.imageObj.src = evt.data;\n",
       "            fig.updated_canvas_event();\n",
       "            fig.waiting = false;\n",
       "            return;\n",
       "        }\n",
       "\n",
       "        var msg = JSON.parse(evt.data);\n",
       "        var msg_type = msg['type'];\n",
       "\n",
       "        // Call the  \"handle_{type}\" callback, which takes\n",
       "        // the figure and JSON message as its only arguments.\n",
       "        try {\n",
       "            var callback = fig[\"handle_\" + msg_type];\n",
       "        } catch (e) {\n",
       "            console.log(\"No handler for the '\" + msg_type + \"' message type: \", msg);\n",
       "            return;\n",
       "        }\n",
       "\n",
       "        if (callback) {\n",
       "            try {\n",
       "                // console.log(\"Handling '\" + msg_type + \"' message: \", msg);\n",
       "                callback(fig, msg);\n",
       "            } catch (e) {\n",
       "                console.log(\"Exception inside the 'handler_\" + msg_type + \"' callback:\", e, e.stack, msg);\n",
       "            }\n",
       "        }\n",
       "    };\n",
       "}\n",
       "\n",
       "// from http://stackoverflow.com/questions/1114465/getting-mouse-location-in-canvas\n",
       "mpl.findpos = function(e) {\n",
       "    //this section is from http://www.quirksmode.org/js/events_properties.html\n",
       "    var targ;\n",
       "    if (!e)\n",
       "        e = window.event;\n",
       "    if (e.target)\n",
       "        targ = e.target;\n",
       "    else if (e.srcElement)\n",
       "        targ = e.srcElement;\n",
       "    if (targ.nodeType == 3) // defeat Safari bug\n",
       "        targ = targ.parentNode;\n",
       "\n",
       "    // jQuery normalizes the pageX and pageY\n",
       "    // pageX,Y are the mouse positions relative to the document\n",
       "    // offset() returns the position of the element relative to the document\n",
       "    var x = e.pageX - $(targ).offset().left;\n",
       "    var y = e.pageY - $(targ).offset().top;\n",
       "\n",
       "    return {\"x\": x, \"y\": y};\n",
       "};\n",
       "\n",
       "/*\n",
       " * return a copy of an object with only non-object keys\n",
       " * we need this to avoid circular references\n",
       " * http://stackoverflow.com/a/24161582/3208463\n",
       " */\n",
       "function simpleKeys (original) {\n",
       "  return Object.keys(original).reduce(function (obj, key) {\n",
       "    if (typeof original[key] !== 'object')\n",
       "        obj[key] = original[key]\n",
       "    return obj;\n",
       "  }, {});\n",
       "}\n",
       "\n",
       "mpl.figure.prototype.mouse_event = function(event, name) {\n",
       "    var canvas_pos = mpl.findpos(event)\n",
       "\n",
       "    if (name === 'button_press')\n",
       "    {\n",
       "        this.canvas.focus();\n",
       "        this.canvas_div.focus();\n",
       "    }\n",
       "\n",
       "    var x = canvas_pos.x * mpl.ratio;\n",
       "    var y = canvas_pos.y * mpl.ratio;\n",
       "\n",
       "    this.send_message(name, {x: x, y: y, button: event.button,\n",
       "                             step: event.step,\n",
       "                             guiEvent: simpleKeys(event)});\n",
       "\n",
       "    /* This prevents the web browser from automatically changing to\n",
       "     * the text insertion cursor when the button is pressed.  We want\n",
       "     * to control all of the cursor setting manually through the\n",
       "     * 'cursor' event from matplotlib */\n",
       "    event.preventDefault();\n",
       "    return false;\n",
       "}\n",
       "\n",
       "mpl.figure.prototype._key_event_extra = function(event, name) {\n",
       "    // Handle any extra behaviour associated with a key event\n",
       "}\n",
       "\n",
       "mpl.figure.prototype.key_event = function(event, name) {\n",
       "\n",
       "    // Prevent repeat events\n",
       "    if (name == 'key_press')\n",
       "    {\n",
       "        if (event.which === this._key)\n",
       "            return;\n",
       "        else\n",
       "            this._key = event.which;\n",
       "    }\n",
       "    if (name == 'key_release')\n",
       "        this._key = null;\n",
       "\n",
       "    var value = '';\n",
       "    if (event.ctrlKey && event.which != 17)\n",
       "        value += \"ctrl+\";\n",
       "    if (event.altKey && event.which != 18)\n",
       "        value += \"alt+\";\n",
       "    if (event.shiftKey && event.which != 16)\n",
       "        value += \"shift+\";\n",
       "\n",
       "    value += 'k';\n",
       "    value += event.which.toString();\n",
       "\n",
       "    this._key_event_extra(event, name);\n",
       "\n",
       "    this.send_message(name, {key: value,\n",
       "                             guiEvent: simpleKeys(event)});\n",
       "    return false;\n",
       "}\n",
       "\n",
       "mpl.figure.prototype.toolbar_button_onclick = function(name) {\n",
       "    if (name == 'download') {\n",
       "        this.handle_save(this, null);\n",
       "    } else {\n",
       "        this.send_message(\"toolbar_button\", {name: name});\n",
       "    }\n",
       "};\n",
       "\n",
       "mpl.figure.prototype.toolbar_button_onmouseover = function(tooltip) {\n",
       "    this.message.textContent = tooltip;\n",
       "};\n",
       "mpl.toolbar_items = [[\"Home\", \"Reset original view\", \"fa fa-home icon-home\", \"home\"], [\"Back\", \"Back to  previous view\", \"fa fa-arrow-left icon-arrow-left\", \"back\"], [\"Forward\", \"Forward to next view\", \"fa fa-arrow-right icon-arrow-right\", \"forward\"], [\"\", \"\", \"\", \"\"], [\"Pan\", \"Pan axes with left mouse, zoom with right\", \"fa fa-arrows icon-move\", \"pan\"], [\"Zoom\", \"Zoom to rectangle\", \"fa fa-square-o icon-check-empty\", \"zoom\"], [\"\", \"\", \"\", \"\"], [\"Download\", \"Download plot\", \"fa fa-floppy-o icon-save\", \"download\"]];\n",
       "\n",
       "mpl.extensions = [\"eps\", \"jpeg\", \"pdf\", \"png\", \"ps\", \"raw\", \"svg\", \"tif\"];\n",
       "\n",
       "mpl.default_extension = \"png\";var comm_websocket_adapter = function(comm) {\n",
       "    // Create a \"websocket\"-like object which calls the given IPython comm\n",
       "    // object with the appropriate methods. Currently this is a non binary\n",
       "    // socket, so there is still some room for performance tuning.\n",
       "    var ws = {};\n",
       "\n",
       "    ws.close = function() {\n",
       "        comm.close()\n",
       "    };\n",
       "    ws.send = function(m) {\n",
       "        //console.log('sending', m);\n",
       "        comm.send(m);\n",
       "    };\n",
       "    // Register the callback with on_msg.\n",
       "    comm.on_msg(function(msg) {\n",
       "        //console.log('receiving', msg['content']['data'], msg);\n",
       "        // Pass the mpl event to the overridden (by mpl) onmessage function.\n",
       "        ws.onmessage(msg['content']['data'])\n",
       "    });\n",
       "    return ws;\n",
       "}\n",
       "\n",
       "mpl.mpl_figure_comm = function(comm, msg) {\n",
       "    // This is the function which gets called when the mpl process\n",
       "    // starts-up an IPython Comm through the \"matplotlib\" channel.\n",
       "\n",
       "    var id = msg.content.data.id;\n",
       "    // Get hold of the div created by the display call when the Comm\n",
       "    // socket was opened in Python.\n",
       "    var element = $(\"#\" + id);\n",
       "    var ws_proxy = comm_websocket_adapter(comm)\n",
       "\n",
       "    function ondownload(figure, format) {\n",
       "        window.open(figure.imageObj.src);\n",
       "    }\n",
       "\n",
       "    var fig = new mpl.figure(id, ws_proxy,\n",
       "                           ondownload,\n",
       "                           element.get(0));\n",
       "\n",
       "    // Call onopen now - mpl needs it, as it is assuming we've passed it a real\n",
       "    // web socket which is closed, not our websocket->open comm proxy.\n",
       "    ws_proxy.onopen();\n",
       "\n",
       "    fig.parent_element = element.get(0);\n",
       "    fig.cell_info = mpl.find_output_cell(\"<div id='\" + id + \"'></div>\");\n",
       "    if (!fig.cell_info) {\n",
       "        console.error(\"Failed to find cell for figure\", id, fig);\n",
       "        return;\n",
       "    }\n",
       "\n",
       "    var output_index = fig.cell_info[2]\n",
       "    var cell = fig.cell_info[0];\n",
       "\n",
       "};\n",
       "\n",
       "mpl.figure.prototype.handle_close = function(fig, msg) {\n",
       "    var width = fig.canvas.width/mpl.ratio\n",
       "    fig.root.unbind('remove')\n",
       "\n",
       "    // Update the output cell to use the data from the current canvas.\n",
       "    fig.push_to_output();\n",
       "    var dataURL = fig.canvas.toDataURL();\n",
       "    // Re-enable the keyboard manager in IPython - without this line, in FF,\n",
       "    // the notebook keyboard shortcuts fail.\n",
       "    IPython.keyboard_manager.enable()\n",
       "    $(fig.parent_element).html('<img src=\"' + dataURL + '\" width=\"' + width + '\">');\n",
       "    fig.close_ws(fig, msg);\n",
       "}\n",
       "\n",
       "mpl.figure.prototype.close_ws = function(fig, msg){\n",
       "    fig.send_message('closing', msg);\n",
       "    // fig.ws.close()\n",
       "}\n",
       "\n",
       "mpl.figure.prototype.push_to_output = function(remove_interactive) {\n",
       "    // Turn the data on the canvas into data in the output cell.\n",
       "    var width = this.canvas.width/mpl.ratio\n",
       "    var dataURL = this.canvas.toDataURL();\n",
       "    this.cell_info[1]['text/html'] = '<img src=\"' + dataURL + '\" width=\"' + width + '\">';\n",
       "}\n",
       "\n",
       "mpl.figure.prototype.updated_canvas_event = function() {\n",
       "    // Tell IPython that the notebook contents must change.\n",
       "    IPython.notebook.set_dirty(true);\n",
       "    this.send_message(\"ack\", {});\n",
       "    var fig = this;\n",
       "    // Wait a second, then push the new image to the DOM so\n",
       "    // that it is saved nicely (might be nice to debounce this).\n",
       "    setTimeout(function () { fig.push_to_output() }, 1000);\n",
       "}\n",
       "\n",
       "mpl.figure.prototype._init_toolbar = function() {\n",
       "    var fig = this;\n",
       "\n",
       "    var nav_element = $('<div/>')\n",
       "    nav_element.attr('style', 'width: 100%');\n",
       "    this.root.append(nav_element);\n",
       "\n",
       "    // Define a callback function for later on.\n",
       "    function toolbar_event(event) {\n",
       "        return fig.toolbar_button_onclick(event['data']);\n",
       "    }\n",
       "    function toolbar_mouse_event(event) {\n",
       "        return fig.toolbar_button_onmouseover(event['data']);\n",
       "    }\n",
       "\n",
       "    for(var toolbar_ind in mpl.toolbar_items){\n",
       "        var name = mpl.toolbar_items[toolbar_ind][0];\n",
       "        var tooltip = mpl.toolbar_items[toolbar_ind][1];\n",
       "        var image = mpl.toolbar_items[toolbar_ind][2];\n",
       "        var method_name = mpl.toolbar_items[toolbar_ind][3];\n",
       "\n",
       "        if (!name) { continue; };\n",
       "\n",
       "        var button = $('<button class=\"btn btn-default\" href=\"#\" title=\"' + name + '\"><i class=\"fa ' + image + ' fa-lg\"></i></button>');\n",
       "        button.click(method_name, toolbar_event);\n",
       "        button.mouseover(tooltip, toolbar_mouse_event);\n",
       "        nav_element.append(button);\n",
       "    }\n",
       "\n",
       "    // Add the status bar.\n",
       "    var status_bar = $('<span class=\"mpl-message\" style=\"text-align:right; float: right;\"/>');\n",
       "    nav_element.append(status_bar);\n",
       "    this.message = status_bar[0];\n",
       "\n",
       "    // Add the close button to the window.\n",
       "    var buttongrp = $('<div class=\"btn-group inline pull-right\"></div>');\n",
       "    var button = $('<button class=\"btn btn-mini btn-primary\" href=\"#\" title=\"Stop Interaction\"><i class=\"fa fa-power-off icon-remove icon-large\"></i></button>');\n",
       "    button.click(function (evt) { fig.handle_close(fig, {}); } );\n",
       "    button.mouseover('Stop Interaction', toolbar_mouse_event);\n",
       "    buttongrp.append(button);\n",
       "    var titlebar = this.root.find($('.ui-dialog-titlebar'));\n",
       "    titlebar.prepend(buttongrp);\n",
       "}\n",
       "\n",
       "mpl.figure.prototype._root_extra_style = function(el){\n",
       "    var fig = this\n",
       "    el.on(\"remove\", function(){\n",
       "\tfig.close_ws(fig, {});\n",
       "    });\n",
       "}\n",
       "\n",
       "mpl.figure.prototype._canvas_extra_style = function(el){\n",
       "    // this is important to make the div 'focusable\n",
       "    el.attr('tabindex', 0)\n",
       "    // reach out to IPython and tell the keyboard manager to turn it's self\n",
       "    // off when our div gets focus\n",
       "\n",
       "    // location in version 3\n",
       "    if (IPython.notebook.keyboard_manager) {\n",
       "        IPython.notebook.keyboard_manager.register_events(el);\n",
       "    }\n",
       "    else {\n",
       "        // location in version 2\n",
       "        IPython.keyboard_manager.register_events(el);\n",
       "    }\n",
       "\n",
       "}\n",
       "\n",
       "mpl.figure.prototype._key_event_extra = function(event, name) {\n",
       "    var manager = IPython.notebook.keyboard_manager;\n",
       "    if (!manager)\n",
       "        manager = IPython.keyboard_manager;\n",
       "\n",
       "    // Check for shift+enter\n",
       "    if (event.shiftKey && event.which == 13) {\n",
       "        this.canvas_div.blur();\n",
       "        event.shiftKey = false;\n",
       "        // Send a \"J\" for go to next cell\n",
       "        event.which = 74;\n",
       "        event.keyCode = 74;\n",
       "        manager.command_mode();\n",
       "        manager.handle_keydown(event);\n",
       "    }\n",
       "}\n",
       "\n",
       "mpl.figure.prototype.handle_save = function(fig, msg) {\n",
       "    fig.ondownload(fig, null);\n",
       "}\n",
       "\n",
       "\n",
       "mpl.find_output_cell = function(html_output) {\n",
       "    // Return the cell and output element which can be found *uniquely* in the notebook.\n",
       "    // Note - this is a bit hacky, but it is done because the \"notebook_saving.Notebook\"\n",
       "    // IPython event is triggered only after the cells have been serialised, which for\n",
       "    // our purposes (turning an active figure into a static one), is too late.\n",
       "    var cells = IPython.notebook.get_cells();\n",
       "    var ncells = cells.length;\n",
       "    for (var i=0; i<ncells; i++) {\n",
       "        var cell = cells[i];\n",
       "        if (cell.cell_type === 'code'){\n",
       "            for (var j=0; j<cell.output_area.outputs.length; j++) {\n",
       "                var data = cell.output_area.outputs[j];\n",
       "                if (data.data) {\n",
       "                    // IPython >= 3 moved mimebundle to data attribute of output\n",
       "                    data = data.data;\n",
       "                }\n",
       "                if (data['text/html'] == html_output) {\n",
       "                    return [cell, data, j];\n",
       "                }\n",
       "            }\n",
       "        }\n",
       "    }\n",
       "}\n",
       "\n",
       "// Register the function which deals with the matplotlib target/channel.\n",
       "// The kernel may be null if the page has been refreshed.\n",
       "if (IPython.notebook.kernel != null) {\n",
       "    IPython.notebook.kernel.comm_manager.register_target('matplotlib', mpl.mpl_figure_comm);\n",
       "}\n"
      ],
      "text/plain": [
       "<IPython.core.display.Javascript object>"
      ]
     },
     "metadata": {},
     "output_type": "display_data"
    },
    {
     "data": {
      "text/html": [
       "<img src=\"data:image/png;base64,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\" width=\"640\">"
      ],
      "text/plain": [
       "<IPython.core.display.HTML object>"
      ]
     },
     "metadata": {},
     "output_type": "display_data"
    },
    {
     "data": {
      "application/vnd.jupyter.widget-view+json": {
       "model_id": "4531ed0af8ef483a81f8437b3fe137d4",
       "version_major": 2,
       "version_minor": 0
      },
      "text/plain": [
       "interactive(children=(FloatSlider(value=0.0, description='c', max=10.0, step=0.001), Output()), _dom_classes=(…"
      ]
     },
     "metadata": {},
     "output_type": "display_data"
    }
   ],
   "source": [
    "!pip install numpy\n",
    "!pip install matplotlib\n",
    "import numpy as np\n",
    "%matplotlib notebook\n",
    "from ipywidgets import *\n",
    "\n",
    "\n",
    "L = 1.\n",
    "c = 0.5\n",
    "\n",
    "\n",
    "\n",
    "T = 10\n",
    "Time_gen = 10000\n",
    "h_t = 1e-4 * T\n",
    "h_x = 1e-3 * L\n",
    "\n",
    "scale = ((h_x) / (h_t)) ** 2\n",
    "\n",
    "\n",
    "\n",
    "x_mesh = np.linspace(-L,L,np.int(2*L/h_x) + 1)\n",
    "\n",
    "t_mesh = np.linspace(0,T,np.int(T/h_t) + 1)\n",
    "\n",
    "def generate_initial(x_mesh,t_mesh):\n",
    "    psi = np.zeros((x_mesh.size+2,t_mesh.size))\n",
    "    y = np.asarray([np.cos(5*np.pi/2*x) * np.int(x <= (-3 / 5)) for x in x_mesh])\n",
    "    \n",
    "    psi[1:x_mesh.size+1,0] = y\n",
    "    psi[1:x_mesh.size+1,1] = y\n",
    "    psi[1:x_mesh.size+1,2] = y\n",
    "    return psi\n",
    "    \n",
    "#Находим psi[x,t]\n",
    "\n",
    "def right_side(psi, kx, kt):\n",
    "    return (c ** 2 / scale) * (psi[kx+1,kt-1] - 2*psi[kx, kt-1] + psi[kx-1, kt-1]) + 2*psi[kx,kt-1] - psi[kx, kt-2]\n",
    "\n",
    "def sweep(psi, kt, mesh):\n",
    "    psi[0, kt] = 0.\n",
    "    psi[1, kt] = 0.\n",
    "    \n",
    "    for i in range(2, mesh.size):\n",
    "        psi[i, kt] = right_side(psi,i,kt)\n",
    "       \n",
    "    return psi\n",
    "\n",
    "psi = generate_initial(x_mesh, t_mesh)\n",
    "\n",
    "for i in range(3, Time_gen):\n",
    "    psi = sweep(psi, i, x_mesh)\n",
    "\n",
    "\n",
    "import matplotlib.pyplot as plt\n",
    "\n",
    "fig = plt.figure()\n",
    "ax = fig.add_subplot(1, 1, 1)\n",
    "line, = ax.plot(x_mesh, psi[1:x_mesh.size+1,0])\n",
    "plt.ylim(np.max(psi[:,0]))\n",
    "plt.ylim(bottom=-np.max(psi[:,0]))\n",
    "\n",
    "def update(c = 0.):\n",
    "    line.set_ydata(psi[1:x_mesh.size+1,np.int(c/h_t)])\n",
    "    fig.canvas.draw()\n",
    "    \n",
    "interact(update, c = widgets.FloatSlider(min=0,max=10,step=h_t,value=0.));\n",
    "\n",
    "\n",
    "    \n"
   ]
  },
  {
   "cell_type": "markdown",
   "metadata": {},
   "source": [
    "А здесь живет неудачная попытка численно решить динамическое уравнение Шрёдингера для квадратичного потенциала (гармонический осциллятор). Начальное состояние - основное, и на сравнительно небольших временных интервалах даже ведет себя, как надо, но потом пускается во все тяжкие. Нужно аккуратно следить за устойчивостью схемы, что мне к моменту наступления дедлайна было лень проделывать, так что, возможно, в другой раз."
   ]
  },
  {
   "cell_type": "code",
   "execution_count": null,
   "metadata": {},
   "outputs": [],
   "source": []
  },
  {
   "cell_type": "code",
   "execution_count": null,
   "metadata": {},
   "outputs": [],
   "source": []
  }
 ],
 "metadata": {
  "kernelspec": {
   "display_name": "Python 3",
   "language": "python",
   "name": "python3"
  },
  "language_info": {
   "codemirror_mode": {
    "name": "ipython",
    "version": 3
   },
   "file_extension": ".py",
   "mimetype": "text/x-python",
   "name": "python",
   "nbconvert_exporter": "python",
   "pygments_lexer": "ipython3",
   "version": "3.6.5"
  },
  "widgets": {
   "application/vnd.jupyter.widget-state+json": {
    "state": {
     "0199dd6af8304be198c49d25cd996ea5": {
      "model_module": "@jupyter-widgets/controls",
      "model_module_version": "1.2.0",
      "model_name": "VBoxModel",
      "state": {
       "_dom_classes": [
        "widget-interact"
       ],
       "children": [
        "IPY_MODEL_e9b8750b3d454d90ae44b84b3030513f",
        "IPY_MODEL_e5baecd21e3c47058c13da84a963d609"
       ],
       "layout": "IPY_MODEL_7d2ce201917e44ba9778c132dd6a766e"
      }
     },
     "02d1bd4e18834bdd9da409dfdf96386f": {
      "model_module": "@jupyter-widgets/base",
      "model_module_version": "1.0.0",
      "model_name": "LayoutModel",
      "state": {}
     },
     "0e76ada7ba034195a6327672fccb9e5c": {
      "model_module": "@jupyter-widgets/controls",
      "model_module_version": "1.2.0",
      "model_name": "VBoxModel",
      "state": {
       "_dom_classes": [
        "widget-interact"
       ],
       "children": [
        "IPY_MODEL_c7a56742257d4ff8b29a4da12fc31e91",
        "IPY_MODEL_14b4b2cb63ea47ac9b77e2a833651d3c"
       ],
       "layout": "IPY_MODEL_e070d94c95f84348b4b63ab62f49361f"
      }
     },
     "12d0adb7d0b9490190fd11e67216ca80": {
      "model_module": "@jupyter-widgets/base",
      "model_module_version": "1.0.0",
      "model_name": "LayoutModel",
      "state": {}
     },
     "14b4b2cb63ea47ac9b77e2a833651d3c": {
      "model_module": "@jupyter-widgets/output",
      "model_module_version": "1.0.0",
      "model_name": "OutputModel",
      "state": {
       "layout": "IPY_MODEL_b63228baace446bbab1ab7c75172d7e6"
      }
     },
     "209ab36a80774fce9b6b87361c63f9fa": {
      "model_module": "@jupyter-widgets/controls",
      "model_module_version": "1.2.0",
      "model_name": "VBoxModel",
      "state": {
       "_dom_classes": [
        "widget-interact"
       ],
       "children": [
        "IPY_MODEL_457d7c10f2914f3f8176442c8614d150",
        "IPY_MODEL_c40af78d732c409fb43de54d3444f631"
       ],
       "layout": "IPY_MODEL_bb5f1fdac8f64cbd8f23a626e8faaab5"
      }
     },
     "234875993b1d496ba5681c6d6a7135ca": {
      "model_module": "@jupyter-widgets/base",
      "model_module_version": "1.0.0",
      "model_name": "LayoutModel",
      "state": {}
     },
     "24482977d86a49b3af8963b40739d0f2": {
      "model_module": "@jupyter-widgets/base",
      "model_module_version": "1.0.0",
      "model_name": "LayoutModel",
      "state": {}
     },
     "366c53a635bd4991b04517b907994c3a": {
      "model_module": "@jupyter-widgets/base",
      "model_module_version": "1.0.0",
      "model_name": "LayoutModel",
      "state": {}
     },
     "36b23046739d4bc88f6e1c18f1bb3948": {
      "model_module": "@jupyter-widgets/output",
      "model_module_version": "1.0.0",
      "model_name": "OutputModel",
      "state": {
       "layout": "IPY_MODEL_eaca203d55214f29b511f0b6beefdeea"
      }
     },
     "3cda79eabaeb45dd83974ed79f664c75": {
      "model_module": "@jupyter-widgets/base",
      "model_module_version": "1.0.0",
      "model_name": "LayoutModel",
      "state": {}
     },
     "3e411be955794d8dbad1bfeca88d8854": {
      "model_module": "@jupyter-widgets/controls",
      "model_module_version": "1.2.0",
      "model_name": "SliderStyleModel",
      "state": {
       "description_width": ""
      }
     },
     "3e7be9d2fdd04249a1dcefb8720e4e7f": {
      "model_module": "@jupyter-widgets/base",
      "model_module_version": "1.0.0",
      "model_name": "LayoutModel",
      "state": {}
     },
     "3fa277ecc4f745db91b92f366dbf09b0": {
      "model_module": "@jupyter-widgets/output",
      "model_module_version": "1.0.0",
      "model_name": "OutputModel",
      "state": {
       "layout": "IPY_MODEL_567ed8119a0b453d9a4e43315f58c564"
      }
     },
     "44c1cbbbd7e24e859236ed112001946a": {
      "model_module": "@jupyter-widgets/controls",
      "model_module_version": "1.2.0",
      "model_name": "SliderStyleModel",
      "state": {
       "description_width": ""
      }
     },
     "4531ed0af8ef483a81f8437b3fe137d4": {
      "model_module": "@jupyter-widgets/controls",
      "model_module_version": "1.2.0",
      "model_name": "VBoxModel",
      "state": {
       "_dom_classes": [
        "widget-interact"
       ],
       "children": [
        "IPY_MODEL_9442f2d2762841cbb2dd998286b4ed1d",
        "IPY_MODEL_36b23046739d4bc88f6e1c18f1bb3948"
       ],
       "layout": "IPY_MODEL_a6be7c3c1225495986a570ddb0728385"
      }
     },
     "457d7c10f2914f3f8176442c8614d150": {
      "model_module": "@jupyter-widgets/controls",
      "model_module_version": "1.2.0",
      "model_name": "FloatSliderModel",
      "state": {
       "description": "c",
       "layout": "IPY_MODEL_8a6ff7af4abb4e3c8d1ebb8b2b3d0195",
       "max": 10,
       "step": 0.01,
       "style": "IPY_MODEL_3e411be955794d8dbad1bfeca88d8854",
       "value": 9.47
      }
     },
     "481dd367033b433b9d6e2aa3d977712b": {
      "model_module": "@jupyter-widgets/output",
      "model_module_version": "1.0.0",
      "model_name": "OutputModel",
      "state": {
       "layout": "IPY_MODEL_12d0adb7d0b9490190fd11e67216ca80"
      }
     },
     "497501190fbb461eb51bba1457797f1d": {
      "model_module": "@jupyter-widgets/controls",
      "model_module_version": "1.2.0",
      "model_name": "FloatSliderModel",
      "state": {
       "description": "c",
       "layout": "IPY_MODEL_24482977d86a49b3af8963b40739d0f2",
       "max": 10,
       "step": 0.001,
       "style": "IPY_MODEL_72f478f849bb48dd9e088c46a9db7d7a"
      }
     },
     "4dfd24f811f7406dbe81ef00011a9ff9": {
      "model_module": "@jupyter-widgets/base",
      "model_module_version": "1.0.0",
      "model_name": "LayoutModel",
      "state": {}
     },
     "5672975b89044743b598fafbd903c9a5": {
      "model_module": "@jupyter-widgets/base",
      "model_module_version": "1.0.0",
      "model_name": "LayoutModel",
      "state": {}
     },
     "567ed8119a0b453d9a4e43315f58c564": {
      "model_module": "@jupyter-widgets/base",
      "model_module_version": "1.0.0",
      "model_name": "LayoutModel",
      "state": {}
     },
     "5b1ac3b72185466499f092c20a5cb9d0": {
      "model_module": "@jupyter-widgets/controls",
      "model_module_version": "1.2.0",
      "model_name": "SliderStyleModel",
      "state": {
       "description_width": ""
      }
     },
     "5b4fa7c1659846fca1e88d7ed84015e9": {
      "model_module": "@jupyter-widgets/base",
      "model_module_version": "1.0.0",
      "model_name": "LayoutModel",
      "state": {}
     },
     "5c1146e7ac6f4459a4486c0467b9c2e1": {
      "model_module": "@jupyter-widgets/base",
      "model_module_version": "1.0.0",
      "model_name": "LayoutModel",
      "state": {}
     },
     "6ee665370af1478e9f2f865ae493e52a": {
      "model_module": "@jupyter-widgets/controls",
      "model_module_version": "1.2.0",
      "model_name": "VBoxModel",
      "state": {
       "_dom_classes": [
        "widget-interact"
       ],
       "children": [
        "IPY_MODEL_9f094d897cdc4498896af95b8e2fee77",
        "IPY_MODEL_85efcbda748c4afb87ffad11e1f3ffef"
       ],
       "layout": "IPY_MODEL_8650018cd294443daf7dfdbb29c611ce"
      }
     },
     "72f478f849bb48dd9e088c46a9db7d7a": {
      "model_module": "@jupyter-widgets/controls",
      "model_module_version": "1.2.0",
      "model_name": "SliderStyleModel",
      "state": {
       "description_width": ""
      }
     },
     "799b019ff0aa436894e12af95d8ec5da": {
      "model_module": "@jupyter-widgets/controls",
      "model_module_version": "1.2.0",
      "model_name": "SliderStyleModel",
      "state": {
       "description_width": ""
      }
     },
     "7bc04d720c7648c887594ebce43a2cd2": {
      "model_module": "@jupyter-widgets/controls",
      "model_module_version": "1.2.0",
      "model_name": "VBoxModel",
      "state": {
       "_dom_classes": [
        "widget-interact"
       ],
       "children": [
        "IPY_MODEL_497501190fbb461eb51bba1457797f1d",
        "IPY_MODEL_ab69eca9d4d1482799114873f04855e4"
       ],
       "layout": "IPY_MODEL_3cda79eabaeb45dd83974ed79f664c75"
      }
     },
     "7c7e79e0c1864c3590139285565bb626": {
      "model_module": "@jupyter-widgets/base",
      "model_module_version": "1.0.0",
      "model_name": "LayoutModel",
      "state": {}
     },
     "7d2ce201917e44ba9778c132dd6a766e": {
      "model_module": "@jupyter-widgets/base",
      "model_module_version": "1.0.0",
      "model_name": "LayoutModel",
      "state": {}
     },
     "84873ab241a14460acf0830fd76a555b": {
      "model_module": "@jupyter-widgets/controls",
      "model_module_version": "1.2.0",
      "model_name": "FloatSliderModel",
      "state": {
       "description": "c1",
       "layout": "IPY_MODEL_4dfd24f811f7406dbe81ef00011a9ff9",
       "max": 0.5,
       "step": 0.01,
       "style": "IPY_MODEL_b1bb13b261f34dc1945d1a57752235f2"
      }
     },
     "85efcbda748c4afb87ffad11e1f3ffef": {
      "model_module": "@jupyter-widgets/output",
      "model_module_version": "1.0.0",
      "model_name": "OutputModel",
      "state": {
       "layout": "IPY_MODEL_ee61fe6bb7cc4467b89d5166de582ef1",
       "outputs": [
        {
         "ename": "ValueError",
         "evalue": "shape mismatch: objects cannot be broadcast to a single shape",
         "output_type": "error",
         "traceback": [
          "\u001b[1;31m---------------------------------------------------------------------------\u001b[0m",
          "\u001b[1;31mValueError\u001b[0m                                Traceback (most recent call last)",
          "\u001b[1;32mD:\\AnacondaPython\\lib\\site-packages\\ipywidgets\\widgets\\interaction.py\u001b[0m in \u001b[0;36mupdate\u001b[1;34m(self, *args)\u001b[0m\n\u001b[0;32m    249\u001b[0m                     \u001b[0mvalue\u001b[0m \u001b[1;33m=\u001b[0m \u001b[0mwidget\u001b[0m\u001b[1;33m.\u001b[0m\u001b[0mget_interact_value\u001b[0m\u001b[1;33m(\u001b[0m\u001b[1;33m)\u001b[0m\u001b[1;33m\u001b[0m\u001b[0m\n\u001b[0;32m    250\u001b[0m                     \u001b[0mself\u001b[0m\u001b[1;33m.\u001b[0m\u001b[0mkwargs\u001b[0m\u001b[1;33m[\u001b[0m\u001b[0mwidget\u001b[0m\u001b[1;33m.\u001b[0m\u001b[0m_kwarg\u001b[0m\u001b[1;33m]\u001b[0m \u001b[1;33m=\u001b[0m \u001b[0mvalue\u001b[0m\u001b[1;33m\u001b[0m\u001b[0m\n\u001b[1;32m--> 251\u001b[1;33m                 \u001b[0mself\u001b[0m\u001b[1;33m.\u001b[0m\u001b[0mresult\u001b[0m \u001b[1;33m=\u001b[0m \u001b[0mself\u001b[0m\u001b[1;33m.\u001b[0m\u001b[0mf\u001b[0m\u001b[1;33m(\u001b[0m\u001b[1;33m**\u001b[0m\u001b[0mself\u001b[0m\u001b[1;33m.\u001b[0m\u001b[0mkwargs\u001b[0m\u001b[1;33m)\u001b[0m\u001b[1;33m\u001b[0m\u001b[0m\n\u001b[0m\u001b[0;32m    252\u001b[0m                 \u001b[0mshow_inline_matplotlib_plots\u001b[0m\u001b[1;33m(\u001b[0m\u001b[1;33m)\u001b[0m\u001b[1;33m\u001b[0m\u001b[0m\n\u001b[0;32m    253\u001b[0m                 \u001b[1;32mif\u001b[0m \u001b[0mself\u001b[0m\u001b[1;33m.\u001b[0m\u001b[0mauto_display\u001b[0m \u001b[1;32mand\u001b[0m \u001b[0mself\u001b[0m\u001b[1;33m.\u001b[0m\u001b[0mresult\u001b[0m \u001b[1;32mis\u001b[0m \u001b[1;32mnot\u001b[0m \u001b[1;32mNone\u001b[0m\u001b[1;33m:\u001b[0m\u001b[1;33m\u001b[0m\u001b[0m\n",
          "\u001b[1;32m<ipython-input-8-292b9af18db6>\u001b[0m in \u001b[0;36mupdate1\u001b[1;34m(c1)\u001b[0m\n\u001b[0;32m     62\u001b[0m     \u001b[0mline3\u001b[0m\u001b[1;33m.\u001b[0m\u001b[0mset_ydata\u001b[0m\u001b[1;33m(\u001b[0m\u001b[0mnp\u001b[0m\u001b[1;33m.\u001b[0m\u001b[0mimag\u001b[0m\u001b[1;33m(\u001b[0m\u001b[0mpsi\u001b[0m\u001b[1;33m[\u001b[0m\u001b[0mwindow\u001b[0m\u001b[1;33m:\u001b[0m\u001b[0mx_mesh\u001b[0m\u001b[1;33m.\u001b[0m\u001b[0msize\u001b[0m\u001b[1;33m-\u001b[0m\u001b[0mwindow\u001b[0m\u001b[1;33m,\u001b[0m\u001b[0mnp\u001b[0m\u001b[1;33m.\u001b[0m\u001b[0mint\u001b[0m\u001b[1;33m(\u001b[0m\u001b[0mc1\u001b[0m\u001b[1;33m/\u001b[0m\u001b[0mh_t\u001b[0m\u001b[1;33m)\u001b[0m\u001b[1;33m]\u001b[0m\u001b[1;33m)\u001b[0m\u001b[1;33m)\u001b[0m\u001b[1;33m\u001b[0m\u001b[0m\n\u001b[0;32m     63\u001b[0m     \u001b[0mplt\u001b[0m\u001b[1;33m.\u001b[0m\u001b[0mylim\u001b[0m\u001b[1;33m(\u001b[0m\u001b[0mbottom\u001b[0m \u001b[1;33m=\u001b[0m \u001b[1;33m-\u001b[0m \u001b[0mnp\u001b[0m\u001b[1;33m.\u001b[0m\u001b[0mmax\u001b[0m\u001b[1;33m(\u001b[0m\u001b[0mnp\u001b[0m\u001b[1;33m.\u001b[0m\u001b[0mabs\u001b[0m\u001b[1;33m(\u001b[0m\u001b[0mpsi\u001b[0m\u001b[1;33m[\u001b[0m\u001b[1;33m:\u001b[0m\u001b[1;33m,\u001b[0m\u001b[0mnp\u001b[0m\u001b[1;33m.\u001b[0m\u001b[0mint\u001b[0m\u001b[1;33m(\u001b[0m\u001b[0mc1\u001b[0m\u001b[1;33m/\u001b[0m\u001b[0mh_t\u001b[0m\u001b[1;33m)\u001b[0m\u001b[1;33m]\u001b[0m\u001b[1;33m)\u001b[0m\u001b[1;33m)\u001b[0m\u001b[1;33m,\u001b[0m \u001b[0mtop\u001b[0m\u001b[1;33m=\u001b[0m \u001b[0mnp\u001b[0m\u001b[1;33m.\u001b[0m\u001b[0mmax\u001b[0m\u001b[1;33m(\u001b[0m\u001b[0mnp\u001b[0m\u001b[1;33m.\u001b[0m\u001b[0mabs\u001b[0m\u001b[1;33m(\u001b[0m\u001b[0mpsi\u001b[0m\u001b[1;33m[\u001b[0m\u001b[1;33m:\u001b[0m\u001b[1;33m,\u001b[0m\u001b[0mnp\u001b[0m\u001b[1;33m.\u001b[0m\u001b[0mint\u001b[0m\u001b[1;33m(\u001b[0m\u001b[0mc1\u001b[0m\u001b[1;33m/\u001b[0m\u001b[0mh_t\u001b[0m\u001b[1;33m)\u001b[0m\u001b[1;33m]\u001b[0m\u001b[1;33m)\u001b[0m\u001b[1;33m)\u001b[0m\u001b[1;33m)\u001b[0m\u001b[1;33m\u001b[0m\u001b[0m\n\u001b[1;32m---> 64\u001b[1;33m     \u001b[0mfig1\u001b[0m\u001b[1;33m.\u001b[0m\u001b[0mcanvas\u001b[0m\u001b[1;33m.\u001b[0m\u001b[0mdraw\u001b[0m\u001b[1;33m(\u001b[0m\u001b[1;33m)\u001b[0m\u001b[1;33m\u001b[0m\u001b[0m\n\u001b[0m\u001b[0;32m     65\u001b[0m \u001b[1;33m\u001b[0m\u001b[0m\n\u001b[0;32m     66\u001b[0m \u001b[0minteract\u001b[0m\u001b[1;33m(\u001b[0m\u001b[0mupdate1\u001b[0m\u001b[1;33m,\u001b[0m \u001b[0mc1\u001b[0m \u001b[1;33m=\u001b[0m \u001b[0mwidgets\u001b[0m\u001b[1;33m.\u001b[0m\u001b[0mFloatSlider\u001b[0m\u001b[1;33m(\u001b[0m\u001b[0mmin\u001b[0m\u001b[1;33m=\u001b[0m\u001b[1;36m0\u001b[0m\u001b[1;33m,\u001b[0m\u001b[0mmax\u001b[0m\u001b[1;33m=\u001b[0m\u001b[0mwindow\u001b[0m\u001b[1;33m*\u001b[0m\u001b[0mh_t\u001b[0m\u001b[1;33m,\u001b[0m\u001b[0mstep\u001b[0m\u001b[1;33m=\u001b[0m\u001b[0mh_t\u001b[0m\u001b[1;33m,\u001b[0m\u001b[0mvalue\u001b[0m\u001b[1;33m=\u001b[0m\u001b[1;36m0.\u001b[0m\u001b[1;33m)\u001b[0m\u001b[1;33m)\u001b[0m\u001b[1;33m;\u001b[0m\u001b[1;33m\u001b[0m\u001b[0m\n",
          "\u001b[1;32mD:\\AnacondaPython\\lib\\site-packages\\matplotlib\\backends\\backend_webagg_core.py\u001b[0m in \u001b[0;36mdraw\u001b[1;34m(self)\u001b[0m\n\u001b[0;32m    157\u001b[0m         \u001b[0mbackend_agg\u001b[0m\u001b[1;33m.\u001b[0m\u001b[0mRendererAgg\u001b[0m\u001b[1;33m.\u001b[0m\u001b[0mlock\u001b[0m\u001b[1;33m.\u001b[0m\u001b[0macquire\u001b[0m\u001b[1;33m(\u001b[0m\u001b[1;33m)\u001b[0m\u001b[1;33m\u001b[0m\u001b[0m\n\u001b[0;32m    158\u001b[0m         \u001b[1;32mtry\u001b[0m\u001b[1;33m:\u001b[0m\u001b[1;33m\u001b[0m\u001b[0m\n\u001b[1;32m--> 159\u001b[1;33m             \u001b[0mself\u001b[0m\u001b[1;33m.\u001b[0m\u001b[0mfigure\u001b[0m\u001b[1;33m.\u001b[0m\u001b[0mdraw\u001b[0m\u001b[1;33m(\u001b[0m\u001b[0mrenderer\u001b[0m\u001b[1;33m)\u001b[0m\u001b[1;33m\u001b[0m\u001b[0m\n\u001b[0m\u001b[0;32m    160\u001b[0m         \u001b[1;32mfinally\u001b[0m\u001b[1;33m:\u001b[0m\u001b[1;33m\u001b[0m\u001b[0m\n\u001b[0;32m    161\u001b[0m             \u001b[0mbackend_agg\u001b[0m\u001b[1;33m.\u001b[0m\u001b[0mRendererAgg\u001b[0m\u001b[1;33m.\u001b[0m\u001b[0mlock\u001b[0m\u001b[1;33m.\u001b[0m\u001b[0mrelease\u001b[0m\u001b[1;33m(\u001b[0m\u001b[1;33m)\u001b[0m\u001b[1;33m\u001b[0m\u001b[0m\n",
          "\u001b[1;32mD:\\AnacondaPython\\lib\\site-packages\\matplotlib\\artist.py\u001b[0m in \u001b[0;36mdraw_wrapper\u001b[1;34m(artist, renderer, *args, **kwargs)\u001b[0m\n\u001b[0;32m     53\u001b[0m                 \u001b[0mrenderer\u001b[0m\u001b[1;33m.\u001b[0m\u001b[0mstart_filter\u001b[0m\u001b[1;33m(\u001b[0m\u001b[1;33m)\u001b[0m\u001b[1;33m\u001b[0m\u001b[0m\n\u001b[0;32m     54\u001b[0m \u001b[1;33m\u001b[0m\u001b[0m\n\u001b[1;32m---> 55\u001b[1;33m             \u001b[1;32mreturn\u001b[0m \u001b[0mdraw\u001b[0m\u001b[1;33m(\u001b[0m\u001b[0martist\u001b[0m\u001b[1;33m,\u001b[0m \u001b[0mrenderer\u001b[0m\u001b[1;33m,\u001b[0m \u001b[1;33m*\u001b[0m\u001b[0margs\u001b[0m\u001b[1;33m,\u001b[0m \u001b[1;33m**\u001b[0m\u001b[0mkwargs\u001b[0m\u001b[1;33m)\u001b[0m\u001b[1;33m\u001b[0m\u001b[0m\n\u001b[0m\u001b[0;32m     56\u001b[0m         \u001b[1;32mfinally\u001b[0m\u001b[1;33m:\u001b[0m\u001b[1;33m\u001b[0m\u001b[0m\n\u001b[0;32m     57\u001b[0m             \u001b[1;32mif\u001b[0m \u001b[0martist\u001b[0m\u001b[1;33m.\u001b[0m\u001b[0mget_agg_filter\u001b[0m\u001b[1;33m(\u001b[0m\u001b[1;33m)\u001b[0m \u001b[1;32mis\u001b[0m \u001b[1;32mnot\u001b[0m \u001b[1;32mNone\u001b[0m\u001b[1;33m:\u001b[0m\u001b[1;33m\u001b[0m\u001b[0m\n",
          "\u001b[1;32mD:\\AnacondaPython\\lib\\site-packages\\matplotlib\\figure.py\u001b[0m in \u001b[0;36mdraw\u001b[1;34m(self, renderer)\u001b[0m\n\u001b[0;32m   1473\u001b[0m \u001b[1;33m\u001b[0m\u001b[0m\n\u001b[0;32m   1474\u001b[0m             mimage._draw_list_compositing_images(\n\u001b[1;32m-> 1475\u001b[1;33m                 renderer, self, artists, self.suppressComposite)\n\u001b[0m\u001b[0;32m   1476\u001b[0m \u001b[1;33m\u001b[0m\u001b[0m\n\u001b[0;32m   1477\u001b[0m             \u001b[0mrenderer\u001b[0m\u001b[1;33m.\u001b[0m\u001b[0mclose_group\u001b[0m\u001b[1;33m(\u001b[0m\u001b[1;34m'figure'\u001b[0m\u001b[1;33m)\u001b[0m\u001b[1;33m\u001b[0m\u001b[0m\n",
          "\u001b[1;32mD:\\AnacondaPython\\lib\\site-packages\\matplotlib\\image.py\u001b[0m in \u001b[0;36m_draw_list_compositing_images\u001b[1;34m(renderer, parent, artists, suppress_composite)\u001b[0m\n\u001b[0;32m    139\u001b[0m     \u001b[1;32mif\u001b[0m \u001b[0mnot_composite\u001b[0m \u001b[1;32mor\u001b[0m \u001b[1;32mnot\u001b[0m \u001b[0mhas_images\u001b[0m\u001b[1;33m:\u001b[0m\u001b[1;33m\u001b[0m\u001b[0m\n\u001b[0;32m    140\u001b[0m         \u001b[1;32mfor\u001b[0m \u001b[0ma\u001b[0m \u001b[1;32min\u001b[0m \u001b[0martists\u001b[0m\u001b[1;33m:\u001b[0m\u001b[1;33m\u001b[0m\u001b[0m\n\u001b[1;32m--> 141\u001b[1;33m             \u001b[0ma\u001b[0m\u001b[1;33m.\u001b[0m\u001b[0mdraw\u001b[0m\u001b[1;33m(\u001b[0m\u001b[0mrenderer\u001b[0m\u001b[1;33m)\u001b[0m\u001b[1;33m\u001b[0m\u001b[0m\n\u001b[0m\u001b[0;32m    142\u001b[0m     \u001b[1;32melse\u001b[0m\u001b[1;33m:\u001b[0m\u001b[1;33m\u001b[0m\u001b[0m\n\u001b[0;32m    143\u001b[0m         \u001b[1;31m# Composite any adjacent images together\u001b[0m\u001b[1;33m\u001b[0m\u001b[1;33m\u001b[0m\u001b[0m\n",
          "\u001b[1;32mD:\\AnacondaPython\\lib\\site-packages\\matplotlib\\artist.py\u001b[0m in \u001b[0;36mdraw_wrapper\u001b[1;34m(artist, renderer, *args, **kwargs)\u001b[0m\n\u001b[0;32m     53\u001b[0m                 \u001b[0mrenderer\u001b[0m\u001b[1;33m.\u001b[0m\u001b[0mstart_filter\u001b[0m\u001b[1;33m(\u001b[0m\u001b[1;33m)\u001b[0m\u001b[1;33m\u001b[0m\u001b[0m\n\u001b[0;32m     54\u001b[0m \u001b[1;33m\u001b[0m\u001b[0m\n\u001b[1;32m---> 55\u001b[1;33m             \u001b[1;32mreturn\u001b[0m \u001b[0mdraw\u001b[0m\u001b[1;33m(\u001b[0m\u001b[0martist\u001b[0m\u001b[1;33m,\u001b[0m \u001b[0mrenderer\u001b[0m\u001b[1;33m,\u001b[0m \u001b[1;33m*\u001b[0m\u001b[0margs\u001b[0m\u001b[1;33m,\u001b[0m \u001b[1;33m**\u001b[0m\u001b[0mkwargs\u001b[0m\u001b[1;33m)\u001b[0m\u001b[1;33m\u001b[0m\u001b[0m\n\u001b[0m\u001b[0;32m     56\u001b[0m         \u001b[1;32mfinally\u001b[0m\u001b[1;33m:\u001b[0m\u001b[1;33m\u001b[0m\u001b[0m\n\u001b[0;32m     57\u001b[0m             \u001b[1;32mif\u001b[0m \u001b[0martist\u001b[0m\u001b[1;33m.\u001b[0m\u001b[0mget_agg_filter\u001b[0m\u001b[1;33m(\u001b[0m\u001b[1;33m)\u001b[0m \u001b[1;32mis\u001b[0m \u001b[1;32mnot\u001b[0m \u001b[1;32mNone\u001b[0m\u001b[1;33m:\u001b[0m\u001b[1;33m\u001b[0m\u001b[0m\n",
          "\u001b[1;32mD:\\AnacondaPython\\lib\\site-packages\\matplotlib\\axes\\_base.py\u001b[0m in \u001b[0;36mdraw\u001b[1;34m(self, renderer, inframe)\u001b[0m\n\u001b[0;32m   2605\u001b[0m             \u001b[0mrenderer\u001b[0m\u001b[1;33m.\u001b[0m\u001b[0mstop_rasterizing\u001b[0m\u001b[1;33m(\u001b[0m\u001b[1;33m)\u001b[0m\u001b[1;33m\u001b[0m\u001b[0m\n\u001b[0;32m   2606\u001b[0m \u001b[1;33m\u001b[0m\u001b[0m\n\u001b[1;32m-> 2607\u001b[1;33m         \u001b[0mmimage\u001b[0m\u001b[1;33m.\u001b[0m\u001b[0m_draw_list_compositing_images\u001b[0m\u001b[1;33m(\u001b[0m\u001b[0mrenderer\u001b[0m\u001b[1;33m,\u001b[0m \u001b[0mself\u001b[0m\u001b[1;33m,\u001b[0m \u001b[0martists\u001b[0m\u001b[1;33m)\u001b[0m\u001b[1;33m\u001b[0m\u001b[0m\n\u001b[0m\u001b[0;32m   2608\u001b[0m \u001b[1;33m\u001b[0m\u001b[0m\n\u001b[0;32m   2609\u001b[0m         \u001b[0mrenderer\u001b[0m\u001b[1;33m.\u001b[0m\u001b[0mclose_group\u001b[0m\u001b[1;33m(\u001b[0m\u001b[1;34m'axes'\u001b[0m\u001b[1;33m)\u001b[0m\u001b[1;33m\u001b[0m\u001b[0m\n",
          "\u001b[1;32mD:\\AnacondaPython\\lib\\site-packages\\matplotlib\\image.py\u001b[0m in \u001b[0;36m_draw_list_compositing_images\u001b[1;34m(renderer, parent, artists, suppress_composite)\u001b[0m\n\u001b[0;32m    139\u001b[0m     \u001b[1;32mif\u001b[0m \u001b[0mnot_composite\u001b[0m \u001b[1;32mor\u001b[0m \u001b[1;32mnot\u001b[0m \u001b[0mhas_images\u001b[0m\u001b[1;33m:\u001b[0m\u001b[1;33m\u001b[0m\u001b[0m\n\u001b[0;32m    140\u001b[0m         \u001b[1;32mfor\u001b[0m \u001b[0ma\u001b[0m \u001b[1;32min\u001b[0m \u001b[0martists\u001b[0m\u001b[1;33m:\u001b[0m\u001b[1;33m\u001b[0m\u001b[0m\n\u001b[1;32m--> 141\u001b[1;33m             \u001b[0ma\u001b[0m\u001b[1;33m.\u001b[0m\u001b[0mdraw\u001b[0m\u001b[1;33m(\u001b[0m\u001b[0mrenderer\u001b[0m\u001b[1;33m)\u001b[0m\u001b[1;33m\u001b[0m\u001b[0m\n\u001b[0m\u001b[0;32m    142\u001b[0m     \u001b[1;32melse\u001b[0m\u001b[1;33m:\u001b[0m\u001b[1;33m\u001b[0m\u001b[0m\n\u001b[0;32m    143\u001b[0m         \u001b[1;31m# Composite any adjacent images together\u001b[0m\u001b[1;33m\u001b[0m\u001b[1;33m\u001b[0m\u001b[0m\n",
          "\u001b[1;32mD:\\AnacondaPython\\lib\\site-packages\\matplotlib\\artist.py\u001b[0m in \u001b[0;36mdraw_wrapper\u001b[1;34m(artist, renderer, *args, **kwargs)\u001b[0m\n\u001b[0;32m     53\u001b[0m                 \u001b[0mrenderer\u001b[0m\u001b[1;33m.\u001b[0m\u001b[0mstart_filter\u001b[0m\u001b[1;33m(\u001b[0m\u001b[1;33m)\u001b[0m\u001b[1;33m\u001b[0m\u001b[0m\n\u001b[0;32m     54\u001b[0m \u001b[1;33m\u001b[0m\u001b[0m\n\u001b[1;32m---> 55\u001b[1;33m             \u001b[1;32mreturn\u001b[0m \u001b[0mdraw\u001b[0m\u001b[1;33m(\u001b[0m\u001b[0martist\u001b[0m\u001b[1;33m,\u001b[0m \u001b[0mrenderer\u001b[0m\u001b[1;33m,\u001b[0m \u001b[1;33m*\u001b[0m\u001b[0margs\u001b[0m\u001b[1;33m,\u001b[0m \u001b[1;33m**\u001b[0m\u001b[0mkwargs\u001b[0m\u001b[1;33m)\u001b[0m\u001b[1;33m\u001b[0m\u001b[0m\n\u001b[0m\u001b[0;32m     56\u001b[0m         \u001b[1;32mfinally\u001b[0m\u001b[1;33m:\u001b[0m\u001b[1;33m\u001b[0m\u001b[0m\n\u001b[0;32m     57\u001b[0m             \u001b[1;32mif\u001b[0m \u001b[0martist\u001b[0m\u001b[1;33m.\u001b[0m\u001b[0mget_agg_filter\u001b[0m\u001b[1;33m(\u001b[0m\u001b[1;33m)\u001b[0m \u001b[1;32mis\u001b[0m \u001b[1;32mnot\u001b[0m \u001b[1;32mNone\u001b[0m\u001b[1;33m:\u001b[0m\u001b[1;33m\u001b[0m\u001b[0m\n",
          "\u001b[1;32mD:\\AnacondaPython\\lib\\site-packages\\matplotlib\\lines.py\u001b[0m in \u001b[0;36mdraw\u001b[1;34m(self, renderer)\u001b[0m\n\u001b[0;32m    736\u001b[0m \u001b[1;33m\u001b[0m\u001b[0m\n\u001b[0;32m    737\u001b[0m         \u001b[1;32mif\u001b[0m \u001b[0mself\u001b[0m\u001b[1;33m.\u001b[0m\u001b[0m_invalidy\u001b[0m \u001b[1;32mor\u001b[0m \u001b[0mself\u001b[0m\u001b[1;33m.\u001b[0m\u001b[0m_invalidx\u001b[0m\u001b[1;33m:\u001b[0m\u001b[1;33m\u001b[0m\u001b[0m\n\u001b[1;32m--> 738\u001b[1;33m             \u001b[0mself\u001b[0m\u001b[1;33m.\u001b[0m\u001b[0mrecache\u001b[0m\u001b[1;33m(\u001b[0m\u001b[1;33m)\u001b[0m\u001b[1;33m\u001b[0m\u001b[0m\n\u001b[0m\u001b[0;32m    739\u001b[0m         \u001b[0mself\u001b[0m\u001b[1;33m.\u001b[0m\u001b[0mind_offset\u001b[0m \u001b[1;33m=\u001b[0m \u001b[1;36m0\u001b[0m  \u001b[1;31m# Needed for contains() method.\u001b[0m\u001b[1;33m\u001b[0m\u001b[0m\n\u001b[0;32m    740\u001b[0m         \u001b[1;32mif\u001b[0m \u001b[0mself\u001b[0m\u001b[1;33m.\u001b[0m\u001b[0m_subslice\u001b[0m \u001b[1;32mand\u001b[0m \u001b[0mself\u001b[0m\u001b[1;33m.\u001b[0m\u001b[0maxes\u001b[0m\u001b[1;33m:\u001b[0m\u001b[1;33m\u001b[0m\u001b[0m\n",
          "\u001b[1;32mD:\\AnacondaPython\\lib\\site-packages\\matplotlib\\lines.py\u001b[0m in \u001b[0;36mrecache\u001b[1;34m(self, always)\u001b[0m\n\u001b[0;32m    659\u001b[0m             \u001b[0my\u001b[0m \u001b[1;33m=\u001b[0m \u001b[0mself\u001b[0m\u001b[1;33m.\u001b[0m\u001b[0m_y\u001b[0m\u001b[1;33m\u001b[0m\u001b[0m\n\u001b[0;32m    660\u001b[0m \u001b[1;33m\u001b[0m\u001b[0m\n\u001b[1;32m--> 661\u001b[1;33m         \u001b[0mself\u001b[0m\u001b[1;33m.\u001b[0m\u001b[0m_xy\u001b[0m \u001b[1;33m=\u001b[0m \u001b[0mnp\u001b[0m\u001b[1;33m.\u001b[0m\u001b[0mcolumn_stack\u001b[0m\u001b[1;33m(\u001b[0m\u001b[0mnp\u001b[0m\u001b[1;33m.\u001b[0m\u001b[0mbroadcast_arrays\u001b[0m\u001b[1;33m(\u001b[0m\u001b[0mx\u001b[0m\u001b[1;33m,\u001b[0m \u001b[0my\u001b[0m\u001b[1;33m)\u001b[0m\u001b[1;33m)\u001b[0m\u001b[1;33m.\u001b[0m\u001b[0mastype\u001b[0m\u001b[1;33m(\u001b[0m\u001b[0mfloat\u001b[0m\u001b[1;33m)\u001b[0m\u001b[1;33m\u001b[0m\u001b[0m\n\u001b[0m\u001b[0;32m    662\u001b[0m         \u001b[0mself\u001b[0m\u001b[1;33m.\u001b[0m\u001b[0m_x\u001b[0m\u001b[1;33m,\u001b[0m \u001b[0mself\u001b[0m\u001b[1;33m.\u001b[0m\u001b[0m_y\u001b[0m \u001b[1;33m=\u001b[0m \u001b[0mself\u001b[0m\u001b[1;33m.\u001b[0m\u001b[0m_xy\u001b[0m\u001b[1;33m.\u001b[0m\u001b[0mT\u001b[0m  \u001b[1;31m# views\u001b[0m\u001b[1;33m\u001b[0m\u001b[0m\n\u001b[0;32m    663\u001b[0m \u001b[1;33m\u001b[0m\u001b[0m\n",
          "\u001b[1;32mD:\\AnacondaPython\\lib\\site-packages\\numpy\\lib\\stride_tricks.py\u001b[0m in \u001b[0;36mbroadcast_arrays\u001b[1;34m(*args, **kwargs)\u001b[0m\n\u001b[0;32m    247\u001b[0m     \u001b[0margs\u001b[0m \u001b[1;33m=\u001b[0m \u001b[1;33m[\u001b[0m\u001b[0mnp\u001b[0m\u001b[1;33m.\u001b[0m\u001b[0marray\u001b[0m\u001b[1;33m(\u001b[0m\u001b[0m_m\u001b[0m\u001b[1;33m,\u001b[0m \u001b[0mcopy\u001b[0m\u001b[1;33m=\u001b[0m\u001b[1;32mFalse\u001b[0m\u001b[1;33m,\u001b[0m \u001b[0msubok\u001b[0m\u001b[1;33m=\u001b[0m\u001b[0msubok\u001b[0m\u001b[1;33m)\u001b[0m \u001b[1;32mfor\u001b[0m \u001b[0m_m\u001b[0m \u001b[1;32min\u001b[0m \u001b[0margs\u001b[0m\u001b[1;33m]\u001b[0m\u001b[1;33m\u001b[0m\u001b[0m\n\u001b[0;32m    248\u001b[0m \u001b[1;33m\u001b[0m\u001b[0m\n\u001b[1;32m--> 249\u001b[1;33m     \u001b[0mshape\u001b[0m \u001b[1;33m=\u001b[0m \u001b[0m_broadcast_shape\u001b[0m\u001b[1;33m(\u001b[0m\u001b[1;33m*\u001b[0m\u001b[0margs\u001b[0m\u001b[1;33m)\u001b[0m\u001b[1;33m\u001b[0m\u001b[0m\n\u001b[0m\u001b[0;32m    250\u001b[0m \u001b[1;33m\u001b[0m\u001b[0m\n\u001b[0;32m    251\u001b[0m     \u001b[1;32mif\u001b[0m \u001b[0mall\u001b[0m\u001b[1;33m(\u001b[0m\u001b[0marray\u001b[0m\u001b[1;33m.\u001b[0m\u001b[0mshape\u001b[0m \u001b[1;33m==\u001b[0m \u001b[0mshape\u001b[0m \u001b[1;32mfor\u001b[0m \u001b[0marray\u001b[0m \u001b[1;32min\u001b[0m \u001b[0margs\u001b[0m\u001b[1;33m)\u001b[0m\u001b[1;33m:\u001b[0m\u001b[1;33m\u001b[0m\u001b[0m\n",
          "\u001b[1;32mD:\\AnacondaPython\\lib\\site-packages\\numpy\\lib\\stride_tricks.py\u001b[0m in \u001b[0;36m_broadcast_shape\u001b[1;34m(*args)\u001b[0m\n\u001b[0;32m    182\u001b[0m     \u001b[1;31m# use the old-iterator because np.nditer does not handle size 0 arrays\u001b[0m\u001b[1;33m\u001b[0m\u001b[1;33m\u001b[0m\u001b[0m\n\u001b[0;32m    183\u001b[0m     \u001b[1;31m# consistently\u001b[0m\u001b[1;33m\u001b[0m\u001b[1;33m\u001b[0m\u001b[0m\n\u001b[1;32m--> 184\u001b[1;33m     \u001b[0mb\u001b[0m \u001b[1;33m=\u001b[0m \u001b[0mnp\u001b[0m\u001b[1;33m.\u001b[0m\u001b[0mbroadcast\u001b[0m\u001b[1;33m(\u001b[0m\u001b[1;33m*\u001b[0m\u001b[0margs\u001b[0m\u001b[1;33m[\u001b[0m\u001b[1;33m:\u001b[0m\u001b[1;36m32\u001b[0m\u001b[1;33m]\u001b[0m\u001b[1;33m)\u001b[0m\u001b[1;33m\u001b[0m\u001b[0m\n\u001b[0m\u001b[0;32m    185\u001b[0m     \u001b[1;31m# unfortunately, it cannot handle 32 or more arguments directly\u001b[0m\u001b[1;33m\u001b[0m\u001b[1;33m\u001b[0m\u001b[0m\n\u001b[0;32m    186\u001b[0m     \u001b[1;32mfor\u001b[0m \u001b[0mpos\u001b[0m \u001b[1;32min\u001b[0m \u001b[0mrange\u001b[0m\u001b[1;33m(\u001b[0m\u001b[1;36m32\u001b[0m\u001b[1;33m,\u001b[0m \u001b[0mlen\u001b[0m\u001b[1;33m(\u001b[0m\u001b[0margs\u001b[0m\u001b[1;33m)\u001b[0m\u001b[1;33m,\u001b[0m \u001b[1;36m31\u001b[0m\u001b[1;33m)\u001b[0m\u001b[1;33m:\u001b[0m\u001b[1;33m\u001b[0m\u001b[0m\n",
          "\u001b[1;31mValueError\u001b[0m: shape mismatch: objects cannot be broadcast to a single shape"
         ]
        }
       ]
      }
     },
     "8650018cd294443daf7dfdbb29c611ce": {
      "model_module": "@jupyter-widgets/base",
      "model_module_version": "1.0.0",
      "model_name": "LayoutModel",
      "state": {}
     },
     "8a6ff7af4abb4e3c8d1ebb8b2b3d0195": {
      "model_module": "@jupyter-widgets/base",
      "model_module_version": "1.0.0",
      "model_name": "LayoutModel",
      "state": {}
     },
     "8c67897c9f7e49d19f6fc288c5721fde": {
      "model_module": "@jupyter-widgets/base",
      "model_module_version": "1.0.0",
      "model_name": "LayoutModel",
      "state": {}
     },
     "8cb47fc65c544cb29e3ce753082bea2c": {
      "model_module": "@jupyter-widgets/base",
      "model_module_version": "1.0.0",
      "model_name": "LayoutModel",
      "state": {}
     },
     "8e06532be93245bfbacff07a290ca942": {
      "model_module": "@jupyter-widgets/output",
      "model_module_version": "1.0.0",
      "model_name": "OutputModel",
      "state": {
       "layout": "IPY_MODEL_8cb47fc65c544cb29e3ce753082bea2c"
      }
     },
     "9442f2d2762841cbb2dd998286b4ed1d": {
      "model_module": "@jupyter-widgets/controls",
      "model_module_version": "1.2.0",
      "model_name": "FloatSliderModel",
      "state": {
       "description": "c",
       "layout": "IPY_MODEL_7c7e79e0c1864c3590139285565bb626",
       "max": 10,
       "step": 0.001,
       "style": "IPY_MODEL_f8a2417584eb4aadac2fe6b4ae8cc819"
      }
     },
     "977a18f895e44b6a8e5a954b26ac8bd8": {
      "model_module": "@jupyter-widgets/base",
      "model_module_version": "1.0.0",
      "model_name": "LayoutModel",
      "state": {}
     },
     "9e93a5a01e6043c2846156f02df3712f": {
      "model_module": "@jupyter-widgets/base",
      "model_module_version": "1.0.0",
      "model_name": "LayoutModel",
      "state": {}
     },
     "9f094d897cdc4498896af95b8e2fee77": {
      "model_module": "@jupyter-widgets/controls",
      "model_module_version": "1.2.0",
      "model_name": "FloatSliderModel",
      "state": {
       "description": "c1",
       "layout": "IPY_MODEL_8c67897c9f7e49d19f6fc288c5721fde",
       "max": 0.5,
       "step": 0.01,
       "style": "IPY_MODEL_d9f8ca30f294460698be134a1e10846f"
      }
     },
     "a0accf2d27b84e0093826fb06edf797c": {
      "model_module": "@jupyter-widgets/controls",
      "model_module_version": "1.2.0",
      "model_name": "FloatSliderModel",
      "state": {
       "description": "c1",
       "layout": "IPY_MODEL_02d1bd4e18834bdd9da409dfdf96386f",
       "max": 0.1,
       "step": 0.001,
       "style": "IPY_MODEL_5b1ac3b72185466499f092c20a5cb9d0",
       "value": 0.004
      }
     },
     "a6be7c3c1225495986a570ddb0728385": {
      "model_module": "@jupyter-widgets/base",
      "model_module_version": "1.0.0",
      "model_name": "LayoutModel",
      "state": {}
     },
     "a807779f48d74aeb934abc8f897e9449": {
      "model_module": "@jupyter-widgets/controls",
      "model_module_version": "1.2.0",
      "model_name": "SliderStyleModel",
      "state": {
       "description_width": ""
      }
     },
     "a84ea0058e6d4b99a53998f966975d7d": {
      "model_module": "@jupyter-widgets/controls",
      "model_module_version": "1.2.0",
      "model_name": "VBoxModel",
      "state": {
       "_dom_classes": [
        "widget-interact"
       ],
       "children": [
        "IPY_MODEL_eff69bbfd6714e87905697839fe7a72f",
        "IPY_MODEL_481dd367033b433b9d6e2aa3d977712b"
       ],
       "layout": "IPY_MODEL_5b4fa7c1659846fca1e88d7ed84015e9"
      }
     },
     "ab69eca9d4d1482799114873f04855e4": {
      "model_module": "@jupyter-widgets/output",
      "model_module_version": "1.0.0",
      "model_name": "OutputModel",
      "state": {
       "layout": "IPY_MODEL_af10b8ca141648899d75885a51c8aa44"
      }
     },
     "af10b8ca141648899d75885a51c8aa44": {
      "model_module": "@jupyter-widgets/base",
      "model_module_version": "1.0.0",
      "model_name": "LayoutModel",
      "state": {}
     },
     "b1bb13b261f34dc1945d1a57752235f2": {
      "model_module": "@jupyter-widgets/controls",
      "model_module_version": "1.2.0",
      "model_name": "SliderStyleModel",
      "state": {
       "description_width": ""
      }
     },
     "b24ee905a5e24c14a8adefdb9293e831": {
      "model_module": "@jupyter-widgets/base",
      "model_module_version": "1.0.0",
      "model_name": "LayoutModel",
      "state": {}
     },
     "b63228baace446bbab1ab7c75172d7e6": {
      "model_module": "@jupyter-widgets/base",
      "model_module_version": "1.0.0",
      "model_name": "LayoutModel",
      "state": {}
     },
     "b9977dcc647e4dc285e5a30066c05f7a": {
      "model_module": "@jupyter-widgets/controls",
      "model_module_version": "1.2.0",
      "model_name": "VBoxModel",
      "state": {
       "_dom_classes": [
        "widget-interact"
       ],
       "children": [
        "IPY_MODEL_a0accf2d27b84e0093826fb06edf797c",
        "IPY_MODEL_c1d5d69f8c6146cda7348e80847f9b08"
       ],
       "layout": "IPY_MODEL_f088397657384540a91a657371aeeb8f"
      }
     },
     "bb5f1fdac8f64cbd8f23a626e8faaab5": {
      "model_module": "@jupyter-widgets/base",
      "model_module_version": "1.0.0",
      "model_name": "LayoutModel",
      "state": {}
     },
     "c1d5d69f8c6146cda7348e80847f9b08": {
      "model_module": "@jupyter-widgets/output",
      "model_module_version": "1.0.0",
      "model_name": "OutputModel",
      "state": {
       "layout": "IPY_MODEL_3e7be9d2fdd04249a1dcefb8720e4e7f"
      }
     },
     "c40af78d732c409fb43de54d3444f631": {
      "model_module": "@jupyter-widgets/output",
      "model_module_version": "1.0.0",
      "model_name": "OutputModel",
      "state": {
       "layout": "IPY_MODEL_f63e0dab60dd454f82141e96f0840c7e"
      }
     },
     "c7a56742257d4ff8b29a4da12fc31e91": {
      "model_module": "@jupyter-widgets/controls",
      "model_module_version": "1.2.0",
      "model_name": "FloatSliderModel",
      "state": {
       "description": "c1",
       "layout": "IPY_MODEL_b24ee905a5e24c14a8adefdb9293e831",
       "max": 0.5,
       "step": 0.01,
       "style": "IPY_MODEL_a807779f48d74aeb934abc8f897e9449"
      }
     },
     "c7b5443d01634b54a4c503c0ebcf269a": {
      "model_module": "@jupyter-widgets/controls",
      "model_module_version": "1.2.0",
      "model_name": "SliderStyleModel",
      "state": {
       "description_width": ""
      }
     },
     "d78dd1d0b54c4b74a726492b2a2a604d": {
      "model_module": "@jupyter-widgets/controls",
      "model_module_version": "1.2.0",
      "model_name": "FloatSliderModel",
      "state": {
       "description": "c",
       "layout": "IPY_MODEL_5c1146e7ac6f4459a4486c0467b9c2e1",
       "max": 10,
       "step": 0.001,
       "style": "IPY_MODEL_799b019ff0aa436894e12af95d8ec5da",
       "value": 0.435
      }
     },
     "d9f8ca30f294460698be134a1e10846f": {
      "model_module": "@jupyter-widgets/controls",
      "model_module_version": "1.2.0",
      "model_name": "SliderStyleModel",
      "state": {
       "description_width": ""
      }
     },
     "e070d94c95f84348b4b63ab62f49361f": {
      "model_module": "@jupyter-widgets/base",
      "model_module_version": "1.0.0",
      "model_name": "LayoutModel",
      "state": {}
     },
     "e5baecd21e3c47058c13da84a963d609": {
      "model_module": "@jupyter-widgets/output",
      "model_module_version": "1.0.0",
      "model_name": "OutputModel",
      "state": {
       "layout": "IPY_MODEL_234875993b1d496ba5681c6d6a7135ca",
       "outputs": [
        {
         "ename": "ValueError",
         "evalue": "shape mismatch: objects cannot be broadcast to a single shape",
         "output_type": "error",
         "traceback": [
          "\u001b[1;31m---------------------------------------------------------------------------\u001b[0m",
          "\u001b[1;31mValueError\u001b[0m                                Traceback (most recent call last)",
          "\u001b[1;32mD:\\AnacondaPython\\lib\\site-packages\\ipywidgets\\widgets\\interaction.py\u001b[0m in \u001b[0;36mupdate\u001b[1;34m(self, *args)\u001b[0m\n\u001b[0;32m    249\u001b[0m                     \u001b[0mvalue\u001b[0m \u001b[1;33m=\u001b[0m \u001b[0mwidget\u001b[0m\u001b[1;33m.\u001b[0m\u001b[0mget_interact_value\u001b[0m\u001b[1;33m(\u001b[0m\u001b[1;33m)\u001b[0m\u001b[1;33m\u001b[0m\u001b[0m\n\u001b[0;32m    250\u001b[0m                     \u001b[0mself\u001b[0m\u001b[1;33m.\u001b[0m\u001b[0mkwargs\u001b[0m\u001b[1;33m[\u001b[0m\u001b[0mwidget\u001b[0m\u001b[1;33m.\u001b[0m\u001b[0m_kwarg\u001b[0m\u001b[1;33m]\u001b[0m \u001b[1;33m=\u001b[0m \u001b[0mvalue\u001b[0m\u001b[1;33m\u001b[0m\u001b[0m\n\u001b[1;32m--> 251\u001b[1;33m                 \u001b[0mself\u001b[0m\u001b[1;33m.\u001b[0m\u001b[0mresult\u001b[0m \u001b[1;33m=\u001b[0m \u001b[0mself\u001b[0m\u001b[1;33m.\u001b[0m\u001b[0mf\u001b[0m\u001b[1;33m(\u001b[0m\u001b[1;33m**\u001b[0m\u001b[0mself\u001b[0m\u001b[1;33m.\u001b[0m\u001b[0mkwargs\u001b[0m\u001b[1;33m)\u001b[0m\u001b[1;33m\u001b[0m\u001b[0m\n\u001b[0m\u001b[0;32m    252\u001b[0m                 \u001b[0mshow_inline_matplotlib_plots\u001b[0m\u001b[1;33m(\u001b[0m\u001b[1;33m)\u001b[0m\u001b[1;33m\u001b[0m\u001b[0m\n\u001b[0;32m    253\u001b[0m                 \u001b[1;32mif\u001b[0m \u001b[0mself\u001b[0m\u001b[1;33m.\u001b[0m\u001b[0mauto_display\u001b[0m \u001b[1;32mand\u001b[0m \u001b[0mself\u001b[0m\u001b[1;33m.\u001b[0m\u001b[0mresult\u001b[0m \u001b[1;32mis\u001b[0m \u001b[1;32mnot\u001b[0m \u001b[1;32mNone\u001b[0m\u001b[1;33m:\u001b[0m\u001b[1;33m\u001b[0m\u001b[0m\n",
          "\u001b[1;32m<ipython-input-4-26f5e7a5b443>\u001b[0m in \u001b[0;36mupdate\u001b[1;34m(c)\u001b[0m\n\u001b[0;32m     61\u001b[0m \u001b[1;32mdef\u001b[0m \u001b[0mupdate\u001b[0m\u001b[1;33m(\u001b[0m\u001b[0mc\u001b[0m \u001b[1;33m=\u001b[0m \u001b[1;36m0.\u001b[0m\u001b[1;33m)\u001b[0m\u001b[1;33m:\u001b[0m\u001b[1;33m\u001b[0m\u001b[0m\n\u001b[0;32m     62\u001b[0m     \u001b[0mline\u001b[0m\u001b[1;33m.\u001b[0m\u001b[0mset_ydata\u001b[0m\u001b[1;33m(\u001b[0m\u001b[0mpsi\u001b[0m\u001b[1;33m[\u001b[0m\u001b[1;36m1\u001b[0m\u001b[1;33m:\u001b[0m\u001b[0mx_mesh\u001b[0m\u001b[1;33m.\u001b[0m\u001b[0msize\u001b[0m\u001b[1;33m+\u001b[0m\u001b[1;36m1\u001b[0m\u001b[1;33m,\u001b[0m\u001b[0mnp\u001b[0m\u001b[1;33m.\u001b[0m\u001b[0mint\u001b[0m\u001b[1;33m(\u001b[0m\u001b[0mc\u001b[0m\u001b[1;33m/\u001b[0m\u001b[0mh_t\u001b[0m\u001b[1;33m)\u001b[0m\u001b[1;33m]\u001b[0m\u001b[1;33m)\u001b[0m\u001b[1;33m\u001b[0m\u001b[0m\n\u001b[1;32m---> 63\u001b[1;33m     \u001b[0mfig\u001b[0m\u001b[1;33m.\u001b[0m\u001b[0mcanvas\u001b[0m\u001b[1;33m.\u001b[0m\u001b[0mdraw\u001b[0m\u001b[1;33m(\u001b[0m\u001b[1;33m)\u001b[0m\u001b[1;33m\u001b[0m\u001b[0m\n\u001b[0m\u001b[0;32m     64\u001b[0m \u001b[1;33m\u001b[0m\u001b[0m\n\u001b[0;32m     65\u001b[0m \u001b[0minteract\u001b[0m\u001b[1;33m(\u001b[0m\u001b[0mupdate\u001b[0m\u001b[1;33m,\u001b[0m \u001b[0mc\u001b[0m \u001b[1;33m=\u001b[0m \u001b[0mwidgets\u001b[0m\u001b[1;33m.\u001b[0m\u001b[0mFloatSlider\u001b[0m\u001b[1;33m(\u001b[0m\u001b[0mmin\u001b[0m\u001b[1;33m=\u001b[0m\u001b[1;36m0\u001b[0m\u001b[1;33m,\u001b[0m\u001b[0mmax\u001b[0m\u001b[1;33m=\u001b[0m\u001b[1;36m10\u001b[0m\u001b[1;33m,\u001b[0m\u001b[0mstep\u001b[0m\u001b[1;33m=\u001b[0m\u001b[0mh_t\u001b[0m\u001b[1;33m,\u001b[0m\u001b[0mvalue\u001b[0m\u001b[1;33m=\u001b[0m\u001b[1;36m0.\u001b[0m\u001b[1;33m)\u001b[0m\u001b[1;33m)\u001b[0m\u001b[1;33m;\u001b[0m\u001b[1;33m\u001b[0m\u001b[0m\n",
          "\u001b[1;32mD:\\AnacondaPython\\lib\\site-packages\\matplotlib\\backends\\backend_webagg_core.py\u001b[0m in \u001b[0;36mdraw\u001b[1;34m(self)\u001b[0m\n\u001b[0;32m    157\u001b[0m         \u001b[0mbackend_agg\u001b[0m\u001b[1;33m.\u001b[0m\u001b[0mRendererAgg\u001b[0m\u001b[1;33m.\u001b[0m\u001b[0mlock\u001b[0m\u001b[1;33m.\u001b[0m\u001b[0macquire\u001b[0m\u001b[1;33m(\u001b[0m\u001b[1;33m)\u001b[0m\u001b[1;33m\u001b[0m\u001b[0m\n\u001b[0;32m    158\u001b[0m         \u001b[1;32mtry\u001b[0m\u001b[1;33m:\u001b[0m\u001b[1;33m\u001b[0m\u001b[0m\n\u001b[1;32m--> 159\u001b[1;33m             \u001b[0mself\u001b[0m\u001b[1;33m.\u001b[0m\u001b[0mfigure\u001b[0m\u001b[1;33m.\u001b[0m\u001b[0mdraw\u001b[0m\u001b[1;33m(\u001b[0m\u001b[0mrenderer\u001b[0m\u001b[1;33m)\u001b[0m\u001b[1;33m\u001b[0m\u001b[0m\n\u001b[0m\u001b[0;32m    160\u001b[0m         \u001b[1;32mfinally\u001b[0m\u001b[1;33m:\u001b[0m\u001b[1;33m\u001b[0m\u001b[0m\n\u001b[0;32m    161\u001b[0m             \u001b[0mbackend_agg\u001b[0m\u001b[1;33m.\u001b[0m\u001b[0mRendererAgg\u001b[0m\u001b[1;33m.\u001b[0m\u001b[0mlock\u001b[0m\u001b[1;33m.\u001b[0m\u001b[0mrelease\u001b[0m\u001b[1;33m(\u001b[0m\u001b[1;33m)\u001b[0m\u001b[1;33m\u001b[0m\u001b[0m\n",
          "\u001b[1;32mD:\\AnacondaPython\\lib\\site-packages\\matplotlib\\artist.py\u001b[0m in \u001b[0;36mdraw_wrapper\u001b[1;34m(artist, renderer, *args, **kwargs)\u001b[0m\n\u001b[0;32m     53\u001b[0m                 \u001b[0mrenderer\u001b[0m\u001b[1;33m.\u001b[0m\u001b[0mstart_filter\u001b[0m\u001b[1;33m(\u001b[0m\u001b[1;33m)\u001b[0m\u001b[1;33m\u001b[0m\u001b[0m\n\u001b[0;32m     54\u001b[0m \u001b[1;33m\u001b[0m\u001b[0m\n\u001b[1;32m---> 55\u001b[1;33m             \u001b[1;32mreturn\u001b[0m \u001b[0mdraw\u001b[0m\u001b[1;33m(\u001b[0m\u001b[0martist\u001b[0m\u001b[1;33m,\u001b[0m \u001b[0mrenderer\u001b[0m\u001b[1;33m,\u001b[0m \u001b[1;33m*\u001b[0m\u001b[0margs\u001b[0m\u001b[1;33m,\u001b[0m \u001b[1;33m**\u001b[0m\u001b[0mkwargs\u001b[0m\u001b[1;33m)\u001b[0m\u001b[1;33m\u001b[0m\u001b[0m\n\u001b[0m\u001b[0;32m     56\u001b[0m         \u001b[1;32mfinally\u001b[0m\u001b[1;33m:\u001b[0m\u001b[1;33m\u001b[0m\u001b[0m\n\u001b[0;32m     57\u001b[0m             \u001b[1;32mif\u001b[0m \u001b[0martist\u001b[0m\u001b[1;33m.\u001b[0m\u001b[0mget_agg_filter\u001b[0m\u001b[1;33m(\u001b[0m\u001b[1;33m)\u001b[0m \u001b[1;32mis\u001b[0m \u001b[1;32mnot\u001b[0m \u001b[1;32mNone\u001b[0m\u001b[1;33m:\u001b[0m\u001b[1;33m\u001b[0m\u001b[0m\n",
          "\u001b[1;32mD:\\AnacondaPython\\lib\\site-packages\\matplotlib\\figure.py\u001b[0m in \u001b[0;36mdraw\u001b[1;34m(self, renderer)\u001b[0m\n\u001b[0;32m   1473\u001b[0m \u001b[1;33m\u001b[0m\u001b[0m\n\u001b[0;32m   1474\u001b[0m             mimage._draw_list_compositing_images(\n\u001b[1;32m-> 1475\u001b[1;33m                 renderer, self, artists, self.suppressComposite)\n\u001b[0m\u001b[0;32m   1476\u001b[0m \u001b[1;33m\u001b[0m\u001b[0m\n\u001b[0;32m   1477\u001b[0m             \u001b[0mrenderer\u001b[0m\u001b[1;33m.\u001b[0m\u001b[0mclose_group\u001b[0m\u001b[1;33m(\u001b[0m\u001b[1;34m'figure'\u001b[0m\u001b[1;33m)\u001b[0m\u001b[1;33m\u001b[0m\u001b[0m\n",
          "\u001b[1;32mD:\\AnacondaPython\\lib\\site-packages\\matplotlib\\image.py\u001b[0m in \u001b[0;36m_draw_list_compositing_images\u001b[1;34m(renderer, parent, artists, suppress_composite)\u001b[0m\n\u001b[0;32m    139\u001b[0m     \u001b[1;32mif\u001b[0m \u001b[0mnot_composite\u001b[0m \u001b[1;32mor\u001b[0m \u001b[1;32mnot\u001b[0m \u001b[0mhas_images\u001b[0m\u001b[1;33m:\u001b[0m\u001b[1;33m\u001b[0m\u001b[0m\n\u001b[0;32m    140\u001b[0m         \u001b[1;32mfor\u001b[0m \u001b[0ma\u001b[0m \u001b[1;32min\u001b[0m \u001b[0martists\u001b[0m\u001b[1;33m:\u001b[0m\u001b[1;33m\u001b[0m\u001b[0m\n\u001b[1;32m--> 141\u001b[1;33m             \u001b[0ma\u001b[0m\u001b[1;33m.\u001b[0m\u001b[0mdraw\u001b[0m\u001b[1;33m(\u001b[0m\u001b[0mrenderer\u001b[0m\u001b[1;33m)\u001b[0m\u001b[1;33m\u001b[0m\u001b[0m\n\u001b[0m\u001b[0;32m    142\u001b[0m     \u001b[1;32melse\u001b[0m\u001b[1;33m:\u001b[0m\u001b[1;33m\u001b[0m\u001b[0m\n\u001b[0;32m    143\u001b[0m         \u001b[1;31m# Composite any adjacent images together\u001b[0m\u001b[1;33m\u001b[0m\u001b[1;33m\u001b[0m\u001b[0m\n",
          "\u001b[1;32mD:\\AnacondaPython\\lib\\site-packages\\matplotlib\\artist.py\u001b[0m in \u001b[0;36mdraw_wrapper\u001b[1;34m(artist, renderer, *args, **kwargs)\u001b[0m\n\u001b[0;32m     53\u001b[0m                 \u001b[0mrenderer\u001b[0m\u001b[1;33m.\u001b[0m\u001b[0mstart_filter\u001b[0m\u001b[1;33m(\u001b[0m\u001b[1;33m)\u001b[0m\u001b[1;33m\u001b[0m\u001b[0m\n\u001b[0;32m     54\u001b[0m \u001b[1;33m\u001b[0m\u001b[0m\n\u001b[1;32m---> 55\u001b[1;33m             \u001b[1;32mreturn\u001b[0m \u001b[0mdraw\u001b[0m\u001b[1;33m(\u001b[0m\u001b[0martist\u001b[0m\u001b[1;33m,\u001b[0m \u001b[0mrenderer\u001b[0m\u001b[1;33m,\u001b[0m \u001b[1;33m*\u001b[0m\u001b[0margs\u001b[0m\u001b[1;33m,\u001b[0m \u001b[1;33m**\u001b[0m\u001b[0mkwargs\u001b[0m\u001b[1;33m)\u001b[0m\u001b[1;33m\u001b[0m\u001b[0m\n\u001b[0m\u001b[0;32m     56\u001b[0m         \u001b[1;32mfinally\u001b[0m\u001b[1;33m:\u001b[0m\u001b[1;33m\u001b[0m\u001b[0m\n\u001b[0;32m     57\u001b[0m             \u001b[1;32mif\u001b[0m \u001b[0martist\u001b[0m\u001b[1;33m.\u001b[0m\u001b[0mget_agg_filter\u001b[0m\u001b[1;33m(\u001b[0m\u001b[1;33m)\u001b[0m \u001b[1;32mis\u001b[0m \u001b[1;32mnot\u001b[0m \u001b[1;32mNone\u001b[0m\u001b[1;33m:\u001b[0m\u001b[1;33m\u001b[0m\u001b[0m\n",
          "\u001b[1;32mD:\\AnacondaPython\\lib\\site-packages\\matplotlib\\axes\\_base.py\u001b[0m in \u001b[0;36mdraw\u001b[1;34m(self, renderer, inframe)\u001b[0m\n\u001b[0;32m   2605\u001b[0m             \u001b[0mrenderer\u001b[0m\u001b[1;33m.\u001b[0m\u001b[0mstop_rasterizing\u001b[0m\u001b[1;33m(\u001b[0m\u001b[1;33m)\u001b[0m\u001b[1;33m\u001b[0m\u001b[0m\n\u001b[0;32m   2606\u001b[0m \u001b[1;33m\u001b[0m\u001b[0m\n\u001b[1;32m-> 2607\u001b[1;33m         \u001b[0mmimage\u001b[0m\u001b[1;33m.\u001b[0m\u001b[0m_draw_list_compositing_images\u001b[0m\u001b[1;33m(\u001b[0m\u001b[0mrenderer\u001b[0m\u001b[1;33m,\u001b[0m \u001b[0mself\u001b[0m\u001b[1;33m,\u001b[0m \u001b[0martists\u001b[0m\u001b[1;33m)\u001b[0m\u001b[1;33m\u001b[0m\u001b[0m\n\u001b[0m\u001b[0;32m   2608\u001b[0m \u001b[1;33m\u001b[0m\u001b[0m\n\u001b[0;32m   2609\u001b[0m         \u001b[0mrenderer\u001b[0m\u001b[1;33m.\u001b[0m\u001b[0mclose_group\u001b[0m\u001b[1;33m(\u001b[0m\u001b[1;34m'axes'\u001b[0m\u001b[1;33m)\u001b[0m\u001b[1;33m\u001b[0m\u001b[0m\n",
          "\u001b[1;32mD:\\AnacondaPython\\lib\\site-packages\\matplotlib\\image.py\u001b[0m in \u001b[0;36m_draw_list_compositing_images\u001b[1;34m(renderer, parent, artists, suppress_composite)\u001b[0m\n\u001b[0;32m    139\u001b[0m     \u001b[1;32mif\u001b[0m \u001b[0mnot_composite\u001b[0m \u001b[1;32mor\u001b[0m \u001b[1;32mnot\u001b[0m \u001b[0mhas_images\u001b[0m\u001b[1;33m:\u001b[0m\u001b[1;33m\u001b[0m\u001b[0m\n\u001b[0;32m    140\u001b[0m         \u001b[1;32mfor\u001b[0m \u001b[0ma\u001b[0m \u001b[1;32min\u001b[0m \u001b[0martists\u001b[0m\u001b[1;33m:\u001b[0m\u001b[1;33m\u001b[0m\u001b[0m\n\u001b[1;32m--> 141\u001b[1;33m             \u001b[0ma\u001b[0m\u001b[1;33m.\u001b[0m\u001b[0mdraw\u001b[0m\u001b[1;33m(\u001b[0m\u001b[0mrenderer\u001b[0m\u001b[1;33m)\u001b[0m\u001b[1;33m\u001b[0m\u001b[0m\n\u001b[0m\u001b[0;32m    142\u001b[0m     \u001b[1;32melse\u001b[0m\u001b[1;33m:\u001b[0m\u001b[1;33m\u001b[0m\u001b[0m\n\u001b[0;32m    143\u001b[0m         \u001b[1;31m# Composite any adjacent images together\u001b[0m\u001b[1;33m\u001b[0m\u001b[1;33m\u001b[0m\u001b[0m\n",
          "\u001b[1;32mD:\\AnacondaPython\\lib\\site-packages\\matplotlib\\artist.py\u001b[0m in \u001b[0;36mdraw_wrapper\u001b[1;34m(artist, renderer, *args, **kwargs)\u001b[0m\n\u001b[0;32m     53\u001b[0m                 \u001b[0mrenderer\u001b[0m\u001b[1;33m.\u001b[0m\u001b[0mstart_filter\u001b[0m\u001b[1;33m(\u001b[0m\u001b[1;33m)\u001b[0m\u001b[1;33m\u001b[0m\u001b[0m\n\u001b[0;32m     54\u001b[0m \u001b[1;33m\u001b[0m\u001b[0m\n\u001b[1;32m---> 55\u001b[1;33m             \u001b[1;32mreturn\u001b[0m \u001b[0mdraw\u001b[0m\u001b[1;33m(\u001b[0m\u001b[0martist\u001b[0m\u001b[1;33m,\u001b[0m \u001b[0mrenderer\u001b[0m\u001b[1;33m,\u001b[0m \u001b[1;33m*\u001b[0m\u001b[0margs\u001b[0m\u001b[1;33m,\u001b[0m \u001b[1;33m**\u001b[0m\u001b[0mkwargs\u001b[0m\u001b[1;33m)\u001b[0m\u001b[1;33m\u001b[0m\u001b[0m\n\u001b[0m\u001b[0;32m     56\u001b[0m         \u001b[1;32mfinally\u001b[0m\u001b[1;33m:\u001b[0m\u001b[1;33m\u001b[0m\u001b[0m\n\u001b[0;32m     57\u001b[0m             \u001b[1;32mif\u001b[0m \u001b[0martist\u001b[0m\u001b[1;33m.\u001b[0m\u001b[0mget_agg_filter\u001b[0m\u001b[1;33m(\u001b[0m\u001b[1;33m)\u001b[0m \u001b[1;32mis\u001b[0m \u001b[1;32mnot\u001b[0m \u001b[1;32mNone\u001b[0m\u001b[1;33m:\u001b[0m\u001b[1;33m\u001b[0m\u001b[0m\n",
          "\u001b[1;32mD:\\AnacondaPython\\lib\\site-packages\\matplotlib\\lines.py\u001b[0m in \u001b[0;36mdraw\u001b[1;34m(self, renderer)\u001b[0m\n\u001b[0;32m    736\u001b[0m \u001b[1;33m\u001b[0m\u001b[0m\n\u001b[0;32m    737\u001b[0m         \u001b[1;32mif\u001b[0m \u001b[0mself\u001b[0m\u001b[1;33m.\u001b[0m\u001b[0m_invalidy\u001b[0m \u001b[1;32mor\u001b[0m \u001b[0mself\u001b[0m\u001b[1;33m.\u001b[0m\u001b[0m_invalidx\u001b[0m\u001b[1;33m:\u001b[0m\u001b[1;33m\u001b[0m\u001b[0m\n\u001b[1;32m--> 738\u001b[1;33m             \u001b[0mself\u001b[0m\u001b[1;33m.\u001b[0m\u001b[0mrecache\u001b[0m\u001b[1;33m(\u001b[0m\u001b[1;33m)\u001b[0m\u001b[1;33m\u001b[0m\u001b[0m\n\u001b[0m\u001b[0;32m    739\u001b[0m         \u001b[0mself\u001b[0m\u001b[1;33m.\u001b[0m\u001b[0mind_offset\u001b[0m \u001b[1;33m=\u001b[0m \u001b[1;36m0\u001b[0m  \u001b[1;31m# Needed for contains() method.\u001b[0m\u001b[1;33m\u001b[0m\u001b[0m\n\u001b[0;32m    740\u001b[0m         \u001b[1;32mif\u001b[0m \u001b[0mself\u001b[0m\u001b[1;33m.\u001b[0m\u001b[0m_subslice\u001b[0m \u001b[1;32mand\u001b[0m \u001b[0mself\u001b[0m\u001b[1;33m.\u001b[0m\u001b[0maxes\u001b[0m\u001b[1;33m:\u001b[0m\u001b[1;33m\u001b[0m\u001b[0m\n",
          "\u001b[1;32mD:\\AnacondaPython\\lib\\site-packages\\matplotlib\\lines.py\u001b[0m in \u001b[0;36mrecache\u001b[1;34m(self, always)\u001b[0m\n\u001b[0;32m    659\u001b[0m             \u001b[0my\u001b[0m \u001b[1;33m=\u001b[0m \u001b[0mself\u001b[0m\u001b[1;33m.\u001b[0m\u001b[0m_y\u001b[0m\u001b[1;33m\u001b[0m\u001b[0m\n\u001b[0;32m    660\u001b[0m \u001b[1;33m\u001b[0m\u001b[0m\n\u001b[1;32m--> 661\u001b[1;33m         \u001b[0mself\u001b[0m\u001b[1;33m.\u001b[0m\u001b[0m_xy\u001b[0m \u001b[1;33m=\u001b[0m \u001b[0mnp\u001b[0m\u001b[1;33m.\u001b[0m\u001b[0mcolumn_stack\u001b[0m\u001b[1;33m(\u001b[0m\u001b[0mnp\u001b[0m\u001b[1;33m.\u001b[0m\u001b[0mbroadcast_arrays\u001b[0m\u001b[1;33m(\u001b[0m\u001b[0mx\u001b[0m\u001b[1;33m,\u001b[0m \u001b[0my\u001b[0m\u001b[1;33m)\u001b[0m\u001b[1;33m)\u001b[0m\u001b[1;33m.\u001b[0m\u001b[0mastype\u001b[0m\u001b[1;33m(\u001b[0m\u001b[0mfloat\u001b[0m\u001b[1;33m)\u001b[0m\u001b[1;33m\u001b[0m\u001b[0m\n\u001b[0m\u001b[0;32m    662\u001b[0m         \u001b[0mself\u001b[0m\u001b[1;33m.\u001b[0m\u001b[0m_x\u001b[0m\u001b[1;33m,\u001b[0m \u001b[0mself\u001b[0m\u001b[1;33m.\u001b[0m\u001b[0m_y\u001b[0m \u001b[1;33m=\u001b[0m \u001b[0mself\u001b[0m\u001b[1;33m.\u001b[0m\u001b[0m_xy\u001b[0m\u001b[1;33m.\u001b[0m\u001b[0mT\u001b[0m  \u001b[1;31m# views\u001b[0m\u001b[1;33m\u001b[0m\u001b[0m\n\u001b[0;32m    663\u001b[0m \u001b[1;33m\u001b[0m\u001b[0m\n",
          "\u001b[1;32mD:\\AnacondaPython\\lib\\site-packages\\numpy\\lib\\stride_tricks.py\u001b[0m in \u001b[0;36mbroadcast_arrays\u001b[1;34m(*args, **kwargs)\u001b[0m\n\u001b[0;32m    247\u001b[0m     \u001b[0margs\u001b[0m \u001b[1;33m=\u001b[0m \u001b[1;33m[\u001b[0m\u001b[0mnp\u001b[0m\u001b[1;33m.\u001b[0m\u001b[0marray\u001b[0m\u001b[1;33m(\u001b[0m\u001b[0m_m\u001b[0m\u001b[1;33m,\u001b[0m \u001b[0mcopy\u001b[0m\u001b[1;33m=\u001b[0m\u001b[1;32mFalse\u001b[0m\u001b[1;33m,\u001b[0m \u001b[0msubok\u001b[0m\u001b[1;33m=\u001b[0m\u001b[0msubok\u001b[0m\u001b[1;33m)\u001b[0m \u001b[1;32mfor\u001b[0m \u001b[0m_m\u001b[0m \u001b[1;32min\u001b[0m \u001b[0margs\u001b[0m\u001b[1;33m]\u001b[0m\u001b[1;33m\u001b[0m\u001b[0m\n\u001b[0;32m    248\u001b[0m \u001b[1;33m\u001b[0m\u001b[0m\n\u001b[1;32m--> 249\u001b[1;33m     \u001b[0mshape\u001b[0m \u001b[1;33m=\u001b[0m \u001b[0m_broadcast_shape\u001b[0m\u001b[1;33m(\u001b[0m\u001b[1;33m*\u001b[0m\u001b[0margs\u001b[0m\u001b[1;33m)\u001b[0m\u001b[1;33m\u001b[0m\u001b[0m\n\u001b[0m\u001b[0;32m    250\u001b[0m \u001b[1;33m\u001b[0m\u001b[0m\n\u001b[0;32m    251\u001b[0m     \u001b[1;32mif\u001b[0m \u001b[0mall\u001b[0m\u001b[1;33m(\u001b[0m\u001b[0marray\u001b[0m\u001b[1;33m.\u001b[0m\u001b[0mshape\u001b[0m \u001b[1;33m==\u001b[0m \u001b[0mshape\u001b[0m \u001b[1;32mfor\u001b[0m \u001b[0marray\u001b[0m \u001b[1;32min\u001b[0m \u001b[0margs\u001b[0m\u001b[1;33m)\u001b[0m\u001b[1;33m:\u001b[0m\u001b[1;33m\u001b[0m\u001b[0m\n",
          "\u001b[1;32mD:\\AnacondaPython\\lib\\site-packages\\numpy\\lib\\stride_tricks.py\u001b[0m in \u001b[0;36m_broadcast_shape\u001b[1;34m(*args)\u001b[0m\n\u001b[0;32m    182\u001b[0m     \u001b[1;31m# use the old-iterator because np.nditer does not handle size 0 arrays\u001b[0m\u001b[1;33m\u001b[0m\u001b[1;33m\u001b[0m\u001b[0m\n\u001b[0;32m    183\u001b[0m     \u001b[1;31m# consistently\u001b[0m\u001b[1;33m\u001b[0m\u001b[1;33m\u001b[0m\u001b[0m\n\u001b[1;32m--> 184\u001b[1;33m     \u001b[0mb\u001b[0m \u001b[1;33m=\u001b[0m \u001b[0mnp\u001b[0m\u001b[1;33m.\u001b[0m\u001b[0mbroadcast\u001b[0m\u001b[1;33m(\u001b[0m\u001b[1;33m*\u001b[0m\u001b[0margs\u001b[0m\u001b[1;33m[\u001b[0m\u001b[1;33m:\u001b[0m\u001b[1;36m32\u001b[0m\u001b[1;33m]\u001b[0m\u001b[1;33m)\u001b[0m\u001b[1;33m\u001b[0m\u001b[0m\n\u001b[0m\u001b[0;32m    185\u001b[0m     \u001b[1;31m# unfortunately, it cannot handle 32 or more arguments directly\u001b[0m\u001b[1;33m\u001b[0m\u001b[1;33m\u001b[0m\u001b[0m\n\u001b[0;32m    186\u001b[0m     \u001b[1;32mfor\u001b[0m \u001b[0mpos\u001b[0m \u001b[1;32min\u001b[0m \u001b[0mrange\u001b[0m\u001b[1;33m(\u001b[0m\u001b[1;36m32\u001b[0m\u001b[1;33m,\u001b[0m \u001b[0mlen\u001b[0m\u001b[1;33m(\u001b[0m\u001b[0margs\u001b[0m\u001b[1;33m)\u001b[0m\u001b[1;33m,\u001b[0m \u001b[1;36m31\u001b[0m\u001b[1;33m)\u001b[0m\u001b[1;33m:\u001b[0m\u001b[1;33m\u001b[0m\u001b[0m\n",
          "\u001b[1;31mValueError\u001b[0m: shape mismatch: objects cannot be broadcast to a single shape"
         ]
        }
       ]
      }
     },
     "e86768e9328d41cfa22413beca541b2c": {
      "model_module": "@jupyter-widgets/controls",
      "model_module_version": "1.2.0",
      "model_name": "VBoxModel",
      "state": {
       "_dom_classes": [
        "widget-interact"
       ],
       "children": [
        "IPY_MODEL_d78dd1d0b54c4b74a726492b2a2a604d",
        "IPY_MODEL_8e06532be93245bfbacff07a290ca942"
       ],
       "layout": "IPY_MODEL_5672975b89044743b598fafbd903c9a5"
      }
     },
     "e9b8750b3d454d90ae44b84b3030513f": {
      "model_module": "@jupyter-widgets/controls",
      "model_module_version": "1.2.0",
      "model_name": "FloatSliderModel",
      "state": {
       "description": "c",
       "layout": "IPY_MODEL_366c53a635bd4991b04517b907994c3a",
       "max": 10,
       "step": 0.001,
       "style": "IPY_MODEL_c7b5443d01634b54a4c503c0ebcf269a",
       "value": 1.484
      }
     },
     "eaca203d55214f29b511f0b6beefdeea": {
      "model_module": "@jupyter-widgets/base",
      "model_module_version": "1.0.0",
      "model_name": "LayoutModel",
      "state": {}
     },
     "ee61fe6bb7cc4467b89d5166de582ef1": {
      "model_module": "@jupyter-widgets/base",
      "model_module_version": "1.0.0",
      "model_name": "LayoutModel",
      "state": {}
     },
     "eff69bbfd6714e87905697839fe7a72f": {
      "model_module": "@jupyter-widgets/controls",
      "model_module_version": "1.2.0",
      "model_name": "FloatSliderModel",
      "state": {
       "description": "c",
       "layout": "IPY_MODEL_977a18f895e44b6a8e5a954b26ac8bd8",
       "max": 10,
       "step": 0.001,
       "style": "IPY_MODEL_44c1cbbbd7e24e859236ed112001946a"
      }
     },
     "f088397657384540a91a657371aeeb8f": {
      "model_module": "@jupyter-widgets/base",
      "model_module_version": "1.0.0",
      "model_name": "LayoutModel",
      "state": {}
     },
     "f3d3b3d340aa4812ba8a1ec0353cea8b": {
      "model_module": "@jupyter-widgets/controls",
      "model_module_version": "1.2.0",
      "model_name": "VBoxModel",
      "state": {
       "_dom_classes": [
        "widget-interact"
       ],
       "children": [
        "IPY_MODEL_84873ab241a14460acf0830fd76a555b",
        "IPY_MODEL_3fa277ecc4f745db91b92f366dbf09b0"
       ],
       "layout": "IPY_MODEL_9e93a5a01e6043c2846156f02df3712f"
      }
     },
     "f63e0dab60dd454f82141e96f0840c7e": {
      "model_module": "@jupyter-widgets/base",
      "model_module_version": "1.0.0",
      "model_name": "LayoutModel",
      "state": {}
     },
     "f8a2417584eb4aadac2fe6b4ae8cc819": {
      "model_module": "@jupyter-widgets/controls",
      "model_module_version": "1.2.0",
      "model_name": "SliderStyleModel",
      "state": {
       "description_width": ""
      }
     }
    },
    "version_major": 2,
    "version_minor": 0
   }
  }
 },
 "nbformat": 4,
 "nbformat_minor": 2
}
