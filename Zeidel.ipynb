{
 "cells": [
  {
   "cell_type": "markdown",
   "metadata": {},
   "source": [
    "# Это метод"
   ]
  },
  {
   "cell_type": "markdown",
   "metadata": {},
   "source": [
    "Но какой - не скажу."
   ]
  },
  {
   "cell_type": "code",
   "execution_count": 64,
   "metadata": {},
   "outputs": [
    {
     "data": {
      "text/plain": [
       "True"
      ]
     },
     "execution_count": 64,
     "metadata": {},
     "output_type": "execute_result"
    }
   ],
   "source": [
    "import numpy as np\n",
    "\n",
    "def gen_matrix(n):\n",
    "    r = np.random.RandomState(121)\n",
    "    A = r.rand(n,n)\n",
    "    b = r.rand(n)\n",
    "    return A, b\n",
    "    \n",
    "def metoda(A, b, eps = 1e-6):\n",
    "    n = b.size\n",
    "    old = np.zeros(n)\n",
    "    isclose = False\n",
    "    while (isclose == False):\n",
    "        new = np.copy(old)\n",
    "        for i in range(0,n):\n",
    "            new[i] = (1 / A[i][i]) * (b[i] - np.sum([A[i][j] * new[j] for j in range(i)]) - np.sum([A[i][j] * old[j] for j in range(i + 1, n)]))\n",
    "        if (np.linalg.norm(new-old)) < eps:\n",
    "            isclose = True\n",
    "        old = new\n",
    "\n",
    "    return new\n",
    "\n",
    "A, b = gen_matrix(4)\n",
    "\n",
    "np.allclose(metoda(A,b), np.linalg.solve(A, b))"
   ]
  },
  {
   "cell_type": "markdown",
   "metadata": {},
   "source": [
    "Хмммм... Что бы это могло значить..."
   ]
  },
  {
   "cell_type": "code",
   "execution_count": null,
   "metadata": {},
   "outputs": [],
   "source": []
  }
 ],
 "metadata": {
  "kernelspec": {
   "display_name": "Python 3",
   "language": "python",
   "name": "python3"
  },
  "language_info": {
   "codemirror_mode": {
    "name": "ipython",
    "version": 3
   },
   "file_extension": ".py",
   "mimetype": "text/x-python",
   "name": "python",
   "nbconvert_exporter": "python",
   "pygments_lexer": "ipython3",
   "version": "3.6.5"
  }
 },
 "nbformat": 4,
 "nbformat_minor": 2
}
