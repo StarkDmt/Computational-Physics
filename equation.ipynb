{
 "cells": [
  {
   "cell_type": "markdown",
   "metadata": {},
   "source": [
    "# Решение уравнения abs(sinx)=k*x"
   ]
  },
  {
   "cell_type": "code",
   "execution_count": 12,
   "metadata": {},
   "outputs": [
    {
     "name": "stdout",
     "output_type": "stream",
     "text": [
      "[0, 2.8523414012741064, 3.4990641061792207, 5.679207336455653, 7.068173010874025, 8.423205352472882]\n"
     ]
    }
   ],
   "source": [
    "import math\n",
    "import numpy\n",
    "import matplotlib\n",
    "import matplotlib.pyplot as plt\n",
    "\n",
    "k=0.1\n",
    "eps=10**(-6)\n",
    "\n",
    "def f(x):\n",
    "    return abs(math.sin(x)) - k * x\n",
    "\n",
    "left=(-1) * math.pi / 2\n",
    "right=0.0\n",
    "\n",
    "solutions=[0]\n",
    "\n",
    "while(k * left <= 1):\n",
    "    \n",
    "    left+=math.pi/2\n",
    "    right+=math.pi/2\n",
    "    \n",
    "    xleft=left\n",
    "    xright=right\n",
    " \n",
    "    if(f(xleft) * f(xright) < 0):\n",
    "        mid=(xleft + xright) / 2\n",
    "        while(abs(f(mid)) > eps):\n",
    "            mid=(xleft + xright) / 2\n",
    "            if(f(mid) * f(xleft) > 0):\n",
    "                xleft=mid\n",
    "            else:\n",
    "                xright=mid\n",
    "        \n",
    "        solutions.append(mid)\n",
    "\n",
    "print(solutions)\n"
   ]
  }
 ],
 "metadata": {
  "kernelspec": {
   "display_name": "Python 3",
   "language": "python",
   "name": "python3"
  },
  "language_info": {
   "codemirror_mode": {
    "name": "ipython",
    "version": 3
   },
   "file_extension": ".py",
   "mimetype": "text/x-python",
   "name": "python",
   "nbconvert_exporter": "python",
   "pygments_lexer": "ipython3",
   "version": "3.6.3"
  }
 },
 "nbformat": 4,
 "nbformat_minor": 2
}
