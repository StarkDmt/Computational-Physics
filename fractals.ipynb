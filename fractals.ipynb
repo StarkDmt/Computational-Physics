{
 "cells": [
  {
   "cell_type": "markdown",
   "metadata": {},
   "source": [
    "# Фракталы Ньютона"
   ]
  },
  {
   "cell_type": "code",
   "execution_count": 41,
   "metadata": {},
   "outputs": [
    {
     "data": {
      "image/png": "[encoded data removed]",
      "text/plain": [
       "<matplotlib.figure.Figure at 0x7ff6f04a6198>"
      ]
     },
     "metadata": {},
     "output_type": "display_data"
    }
   ],
   "source": [
    "import math\n",
    "import numpy\n",
    "import matplotlib\n",
    "import matplotlib.pyplot as plt\n",
    "\n",
    "h=0.001\n",
    "\n",
    "def f(x):\n",
    "    return x*x*x-1\n",
    "\n",
    "def der(x):\n",
    "    return 3*x*x\n",
    "\n",
    "def find_inter(x):\n",
    "    return (( der(x) * x - f(x)) / der(x))\n",
    "\n",
    "red_x=[]\n",
    "red_y=[]\n",
    "green_x=[]\n",
    "green_y=[]\n",
    "yellow_x=[]\n",
    "yellow_y=[]\n",
    "\n",
    "x=numpy.arange(-10,10,0.01)\n",
    "y=numpy.arange(-10,10,0.01)\n",
    "    \n",
    "for re in x:\n",
    "    for im in y:\n",
    "        z=find_inter(complex(re,im))\n",
    "        conv=0\n",
    "        \n",
    "        while (conv==0):\n",
    "            z=find_inter(z)\n",
    "         \n",
    "                \n",
    "            if ( abs(z.real - 1)<=h ):\n",
    "                conv=1\n",
    "                red_x.append(re)\n",
    "                red_y.append(im)\n",
    "            \n",
    "            if  ((abs(z.real + 0.500)<=h ) and (abs(z.imag-0.866) <= h) ):\n",
    "                conv=3\n",
    "                yellow_x.append(re)\n",
    "                yellow_y.append(im)\n",
    "                \n",
    "              \n",
    "            if  ((abs(z.real + 0.500)<=h ) and (abs(z.imag+0.866) <= h)):\n",
    "                conv=2\n",
    "                green_x.append(re)\n",
    "                green_y.append(im)\n",
    "            \n",
    "            \n",
    "\n",
    "               \n",
    "figure, graph = plt.subplots()\n",
    "graph.plot(red_x, red_y, 'r,')\n",
    "graph.plot(green_x, green_y, 'g,')\n",
    "graph.plot(yellow_x, yellow_y, 'y,')\n",
    "plt.show()\n",
    "\n",
    "    "
   ]
  },
  {
   "cell_type": "markdown",
   "metadata": {},
   "source": [
    "Красным обозначены точки комплексной плоскости, сходящиеся к (1,0), желтым - к e^(i*pi/3), зеленым - к e^(i*2*pi/3)"
   ]
  }
 ],
 "metadata": {
  "kernelspec": {
   "display_name": "Python 3",
   "language": "python",
   "name": "python3"
  },
  "language_info": {
   "codemirror_mode": {
    "name": "ipython",
    "version": 3
   },
   "file_extension": ".py",
   "mimetype": "text/x-python",
   "name": "python",
   "nbconvert_exporter": "python",
   "pygments_lexer": "ipython3",
   "version": "3.6.3"
  }
 },
 "nbformat": 4,
 "nbformat_minor": 2
}
