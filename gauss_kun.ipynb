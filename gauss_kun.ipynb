{
 "cells": [
  {
   "cell_type": "code",
   "execution_count": 9,
   "metadata": {},
   "outputs": [],
   "source": [
    "import numpy as np\n",
    "from scipy.special import roots_legendre"
   ]
  },
  {
   "cell_type": "markdown",
   "metadata": {},
   "source": [
    "# Гауссова Метода"
   ]
  },
  {
   "cell_type": "markdown",
   "metadata": {},
   "source": [
    "Считаем функцию и переводим область интегрирования в каноническую"
   ]
  },
  {
   "cell_type": "code",
   "execution_count": 10,
   "metadata": {},
   "outputs": [],
   "source": [
    "def f(x):\n",
    "    return (2 + np.cos(1 + np.sqrt(x))) / (np.sqrt(1 + 0.5 * x)) * np.exp(0.5 * x)\n",
    "\n",
    "def normalize (func, x, a, b):\n",
    "    return func( (2 * x - 3 * a + b)/( b - a) )\n"
   ]
  },
  {
   "cell_type": "markdown",
   "metadata": {},
   "source": [
    "Пользуемся методой и ищем оптимальное число узлов"
   ]
  },
  {
   "cell_type": "code",
   "execution_count": 11,
   "metadata": {},
   "outputs": [
    {
     "name": "stdout",
     "output_type": "stream",
     "text": [
      "Интеграл: 4.423242701839958\n",
      "n: 12\n"
     ]
    }
   ],
   "source": [
    "def integral_gauss (func, a, b, n):\n",
    "    roots, weights = roots_legendre(n)\n",
    "    return np.sum( normalize(f, roots, a, b) * weights)\n",
    "\n",
    "def integral_optimized(func, a, b, nstart = 1, rtol = 1e-5):\n",
    "    n = nstart\n",
    "    last = integral_gauss(func, a, b, n)\n",
    "    n +=1\n",
    "    new = integral_gauss(func, a, b, n)\n",
    "    while(np.abs( (new - last) / last) >= rtol):\n",
    "        n += 1\n",
    "        last = new\n",
    "        new = integral_gauss(func, a, b, n)\n",
    "    return new, n\n",
    "\n",
    "integral, n = integral_optimized(f, 0.0, 2.0, 1, 1e-5)\n",
    "print (\"Интеграл:\", integral)\n",
    "print(\"n:\", n)"
   ]
  },
  {
   "cell_type": "code",
   "execution_count": null,
   "metadata": {},
   "outputs": [],
   "source": []
  },
  {
   "cell_type": "code",
   "execution_count": null,
   "metadata": {},
   "outputs": [],
   "source": []
  }
 ],
 "metadata": {
  "kernelspec": {
   "display_name": "Python 3",
   "language": "python",
   "name": "python3"
  },
  "language_info": {
   "codemirror_mode": {
    "name": "ipython",
    "version": 3
   },
   "file_extension": ".py",
   "mimetype": "text/x-python",
   "name": "python",
   "nbconvert_exporter": "python",
   "pygments_lexer": "ipython3",
   "version": "3.6.5"
  }
 },
 "nbformat": 4,
 "nbformat_minor": 2
}
