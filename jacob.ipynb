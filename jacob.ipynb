{
 "cells": [
  {
   "cell_type": "markdown",
   "metadata": {},
   "source": [
    "# Якоби"
   ]
  },
  {
   "cell_type": "markdown",
   "metadata": {},
   "source": [
    "Наша сделка будет простой. Покажи пальцем на симметричную действительнозначную матрицу, а я разберу ее на собственные значения. Разумеется, без свидетелей и без лишнего шума. По рукам?"
   ]
  },
  {
   "cell_type": "code",
   "execution_count": 91,
   "metadata": {},
   "outputs": [],
   "source": [
    "import numpy as np\n",
    "\n",
    "def rotate (a, i, j, t):\n",
    "    n, q = np.shape(a)\n",
    "    res = np.diag(np.ones(n,))\n",
    "    res[i][i] = np.cos(t)\n",
    "    res[j][j] = np.cos(t)\n",
    "    res[i][j] = -np.sin(t)\n",
    "    res[j][i] = np.sin(t)\n",
    "    \n",
    "    return res @ a @ res.T\n",
    "def jacob (a, nsweeps = 4):\n",
    "    n, q = np.shape(a)\n",
    "    for z in range (0,nsweeps*n):\n",
    "        m = - np.inf\n",
    "        i = 0\n",
    "        j = 0\n",
    "        for s in range(0,n):\n",
    "            for q in range(s+1,n):\n",
    "              \n",
    "                 if(np.abs(a[s,q]) > m):\n",
    "                    i = s\n",
    "                    j = q\n",
    "                    m = np.abs(a[s,q])\n",
    "\n",
    "        if(a[j,j]==a[i,i]):\n",
    "            t = np.pi/4\n",
    "        else:\n",
    "            t = 1/2 * (np.arctan(2*a[i,j]/(a[j,j]-a[i,i])))\n",
    "        a = rotate(a, i, j, t)\n",
    "        a[i,j] = 0\n",
    "        a[j,i] = 0 \n",
    "        \n",
    "  \n",
    "       \n",
    "    v = {a[x,x] for x in range(0,n)}\n",
    "    return v\n"
   ]
  },
  {
   "cell_type": "markdown",
   "metadata": {},
   "source": [
    "Хочешь взглянуть, на что я способен?"
   ]
  },
  {
   "cell_type": "code",
   "execution_count": 92,
   "metadata": {},
   "outputs": [
    {
     "name": "stdout",
     "output_type": "stream",
     "text": [
      "[[2 1]\n",
      " [1 2]]\n",
      "{1.0000000000000002, 3.0000000000000004}\n"
     ]
    }
   ],
   "source": [
    "a = np.asarray((2, 1, 1, 2))\n",
    "a = np.reshape(a,(2,2))\n",
    "\n",
    "print(a)\n",
    "print(jacob(a))\n",
    "    "
   ]
  },
  {
   "cell_type": "markdown",
   "metadata": {},
   "source": [
    "Не впечатлен? Другой пример."
   ]
  },
  {
   "cell_type": "code",
   "execution_count": 93,
   "metadata": {},
   "outputs": [
    {
     "name": "stdout",
     "output_type": "stream",
     "text": [
      "[[5 1 2]\n",
      " [1 4 3]\n",
      " [2 3 1]]\n",
      "{3.658439943003212, -1.1016973093695381, 7.443257366366328}\n"
     ]
    }
   ],
   "source": [
    "a = np.asarray((5,1,2,1,4,3,2,3,1))\n",
    "a = np.reshape(a,(3,3))\n",
    "print(a)\n",
    "\n",
    "print(jacob(a))"
   ]
  },
  {
   "cell_type": "code",
   "execution_count": null,
   "metadata": {},
   "outputs": [],
   "source": []
  }
 ],
 "metadata": {
  "kernelspec": {
   "display_name": "Python 3",
   "language": "python",
   "name": "python3"
  },
  "language_info": {
   "codemirror_mode": {
    "name": "ipython",
    "version": 3
   },
   "file_extension": ".py",
   "mimetype": "text/x-python",
   "name": "python",
   "nbconvert_exporter": "python",
   "pygments_lexer": "ipython3",
   "version": "3.6.5"
  }
 },
 "nbformat": 4,
 "nbformat_minor": 2
}
