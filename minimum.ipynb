{
 "cells": [
  {
   "cell_type": "markdown",
   "metadata": {},
   "source": [
    "Определение минимума функции -cos(x) методом минимизации нулевого порядка"
   ]
  },
  {
   "cell_type": "code",
   "execution_count": 7,
   "metadata": {},
   "outputs": [
    {
     "name": "stdout",
     "output_type": "stream",
     "text": [
      "6.28318257501\n"
     ]
    }
   ],
   "source": [
    "import numpy as np\n",
    "\n",
    "left=np.pi\n",
    "right=3*np.pi\n",
    "precision=0.00001\n",
    "\n",
    "def f(x):\n",
    "    return (- 1) * np.cos(x)\n",
    "def find(a, b, eps):\n",
    "    g = ( 1 + np.sqrt(5) ) / 2\n",
    "    if (b - a) < eps:\n",
    "        return ( a + b ) / 2\n",
    "    dist = (b - a) / g\n",
    "    x1 = a + dist\n",
    "    x2 = b - dist\n",
    "    if (f(x1) < f(x2)):\n",
    "        return find(x2,b,eps)\n",
    "    else:\n",
    "        return find(a,x1,eps)\n",
    "\n",
    "print (find(left,right,precision))"
   ]
  }
 ],
 "metadata": {
  "kernelspec": {
   "display_name": "Python 3",
   "language": "python",
   "name": "python3"
  },
  "language_info": {
   "codemirror_mode": {
    "name": "ipython",
    "version": 3
   },
   "file_extension": ".py",
   "mimetype": "text/x-python",
   "name": "python",
   "nbconvert_exporter": "python",
   "pygments_lexer": "ipython3",
   "version": "3.6.4"
  }
 },
 "nbformat": 4,
 "nbformat_minor": 2
}
