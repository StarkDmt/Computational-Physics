{
 "cells": [
  {
   "cell_type": "markdown",
   "metadata": {},
   "source": [
    "Определение минимума методом параболической интерполяции"
   ]
  },
  {
   "cell_type": "code",
   "execution_count": 28,
   "metadata": {},
   "outputs": [],
   "source": [
    "import numpy as np\n",
    "\n",
    "left = -1\n",
    "right = 1\n",
    "middle = (left + right) / 2\n",
    "eps=0.0001\n",
    "\n",
    "def super_fast(x):\n",
    "    return np.exp(np.abs( (x-0.5) ** 3))\n",
    "def fast(x):\n",
    "    return ( x + 0.3 ) ** 2 + 10\n",
    "def slow(x):\n",
    "    return np.tan((x-0.05)**2)\n",
    "\n",
    "def find(f,left,last,right,eps):\n",
    "    mid=last\n",
    "    f1=f(left)\n",
    "    f2=f(mid)\n",
    "    f3=f(right)\n",
    "    minima = mid - ( ((mid - left) ** 2) * (f2 - f3) - ( (mid-right) ** 2 ) * (f2-  f1) ) / (2 * ((mid - left)*(f2 - f3) - (mid - right)*(f2-f1) ) )\n",
    "    if np.abs (minima - last) < eps:\n",
    "        return (minima + last) / 2 \n",
    "    else:\n",
    "        if( f(minima) < f(last) ):\n",
    "            return find(f,last,minima,right,eps)\n",
    "        else:\n",
    "            return find(f,left,last,minima,eps)"
   ]
  },
  {
   "cell_type": "markdown",
   "metadata": {},
   "source": [
    "Для быстро растущей функции exp(|x-0.5|^3)"
   ]
  },
  {
   "cell_type": "code",
   "execution_count": 29,
   "metadata": {},
   "outputs": [
    {
     "name": "stdout",
     "output_type": "stream",
     "text": [
      "0.5\n"
     ]
    }
   ],
   "source": [
    "print (find(super_fast,left,middle,right,eps))"
   ]
  },
  {
   "cell_type": "markdown",
   "metadata": {},
   "source": [
    "Для квадратичной функции (x + 0.3)^2 + 10"
   ]
  },
  {
   "cell_type": "code",
   "execution_count": 30,
   "metadata": {},
   "outputs": [
    {
     "name": "stdout",
     "output_type": "stream",
     "text": [
      "-0.29999999999999977\n"
     ]
    }
   ],
   "source": [
    "print (find(fast,left,middle,right,eps))"
   ]
  },
  {
   "cell_type": "markdown",
   "metadata": {},
   "source": [
    "Для очень пологой функции tan^2( (x-0.05) ^2)"
   ]
  },
  {
   "cell_type": "code",
   "execution_count": 31,
   "metadata": {},
   "outputs": [
    {
     "name": "stdout",
     "output_type": "stream",
     "text": [
      "0.0499999878848\n"
     ]
    }
   ],
   "source": [
    "print (find(slow,left,middle,right,eps))"
   ]
  }
 ],
 "metadata": {
  "kernelspec": {
   "display_name": "Python 3",
   "language": "python",
   "name": "python3"
  },
  "language_info": {
   "codemirror_mode": {
    "name": "ipython",
    "version": 3
   },
   "file_extension": ".py",
   "mimetype": "text/x-python",
   "name": "python",
   "nbconvert_exporter": "python",
   "pygments_lexer": "ipython3",
   "version": "3.6.4"
  }
 },
 "nbformat": 4,
 "nbformat_minor": 2
}
